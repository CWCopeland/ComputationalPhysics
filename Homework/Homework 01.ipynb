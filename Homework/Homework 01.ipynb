{
 "cells": [
  {
   "cell_type": "markdown",
   "metadata": {},
   "source": [
    "## Homework 1"
   ]
  },
  {
   "cell_type": "markdown",
   "metadata": {},
   "source": [
    "**Problem 1** : Newman textbook Exercise 2.1 “Ball dropped from tower”\n",
    "\n",
    " - Hint: Use the example from notebook 1 as a starting place."
   ]
  },
  {
   "cell_type": "code",
   "execution_count": null,
   "metadata": {
    "collapsed": true
   },
   "outputs": [],
   "source": []
  },
  {
   "cell_type": "markdown",
   "metadata": {},
   "source": [
    "**Problem 2**: Newman textbook Exercise 2.2: “Altitude of a Satellite”\n",
    "\n",
    "The following equations may be useful:\n",
    "\n",
    "- Gravitational force $F=\\frac{G M m}{r^2}$\n",
    "\n",
    "    - here $G$ is the universal gravitational constant, $M$ is the mass of the earth, $m$ is the mass of the satellite, and $r$ is the distance between the satellite and the center of the earth.\n",
    "\n",
    "\n",
    "- Newton's 2nd law $F=ma$\n",
    "\n",
    "    - here $F$ is the net force acting on the sattelite, $m$ is the mass of the sattelite, and $a$ is the acceleration of the sattelite \n",
    "\n",
    "\n",
    "- Radial acceleration $a=\\omega^2 r$\n",
    "\n",
    "    - here $a$ is the acceleration of the sattelite, $\\omega$ is the angular speed (radians per second) and $r$ is the distance between the sattelite and the center of the earth\n",
    "\n",
    "\n",
    "- Relationship between angular velocity and period: $\\omega = 2\\pi/T$\n",
    "\n",
    "    - here $T$ is the period (the time it takes for the satellite to make one complete revolution.\n",
    "\n",
    "\n",
    "Hints: \n",
    "1. Use the first three equations to solve for the angular velocity in terms of $G$, $M$, and $r$.\n",
    "2. Use the last equation to replace angular velocity with period\n",
    "3. Note that $r$ is the distance between the satellite and the center of the earth. We want to know the altitude h or the distance of the satellite above the surface. Therefore define $r = R + h$ where $R$ is the radius of the earth. Use this to replace $r$ in your formula.\n",
    "4. Solve for $h$\n"
   ]
  },
  {
   "cell_type": "code",
   "execution_count": null,
   "metadata": {
    "collapsed": true
   },
   "outputs": [],
   "source": []
  },
  {
   "cell_type": "code",
   "execution_count": null,
   "metadata": {
    "collapsed": true
   },
   "outputs": [],
   "source": []
  },
  {
   "cell_type": "code",
   "execution_count": null,
   "metadata": {
    "collapsed": true
   },
   "outputs": [],
   "source": []
  },
  {
   "cell_type": "markdown",
   "metadata": {},
   "source": [
    "**Problem 3**: Define a function which converts Fahrenheit to Celsius. Use this function to produce a conversion table with Fahrenheit in the first column and Celsius in the second. The table should include temperatures from -50 degrees to 120 degrees Fahrenheit and include only multiples of 5 degrees Fahrenheit (-10, -5, 0, 5 etc.)"
   ]
  },
  {
   "cell_type": "code",
   "execution_count": null,
   "metadata": {
    "collapsed": true
   },
   "outputs": [],
   "source": []
  },
  {
   "cell_type": "markdown",
   "metadata": {},
   "source": [
    "**Problem 4**: Write a function which tests if two 3-D vectors are perpendicular using the scalar product. In the code below I've defined 4 vectors using lists (where element 0 of the list is the x component of the vector, the element 1 is the y component etc.). Use your program to test if $A\\perp B$, $A\\perp C$, or $B\\perp C$.\n",
    "\n",
    "$\\vec{A}\\cdot\\vec{B} = A_x B_x + A_y B_y + A_z B_z = |\\vec{A}||\\vec{B}|\\cos\\theta$\n",
    "\n",
    "$|\\vec{A}| = \\sqrt{A_x^2+Z_y^2+A_z^2}$\n",
    "\n",
    "Hint: Cosine of 90 degrees is zero\n",
    "\n"
   ]
  },
  {
   "cell_type": "code",
   "execution_count": 40,
   "metadata": {
    "collapsed": true
   },
   "outputs": [],
   "source": [
    "A = [3, 6, 5]           # Vector A with x-component 3, y-comonent 6, z-component 5\n",
    "B = [-5, 7.25, -5.7]    # Vector B\n",
    "C = [-2.0, 5.5, -1.25]  # Vector C "
   ]
  },
  {
   "cell_type": "code",
   "execution_count": null,
   "metadata": {},
   "outputs": [],
   "source": []
  },
  {
   "cell_type": "code",
   "execution_count": null,
   "metadata": {
    "collapsed": true
   },
   "outputs": [],
   "source": []
  }
 ],
 "metadata": {
  "kernelspec": {
   "display_name": "Python 3",
   "language": "python",
   "name": "python3"
  },
  "language_info": {
   "codemirror_mode": {
    "name": "ipython",
    "version": 3
   },
   "file_extension": ".py",
   "mimetype": "text/x-python",
   "name": "python",
   "nbconvert_exporter": "python",
   "pygments_lexer": "ipython3",
   "version": "3.6.3"
  }
 },
 "nbformat": 4,
 "nbformat_minor": 2
}
