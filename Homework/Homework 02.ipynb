{
 "cells": [
  {
   "cell_type": "markdown",
   "metadata": {},
   "source": [
    "This mostly blank notebook is a starting place for you to work on homework 2. The homework 2 pdf can be found on Blackboard. \n",
    "\n",
    "Sunspot data can be found here:\n",
    "\n",
    "http://www-personal.umich.edu/~mejn/cp/data/sunspots.txt\n",
    "\n",
    "or here:\n",
    "\n",
    "https://github.com/jdolen/PurdueNorthwest_PHYS308_ScientificComputing1/blob/master/Data/sunspots.txt\n",
    "\n",
    "You can load the data with Numpy as follows:\n"
   ]
  },
  {
   "cell_type": "code",
   "execution_count": 2,
   "metadata": {},
   "outputs": [],
   "source": [
    "import numpy as np\n",
    "data = np.loadtxt(\"http://www-personal.umich.edu/~mejn/cp/data/stars.txt\",float)\n",
    "months = data[:,0] # number of months since January 1749\n",
    "Nspots = data[:,1] # number of sunspots in a given month"
   ]
  },
  {
   "cell_type": "code",
   "execution_count": 3,
   "metadata": {},
   "outputs": [
    {
     "name": "stdout",
     "output_type": "stream",
     "text": [
      "[15.73 17.01 15.86 15.98 16.73 10.19 16.56 17.99 15.   15.38]\n"
     ]
    }
   ],
   "source": [
    "print(Nspots[0:10])"
   ]
  },
  {
   "cell_type": "code",
   "execution_count": null,
   "metadata": {},
   "outputs": [],
   "source": []
  }
 ],
 "metadata": {
  "kernelspec": {
   "display_name": "Python 3",
   "language": "python",
   "name": "python3"
  },
  "language_info": {
   "codemirror_mode": {
    "name": "ipython",
    "version": 3
   },
   "file_extension": ".py",
   "mimetype": "text/x-python",
   "name": "python",
   "nbconvert_exporter": "python",
   "pygments_lexer": "ipython3",
   "version": "3.8.8"
  }
 },
 "nbformat": 4,
 "nbformat_minor": 2
}
