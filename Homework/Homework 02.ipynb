{
 "cells": [
  {
   "cell_type": "markdown",
   "metadata": {},
   "source": [
    "This mostly blank notebook is a starting place for you to work on homework 2. The homework 2 pdf can be found on Blackboard. \n",
    "\n",
    "Sunspot data can be found here:\n",
    "\n",
    "http://www-personal.umich.edu/~mejn/cp/data/sunspots.txt\n",
    "\n",
    "or here:\n",
    "\n",
    "https://github.com/jdolen/PurdueNorthwest_PHYS308_ScientificComputing1/blob/master/Data/sunspots.txt\n",
    "\n",
    "\n",
    "If you are using binder the file is already there. If you are using Jupyter on your laptop you will have to download the file and keep in in the same directory where your jupyter notebook is saved\n",
    "\n",
    "data = np.loadtxt(\"sunspots.txt\",float) \n",
    "\n",
    "or in a subdirectory\n",
    "\n",
    "data = np.loadtxt(\"Data/sunspots.txt\",float) \n"
   ]
  },
  {
   "cell_type": "code",
   "execution_count": null,
   "metadata": {
    "collapsed": true
   },
   "outputs": [],
   "source": []
  }
 ],
 "metadata": {
  "kernelspec": {
   "display_name": "Python 3",
   "language": "python",
   "name": "python3"
  },
  "language_info": {
   "codemirror_mode": {
    "name": "ipython",
    "version": 3
   },
   "file_extension": ".py",
   "mimetype": "text/x-python",
   "name": "python",
   "nbconvert_exporter": "python",
   "pygments_lexer": "ipython3",
   "version": "3.6.3"
  }
 },
 "nbformat": 4,
 "nbformat_minor": 2
}
