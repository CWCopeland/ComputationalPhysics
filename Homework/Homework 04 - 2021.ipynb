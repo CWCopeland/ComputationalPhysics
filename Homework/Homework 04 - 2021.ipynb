{
 "cells": [
  {
   "cell_type": "markdown",
   "metadata": {},
   "source": [
    "#### Problem 1 - Estimating the value of pi\n",
    "\n",
    "Estimate the value of pi using a Monte Carlo method. The equation for a circle with radius=1 is $x^2+y^2 = 1$. If we randomly pick an x-value and a y-value between -1 and 1 there is some probability that the (x,y) point will be located within that circle ($x^2+y^2 \\le 1$) and some probability it will lie outside of that circle. If we randomly pick thousands of points we can measure the ratio of points which lie inside the circle to the total number of points. All of the points will lie within a square with corners (1,1), (1,-1), (-1,-1), (-1,1) which corresponds to s square with sides of length 2. Therefore we know the area of the square to be 4. If we multiple the ratio of points within the circle by the area of the square, we will estimate the area of the circle. The area of our circle should be $\\pi r^2 = \\pi (1)^2 = \\pi$, so in doing so we will be estimating the value of pi.\n",
    "\n",
    "<img src=\"https://github.com/jdolen/PurdueNorthwest_PHYS308_ScientificComputing1/raw/master/Homework/MonteCarloIntegration.png\">\n",
    "\n",
    "\n",
    "1. Write code which randomly generates 10000 (x,y) points in order to estiatmate the area of a circle as described above.\n",
    "\n",
    "2. For each iteration n (for each randomly generated point) estimate your current value of pi and append this value to a list. Plot this estimated value of pi vs n. Also plot a line corresponding to the known value of pi. You should see that as n increases your estimate approaches the known value of pi.\n",
    "\n",
    "3. Track the position of each randomly generated point by appending each x and y value to two lists. Also track the position of each point which lies within the circle. Draw each point in order to recreate the plot shown above.\n",
    "\n"
   ]
  },
  {
   "cell_type": "code",
   "execution_count": null,
   "metadata": {
    "collapsed": true
   },
   "outputs": [],
   "source": []
  },
  {
   "cell_type": "markdown",
   "metadata": {},
   "source": [
    "#### Problem 2: Simulating a 2-D random walk\n",
    "\n",
    "Start at the position (0,0). Iterate through n steps. For each step randomly choose to step left, right, up, or down. \n",
    "\n",
    "1. Track your x and y position after each step and use matplotlib step() to plot your path as a function of time.\n",
    "\n",
    "2. After n steps calculate your distance from the origin using the formula $r=\\sqrt{x^2+y^2}$. \n",
    "\n",
    "3. Include in your code the ability to complete many trials (for example you can take n steps 100 times). Make a histogram plot showing the the distance from the origin r for each trial. Calculate the average distance from the origin for all trials.\n",
    "\n",
    "4. Make a plot of the average distance from the origin after n steps and m trials as a function of n."
   ]
  },
  {
   "cell_type": "code",
   "execution_count": null,
   "metadata": {
    "collapsed": true
   },
   "outputs": [],
   "source": []
  }
 ],
 "metadata": {
  "kernelspec": {
   "display_name": "Python 3",
   "language": "python",
   "name": "python3"
  },
  "language_info": {
   "codemirror_mode": {
    "name": "ipython",
    "version": 3
   },
   "file_extension": ".py",
   "mimetype": "text/x-python",
   "name": "python",
   "nbconvert_exporter": "python",
   "pygments_lexer": "ipython3",
   "version": "3.8.8"
  }
 },
 "nbformat": 4,
 "nbformat_minor": 2
}
