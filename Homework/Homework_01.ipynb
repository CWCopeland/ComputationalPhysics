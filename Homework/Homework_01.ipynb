{
  "cells": [
    {
      "cell_type": "markdown",
      "metadata": {
        "id": "UC274jPL-ZcD"
      },
      "source": [
        "## Homework 1 - Learning Python\n"
      ]
    },
    {
      "cell_type": "markdown",
      "metadata": {
        "id": "jF290SKC-ZcF"
      },
      "source": [
        "Please copy this notebook to your google drive then answer the problems below. When you are done, share the notebook with me by posting the link in Brightspace (**please make sure you share the notebook with General Access \"anyone who has the link\"**). If you prefer, you can also work in Jupyter and send me the ipynb file."
      ]
    },
    {
      "cell_type": "markdown",
      "source": [
        "**Problem 1**: Newman textbook Exercise 2.2: “Altitude of a Satellite” parts (b), (c), and (d).\n",
        "\n",
        "A scan of the problem can be found here:\n",
        "<img src=\"https://raw.githubusercontent.com/jdolen/PurdueNorthwest_PHYS308_ScientificComputing1/master/Homework/Problem_Images/Newman_Chapter_2_Problem_2.jpg\">\n"
      ],
      "metadata": {
        "id": "Z1a_0H_aBaZJ"
      }
    },
    {
      "cell_type": "markdown",
      "metadata": {
        "id": "cgBU5Ccp-ZcF"
      },
      "source": [
        "\n",
        "\n",
        "A quick demo of part (a): (click on this box in jupyter to learn some LaTeX)!\n",
        "\n",
        "Use Newton's Laws and our definition of radial acceleration:\n",
        "\n",
        "$F= \\frac{GmM}{r^2} = ma = \\frac{mv^2}{r}$\n",
        "\n",
        "Solve for the velocity of the satellite:\n",
        "$v = \\sqrt{\\frac{GM}{r}}$\n",
        "\n",
        "Time = distance / velocity → Period = circumference  / velocity\n",
        "\n",
        "$T = \\frac{2\\pi r}{\\sqrt{\\frac{GM}{r}}}$\n",
        "\n",
        "Solve for r\n",
        "\n",
        "$r = \\Big(\\frac{GMT^2}{4\\pi^2}\\Big)^{1/3}$\n",
        "\n",
        "Radius of orbit = Radius of Earth + altitude\n",
        "\n",
        "$r = r+h$\n",
        "\n",
        "$h = \\Big(\\frac{GMT^2}{4\\pi^2}\\Big)^{1/3} - R$"
      ]
    },
    {
      "cell_type": "code",
      "execution_count": null,
      "metadata": {
        "collapsed": true,
        "id": "e3MvHuyk-ZcG"
      },
      "outputs": [],
      "source": []
    },
    {
      "cell_type": "code",
      "execution_count": null,
      "metadata": {
        "collapsed": true,
        "id": "kuEh3GA8-ZcG"
      },
      "outputs": [],
      "source": []
    },
    {
      "cell_type": "code",
      "execution_count": null,
      "metadata": {
        "collapsed": true,
        "id": "wySbwhc3-ZcG"
      },
      "outputs": [],
      "source": []
    },
    {
      "cell_type": "markdown",
      "metadata": {
        "id": "iwHJYp-J-ZcG"
      },
      "source": [
        "**Problem 2**: Define a function which converts Fahrenheit to Celsius. Use this function to produce a conversion table with Fahrenheit in the first column and Celsius in the second. The table should include temperatures from -50 degrees to 120 degrees Fahrenheit and include only multiples of 5 degrees Fahrenheit (-10, -5, 0, 5 etc.). Use string formatting (Notebook 03) to print the numbers with padding so that there are two well aligned columns of numbers."
      ]
    },
    {
      "cell_type": "code",
      "execution_count": null,
      "metadata": {
        "collapsed": true,
        "id": "ofgpSAgH-ZcH"
      },
      "outputs": [],
      "source": []
    },
    {
      "cell_type": "markdown",
      "metadata": {
        "id": "zu5ZZSPX-ZcH"
      },
      "source": [
        "**Problem 3**: Write a function which tests if two 3-D vectors are perpendicular using the scalar product. In the code below I've defined 4 vectors using lists (where element 0 of the list is the x component of the vector, the element 1 is the y component etc.). Use your program to test if $A\\perp B$, $A\\perp C$, or $B\\perp C$.\n",
        "\n",
        "Hint: Cosine of 90 degrees is zero\n",
        "\n",
        "Equations:\n",
        "\n",
        "$\\vec{A}\\cdot\\vec{B} = A_x B_x + A_y B_y + A_z B_z = |\\vec{A}||\\vec{B}|\\cos\\theta$\n",
        "\n",
        "$|\\vec{A}| = \\sqrt{A_x^2+A_y^2+A_z^2}$"
      ]
    },
    {
      "cell_type": "code",
      "execution_count": null,
      "metadata": {
        "collapsed": true,
        "id": "ike1f_Ds-ZcH"
      },
      "outputs": [],
      "source": [
        "A = [3, 6, 5]           # Vector A with x-component 3, y-comonent 6, z-component 5\n",
        "B = [-5, 7.25, -5.7]    # Vector B\n",
        "C = [-2.0, 5.5, -1.25]  # Vector C"
      ]
    },
    {
      "cell_type": "code",
      "execution_count": null,
      "metadata": {
        "id": "Zbqhmb0v-ZcI"
      },
      "outputs": [],
      "source": []
    },
    {
      "cell_type": "markdown",
      "metadata": {
        "collapsed": true,
        "id": "w2CmYDA--ZcI"
      },
      "source": [
        "**Problem 4**: Newman textbook Exercise 2.7\n",
        "\n",
        "Please see here:\n",
        "\n",
        "<img src=\"https://raw.githubusercontent.com/jdolen/PurdueNorthwest_PHYS308_ScientificComputing1/master/Homework/Problem_Images/Newman_Chapter_2_Problem_7.jpeg\">"
      ]
    },
    {
      "cell_type": "code",
      "execution_count": null,
      "metadata": {
        "id": "_nZcIkAC-ZcI"
      },
      "outputs": [],
      "source": []
    }
  ],
  "metadata": {
    "kernelspec": {
      "display_name": "Python 3",
      "language": "python",
      "name": "python3"
    },
    "language_info": {
      "codemirror_mode": {
        "name": "ipython",
        "version": 3
      },
      "file_extension": ".py",
      "mimetype": "text/x-python",
      "name": "python",
      "nbconvert_exporter": "python",
      "pygments_lexer": "ipython3",
      "version": "3.8.8"
    },
    "colab": {
      "provenance": []
    }
  },
  "nbformat": 4,
  "nbformat_minor": 0
}