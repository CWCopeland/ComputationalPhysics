{
 "cells": [
  {
   "cell_type": "markdown",
   "metadata": {
    "id": "Z1a_0H_aBaZJ"
   },
   "source": [
    "## Homework 1 - Learning Python\n",
    "\n",
    "### Problem 1:\n",
    "\n",
    "A satellite is to be launched into a circular orbit around the Earth so that it orbits the planet once every $T$ seconds.  \n",
    "\n",
    "a) Show that the altitude $h$ above the Earth’s surface that the satellite must orbit at is $h=\\left(GMT^2/4\\pi^2\\right)^{1/3} - R,$\n",
    "where $G = 6.6710\\times10^{−11}~\\mathrm{m}^3 \\mathrm{kg}^{−1} \\mathrm{s}^{−2}$ is Newton’s gravitational constant, $M = 5.97\\times10^{24}~\\mathrm{kg}$ is the mass of the Earth, and $R = 6371~\\mathrm{km}$ is its radius. "
   ]
  },
  {
   "cell_type": "markdown",
   "metadata": {
    "id": "cgBU5Ccp-ZcF"
   },
   "source": []
  },
  {
   "cell_type": "markdown",
   "metadata": {},
   "source": [
    "b) Write a function that asks the user to enter the desired value of $T$ (in units of minutes) and then calculates and\n",
    "prints out the correct altitude (in meters)."
   ]
  },
  {
   "cell_type": "code",
   "execution_count": null,
   "metadata": {
    "id": "e3MvHuyk-ZcG",
    "tags": []
   },
   "outputs": [],
   "source": []
  },
  {
   "cell_type": "markdown",
   "metadata": {},
   "source": [
    "c) Use your function to calculate the altitude of satellites that orbit the Earth once a day (so-called “geosynchronous” orbit), once every 90 minutes, and once every 45 minutes. What do you conclude from the last of these calculations?"
   ]
  },
  {
   "cell_type": "code",
   "execution_count": null,
   "metadata": {
    "id": "kuEh3GA8-ZcG",
    "tags": []
   },
   "outputs": [],
   "source": []
  },
  {
   "cell_type": "markdown",
   "metadata": {},
   "source": [
    "Since the altitude for a satelite with a period of 45 minutes is negative, we can conclude that it is imposible for a satellite to have such a short period."
   ]
  },
  {
   "cell_type": "markdown",
   "metadata": {},
   "source": [
    "d) Technically, a geosynchronous satellite is one that orbits the Earth once per sidereal day, which is 23.93 hours, not 24 hours. And how much difference will it make to the altitude of the satellite?"
   ]
  },
  {
   "cell_type": "code",
   "execution_count": null,
   "metadata": {
    "id": "wySbwhc3-ZcG",
    "tags": []
   },
   "outputs": [],
   "source": []
  },
  {
   "cell_type": "markdown",
   "metadata": {
    "id": "iwHJYp-J-ZcG"
   },
   "source": [
    "### Problem 2: \n",
    "\n",
    "Define a function which converts Fahrenheit to Celsius. Use this function to produce a conversion table with Fahrenheit in the first column and Celsius in the second. The table should include temperatures from -50 degrees to 120 degrees Fahrenheit and include only multiples of 5 degrees Fahrenheit (-10, -5, 0, 5 etc.). Use string formatting to print the numbers with padding so that there are two well aligned columns of numbers.  Use no more than 2 decimal places."
   ]
  },
  {
   "cell_type": "code",
   "execution_count": null,
   "metadata": {
    "id": "ofgpSAgH-ZcH",
    "tags": []
   },
   "outputs": [],
   "source": []
  },
  {
   "cell_type": "markdown",
   "metadata": {
    "id": "zu5ZZSPX-ZcH"
   },
   "source": [
    "### Problem 3\n",
    "\n",
    "Write a function which tests if two 3D vectors are perpendicular using the scalar product. In the code below, I've defined 3 vectors using lists (where element 0 of the list is the $x$ component of the vector, element 1 is the $y$ component, and element 2 is the $z$ component). Among the 3 possible pairings of these vectors, which are perpendicular to one another?\n",
    "\n",
    "Hint: $\\vec{A}\\cdot\\vec{B} = A_x B_x + A_y B_y + A_z B_z = |\\vec{A}||\\vec{B}|\\cos\\theta$"
   ]
  },
  {
   "cell_type": "code",
   "execution_count": 1,
   "metadata": {
    "id": "ike1f_Ds-ZcH",
    "tags": []
   },
   "outputs": [],
   "source": [
    "A = [3, 6, 5]           # Vector A with x-component 3, y-comonent 6, z-component 5\n",
    "B = [-5, 7.25, -5.7]    # Vector B\n",
    "C = [-2.0, 5.5, -1.25]  # Vector C"
   ]
  },
  {
   "cell_type": "code",
   "execution_count": null,
   "metadata": {
    "id": "Zbqhmb0v-ZcI"
   },
   "outputs": [],
   "source": []
  },
  {
   "cell_type": "markdown",
   "metadata": {
    "id": "w2CmYDA--ZcI"
   },
   "source": [
    "### Problem 4:\n",
    "\n",
    "The Catalan numbers $C_n$ are a sequence of integers 1, 1, 2, 5, 14, 42, 132, ... that play an important role in quantum mechanics and the theory of disordered systems. They are given by $C_0 = 1$ and\n",
    "\\begin{equation}\n",
    "C_{n+1} = \\frac{4n + 2}{n+2}C_n.\n",
    "\\end{equation}\n",
    "\n",
    "Print all Catalan numbers less than or equal to one billion, in increasing order."
   ]
  },
  {
   "cell_type": "code",
   "execution_count": null,
   "metadata": {
    "id": "_nZcIkAC-ZcI"
   },
   "outputs": [],
   "source": []
  }
 ],
 "metadata": {
  "colab": {
   "provenance": []
  },
  "kernelspec": {
   "display_name": "Python 3 (ipykernel)",
   "language": "python",
   "name": "python3"
  },
  "language_info": {
   "codemirror_mode": {
    "name": "ipython",
    "version": 3
   },
   "file_extension": ".py",
   "mimetype": "text/x-python",
   "name": "python",
   "nbconvert_exporter": "python",
   "pygments_lexer": "ipython3",
   "version": "3.7.12"
  }
 },
 "nbformat": 4,
 "nbformat_minor": 4
}
