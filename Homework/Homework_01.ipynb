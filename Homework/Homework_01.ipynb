{
 "cells": [
  {
   "cell_type": "markdown",
   "metadata": {
    "id": "Z1a_0H_aBaZJ"
   },
   "source": [
    "## Homework 1 - Learning Python\n",
    "\n",
    "### Problem 1:\n",
    "\n",
    "<img src=\"https://raw.githubusercontent.com/jstupak/ComputationalPhysics/master/Homework/Problem_Images/Newman_Chapter_2_Problem_2.jpg\">"
   ]
  },
  {
   "cell_type": "markdown",
   "metadata": {},
   "source": [
    "a)"
   ]
  },
  {
   "cell_type": "markdown",
   "metadata": {
    "id": "cgBU5Ccp-ZcF"
   },
   "source": []
  },
  {
   "cell_type": "markdown",
   "metadata": {},
   "source": [
    "b)"
   ]
  },
  {
   "cell_type": "code",
   "execution_count": null,
   "metadata": {
    "id": "e3MvHuyk-ZcG",
    "tags": []
   },
   "outputs": [],
   "source": []
  },
  {
   "cell_type": "markdown",
   "metadata": {},
   "source": [
    "c)"
   ]
  },
  {
   "cell_type": "code",
   "execution_count": null,
   "metadata": {
    "id": "kuEh3GA8-ZcG",
    "tags": []
   },
   "outputs": [],
   "source": []
  },
  {
   "cell_type": "markdown",
   "metadata": {},
   "source": [
    "d)"
   ]
  },
  {
   "cell_type": "code",
   "execution_count": null,
   "metadata": {
    "id": "wySbwhc3-ZcG",
    "tags": []
   },
   "outputs": [],
   "source": []
  },
  {
   "cell_type": "markdown",
   "metadata": {
    "id": "iwHJYp-J-ZcG"
   },
   "source": [
    "### Problem 2: \n",
    "\n",
    "Define a function which converts Fahrenheit to Celsius. Use this function to produce a conversion table with Fahrenheit in the first column and Celsius in the second. The table should include temperatures from -50 degrees to 120 degrees Fahrenheit and include only multiples of 5 degrees Fahrenheit (-10, -5, 0, 5 etc.). Use string formatting to print the numbers with padding so that there are two well aligned columns of numbers."
   ]
  },
  {
   "cell_type": "code",
   "execution_count": null,
   "metadata": {
    "id": "ofgpSAgH-ZcH",
    "tags": []
   },
   "outputs": [],
   "source": []
  },
  {
   "cell_type": "markdown",
   "metadata": {
    "id": "zu5ZZSPX-ZcH"
   },
   "source": [
    "### Problem 3\n",
    "\n",
    "Write a function which tests if two 3D vectors are perpendicular using the scalar product. In the code below I've defined 3 vectors using lists (where element 0 of the list is the $x$ component of the vector, element 1 is the $y$ component, and element 2 is the $z$ component). Among the 3 possible pairings of these vectors, which are perpendicular to one another?\n",
    "\n",
    "Hint: $\\vec{A}\\cdot\\vec{B} = A_x B_x + A_y B_y + A_z B_z = |\\vec{A}||\\vec{B}|\\cos\\theta$"
   ]
  },
  {
   "cell_type": "code",
   "execution_count": 3,
   "metadata": {
    "id": "ike1f_Ds-ZcH",
    "tags": []
   },
   "outputs": [],
   "source": [
    "A = [3, 6, 5]           # Vector A with x-component 3, y-comonent 6, z-component 5\n",
    "B = [-5, 7.25, -5.7]    # Vector B\n",
    "C = [-2.0, 5.5, -1.25]  # Vector C"
   ]
  },
  {
   "cell_type": "code",
   "execution_count": null,
   "metadata": {
    "id": "Zbqhmb0v-ZcI"
   },
   "outputs": [],
   "source": []
  },
  {
   "cell_type": "markdown",
   "metadata": {
    "id": "w2CmYDA--ZcI"
   },
   "source": [
    "### Problem 4:\n",
    "\n",
    "<img src=\"https://raw.githubusercontent.com/jstupak/ComputationalPhysics/master/Images/Newman_Chapter_2_Problem_7.jpeg\">"
   ]
  },
  {
   "cell_type": "code",
   "execution_count": null,
   "metadata": {
    "id": "_nZcIkAC-ZcI"
   },
   "outputs": [],
   "source": []
  }
 ],
 "metadata": {
  "colab": {
   "provenance": []
  },
  "kernelspec": {
   "display_name": "Python 3 (ipykernel)",
   "language": "python",
   "name": "python3"
  },
  "language_info": {
   "codemirror_mode": {
    "name": "ipython",
    "version": 3
   },
   "file_extension": ".py",
   "mimetype": "text/x-python",
   "name": "python",
   "nbconvert_exporter": "python",
   "pygments_lexer": "ipython3",
   "version": "3.7.12"
  }
 },
 "nbformat": 4,
 "nbformat_minor": 4
}
