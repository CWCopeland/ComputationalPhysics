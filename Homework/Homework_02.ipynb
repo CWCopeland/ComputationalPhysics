{
 "cells": [
  {
   "cell_type": "markdown",
   "metadata": {
    "id": "ZjSnC5rkL9B1"
   },
   "source": [
    "## Homework 2 - Sunspot data"
   ]
  },
  {
   "cell_type": "markdown",
   "metadata": {
    "id": "NqaAyCm5-ZjS"
   },
   "source": [
    "In the `Data` directory of this repository, you will find a file called `sunspots.txt`, which contains the observed number of sunspots on the Sun for each month since January 1749. The file contains two columns of numbers, the first being the month and the second being the sunspot multiplicity for that month.\n",
    "\n",
    "a) Write a program that reads in the data and makes a graph of sunspot multiplicity as a function of time."
   ]
  },
  {
   "cell_type": "code",
   "execution_count": null,
   "metadata": {
    "id": "NqaAyCm5-ZjS",
    "tags": []
   },
   "outputs": [],
   "source": []
  },
  {
   "cell_type": "markdown",
   "metadata": {
    "id": "NqaAyCm5-ZjS"
   },
   "source": [
    "b) Modify your program to display only 1000 data points on the graph (avoid the first and last 5 data points)."
   ]
  },
  {
   "cell_type": "code",
   "execution_count": null,
   "metadata": {
    "id": "NqaAyCm5-ZjS",
    "tags": []
   },
   "outputs": [],
   "source": []
  },
  {
   "cell_type": "markdown",
   "metadata": {
    "id": "NqaAyCm5-ZjS"
   },
   "source": [
    "c) Modify your program further to calculate and plot the running average of the data, defined by\n",
    "$$Y_k=\\frac{1}{2r+1}\\sum_{m=-r}^r y_{k+m}$$\n",
    "where $r = 5$ in this case (and the $y_k$ are the sunspot multiplicities). Plot both the original data and the running average on the same graph, again over the same 1000 data points.  Be sure to include a legend."
   ]
  },
  {
   "cell_type": "code",
   "execution_count": null,
   "metadata": {
    "id": "H0rjmi5F-ZjV"
   },
   "outputs": [],
   "source": []
  }
 ],
 "metadata": {
  "colab": {
   "provenance": []
  },
  "kernelspec": {
   "display_name": "Python 3 (ipykernel)",
   "language": "python",
   "name": "python3"
  },
  "language_info": {
   "codemirror_mode": {
    "name": "ipython",
    "version": 3
   },
   "file_extension": ".py",
   "mimetype": "text/x-python",
   "name": "python",
   "nbconvert_exporter": "python",
   "pygments_lexer": "ipython3",
   "version": "3.7.12"
  }
 },
 "nbformat": 4,
 "nbformat_minor": 4
}
