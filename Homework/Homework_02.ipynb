{
  "cells": [
    {
      "cell_type": "markdown",
      "source": [
        "## Homework 2 - Sunspot data - Calculating a moving average using numpy"
      ],
      "metadata": {
        "id": "ZjSnC5rkL9B1"
      }
    },
    {
      "cell_type": "markdown",
      "metadata": {
        "id": "NqaAyCm5-ZjS"
      },
      "source": [
        "This mostly blank notebook is a starting place for you to work on homework 2.\n",
        "\n",
        "The homework 2 problem statement (Newman 3.1) can be found in the link below. I also include some introductory information to help get you started:\n",
        "https://github.com/jstupak/ComputationalPhysics/blob/master/Homework/Homework_02_Information.pdf\n",
        "\n",
        "Sunspot data can be found here:\n",
        "\n",
        "http://www-personal.umich.edu/~mejn/cp/data/sunspots.txt\n",
        "\n",
        "or here:\n",
        "\n",
        "https://github.com/jstupak/ComputationalPhysics/blob/master/Data/sunspots.txt\n",
        "\n",
        "You can load the data with Numpy as follows:\n"
      ]
    },
    {
      "cell_type": "code",
      "execution_count": 1,
      "metadata": {
        "id": "xf7cJibd-ZjU"
      },
      "outputs": [],
      "source": [
        "import numpy as np\n",
        "data = np.loadtxt(\"http://www-personal.umich.edu/~mejn/cp/data/stars.txt\",float)\n",
        "months = data[:,0] # number of months since January 1749\n",
        "Nspots = data[:,1] # number of sunspots in a given month"
      ]
    },
    {
      "cell_type": "code",
      "execution_count": 2,
      "metadata": {
        "id": "S43e2nIu-ZjU",
        "outputId": "9e5bcef6-1851-4142-af89-465e9dd2c94e",
        "colab": {
          "base_uri": "https://localhost:8080/"
        }
      },
      "outputs": [
        {
          "output_type": "stream",
          "name": "stdout",
          "text": [
            "[15.73 17.01 15.86 15.98 16.73 10.19 16.56 17.99 15.   15.38]\n"
          ]
        }
      ],
      "source": [
        "print(Nspots[0:10])"
      ]
    },
    {
      "cell_type": "code",
      "execution_count": null,
      "metadata": {
        "id": "H0rjmi5F-ZjV"
      },
      "outputs": [],
      "source": []
    }
  ],
  "metadata": {
    "kernelspec": {
      "display_name": "Python 3",
      "language": "python",
      "name": "python3"
    },
    "language_info": {
      "codemirror_mode": {
        "name": "ipython",
        "version": 3
      },
      "file_extension": ".py",
      "mimetype": "text/x-python",
      "name": "python",
      "nbconvert_exporter": "python",
      "pygments_lexer": "ipython3",
      "version": "3.8.8"
    },
    "colab": {
      "provenance": []
    }
  },
  "nbformat": 4,
  "nbformat_minor": 0
}