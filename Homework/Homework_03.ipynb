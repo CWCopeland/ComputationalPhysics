{
 "cells": [
  {
   "cell_type": "markdown",
   "metadata": {
    "id": "JjQ9xsHj-Z06"
   },
   "source": [
    "### HW 3 - Numeric Integrals and derivatives\n",
    "\n",
    "### Problem 1:\n",
    "\n",
    "In the on-line resources for our textbook (https://public.websites.umich.edu/~mejn/cp/programs.html), you will find a file called `velocities.txt`, which contains two columns of numbers.  The first column represents time $t$ (in seconds) and the second column represents the $x$-velocity $v_x$ (in meters per second) of a particle, measured once every second from time $t=0$ to $t=100$.  The first few lines look like this:<br>\n",
    "0\t0<br>\n",
    "1\t0.069478<br>\n",
    "2\t0.137694<br>\n",
    "3\t0.204332<br>\n",
    "4\t0.269083<br>\n",
    "5\t0.331656<br>\n",
    "\n",
    "Write a program to do the following:\n",
    " * Read in the data and, using the trapezoidal rule, calculate the approximate distance traveled by the particle in the $x$ direction as a function of time.\n",
    " * Extend your program to make a graph that shows, on the same plot, both the original velocity curve and the distance traveled as a function of time."
   ]
  },
  {
   "cell_type": "code",
   "execution_count": null,
   "metadata": {
    "tags": []
   },
   "outputs": [],
   "source": []
  },
  {
   "cell_type": "markdown",
   "metadata": {},
   "source": [
    "### Problem 2:\n",
    "\n",
    "Consider the integral $E(x) = \\int_0^x e^{-t^2} \\>\\d t$.\n",
    "\n",
    " *  Write a program to calculate $E(x)$ using Simpson's rule, for values of $x$ from 0 to 3 in steps of 0.1.\n",
    " *  When you are convinced your program is working, extend it further to make a graph of $E(x)$ as a function of $x$.\n",
    "\n",
    "Note that there is no known way to perform this particular integral analytically, so numerical approaches are the only way forward."
   ]
  },
  {
   "cell_type": "code",
   "execution_count": null,
   "metadata": {
    "tags": []
   },
   "outputs": [],
   "source": []
  },
  {
   "cell_type": "markdown",
   "metadata": {},
   "source": [
    "### Problem 3:\n",
    "\n",
    "Create a user-defined function that takes an argument $x$ and returns $1 + \\frac{1}{2}\\tanh(2x)$.  Then use the central difference to calculate the derivative of the function in the range $-2\\le x\\le2$.  Calculate an analytic formula for the derivative and make a graph with your numerical result and the analytic answer on the same plot."
   ]
  },
  {
   "cell_type": "code",
   "execution_count": null,
   "metadata": {
    "tags": []
   },
   "outputs": [],
   "source": []
  },
  {
   "cell_type": "markdown",
   "metadata": {},
   "source": [
    "### Problem 4:\n",
    "\n",
    "When light strikes a surface, the amount falling per unit area depends not only on the intensity of the light, but also on the angle of incidence.  If the light makes an angle $\\theta$ with respect to the normal, it only \"sees\" $\\cos\\theta$ of area per unit of actual area on the surface.\n",
    "\n",
    "So the intensity of illumination is $a\\cos\\theta$, if $a$ is the raw intensity of the light.  This simple physical law is a central element of 3D computer graphics.  It allows us to calculate how light falls on three-dimensional objects and hence how they will look when illuminated from various angles.\n",
    "\n",
    "Suppose, for instance, that we are looking down on the Earth from above and we see mountains.  We know the height of the mountains $w(x,y)$ as a function of position in the plane, so the equation for the Earth's surface is simply $z=w(x,y)$, or equivalently $w(x,y)-z=0$, and the normal vector $\\vec{v}$ to the surface is given by the gradient of $w(x,y)-z$. Thus:\n",
    "\\begin{align}\n",
    "\\vec{v} =\n",
    "\\nabla [w(x,y)-z] &= \\begin{pmatrix}\n",
    "                  \\partial/\\partial x \\\\\n",
    "                  \\partial/\\partial y \\\\\n",
    "                  \\partial/\\partial z\n",
    "                \\end{pmatrix}\n",
    "                [w(x,y)-z]\\\\\n",
    "              &= \\begin{pmatrix}\n",
    "                  \\partial w/\\partial x \\\\\n",
    "                  \\partial w/\\partial y \\\\\n",
    "                  -1\n",
    "                \\end{pmatrix}.\n",
    "\\end{align}\n",
    "Now, suppose we have light coming in represented by a vector $\\vec{a}$ with magnitude equal to the intensity of the light.  Then the dot product of the vectors $\\vec{a}$ and $\\vec{v}$ is\n",
    "\\begin{equation}\n",
    "\\vec{a}\\cdot\\vec{v} = |\\vec{a}|\\,|\\vec{v}|\\cos\\theta,\n",
    "\\end{equation}\n",
    "where $\\theta$ is the angle between the vectors.  Thus, the intensity of illumination of the surface of the mountains is\n",
    "\\begin{align}\n",
    "I = |\\vec{a}| \\cos\\theta &= {\\vec{a}\\cdot\\vec{v}\\over|\\vec{v}|} = {a_x (\\partial w/\\partial x)\n",
    "   + a_y (\\partial w/\\partial y) - a_z\\over\n",
    "     \\sqrt{(\\partial w/\\partial x)^2 + (\\partial w/\\partial y)^2 + 1^2}}.\n",
    "\\end{align} \n",
    "\n",
    "Let's take a simple case where the light is shining horizontally with unit intensity, along a line an angle $\\phi$ counter-clockwise from the east-west axis, so that $\\vec{a}=(\\cos\\phi,\\sin\\phi,0)$.  Then our intensity of illumination simplifies to\n",
    "\\begin{equation}\n",
    "I = {\\cos\\phi\\,(\\partial w/\\partial x) + \\sin\\phi\\,(\\partial w/\\partial y)\\over\n",
    "     \\sqrt{(\\partial w/\\partial x)^2 + (\\partial w/\\partial y)^2 + 1}}.\n",
    "\\end{equation} \n",
    "\n",
    "If we can calculate the derivatives of the height $w(x,y)$ and we know $\\phi$ we can calculate the intensity at any point.\n",
    "\n",
    "-------------\n",
    "\n",
    "In the on-line resources you'll find a file named `altitude.txt`, which contains the altitude $w(x,y)$ in meters above sea level (or depth below sea level) of the surface of the Earth, measured on a grid of points $(x,y)$.  Write a program that:\n",
    " * Reads this file and stores the data in an array.  Then calculate the derivatives $\\partial w/\\partial x$ and $\\partial w/\\partial y$ at each grid point.  To calculate the derivatives you'll need to know the value of $h$, the distance in meters between grid points, which is about $30\\,000\\,$m in this case. (It's actually not precisely constant because we are representing the spherical Earth on a flat map, but $h=30\\,000\\,$m will give reasonable results.)\n",
    " * Now, using your values for the derivatives, calculate the intensity for each grid point, with $\\phi=45^\\circ$, and make a plot of the resulting values in which the brightness of each dot depends on the corresponding intensity value (using the `imshow()` function).  If you get it working right, the plot should look like a relief map of the world-you should be able to see the continents and mountain ranges in 3D.\n",
    "     * Note that the value of the intensity $I$ from the formula above can be either positive or negative-it ranges from $+1$ to $-1$.  What does a negative intensity mean?  It means that the area in question is *in shadow*-it lies on the wrong side of the mountain to receive any light at all.  You could represent this by coloring those areas of the map completely black, although in practice you will get a nicer-looking image (if arguably less true-to-life) by simply using a continuous range of grays from $+1$ to $-1$."
   ]
  },
  {
   "cell_type": "code",
   "execution_count": null,
   "metadata": {
    "id": "IhAswNmY-Z0-",
    "tags": []
   },
   "outputs": [],
   "source": []
  }
 ],
 "metadata": {
  "colab": {
   "provenance": []
  },
  "kernelspec": {
   "display_name": "Python 3 (ipykernel)",
   "language": "python",
   "name": "python3"
  },
  "language_info": {
   "codemirror_mode": {
    "name": "ipython",
    "version": 3
   },
   "file_extension": ".py",
   "mimetype": "text/x-python",
   "name": "python",
   "nbconvert_exporter": "python",
   "pygments_lexer": "ipython3",
   "version": "3.7.12"
  }
 },
 "nbformat": 4,
 "nbformat_minor": 4
}
