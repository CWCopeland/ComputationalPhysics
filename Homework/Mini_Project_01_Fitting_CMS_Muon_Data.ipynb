{
 "cells": [
  {
   "cell_type": "markdown",
   "metadata": {
    "id": "SmySxqb5Pyjy"
   },
   "source": [
    "# Mini In-class project - Fitting Data\n",
    "\n",
    "## Introduction and setup\n",
    "\n"
   ]
  },
  {
   "cell_type": "markdown",
   "metadata": {
    "id": "itjK1xbVP5T9"
   },
   "source": [
    "Thanks to QuarkNet organization for the basis of this project.\n",
    "\n",
    "At the Large Hadron Collider at CERN, protons are accelerated to extremly high energies and  collided within massive particle detectors. The particles created in these collisions are measured by experiments such as the Compact Muon Solenoid (CMS) experiment.\n",
    "\n",
    "<img src=\"https://github.com/jstupak/ComputationalPhysics/raw/master/Images/cms.jpg\">\n",
    "\n",
    "\n",
    "We will read in real data from the CMS experiment at CERN. This data was recorded using muon particle events. The data containes the measured energy and momentum vector components (px, py, pz) for each muon event."
   ]
  },
  {
   "cell_type": "code",
   "execution_count": 1,
   "metadata": {
    "id": "LZcYEMIWMuaF"
   },
   "outputs": [],
   "source": [
    "import numpy as np\n",
    "import matplotlib.pyplot as plt\n",
    "from matplotlib.ticker import (MultipleLocator, AutoMinorLocator)"
   ]
  },
  {
   "cell_type": "markdown",
   "metadata": {
    "id": "OM1pDaGuRXCJ"
   },
   "source": [
    "The input data is a csv file. We will use np.loadtxt() to read in the file, grab the data, and store it in a numpy array. We need to tell loadtxt that this is a comma seperated data file (delimter=\",\"). We also need to tell loadtxt to skip the first line (skiprows=1) of the data file which contains the column labels \"Run\", \"Event\", \"E\", \"px\", \"py\", \"pz\"."
   ]
  },
  {
   "cell_type": "code",
   "execution_count": 2,
   "metadata": {
    "id": "K_udysIcMwfj"
   },
   "outputs": [],
   "source": [
    "data = np.loadtxt('https://github.com/QuarkNet-HEP/coding-camp/raw/main/data/muons.csv',float,skiprows=1,delimiter=\",\")"
   ]
  },
  {
   "cell_type": "code",
   "execution_count": 3,
   "metadata": {
    "colab": {
     "base_uri": "https://localhost:8080/"
    },
    "id": "3M4zvnqDM19B",
    "outputId": "71f8bb26-23aa-417d-8373-9139050bb9e6"
   },
   "outputs": [
    {
     "data": {
      "text/plain": [
       "(475465, 6)"
      ]
     },
     "execution_count": 3,
     "metadata": {},
     "output_type": "execute_result"
    }
   ],
   "source": [
    "data.shape"
   ]
  },
  {
   "cell_type": "markdown",
   "metadata": {
    "id": "foR5GXR9TRVg"
   },
   "source": [
    "We can see that data is now a 2D numpy array with 6 columns corresponding to the muon \"Run\", \"Event\", \"E\", \"px\", \"py\", and \"pz\", and 475465 rows corresponding to 475465 measured muon events. Here we are lookign at the first 4 events.\n",
    "\n"
   ]
  },
  {
   "cell_type": "code",
   "execution_count": 4,
   "metadata": {
    "colab": {
     "base_uri": "https://localhost:8080/"
    },
    "id": "O6Y9RcS7TusY",
    "outputId": "83f6b6f8-3296-4bac-f3c7-dc28ee83b62e"
   },
   "outputs": [
    {
     "data": {
      "text/plain": [
       "array([[ 1.6561700e+05,  7.4601703e+07,  9.6987300e+00, -9.5104300e+00,\n",
       "         3.6620500e-01,  1.8632900e+00],\n",
       "       [ 1.6561700e+05,  7.5100943e+07,  6.2038500e+00, -4.2666100e+00,\n",
       "         4.5654500e-01, -4.4793000e+00],\n",
       "       [ 1.6561700e+05,  7.5587682e+07,  1.9289200e+01, -4.2120800e+00,\n",
       "        -6.5162300e-01,  1.8812100e+01],\n",
       "       [ 1.6561700e+05,  7.5660978e+07,  7.0426800e+00, -6.3267800e+00,\n",
       "        -2.6854500e-01,  3.0802500e+00]])"
      ]
     },
     "execution_count": 4,
     "metadata": {},
     "output_type": "execute_result"
    }
   ],
   "source": [
    "data[0:4,:]"
   ]
  },
  {
   "cell_type": "markdown",
   "metadata": {
    "id": "Xqh6UUj6TtsD"
   },
   "source": [
    "We can create simply 1D numpy arrays of using numpy slicing and indexing:"
   ]
  },
  {
   "cell_type": "code",
   "execution_count": 5,
   "metadata": {
    "id": "j_78xTCCNk-b"
   },
   "outputs": [],
   "source": [
    "Run   = data[:,0]\n",
    "Event = data[:,1]\n",
    "E     = data[:,2]\n",
    "px    = data[:,3]\n",
    "py    = data[:,4]\n",
    "pz    = data[:,5]"
   ]
  },
  {
   "cell_type": "markdown",
   "metadata": {
    "id": "n5RTOwnVT_dB"
   },
   "source": [
    "We can take a look at the Energy array E in a few different ways. The best way to visualize it is with a histogram:"
   ]
  },
  {
   "cell_type": "code",
   "execution_count": 6,
   "metadata": {
    "colab": {
     "base_uri": "https://localhost:8080/"
    },
    "id": "OeEK1YDPN0cJ",
    "outputId": "17ccfde5-8575-4ffa-9d65-45815de2c830"
   },
   "outputs": [
    {
     "data": {
      "text/plain": [
       "array([ 9.69873,  6.20385, 19.2892 , ..., 18.4607 , 38.867  , 21.7263 ])"
      ]
     },
     "execution_count": 6,
     "metadata": {},
     "output_type": "execute_result"
    }
   ],
   "source": [
    "E"
   ]
  },
  {
   "cell_type": "code",
   "execution_count": 7,
   "metadata": {
    "colab": {
     "base_uri": "https://localhost:8080/"
    },
    "id": "2phD4I66N02n",
    "outputId": "80d6a2f5-4a62-4b85-f877-d1875b060791"
   },
   "outputs": [
    {
     "data": {
      "text/plain": [
       "(475465,)"
      ]
     },
     "execution_count": 7,
     "metadata": {},
     "output_type": "execute_result"
    }
   ],
   "source": [
    "E.shape"
   ]
  },
  {
   "cell_type": "code",
   "execution_count": 8,
   "metadata": {
    "colab": {
     "base_uri": "https://localhost:8080/",
     "height": 489
    },
    "id": "1QXrWyYZOFFc",
    "outputId": "d5242294-3c7b-4ff6-ff1e-7af3f2889871"
   },
   "outputs": [
    {
     "data": {
      "text/plain": [
       "Text(0, 0.5, 'Number of Events')"
      ]
     },
     "execution_count": 8,
     "metadata": {},
     "output_type": "execute_result"
    },
    {
     "data": {
      "image/png": "[encoded data removed]",
      "text/plain": [
       "<Figure size 504x360 with 1 Axes>"
      ]
     },
     "metadata": {
      "needs_background": "light"
     },
     "output_type": "display_data"
    }
   ],
   "source": [
    "# Create our figure and axes\n",
    "fig, ax = plt.subplots(figsize=(7, 5))\n",
    "\n",
    "# Create a histogram\n",
    "(n,bins,patches) = ax.hist(E, bins=20, range=(0,100), density=False, color = \"orange\")\n",
    "\n",
    "# Set the location of the major and minor tick marks on the x-axis\n",
    "ax.xaxis.set_major_locator(MultipleLocator(10))\n",
    "ax.xaxis.set_minor_locator(MultipleLocator(5))\n",
    "\n",
    "# Label our axes\n",
    "ax.set_xlabel(\"Particle Energy (GeV)\"      , fontsize=16)\n",
    "ax.set_ylabel(\"Number of Events\"           , fontsize=16)"
   ]
  },
  {
   "cell_type": "markdown",
   "metadata": {
    "id": "Sas_v8oDUIS4"
   },
   "source": [
    "We can see that of these thousands of muon events, they most frequently have energy between 5 and 10 GeV."
   ]
  },
  {
   "cell_type": "markdown",
   "metadata": {
    "id": "cZoo-f4W5Mp6"
   },
   "source": [
    "## Exercise"
   ]
  },
  {
   "cell_type": "markdown",
   "metadata": {
    "id": "I2hBO1mhQiy2"
   },
   "source": [
    "We currently have energy and momentum information for thousands of muon events recorded by CMS. These are the quantites directly measured by the CMS particle detectors (see https://cms.cern/book/export/html/1618).\n",
    "\n",
    "### Task 1\n",
    "\n",
    "Calculate the magnitude of the momentum of each particle and the mass of each particle.\n",
    "\n",
    "We can calculate the magnitude of the momentum vector using the formula:\n",
    "\n",
    "$|p| = \\sqrt{p_x^2 + p_y^2 + p_z^2}$\n",
    "\n",
    "We can caluclate the mass of each particle using the the relativisitic invariant mass formula:\n",
    "\n",
    "$m = \\sqrt{E^2 - p^2}$\n",
    "\n",
    "Remember we are using numpy, so we can perform these calculations on the entire array (each index of the array corresponds to a different observed muon event)."
   ]
  },
  {
   "cell_type": "code",
   "execution_count": null,
   "metadata": {
    "id": "xDYxWeqdQ5NM"
   },
   "outputs": [],
   "source": []
  },
  {
   "cell_type": "markdown",
   "metadata": {
    "id": "bxwgR_86Q578"
   },
   "source": [
    "### Task 2\n",
    "\n",
    "Plot the particle mass with a histogram. What is the approximate mass of the muon? Note: You will likely have to change the range of the plot to accomodate the low muon mass."
   ]
  },
  {
   "cell_type": "code",
   "execution_count": null,
   "metadata": {
    "id": "7O6dUHju6gPE"
   },
   "outputs": [],
   "source": []
  },
  {
   "cell_type": "markdown",
   "metadata": {
    "id": "EVfz7eYZ6gcn"
   },
   "source": [
    "### Task 3\n",
    "\n",
    "Plot the histogram again but zoomed in very narrowlly on the peak of the plot (hint: use the range functionality of the matplotlib histogram object). I would recommend a range approximately 0.1049 GeV/c^2 to 0.1065 GeV/c^2."
   ]
  },
  {
   "cell_type": "code",
   "execution_count": null,
   "metadata": {
    "id": "GEnzQCi_7JuR",
    "tags": []
   },
   "outputs": [],
   "source": []
  },
  {
   "cell_type": "markdown",
   "metadata": {
    "id": "qKmmXu2Q7JVC",
    "tags": []
   },
   "source": [
    "### Task 4\n",
    "\n",
    "Perform a fit on the histogram from Task 3. Redraw the histogam with the fit.\n",
    "\n",
    "The functional form expected for a particle decay fit is the relativistic Breit-Wigner distribution(https://en.wikipedia.org/wiki/Relativistic_Breit%E2%80%93Wigner_distribution).\n",
    "\n",
    "\n",
    "Here is an example fit from our fitting notebook (for an exponential).\n"
   ]
  },
  {
   "cell_type": "code",
   "execution_count": 12,
   "metadata": {
    "colab": {
     "base_uri": "https://localhost:8080/",
     "height": 430
    },
    "id": "fYgqGg-77mS5",
    "outputId": "c8046d95-3859-4642-e7c6-93a0d83426e1",
    "tags": []
   },
   "outputs": [
    {
     "data": {
      "image/png": "[encoded data removed]",
      "text/plain": [
       "<Figure size 432x288 with 1 Axes>"
      ]
     },
     "metadata": {
      "needs_background": "light"
     },
     "output_type": "display_data"
    }
   ],
   "source": [
    "# Example Fit (EXPONENTIAL)\n",
    "\n",
    "import numpy as np\n",
    "import matplotlib.pyplot as plt\n",
    "from scipy.optimize import curve_fit\n",
    "\n",
    "# Create some fake data with np.random.exponential\n",
    "Npoints = 4000\n",
    "scale    = 7      # f(x)=(1/scale)e^(-x/scale)\n",
    "s = 7*np.random.exponential(scale, Npoints) - 1\n",
    "\n",
    "# Normally we do this to plot:\n",
    "# plt.hist(s, bins=100, normed=True, histtype='step',color='blue')\n",
    "\n",
    "# Instead we can do the following such that we access the tuple\n",
    "#      returned by plt.hist returns a tuple\n",
    "#      which contains arrays of the information that is being plotted:\n",
    "#      ( http://matplotlib.org/api/pyplot_api.html?highlight=hist#matplotlib.pyplot.hist\n",
    "#    n = array containing the number of entries in each bin )\n",
    "#    bins = array containing the bin edges (so the length is nbins +1)\n",
    "\n",
    "(n,bins,patches) = plt.hist(s, bins=50,  range=(0,100), density=False, histtype='step',color='blue')\n",
    "\n",
    "# to fit we an array of bin centers:\n",
    "bin_centers = 0.5*(bins[1:] + bins[:-1])\n",
    "\n",
    "# define the function to fit\n",
    "def f(t, No, tau_mu, B):\n",
    "    return No*np.exp(-t/tau_mu) + B\n",
    "\n",
    "# Guess the parameters of the fit (to give the algorithm a place to start)\n",
    "guess_No = 1\n",
    "guess_tau_mu = 1\n",
    "guess_B = 1\n",
    "\n",
    "# scipy.optimize.curve_fit\n",
    "# https://docs.scipy.org/doc/scipy-0.19.1/reference/generated/scipy.optimize.curve_fit.html\n",
    "# curve_fit(f, xdata, ydata, p0=None, sigma=None, absolute_sigma=False, check_finite=True, bounds=(-inf, inf), method=None, jac=None, **kwargs)[source]¶\n",
    "# p0 is the initial guess for the function parameters\n",
    "popt, pcov = curve_fit(f, bin_centers, n, p0 = [guess_No, guess_tau_mu, guess_B])\n",
    "\n",
    "# curve_fit returns popt which is an array of the fit parameters\n",
    "fit_result_No     = popt[0]\n",
    "fit_result_tau_mu = popt[1]\n",
    "fit_result_B      = popt[2]\n",
    "\n",
    "# Draw the fit function with parameters returned by the fit\n",
    "plt.plot(bin_centers, f(bin_centers, fit_result_No, fit_result_tau_mu, fit_result_B  ), 'r')\n",
    "plt.show()"
   ]
  },
  {
   "cell_type": "markdown",
   "metadata": {
    "id": "GRa96xkP9nOp",
    "tags": []
   },
   "source": [
    "In our case we will plot the muon mass and fit with a Breit-Wigner distribution. Here is the functional form:"
   ]
  },
  {
   "cell_type": "code",
   "execution_count": 27,
   "metadata": {
    "id": "QmYxa4cAPX7P",
    "tags": []
   },
   "outputs": [],
   "source": [
    "# define the function used in the fit. In this case we use the relativistic Breit-Wigner function from above\n",
    "def func_Breit_Wigner(x, particle_mass, width, K):\n",
    "    return K / ((x**2 - particle_mass**2)**2 + (particle_mass*width)**2)\n"
   ]
  },
  {
   "cell_type": "markdown",
   "metadata": {
    "id": "nn2NeerY-FFW",
    "tags": []
   },
   "source": [
    "\n",
    "Before performing the fit we typically provide the fitting algorithm some ballpark values for the fit parameters. Look at your plot above and determine the approximate mass of the muon and the approximate width of the distribution.\n",
    "\n"
   ]
  },
  {
   "cell_type": "code",
   "execution_count": 28,
   "metadata": {
    "id": "mtmgjc2r-EgN",
    "tags": []
   },
   "outputs": [],
   "source": [
    "guess_particle_mass = GUESS # the x-value of the mass peak\n",
    "guess_width = GUESS # width of the peak halfway up; a.k.a. \"full width at half max\" or FWHM\n",
    "guess_K = 0.000025  # a constant that affects the height of the curve, you'll need to tinker with this some"
   ]
  },
  {
   "cell_type": "markdown",
   "metadata": {
    "id": "LfmKxy8e-hJB",
    "tags": []
   },
   "source": [
    "Using the histogram fitting example above as a guide, try to fit the muon mass distribution with the Breit Wigner function."
   ]
  },
  {
   "cell_type": "code",
   "execution_count": null,
   "metadata": {
    "id": "LFyxykiU-gla"
   },
   "outputs": [],
   "source": []
  },
  {
   "cell_type": "code",
   "execution_count": 48,
   "metadata": {
    "id": "xhfTxfRoDLVp"
   },
   "outputs": [
    {
     "name": "stdout",
     "output_type": "stream",
     "text": [
      "mean lifetime = 5.813933e-06 seconds\n"
     ]
    }
   ],
   "source": [
    "hbar = 6.582e-25      # in GeV*s\n",
    "width = np.fabs(fit_result_width)/3e8**2\n",
    "\n",
    "print(\"mass =\", np.format_float_scientific(hbar/(2*width),6), \"seconds\")\n",
    "print(\"mean lifetime =\", np.format_float_scientific(hbar/(2*width),6), \"seconds\")"
   ]
  },
  {
   "cell_type": "markdown",
   "metadata": {
    "id": "l_hSRQYdDYwB"
   },
   "source": [
    "Awesome job! By fitting the data you made a measurement of the mass, width, and lifetime of the muon!"
   ]
  }
 ],
 "metadata": {
  "colab": {
   "provenance": []
  },
  "kernelspec": {
   "display_name": "Python 3 (ipykernel)",
   "language": "python",
   "name": "python3"
  },
  "language_info": {
   "codemirror_mode": {
    "name": "ipython",
    "version": 3
   },
   "file_extension": ".py",
   "mimetype": "text/x-python",
   "name": "python",
   "nbconvert_exporter": "python",
   "pygments_lexer": "ipython3",
   "version": "3.7.12"
  }
 },
 "nbformat": 4,
 "nbformat_minor": 4
}
