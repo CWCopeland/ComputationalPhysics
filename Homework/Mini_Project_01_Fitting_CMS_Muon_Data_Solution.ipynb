{
 "cells": [
  {
   "cell_type": "markdown",
   "metadata": {
    "id": "SmySxqb5Pyjy"
   },
   "source": [
    "# Mini project: Fitting Data - With Solutions\n",
    "\n",
    "## Introduction and setup\n",
    "\n",
    "In this project, you will determine the lifetime of an unstable subatomic particle known as the \"muon\" using real data. Thanks to QuarkNet organization for the basis of this project.\n",
    "\n",
    "At the Large Hadron Collider at CERN, protons are accelerated to extremly high energies and made to collide with one an other. The properties (energy, momentum, etc.) of particles produced in these collisions are measured by experiments such as the Compact Muon Solenoid (CMS).\n",
    "\n",
    "<div align=\"center\">\n",
    "    <img src=\"../Images/cms.jpg\" style=\"height:500px\"/>\n",
    "        <figcaption>The CMS detector at the LHC.</figcaption>\n",
    "</div>\n",
    "\n",
    "Contrary to expectations, muons (and other particles) don't always have the same mass.  If you plot the the mass of many muons, you will find the distribution is not a delta function at 0.105 GeV, but instead has some non-zero width.  The width $\\Gamma$ of this distribution is related to the lifetime $\\tau$ of the muon by the relation\n",
    "\\begin{equation}\\label{lifetime}\\tag{1}\n",
    "\\tau=\\hbar/2\\Gamma,\n",
    "\\end{equation}  \n",
    "where $\\hbar$ is the reduced Plank constant. NB: the width here is defined as the \"half width at half maximum,\" meaning half the width of the distribution at half its maximum value, as shown in the Figure below.\n",
    "\n",
    "<center>\n",
    "<img src=\"../Images/zWidth.png\" style=\"height:300px\"/>\n",
    "    <figcaption>The mass disitribution for many Z bosons.</figcaption>\n",
    "</center>\n",
    "\n",
    "However, the CMS detector does not directly measure the mass of muons (or any other particle), but instead only the energy and momentum.  Fortunately, mass $m$ can be calculated from energy $E$ and momentum $p$ according to\n",
    "\\begin{equation}\\label{mass}\\tag{2}\n",
    "mc^2=\\sqrt{E^2-(pc)^2}.\n",
    "\\end{equation}\n",
    "\n",
    "To calculate the muon lifetime, you will read in real CMS data for a large number of reconstructed muons.  For each muon, you should calculate the mass using Equation \\eqref{mass} and put the value in a histogram.  Then fit a <a href=\"https://en.wikipedia.org/wiki/Relativistic_Breit%E2%80%93Wigner_distribution\">Breit-Wigner</a> function to the distribution, and extract the muon width from the fit results. Finally, use Equation \\eqref{lifetime} to calculate the muon lifetime.\n",
    "\n",
    "---\n",
    "\n",
    "Begin by importing numpy and matplotlib:\n",
    "\n",
    "import numpy as np\n",
    "import matplotlib.pyplot as plt\n",
    "from matplotlib.ticker import (MultipleLocator, AutoMinorLocator)"
   ]
  },
  {
   "cell_type": "markdown",
   "metadata": {
    "id": "OM1pDaGuRXCJ"
   },
   "source": [
    "The input data is in comma separated value (csv) format. To view the data, navigate to: https://raw.githubusercontent.com/jstupak/ComputationalPhysics/master/Data/muons.csv\n",
    "\n",
    "We will use the numpy `loadtxt()` function to read in the csv file and store the data in a numpy array. We tell `loadtxt()` that the txt file is in csv format by specifying the argument `delimter=\",\"`. We should also tell `loadtxt()` to skip the first line of the file, which contains the column labels \"Run\", \"Event\", \"E\", \"px\", \"py\", \"pz\", via the argument `skiprows=1`."
   ]
  },
  {
   "cell_type": "code",
   "execution_count": 2,
   "metadata": {
    "id": "K_udysIcMwfj"
   },
   "outputs": [],
   "source": [
    "data = np.loadtxt('https://raw.githubusercontent.com/jstupak/ComputationalPhysics/master/Data/muons.csv',float,skiprows=1,delimiter=\",\")"
   ]
  },
  {
   "cell_type": "markdown",
   "metadata": {},
   "source": [
    "Using the `shape()` function, we can see that the data is now stored in a 2D numpy array with 475465 rows corresponding to the reconstructed muons and 6 columns with the corresponding run number, event number, energy, and momentum components:"
   ]
  },
  {
   "cell_type": "code",
   "execution_count": 3,
   "metadata": {
    "colab": {
     "base_uri": "https://localhost:8080/"
    },
    "id": "3M4zvnqDM19B",
    "outputId": "71f8bb26-23aa-417d-8373-9139050bb9e6"
   },
   "outputs": [
    {
     "data": {
      "text/plain": [
       "(475465, 6)"
      ]
     },
     "execution_count": 3,
     "metadata": {},
     "output_type": "execute_result"
    }
   ],
   "source": [
    "data.shape"
   ]
  },
  {
   "cell_type": "markdown",
   "metadata": {},
   "source": [
    "NB: the muon energy (momentum) is in units of GeV (GeV/$c$)\n",
    "\n",
    "As a sanity check, let's print the data for the first 5 muons in the file:"
   ]
  },
  {
   "cell_type": "code",
   "execution_count": 4,
   "metadata": {
    "colab": {
     "base_uri": "https://localhost:8080/"
    },
    "id": "O6Y9RcS7TusY",
    "outputId": "83f6b6f8-3296-4bac-f3c7-dc28ee83b62e"
   },
   "outputs": [
    {
     "data": {
      "text/plain": [
       "array([[ 1.6561700e+05,  7.4601703e+07,  9.6987300e+00, -9.5104300e+00,\n",
       "         3.6620500e-01,  1.8632900e+00],\n",
       "       [ 1.6561700e+05,  7.5100943e+07,  6.2038500e+00, -4.2666100e+00,\n",
       "         4.5654500e-01, -4.4793000e+00],\n",
       "       [ 1.6561700e+05,  7.5587682e+07,  1.9289200e+01, -4.2120800e+00,\n",
       "        -6.5162300e-01,  1.8812100e+01],\n",
       "       [ 1.6561700e+05,  7.5660978e+07,  7.0426800e+00, -6.3267800e+00,\n",
       "        -2.6854500e-01,  3.0802500e+00]])"
      ]
     },
     "execution_count": 4,
     "metadata": {},
     "output_type": "execute_result"
    }
   ],
   "source": [
    "data[0:4,:]"
   ]
  },
  {
   "cell_type": "markdown",
   "metadata": {
    "id": "Xqh6UUj6TtsD"
   },
   "source": [
    "From this 2D array, we can create simple 1D arrays of using numpy slicing and indexing:"
   ]
  },
  {
   "cell_type": "code",
   "execution_count": 5,
   "metadata": {
    "id": "j_78xTCCNk-b"
   },
   "outputs": [],
   "source": [
    "Run   = data[:,0]\n",
    "Event = data[:,1]\n",
    "E     = data[:,2]\n",
    "px    = data[:,3]\n",
    "py    = data[:,4]\n",
    "pz    = data[:,5]"
   ]
  },
  {
   "cell_type": "markdown",
   "metadata": {
    "id": "n5RTOwnVT_dB"
   },
   "source": [
    "## Inspect the data\n",
    "\n",
    "\n",
    "We can take a look at the energy array `E` in a few different ways. First, print the array to verify its contents is correct:"
   ]
  },
  {
   "cell_type": "code",
   "execution_count": 6,
   "metadata": {
    "colab": {
     "base_uri": "https://localhost:8080/"
    },
    "id": "OeEK1YDPN0cJ",
    "outputId": "17ccfde5-8575-4ffa-9d65-45815de2c830"
   },
   "outputs": [
    {
     "data": {
      "text/plain": [
       "array([ 9.69873,  6.20385, 19.2892 , ..., 18.4607 , 38.867  , 21.7263 ])"
      ]
     },
     "execution_count": 6,
     "metadata": {},
     "output_type": "execute_result"
    }
   ],
   "source": [
    "E"
   ]
  },
  {
   "cell_type": "markdown",
   "metadata": {},
   "source": [
    "What are the dimensions of the energy array?"
   ]
  },
  {
   "cell_type": "code",
   "execution_count": 7,
   "metadata": {
    "colab": {
     "base_uri": "https://localhost:8080/"
    },
    "id": "2phD4I66N02n",
    "outputId": "80d6a2f5-4a62-4b85-f877-d1875b060791"
   },
   "outputs": [
    {
     "data": {
      "text/plain": [
       "(475465,)"
      ]
     },
     "execution_count": 7,
     "metadata": {},
     "output_type": "execute_result"
    }
   ],
   "source": [
    "E.shape"
   ]
  },
  {
   "cell_type": "markdown",
   "metadata": {},
   "source": [
    "Draw a histogram of the muon energies:"
   ]
  },
  {
   "cell_type": "code",
   "execution_count": 8,
   "metadata": {
    "colab": {
     "base_uri": "https://localhost:8080/",
     "height": 489
    },
    "id": "1QXrWyYZOFFc",
    "outputId": "d5242294-3c7b-4ff6-ff1e-7af3f2889871"
   },
   "outputs": [
    {
     "data": {
      "text/plain": [
       "Text(0, 0.5, 'Entries')"
      ]
     },
     "execution_count": 8,
     "metadata": {},
     "output_type": "execute_result"
    },
    {
     "data": {
      "image/png": "[encoded data removed]",
      "text/plain": [
       "<Figure size 504x360 with 1 Axes>"
      ]
     },
     "metadata": {
      "needs_background": "light"
     },
     "output_type": "display_data"
    }
   ],
   "source": [
    "# Create our figure and axes\n",
    "fig, ax = plt.subplots(figsize=(7, 5))\n",
    "\n",
    "# Create a histogram\n",
    "(n,bins,patches) = ax.hist(E, bins=20, range=(0,100), density=False, color = \"orange\")\n",
    "\n",
    "# Set the location of the major and minor tick marks on the x-axis\n",
    "ax.xaxis.set_major_locator(MultipleLocator(10))\n",
    "ax.xaxis.set_minor_locator(MultipleLocator(5))\n",
    "\n",
    "# Label our axes\n",
    "ax.set_xlabel(\"Energy (GeV)\"      , fontsize=16)\n",
    "ax.set_ylabel(\"Entries\"           , fontsize=16)"
   ]
  },
  {
   "cell_type": "markdown",
   "metadata": {
    "id": "Sas_v8oDUIS4"
   },
   "source": [
    "We can see that of these thousands of muon events, they most frequently have energy between 5 and 10 GeV."
   ]
  },
  {
   "cell_type": "markdown",
   "metadata": {
    "id": "cZoo-f4W5Mp6"
   },
   "source": [
    "## Exercise"
   ]
  },
  {
   "cell_type": "markdown",
   "metadata": {
    "id": "I2hBO1mhQiy2",
    "tags": []
   },
   "source": [
    "We currently have energy and momentum information for thousands of muons reconstructed by CMS. These are the quantites directly measured by the CMS detector (see https://cms.cern/book/export/html/1618).\n",
    "\n",
    "### Task 1\n",
    "\n",
    "Calculate the magnitude of the momentum for all muons, followed by the mass. We are using numpy, so we can perform these calculations on the entire array (each row of the array corresponds to a different reconstructed muon):"
   ]
  },
  {
   "cell_type": "code",
   "execution_count": 9,
   "metadata": {
    "id": "xDYxWeqdQ5NM"
   },
   "outputs": [
    {
     "name": "stdout",
     "output_type": "stream",
     "text": [
      "p = [ 9.69815624  6.20294468 19.28889154 ... 18.46036946 38.86684001\n",
      " 21.72607035]\n",
      "m = [0.10549456 0.10598162 0.10908606 ... 0.11047144 0.11151897 0.09989474]\n"
     ]
    }
   ],
   "source": [
    "from math import sqrt\n",
    "p = np.sqrt(px**2+py**2+pz**2)\n",
    "print(\"p =\",p)\n",
    "\n",
    "m2 = E**2 - p**2 # due to experimental resolution, this expression will sometimes result in a value of m2 which is less than zero\n",
    "\n",
    "#remove negative values\n",
    "mask = m2 > 0\n",
    "m2 = m2[mask]\n",
    "\n",
    "m = np.sqrt(m2)  # now it is safe to calculate the sqrt\n",
    "print(\"m =\",m)"
   ]
  },
  {
   "cell_type": "markdown",
   "metadata": {
    "id": "bxwgR_86Q578"
   },
   "source": [
    "### Task 2\n",
    "\n",
    "Make a histogram of the muon mass with reasonable binning and axis range:"
   ]
  },
  {
   "cell_type": "code",
   "execution_count": 17,
   "metadata": {
    "id": "7O6dUHju6gPE"
   },
   "outputs": [
    {
     "data": {
      "text/plain": [
       "Text(0, 0.5, 'Entries')"
      ]
     },
     "execution_count": 17,
     "metadata": {},
     "output_type": "execute_result"
    },
    {
     "data": {
      "image/png": "[encoded data removed]",
      "text/plain": [
       "<Figure size 504x360 with 1 Axes>"
      ]
     },
     "metadata": {
      "needs_background": "light"
     },
     "output_type": "display_data"
    }
   ],
   "source": [
    "# Create our figure and axes\n",
    "fig, ax = plt.subplots(figsize=(7, 5))\n",
    "\n",
    "# Create a histogram\n",
    "(n,bins,patches) = ax.hist(m, bins=50, range=(0,.2), density=False, color = \"orange\")\n",
    "\n",
    "# Set the location of the major and minor tick marks on the x-axis\n",
    "ax.xaxis.set_major_locator(MultipleLocator(.05))\n",
    "ax.xaxis.set_minor_locator(MultipleLocator(.01))\n",
    "\n",
    "# Label our axes\n",
    "ax.set_xlabel(\"Mass (GeV/$c^2$)\"  , fontsize=16)\n",
    "ax.set_ylabel(\"Entries\"           , fontsize=16)"
   ]
  },
  {
   "cell_type": "markdown",
   "metadata": {
    "id": "EVfz7eYZ6gcn"
   },
   "source": [
    "### Task 3\n",
    "\n",
    "Remake the mass histogram, only showing the region 0.1049 GeV/$c^2$ to 0.1065 GeV/$c^2$."
   ]
  },
  {
   "cell_type": "code",
   "execution_count": 11,
   "metadata": {
    "id": "GEnzQCi_7JuR",
    "tags": []
   },
   "outputs": [
    {
     "data": {
      "text/plain": [
       "Text(0, 0.5, 'Entries')"
      ]
     },
     "execution_count": 11,
     "metadata": {},
     "output_type": "execute_result"
    },
    {
     "data": {
      "image/png": "[encoded data removed]",
      "text/plain": [
       "<Figure size 432x288 with 1 Axes>"
      ]
     },
     "metadata": {
      "needs_background": "light"
     },
     "output_type": "display_data"
    }
   ],
   "source": [
    "# Create our figure and axes\n",
    "fig, ax = plt.subplots()\n",
    "\n",
    "# Create a histogram\n",
    "(n,bins,patches) = ax.hist(m, bins=20, range=(0.1049,.1065), density=False, color = \"orange\")\n",
    "\n",
    "# Set the location of the major and minor tick marks on the x-axis\n",
    "ax.xaxis.set_major_locator(MultipleLocator(.0005))\n",
    "ax.xaxis.set_minor_locator(MultipleLocator(.0001))\n",
    "\n",
    "# Label our axes\n",
    "ax.set_xlabel(\"Mass (GeV/$c^2$)\"  , fontsize=16)\n",
    "ax.set_ylabel(\"Entries\"           , fontsize=16)"
   ]
  },
  {
   "cell_type": "markdown",
   "metadata": {
    "id": "qKmmXu2Q7JVC",
    "tags": []
   },
   "source": [
    "### Task 4\n",
    "\n",
    "Perform a fit on this histogram and overlay the fit result on the histogram. The functional form expected for the mass distribution is the <a href=\"https://en.wikipedia.org/wiki/Relativistic_Breit%E2%80%93Wigner_distribution\">relativistic Breit-Wigner</a> function.\n",
    "\n",
    "For reference, here is an example fit using an exponential function:"
   ]
  },
  {
   "cell_type": "markdown",
   "metadata": {
    "colab": {
     "base_uri": "https://localhost:8080/",
     "height": 430
    },
    "id": "fYgqGg-77mS5",
    "outputId": "c8046d95-3859-4642-e7c6-93a0d83426e1",
    "tags": []
   },
   "source": [
    "```python\n",
    "\n",
    "import numpy as np\n",
    "import matplotlib.pyplot as plt\n",
    "from scipy.optimize import curve_fit\n",
    "\n",
    "# Create some fake data with np.random.exponential\n",
    "Npoints = 4000\n",
    "scale    = 7      # f(x)=(1/scale)e^(-x/scale)\n",
    "s = 7*np.random.exponential(scale, Npoints) - 1\n",
    "\n",
    "# Normally we do this to plot:\n",
    "# plt.hist(s, bins=100, normed=True, histtype='step',color='blue')\n",
    "\n",
    "# Instead we can do the following such that we access the tuple\n",
    "#      returned by plt.hist returns a tuple\n",
    "#      which contains arrays of the information that is being plotted:\n",
    "#      ( http://matplotlib.org/api/pyplot_api.html?highlight=hist#matplotlib.pyplot.hist\n",
    "#    n = array containing the number of entries in each bin )\n",
    "#    bins = array containing the bin edges (so the length is nbins +1)\n",
    "\n",
    "(n,bins,patches) = plt.hist(s, bins=50,  range=(0,100), density=False, histtype='step',color='blue')\n",
    "\n",
    "# to fit we an array of bin centers:\n",
    "bin_centers = 0.5*(bins[1:] + bins[:-1])\n",
    "\n",
    "# define the function to fit\n",
    "def f(t, No, tau_mu, B):\n",
    "    return No*np.exp(-t/tau_mu) + B\n",
    "\n",
    "# Guess the parameters of the fit (to give the algorithm a place to start)\n",
    "guess_No = 1\n",
    "guess_tau_mu = 1\n",
    "guess_B = 1\n",
    "\n",
    "# scipy.optimize.curve_fit\n",
    "# https://docs.scipy.org/doc/scipy-0.19.1/reference/generated/scipy.optimize.curve_fit.html\n",
    "# curve_fit(f, xdata, ydata, p0=None, sigma=None, absolute_sigma=False, check_finite=True, bounds=(-inf, inf), method=None, jac=None, **kwargs)[source]¶\n",
    "# p0 is the initial guess for the function parameters\n",
    "popt, pcov = curve_fit(f, bin_centers, n, p0 = [guess_No, guess_tau_mu, guess_B])\n",
    "\n",
    "# curve_fit returns popt which is an array of the fit parameters\n",
    "fit_result_No     = popt[0]\n",
    "fit_result_tau_mu = popt[1]\n",
    "fit_result_B      = popt[2]\n",
    "\n",
    "# Draw the fit function with parameters returned by the fit\n",
    "plt.plot(bin_centers, f(bin_centers, fit_result_No, fit_result_tau_mu, fit_result_B  ), 'r')\n",
    "plt.show()\n",
    "```"
   ]
  },
  {
   "cell_type": "markdown",
   "metadata": {
    "id": "GRa96xkP9nOp",
    "tags": []
   },
   "source": [
    "Here is the functional form for the Breit-Wigner:"
   ]
  },
  {
   "cell_type": "code",
   "execution_count": 12,
   "metadata": {
    "id": "QmYxa4cAPX7P",
    "tags": []
   },
   "outputs": [],
   "source": [
    "# define the function used in the fit. In this case we use the relativistic Breit-Wigner function from above\n",
    "def func_Breit_Wigner(x, particle_mass, width, K):\n",
    "    return K / ((x**2 - particle_mass**2)**2 + (particle_mass*width)**2)\n"
   ]
  },
  {
   "cell_type": "markdown",
   "metadata": {
    "id": "nn2NeerY-FFW",
    "tags": []
   },
   "source": [
    "Before performing the fit, we typically provide the fitter ballpark estimates for the fit parameters (to facilitate convergence). Look at your plot above and provide a reasonable guess for the muon mass and width:"
   ]
  },
  {
   "cell_type": "code",
   "execution_count": 13,
   "metadata": {
    "id": "mtmgjc2r-EgN",
    "tags": []
   },
   "outputs": [],
   "source": [
    "guess_particle_mass = .106 # the x-value of the mass peak\n",
    "guess_width = .0007 # width of the peak halfway up; a.k.a. \"full width at half max\" or FWHM\n",
    "guess_K = 9.4e-05  # a constant that affects the height of the curve, you'll need to tinker with this some"
   ]
  },
  {
   "cell_type": "markdown",
   "metadata": {
    "id": "LfmKxy8e-hJB",
    "tags": []
   },
   "source": [
    "With the example above as a guide, fit the muon mass distribution with the Breit-Wigner function defined above."
   ]
  },
  {
   "cell_type": "code",
   "execution_count": 21,
   "metadata": {
    "id": "LFyxykiU-gla"
   },
   "outputs": [
    {
     "data": {
      "image/png": "[encoded data removed]",
      "text/plain": [
       "<Figure size 504x360 with 1 Axes>"
      ]
     },
     "execution_count": 21,
     "metadata": {},
     "output_type": "execute_result"
    }
   ],
   "source": [
    "from scipy.optimize import curve_fit\n",
    "\n",
    "# to fit we need an array of bin centers:\n",
    "bin_centers = 0.5*(bins[1:] + bins[:-1])\n",
    "\n",
    "# scipy.optimize.curve_fit\n",
    "# https://docs.scipy.org/doc/scipy-0.19.1/reference/generated/scipy.optimize.curve_fit.html\n",
    "# curve_fit(f, xdata, ydata, p0=None, sigma=None, absolute_sigma=False, check_finite=True, bounds=(-inf, inf), method=None, jac=None, **kwargs)[source]¶\n",
    "# p0 is the initial guess for the function parameters\n",
    "popt, pcov = curve_fit(func_Breit_Wigner, bin_centers, n, p0 = [guess_particle_mass, guess_width, guess_K])\n",
    "\n",
    "# curve_fit returns popt which is an array of the fit parameters\n",
    "fit_result_particle_mass = popt[0]\n",
    "fit_result_width         = popt[1]\n",
    "fit_result_K             = popt[2]\n",
    "\n",
    "# Draw the fit function with parameters returned by the fit\n",
    "ax.plot(bin_centers, func_Breit_Wigner(bin_centers, fit_result_particle_mass, fit_result_width, fit_result_K  ), 'r')\n",
    "\n",
    "fig"
   ]
  },
  {
   "cell_type": "markdown",
   "metadata": {},
   "source": [
    "The width extracted from the fit is in units of GeV/$c^2$.  To convert this value to units of GeV, multiple by $c^2$:"
   ]
  },
  {
   "cell_type": "code",
   "execution_count": 19,
   "metadata": {},
   "outputs": [],
   "source": [
    "width = np.fabs(fit_result_width)/3e8**2"
   ]
  },
  {
   "cell_type": "markdown",
   "metadata": {},
   "source": [
    "According to the results of the fit, what is the mass and lifetime of the muon?  Be sure to include units."
   ]
  },
  {
   "cell_type": "code",
   "execution_count": 20,
   "metadata": {
    "id": "xhfTxfRoDLVp"
   },
   "outputs": [
    {
     "name": "stdout",
     "output_type": "stream",
     "text": [
      "mass = 0.10602168600244037 GeV\n",
      "lifetime = 5.813932e-06 seconds\n"
     ]
    }
   ],
   "source": [
    "hbar = 6.582e-25      # in GeV*s\n",
    "\n",
    "print(\"mass =\", fit_result_particle_mass, \"GeV\")\n",
    "print(\"lifetime =\", np.format_float_scientific(hbar/(2*width),6), \"seconds\")"
   ]
  },
  {
   "cell_type": "markdown",
   "metadata": {
    "id": "l_hSRQYdDYwB"
   },
   "source": [
    "Great job! By fitting the data you made a measurement of the mass and lifetime of the muon!\n",
    "\n",
    "How do your values compare the actual values?  If there is a discrepancy, what do you think might be the cause?"
   ]
  },
  {
   "cell_type": "markdown",
   "metadata": {},
   "source": []
  },
  {
   "cell_type": "markdown",
   "metadata": {},
   "source": [
    "How does the fit range affect the result?"
   ]
  },
  {
   "cell_type": "markdown",
   "metadata": {},
   "source": []
  }
 ],
 "metadata": {
  "colab": {
   "provenance": []
  },
  "kernelspec": {
   "display_name": "Python 3 (ipykernel)",
   "language": "python",
   "name": "python3"
  },
  "language_info": {
   "codemirror_mode": {
    "name": "ipython",
    "version": 3
   },
   "file_extension": ".py",
   "mimetype": "text/x-python",
   "name": "python",
   "nbconvert_exporter": "python",
   "pygments_lexer": "ipython3",
   "version": "3.7.12"
  }
 },
 "nbformat": 4,
 "nbformat_minor": 4
}
