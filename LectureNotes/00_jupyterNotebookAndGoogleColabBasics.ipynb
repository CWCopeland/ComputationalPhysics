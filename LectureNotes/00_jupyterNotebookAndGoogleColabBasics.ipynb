{
 "cells": [
  {
   "cell_type": "markdown",
   "metadata": {
    "id": "Szrb4iGgNxwW"
   },
   "source": [
    "# Jupyter Notebook and Google Colab Basics\n",
    "\n",
    "## Introduction\n",
    "\n",
    "### What is python?\n",
    "\n",
    "Python is a programming language which is very commonly used in physics, engineering, and in industry. It is an interpreted high-level language which focusses on code readability. There are thousands of external python packages which extend python's capabilities and make it very useful for calculations and plotting (among other things).\n",
    "\n",
    "Documentation: https://docs.python.org/3.10/index.html\n",
    "\n",
    "Example scientific package: https://numpy.org/\n",
    "\n",
    "### What is a Jupyter Notebook?\n",
    "\n",
    "A Jupyter Notebook is a web application (it opens in your browser) which allows you to write, save, and share interactive documents which contain text, live code (you can actually run the code within the browser), plots, images, and equations. Jupyter supports three default code languages (Julia, Python, and R) which is where its name comes from. You may also see these notebooks refered to as ipython notebooks but this is a somewhat depricated term. We will focus on python in this course.\n",
    "\n",
    "More info: https://jupyter-notebook-beginner-guide.readthedocs.io/en/latest/what_is_jupyter.html\n",
    "\n",
    "### What is Google Colab?\n",
    "\n",
    "Google Colab is a hosted Jupyter notebook service that allows you to open and run Jupyter Notebooks without installing any software.\n",
    "\n",
    "Intro: https://colab.research.google.com/notebooks/intro.ipynb\n",
    "\n",
    "Tutorial: https://colab.research.google.com/notebooks/basic_features_overview.ipynb\n",
    "\n",
    "\n",
    "### What is Binder?\n",
    "\n",
    "Binder is another hosted Jupyter service which allows you to run Jupyter notebooks without installing any software.\n",
    "\n",
    "https://mybinder.org/\n"
   ]
  },
  {
   "cell_type": "markdown",
   "metadata": {
    "id": "EBdJbrbZ4asO"
   },
   "source": [
    "## Quickstart: Run this notebook on your own\n",
    "\n",
    "Please find below instructions on running and interacting with this notebook yourself. If you wish to simply listen you can skip this section."
   ]
  },
  {
   "cell_type": "markdown",
   "metadata": {
    "id": "kV84UCOi4p_N"
   },
   "source": [
    "\n",
    "\n",
    "1.   Navigate to [https://colab.research.google.com](https://colab.research.google.com)\n",
    "2.   Click on \"File\"->\"Open notebook\"\n",
    "3.   Click on \"GitHub\" on the top bar\n",
    "4.   In the search bar, paste [https://github.com/jstupak/ComputationalPhysics/tree/master/Notebooks](https://github.com/jstupak/ComputationalPhysics/tree/master/Notebooks)\n",
    "5.   Click on the notebook you wish to open.\n",
    "\n"
   ]
  },
  {
   "cell_type": "markdown",
   "metadata": {
    "id": "3NB5XsQTNxwZ"
   },
   "source": [
    "## A few examples of what you can do with a Jupyter notebook"
   ]
  },
  {
   "cell_type": "markdown",
   "metadata": {
    "id": "8Nr9-Jr1Nxwa"
   },
   "source": [
    "\n",
    "<font color=magenta>**Display nicely formatted text: (double click on the cell below to edit the text)**</font>"
   ]
  },
  {
   "cell_type": "markdown",
   "metadata": {
    "id": "_GvEwdJWNxwa"
   },
   "source": [
    "Jupyter is cool because:\n",
    "\n",
    "- you can make lists\n",
    "- you can run code\n",
    "- you can make nice plots\n"
   ]
  },
  {
   "cell_type": "markdown",
   "metadata": {
    "id": "tWPshqwIoSWx"
   },
   "source": [
    "<font color=magenta>**Display nicely formatted equations using LaTeX** </font>"
   ]
  },
  {
   "cell_type": "markdown",
   "metadata": {
    "id": "_boVRCndocFW"
   },
   "source": [
    "Example 1:  $~~E=\\gamma m c^2$"
   ]
  },
  {
   "cell_type": "markdown",
   "metadata": {
    "id": "QL75Ay7WouI_"
   },
   "source": [
    "Example 2:  $~~i \\hbar \\frac{\\partial}{\\partial t} \\Psi(x,t) = \\big[-\\frac{\\hbar^2}{2m}\\frac{\\partial^2}{\\partial x^2} + V(x,t)\\big]\\Psi(x,t)$"
   ]
  },
  {
   "cell_type": "markdown",
   "metadata": {
    "id": "n9D-hg24Nxwa"
   },
   "source": [
    "<font color=magenta>**Write and run code**. Note: You can run the code by clicking on the cell below and typing <kbd>shift-enter</kbd> (\"control-enter\" and \"command-enter\" also work). In Google Colab you can also run the code by pressing play on the left side of the cell. You can edit the code by double clicking on it. Try iterating from 0 to 20 instead."
   ]
  },
  {
   "cell_type": "code",
   "execution_count": null,
   "metadata": {
    "colab": {
     "base_uri": "https://localhost:8080/"
    },
    "id": "fBxO9Io_Nxwb",
    "outputId": "6f236fb3-c464-481a-dc2d-a3c815203bf8"
   },
   "outputs": [],
   "source": [
    "stop = 12\n",
    "for n in range(stop):\n",
    "    print(\"Loop iteration\",n)"
   ]
  },
  {
   "cell_type": "markdown",
   "metadata": {
    "id": "Bb-uC3SBNxwc"
   },
   "source": [
    "<font color=magenta>**Make and display professional-looking plots and graphs**</font>"
   ]
  },
  {
   "cell_type": "code",
   "execution_count": null,
   "metadata": {
    "colab": {
     "base_uri": "https://localhost:8080/",
     "height": 508
    },
    "id": "_hJkrRfeNxwd",
    "outputId": "ca9751ce-823c-4696-f0c4-2b80c82e0d7c"
   },
   "outputs": [],
   "source": [
    "# Example plotting script using python\n",
    "#   as well as the numpy and matplotlib external packages\n",
    "import numpy as np\n",
    "import matplotlib.pyplot as plt\n",
    "# A magic function that renders the figures in a notebook\n",
    "%matplotlib inline\n",
    "\n",
    "# Define some functions\n",
    "x = np.linspace(-1,4,101)\n",
    "y1 = np.exp(-x)\n",
    "y2 = -np.exp(-x)\n",
    "y3 = np.cos(2 * np.pi * x) * np.exp(-x)\n",
    "\n",
    "plt.plot(x,y1,\"g--\" , label='Damping rate')\n",
    "plt.plot(x,y2,\"g--\" , label='')\n",
    "plt.plot(x,y3,\"b-.\" , label='Damped oscillation') # Use LaTeX\n",
    "\n",
    "# Set the range of the x and y axis\n",
    "plt.xlim(0,4)\n",
    "plt.ylim(-1.1,1.1)\n",
    "\n",
    "# Label the axes and increase the font\n",
    "plt.xlabel(\"time (s)\"      , fontsize=20)\n",
    "plt.ylabel(\"Position (cm)\"      , fontsize=20)\n",
    "\n",
    "# Title the plot\n",
    "plt.title('Under-damped Oscillation', fontsize=20)\n",
    "\n",
    "# Draw a legend\n",
    "#   loc -> location. examples: 'upper right', 'upper center', 'best'\n",
    "#   fontsize. examples large etc.\n",
    "#   framealpha -> set transparency\n",
    "plt.legend(loc='upper right', fontsize='large', framealpha=1)\n",
    "\n",
    "# Draw a grid\n",
    "plt.grid(True)\n",
    "\n",
    "# Increase axis tick labels (there are a few ways to do this)\n",
    "plt.tick_params(axis='both', which='major', labelsize=20)\n",
    "\n",
    "# Display the plot on screen\n",
    "plt.show()"
   ]
  },
  {
   "cell_type": "markdown",
   "metadata": {
    "id": "wrNzJ3IpsIat"
   },
   "source": [
    "<font color=magenta>**Analyze Data**</font>"
   ]
  },
  {
   "cell_type": "code",
   "execution_count": null,
   "metadata": {
    "id": "4iCXjEplsa2B"
   },
   "outputs": [],
   "source": [
    "# Example using the external python package pandas\n",
    "\n",
    "import pandas as pd\n",
    "import numpy as np\n",
    "import matplotlib.pyplot as plt\n",
    "\n",
    "# Make a pandas Dataframe\n",
    "df = pd.DataFrame(\n",
    "    [   #[Population, county, area (square miles)]\n",
    "        [77879,  \"Lake\",23.81],\n",
    "        [69093,  \"Lake\",50.6],\n",
    "        [34151,\"Porter\",16.43],\n",
    "        [14375,\"Porter\",9.49],\n",
    "        [37926,\"Porter\",27.65],\n",
    "        [33899,  \"Lake\",17.98],\n",
    "        [36524,  \"Lake\",33.29],\n",
    "        [23761,  \"Lake\",7.73]\n",
    "    ],\n",
    "    index = [\"Hammond\", \"Gary\", \"Valparaiso\", \"Chesterton\", \"Portage\", \"Crown Point\", \"Merrillville\", \"Munster\"],\n",
    "    columns = [\"Population\",\"County\",\"Area\"]\n",
    ")\n",
    "\n",
    "# Display the DataFrame\n",
    "display(df)"
   ]
  },
  {
   "cell_type": "code",
   "execution_count": null,
   "metadata": {
    "id": "oxhYLaUCkvcs"
   },
   "outputs": [],
   "source": [
    "# Select only cities that satisfy some criteria\n",
    "df_filtered = df.loc[(df['Population'] > 30000 ) & (df['Area'] <30) ]\n",
    "df_filtered"
   ]
  },
  {
   "cell_type": "code",
   "execution_count": null,
   "metadata": {
    "id": "-XhUUD04wLYt",
    "scrolled": true
   },
   "outputs": [],
   "source": [
    "# Plot the area of cities which satisfy some criteria\n",
    "df_filtered.plot.bar(y='Area')\n",
    "plt.title('Area of cities with population greater than 30,000 and area less than 30 mi$^2$', fontsize=13)\n",
    "plt.ylabel(\"Area (square miles)\"      , fontsize=13)\n",
    "plt.show()"
   ]
  },
  {
   "cell_type": "markdown",
   "metadata": {
    "id": "qVcmQgoGNxwe"
   },
   "source": [
    "<font color=magenta>**Display images**</font>"
   ]
  },
  {
   "cell_type": "markdown",
   "metadata": {
    "id": "7vNXFLDFmri4"
   },
   "source": [
    "![Image of seed sower](https://raw.githubusercontent.com/jstupak/ComputationalPhysics/master/Images/seedSower.png)"
   ]
  },
  {
   "cell_type": "markdown",
   "metadata": {
    "id": "07xj7XrbNxwf"
   },
   "source": [
    "<font color=magenta>**Display and solve equations**</font>"
   ]
  },
  {
   "cell_type": "code",
   "execution_count": null,
   "metadata": {
    "colab": {
     "base_uri": "https://localhost:8080/",
     "height": 68
    },
    "id": "azDjTCZINxwf",
    "outputId": "45ef97f4-d44b-4393-d860-21852097b725"
   },
   "outputs": [],
   "source": [
    "# Example using the external python package sympy (symbolic computing)\n",
    "\n",
    "import sympy as sy\n",
    "sy.init_printing() # display better looking symbols in Jupyter notebooks\n",
    "a,b,c,x= sy.symbols(\"a,b,c,x\")\n",
    "f = a*x**2 + b*x + c\n",
    "sy.solve(f,x)"
   ]
  },
  {
   "cell_type": "markdown",
   "metadata": {
    "id": "DXbPWRhYNxwg"
   },
   "source": [
    "## How to use Jupyter Notebooks\n",
    "\n",
    "### Using Google Colab\n",
    "\n",
    "With Google Colab you don't have to install anything. Simply navigate to:\n",
    "\n",
    "https://colab.research.google.com\n",
    "\n",
    "To open a notebook, click on \"File\"->\"Open Notebook\". You can open a noteboook saved on your computer, or open a notebook saved online. For this class I have posted the notebooks on Github. Within google colab click on Github and paste the link below:\n",
    "\n",
    "https://github.com/jstupak/ComputationalPhysics/tree/master/Notebooks\n",
    "\n",
    "Then click on the notebook you wish to open.\n",
    "\n",
    "### Using Binder\n",
    "\n",
    "To open with Binder, you can either click on the button in Github or below to open the notebooks:\n",
    "\n",
    "[![Binder](https://mybinder.org/badge_logo.svg)](https://mybinder.org/v2/gh/jstupak/ComputationalPhysics/master)\n",
    "\n",
    "We may use some packages later in the class that do not work in Binder. For these packages you may have to install Anaconda and Jupyter (see below)."
   ]
  },
  {
   "cell_type": "markdown",
   "metadata": {
    "id": "yiB0oD1fNxwg"
   },
   "source": [
    "### How to install Jupyter on your home computer (optional)\n",
    "\n",
    "The easiest way to install Jupyter along with python and other useful packages is to install software known as \"Anaconda\":\n",
    "\n",
    "https://www.anaconda.com/distribution/\n",
    "\n",
    "You can find more information here:\n",
    "\n",
    "https://jupyter-notebook-beginner-guide.readthedocs.io/en/latest/install.html\n"
   ]
  },
  {
   "cell_type": "markdown",
   "metadata": {
    "id": "0I3o_BM8Nxwg"
   },
   "source": [
    "### How to open Jupyter Notebooks on your computer\n",
    "\n",
    "The easiest way to do this (without installing anything) is to open the notebook using Google Colab. If you are on a computer which has Jupyter installed, you can open a Jupyter noteboook as follows:\n",
    "\n",
    "Open the installed Anaconda-Navigator program on your computer. Click on a Jupyter Notebook.\n",
    "\n",
    "Alternatively, you may use the terminal.\n",
    "\n",
    "On a Mac:\n",
    "- Open the terminal application (in Applications->Utilities)\n",
    "- Type \"jupyter notebook\" and press enter\n",
    "\n",
    "On a Windows machine:\n",
    "\n",
    "- Find jupyter notebook in the start menu\n",
    "- You can also open a terminal and type \"jupyter notebook\"\n",
    "\n",
    "You can find more information here:\n",
    "\n",
    "https://jupyter-notebook-beginner-guide.readthedocs.io/en/latest/execute.html\n"
   ]
  },
  {
   "cell_type": "markdown",
   "metadata": {
    "id": "6sXQXiMvNxwh"
   },
   "source": [
    "### How to use Jupyter Notebooks"
   ]
  },
  {
   "cell_type": "markdown",
   "metadata": {
    "id": "GCuQtA1bNxwi"
   },
   "source": [
    "<font color=blue>**Create a new notebook**</font>\n",
    "\n",
    "Click on the \"File\" menu on the toolbar and select \"New Notebook\" then select \"Python 3.\" You can rename the notebook by clicking on it's name in the toolbar.\n",
    "<br>\n",
    "<br>\n",
    "<font color=blue>**Save a notebook so that you can open it later**</font>\n",
    "\n",
    "*save local file*: Click on the \"File\" menu in the toolbar and select \"Save and Checkpoint\"\n",
    "<br>\n",
    "\n",
    "*save file from Github*: Click on the \"File\" menu in the toolbar and select \"Download As\" then select \"Notebook (.ipynb file).\"\n",
    "<br>\n",
    "<br>\n",
    "<font color=purple> Note: Jupyter notebook files are known as \"ipynb\" files which stands for \"ipython notebook\" </font>\n",
    "\n",
    "<font color=blue>**Create and run cells**</font>\n",
    "\n",
    "The Jupyter Notebook is organized into individual \"cells.\" Initially you have just one cell but you can create more by clicking on the \"+\" button on the toolbar.\n",
    "\n",
    "There are two principal types of cells:\n",
    "1. Code cells\n",
    "2. Markdown cells\n",
    "\n",
    "You can switch between these using the dropdown menu on the toolbar.\n",
    "\n",
    "Code cells expect python code and they will interpret and run what you type after your press <kbd>shift + enter</kbd>\n",
    "\n",
    "Markdown cells are where you can write nicely formatted text (like in this current cell) and display it by pressing <kbd>shift + enter</kbd>. To learn how to edit text using markdown language you can click on \"Help\" then \"Markdown\"."
   ]
  },
  {
   "cell_type": "markdown",
   "metadata": {
    "id": "-DHXKtZ0Nxwi"
   },
   "source": [
    "Jupyter notebooks also allow you to navigate and create new cells using your keyboard only.\n",
    "\n",
    "You can click on the toolbar \"Help\" then \"Keyboard Shortcuts\" to find out what commands are available when in Command Mode. My favorites are the following:\n",
    " - <kbd>m</kbd> - Convert a cell to a markdown cell\n",
    " - <kbd>y</kbd> - Convert a cell to a code cell\n",
    " - <kbd>a</kbd> - Insert new cell abbove\n",
    " - <kbd>b</kbd> - Insert new cell below\n",
    " - <kbd>x</kbd> - cut cell\n",
    " - <kbd>c</kbd> - copy cell\n",
    " - <kbd>v</kbd> - paste cell\n",
    " - <kbd>up</kbd> and <kbd>down</kbd> arrow - navigate between cells\n",
    " - <kbd>esc</kbd> - Change to command mode\n",
    " - <kbd>enter</kbd> - Change to edit mode\n",
    " - <kbd>shift + enter</kbd> - Run the cell\n"
   ]
  },
  {
   "cell_type": "markdown",
   "metadata": {
    "id": "QeONtj0LNxwk"
   },
   "source": [
    "<font color=blue>**Writing code in your jupyter notebook**</font>\n",
    "\n",
    "Cells run in the order in which you run them or you can run them all from top down.\n",
    "\n",
    "Your code in one cell may depend on code in a different cell (for example if you create a function or import a package in one cell and then run a funciton in a different cell). You must import the packgage or define the function before running the dependent cell.\n",
    "\n",
    "A quick example:"
   ]
  },
  {
   "cell_type": "code",
   "execution_count": null,
   "metadata": {
    "id": "XvZQIZkONxwk"
   },
   "outputs": [],
   "source": [
    "print(pi)"
   ]
  },
  {
   "cell_type": "code",
   "execution_count": null,
   "metadata": {
    "id": "f4bTlmHtNxwk"
   },
   "outputs": [],
   "source": [
    "from math import pi             # import the variable pi"
   ]
  },
  {
   "cell_type": "code",
   "execution_count": null,
   "metadata": {
    "id": "EUASFIFiNxwl"
   },
   "outputs": [],
   "source": [
    "print(pi)"
   ]
  },
  {
   "cell_type": "markdown",
   "metadata": {
    "id": "CSyLN9VeNxwl"
   },
   "source": [
    "If your code is taking too long to run you can click on Kernel->Interupt.\n",
    "\n",
    "If you are having strange problems (lots of errors) you may want to try doing Kernel->Restart.\n",
    "\n",
    "When you are done working, save your Notebook (as discussed above) and click \"File\"->\"Close and Halt\" (otherwise your notebook will keep running in the background even if you close the window."
   ]
  },
  {
   "cell_type": "markdown",
   "metadata": {
    "id": "YskU87YONxwm"
   },
   "source": [
    "<font color=blue>**Dealing with error messages**</font>\n",
    "\n",
    "The Jupyter notebook will display standard python error messages. Generally these messages contain a line number where the interpeter thinks the error is coming from. Therefore I would recommmend turning on line numbers in Jupyter by going to \"View\"->\"Toggle Line Numbers\""
   ]
  },
  {
   "cell_type": "code",
   "execution_count": 4,
   "metadata": {
    "id": "lfjvAe6wNxwm"
   },
   "outputs": [
    {
     "name": "stdout",
     "output_type": "stream",
     "text": [
      "3\n"
     ]
    },
    {
     "ename": "NameError",
     "evalue": "name 'b' is not defined",
     "output_type": "error",
     "traceback": [
      "\u001b[0;31m---------------------------------------------------------------------------\u001b[0m",
      "\u001b[0;31mNameError\u001b[0m                                 Traceback (most recent call last)",
      "\u001b[0;32m/var/folders/g0/jmslkjxj05x152gsxfk1vzwm0000gp/T/ipykernel_87582/1410683405.py\u001b[0m in \u001b[0;36m<module>\u001b[0;34m\u001b[0m\n\u001b[1;32m      3\u001b[0m \u001b[0;34m\u001b[0m\u001b[0m\n\u001b[1;32m      4\u001b[0m \u001b[0mprint\u001b[0m\u001b[0;34m(\u001b[0m\u001b[0ma\u001b[0m\u001b[0;34m)\u001b[0m\u001b[0;34m\u001b[0m\u001b[0;34m\u001b[0m\u001b[0m\n\u001b[0;32m----> 5\u001b[0;31m \u001b[0mprint\u001b[0m\u001b[0;34m(\u001b[0m\u001b[0mb\u001b[0m\u001b[0;34m)\u001b[0m\u001b[0;34m\u001b[0m\u001b[0;34m\u001b[0m\u001b[0m\n\u001b[0m\u001b[1;32m      6\u001b[0m \u001b[0mprint\u001b[0m\u001b[0;34m(\u001b[0m\u001b[0mc\u001b[0m\u001b[0;34m)\u001b[0m\u001b[0;34m\u001b[0m\u001b[0;34m\u001b[0m\u001b[0m\n",
      "\u001b[0;31mNameError\u001b[0m: name 'b' is not defined"
     ]
    }
   ],
   "source": [
    "a=3\n",
    "c=5\n",
    "\n",
    "print(a)\n",
    "print(b)\n",
    "print(c)"
   ]
  },
  {
   "cell_type": "markdown",
   "metadata": {},
   "source": []
  }
 ],
 "metadata": {
  "colab": {
   "provenance": []
  },
  "kernelspec": {
   "display_name": "Python 3 (ipykernel)",
   "language": "python",
   "name": "python3"
  },
  "language_info": {
   "codemirror_mode": {
    "name": "ipython",
    "version": 3
   },
   "file_extension": ".py",
   "mimetype": "text/x-python",
   "name": "python",
   "nbconvert_exporter": "python",
   "pygments_lexer": "ipython3",
   "version": "3.7.12"
  }
 },
 "nbformat": 4,
 "nbformat_minor": 4
}
