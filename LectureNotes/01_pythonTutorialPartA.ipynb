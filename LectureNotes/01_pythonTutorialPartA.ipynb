{
 "cells": [
  {
   "cell_type": "markdown",
   "metadata": {},
   "source": [
    "# Python Tutorial - Part A"
   ]
  },
  {
   "cell_type": "markdown",
   "metadata": {},
   "source": [
    "### Code and comments\n",
    "\n",
    "Anything you write in a Code cell will be interpreted and run when you press <kbd>Shift+Enter</kbd>.\n",
    "\n",
    "You can also leave comments using the `#` symbol. Python will not run anything on the same line after the `#`."
   ]
  },
  {
   "cell_type": "code",
   "execution_count": 1,
   "metadata": {},
   "outputs": [
    {
     "name": "stdout",
     "output_type": "stream",
     "text": [
      "7\n",
      "Force =  159.0 N\n"
     ]
    }
   ],
   "source": [
    "x = 3\n",
    "# This text is a comment\n",
    "y = 4 # This text is also a comment. Use comments to document your code when necessary. \n",
    "z = x + y #In this case the code is self explanatory so no comment is needed\n",
    "print(z)\n",
    "\n",
    "\n",
    "m = 53 # kg\n",
    "a = 3.0 # m/s^2\n",
    "force = m * a # Calculate force in Newtons using Newton's laws\n",
    "print (\"Force = \",force,\"N\")"
   ]
  },
  {
   "cell_type": "markdown",
   "metadata": {},
   "source": [
    "### Printing to the screen\n",
    "\n",
    "The built-in `print()` function displays your specified text to the screen.\n",
    "\n",
    "Documentation: https://docs.python.org/3/library/functions.html#print\n",
    "\n",
    "Print a string to the screen:"
   ]
  },
  {
   "cell_type": "code",
   "execution_count": 2,
   "metadata": {},
   "outputs": [
    {
     "name": "stdout",
     "output_type": "stream",
     "text": [
      "Hello world\n"
     ]
    }
   ],
   "source": [
    "print(\"Hello world\")"
   ]
  },
  {
   "cell_type": "markdown",
   "metadata": {},
   "source": [
    "Print two strings to the screen separated by a space:"
   ]
  },
  {
   "cell_type": "code",
   "execution_count": 3,
   "metadata": {},
   "outputs": [
    {
     "name": "stdout",
     "output_type": "stream",
     "text": [
      "First Third\n"
     ]
    }
   ],
   "source": [
    "print(\"First\",\"Third\")"
   ]
  },
  {
   "cell_type": "markdown",
   "metadata": {},
   "source": [
    "Print three strings separated by a user defined separator using the argument sep (\"keyword argument\"):"
   ]
  },
  {
   "cell_type": "code",
   "execution_count": 4,
   "metadata": {},
   "outputs": [
    {
     "name": "stdout",
     "output_type": "stream",
     "text": [
      "Cat<--->Dog<--->Horse\n"
     ]
    }
   ],
   "source": [
    "print(\"Cat\",\"Dog\",\"Horse\",sep=\"<--->\") "
   ]
  },
  {
   "cell_type": "markdown",
   "metadata": {},
   "source": [
    "Print on two different lines:"
   ]
  },
  {
   "cell_type": "code",
   "execution_count": 5,
   "metadata": {},
   "outputs": [
    {
     "name": "stdout",
     "output_type": "stream",
     "text": [
      "Cat\n",
      "Dog\n"
     ]
    }
   ],
   "source": [
    "print(\"Cat\")\n",
    "print(\"Dog\")"
   ]
  },
  {
   "cell_type": "markdown",
   "metadata": {},
   "source": [
    "Print on the same line with different statements:"
   ]
  },
  {
   "cell_type": "code",
   "execution_count": 6,
   "metadata": {},
   "outputs": [
    {
     "name": "stdout",
     "output_type": "stream",
     "text": [
      "CatDog\n"
     ]
    }
   ],
   "source": [
    "print(\"Cat\",end=\"\")\n",
    "print(\"Dog\")"
   ]
  },
  {
   "cell_type": "markdown",
   "metadata": {},
   "source": [
    "You can use the character `\\n` to force a new line in the middle of one print statement:"
   ]
  },
  {
   "cell_type": "code",
   "execution_count": 7,
   "metadata": {},
   "outputs": [
    {
     "name": "stdout",
     "output_type": "stream",
     "text": [
      "Cat\n",
      "Dog\n"
     ]
    }
   ],
   "source": [
    "print(\"Cat\\nDog\")"
   ]
  },
  {
   "cell_type": "markdown",
   "metadata": {},
   "source": [
    "You can also use the character `\\t` to create a tab:"
   ]
  },
  {
   "cell_type": "code",
   "execution_count": 8,
   "metadata": {},
   "outputs": [
    {
     "name": "stdout",
     "output_type": "stream",
     "text": [
      "Cat\n",
      "\tDog\n"
     ]
    }
   ],
   "source": [
    "print(\"Cat\")\n",
    "print(\"\\tDog\")"
   ]
  },
  {
   "cell_type": "markdown",
   "metadata": {},
   "source": [
    "#### Exercise 01-1\n",
    "\n",
    "Write code in the cell below using the `print()` function and run the code (shift+enter) such that it displays the following:\n",
    "\n",
    "    Physics is fun\n",
    "\n",
    "           So is writing python code\n",
    "       \n",
    "    Physics+Math+Coding\n",
    "\n",
    "           = Fun\n",
    "      \n",
    "<details>\n",
    "    <summary style=\"display:list-item\">Click for hint</summary>\n",
    "\n",
    "* Utilize the tab character `\\t`  \n",
    "* Utilize the sep keyword argument to put plus signs between arguments  \n",
    "* Think about ways in which you could add an extra line between each printed statement\n",
    "    \n",
    "</details>"
   ]
  },
  {
   "cell_type": "code",
   "execution_count": null,
   "metadata": {},
   "outputs": [],
   "source": []
  },
  {
   "cell_type": "markdown",
   "metadata": {},
   "source": [
    "<details>\n",
    "    <summary style=\"display:list-item\">Click for solution</summary>\n",
    "    \n",
    "```python\n",
    "print(\"Physics is fun\\n\")\n",
    "print(\"\\tSo is writing python code\\n\")\n",
    "print(\"Physics\",\"Math\",\"Coding\\n\",sep=\"+\")\n",
    "print(\"\\t= Fun\")\n",
    "```\n",
    "    \n",
    "</details>"
   ]
  },
  {
   "cell_type": "markdown",
   "metadata": {},
   "source": [
    "You can use the built-in function `type()` to check what type of object the `print()` function is:"
   ]
  },
  {
   "cell_type": "code",
   "execution_count": 9,
   "metadata": {},
   "outputs": [
    {
     "data": {
      "text/plain": [
       "builtin_function_or_method"
      ]
     },
     "execution_count": 9,
     "metadata": {},
     "output_type": "execute_result"
    }
   ],
   "source": [
    "type(print)"
   ]
  },
  {
   "cell_type": "markdown",
   "metadata": {},
   "source": [
    "We can also use the built-in function `help()` to read the documentation on the `print()` function:"
   ]
  },
  {
   "cell_type": "code",
   "execution_count": 10,
   "metadata": {},
   "outputs": [
    {
     "name": "stdout",
     "output_type": "stream",
     "text": [
      "Help on built-in function print in module builtins:\n",
      "\n",
      "print(...)\n",
      "    print(value, ..., sep=' ', end='\\n', file=sys.stdout, flush=False)\n",
      "    \n",
      "    Prints the values to a stream, or to sys.stdout by default.\n",
      "    Optional keyword arguments:\n",
      "    file:  a file-like object (stream); defaults to the current sys.stdout.\n",
      "    sep:   string inserted between values, default a space.\n",
      "    end:   string appended after the last value, default a newline.\n",
      "    flush: whether to forcibly flush the stream.\n",
      "\n"
     ]
    }
   ],
   "source": [
    "help(print)"
   ]
  },
  {
   "cell_type": "markdown",
   "metadata": {},
   "source": [
    "NB: The definition of this function changed between python 2 and python 3.  If you try to run code developed for python 2, you will have to update the print statements!"
   ]
  },
  {
   "cell_type": "markdown",
   "metadata": {},
   "source": [
    "### Variable assignment and output\n",
    "\n",
    "Variables are used to hold values.  Store the value \"3\" in variable `x`:"
   ]
  },
  {
   "cell_type": "code",
   "execution_count": 11,
   "metadata": {},
   "outputs": [],
   "source": [
    "x = 3   "
   ]
  },
  {
   "cell_type": "markdown",
   "metadata": {},
   "source": [
    "Print the **value of** variable `x` to the screen:"
   ]
  },
  {
   "cell_type": "code",
   "execution_count": 12,
   "metadata": {},
   "outputs": [
    {
     "name": "stdout",
     "output_type": "stream",
     "text": [
      "3\n"
     ]
    }
   ],
   "source": [
    "print(x)  "
   ]
  },
  {
   "cell_type": "markdown",
   "metadata": {},
   "source": [
    "Reassign a new value to the variable `x`: "
   ]
  },
  {
   "cell_type": "code",
   "execution_count": 13,
   "metadata": {},
   "outputs": [
    {
     "name": "stdout",
     "output_type": "stream",
     "text": [
      "4\n"
     ]
    }
   ],
   "source": [
    "x=4   \n",
    "print(x)"
   ]
  },
  {
   "cell_type": "markdown",
   "metadata": {},
   "source": [
    "You can add text before and after the variable:"
   ]
  },
  {
   "cell_type": "code",
   "execution_count": 14,
   "metadata": {},
   "outputs": [
    {
     "name": "stdout",
     "output_type": "stream",
     "text": [
      "The value of x is 4, isn't that cool!\n"
     ]
    }
   ],
   "source": [
    "print(\"The value of x is \", x,\", isn't that cool!\",sep=\"\")"
   ]
  },
  {
   "cell_type": "markdown",
   "metadata": {},
   "source": [
    "You can simultaneously assign the same value to multiple variables (NB: be careful when using \"objects\"):"
   ]
  },
  {
   "cell_type": "code",
   "execution_count": 15,
   "metadata": {},
   "outputs": [
    {
     "name": "stdout",
     "output_type": "stream",
     "text": [
      "2 2 2\n"
     ]
    }
   ],
   "source": [
    "g=h=j=2\n",
    "print(g,h,j)"
   ]
  },
  {
   "cell_type": "markdown",
   "metadata": {},
   "source": [
    "Reassign one of the variables:"
   ]
  },
  {
   "cell_type": "code",
   "execution_count": 16,
   "metadata": {},
   "outputs": [
    {
     "name": "stdout",
     "output_type": "stream",
     "text": [
      "2 2 3\n"
     ]
    }
   ],
   "source": [
    "j=3\n",
    "print(g,h,j)"
   ]
  },
  {
   "cell_type": "markdown",
   "metadata": {},
   "source": [
    "Assignment statements evaluate the expression on the right-hand side of the `=`, and assign this to the variable on the left-hand side:"
   ]
  },
  {
   "cell_type": "code",
   "execution_count": 17,
   "metadata": {},
   "outputs": [
    {
     "name": "stdout",
     "output_type": "stream",
     "text": [
      "7\n",
      "7\n"
     ]
    }
   ],
   "source": [
    "x = 7\n",
    "y = x     #at this point, the expression on the right hand side evaluates to 7, which is stored in the variable \"y\"\n",
    "print(y)\n",
    "x = 8     #modifying x here has no impact on the previously stored value of \"y\"\n",
    "print(y)"
   ]
  },
  {
   "cell_type": "markdown",
   "metadata": {},
   "source": [
    "### Variable names\n",
    "\n",
    "Python has rules about what can be used as a variable name: \n",
    "- Letters and underscores are okay. \n",
    "- A variable name cannot start with a number but it may contain a number\n",
    "- Other characters are not okay (-, \\\\, +, etc.)\n",
    "\n",
    "These names are all okay:"
   ]
  },
  {
   "cell_type": "code",
   "execution_count": 18,
   "metadata": {},
   "outputs": [],
   "source": [
    "x = 5  \n",
    "CAPITAL = 34\n",
    "neutrino_1 = 2.59 \n",
    "_galaxy5 = 3.2 "
   ]
  },
  {
   "cell_type": "markdown",
   "metadata": {},
   "source": [
    "This name is not okay:"
   ]
  },
  {
   "cell_type": "code",
   "execution_count": 19,
   "metadata": {},
   "outputs": [
    {
     "ename": "SyntaxError",
     "evalue": "invalid syntax (981924340.py, line 1)",
     "output_type": "error",
     "traceback": [
      "\u001b[0;36m  File \u001b[0;32m\"/var/folders/g0/jmslkjxj05x152gsxfk1vzwm0000gp/T/ipykernel_10762/981924340.py\"\u001b[0;36m, line \u001b[0;32m1\u001b[0m\n\u001b[0;31m    25pro = 5.3\u001b[0m\n\u001b[0m        ^\u001b[0m\n\u001b[0;31mSyntaxError\u001b[0m\u001b[0;31m:\u001b[0m invalid syntax\n"
     ]
    }
   ],
   "source": [
    "25pro = 5.3"
   ]
  },
  {
   "cell_type": "code",
   "execution_count": null,
   "metadata": {},
   "outputs": [],
   "source": [
    "hydrogen_plus_helium = 5 # okay\n",
    "hydrogen+helium = 5 # not okay"
   ]
  },
  {
   "cell_type": "markdown",
   "metadata": {},
   "source": [
    "#### Exercise 01-2\n",
    "\n",
    "In the code cell below, do the following:\n",
    "\n",
    "1. Define a variable which stores Planck's constant $h=6.62\\times10^{-34}$ m$^2$kg/s\n",
    "2. Define a variable which stores the value of $\\pi$: 3.14159265\n",
    "3. Use the previously defined variables to define the reduced Planck's constant (Planck's constant divided by $2\\pi$), typically denoted $\\hbar$\n",
    "4. Print all 3 variables to the screen with text labels\n",
    "\n",
    "<details>\n",
    "    <summary style=\"display:list-item\">Click for hint</summary>\n",
    "    \n",
    "You can use the notation `e-34` to denote $\\times10^{-34}$\n",
    "    \n",
    "</details>"
   ]
  },
  {
   "cell_type": "code",
   "execution_count": null,
   "metadata": {},
   "outputs": [],
   "source": []
  },
  {
   "cell_type": "markdown",
   "metadata": {},
   "source": [
    "<details>\n",
    "    <summary style=\"display:list-item\">Click for solution</summary>\n",
    "\n",
    "```python\n",
    "h=6.62e-24\n",
    "pi=3.14159265\n",
    "\n",
    "hbar=h/(2*pi)\n",
    "print(\"h =\",h)\n",
    "print(\"pi =\",pi)\n",
    "print(\"hbar =\",hbar)\n",
    "```\n",
    "    \n",
    "</details>"
   ]
  },
  {
   "cell_type": "markdown",
   "metadata": {},
   "source": [
    "### Variable types\n",
    "\n",
    "Standard \"primitive\" variable types: `int`, `float`, `string`, or `complex`. \n",
    "\n",
    "* `int` = \"Integer\" \n",
    "    * Variable type used to store integer numbers (no decimals)\n",
    "* `float` = \"Floating point number\"\n",
    "    * Variable type used to store real numbers\n",
    "* `str` = \"String\"\n",
    "    * Variable type used to store and manipulate text\n",
    "* `complex` = \"Complex number\"\n",
    "    * Variable type used to store complex numbers (with both the real and imaginary parts)\n",
    "\n",
    "Python is \"dynamically typed.\" This means that you typically do not have to define the type (it figures it out for you). It also means that one variable name can be first defined as one type and later changed to contain a different type. "
   ]
  },
  {
   "cell_type": "code",
   "execution_count": null,
   "metadata": {},
   "outputs": [],
   "source": [
    "x = 5  #Python determines that this is an integer\n",
    "type(x)"
   ]
  },
  {
   "cell_type": "code",
   "execution_count": null,
   "metadata": {},
   "outputs": [],
   "source": [
    "y = 5.0 #Python determines that this is a floating point number\n",
    "type(y)"
   ]
  },
  {
   "cell_type": "code",
   "execution_count": null,
   "metadata": {},
   "outputs": [],
   "source": [
    "z=\"hello\" #Python determines that this is a string   \n",
    "type(z)"
   ]
  },
  {
   "cell_type": "code",
   "execution_count": null,
   "metadata": {},
   "outputs": [],
   "source": [
    "m = 8 + 2j #Python determines that this is a complex number (Python uses \"j\" instead of \"i\" for the imaginary unit)\n",
    "type(m)"
   ]
  },
  {
   "cell_type": "markdown",
   "metadata": {},
   "source": [
    "Python also includes a function that can be uses to define complex numbers, which takes as argument the real and imaginary components:"
   ]
  },
  {
   "cell_type": "code",
   "execution_count": null,
   "metadata": {},
   "outputs": [],
   "source": [
    "k = complex(2,7)\n",
    "type(k)\n",
    "print(k)"
   ]
  },
  {
   "cell_type": "markdown",
   "metadata": {},
   "source": [
    "You can print the real and imaginary part of complex number using the attributes `real` and `imag`:\n"
   ]
  },
  {
   "cell_type": "code",
   "execution_count": null,
   "metadata": {},
   "outputs": [],
   "source": [
    "print(\"The real part of k is:\",k.real) \n",
    "  \n",
    "print(\"The imaginary part of k is:\",k.imag) "
   ]
  },
  {
   "cell_type": "markdown",
   "metadata": {},
   "source": [
    "You can print variables of multiple types at once:"
   ]
  },
  {
   "cell_type": "code",
   "execution_count": null,
   "metadata": {},
   "outputs": [],
   "source": [
    "print(x,y,z,k,sep=\", \")"
   ]
  },
  {
   "cell_type": "markdown",
   "metadata": {},
   "source": [
    "The type of the result of a calculation depends on the types of the input variables.  Generally, if all inputs are of the same type, the result will also be of that type.  If the inputs are not all the same type, the result will be in the form of the most general type of input:"
   ]
  },
  {
   "cell_type": "code",
   "execution_count": null,
   "metadata": {},
   "outputs": [],
   "source": [
    "float_input1 = 15.5\n",
    "float_input2 = 3.14159\n",
    "\n",
    "int_input1 = 5\n",
    "int_input2 = 22\n",
    "\n",
    "result = int_input1 + int_input2\n",
    "print(result,type(result))"
   ]
  },
  {
   "cell_type": "code",
   "execution_count": null,
   "metadata": {},
   "outputs": [],
   "source": [
    "result = float_input1 + float_input2\n",
    "print(result,type(result))"
   ]
  },
  {
   "cell_type": "code",
   "execution_count": null,
   "metadata": {},
   "outputs": [],
   "source": [
    "result = int_input1 + float_input1\n",
    "print(result,type(result))"
   ]
  },
  {
   "cell_type": "markdown",
   "metadata": {},
   "source": [
    "Python performs \"implicit conversion\" and automatically converts the int to a float when adding it to a float. If it were to instead convert the float to an int you would lose some information.\n",
    "\n",
    "You can add two complex numbers just like other types, or complex+int/float. Python properly adds the real and imaginary parts seperately."
   ]
  },
  {
   "cell_type": "code",
   "execution_count": null,
   "metadata": {},
   "outputs": [],
   "source": [
    "print(\"k =\",k)\n",
    "print(\"m =\",m)\n",
    "print(\"k+m =\",k+m)"
   ]
  },
  {
   "cell_type": "markdown",
   "metadata": {},
   "source": [
    "Division is a notable exception to the general rule:"
   ]
  },
  {
   "cell_type": "code",
   "execution_count": null,
   "metadata": {},
   "outputs": [],
   "source": [
    "result = int_input2 / int_input\n",
    "print(type(result),result,sep=\"\\n\")"
   ]
  },
  {
   "cell_type": "markdown",
   "metadata": {},
   "source": [
    "Despite the inputs both being integers, the output is a float.  This is because divison of two integers does not generally yield another integer."
   ]
  },
  {
   "cell_type": "markdown",
   "metadata": {},
   "source": [
    "### Converting between types\n",
    "\n",
    "Python has built-in functions which convert a variable from one type to another:\n"
   ]
  },
  {
   "cell_type": "code",
   "execution_count": null,
   "metadata": {},
   "outputs": [],
   "source": [
    "x = 5\n",
    "print(type(x),x,sep=\"\\n\")"
   ]
  },
  {
   "cell_type": "markdown",
   "metadata": {},
   "source": [
    "The `float()` function converts a variable to be of type `float`:"
   ]
  },
  {
   "cell_type": "code",
   "execution_count": null,
   "metadata": {},
   "outputs": [],
   "source": [
    "y = float(x)\n",
    "print(type(y),y,sep=\"\\n\")"
   ]
  },
  {
   "cell_type": "markdown",
   "metadata": {},
   "source": [
    "The `str()` function converts a variable to be of type `str`:"
   ]
  },
  {
   "cell_type": "code",
   "execution_count": null,
   "metadata": {},
   "outputs": [],
   "source": [
    "z = str(x)\n",
    "print(type(z),z,sep=\"\\n\")"
   ]
  },
  {
   "cell_type": "markdown",
   "metadata": {},
   "source": [
    "Despite the printed value of `z` resembling the printed value of `x`, these objects are of different types and multiplication behaves differently for each."
   ]
  },
  {
   "cell_type": "code",
   "execution_count": null,
   "metadata": {},
   "outputs": [],
   "source": [
    "print (\"3x =\",3*x)\n",
    "print (\"3y =\",3*y)\n",
    "print (\"3z =\",3*z)"
   ]
  },
  {
   "cell_type": "markdown",
   "metadata": {},
   "source": [
    "The `int()` function converts a variable to be of type `int` (NB: there is information loss when converting from `float` to `int`)"
   ]
  },
  {
   "cell_type": "code",
   "execution_count": null,
   "metadata": {},
   "outputs": [],
   "source": [
    "k = int(6.3)\n",
    "print(type(k),k,sep=\"\\n\")"
   ]
  },
  {
   "cell_type": "code",
   "execution_count": null,
   "metadata": {},
   "outputs": [],
   "source": [
    "j = int(z)\n",
    "print(type(j),j,sep=\"\\n\")"
   ]
  },
  {
   "cell_type": "markdown",
   "metadata": {},
   "source": [
    "The `complex()` function can also be used to convert an `int`, `float`, or `string` to a complex type:"
   ]
  },
  {
   "cell_type": "code",
   "execution_count": null,
   "metadata": {},
   "outputs": [],
   "source": [
    "m = complex(x)\n",
    "print(type(m),m,sep=\"\\n\")"
   ]
  },
  {
   "cell_type": "code",
   "execution_count": null,
   "metadata": {},
   "outputs": [],
   "source": [
    "n = complex(\"6+2j\")\n",
    "print(type(n),n,sep=\"\\n\")"
   ]
  },
  {
   "cell_type": "markdown",
   "metadata": {},
   "source": [
    "#### Exercise 01-3\n"
   ]
  },
  {
   "cell_type": "markdown",
   "metadata": {},
   "source": [
    "Convert the following variables to integers and print out the resulting type and converted value:"
   ]
  },
  {
   "cell_type": "code",
   "execution_count": null,
   "metadata": {},
   "outputs": [],
   "source": [
    "b_float = -59.3\n",
    "c_float = 100.99"
   ]
  },
  {
   "cell_type": "code",
   "execution_count": null,
   "metadata": {},
   "outputs": [],
   "source": []
  },
  {
   "cell_type": "markdown",
   "metadata": {},
   "source": [
    "<details>\n",
    "    <summary style=\"display:list-item\">Click for solution</summary>\n",
    "\n",
    "```python\n",
    "b_int = int(b_float)\n",
    "c_int = int(c_float)\n",
    "\n",
    "print(type(b_int),b_int)\n",
    "print(type(c_int),c_int)\n",
    "```\n",
    "    \n",
    "</details>"
   ]
  },
  {
   "cell_type": "markdown",
   "metadata": {},
   "source": [
    "Convert the following variables to strings and print out the resulting type and converted value:"
   ]
  },
  {
   "cell_type": "code",
   "execution_count": null,
   "metadata": {},
   "outputs": [],
   "source": [
    "e_int = 94\n",
    "f_float = 3.1"
   ]
  },
  {
   "cell_type": "code",
   "execution_count": null,
   "metadata": {},
   "outputs": [],
   "source": []
  },
  {
   "cell_type": "markdown",
   "metadata": {},
   "source": [
    "<details>\n",
    "    <summary style=\"display:list-item\">Click for solution</summary>\n",
    "\n",
    "```python\n",
    "e_string = str(e_int)\n",
    "f_string = str(f_float)\n",
    "\n",
    "print(type(e_string),e_string)\n",
    "print(type(f_string),f_string)\n",
    "```\n",
    "    \n",
    "</details>"
   ]
  },
  {
   "cell_type": "markdown",
   "metadata": {},
   "source": [
    "What happens if you try to add the resulting strings together?"
   ]
  },
  {
   "cell_type": "code",
   "execution_count": null,
   "metadata": {},
   "outputs": [],
   "source": []
  },
  {
   "cell_type": "markdown",
   "metadata": {},
   "source": [
    "Convert the following variables to `float` type (note if either causes an error message):"
   ]
  },
  {
   "cell_type": "code",
   "execution_count": null,
   "metadata": {},
   "outputs": [],
   "source": [
    "h_int = 394\n",
    "k_str = \"hello\""
   ]
  },
  {
   "cell_type": "code",
   "execution_count": null,
   "metadata": {},
   "outputs": [],
   "source": []
  },
  {
   "cell_type": "markdown",
   "metadata": {},
   "source": [
    "<details>\n",
    "    <summary style=\"display:list-item\">Click for solution</summary>\n",
    "\n",
    "```python\n",
    "h_float = float(h_int)\n",
    "k_float = float(k_str)\n",
    "\n",
    "print(type(h_float),h_float)\n",
    "print(type(k_float),k_float)\n",
    "```\n",
    "    \n",
    "</details>"
   ]
  },
  {
   "cell_type": "markdown",
   "metadata": {},
   "source": [
    "### Requesting input\n",
    "\n",
    "You can use the built-in function `input()` to request input from the user: "
   ]
  },
  {
   "cell_type": "code",
   "execution_count": null,
   "metadata": {},
   "outputs": [],
   "source": []
  },
  {
   "cell_type": "code",
   "execution_count": null,
   "metadata": {},
   "outputs": [],
   "source": []
  },
  {
   "cell_type": "code",
   "execution_count": null,
   "metadata": {},
   "outputs": [],
   "source": [
    "x=input(\"Please enter the value of x:\") "
   ]
  },
  {
   "cell_type": "code",
   "execution_count": null,
   "metadata": {},
   "outputs": [],
   "source": [
    "print(x) "
   ]
  },
  {
   "cell_type": "markdown",
   "metadata": {},
   "source": [
    "The input is always stored as a string:"
   ]
  },
  {
   "cell_type": "code",
   "execution_count": null,
   "metadata": {},
   "outputs": [],
   "source": [
    "type(x)"
   ]
  },
  {
   "cell_type": "markdown",
   "metadata": {},
   "source": [
    "#### Exercise 01-4"
   ]
  },
  {
   "cell_type": "markdown",
   "metadata": {},
   "source": [
    "Do the following in one line:\n",
    "1. request the user to input a number\n",
    "2. convert it to a `float`\n",
    "3. store the value in a new variable"
   ]
  },
  {
   "cell_type": "code",
   "execution_count": null,
   "metadata": {},
   "outputs": [],
   "source": []
  },
  {
   "cell_type": "markdown",
   "metadata": {},
   "source": [
    "<details>\n",
    "    <summary style=\"display:list-item\">Click for solution</summary>\n",
    "\n",
    "```python\n",
    "y=float(input(\"Please enter the value of y:\"))\n",
    "```\n",
    "    \n",
    "</details>"
   ]
  },
  {
   "cell_type": "markdown",
   "metadata": {},
   "source": [
    "What happens if the user doesn't enter a number?"
   ]
  },
  {
   "cell_type": "markdown",
   "metadata": {},
   "source": [
    "### Arithmetic\n",
    "\n",
    "You can use Python as a calculator!"
   ]
  },
  {
   "cell_type": "code",
   "execution_count": null,
   "metadata": {},
   "outputs": [],
   "source": [
    "x=10\n",
    "y=2.3822"
   ]
  },
  {
   "cell_type": "markdown",
   "metadata": {},
   "source": [
    "Addition:"
   ]
  },
  {
   "cell_type": "code",
   "execution_count": null,
   "metadata": {},
   "outputs": [],
   "source": [
    "x+y"
   ]
  },
  {
   "cell_type": "markdown",
   "metadata": {},
   "source": [
    "Subtraction:"
   ]
  },
  {
   "cell_type": "code",
   "execution_count": null,
   "metadata": {},
   "outputs": [],
   "source": [
    "x-y"
   ]
  },
  {
   "cell_type": "markdown",
   "metadata": {},
   "source": [
    "Multiplication:"
   ]
  },
  {
   "cell_type": "code",
   "execution_count": null,
   "metadata": {},
   "outputs": [],
   "source": [
    "x*y"
   ]
  },
  {
   "cell_type": "markdown",
   "metadata": {},
   "source": [
    "Division:"
   ]
  },
  {
   "cell_type": "code",
   "execution_count": null,
   "metadata": {},
   "outputs": [],
   "source": [
    "x/y"
   ]
  },
  {
   "cell_type": "markdown",
   "metadata": {},
   "source": [
    "Raising to a power (`x` raised to the `y` power):"
   ]
  },
  {
   "cell_type": "code",
   "execution_count": null,
   "metadata": {},
   "outputs": [],
   "source": [
    "x**y"
   ]
  },
  {
   "cell_type": "markdown",
   "metadata": {},
   "source": [
    "Integer division, aka \"floor division\" (rounds the result **down** to the nearest integer):"
   ]
  },
  {
   "cell_type": "code",
   "execution_count": null,
   "metadata": {},
   "outputs": [],
   "source": [
    "x//y"
   ]
  },
  {
   "cell_type": "markdown",
   "metadata": {},
   "source": [
    "This expression returned a `float` because one input was a `float`.  If both inputs are `int`s, the output is also an `int`:"
   ]
  },
  {
   "cell_type": "code",
   "execution_count": null,
   "metadata": {},
   "outputs": [],
   "source": [
    "20//3"
   ]
  },
  {
   "cell_type": "markdown",
   "metadata": {},
   "source": [
    "NB: Rounding down leads to different behavior for positive and negative numbers:"
   ]
  },
  {
   "cell_type": "code",
   "execution_count": null,
   "metadata": {},
   "outputs": [],
   "source": [
    "-20//3"
   ]
  },
  {
   "cell_type": "markdown",
   "metadata": {},
   "source": [
    "Modulo (the remainder after `x` is divided by `y`):"
   ]
  },
  {
   "cell_type": "code",
   "execution_count": null,
   "metadata": {},
   "outputs": [],
   "source": [
    "x%y"
   ]
  },
  {
   "cell_type": "markdown",
   "metadata": {},
   "source": [
    "More often, the modulo operator is used with `int` inputs:"
   ]
  },
  {
   "cell_type": "code",
   "execution_count": null,
   "metadata": {},
   "outputs": [],
   "source": [
    "14%3  # 14/3 = 4 remainder 2"
   ]
  },
  {
   "cell_type": "markdown",
   "metadata": {},
   "source": [
    "Why is modulo operator useful? You can use it to find if one number is divisible by a number or if a number is even or odd (by taking the modulo with 2)"
   ]
  },
  {
   "cell_type": "markdown",
   "metadata": {},
   "source": [
    "#### Exercise 01-5"
   ]
  },
  {
   "cell_type": "markdown",
   "metadata": {},
   "source": [
    "Test if the following numbers are even or odd using the modulo operator:\n",
    "- 4045\n",
    "- -44\n",
    "\n",
    "<details>\n",
    "    <summary style=\"display:list-item\">Click for hint</summary>\n",
    "An even number modulo 2 will have a remainder of 0, while an odd number will have a remainder of 1\n",
    "</details>"
   ]
  },
  {
   "cell_type": "code",
   "execution_count": null,
   "metadata": {},
   "outputs": [],
   "source": []
  },
  {
   "cell_type": "markdown",
   "metadata": {},
   "source": [
    "<details>\n",
    "    <summary style=\"display:list-item\">Click for solution</summary>\n",
    "\n",
    "```python\n",
    "print(4045%2)\n",
    "print(-44%2)\n",
    "```\n",
    "    \n",
    "</details>"
   ]
  },
  {
   "cell_type": "markdown",
   "metadata": {},
   "source": [
    "The modulo operator can be very useful for sampling some fraction of numbers (we haven't covered `for` loops or `if` statements yet, so don't worry if you don't understand the details here)"
   ]
  },
  {
   "cell_type": "code",
   "execution_count": null,
   "metadata": {},
   "outputs": [],
   "source": [
    "for x in range(0, 2000):\n",
    "    if x%100==0:\n",
    "        print(x)"
   ]
  },
  {
   "cell_type": "markdown",
   "metadata": {},
   "source": [
    "#### Order of operations"
   ]
  },
  {
   "cell_type": "markdown",
   "metadata": {},
   "source": [
    "Python uses the standard \"PEMDAS\" order of operations: Parentheses &rarr; Exponents &rarr; Multiplication &rarr; Division &rarr; Addition &rarr; Subtraction"
   ]
  },
  {
   "cell_type": "markdown",
   "metadata": {},
   "source": [
    "#### Exercise 01-6"
   ]
  },
  {
   "cell_type": "code",
   "execution_count": null,
   "metadata": {},
   "outputs": [],
   "source": [
    "x1 = 1.5 #m  \n",
    "x2 = 24.4 #m  \n",
    "t1 = 13.3 #s  \n",
    "t2 = 19.1 #s "
   ]
  },
  {
   "cell_type": "markdown",
   "metadata": {},
   "source": [
    "Using the above position and time values, calculate and print the average velocity during the interval:  \n",
    " \n",
    "<details>\n",
    "    <summary style=\"display:list-item\">Click for hint</summary>\n",
    "Use the formula $v_{\\text{avg}}=\\frac{x_2-x_1}{t_2-t_1}$\n",
    "</details>"
   ]
  },
  {
   "cell_type": "code",
   "execution_count": null,
   "metadata": {},
   "outputs": [],
   "source": []
  },
  {
   "cell_type": "markdown",
   "metadata": {},
   "source": [
    "<details>\n",
    "    <summary style=\"display:list-item\">Click for solution</summary>\n",
    "    \n",
    "```python\n",
    "(x2-x1)/(t2-t1)\n",
    "```\n",
    "    \n",
    "</details>"
   ]
  },
  {
   "cell_type": "markdown",
   "metadata": {},
   "source": [
    "#### Exercise 01-7"
   ]
  },
  {
   "cell_type": "code",
   "execution_count": null,
   "metadata": {},
   "outputs": [],
   "source": [
    "g = 3.3\n",
    "h = 12.4\n",
    "j = 4.2"
   ]
  },
  {
   "cell_type": "markdown",
   "metadata": {},
   "source": [
    "Using the above values, calculate and print the value of $k$, where $k = g^{\\frac{h}{j}}$"
   ]
  },
  {
   "cell_type": "code",
   "execution_count": null,
   "metadata": {},
   "outputs": [],
   "source": []
  },
  {
   "cell_type": "markdown",
   "metadata": {},
   "source": [
    "<details>\n",
    "    <summary style=\"display:list-item\">Click for solution</summary>\n",
    "\n",
    "```python\n",
    "   g**(h/j)\n",
    "```\n",
    "    \n",
    "</details>"
   ]
  },
  {
   "cell_type": "markdown",
   "metadata": {},
   "source": [
    "#### Some notes on precision"
   ]
  },
  {
   "cell_type": "code",
   "execution_count": null,
   "metadata": {},
   "outputs": [],
   "source": [
    "(1/50.0)*50.0"
   ]
  },
  {
   "cell_type": "code",
   "execution_count": null,
   "metadata": {},
   "outputs": [],
   "source": [
    "(1/59.3)*59.3"
   ]
  },
  {
   "cell_type": "markdown",
   "metadata": {},
   "source": [
    "Why aren't we getting 1?\n",
    "Many real numbers need an infinite number of decimals. This obviously isn't possible with limited memory. The computer truncates floats to 16 digits leading to small rounding errors in some cases."
   ]
  },
  {
   "cell_type": "markdown",
   "metadata": {},
   "source": [
    "#### Other mathematical operations"
   ]
  },
  {
   "cell_type": "code",
   "execution_count": null,
   "metadata": {},
   "outputs": [],
   "source": [
    "x = 6\n",
    "y = 2\n",
    "\n",
    "x = 2*y  # This is a standard assignment statement\n",
    "print(x)"
   ]
  },
  {
   "cell_type": "markdown",
   "metadata": {},
   "source": [
    "Python can't do algebra:"
   ]
  },
  {
   "cell_type": "code",
   "execution_count": null,
   "metadata": {},
   "outputs": [],
   "source": [
    "2*x=y    # This is not an asignment statement\n",
    "print(x)"
   ]
  },
  {
   "cell_type": "markdown",
   "metadata": {},
   "source": [
    "Somewhat counterintuitively, the following is a perfectly valid assignment statement:"
   ]
  },
  {
   "cell_type": "code",
   "execution_count": null,
   "metadata": {},
   "outputs": [],
   "source": [
    "x = x + 1\n",
    "print(x)"
   ]
  },
  {
   "cell_type": "markdown",
   "metadata": {},
   "source": [
    "This is valid because the right-hand side evaluates to 4+1=5, which is then assigned to `x`.  Here is another example:"
   ]
  },
  {
   "cell_type": "code",
   "execution_count": null,
   "metadata": {},
   "outputs": [],
   "source": [
    "x = x**2 - 2    # this is not a quadratic equation x = x^2 -2 , it is an assignment\n",
    "print(x)"
   ]
  },
  {
   "cell_type": "markdown",
   "metadata": {},
   "source": [
    "#### Variable modifiers (shorthand operators)"
   ]
  },
  {
   "cell_type": "markdown",
   "metadata": {},
   "source": [
    "Increment in place:"
   ]
  },
  {
   "cell_type": "code",
   "execution_count": null,
   "metadata": {},
   "outputs": [],
   "source": [
    "x=4\n",
    "x+=1         # this is the same assigning x = x + 1\n",
    "print(x)"
   ]
  },
  {
   "cell_type": "markdown",
   "metadata": {},
   "source": [
    "Decrement in place:"
   ]
  },
  {
   "cell_type": "code",
   "execution_count": null,
   "metadata": {},
   "outputs": [],
   "source": [
    "x=4\n",
    "x-=1         # this is the same assigning x = x - 1\n",
    "print(x)"
   ]
  },
  {
   "cell_type": "markdown",
   "metadata": {},
   "source": [
    "Multiply in place:"
   ]
  },
  {
   "cell_type": "code",
   "execution_count": null,
   "metadata": {},
   "outputs": [],
   "source": [
    "x=4\n",
    "x*=2.5      # this is the same assigning x = x * 2.5\n",
    "print(x)"
   ]
  },
  {
   "cell_type": "markdown",
   "metadata": {},
   "source": [
    "Divide in place:"
   ]
  },
  {
   "cell_type": "code",
   "execution_count": null,
   "metadata": {},
   "outputs": [],
   "source": [
    "x=4\n",
    "x/=2        # this is the same assigning x = x / 2 \n",
    "print(x)"
   ]
  },
  {
   "cell_type": "markdown",
   "metadata": {},
   "source": [
    "### Example Problem from Mark Newman \"Computational Physics\" Textbook\n",
    "\n",
    "#### Example 2.1"
   ]
  },
  {
   "cell_type": "markdown",
   "metadata": {},
   "source": [
    "Ball dropped from a tower. How far does it drop in a given ammount of time?"
   ]
  },
  {
   "cell_type": "code",
   "execution_count": null,
   "metadata": {},
   "outputs": [],
   "source": [
    "h=float(input(\"Enter the height of the tower: \"))\n",
    "t=float(input(\"Enter the time interval: \"))\n",
    "s= (1/2)*9.8*t**2    # 1/2 g t^2\n",
    "print(\"The ball has fallen\",s,\"meters\")\n",
    "print(\"The height of the ball is\",h-s,\"meters\")"
   ]
  },
  {
   "cell_type": "markdown",
   "metadata": {},
   "source": [
    "Same code but using a variable to store the acceleration due to gravity. This makes the code easier to read and you only need to define it once and you can use it many times."
   ]
  },
  {
   "cell_type": "code",
   "execution_count": null,
   "metadata": {},
   "outputs": [],
   "source": [
    "h=float(input(\"Enter the height of the tower in meters: \"))\n",
    "t=float(input(\"Enter the time interval in seconds: \"))\n",
    "g = 9.8  #Acceleration due to gravity in m/s^2\n",
    "s= g*t**2/2   # 1/2 g t^2\n",
    "print(\"The ball has fallen\",s,\"meters\")\n",
    "print(\"The height of the ball is\",h-s,\"meters\")"
   ]
  }
 ],
 "metadata": {
  "kernelspec": {
   "display_name": "Python 3 (ipykernel)",
   "language": "python",
   "name": "python3"
  },
  "language_info": {
   "codemirror_mode": {
    "name": "ipython",
    "version": 3
   },
   "file_extension": ".py",
   "mimetype": "text/x-python",
   "name": "python",
   "nbconvert_exporter": "python",
   "pygments_lexer": "ipython3",
   "version": "3.7.12"
  }
 },
 "nbformat": 4,
 "nbformat_minor": 4
}
