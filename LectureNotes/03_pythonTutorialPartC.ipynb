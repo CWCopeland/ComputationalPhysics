{
 "cells": [
  {
   "cell_type": "markdown",
   "metadata": {},
   "source": [
    "# Python Tutorial - Part C\n",
    "\n",
    "In this notebook we will cover:\n",
    "* Tuples and dictionaries\n",
    "* String manipulation\n",
    "* Interacting with the files"
   ]
  },
  {
   "cell_type": "markdown",
   "metadata": {},
   "source": [
    "## Tuples\n",
    "\n",
    "Tuples are like lists, but an element of a tuple can not be changed (they are \"immutable\"). Use them to represent fixed collections.  \n",
    "\n",
    "Tuples are defined using parenthesees."
   ]
  },
  {
   "cell_type": "code",
   "execution_count": null,
   "metadata": {},
   "outputs": [],
   "source": [
    "t = (3, 2, 1, 6)\n",
    "type(t)"
   ]
  },
  {
   "cell_type": "markdown",
   "metadata": {},
   "source": [
    "Much of what we discussed regarding lists also applies to tuples.  We access elements from a tuple using square brackets."
   ]
  },
  {
   "cell_type": "code",
   "execution_count": null,
   "metadata": {},
   "outputs": [],
   "source": [
    "t[1]"
   ]
  },
  {
   "cell_type": "markdown",
   "metadata": {},
   "source": [
    "Slicing also works."
   ]
  },
  {
   "cell_type": "code",
   "execution_count": null,
   "metadata": {},
   "outputs": [],
   "source": [
    "t[:2]"
   ]
  },
  {
   "cell_type": "markdown",
   "metadata": {},
   "source": [
    "The `len()` and many other built-in functions also work with tuples."
   ]
  },
  {
   "cell_type": "code",
   "execution_count": null,
   "metadata": {},
   "outputs": [],
   "source": [
    "len(t)"
   ]
  },
  {
   "cell_type": "markdown",
   "metadata": {},
   "source": [
    "Unlike lists, you are not able to modify tuple elements."
   ]
  },
  {
   "cell_type": "code",
   "execution_count": null,
   "metadata": {
    "tags": [
     "raises-exception"
    ]
   },
   "outputs": [],
   "source": [
    "t[0]=5"
   ]
  },
  {
   "cell_type": "markdown",
   "metadata": {},
   "source": [
    "Nor can you add elements to a tuple after creation."
   ]
  },
  {
   "cell_type": "code",
   "execution_count": null,
   "metadata": {
    "tags": [
     "raises-exception"
    ]
   },
   "outputs": [],
   "source": [
    "t.append(8)"
   ]
  },
  {
   "cell_type": "markdown",
   "metadata": {},
   "source": [
    "If you need to change an element within a tuple, the standard practice is to create a new tuple."
   ]
  },
  {
   "cell_type": "code",
   "execution_count": null,
   "metadata": {},
   "outputs": [],
   "source": [
    "t_new = (5,) + t[1:]  #the comma is important here\n",
    "t = t_new\n",
    "\n",
    "print(t)"
   ]
  },
  {
   "cell_type": "markdown",
   "metadata": {},
   "source": [
    "Note the comma in the tuple definition above.  Python interprets `(5)` as the integer \"5\" enclosed within (ineffectual) parenthesees, whereas `(5,)` is interpretted as tuple containing the single element \"5\"."
   ]
  },
  {
   "cell_type": "code",
   "execution_count": null,
   "metadata": {},
   "outputs": [],
   "source": [
    "a=(5)\n",
    "b=(5,)\n",
    "\n",
    "print(type(a), type(b))"
   ]
  },
  {
   "cell_type": "markdown",
   "metadata": {},
   "source": [
    "Tuples can be converted to lists using the `list()` function."
   ]
  },
  {
   "cell_type": "code",
   "execution_count": null,
   "metadata": {},
   "outputs": [],
   "source": [
    "l = list(t)\n",
    "print(l, type(l))"
   ]
  },
  {
   "cell_type": "markdown",
   "metadata": {},
   "source": [
    "Lists can be converted to tuples using the `tuple()` function."
   ]
  },
  {
   "cell_type": "code",
   "execution_count": null,
   "metadata": {},
   "outputs": [],
   "source": [
    "t = tuple(l)\n",
    "print(t, type(t))"
   ]
  },
  {
   "cell_type": "markdown",
   "metadata": {},
   "source": [
    "Since tuples are immutable, we can't call the `sort()` functon on a tuple.  But we can use `sorted()` (which returns a sorted list without modifying the input)."
   ]
  },
  {
   "cell_type": "code",
   "execution_count": null,
   "metadata": {
    "tags": [
     "raises-exception"
    ]
   },
   "outputs": [],
   "source": [
    "print(sorted(t))\n",
    "print(t.sort())"
   ]
  },
  {
   "cell_type": "markdown",
   "metadata": {},
   "source": [
    "## Dictionaries\n",
    "\n",
    "Like lists and tuples, dictionaries hold a collection of objects (key/value pairs).  They are mutable, and defined using curly braces."
   ]
  },
  {
   "cell_type": "code",
   "execution_count": null,
   "metadata": {},
   "outputs": [],
   "source": [
    "d = {\"food\":\"beans\", \"number\":100, \"fruit\":False}"
   ]
  },
  {
   "cell_type": "markdown",
   "metadata": {},
   "source": [
    "Elements within a list or tuple are accessed by their index.  Values within a dictionary are instead accessed by their associated \"key\"."
   ]
  },
  {
   "cell_type": "code",
   "execution_count": null,
   "metadata": {},
   "outputs": [],
   "source": [
    "d[\"number\"]"
   ]
  },
  {
   "cell_type": "markdown",
   "metadata": {},
   "source": [
    "Technically, as of python 3.7, dictionaries are an ordered collection.  However, it is best not to rely on this fact."
   ]
  },
  {
   "cell_type": "code",
   "execution_count": null,
   "metadata": {},
   "outputs": [],
   "source": [
    "d"
   ]
  },
  {
   "cell_type": "markdown",
   "metadata": {},
   "source": [
    "In python 3.6 and earlier, the above command returned:<br>\n",
    "`{'food': 'beans', 'fruit': False, 'number': 100}`"
   ]
  },
  {
   "cell_type": "markdown",
   "metadata": {},
   "source": [
    "Dictionaries can be modified and grow (they are \"mutable\")."
   ]
  },
  {
   "cell_type": "code",
   "execution_count": null,
   "metadata": {},
   "outputs": [],
   "source": [
    "d[\"number\"] -= 10\n",
    "d[\"type\"] = \"lima\"\n",
    "\n",
    "d"
   ]
  },
  {
   "cell_type": "markdown",
   "metadata": {},
   "source": [
    "We can get a list of a dictionary's keys and values using the `keys()` and `values()` functions."
   ]
  },
  {
   "cell_type": "code",
   "execution_count": null,
   "metadata": {},
   "outputs": [],
   "source": [
    "print(list(d.keys()))   #convert to list for printing\n",
    "print(list(d.values()))"
   ]
  },
  {
   "cell_type": "markdown",
   "metadata": {},
   "source": [
    "Alternatively, we can use the `items()` function to get a list of two-item tuples containing key/value pairs."
   ]
  },
  {
   "cell_type": "code",
   "execution_count": null,
   "metadata": {},
   "outputs": [],
   "source": [
    "print(list(d.items()))"
   ]
  },
  {
   "cell_type": "markdown",
   "metadata": {},
   "source": [
    "We can combine any of these functions with a `for` loop to iterate over the elements within a dictionary."
   ]
  },
  {
   "cell_type": "code",
   "execution_count": null,
   "metadata": {},
   "outputs": [],
   "source": [
    "for key,value in d.items():\n",
    "    print(\"key:\", key, \"\\t\", \"value:\", value)"
   ]
  },
  {
   "cell_type": "markdown",
   "metadata": {},
   "source": [
    "Or slightly more compactly:"
   ]
  },
  {
   "cell_type": "code",
   "execution_count": null,
   "metadata": {},
   "outputs": [],
   "source": [
    "for k in d:  #iterate over the keys\n",
    "    print(\"key:\", k, \"\\t\", \"value:\", d[k])"
   ]
  },
  {
   "cell_type": "markdown",
   "metadata": {},
   "source": [
    "The `in` keyword checks if a particular **key** is present in a dictionary."
   ]
  },
  {
   "cell_type": "code",
   "execution_count": null,
   "metadata": {},
   "outputs": [],
   "source": [
    "print(\"fruit\" in d)  #\"fruit\" is a key\n",
    "print(\"lima\" in d)   #\"lima\" is a value, not a key"
   ]
  },
  {
   "cell_type": "markdown",
   "metadata": {},
   "source": [
    "Since dictionaries are mutable, we can creat an empty dictionary and populate it later."
   ]
  },
  {
   "cell_type": "code",
   "execution_count": null,
   "metadata": {},
   "outputs": [],
   "source": [
    "d = {}\n",
    "d[\"color\"] = \"white\"\n",
    "d[\"shape\"] = \"sphere\"\n",
    "\n",
    "d"
   ]
  },
  {
   "cell_type": "markdown",
   "metadata": {},
   "source": [
    "Some functions we learned for lists can also be used for dictionaries.  The `pop()` function takes a key as argument, removes the corresponding key/value pair from the dictionary, and returns the value."
   ]
  },
  {
   "cell_type": "code",
   "execution_count": null,
   "metadata": {},
   "outputs": [],
   "source": [
    "v=d.pop('shape')\n",
    "\n",
    "print(v)\n",
    "print(d)"
   ]
  },
  {
   "cell_type": "markdown",
   "metadata": {},
   "source": [
    "## Nesting\n",
    "\n",
    "So far, we have seen lists, tuples, and dictionaries, all of which can store (in one way or another) integers, floats, booleans, and strings.  However, that's not all."
   ]
  },
  {
   "cell_type": "code",
   "execution_count": 269,
   "metadata": {},
   "outputs": [
    {
     "name": "stdout",
     "output_type": "stream",
     "text": [
      "[3, 2, 1]\n",
      "2\n",
      "bar\n"
     ]
    }
   ],
   "source": [
    "l = [\"apple\", \n",
    "     3.14159, \n",
    "     False, \n",
    "     [3,2,1], \n",
    "     (),\n",
    "     {\"foo\":\"bar\"}\n",
    "    ]\n",
    "\n",
    "print(l[3])\n",
    "print(l[3][1])\n",
    "print(l[5][\"foo\"])"
   ]
  },
  {
   "cell_type": "markdown",
   "metadata": {},
   "source": [
    "## String methods\n",
    "\n",
    "While strings are typically used to store text, they are also a sequence (postionally ordered, similar to lists and tuples) and can be used to store other information.  Therefore, the `len()` function can also be used with strings."
   ]
  },
  {
   "cell_type": "code",
   "execution_count": null,
   "metadata": {},
   "outputs": [],
   "source": [
    "s = \"spaghetti\"\n",
    "len(s)"
   ]
  },
  {
   "cell_type": "markdown",
   "metadata": {},
   "source": [
    "Strings can also be sliced."
   ]
  },
  {
   "cell_type": "code",
   "execution_count": null,
   "metadata": {},
   "outputs": [],
   "source": [
    "print(s[4:-1])"
   ]
  },
  {
   "cell_type": "markdown",
   "metadata": {},
   "source": [
    "You can also loop over characters in a string."
   ]
  },
  {
   "cell_type": "code",
   "execution_count": null,
   "metadata": {},
   "outputs": [],
   "source": [
    "for l in s:\n",
    "    print(2*l)"
   ]
  },
  {
   "cell_type": "markdown",
   "metadata": {},
   "source": [
    "Single and double quotes are equivalent (just be consistent)."
   ]
  },
  {
   "cell_type": "code",
   "execution_count": null,
   "metadata": {},
   "outputs": [],
   "source": [
    "t = 'spaghetti'\n",
    "\n",
    "s == t"
   ]
  },
  {
   "cell_type": "markdown",
   "metadata": {},
   "source": [
    "Strings can be \"concatenated\" using the plus sign."
   ]
  },
  {
   "cell_type": "code",
   "execution_count": null,
   "metadata": {},
   "outputs": [],
   "source": [
    "\"abc\" + \"123\""
   ]
  },
  {
   "cell_type": "markdown",
   "metadata": {},
   "source": [
    "Multiline strings can be defined using triple quotes.  This can be useful for long comments or temporarily disabling a block of code."
   ]
  },
  {
   "cell_type": "code",
   "execution_count": null,
   "metadata": {},
   "outputs": [],
   "source": [
    "\"\"\"\n",
    "################################\n",
    "Here is a long, detailed comment\n",
    "################################\n",
    "\"\"\" \n",
    "\n",
    "'''\n",
    "x=10\n",
    "x+=38\n",
    "x*=2\n",
    "''' ;  #the semicolon here merely prevents automatic printing of this string"
   ]
  },
  {
   "cell_type": "markdown",
   "metadata": {},
   "source": [
    "Special characters must be \"escaped\" using a backslash (`\\`)."
   ]
  },
  {
   "cell_type": "code",
   "execution_count": null,
   "metadata": {},
   "outputs": [],
   "source": [
    "print(\"1) users: john\\nora\")\n",
    "print(\"2) users: john\\\\nora\")\n",
    "\n",
    "print('3) mom\\'s spaghetti')\n",
    "print(\"4) mom's spaghetti\")"
   ]
  },
  {
   "cell_type": "markdown",
   "metadata": {},
   "source": [
    "Windows uses the backslash in file paths.  You can escape each backslash, or use \"raw strings\" instead.  Raw strings are preceeded by the letter \"r\"."
   ]
  },
  {
   "cell_type": "code",
   "execution_count": null,
   "metadata": {},
   "outputs": [],
   "source": [
    "print('C:\\\\folder\\\\file.txt')\n",
    "print(r'C:\\folder\\file.txt')"
   ]
  },
  {
   "cell_type": "markdown",
   "metadata": {},
   "source": [
    "Like tuples, strings are immutable."
   ]
  },
  {
   "cell_type": "code",
   "execution_count": null,
   "metadata": {
    "tags": [
     "raises-exception"
    ]
   },
   "outputs": [],
   "source": [
    "s[0]='P'"
   ]
  },
  {
   "cell_type": "markdown",
   "metadata": {},
   "source": [
    "Instead, create a new string."
   ]
  },
  {
   "cell_type": "code",
   "execution_count": null,
   "metadata": {},
   "outputs": [],
   "source": [
    "'S'+s[1:]"
   ]
  },
  {
   "cell_type": "markdown",
   "metadata": {},
   "source": [
    "Or use the string function `replace()`."
   ]
  },
  {
   "cell_type": "code",
   "execution_count": null,
   "metadata": {},
   "outputs": [],
   "source": [
    "s.replace(\"s\",\"S\")"
   ]
  },
  {
   "cell_type": "markdown",
   "metadata": {},
   "source": [
    "There are many other useful string functions.  The `find()` function returns the index of the argument."
   ]
  },
  {
   "cell_type": "code",
   "execution_count": null,
   "metadata": {},
   "outputs": [],
   "source": [
    "print(s.find('gh'))"
   ]
  },
  {
   "cell_type": "markdown",
   "metadata": {},
   "source": [
    "The `endswith()` function returns a boolean indicating wheter or not the string ends with the specified argument."
   ]
  },
  {
   "cell_type": "code",
   "execution_count": null,
   "metadata": {},
   "outputs": [],
   "source": [
    "print(s.endswith('ti'))"
   ]
  },
  {
   "cell_type": "markdown",
   "metadata": {},
   "source": [
    "The `split()` function breaks a string into a list of strings."
   ]
  },
  {
   "cell_type": "code",
   "execution_count": null,
   "metadata": {},
   "outputs": [],
   "source": [
    "items = 'carrot,lettuce,tomato,cucumber,broccoli'\n",
    "l = items.split(',')\n",
    "\n",
    "l"
   ]
  },
  {
   "cell_type": "markdown",
   "metadata": {},
   "source": [
    "The `join()` function does the opposite; it produces a single string from a list of strings."
   ]
  },
  {
   "cell_type": "code",
   "execution_count": null,
   "metadata": {},
   "outputs": [],
   "source": [
    "\"+\".join(l)"
   ]
  },
  {
   "cell_type": "markdown",
   "metadata": {},
   "source": [
    "It is often useful to remove spurious spaces from strings."
   ]
  },
  {
   "cell_type": "code",
   "execution_count": null,
   "metadata": {},
   "outputs": [],
   "source": [
    "s = '     ice cream      '\n",
    "\n",
    "print( \"I like to eat\",s          ,\"every day\")\n",
    "print( \"I like to eat\",s.lstrip() ,\"every day\") #remove space from the left side of the string\n",
    "print( \"I like to eat\",s.rstrip() ,\"every day\") #remove space from the right side of the string\n",
    "print( \"I like to eat\",s.strip()  ,\"every day\") #remove space from both sides of the string"
   ]
  },
  {
   "cell_type": "markdown",
   "metadata": {},
   "source": [
    "Python provides functions to test if all the characters in a string are letters or digits."
   ]
  },
  {
   "cell_type": "code",
   "execution_count": null,
   "metadata": {},
   "outputs": [],
   "source": [
    "s=\"R2D2\"\n",
    "print(\"string\\t isalpha()\\t isdigit()\")\n",
    "print(s, \"\\t\", s.isalpha(), \"\\t\\t\", s.isdigit())\n",
    "\n",
    "for l in s:\n",
    "    print(l, \"\\t\", l.isalpha(), \"\\t\\t\", l.isdigit())\n"
   ]
  },
  {
   "cell_type": "markdown",
   "metadata": {
    "tags": []
   },
   "source": [
    "### String Formatting\n",
    "\n",
    "Python provides the ability to produce nicely formatted strings using the `format()` function.  When this function is called on a string, each set of curly brackets is replaced with one of the specified arguments (in order).\n",
    "\n",
    "\n",
    "For details, see: https://docs.python.org/3/library/string.html#string-formatting\n",
    "\n"
   ]
  },
  {
   "cell_type": "code",
   "execution_count": null,
   "metadata": {},
   "outputs": [],
   "source": [
    "print('{}, {}, and {}'.format('chicken', 'fish', 'steak'))"
   ]
  },
  {
   "cell_type": "markdown",
   "metadata": {},
   "source": [
    "Optionally, you can specify which of the arguments should be used."
   ]
  },
  {
   "cell_type": "code",
   "execution_count": null,
   "metadata": {},
   "outputs": [],
   "source": [
    "print('{1}, {0}, and {2}'.format('chicken', 'fish', 'steak'))"
   ]
  },
  {
   "cell_type": "markdown",
   "metadata": {},
   "source": [
    "There is a special syntax to pad and align text.  Within the curly braces, insert a colon followed by the number of characters the text should span.  The `>` instructs to right align the text."
   ]
  },
  {
   "cell_type": "code",
   "execution_count": null,
   "metadata": {},
   "outputs": [],
   "source": [
    "print('{:10}'.format('mass = ')  ,'{:>10}'.format(125.3))\n",
    "print('{:10}'.format('energy = '),'{:>10}'.format(2183))\n",
    "print('{:10}'.format('x = ')     ,'{:>10}'.format(32.9))\n",
    "print('{:10}'.format('y = ')     ,'{:>10}'.format(0.3))"
   ]
  },
  {
   "cell_type": "markdown",
   "metadata": {},
   "source": [
    "When dealing with floating point numbers, it is often useful to specify the precision that should be used.  To do so, the curly brackets should contain a colon, followed by a period, the number of decimal places desired, and the character `f`."
   ]
  },
  {
   "cell_type": "code",
   "execution_count": null,
   "metadata": {},
   "outputs": [],
   "source": [
    "'pi = {:.3f}'.format(3.141592653589793)"
   ]
  },
  {
   "cell_type": "markdown",
   "metadata": {},
   "source": [
    "Replace `f`$\\rightarrow$`g` to instead specify the number of significant figures."
   ]
  },
  {
   "cell_type": "code",
   "execution_count": null,
   "metadata": {},
   "outputs": [],
   "source": [
    "'pi = {:.3g}'.format(3.141592653589793)"
   ]
  },
  {
   "cell_type": "markdown",
   "metadata": {},
   "source": [
    "Replace `f`$\\rightarrow$`e` to instead use scientific notation."
   ]
  },
  {
   "cell_type": "code",
   "execution_count": null,
   "metadata": {},
   "outputs": [],
   "source": [
    "'c = {:.2e}'.format(300000000)    "
   ]
  },
  {
   "cell_type": "markdown",
   "metadata": {},
   "source": [
    "## The `os` module\n",
    "\n",
    "The `os` module is used to interact with your computer's operating system, which has a variety of uses.\n",
    "\n",
    "Within the `os` module, the `getcwd()` function tells you which directory you are currently in."
   ]
  },
  {
   "cell_type": "code",
   "execution_count": 205,
   "metadata": {},
   "outputs": [
    {
     "name": "stdout",
     "output_type": "stream",
     "text": [
      "/Users/jstupak/cernbox/fileSharing/teaching/PHYS2222/workarea/ComputationalPhysics/LectureNotes\n"
     ]
    }
   ],
   "source": [
    "import os\n",
    "\n",
    "cwd=os.getcwd()\n",
    "print(cwd)"
   ]
  },
  {
   "cell_type": "markdown",
   "metadata": {},
   "source": [
    "The `listdir()` function returns a list of files in the specified directory."
   ]
  },
  {
   "cell_type": "code",
   "execution_count": 206,
   "metadata": {},
   "outputs": [
    {
     "data": {
      "text/plain": [
       "['06_accuracy.ipynb',\n",
       " '01_pythonTutorialPartA.ipynb',\n",
       " '07_fittingData.ipynb',\n",
       " '17_SciPyAndSymPy.ipynb',\n",
       " '03_pythonTutorialPartC.ipynb',\n",
       " '14_nonlinearEquationsAndRoots.ipynb',\n",
       " '12_derivatives.ipynb',\n",
       " '00_jupyterNotebookAndGoogleColabBasics.ipynb',\n",
       " '09_pandas.ipynb',\n",
       " '11_integrationPartA.ipynb',\n",
       " '05_matplotlib.ipynb',\n",
       " '10_seaborn.ipynb',\n",
       " '15_partialDifferentialEquations.ipynb',\n",
       " '.ipynb_checkpoints',\n",
       " '.jupyter',\n",
       " '18_Randomness.ipynb',\n",
       " '08_fileIO.ipynb',\n",
       " '11_integrationPartB.ipynb',\n",
       " '04_NumPy.ipynb',\n",
       " '16_linearEquations.ipynb',\n",
       " '02_pythonTutorialPartB.ipynb',\n",
       " '13_differentialEquations.ipynb']"
      ]
     },
     "execution_count": 206,
     "metadata": {},
     "output_type": "execute_result"
    }
   ],
   "source": [
    "os.listdir(cwd)"
   ]
  },
  {
   "cell_type": "markdown",
   "metadata": {},
   "source": [
    "This can be combined with a `for` loop to iterate over the files in a directory."
   ]
  },
  {
   "cell_type": "code",
   "execution_count": 210,
   "metadata": {},
   "outputs": [
    {
     "name": "stdout",
     "output_type": "stream",
     "text": [
      "/Users/jstupak/cernbox/fileSharing/teaching/PHYS2222/workarea/ComputationalPhysics/LectureNotes/06_accuracy.ipynb\n",
      "/Users/jstupak/cernbox/fileSharing/teaching/PHYS2222/workarea/ComputationalPhysics/LectureNotes/01_pythonTutorialPartA.ipynb\n",
      "/Users/jstupak/cernbox/fileSharing/teaching/PHYS2222/workarea/ComputationalPhysics/LectureNotes/07_fittingData.ipynb\n",
      "/Users/jstupak/cernbox/fileSharing/teaching/PHYS2222/workarea/ComputationalPhysics/LectureNotes/17_SciPyAndSymPy.ipynb\n",
      "/Users/jstupak/cernbox/fileSharing/teaching/PHYS2222/workarea/ComputationalPhysics/LectureNotes/03_pythonTutorialPartC.ipynb\n",
      "/Users/jstupak/cernbox/fileSharing/teaching/PHYS2222/workarea/ComputationalPhysics/LectureNotes/14_nonlinearEquationsAndRoots.ipynb\n",
      "/Users/jstupak/cernbox/fileSharing/teaching/PHYS2222/workarea/ComputationalPhysics/LectureNotes/12_derivatives.ipynb\n",
      "/Users/jstupak/cernbox/fileSharing/teaching/PHYS2222/workarea/ComputationalPhysics/LectureNotes/00_jupyterNotebookAndGoogleColabBasics.ipynb\n",
      "/Users/jstupak/cernbox/fileSharing/teaching/PHYS2222/workarea/ComputationalPhysics/LectureNotes/09_pandas.ipynb\n",
      "/Users/jstupak/cernbox/fileSharing/teaching/PHYS2222/workarea/ComputationalPhysics/LectureNotes/11_integrationPartA.ipynb\n",
      "/Users/jstupak/cernbox/fileSharing/teaching/PHYS2222/workarea/ComputationalPhysics/LectureNotes/05_matplotlib.ipynb\n",
      "/Users/jstupak/cernbox/fileSharing/teaching/PHYS2222/workarea/ComputationalPhysics/LectureNotes/10_seaborn.ipynb\n",
      "/Users/jstupak/cernbox/fileSharing/teaching/PHYS2222/workarea/ComputationalPhysics/LectureNotes/15_partialDifferentialEquations.ipynb\n",
      "/Users/jstupak/cernbox/fileSharing/teaching/PHYS2222/workarea/ComputationalPhysics/LectureNotes/.ipynb_checkpoints\n",
      "/Users/jstupak/cernbox/fileSharing/teaching/PHYS2222/workarea/ComputationalPhysics/LectureNotes/.jupyter\n",
      "/Users/jstupak/cernbox/fileSharing/teaching/PHYS2222/workarea/ComputationalPhysics/LectureNotes/18_Randomness.ipynb\n",
      "/Users/jstupak/cernbox/fileSharing/teaching/PHYS2222/workarea/ComputationalPhysics/LectureNotes/08_fileIO.ipynb\n",
      "/Users/jstupak/cernbox/fileSharing/teaching/PHYS2222/workarea/ComputationalPhysics/LectureNotes/11_integrationPartB.ipynb\n",
      "/Users/jstupak/cernbox/fileSharing/teaching/PHYS2222/workarea/ComputationalPhysics/LectureNotes/04_NumPy.ipynb\n",
      "/Users/jstupak/cernbox/fileSharing/teaching/PHYS2222/workarea/ComputationalPhysics/LectureNotes/16_linearEquations.ipynb\n",
      "/Users/jstupak/cernbox/fileSharing/teaching/PHYS2222/workarea/ComputationalPhysics/LectureNotes/02_pythonTutorialPartB.ipynb\n",
      "/Users/jstupak/cernbox/fileSharing/teaching/PHYS2222/workarea/ComputationalPhysics/LectureNotes/13_differentialEquations.ipynb\n"
     ]
    }
   ],
   "source": [
    "for filename in os.listdir(cwd):\n",
    "    print(os.path.abspath(filename))"
   ]
  },
  {
   "cell_type": "markdown",
   "metadata": {},
   "source": [
    "The `isfile()` and `isdir()` functions (within the `os.path` submodule) return a boolean indicating whether the specified path corresponds to a file or directory, respectively."
   ]
  },
  {
   "cell_type": "code",
   "execution_count": 217,
   "metadata": {},
   "outputs": [
    {
     "name": "stdout",
     "output_type": "stream",
     "text": [
      "06_accuracy.ipynb                                  True \t False\n",
      "01_pythonTutorialPartA.ipynb                       True \t False\n",
      "07_fittingData.ipynb                               True \t False\n",
      "17_SciPyAndSymPy.ipynb                             True \t False\n",
      "03_pythonTutorialPartC.ipynb                       True \t False\n",
      "14_nonlinearEquationsAndRoots.ipynb                True \t False\n",
      "12_derivatives.ipynb                               True \t False\n",
      "00_jupyterNotebookAndGoogleColabBasics.ipynb       True \t False\n",
      "09_pandas.ipynb                                    True \t False\n",
      "11_integrationPartA.ipynb                          True \t False\n",
      "05_matplotlib.ipynb                                True \t False\n",
      "10_seaborn.ipynb                                   True \t False\n",
      "15_partialDifferentialEquations.ipynb              True \t False\n",
      ".ipynb_checkpoints                                 False \t True\n",
      ".jupyter                                           False \t True\n",
      "18_Randomness.ipynb                                True \t False\n",
      "08_fileIO.ipynb                                    True \t False\n",
      "11_integrationPartB.ipynb                          True \t False\n",
      "04_NumPy.ipynb                                     True \t False\n",
      "16_linearEquations.ipynb                           True \t False\n",
      "02_pythonTutorialPartB.ipynb                       True \t False\n",
      "13_differentialEquations.ipynb                     True \t False\n"
     ]
    }
   ],
   "source": [
    "for filename in os.listdir(cwd):\n",
    "    print(\"{:50}\".format(filename), os.path.isfile(filename),\"\\t\",os.path.isdir(filename))"
   ]
  },
  {
   "cell_type": "markdown",
   "metadata": {},
   "source": [
    "Example: count the number of jupyter notebooks in the current directory."
   ]
  },
  {
   "cell_type": "code",
   "execution_count": 220,
   "metadata": {},
   "outputs": [
    {
     "name": "stdout",
     "output_type": "stream",
     "text": [
      "The current directory contains 20 jupyter notebooks\n"
     ]
    }
   ],
   "source": [
    "nNotebooks = 0\n",
    "for filename in os.listdir(cwd):\n",
    "    if filename.endswith('.ipynb') :\n",
    "        nNotebooks += 1\n",
    "        \n",
    "print(\"The current directory contains\",nNotebooks,\"jupyter notebooks\")"
   ]
  },
  {
   "cell_type": "markdown",
   "metadata": {},
   "source": [
    "## Coding Best Pratices\n",
    "\n",
    "* Make liberal use of comments throughout your code\n",
    "* **Use meaningful variable names** (do as I say, not as I do)\n",
    "    * energy, mass, angular_momentum, beta, etc.\n",
    "* Use the appropriate variable type for the task at hand (complex for imaginary numbers, integers for indices, etc.)\n",
    "* Import modules at the begining of your code\n",
    "* Define constants after importing modules (no \"magic numbers\")\n",
    "    * Makes formulas easier to read\n",
    "    * Easy to update/change the value\n",
    "* Define your own functions (when appropriate)\n",
    "    * Avoid typing the same code multiple times\n",
    "    * Easy to update/change the code behavior\n",
    "* Print out partial results and updates throughout your program\n",
    "* Lay out your programs clearly\n",
    "    * Use spaces or blank lines\n",
    "    * Split long lines with the backslash\n",
    "* Short and simple is good"
   ]
  },
  {
   "cell_type": "markdown",
   "metadata": {},
   "source": [
    "## Exercises"
   ]
  },
  {
   "cell_type": "markdown",
   "metadata": {},
   "source": [
    "### Exercise 1: \n",
    "\n",
    "Below are two dictionaries containing items found at a fruit stand. The `prices` dictionary contians the price of each item, while the `stock` dictionary contains the number of items in the stock."
   ]
  },
  {
   "cell_type": "code",
   "execution_count": 224,
   "metadata": {},
   "outputs": [],
   "source": [
    "#Create the prices dictionary:\n",
    "prices={}\n",
    "\n",
    "#Add values, one key at a time\n",
    "prices[\"banana\"]       = 1.50\n",
    "prices[\"apple\"]        = 2.00\n",
    "prices[\"orange\"]       = 3.50\n",
    "prices[\"watermelon\"]   = 4.00\n",
    "\n",
    "#Create the stock dictionary\n",
    "stock={}\n",
    "\n",
    "#Add values\n",
    "stock[\"banana\"]       = 12\n",
    "stock[\"apple\"]        = 48\n",
    "stock[\"orange\"]       = 15\n",
    "stock[\"watermelon\"]   = 0"
   ]
  },
  {
   "cell_type": "markdown",
   "metadata": {},
   "source": [
    "1. Loop over the prices dictionary and print out a table of available items and the corresponsiding price. Use string formatting to print the tables in nice columns (it is up to you if you want to left justify, right justify, etc.)."
   ]
  },
  {
   "cell_type": "code",
   "execution_count": null,
   "metadata": {},
   "outputs": [],
   "source": []
  },
  {
   "cell_type": "markdown",
   "metadata": {},
   "source": [
    "<details>\n",
    "    <summary style=\"display:list-item\">Click for solution</summary>\n",
    "\n",
    "```python\n",
    "print(\"{:15} {}\".format(\"Item\",\"Price [$]\"))\n",
    "for key in prices.keys():\n",
    "    print(\"{:15} {}\".format(key,prices[key]))\n",
    "```\n",
    "    \n",
    "</details>"
   ]
  },
  {
   "cell_type": "markdown",
   "metadata": {},
   "source": [
    "2. How much would it cost to purchase the entire inventory?"
   ]
  },
  {
   "cell_type": "code",
   "execution_count": null,
   "metadata": {},
   "outputs": [],
   "source": []
  },
  {
   "cell_type": "markdown",
   "metadata": {},
   "source": [
    "<details>\n",
    "    <summary style=\"display:list-item\">Click for solution</summary>\n",
    "\n",
    "```python\n",
    "totalCost=0\n",
    "for key in prices.keys():\n",
    "    totalCost += prices[key]*stock[key]\n",
    "\n",
    "print(totalCost)\n",
    "```\n",
    "    \n",
    "</details>"
   ]
  },
  {
   "cell_type": "markdown",
   "metadata": {},
   "source": [
    "### Exercise 2:\n",
    "\n",
    "Consider the following list:"
   ]
  },
  {
   "cell_type": "code",
   "execution_count": 221,
   "metadata": {},
   "outputs": [],
   "source": [
    "myList = ['A3','B7','A2','C9','E1','F6','A5','G8','H2','J4']"
   ]
  },
  {
   "cell_type": "markdown",
   "metadata": {},
   "source": [
    "1. Sort the list alphabetically."
   ]
  },
  {
   "cell_type": "code",
   "execution_count": null,
   "metadata": {},
   "outputs": [],
   "source": []
  },
  {
   "cell_type": "markdown",
   "metadata": {},
   "source": [
    "<details>\n",
    "    <summary style=\"display:list-item\">Click for solution</summary>\n",
    "\n",
    "```python\n",
    "myList.sort()\n",
    "myList\n",
    "```\n",
    "    \n",
    "</details>"
   ]
  },
  {
   "cell_type": "markdown",
   "metadata": {},
   "source": [
    "2. Ignore the letter and sort the items in order of increasing numerical values."
   ]
  },
  {
   "cell_type": "code",
   "execution_count": null,
   "metadata": {},
   "outputs": [],
   "source": []
  },
  {
   "cell_type": "markdown",
   "metadata": {},
   "source": [
    "<details>\n",
    "    <summary style=\"display:list-item\">Click for solution</summary>\n",
    "\n",
    "```python\n",
    "\"\"\"\n",
    "I will solve this problem in 3 steps:\n",
    "1. reverse the order of characters in each string: ['3A', '7B', '2A', ...]\n",
    "2. sort the list: ['1E', '2A', '2H', ...]\n",
    "3. reverse the order of characters in each string: ['E1', 'A2', 'H2', ...]\n",
    "\"\"\"\n",
    "\n",
    "#a function which reverses the order of characters in a string\n",
    "def reverseString(s):\n",
    "    characterList = list(s)   #convert the string to a list: \"foo\" -> [\"f\", \"o\", \"o\"]\n",
    "    characterList.reverse()   #reverse the list: [\"o\", \"o\", \"f\"]\n",
    "    return ''.join(characterList)   #join the characters in the list together, separated by an empty string: [\"o\", \"o\", \"f\"] -> \"oof\"\n",
    "\n",
    "####################################################################################\n",
    "\n",
    "#loop through the list and reverse each string\n",
    "for i in range(len(myList)):\n",
    "    myList[i]=reverseString(myList[i])\n",
    "\n",
    "myList.sort()   #sort the list\n",
    "\n",
    "#loop through the list and reverse each string\n",
    "for i in range(len(myList)):\n",
    "    myList[i]=reverseString(myList[i])\n",
    "    \n",
    "print(sortedList)\n",
    "```\n",
    "    \n",
    "</details>"
   ]
  },
  {
   "cell_type": "markdown",
   "metadata": {},
   "source": [
    "### Exercise 3\n",
    "\n",
    "Consider the following list:"
   ]
  },
  {
   "cell_type": "code",
   "execution_count": 264,
   "metadata": {},
   "outputs": [],
   "source": [
    "myList2 = [[1,4,5,6,3,7,9],\n",
    "           [\"A\",\"K\",\"E\",\"C\",\"G\",\"G\",\"H\"],\n",
    "           [4,2,6,8,2,5,7] \n",
    "          ]"
   ]
  },
  {
   "cell_type": "markdown",
   "metadata": {},
   "source": [
    "1. Replace \"H\" with \"h\"."
   ]
  },
  {
   "cell_type": "code",
   "execution_count": null,
   "metadata": {},
   "outputs": [],
   "source": []
  },
  {
   "cell_type": "markdown",
   "metadata": {},
   "source": [
    "<details>\n",
    "    <summary style=\"display:list-item\">Click for solution</summary>\n",
    "\n",
    "```python\n",
    "myList2[1][6]=\"h\"\n",
    "myList2\n",
    "```\n",
    "    \n",
    "</details>"
   ]
  },
  {
   "cell_type": "markdown",
   "metadata": {},
   "source": [
    "2. By slicing this list, extract the elements `[6,8,2,5]`."
   ]
  },
  {
   "cell_type": "code",
   "execution_count": 268,
   "metadata": {},
   "outputs": [
    {
     "data": {
      "text/plain": [
       "[6, 8, 2, 5]"
      ]
     },
     "execution_count": 268,
     "metadata": {},
     "output_type": "execute_result"
    }
   ],
   "source": []
  },
  {
   "cell_type": "markdown",
   "metadata": {},
   "source": [
    "<details>\n",
    "    <summary style=\"display:list-item\">Click for solution</summary>\n",
    "\n",
    "```python\n",
    "myList2[2][2:-1]\n",
    "```\n",
    "    \n",
    "</details>"
   ]
  }
 ],
 "metadata": {
  "kernelspec": {
   "display_name": "Python 3 (ipykernel)",
   "language": "python",
   "name": "python3"
  },
  "language_info": {
   "codemirror_mode": {
    "name": "ipython",
    "version": 3
   },
   "file_extension": ".py",
   "mimetype": "text/x-python",
   "name": "python",
   "nbconvert_exporter": "python",
   "pygments_lexer": "ipython3",
   "version": "3.7.12"
  }
 },
 "nbformat": 4,
 "nbformat_minor": 4
}
