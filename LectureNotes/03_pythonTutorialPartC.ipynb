{
 "cells": [
  {
   "cell_type": "markdown",
   "metadata": {},
   "source": [
    "# Python Tutorial - Part C\n",
    "\n",
    "In this notebook we will cover:\n",
    "* Tuples and dictionaries\n",
    "* String manipulation\n",
    "* Interacting with the files"
   ]
  },
  {
   "cell_type": "markdown",
   "metadata": {},
   "source": [
    "## Tuples\n",
    "\n",
    "Tuples are like lists, but an element of a tuple can not be changed (they are \"immutable\"). Use them to represent fixed collections.  \n",
    "\n",
    "Tuples are defined using parenthesees."
   ]
  },
  {
   "cell_type": "code",
   "execution_count": 4,
   "metadata": {},
   "outputs": [
    {
     "data": {
      "text/plain": [
       "tuple"
      ]
     },
     "execution_count": 4,
     "metadata": {},
     "output_type": "execute_result"
    }
   ],
   "source": [
    "t = (3, 2, 1, 6)\n",
    "type(t)"
   ]
  },
  {
   "cell_type": "markdown",
   "metadata": {},
   "source": [
    "Much of what we discussed regarding lists also applies to tuples.  We access elements from a tuple using square brackets."
   ]
  },
  {
   "cell_type": "code",
   "execution_count": 5,
   "metadata": {},
   "outputs": [
    {
     "data": {
      "text/plain": [
       "2"
      ]
     },
     "execution_count": 5,
     "metadata": {},
     "output_type": "execute_result"
    }
   ],
   "source": [
    "t[1]"
   ]
  },
  {
   "cell_type": "markdown",
   "metadata": {},
   "source": [
    "Slicing also works."
   ]
  },
  {
   "cell_type": "code",
   "execution_count": 6,
   "metadata": {},
   "outputs": [
    {
     "data": {
      "text/plain": [
       "(3, 2)"
      ]
     },
     "execution_count": 6,
     "metadata": {},
     "output_type": "execute_result"
    }
   ],
   "source": [
    "t[:2]"
   ]
  },
  {
   "cell_type": "markdown",
   "metadata": {},
   "source": [
    "The `len()` and many other built-in functions also work with tuples."
   ]
  },
  {
   "cell_type": "code",
   "execution_count": 7,
   "metadata": {},
   "outputs": [
    {
     "data": {
      "text/plain": [
       "4"
      ]
     },
     "execution_count": 7,
     "metadata": {},
     "output_type": "execute_result"
    }
   ],
   "source": [
    "len(t)"
   ]
  },
  {
   "cell_type": "markdown",
   "metadata": {},
   "source": [
    "Unlike lists, you are not able to modify tuple elements."
   ]
  },
  {
   "cell_type": "code",
   "execution_count": 8,
   "metadata": {
    "tags": [
     "raises-exception"
    ]
   },
   "outputs": [
    {
     "ename": "TypeError",
     "evalue": "'tuple' object does not support item assignment",
     "output_type": "error",
     "traceback": [
      "\u001b[0;31m---------------------------------------------------------------------------\u001b[0m",
      "\u001b[0;31mTypeError\u001b[0m                                 Traceback (most recent call last)",
      "\u001b[0;32m/var/folders/g0/jmslkjxj05x152gsxfk1vzwm0000gp/T/ipykernel_90090/1020858540.py\u001b[0m in \u001b[0;36m<module>\u001b[0;34m\u001b[0m\n\u001b[0;32m----> 1\u001b[0;31m \u001b[0mt\u001b[0m\u001b[0;34m[\u001b[0m\u001b[0;36m0\u001b[0m\u001b[0;34m]\u001b[0m\u001b[0;34m=\u001b[0m\u001b[0;36m5\u001b[0m\u001b[0;34m\u001b[0m\u001b[0;34m\u001b[0m\u001b[0m\n\u001b[0m",
      "\u001b[0;31mTypeError\u001b[0m: 'tuple' object does not support item assignment"
     ]
    }
   ],
   "source": [
    "t[0]=5"
   ]
  },
  {
   "cell_type": "markdown",
   "metadata": {},
   "source": [
    "Nor can you add elements to a tuple after creation."
   ]
  },
  {
   "cell_type": "code",
   "execution_count": 9,
   "metadata": {
    "tags": [
     "raises-exception"
    ]
   },
   "outputs": [
    {
     "ename": "AttributeError",
     "evalue": "'tuple' object has no attribute 'append'",
     "output_type": "error",
     "traceback": [
      "\u001b[0;31m---------------------------------------------------------------------------\u001b[0m",
      "\u001b[0;31mAttributeError\u001b[0m                            Traceback (most recent call last)",
      "\u001b[0;32m/var/folders/g0/jmslkjxj05x152gsxfk1vzwm0000gp/T/ipykernel_90090/269282485.py\u001b[0m in \u001b[0;36m<module>\u001b[0;34m\u001b[0m\n\u001b[0;32m----> 1\u001b[0;31m \u001b[0mt\u001b[0m\u001b[0;34m.\u001b[0m\u001b[0mappend\u001b[0m\u001b[0;34m(\u001b[0m\u001b[0;36m8\u001b[0m\u001b[0;34m)\u001b[0m\u001b[0;34m\u001b[0m\u001b[0;34m\u001b[0m\u001b[0m\n\u001b[0m",
      "\u001b[0;31mAttributeError\u001b[0m: 'tuple' object has no attribute 'append'"
     ]
    }
   ],
   "source": [
    "t.append(8)"
   ]
  },
  {
   "cell_type": "markdown",
   "metadata": {},
   "source": [
    "If you need to change an element within a tuple, the standard practice is to create a new tuple."
   ]
  },
  {
   "cell_type": "code",
   "execution_count": 10,
   "metadata": {},
   "outputs": [
    {
     "name": "stdout",
     "output_type": "stream",
     "text": [
      "(5, 2, 1, 6)\n"
     ]
    }
   ],
   "source": [
    "t_new = (5,) + t[1:]  #the comma is important here\n",
    "t = t_new\n",
    "\n",
    "print(t)"
   ]
  },
  {
   "cell_type": "markdown",
   "metadata": {},
   "source": [
    "Note the comma in the tuple definition above.  Python interprets `(5)` as the integer \"5\" enclosed within (ineffectual) parenthesees, whereas `(5,)` is interpretted as tuple containing the single element \"5\"."
   ]
  },
  {
   "cell_type": "code",
   "execution_count": 11,
   "metadata": {},
   "outputs": [
    {
     "name": "stdout",
     "output_type": "stream",
     "text": [
      "<class 'int'> <class 'tuple'>\n"
     ]
    }
   ],
   "source": [
    "a=(5)\n",
    "b=(5,)\n",
    "\n",
    "print(type(a), type(b))"
   ]
  },
  {
   "cell_type": "markdown",
   "metadata": {},
   "source": [
    "Tuples can be converted to lists using the `list()` function."
   ]
  },
  {
   "cell_type": "code",
   "execution_count": 12,
   "metadata": {},
   "outputs": [
    {
     "name": "stdout",
     "output_type": "stream",
     "text": [
      "[5, 2, 1, 6] <class 'list'>\n"
     ]
    }
   ],
   "source": [
    "l = list(t)\n",
    "print(l, type(l))"
   ]
  },
  {
   "cell_type": "markdown",
   "metadata": {},
   "source": [
    "Lists can be converted to tuples using the `tuple()` function."
   ]
  },
  {
   "cell_type": "code",
   "execution_count": 13,
   "metadata": {},
   "outputs": [
    {
     "name": "stdout",
     "output_type": "stream",
     "text": [
      "(5, 2, 1, 6) <class 'tuple'>\n"
     ]
    }
   ],
   "source": [
    "t = tuple(l)\n",
    "print(t, type(t))"
   ]
  },
  {
   "cell_type": "markdown",
   "metadata": {},
   "source": [
    "Since tuples are immutable, we can't call the `sort()` functon on a tuple.  But we can use `sorted()` (which returns a sorted list without modifying the input)."
   ]
  },
  {
   "cell_type": "code",
   "execution_count": 14,
   "metadata": {
    "tags": [
     "raises-exception"
    ]
   },
   "outputs": [
    {
     "name": "stdout",
     "output_type": "stream",
     "text": [
      "[1, 2, 5, 6]\n"
     ]
    },
    {
     "ename": "AttributeError",
     "evalue": "'tuple' object has no attribute 'sort'",
     "output_type": "error",
     "traceback": [
      "\u001b[0;31m---------------------------------------------------------------------------\u001b[0m",
      "\u001b[0;31mAttributeError\u001b[0m                            Traceback (most recent call last)",
      "\u001b[0;32m/var/folders/g0/jmslkjxj05x152gsxfk1vzwm0000gp/T/ipykernel_90090/3626356431.py\u001b[0m in \u001b[0;36m<module>\u001b[0;34m\u001b[0m\n\u001b[1;32m      1\u001b[0m \u001b[0mprint\u001b[0m\u001b[0;34m(\u001b[0m\u001b[0msorted\u001b[0m\u001b[0;34m(\u001b[0m\u001b[0mt\u001b[0m\u001b[0;34m)\u001b[0m\u001b[0;34m)\u001b[0m\u001b[0;34m\u001b[0m\u001b[0;34m\u001b[0m\u001b[0m\n\u001b[0;32m----> 2\u001b[0;31m \u001b[0mprint\u001b[0m\u001b[0;34m(\u001b[0m\u001b[0mt\u001b[0m\u001b[0;34m.\u001b[0m\u001b[0msort\u001b[0m\u001b[0;34m(\u001b[0m\u001b[0;34m)\u001b[0m\u001b[0;34m)\u001b[0m\u001b[0;34m\u001b[0m\u001b[0;34m\u001b[0m\u001b[0m\n\u001b[0m",
      "\u001b[0;31mAttributeError\u001b[0m: 'tuple' object has no attribute 'sort'"
     ]
    }
   ],
   "source": [
    "print(sorted(t))\n",
    "print(t.sort())"
   ]
  },
  {
   "cell_type": "markdown",
   "metadata": {},
   "source": [
    "## Dictionaries\n",
    "\n",
    "Like lists and tuples, dictionaries hold a collection of objects (key/value pairs).  They are mutable, and defined using curly braces."
   ]
  },
  {
   "cell_type": "code",
   "execution_count": 22,
   "metadata": {},
   "outputs": [],
   "source": [
    "d = {\"food\":\"beans\", \"number\":100, \"fruit\":False}"
   ]
  },
  {
   "cell_type": "markdown",
   "metadata": {},
   "source": [
    "Elements within a list or tuple are accessed by their index.  Values within a dictionary are instead accessed by their associated \"key\"."
   ]
  },
  {
   "cell_type": "code",
   "execution_count": 23,
   "metadata": {},
   "outputs": [
    {
     "data": {
      "text/plain": [
       "100"
      ]
     },
     "execution_count": 23,
     "metadata": {},
     "output_type": "execute_result"
    }
   ],
   "source": [
    "d[\"number\"]"
   ]
  },
  {
   "cell_type": "markdown",
   "metadata": {},
   "source": [
    "Technically, as of python 3.7, dictionaries are an ordered collection.  However, it is best not to rely on this fact."
   ]
  },
  {
   "cell_type": "code",
   "execution_count": 24,
   "metadata": {},
   "outputs": [
    {
     "data": {
      "text/plain": [
       "{'food': 'beans', 'number': 100, 'fruit': False}"
      ]
     },
     "execution_count": 24,
     "metadata": {},
     "output_type": "execute_result"
    }
   ],
   "source": [
    "d"
   ]
  },
  {
   "cell_type": "markdown",
   "metadata": {},
   "source": [
    "In python 3.6 and earlier, the above command returned:<br>\n",
    "`{'food': 'beans', 'fruit': False, 'number': 100}`"
   ]
  },
  {
   "cell_type": "markdown",
   "metadata": {},
   "source": [
    "Dictionaries can be modified and grow (they are \"mutable\")."
   ]
  },
  {
   "cell_type": "code",
   "execution_count": 25,
   "metadata": {},
   "outputs": [
    {
     "data": {
      "text/plain": [
       "{'food': 'beans', 'number': 90, 'fruit': False, 'type': 'lima'}"
      ]
     },
     "execution_count": 25,
     "metadata": {},
     "output_type": "execute_result"
    }
   ],
   "source": [
    "d[\"number\"] -= 10\n",
    "d[\"type\"] = \"lima\"\n",
    "\n",
    "d"
   ]
  },
  {
   "cell_type": "markdown",
   "metadata": {},
   "source": [
    "We can get a list of a dictionary's keys and values using the `keys()` and `values()` functions."
   ]
  },
  {
   "cell_type": "code",
   "execution_count": 33,
   "metadata": {},
   "outputs": [
    {
     "name": "stdout",
     "output_type": "stream",
     "text": [
      "['food', 'number', 'fruit', 'type']\n",
      "['beans', 90, False, 'lima']\n"
     ]
    }
   ],
   "source": [
    "print(list(d.keys()))   #convert to list for printing\n",
    "print(list(d.values()))"
   ]
  },
  {
   "cell_type": "markdown",
   "metadata": {},
   "source": [
    "Alternatively, we can use the `items()` function to get a list of two-item tuples containing key/value pairs."
   ]
  },
  {
   "cell_type": "code",
   "execution_count": 34,
   "metadata": {},
   "outputs": [
    {
     "name": "stdout",
     "output_type": "stream",
     "text": [
      "[('food', 'beans'), ('number', 90), ('fruit', False), ('type', 'lima')]\n"
     ]
    }
   ],
   "source": [
    "print(list(d.items()))"
   ]
  },
  {
   "cell_type": "markdown",
   "metadata": {},
   "source": [
    "We can combine any of these functions with a `for` loop to iterate over the elements within a dictionary."
   ]
  },
  {
   "cell_type": "code",
   "execution_count": 36,
   "metadata": {},
   "outputs": [
    {
     "name": "stdout",
     "output_type": "stream",
     "text": [
      "key: food \t value: beans\n",
      "key: number \t value: 90\n",
      "key: fruit \t value: False\n",
      "key: type \t value: lima\n"
     ]
    }
   ],
   "source": [
    "for key,value in d.items():\n",
    "    print(\"key:\", key, \"\\t\", \"value:\", value)"
   ]
  },
  {
   "cell_type": "markdown",
   "metadata": {},
   "source": [
    "Or slightly more compactly:"
   ]
  },
  {
   "cell_type": "code",
   "execution_count": 42,
   "metadata": {},
   "outputs": [
    {
     "name": "stdout",
     "output_type": "stream",
     "text": [
      "key: food \t value: beans\n",
      "key: number \t value: 90\n",
      "key: fruit \t value: False\n",
      "key: type \t value: lima\n"
     ]
    }
   ],
   "source": [
    "for k in d:  #iterate over the keys\n",
    "    print(\"key:\", k, \"\\t\", \"value:\", d[k])"
   ]
  },
  {
   "cell_type": "markdown",
   "metadata": {},
   "source": [
    "The `in` keyword checks if a particular **key** is present in a dictionary."
   ]
  },
  {
   "cell_type": "code",
   "execution_count": 46,
   "metadata": {},
   "outputs": [
    {
     "name": "stdout",
     "output_type": "stream",
     "text": [
      "True\n",
      "False\n"
     ]
    }
   ],
   "source": [
    "print(\"fruit\" in d)  #\"fruit\" is a key\n",
    "print(\"lima\" in d)   #\"lima\" is a value, not a key"
   ]
  },
  {
   "cell_type": "markdown",
   "metadata": {},
   "source": [
    "Since dictionaries are mutable, we can creat an empty dictionary and populate it later."
   ]
  },
  {
   "cell_type": "code",
   "execution_count": 55,
   "metadata": {},
   "outputs": [
    {
     "data": {
      "text/plain": [
       "{'color': 'white', 'shape': 'sphere'}"
      ]
     },
     "execution_count": 55,
     "metadata": {},
     "output_type": "execute_result"
    }
   ],
   "source": [
    "d = {}\n",
    "d[\"color\"] = \"white\"\n",
    "d[\"shape\"] = \"sphere\"\n",
    "\n",
    "d"
   ]
  },
  {
   "cell_type": "markdown",
   "metadata": {},
   "source": [
    "Some functions we learned for lists can also be used for dictionaries.  The `pop()` function takes a key as argument, removes the corresponding key/value pair from the dictionary, and returns the value."
   ]
  },
  {
   "cell_type": "code",
   "execution_count": 56,
   "metadata": {},
   "outputs": [
    {
     "name": "stdout",
     "output_type": "stream",
     "text": [
      "sphere\n",
      "{'color': 'white'}\n"
     ]
    }
   ],
   "source": [
    "v=d.pop('shape')\n",
    "\n",
    "print(v)\n",
    "print(d)"
   ]
  },
  {
   "cell_type": "markdown",
   "metadata": {},
   "source": [
    "## Nesting\n",
    "\n",
    "So far, we have seen lists, tuples, and dictionaries, all of which can store (in one way or another) integers, floats, booleans, and strings.  However, that's not all."
   ]
  },
  {
   "cell_type": "code",
   "execution_count": 64,
   "metadata": {},
   "outputs": [
    {
     "name": "stdout",
     "output_type": "stream",
     "text": [
      "[3, 2, 1]\n",
      "2\n",
      "bar\n"
     ]
    }
   ],
   "source": [
    "l = [\"apple\", \n",
    "     3.14159, \n",
    "     False, \n",
    "     [3,2,1], \n",
    "     (),\n",
    "     {\"foo\":\"bar\"}\n",
    "    ]\n",
    "\n",
    "print(l[3])\n",
    "print(l[3][1])\n",
    "print(l[5][\"foo\"])"
   ]
  },
  {
   "cell_type": "markdown",
   "metadata": {},
   "source": [
    "## String methods\n",
    "\n",
    "While strings are typically used to store text, they are also a sequence (postionally ordered, similar to lists and tuples) and can be used to store other information.  Therefore, the `len()` function can also be used with strings."
   ]
  },
  {
   "cell_type": "code",
   "execution_count": 66,
   "metadata": {},
   "outputs": [
    {
     "data": {
      "text/plain": [
       "9"
      ]
     },
     "execution_count": 66,
     "metadata": {},
     "output_type": "execute_result"
    }
   ],
   "source": [
    "s = \"spaghetti\"\n",
    "len(s)"
   ]
  },
  {
   "cell_type": "markdown",
   "metadata": {},
   "source": [
    "Strings can also be sliced."
   ]
  },
  {
   "cell_type": "code",
   "execution_count": 104,
   "metadata": {},
   "outputs": [
    {
     "name": "stdout",
     "output_type": "stream",
     "text": [
      "hett\n"
     ]
    }
   ],
   "source": [
    "print(s[4:-1])"
   ]
  },
  {
   "cell_type": "markdown",
   "metadata": {},
   "source": [
    "You can also loop over characters in a string."
   ]
  },
  {
   "cell_type": "code",
   "execution_count": 113,
   "metadata": {},
   "outputs": [
    {
     "name": "stdout",
     "output_type": "stream",
     "text": [
      "ss\n",
      "pp\n",
      "aa\n",
      "gg\n",
      "hh\n",
      "ee\n",
      "tt\n",
      "tt\n",
      "ii\n"
     ]
    }
   ],
   "source": [
    "for l in s:\n",
    "    print(2*l)"
   ]
  },
  {
   "cell_type": "markdown",
   "metadata": {},
   "source": [
    "Single and double quotes are equivalent (just be consistent)."
   ]
  },
  {
   "cell_type": "code",
   "execution_count": 115,
   "metadata": {},
   "outputs": [
    {
     "data": {
      "text/plain": [
       "True"
      ]
     },
     "execution_count": 115,
     "metadata": {},
     "output_type": "execute_result"
    }
   ],
   "source": [
    "t = 'spaghetti'\n",
    "\n",
    "s == t"
   ]
  },
  {
   "cell_type": "markdown",
   "metadata": {},
   "source": [
    "Strings can be \"concatenated\" using the plus sign."
   ]
  },
  {
   "cell_type": "code",
   "execution_count": 114,
   "metadata": {},
   "outputs": [
    {
     "data": {
      "text/plain": [
       "'abc123'"
      ]
     },
     "execution_count": 114,
     "metadata": {},
     "output_type": "execute_result"
    }
   ],
   "source": [
    "\"abc\" + \"123\""
   ]
  },
  {
   "cell_type": "markdown",
   "metadata": {},
   "source": [
    "Multiline strings can be defined using triple quotes.  This can be useful for long comments or temporarily disabling a block of code."
   ]
  },
  {
   "cell_type": "code",
   "execution_count": 137,
   "metadata": {},
   "outputs": [],
   "source": [
    "\"\"\"\n",
    "################################\n",
    "Here is a long, detailed comment\n",
    "################################\n",
    "\"\"\" \n",
    "\n",
    "'''\n",
    "x=10\n",
    "x+=38\n",
    "x*=2\n",
    "''' ;  #the semicolon here merely prevents automatic printing of this string"
   ]
  },
  {
   "cell_type": "markdown",
   "metadata": {},
   "source": [
    "Special characters must be \"escaped\" using a backslash (`\\`)."
   ]
  },
  {
   "cell_type": "code",
   "execution_count": 105,
   "metadata": {},
   "outputs": [
    {
     "name": "stdout",
     "output_type": "stream",
     "text": [
      "1) users: john\n",
      "ora\n",
      "2) users: john\\nora\n",
      "3) mom's spaghetti\n",
      "4) mom's spaghetti\n"
     ]
    }
   ],
   "source": [
    "print(\"1) users: john\\nora\")\n",
    "print(\"2) users: john\\\\nora\")\n",
    "\n",
    "print('3) mom\\'s spaghetti')\n",
    "print(\"4) mom's spaghetti\")"
   ]
  },
  {
   "cell_type": "markdown",
   "metadata": {},
   "source": [
    "Windows uses the backslash in file paths.  You can escape each backslash, or use \"raw strings\" instead.  Raw strings are preceeded by the letter \"r\"."
   ]
  },
  {
   "cell_type": "code",
   "execution_count": 98,
   "metadata": {},
   "outputs": [
    {
     "name": "stdout",
     "output_type": "stream",
     "text": [
      "C:\\folder\\file.txt\n",
      "C:\\folder\\file.txt\n"
     ]
    }
   ],
   "source": [
    "print('C:\\\\folder\\\\file.txt')\n",
    "print(r'C:\\folder\\file.txt')"
   ]
  },
  {
   "cell_type": "markdown",
   "metadata": {},
   "source": [
    "Like tuples, strings are immutable."
   ]
  },
  {
   "cell_type": "code",
   "execution_count": 121,
   "metadata": {
    "tags": [
     "raises-exception"
    ]
   },
   "outputs": [
    {
     "ename": "TypeError",
     "evalue": "'str' object does not support item assignment",
     "output_type": "error",
     "traceback": [
      "\u001b[0;31m---------------------------------------------------------------------------\u001b[0m",
      "\u001b[0;31mTypeError\u001b[0m                                 Traceback (most recent call last)",
      "\u001b[0;32m/var/folders/g0/jmslkjxj05x152gsxfk1vzwm0000gp/T/ipykernel_90090/3679829846.py\u001b[0m in \u001b[0;36m<module>\u001b[0;34m\u001b[0m\n\u001b[0;32m----> 1\u001b[0;31m \u001b[0ms\u001b[0m\u001b[0;34m[\u001b[0m\u001b[0;36m0\u001b[0m\u001b[0;34m]\u001b[0m\u001b[0;34m=\u001b[0m\u001b[0;34m'P'\u001b[0m\u001b[0;34m\u001b[0m\u001b[0;34m\u001b[0m\u001b[0m\n\u001b[0m",
      "\u001b[0;31mTypeError\u001b[0m: 'str' object does not support item assignment"
     ]
    }
   ],
   "source": [
    "s[0]='P'"
   ]
  },
  {
   "cell_type": "markdown",
   "metadata": {},
   "source": [
    "Instead, create a new string."
   ]
  },
  {
   "cell_type": "code",
   "execution_count": 122,
   "metadata": {},
   "outputs": [
    {
     "data": {
      "text/plain": [
       "'Spaghetti'"
      ]
     },
     "execution_count": 122,
     "metadata": {},
     "output_type": "execute_result"
    }
   ],
   "source": [
    "'S'+s[1:]"
   ]
  },
  {
   "cell_type": "markdown",
   "metadata": {},
   "source": [
    "Or use the string function `replace()`."
   ]
  },
  {
   "cell_type": "code",
   "execution_count": 125,
   "metadata": {},
   "outputs": [
    {
     "data": {
      "text/plain": [
       "'Spaghetti'"
      ]
     },
     "execution_count": 125,
     "metadata": {},
     "output_type": "execute_result"
    }
   ],
   "source": [
    "s.replace(\"s\",\"S\")"
   ]
  },
  {
   "cell_type": "markdown",
   "metadata": {},
   "source": [
    "There are many other useful string functions.  The `find()` function returns the index of the argument."
   ]
  },
  {
   "cell_type": "code",
   "execution_count": 128,
   "metadata": {},
   "outputs": [
    {
     "name": "stdout",
     "output_type": "stream",
     "text": [
      "3\n"
     ]
    }
   ],
   "source": [
    "print(s.find('gh'))"
   ]
  },
  {
   "cell_type": "markdown",
   "metadata": {},
   "source": [
    "The `endswith()` function returns a boolean indicating wheter or not the string ends with the specified argument."
   ]
  },
  {
   "cell_type": "code",
   "execution_count": 129,
   "metadata": {},
   "outputs": [
    {
     "name": "stdout",
     "output_type": "stream",
     "text": [
      "True\n"
     ]
    }
   ],
   "source": [
    "print(s.endswith('ti'))"
   ]
  },
  {
   "cell_type": "markdown",
   "metadata": {},
   "source": [
    "The `split()` function breaks a string into a list of strings."
   ]
  },
  {
   "cell_type": "code",
   "execution_count": 140,
   "metadata": {},
   "outputs": [
    {
     "data": {
      "text/plain": [
       "['carrot', 'lettuce', 'tomato', 'cucumber', 'broccoli']"
      ]
     },
     "execution_count": 140,
     "metadata": {},
     "output_type": "execute_result"
    }
   ],
   "source": [
    "items = 'carrot,lettuce,tomato,cucumber,broccoli'\n",
    "l = items.split(',')\n",
    "\n",
    "l"
   ]
  },
  {
   "cell_type": "markdown",
   "metadata": {},
   "source": [
    "The `join()` function does the opposite; it produces a single string from a list of strings."
   ]
  },
  {
   "cell_type": "code",
   "execution_count": 142,
   "metadata": {},
   "outputs": [
    {
     "data": {
      "text/plain": [
       "'carrot+lettuce+tomato+cucumber+broccoli'"
      ]
     },
     "execution_count": 142,
     "metadata": {},
     "output_type": "execute_result"
    }
   ],
   "source": [
    "\"+\".join(l)"
   ]
  },
  {
   "cell_type": "markdown",
   "metadata": {},
   "source": [
    "It is often useful to remove spurious spaces from strings."
   ]
  },
  {
   "cell_type": "code",
   "execution_count": 134,
   "metadata": {},
   "outputs": [
    {
     "name": "stdout",
     "output_type": "stream",
     "text": [
      "I like to eat      ice cream       every day\n",
      "I like to eat ice cream       every day\n",
      "I like to eat      ice cream every day\n",
      "I like to eat ice cream every day\n"
     ]
    }
   ],
   "source": [
    "s = '     ice cream      '\n",
    "\n",
    "print( \"I like to eat\",s          ,\"every day\")\n",
    "print( \"I like to eat\",s.lstrip() ,\"every day\") #remove space from the left side of the string\n",
    "print( \"I like to eat\",s.rstrip() ,\"every day\") #remove space from the right side of the string\n",
    "print( \"I like to eat\",s.strip()  ,\"every day\") #remove space from both sides of the string"
   ]
  },
  {
   "cell_type": "markdown",
   "metadata": {},
   "source": [
    "Python provides functions to test if all the characters in a string are letters or digits."
   ]
  },
  {
   "cell_type": "code",
   "execution_count": 152,
   "metadata": {},
   "outputs": [
    {
     "name": "stdout",
     "output_type": "stream",
     "text": [
      "string\t isalpha()\t isdigit()\n",
      "R2D2 \t False \t\t False\n",
      "R \t True \t\t False\n",
      "2 \t False \t\t True\n",
      "D \t True \t\t False\n",
      "2 \t False \t\t True\n"
     ]
    }
   ],
   "source": [
    "s=\"R2D2\"\n",
    "print(\"string\\t isalpha()\\t isdigit()\")\n",
    "print(s, \"\\t\", s.isalpha(), \"\\t\\t\", s.isdigit())\n",
    "\n",
    "for l in s:\n",
    "    print(l, \"\\t\", l.isalpha(), \"\\t\\t\", l.isdigit())\n"
   ]
  },
  {
   "cell_type": "markdown",
   "metadata": {
    "tags": []
   },
   "source": [
    "### String Formatting\n",
    "\n",
    "Python provides the ability to produce nicely formatted strings using the `format()` function.  When this function is called on a string, each set of curly brackets is replaced with one of the specified arguments (in order).\n",
    "\n",
    "\n",
    "For details, see: https://docs.python.org/3/library/string.html#string-formatting\n",
    "\n"
   ]
  },
  {
   "cell_type": "code",
   "execution_count": 159,
   "metadata": {},
   "outputs": [
    {
     "name": "stdout",
     "output_type": "stream",
     "text": [
      "chicken, fish, and steak\n"
     ]
    }
   ],
   "source": [
    "print('{}, {}, and {}'.format('chicken', 'fish', 'steak'))"
   ]
  },
  {
   "cell_type": "markdown",
   "metadata": {},
   "source": [
    "Optionally, you can specify which of the arguments should be used."
   ]
  },
  {
   "cell_type": "code",
   "execution_count": 162,
   "metadata": {},
   "outputs": [
    {
     "name": "stdout",
     "output_type": "stream",
     "text": [
      "fish, chicken, and steak\n"
     ]
    }
   ],
   "source": [
    "print('{1}, {0}, and {2}'.format('chicken', 'fish', 'steak'))"
   ]
  },
  {
   "cell_type": "markdown",
   "metadata": {},
   "source": [
    "There is a special syntax to pad and align text.  Within the curly braces, insert a colon followed by the number of characters the text should span.  The `>` instructs to right align the text."
   ]
  },
  {
   "cell_type": "code",
   "execution_count": 178,
   "metadata": {},
   "outputs": [
    {
     "name": "stdout",
     "output_type": "stream",
     "text": [
      "mass =          125.3\n",
      "energy =         2183\n",
      "x =              32.9\n",
      "y =               0.3\n"
     ]
    }
   ],
   "source": [
    "print('{:10}'.format('mass = ')  ,'{:>10}'.format(125.3))\n",
    "print('{:10}'.format('energy = '),'{:>10}'.format(2183))\n",
    "print('{:10}'.format('x = ')     ,'{:>10}'.format(32.9))\n",
    "print('{:10}'.format('y = ')     ,'{:>10}'.format(0.3))"
   ]
  },
  {
   "cell_type": "markdown",
   "metadata": {},
   "source": [
    "When dealing with floating point numbers, it is often useful to specify the precision that should be used.  To do so, the curly brackets should contain a colon, followed by a period, the number of decimal places desired, and the character `f`."
   ]
  },
  {
   "cell_type": "code",
   "execution_count": 193,
   "metadata": {},
   "outputs": [
    {
     "data": {
      "text/plain": [
       "'pi = 3.142'"
      ]
     },
     "execution_count": 193,
     "metadata": {},
     "output_type": "execute_result"
    }
   ],
   "source": [
    "'pi = {:.3f}'.format(3.141592653589793)"
   ]
  },
  {
   "cell_type": "markdown",
   "metadata": {},
   "source": [
    "Replace `f`$\\rightarrow$`g` to instead specify the number of significant figures."
   ]
  },
  {
   "cell_type": "code",
   "execution_count": 196,
   "metadata": {},
   "outputs": [
    {
     "data": {
      "text/plain": [
       "'pi = 3.14'"
      ]
     },
     "execution_count": 196,
     "metadata": {},
     "output_type": "execute_result"
    }
   ],
   "source": [
    "'pi = {:.3g}'.format(3.141592653589793)"
   ]
  },
  {
   "cell_type": "markdown",
   "metadata": {},
   "source": [
    "Replace `f`$\\rightarrow$`e` to instead use scientific notation."
   ]
  },
  {
   "cell_type": "code",
   "execution_count": 197,
   "metadata": {},
   "outputs": [
    {
     "data": {
      "text/plain": [
       "'c = 3.00e+08'"
      ]
     },
     "execution_count": 197,
     "metadata": {},
     "output_type": "execute_result"
    }
   ],
   "source": [
    "'c = {:.2e}'.format(300000000)    "
   ]
  },
  {
   "cell_type": "markdown",
   "metadata": {},
   "source": [
    "## The `os` module\n",
    "\n",
    "The `os` module is used to interact with your computer's operating system, which has a variety of uses.\n",
    "\n",
    "Within the `os` module, the `getcwd()` function tells you which directory you are currently in."
   ]
  },
  {
   "cell_type": "code",
   "execution_count": 202,
   "metadata": {},
   "outputs": [
    {
     "name": "stdout",
     "output_type": "stream",
     "text": [
      "/Users/jstupak/cernbox/fileSharing/teaching/PHYS2222/workarea/ComputationalPhysics/LectureNotes\n"
     ]
    }
   ],
   "source": [
    "import os\n",
    "\n",
    "cwd=os.getcwd()\n",
    "print(cwd)"
   ]
  },
  {
   "cell_type": "markdown",
   "metadata": {},
   "source": [
    "The `listdir()` function returns a list of files in the specified directory."
   ]
  },
  {
   "cell_type": "code",
   "execution_count": 203,
   "metadata": {},
   "outputs": [
    {
     "data": {
      "text/plain": [
       "['06_accuracy.ipynb',\n",
       " '01_pythonTutorialPartA.ipynb',\n",
       " '07_fittingData.ipynb',\n",
       " '17_SciPyAndSymPy.ipynb',\n",
       " '03_pythonTutorialPartC.ipynb',\n",
       " '14_nonlinearEquationsAndRoots.ipynb',\n",
       " '12_derivatives.ipynb',\n",
       " '00_jupyterNotebookAndGoogleColabBasics.ipynb',\n",
       " '09_pandas.ipynb',\n",
       " '11_integrationPartA.ipynb',\n",
       " '05_matplotlib.ipynb',\n",
       " '10_seaborn.ipynb',\n",
       " '15_partialDifferentialEquations.ipynb',\n",
       " '.ipynb_checkpoints',\n",
       " '.jupyter',\n",
       " '18_Randomness.ipynb',\n",
       " '08_fileIO.ipynb',\n",
       " '11_integrationPartB.ipynb',\n",
       " '04_NumPy.ipynb',\n",
       " '16_linearEquations.ipynb',\n",
       " '02_pythonTutorialPartB.ipynb',\n",
       " '13_differentialEquations.ipynb']"
      ]
     },
     "execution_count": 203,
     "metadata": {},
     "output_type": "execute_result"
    }
   ],
   "source": [
    "os.listdir(cwd)"
   ]
  },
  {
   "cell_type": "code",
   "execution_count": null,
   "metadata": {},
   "outputs": [],
   "source": [
    "# loop over all files in a directory\n",
    "current_folder = os.listdir(cwd)\n",
    "for filename in current_folder:\n",
    "    print(filename)"
   ]
  },
  {
   "cell_type": "code",
   "execution_count": null,
   "metadata": {
    "scrolled": true
   },
   "outputs": [],
   "source": [
    "# loop over all files, displaying the full path name \n",
    "# \"absolute path\" = path relative to your home directory\n",
    "current_folder = os.listdir(cwd)\n",
    "for filename in current_folder:\n",
    "    print( os.path.abspath(filename) )"
   ]
  },
  {
   "cell_type": "code",
   "execution_count": null,
   "metadata": {},
   "outputs": [],
   "source": [
    "# use os.path.isfile and os.path.isdir \n",
    "# to check if a your direcdtory contents are files or folders\n",
    "\n",
    "current_folder = os.listdir(cwd)\n",
    "for filename in current_folder:\n",
    "    isfile   = os.path.isfile(filename)\n",
    "    isfolder = os.path.isdir(filename)\n",
    "    if isfile:\n",
    "        print( filename ,\" -> This is a file\" )\n",
    "    if isfolder:\n",
    "        print( filename ,\" -> This is a folder\" )"
   ]
  },
  {
   "cell_type": "code",
   "execution_count": null,
   "metadata": {},
   "outputs": [],
   "source": [
    "# use python string method endswith() method to find txt files and count them\n",
    "\n",
    "current_folder = os.listdir(cwd)\n",
    "count_txt = 0\n",
    "for filename in current_folder:\n",
    "    if filename.endswith('.txt') :\n",
    "        count_txt+=1\n",
    "print(\"This folder contains\",count_txt,\"text files\")"
   ]
  },
  {
   "cell_type": "code",
   "execution_count": null,
   "metadata": {},
   "outputs": [],
   "source": [
    "# Search directory and all sub-directories for jpg files\n",
    "#   use os walk()\n",
    "#       returns 3 items: the root directory, a list of directories below the root directory, and a list of files\n",
    "import os\n",
    "\n",
    "searchdir = os.getcwd()  \n",
    "\n",
    "count = 0\n",
    "for root, dirs, files in os.walk(searchdir):\n",
    "    \n",
    "    # ugly print:\n",
    "    #print(\"Currently searching\", root)\n",
    "    # nicer print:\n",
    "    #    Note: os.path.split() splits a pathname into (head,tail) where tail is after the last /\n",
    "    (path,folder) = os.path.split(root)    \n",
    "    print(\"Searching folder:\", folder)  \n",
    "    \n",
    "    for name in files:\n",
    "        #print(\"  checking :\", name)\n",
    "        \n",
    "        # os.path.splitext()  splits a pathname into (root, ext), where ext begins witha period\n",
    "        (base, ext) = os.path.splitext(name) \n",
    "        \n",
    "        if ext in ('.jpg'):                  # check the extension\n",
    "            count += 1\n",
    "            full_name = os.path.join(root, name) # create full path\n",
    "            print(\"     -> Found jpg:\",name)\n",
    "\n",
    "print('\\ntotal number of .jpg files found: %d' % count)"
   ]
  },
  {
   "cell_type": "markdown",
   "metadata": {},
   "source": [
    "## Some programming notes from Newman Chapter 2.7\n",
    "\n",
    "Important notes from Chapter 2.7: Good programming style\n",
    "\n",
    "* Include comments in your programs\n",
    "* Use meaningful variable names\n",
    "    * energy, mass, angular_momentum, beta\n",
    "* Use the right types of variables (ints for ints etc)\n",
    "* Import functions first\n",
    "* Give your constants names (no \"hard coding\")\n",
    "    * makes formulas easier to read\n",
    "    * If you later want to change the value of that constant you only have to change it one place\n",
    "    * Usually defined at the beginning of your code after importing\n",
    "* Use user defined functions (but avoid overusing)\n",
    "    * Don't type the same code multiple times\n",
    "    * But don't make it unreadable by having so many functions that you have trouble following the flow\n",
    "* Print out partial results and updates throughout your program\n",
    "* Lay out your programs clearly\n",
    "    * Use spaces or blank lines\n",
    "    * Split long lines with the backslash\n",
    "* Short and simple is good"
   ]
  },
  {
   "cell_type": "markdown",
   "metadata": {},
   "source": [
    "## Exercises"
   ]
  },
  {
   "cell_type": "markdown",
   "metadata": {},
   "source": [
    "#### Exercise 1: \n",
    "\n",
    "Below are two dictionaries containing items found at a fruit stand. The prices dictionary contians the price of each item, while the stock dictionary contains the number of items in the stock.\n",
    "\n",
    "1. Loop over the prices dictionary and print out a table of food items and their corresponsiding prices. Use string formatting to print the tables in nice columns (it is up to you if you want to left justify, right justify, or use a filling symbol).\n",
    "\n",
    "2. Loop over one of the dictionaries and calculate the total cost of the entire inventory (taking into account both the price of each item and the number in stock)\n",
    "\n"
   ]
  },
  {
   "cell_type": "code",
   "execution_count": null,
   "metadata": {},
   "outputs": [],
   "source": [
    "#Create the prices dictionary:\n",
    "prices={}\n",
    "\n",
    "#Add values, one key at a time\n",
    "prices[\"banana\"]       = 1.50\n",
    "prices[\"apple\"]        = 2.00\n",
    "prices[\"orange\"]       = 3.50\n",
    "prices[\"watermelon\"]   = 4.00\n",
    "\n",
    "#Create the stock dictionary\n",
    "stock={}\n",
    "\n",
    "#Add values\n",
    "stock[\"banana\"]       = 12\n",
    "stock[\"apple\"]        = 48\n",
    "stock[\"orange\"]       = 15\n",
    "stock[\"watermelon\"]   = 0\n"
   ]
  },
  {
   "cell_type": "code",
   "execution_count": null,
   "metadata": {},
   "outputs": [],
   "source": [
    "# Exercise 1 part 1 solution\n",
    "\n",
    "  "
   ]
  },
  {
   "cell_type": "code",
   "execution_count": null,
   "metadata": {},
   "outputs": [],
   "source": [
    "# Exercise 1 part 2 solution\n",
    "\n"
   ]
  },
  {
   "cell_type": "code",
   "execution_count": null,
   "metadata": {},
   "outputs": [],
   "source": []
  },
  {
   "cell_type": "markdown",
   "metadata": {},
   "source": [
    "#### Exercise 2:\n",
    "    \n",
    "1. Sort the following list (myList) alphabetically.\n",
    "\n",
    "2. Sort the list again based on the number found in index 1 of the string for each list entry."
   ]
  },
  {
   "cell_type": "code",
   "execution_count": null,
   "metadata": {},
   "outputs": [],
   "source": [
    "myList = ['A3','B7','A2','C9','E1','F6','A5','G8','H2','J4']"
   ]
  },
  {
   "cell_type": "code",
   "execution_count": null,
   "metadata": {},
   "outputs": [],
   "source": [
    "# Exercise 2 Part 1 solution\n"
   ]
  },
  {
   "cell_type": "code",
   "execution_count": null,
   "metadata": {},
   "outputs": [],
   "source": [
    "# Exercise 2 Part 2 solution\n",
    "\n"
   ]
  },
  {
   "cell_type": "markdown",
   "metadata": {},
   "source": [
    "#### Exercise 3\n",
    "\n",
    "1. How do you access the H in the following list?\n",
    "2. How do you access the sublist [6,8,2,5]?"
   ]
  },
  {
   "cell_type": "code",
   "execution_count": null,
   "metadata": {},
   "outputs": [],
   "source": [
    "myList2 = [ [1,4,5,6,3,7,9],\n",
    "           [\"A\",\"K\",\"E\",\"C\",\"G\",\"G\",\"H\"],\n",
    "           [4,2,6,8,2,5,7] ]"
   ]
  },
  {
   "cell_type": "code",
   "execution_count": null,
   "metadata": {},
   "outputs": [],
   "source": [
    "# Exercise 3 part 1 solution\n",
    "\n"
   ]
  },
  {
   "cell_type": "code",
   "execution_count": null,
   "metadata": {},
   "outputs": [],
   "source": [
    "# Exercise 3 part 2 solution\n",
    "\n"
   ]
  },
  {
   "cell_type": "markdown",
   "metadata": {},
   "source": [
    "# Moved from above\n",
    "\n",
    "## Lists (again)"
   ]
  },
  {
   "cell_type": "code",
   "execution_count": null,
   "metadata": {},
   "outputs": [],
   "source": [
    "# We can also use functions to sort in different ways\n",
    "\n",
    "print(\"Original List:\")\n",
    "fruits = ['watermelon','plum','peach','pineapple','strawberry','grape','lemon','apple','banana','pear']\n",
    "print(fruits)\n",
    "\n",
    "# sort() will sort the list alphabetically\n",
    "print(\"\\nSort:\")\n",
    "fruits.sort()\n",
    "print(fruits)\n",
    "\n",
    "\n",
    "# we can also use a 'key' to sort with a function\n",
    "#  in this case sort by the length of the value\n",
    "print(\"\\nSort by length:\")\n",
    "#def myLength(value):\n",
    "#    return len(value)\n",
    "\n",
    "def myLength(value):\n",
    "    return len(value)\n",
    "\n",
    "fruits.sort(key=myLength)\n",
    "print(fruits)\n",
    "\n",
    "# Finally, we can sort by longest word first:\n",
    "\n",
    "print(\"\\nReverse sort by length:\")\n",
    "fruits.sort(key=myLength,reverse=True)\n",
    "print(fruits)"
   ]
  },
  {
   "cell_type": "code",
   "execution_count": null,
   "metadata": {},
   "outputs": [],
   "source": [
    "myLength('pear')"
   ]
  },
  {
   "cell_type": "code",
   "execution_count": null,
   "metadata": {},
   "outputs": [],
   "source": [
    "# Nesting lists\n",
    "#   Python allows you to make lists of lists!\n",
    "\n",
    "L = [  [3,5,7], \n",
    "       [7,8,9], \n",
    "       [13,17,21]\n",
    "    ]\n",
    "\n",
    "print(L)\n",
    "print(L[0])      # Element 0\n",
    "print(L[0][1])   # Element 1 of the list contained at element 0\n",
    "                 ####  ( or [row][column])"
   ]
  },
  {
   "cell_type": "code",
   "execution_count": null,
   "metadata": {},
   "outputs": [],
   "source": [
    "# Example using nested lists\n",
    "#\n",
    "\n",
    "import matplotlib.pyplot as plt\n",
    "plt.rcParams['figure.figsize'] = [8, 6]\n",
    "\n",
    "# Goal: Track the position of three different objects\n",
    "#  moving in one dimension under the influence of gravity\n",
    "# The three objects have different initial position and velocity\n",
    "\n",
    "# Define the intitial position and velocity of ball A, B, and C\n",
    "y0_A, v0_A =  50,  10  # m, m/s\n",
    "y0_B, v0_B = 100, -10  # m, m/s\n",
    "y0_C, v0_C = 150, -20  # m, m/s\n",
    "\n",
    "# We can use one list of lists to simultanously track both the \n",
    "#   position and velocity for each of the three objects\n",
    "#      [[y1,vy1],[y2,vy2],[y3,vy3]]\n",
    "# Initialize the list with the initial values of position and velocity for each ball\n",
    "\n",
    "list_y_vy = [[y0_A,v0_A],[y0_B,v0_B],[y0_C,v0_C]]\n",
    "\n",
    "# Define a function which calcluates how the \n",
    "#   position and velocity will change\n",
    "#   after a given time interval delta_t\n",
    "#   Input a list L containing [y,vy] and the time interval delta_t\n",
    "\n",
    "def kinematic_change(L,delta_t):\n",
    "    ay = -9.8 # Acceleration in the y direction (m/s^2) \n",
    "    y0 = L[0] # Inititial position in y (m)\n",
    "    v0 = L[1] # Inititial velocity in y (m/s)\n",
    "    # Use constant acceleration kinematic equations to find new position and velocity after some small time interval\n",
    "    y = y0 + v0*delta_t + 0.5*ay*delta_t**2\n",
    "    v = v0 + ay*delta_t\n",
    "    new_L = [y,v]\n",
    "    return new_L\n",
    "\n",
    "# Define some lists which we will use save the position or velocity\n",
    "#   after each time step so we can make pretty plots\n",
    "plot_y_A = []\n",
    "plot_y_B = []\n",
    "plot_y_C = []\n",
    "plot_vy_A = []\n",
    "plot_vy_B = []\n",
    "plot_vy_C = []\n",
    "plot_t = []\n",
    "\n",
    "# Track the total time that has elapsed\n",
    "time =0\n",
    "max_iter = 500\n",
    "\n",
    "# iterate from 0 to some max iteration\n",
    "for i in range (0, max_iter,1):\n",
    "    # Define a time step\n",
    "    step = 0.01 # Define time step so each iteration represents 1/100 of a second\n",
    "    time += step # calculate the total time that has elapsed (s)\n",
    "    # Use our function to change the position and velocity\n",
    "    #   of each object\n",
    "    for j in range(len(list_y_vy)): # loop over each outer element of the list\n",
    "        list_y_vy[j]=kinematic_change(list_y_vy[j],step)\n",
    "   \n",
    "    # Record the new positions for the plot\n",
    "    plot_y_A.append(list_y_vy[0][0])\n",
    "    plot_y_B.append(list_y_vy[1][0])\n",
    "    plot_y_C.append(list_y_vy[2][0])\n",
    "    plot_vy_A.append(list_y_vy[0][1])\n",
    "    plot_vy_B.append(list_y_vy[1][1])\n",
    "    plot_vy_C.append(list_y_vy[2][1])\n",
    "    plot_t.append(time)\n",
    "\n",
    "# Make dynamic labels    \n",
    "label_A = 'ball A: $y_0$ ='+str(y0_A)+' m, $v_{0y}$ = '+str(v0_A)+'m/s'  \n",
    "label_B = 'ball B: $y_0$ ='+str(y0_B)+' m, $v_{0y}$ = '+str(v0_B)+'m/s'  \n",
    "label_C = 'ball C: $y_0$ ='+str(y0_C)+' m, $v_{0y}$ = '+str(v0_C)+'m/s'  \n",
    "    "
   ]
  },
  {
   "cell_type": "code",
   "execution_count": null,
   "metadata": {},
   "outputs": [],
   "source": [
    "# Plot the position vs time graph (preview of upcoming Matplotlib notebook)    \n",
    "plt.plot(plot_t,plot_y_A,\"-\",  linewidth=3, label=label_A)\n",
    "plt.plot(plot_t,plot_y_B,\"--\", linewidth=3, label=label_B)\n",
    "plt.plot(plot_t,plot_y_C,\"-.\", linewidth=3, label=label_C)\n",
    "plt.xlabel('Time (s)'   , fontsize=20)\n",
    "plt.ylabel('y position (m)'   , fontsize=20)\n",
    "plt.grid()\n",
    "plt.ylim((0,160))\n",
    "plt.tick_params(axis='both', which='major', labelsize=20)\n",
    "plt.legend(loc='upper right' , prop={\"size\":14})\n",
    "plt.show()"
   ]
  },
  {
   "cell_type": "code",
   "execution_count": null,
   "metadata": {},
   "outputs": [],
   "source": [
    "# Plot the velocity vs time graph (preview of upcoming Matplotlib notebook)    \n",
    "plt.plot(plot_t,plot_vy_A,\"-\",  linewidth=3, label=label_A)\n",
    "plt.plot(plot_t,plot_vy_B,\"--\", linewidth=3, label=label_B)\n",
    "plt.plot(plot_t,plot_vy_C,\"-.\", linewidth=3, label=label_C)\n",
    "plt.xlabel('Time (s)'   , fontsize=20)\n",
    "plt.ylabel('y-component of velocity (m/s)'   , fontsize=20)\n",
    "plt.grid()\n",
    "plt.tick_params(axis='both', which='major', labelsize=20)\n",
    "plt.legend(loc='upper right' , prop={\"size\":14})\n",
    "plt.show()"
   ]
  },
  {
   "cell_type": "code",
   "execution_count": null,
   "metadata": {},
   "outputs": [],
   "source": []
  },
  {
   "cell_type": "markdown",
   "metadata": {},
   "source": [
    "### List comprehensions \n",
    "\n",
    "Neat python method to create new lists. This is a bit advanced, but it is good to gain exposure to this idea so you know where to look it up if you see it in the future.\n"
   ]
  },
  {
   "cell_type": "code",
   "execution_count": null,
   "metadata": {},
   "outputs": [],
   "source": [
    "\n",
    "L = [  [3,5,7], \n",
    "       [7,8,9], \n",
    "       [13,17,21]\n",
    "    ]\n",
    "\n",
    "print(L)"
   ]
  },
  {
   "cell_type": "code",
   "execution_count": null,
   "metadata": {},
   "outputs": [],
   "source": [
    "# Lets say we want to extract one column from a list of lists. We could do so as follows:\n",
    "\n",
    "newcolumn = []\n",
    "for entry in L:\n",
    "    print(\"  List entry :\",entry)\n",
    "    newcolumn.append(entry[0])\n",
    "    \n",
    "print(\"newcolumn =\",newcolumn)    \n"
   ]
  },
  {
   "cell_type": "code",
   "execution_count": null,
   "metadata": {},
   "outputs": [],
   "source": [
    "# \"list comprehensions\" allow us to do the same thing we did above, but in only one line\n",
    "\n",
    "# create a list from a nested list (extract one column)\n",
    "col = [entry[0] for entry in L]\n",
    "print(\"col = \",col)"
   ]
  },
  {
   "cell_type": "code",
   "execution_count": null,
   "metadata": {},
   "outputs": [],
   "source": [
    "# Another example: create a list from a nested list (extract the diagonals)\n",
    "print(\"len(L) = \",len(L))\n",
    "diag = [L[i][i] for i in range(len(L)) ]\n",
    "print(\"diag = \",diag)"
   ]
  },
  {
   "cell_type": "code",
   "execution_count": null,
   "metadata": {},
   "outputs": [],
   "source": [
    "# \"list comprehensions\" can also be used to create a list from a mathematical equation\n",
    "my_list_A = [2**x for x in range(10)]\n",
    "print(my_list_A)\n",
    "print()\n",
    "\n",
    "my_list_B = [x**2 for x in range(10)]\n",
    "print(my_list_B)\n",
    "print()"
   ]
  },
  {
   "cell_type": "code",
   "execution_count": null,
   "metadata": {},
   "outputs": [],
   "source": [
    "# we could also do this with a traditional for loop:\n",
    "\n",
    "my_list_C = []\n",
    "for x in range(10):\n",
    "    my_list_C.append(x**2)\n",
    "    \n",
    "print(my_list_C)"
   ]
  },
  {
   "cell_type": "code",
   "execution_count": null,
   "metadata": {},
   "outputs": [],
   "source": [
    "# other tricks\n",
    "\n",
    "# Make a list of all numbers between 0 and 19\n",
    "numbers = [x for x in range(20)]\n",
    "print(numbers)\n",
    "\n",
    "# Make a list of all odd numbers between 0 and 19\n",
    "oddnumbers = [x for x in range(20) if x%2==1 ]\n",
    "print(oddnumbers)\n",
    "\n",
    "# Double every odd number between 0 and 19\n",
    "doubled_odds = [n * 2 for n in numbers if n % 2 == 1]\n",
    "print(doubled_odds)\n",
    "print()"
   ]
  },
  {
   "cell_type": "code",
   "execution_count": null,
   "metadata": {},
   "outputs": [],
   "source": [
    "# parallel list comprehension\n",
    "par = [[x, y] for x in range(1, 3) for y in range(7, 9)]\n",
    "print(par)\n",
    "\n",
    "# we could do this with a nested for loop instead\n",
    "\n",
    "par2 = []\n",
    "for x in range(1, 3):\n",
    "    for y in range(7, 9):\n",
    "        entry = [x,y]\n",
    "        par2.append(entry)\n",
    "print(par2)"
   ]
  }
 ],
 "metadata": {
  "kernelspec": {
   "display_name": "Python 3 (ipykernel)",
   "language": "python",
   "name": "python3"
  },
  "language_info": {
   "codemirror_mode": {
    "name": "ipython",
    "version": 3
   },
   "file_extension": ".py",
   "mimetype": "text/x-python",
   "name": "python",
   "nbconvert_exporter": "python",
   "pygments_lexer": "ipython3",
   "version": "3.7.12"
  }
 },
 "nbformat": 4,
 "nbformat_minor": 4
}
