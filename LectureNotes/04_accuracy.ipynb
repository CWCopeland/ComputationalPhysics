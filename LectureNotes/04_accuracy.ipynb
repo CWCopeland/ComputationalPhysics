{
 "cells": [
  {
   "cell_type": "markdown",
   "metadata": {},
   "source": [
    "# Accuracy \n",
    "\n",
    "## Overflow and underflow\n",
    "\n",
    "In python 3, integers can hold arbitrarily large values (within limits of system memory)."
   ]
  },
  {
   "cell_type": "code",
   "execution_count": 1,
   "metadata": {
    "tags": []
   },
   "outputs": [
    {
     "data": {
      "text/plain": [
       "179769313486231590772930519078902473361797697894230657273430081157732675805500963132708477322407536021120113879871393357658789768814416622492847430639474124377767893424865485276302219601246094119453082952085005768838150682342462881473913110540827237163350510684586298239947245938479716304835356329624224137216"
      ]
     },
     "execution_count": 1,
     "metadata": {},
     "output_type": "execute_result"
    }
   ],
   "source": [
    "bigNum = 2**1024\n",
    "\n",
    "bigNum"
   ]
  },
  {
   "cell_type": "markdown",
   "metadata": {},
   "source": [
    "However, `float`s can only represent values between $\\sim\\!10^{-308}$ (there are subtle caveats to this statement) and $\\sim\\!10^{308}$."
   ]
  },
  {
   "cell_type": "code",
   "execution_count": 2,
   "metadata": {
    "tags": []
   },
   "outputs": [
    {
     "data": {
      "text/plain": [
       "(1e+308, inf)"
      ]
     },
     "execution_count": 2,
     "metadata": {},
     "output_type": "execute_result"
    }
   ],
   "source": [
    "1e308, 1e308*10"
   ]
  },
  {
   "cell_type": "markdown",
   "metadata": {},
   "source": [
    "The behavior above is referred to as \"overflow.\"  `inf` is short for infinity, and behaves roughly as one would expect."
   ]
  },
  {
   "cell_type": "code",
   "execution_count": 3,
   "metadata": {
    "tags": []
   },
   "outputs": [
    {
     "name": "stdout",
     "output_type": "stream",
     "text": [
      "type(inf): <class 'float'>\n",
      "inf/1e308: inf\n",
      "inf/inf: nan\n"
     ]
    }
   ],
   "source": [
    "inf = float(\"inf\")\n",
    "\n",
    "print(\"type(inf): {}\".format(type(inf)),\n",
    "      \"inf/1e308: {}\".format(inf/1e308),\n",
    "      \"inf/inf: {}\".format(inf/inf),\n",
    "      sep=\"\\n\")"
   ]
  },
  {
   "cell_type": "markdown",
   "metadata": {
    "tags": []
   },
   "source": [
    "Python uses `nan` (not a number) to represent undefined or unpresentable values, which has the unusual property that it is not equal to itself."
   ]
  },
  {
   "cell_type": "code",
   "execution_count": 4,
   "metadata": {
    "tags": []
   },
   "outputs": [
    {
     "data": {
      "text/plain": [
       "False"
      ]
     },
     "execution_count": 4,
     "metadata": {},
     "output_type": "execute_result"
    }
   ],
   "source": [
    "x = inf/inf\n",
    "\n",
    "x == x"
   ]
  },
  {
   "cell_type": "markdown",
   "metadata": {},
   "source": [
    "The opposite scenario, in which a calculated value is too small, is referred to as \"underflow.\""
   ]
  },
  {
   "cell_type": "code",
   "execution_count": 5,
   "metadata": {
    "tags": []
   },
   "outputs": [
    {
     "data": {
      "text/plain": [
       "(1e-323, 0.0)"
      ]
     },
     "execution_count": 5,
     "metadata": {},
     "output_type": "execute_result"
    }
   ],
   "source": [
    "1e-323, 1e-323/10"
   ]
  },
  {
   "cell_type": "markdown",
   "metadata": {},
   "source": [
    "The case of underflow is more subtle than overflow.  There is a gradual loss of precision for values below $\\sim\\!10^{308}$."
   ]
  },
  {
   "cell_type": "code",
   "execution_count": 6,
   "metadata": {
    "tags": []
   },
   "outputs": [
    {
     "name": "stdout",
     "output_type": "stream",
     "text": [
      "1.1234567891234568e-307\n",
      "1.123456789123457e-308\n",
      "1.12345678912346e-309\n",
      "1.12345678912344e-310\n",
      "1.1234567891235e-311\n",
      "1.123456789124e-312\n",
      "1.1234567891e-313\n",
      "1.123456789e-314\n",
      "1.12345679e-315\n",
      "1.1234568e-316\n",
      "1.123457e-317\n",
      "1.123456e-318\n",
      "1.12346e-319\n",
      "1.1235e-320\n",
      "1.12e-321\n",
      "1.14e-322\n",
      "1e-323\n"
     ]
    }
   ],
   "source": [
    "smallNum = 1.123456789123456789e-307  \n",
    "\n",
    "while smallNum>0:\n",
    "    print(smallNum)\n",
    "    smallNum /= 10"
   ]
  },
  {
   "cell_type": "markdown",
   "metadata": {},
   "source": [
    "Other numerical types have limitations as well.\n",
    "\n",
    "### Warning\n",
    "\n",
    "Logical errors can happen when you are dealing with overflow and underflow situations.\n"
   ]
  },
  {
   "cell_type": "code",
   "execution_count": 7,
   "metadata": {
    "tags": []
   },
   "outputs": [
    {
     "data": {
      "text/plain": [
       "(inf, inf, True)"
      ]
     },
     "execution_count": 7,
     "metadata": {},
     "output_type": "execute_result"
    }
   ],
   "source": [
    "a, b = 1.0e500, 7.0e500\n",
    "\n",
    "a, b, a == b"
   ]
  },
  {
   "cell_type": "markdown",
   "metadata": {},
   "source": [
    "The math module includes functions to test if a variable is `inf` or `nan`."
   ]
  },
  {
   "cell_type": "code",
   "execution_count": 8,
   "metadata": {
    "tags": []
   },
   "outputs": [
    {
     "data": {
      "text/plain": [
       "(True, True)"
      ]
     },
     "execution_count": 8,
     "metadata": {},
     "output_type": "execute_result"
    }
   ],
   "source": [
    "import math\n",
    "\n",
    "math.isinf(a), math.isnan(x)"
   ]
  },
  {
   "cell_type": "markdown",
   "metadata": {},
   "source": [
    "## `sys` module\n",
    "\n",
    "Python has a `sys` module that allows you to check parameters of your computer: https://docs.python.org/3.6/library/sys.html"
   ]
  },
  {
   "cell_type": "code",
   "execution_count": 9,
   "metadata": {
    "tags": []
   },
   "outputs": [
    {
     "data": {
      "text/plain": [
       "'darwin'"
      ]
     },
     "execution_count": 9,
     "metadata": {},
     "output_type": "execute_result"
    }
   ],
   "source": [
    "import sys\n",
    "sys.platform"
   ]
  },
  {
   "cell_type": "markdown",
   "metadata": {},
   "source": [
    "The attribute `float_info` gives information on the maximum and minimum `float` values, as well as other info."
   ]
  },
  {
   "cell_type": "code",
   "execution_count": 10,
   "metadata": {
    "tags": []
   },
   "outputs": [
    {
     "data": {
      "text/plain": [
       "sys.float_info(max=1.7976931348623157e+308, max_exp=1024, max_10_exp=308, min=2.2250738585072014e-308, min_exp=-1021, min_10_exp=-307, dig=15, mant_dig=53, epsilon=2.220446049250313e-16, radix=2, rounds=1)"
      ]
     },
     "execution_count": 10,
     "metadata": {},
     "output_type": "execute_result"
    }
   ],
   "source": [
    "sys.float_info"
   ]
  },
  {
   "cell_type": "markdown",
   "metadata": {},
   "source": [
    "## Float precision and numerical error\n",
    "\n",
    "Since we have finite bits to represent variables, irrational numbers must be rounded.  However, rational numbers with more than 16 significant figures will also be rounded, leading to rounding errors."
   ]
  },
  {
   "cell_type": "code",
   "execution_count": 11,
   "metadata": {},
   "outputs": [
    {
     "data": {
      "text/plain": [
       "0.30000000000000004"
      ]
     },
     "execution_count": 11,
     "metadata": {},
     "output_type": "execute_result"
    }
   ],
   "source": [
    "0.1 + 0.1 + 0.1"
   ]
  },
  {
   "cell_type": "markdown",
   "metadata": {},
   "source": [
    "Why didn't python calculate 0.3?  To understand some issues related to rounding, we must consider the binary representation of variables.  In memory, numerical values are represented in base 2 (binary).  While 0.1 is a rational number in base 10, in base 2 it is the irrational number 0.0<span style=\"color:red\">0011</span><span style=\"color:orange\">0011</span><span style=\"color:yellow\">0011</span><span style=\"color:green\">0011</span><span style=\"color:blue\">0011</span><span style=\"color:purple\">0011</span>...  Therefore, this value can't be accurately represented with finite bits, resulting in rounding error.\n",
    "\n",
    "------------------"
   ]
  },
  {
   "cell_type": "markdown",
   "metadata": {},
   "source": [
    "### Equality testing\n",
    "\n",
    "Due to issues related to numerical precision, you should never test for equality of two `float`s."
   ]
  },
  {
   "cell_type": "code",
   "execution_count": 12,
   "metadata": {
    "tags": []
   },
   "outputs": [
    {
     "data": {
      "text/plain": [
       "False"
      ]
     },
     "execution_count": 12,
     "metadata": {},
     "output_type": "execute_result"
    }
   ],
   "source": [
    "x=49.0\n",
    "\n",
    "x*(1/49.0) == 1"
   ]
  },
  {
   "cell_type": "markdown",
   "metadata": {},
   "source": [
    "Instead, you should test if two `float`s have a difference less than some small number."
   ]
  },
  {
   "cell_type": "code",
   "execution_count": 13,
   "metadata": {
    "tags": []
   },
   "outputs": [
    {
     "name": "stdout",
     "output_type": "stream",
     "text": [
      "False True\n"
     ]
    }
   ],
   "source": [
    "x = 1.1+2.2\n",
    "epsilon = 1e-12\n",
    "\n",
    "print(x == 3.3, abs(x-3.3)<epsilon)"
   ]
  },
  {
   "cell_type": "markdown",
   "metadata": {},
   "source": [
    "Alternatively, you can use the `isclose` function (from the math module)."
   ]
  },
  {
   "cell_type": "code",
   "execution_count": 14,
   "metadata": {
    "tags": []
   },
   "outputs": [
    {
     "data": {
      "text/plain": [
       "True"
      ]
     },
     "execution_count": 14,
     "metadata": {},
     "output_type": "execute_result"
    }
   ],
   "source": [
    "import math\n",
    "\n",
    "math.isclose(x, 3.3)"
   ]
  },
  {
   "cell_type": "markdown",
   "metadata": {},
   "source": [
    "Also note that floating point addition is not associative."
   ]
  },
  {
   "cell_type": "code",
   "execution_count": 16,
   "metadata": {
    "tags": []
   },
   "outputs": [
    {
     "data": {
      "text/plain": [
       "False"
      ]
     },
     "execution_count": 16,
     "metadata": {},
     "output_type": "execute_result"
    }
   ],
   "source": [
    "a, b, c = 1e14, 25.44, 0.74\n",
    "\n",
    "(a+b)+c == a+(b+c)"
   ]
  },
  {
   "cell_type": "markdown",
   "metadata": {},
   "source": [
    "Nor is it distributive."
   ]
  },
  {
   "cell_type": "code",
   "execution_count": 17,
   "metadata": {
    "tags": []
   },
   "outputs": [
    {
     "data": {
      "text/plain": [
       "False"
      ]
     },
     "execution_count": 17,
     "metadata": {},
     "output_type": "execute_result"
    }
   ],
   "source": [
    "a, b, c, = 100, 0.1, 0.2\n",
    "\n",
    "a*(b+c) == a*b + a*c"
   ]
  },
  {
   "cell_type": "markdown",
   "metadata": {},
   "source": [
    "## Loss of signficance\n",
    "\n",
    "Suppose we want to calculate the difference betwen two numbers, 1.2345432 and 1.23451.  With full precision, the difference is 0.00000332.  \n",
    "\n",
    "However, if we calculated the difference on a machine with only 6 digits of precision, (after rounding) we would calculate the difference as $1.23454-1.23451 = 0.00003$.  Initially, we had two numbers, with 8 and 6 significant figures.  However, the result of our calculation has only a single significant figure.  This is a common phenomenon when taking the difference of two similar numbers.\n",
    "\n",
    "A similar phenomenon occurs when a small number is added/subtracted to a large number.  Suppose we want to add the numbers 12345.6 and 0.123456.  Again, on a machine with only 6 digits of precision, we would calculate the sum as $12345.6 + 0.123456 = 12345.7$, resulting in an error of 0.023456.\n",
    "\n",
    "In reality, python has 15 digits of precision, so this is a smaller effect.  But it can still cause problems.  \n",
    "\n",
    "Let's assume we want to calculate the difference between two numbers, $x=1+\\sqrt{2}\\times10^{-14}$ and $y=1$.  With infinite precision, the difference is $\\sqrt{2}\\times10^{-14}$ or approximately $1.41421356237309504\\times10^{-14}$.  However, python gives a different result."
   ]
  },
  {
   "cell_type": "code",
   "execution_count": 18,
   "metadata": {
    "tags": []
   },
   "outputs": [
    {
     "data": {
      "text/plain": [
       "-1.4210854715202004e-14"
      ]
     },
     "execution_count": 18,
     "metadata": {},
     "output_type": "execute_result"
    }
   ],
   "source": [
    "x = 1 + math.sqrt(2)*1e-14\n",
    "y = 1\n",
    "\n",
    "y-x"
   ]
  },
  {
   "cell_type": "markdown",
   "metadata": {},
   "source": [
    "This is accurate only to 1 decimal place.\n",
    "\n",
    "To avoid such issues, the `fsum()` function (within the math module) can be used: https://docs.python.org/3/library/math.html#math.fsum"
   ]
  },
  {
   "cell_type": "code",
   "execution_count": 19,
   "metadata": {
    "tags": []
   },
   "outputs": [
    {
     "data": {
      "text/plain": [
       "(0.9999999999999999, 1.0)"
      ]
     },
     "execution_count": 19,
     "metadata": {},
     "output_type": "execute_result"
    }
   ],
   "source": [
    "l = [.1, .1, .1, .1, .1, .1, .1, .1, .1, .1]\n",
    "\n",
    "sum(l), math.fsum(l)"
   ]
  },
  {
   "cell_type": "markdown",
   "metadata": {},
   "source": [
    "And returning to the difference of $1+\\sqrt{2}\\times10^{-14}$ and $1$:"
   ]
  },
  {
   "cell_type": "code",
   "execution_count": 20,
   "metadata": {
    "tags": []
   },
   "outputs": [
    {
     "data": {
      "text/plain": [
       "1.4142135623730951e-14"
      ]
     },
     "execution_count": 20,
     "metadata": {},
     "output_type": "execute_result"
    }
   ],
   "source": [
    "math.fsum([1,math.sqrt(2)*1e-14,-1])"
   ]
  },
  {
   "cell_type": "markdown",
   "metadata": {},
   "source": [
    "This agrees with the true value to 15 decimal places."
   ]
  }
 ],
 "metadata": {
  "kernelspec": {
   "display_name": "Python 3 (ipykernel)",
   "language": "python",
   "name": "python3"
  },
  "language_info": {
   "codemirror_mode": {
    "name": "ipython",
    "version": 3
   },
   "file_extension": ".py",
   "mimetype": "text/x-python",
   "name": "python",
   "nbconvert_exporter": "python",
   "pygments_lexer": "ipython3",
   "version": "3.7.12"
  }
 },
 "nbformat": 4,
 "nbformat_minor": 4
}
