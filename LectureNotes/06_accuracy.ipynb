{
 "cells": [
  {
   "cell_type": "markdown",
   "metadata": {},
   "source": [
    "# Accuracy \n",
    "\n",
    "## Overflow and underflow\n",
    "\n",
    "In python 3, integers can hold arbitrarily large values (within limits of system memory)."
   ]
  },
  {
   "cell_type": "code",
   "execution_count": null,
   "metadata": {
    "tags": []
   },
   "outputs": [],
   "source": [
    "bigNum = 2**1024\n",
    "\n",
    "bigNum"
   ]
  },
  {
   "cell_type": "markdown",
   "metadata": {},
   "source": [
    "However, `float`s can only represent values between $\\sim\\!10^{-308}$ (there are subtle caveats to this statement) and $\\sim\\!10^{308}$."
   ]
  },
  {
   "cell_type": "code",
   "execution_count": null,
   "metadata": {
    "tags": []
   },
   "outputs": [],
   "source": [
    "1e308, 1e308*10"
   ]
  },
  {
   "cell_type": "markdown",
   "metadata": {},
   "source": [
    "The behavior above is referred to as \"overflow.\"  `inf` is short for infinity, and behaves roughly as one would expect."
   ]
  },
  {
   "cell_type": "code",
   "execution_count": null,
   "metadata": {
    "tags": []
   },
   "outputs": [],
   "source": [
    "inf=float(\"inf\")\n",
    "\n",
    "print(type(inf))\n",
    "print(inf/1e308,\n",
    "      inf/1e309)"
   ]
  },
  {
   "cell_type": "markdown",
   "metadata": {},
   "source": [
    "The opposite scenario, in which a calculated value is too small, is referred to as \"underflow.\""
   ]
  },
  {
   "cell_type": "code",
   "execution_count": null,
   "metadata": {
    "tags": []
   },
   "outputs": [],
   "source": [
    "1e-323, 1e-323/10"
   ]
  },
  {
   "cell_type": "markdown",
   "metadata": {},
   "source": [
    "The case of underflow is more subtle than overflow.  There is a gradual loss of precision for values below $\\sim\\!10^{308}$."
   ]
  },
  {
   "cell_type": "code",
   "execution_count": null,
   "metadata": {
    "tags": []
   },
   "outputs": [],
   "source": [
    "smallNum = 1.123456789123456789e-307  \n",
    "\n",
    "while smallNum>0:\n",
    "    print(smallNum)\n",
    "    smallNum /= 10"
   ]
  },
  {
   "cell_type": "markdown",
   "metadata": {},
   "source": [
    "Other numerical types have limitations as well."
   ]
  },
  {
   "cell_type": "markdown",
   "metadata": {},
   "source": [
    "## `sys` module\n",
    "\n",
    "Python has a `sys` module that allows you to check parameters of your computer: https://docs.python.org/3.6/library/sys.html"
   ]
  },
  {
   "cell_type": "code",
   "execution_count": null,
   "metadata": {
    "tags": []
   },
   "outputs": [],
   "source": [
    "import sys\n",
    "sys.platform"
   ]
  },
  {
   "cell_type": "markdown",
   "metadata": {},
   "source": [
    "The attribute `float_info` gives information on the maximum and minimum `float` values, as well as other info."
   ]
  },
  {
   "cell_type": "code",
   "execution_count": null,
   "metadata": {
    "tags": []
   },
   "outputs": [],
   "source": [
    "sys.float_info"
   ]
  },
  {
   "cell_type": "markdown",
   "metadata": {},
   "source": [
    "## Warning\n",
    "\n",
    "Logical errors can happen when you are dealing with overflow and underflow situations.\n"
   ]
  },
  {
   "cell_type": "code",
   "execution_count": null,
   "metadata": {
    "tags": []
   },
   "outputs": [],
   "source": [
    "a, b = 1.0e500, 7.0e500\n",
    "\n",
    "a, b, a == b"
   ]
  },
  {
   "cell_type": "markdown",
   "metadata": {},
   "source": [
    "Python uses `nan` (not a number) to represent undefined or unpresentable values. "
   ]
  },
  {
   "cell_type": "code",
   "execution_count": null,
   "metadata": {
    "tags": []
   },
   "outputs": [],
   "source": [
    "c = a/b\n",
    "\n",
    "c"
   ]
  },
  {
   "cell_type": "markdown",
   "metadata": {},
   "source": [
    "`nan` has the unusual property that it is not equal to itself."
   ]
  },
  {
   "cell_type": "code",
   "execution_count": null,
   "metadata": {
    "tags": []
   },
   "outputs": [],
   "source": [
    "c == c"
   ]
  },
  {
   "cell_type": "markdown",
   "metadata": {},
   "source": [
    "The math module includes functions to test if a variable is `inf` or `nan`."
   ]
  },
  {
   "cell_type": "code",
   "execution_count": null,
   "metadata": {
    "tags": []
   },
   "outputs": [],
   "source": [
    "import math\n",
    "\n",
    "math.isinf(a), math.isnan(c)"
   ]
  },
  {
   "cell_type": "markdown",
   "metadata": {},
   "source": [
    "## Float precision and numerical error\n",
    "\n",
    "Since we have finite bits to represent variables, irrational numbers must be rounded.  However, rational numbers with more than 16 significant figures will also be rounded, leading to rounding errors."
   ]
  },
  {
   "cell_type": "code",
   "execution_count": null,
   "metadata": {},
   "outputs": [],
   "source": [
    "0.1 + 0.1 + 0.1"
   ]
  },
  {
   "cell_type": "markdown",
   "metadata": {},
   "source": [
    "Why didn't python calculate 0.3?  To understand some issues related to rounding, we must consider the binary representation of variables.  In memory, numerical values are represented in base 2 (binary).  While 0.1 is a rational number in base 10, in base 2 it is the irrational number 0.0<span style=\"color:red\">0011</span><span style=\"color:orange\">0011</span><span style=\"color:yellow\">0011</span><span style=\"color:green\">0011</span><span style=\"color:blue\">0011</span><span style=\"color:purple\">0011</span>...  Therefore, this value can't be accurately represented with finite bits, resulting in rounding error.\n",
    "\n",
    "------------------"
   ]
  },
  {
   "cell_type": "markdown",
   "metadata": {},
   "source": [
    "### Equality testing\n",
    "\n",
    "Due to issues related to numerical precision, you should never test for equality of two `float`s."
   ]
  },
  {
   "cell_type": "code",
   "execution_count": null,
   "metadata": {
    "tags": []
   },
   "outputs": [],
   "source": [
    "x=49.0\n",
    "\n",
    "x*(1/49.0) == 1"
   ]
  },
  {
   "cell_type": "markdown",
   "metadata": {},
   "source": [
    "Instead, you should test if two `float`s have a difference less than some small number."
   ]
  },
  {
   "cell_type": "code",
   "execution_count": null,
   "metadata": {
    "tags": []
   },
   "outputs": [],
   "source": [
    "x = 1.1+2.2\n",
    "epsilon = 1e-12\n",
    "\n",
    "print(x == 3.3, abs(x-3.3)<epsilon)"
   ]
  },
  {
   "cell_type": "markdown",
   "metadata": {},
   "source": [
    "Alternatively, you can use the `isclose` function (from the math module)."
   ]
  },
  {
   "cell_type": "code",
   "execution_count": null,
   "metadata": {
    "tags": []
   },
   "outputs": [],
   "source": [
    "import math\n",
    "\n",
    "math.isclose(x, 3.3)"
   ]
  },
  {
   "cell_type": "markdown",
   "metadata": {},
   "source": [
    "NumPy also provides an `allclose` function for element-by-element equality testing of `array`s."
   ]
  },
  {
   "cell_type": "code",
   "execution_count": null,
   "metadata": {
    "tags": []
   },
   "outputs": [],
   "source": [
    "import numpy as np\n",
    "\n",
    "x = np.array([[3.141592, -0.1], \n",
    "              [-0.1,     0.1]])\n",
    "y = np.array([[math.pi, -0.1], \n",
    "              [-0.1,     0.1]])\n",
    "\n",
    "np.allclose(x,y)"
   ]
  },
  {
   "cell_type": "markdown",
   "metadata": {},
   "source": [
    "Also note that floating point addition is not associative."
   ]
  },
  {
   "cell_type": "code",
   "execution_count": null,
   "metadata": {
    "tags": []
   },
   "outputs": [],
   "source": [
    "a, b, c = 1e14, 25.44, 0.74\n",
    "\n",
    "(a+b)+c == a+(b+c)"
   ]
  },
  {
   "cell_type": "markdown",
   "metadata": {},
   "source": [
    "Nor is it distributive."
   ]
  },
  {
   "cell_type": "code",
   "execution_count": null,
   "metadata": {
    "tags": []
   },
   "outputs": [],
   "source": [
    "a, b, c, = 100, 0.1, 0.2\n",
    "\n",
    "a*(b+c) == a*b + a*c"
   ]
  },
  {
   "cell_type": "markdown",
   "metadata": {},
   "source": [
    "## Loss of signficance\n",
    "\n",
    "Suppose we want to calculate the difference betwen two numbers, 1.2345432 and 1.23451.  With full precision, the difference is 0.00000332.  \n",
    "\n",
    "However, if we calculated the difference on a machine with only 6 digits of precision, (after rounding) we would calculate the difference as $1.23454-1.23451 = 0.00003$.  Initially, we had two numbers, with 8 and 6 significant figures.  However, the result of our calculation has only a single significant figure.  This is a common phenomenon when taking the difference of two similar numbers.\n",
    "\n",
    "A similar phenomenon occurs when a small number is added/subtracted to a large number.  Suppose we want to add the numbers 12345.6 and 0.123456.  Again, on a machine with only 6 digits of precision, we would calculate the sum as $12345.6 + 0.123456 = 12345.7$, resulting in an error of 0.023456.\n",
    "\n",
    "In reality, python has 15 digits of precision, so this is a smaller effect.  But it can still cause problems.  \n",
    "\n",
    "Let's assume we want to calculate the difference between two numbers, $1$ and $1+10^{-14}\\sqrt{2}$.  With infinite precision, the difference is $10^{-14}\\sqrt{2}$ or approximately $1.414213562\\times10^{-14}$.  However, python gives a different result."
   ]
  },
  {
   "cell_type": "code",
   "execution_count": null,
   "metadata": {
    "tags": []
   },
   "outputs": [],
   "source": [
    "x = 1\n",
    "y = 1 + math.sqrt(2)*1e-14\n",
    "\n",
    "y-x"
   ]
  },
  {
   "cell_type": "markdown",
   "metadata": {},
   "source": [
    "This is accurate only to 1 decimal place.\n",
    "\n",
    "To avoid such issues, the `fsum()` function (within the math module) can be used: https://docs.python.org/3/library/math.html#math.fsum"
   ]
  },
  {
   "cell_type": "code",
   "execution_count": 23,
   "metadata": {
    "tags": []
   },
   "outputs": [
    {
     "data": {
      "text/plain": [
       "(0.9999999999999999, 1.0)"
      ]
     },
     "execution_count": 23,
     "metadata": {},
     "output_type": "execute_result"
    }
   ],
   "source": [
    "l = [.1, .1, .1, .1, .1, .1, .1, .1, .1, .1]\n",
    "\n",
    "sum(l), math.fsum(l)"
   ]
  }
 ],
 "metadata": {
  "kernelspec": {
   "display_name": "Python 3 (ipykernel)",
   "language": "python",
   "name": "python3"
  },
  "language_info": {
   "codemirror_mode": {
    "name": "ipython",
    "version": 3
   },
   "file_extension": ".py",
   "mimetype": "text/x-python",
   "name": "python",
   "nbconvert_exporter": "python",
   "pygments_lexer": "ipython3",
   "version": "3.7.12"
  }
 },
 "nbformat": 4,
 "nbformat_minor": 4
}
