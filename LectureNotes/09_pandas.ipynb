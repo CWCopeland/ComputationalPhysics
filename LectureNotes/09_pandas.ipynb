{
 "cells": [
  {
   "cell_type": "markdown",
   "metadata": {
    "id": "X05C1IvLMNW6"
   },
   "source": [
    "# Pandas\n",
    "\n",
    "Pandas is a python library commonly used for analyzing, cleaning, and manipulating data.  More info is available here: https://pandas.pydata.org/\n",
    "\n",
    "We've learned about multiple data structures (lists, numpy arrays, etc.).  Now we will explore two new data structures contained within Pandas.:\n",
    " * Pandas `Series` (a single \"column\" of data)\n",
    " * Pandas `DataFrame` (a table of data with multiple columns/rows)\n",
    "\n",
    "## Pandas `Series`\n",
    "\n",
    "A `Series` is similar to a one-dimensional array, which contains a single variable type."
   ]
  },
  {
   "cell_type": "code",
   "execution_count": 1,
   "metadata": {
    "id": "zehQta9RMNW-",
    "tags": []
   },
   "outputs": [
    {
     "data": {
      "text/plain": [
       "0    77134\n",
       "1    76424\n",
       "2    33104\n",
       "3    13441\n",
       "4    36505\n",
       "5    29176\n",
       "6    34994\n",
       "dtype: int64"
      ]
     },
     "execution_count": 1,
     "metadata": {},
     "output_type": "execute_result"
    }
   ],
   "source": [
    "import pandas as pd\n",
    "\n",
    "s = pd.Series([77134,76424,33104,13441,36505,29176,34994])\n",
    "s"
   ]
  },
  {
   "cell_type": "markdown",
   "metadata": {
    "id": "LBMsCtXJMNXA"
   },
   "source": [
    "This particular `Series` contains elements of type `int64` which are indexed by integers 0-6.\n",
    "\n",
    "`Series` objects have `index` and `values` attributes which allow you to extract the indices and values separately."
   ]
  },
  {
   "cell_type": "code",
   "execution_count": 2,
   "metadata": {
    "colab": {
     "base_uri": "https://localhost:8080/"
    },
    "id": "ZsUQzqhiMNXB",
    "outputId": "b5997183-eeb4-4237-a614-53139c434168",
    "tags": []
   },
   "outputs": [
    {
     "data": {
      "text/plain": [
       "RangeIndex(start=0, stop=7, step=1)"
      ]
     },
     "execution_count": 2,
     "metadata": {},
     "output_type": "execute_result"
    }
   ],
   "source": [
    "s.index"
   ]
  },
  {
   "cell_type": "code",
   "execution_count": 3,
   "metadata": {
    "colab": {
     "base_uri": "https://localhost:8080/"
    },
    "id": "BajgCHzdMNXB",
    "outputId": "193a1bac-d0f7-4b57-ab72-6eae96f8083c",
    "tags": []
   },
   "outputs": [
    {
     "data": {
      "text/plain": [
       "array([77134, 76424, 33104, 13441, 36505, 29176, 34994])"
      ]
     },
     "execution_count": 3,
     "metadata": {},
     "output_type": "execute_result"
    }
   ],
   "source": [
    "s.values"
   ]
  },
  {
   "cell_type": "markdown",
   "metadata": {},
   "source": [
    "To access an individual element, use the corresponding index."
   ]
  },
  {
   "cell_type": "code",
   "execution_count": 4,
   "metadata": {
    "colab": {
     "base_uri": "https://localhost:8080/"
    },
    "id": "kRe5hP2AMNXC",
    "outputId": "c8ec4d39-781e-4686-e2fd-c9a061896921",
    "tags": []
   },
   "outputs": [
    {
     "data": {
      "text/plain": [
       "36505"
      ]
     },
     "execution_count": 4,
     "metadata": {},
     "output_type": "execute_result"
    }
   ],
   "source": [
    "s[4]"
   ]
  },
  {
   "cell_type": "markdown",
   "metadata": {},
   "source": [
    "Like `array`s, `Series` objects can also be sliced to obtain a subset of the data."
   ]
  },
  {
   "cell_type": "code",
   "execution_count": 5,
   "metadata": {
    "colab": {
     "base_uri": "https://localhost:8080/"
    },
    "id": "rE2G0AE_MNXB",
    "outputId": "d744f132-43a9-44bf-ab72-5c64d461c517",
    "tags": []
   },
   "outputs": [
    {
     "data": {
      "text/plain": [
       "1    76424\n",
       "2    33104\n",
       "dtype: int64"
      ]
     },
     "execution_count": 5,
     "metadata": {},
     "output_type": "execute_result"
    }
   ],
   "source": [
    "s[1:3]"
   ]
  },
  {
   "cell_type": "markdown",
   "metadata": {
    "id": "hrDSCHrgMNXC",
    "tags": []
   },
   "source": [
    "### `Series` descriptive index\n",
    "\n",
    "Unlike numpy `array`s, Pandas `Series` also allow you to use a more descriptive index.  For example, the numbers listed above could be the population of various Oklahoma towns. Therefore, we can assign a `list` with the names of these towns to the `Series` using its `index` attribute."
   ]
  },
  {
   "cell_type": "code",
   "execution_count": 6,
   "metadata": {
    "id": "2GBZGS3_MNXD",
    "tags": []
   },
   "outputs": [
    {
     "data": {
      "text/plain": [
       "Oklahoma City    77134\n",
       "Tulsa            76424\n",
       "Norman           33104\n",
       "Goldsby          13441\n",
       "Noble            36505\n",
       "Newcastle        29176\n",
       "Moore            34994\n",
       "dtype: int64"
      ]
     },
     "execution_count": 6,
     "metadata": {},
     "output_type": "execute_result"
    }
   ],
   "source": [
    "s.index = [\"Oklahoma City\", \"Tulsa\", \"Norman\", \"Goldsby\", \"Noble\", \"Newcastle\", \"Moore\"]\n",
    "\n",
    "s"
   ]
  },
  {
   "cell_type": "markdown",
   "metadata": {},
   "source": [
    "Now, we can get the population of Norman using the original numeric index, or the descriptive (alphanumeric) index we just defined."
   ]
  },
  {
   "cell_type": "code",
   "execution_count": 7,
   "metadata": {
    "colab": {
     "base_uri": "https://localhost:8080/"
    },
    "id": "eHX_UYpzMNXD",
    "outputId": "c0a2a2bf-ae10-4f1b-f29b-70d97ffbde88",
    "tags": []
   },
   "outputs": [
    {
     "data": {
      "text/plain": [
       "(33104, 33104)"
      ]
     },
     "execution_count": 7,
     "metadata": {},
     "output_type": "execute_result"
    }
   ],
   "source": [
    "s[2], s[\"Norman\"]"
   ]
  },
  {
   "cell_type": "markdown",
   "metadata": {
    "id": "alSmnD32MNXF"
   },
   "source": [
    "We can also give a descriptive name to the `Series` object using the `name` attribute:"
   ]
  },
  {
   "cell_type": "code",
   "execution_count": 8,
   "metadata": {
    "id": "7TBHKFWJMNXF",
    "tags": []
   },
   "outputs": [
    {
     "data": {
      "text/plain": [
       "Oklahoma City    77134\n",
       "Tulsa            76424\n",
       "Norman           33104\n",
       "Goldsby          13441\n",
       "Noble            36505\n",
       "Newcastle        29176\n",
       "Moore            34994\n",
       "Name: Population, dtype: int64"
      ]
     },
     "execution_count": 8,
     "metadata": {},
     "output_type": "execute_result"
    }
   ],
   "source": [
    "s.name = \"Population\"\n",
    "\n",
    "s"
   ]
  },
  {
   "cell_type": "markdown",
   "metadata": {
    "id": "_dTTt7X2MNXF"
   },
   "source": [
    "All of the above can also be accomplished using the `Series` constructor."
   ]
  },
  {
   "cell_type": "code",
   "execution_count": 9,
   "metadata": {
    "id": "rNDiS2QKMNXG",
    "tags": []
   },
   "outputs": [
    {
     "data": {
      "text/plain": [
       "Oklahoma City    77134\n",
       "Tulsa            76424\n",
       "Norman           33104\n",
       "Goldsby          13441\n",
       "Noble            36505\n",
       "Newcastle        29176\n",
       "Moore            34994\n",
       "Name: Population, dtype: int64"
      ]
     },
     "execution_count": 9,
     "metadata": {},
     "output_type": "execute_result"
    }
   ],
   "source": [
    "s = pd.Series([77134,76424,33104,13441,36505,29176,34994], name=\"Population\", index=[\"Oklahoma City\", \"Tulsa\", \"Norman\", \"Goldsby\", \"Noble\", \"Newcastle\", \"Moore\"])\n",
    "\n",
    "s"
   ]
  },
  {
   "cell_type": "markdown",
   "metadata": {
    "id": "1ZsoiNbOMNXJ"
   },
   "source": [
    "You can also slice a `Series` to obtain a subset of the data using the descriptive indices."
   ]
  },
  {
   "cell_type": "code",
   "execution_count": 10,
   "metadata": {
    "colab": {
     "base_uri": "https://localhost:8080/"
    },
    "id": "TGpupLShMNXJ",
    "outputId": "0ec251fb-fe89-4409-ab64-eb7cdc9ee962",
    "tags": []
   },
   "outputs": [
    {
     "data": {
      "text/plain": [
       "Norman       33104\n",
       "Goldsby      13441\n",
       "Noble        36505\n",
       "Newcastle    29176\n",
       "Moore        34994\n",
       "Name: Population, dtype: int64"
      ]
     },
     "execution_count": 10,
     "metadata": {},
     "output_type": "execute_result"
    }
   ],
   "source": [
    "s[\"Norman\":\"Moore\"]"
   ]
  },
  {
   "cell_type": "markdown",
   "metadata": {},
   "source": [
    "Or pass a `list` of indices to select specific non-contiguous values."
   ]
  },
  {
   "cell_type": "code",
   "execution_count": 11,
   "metadata": {
    "tags": []
   },
   "outputs": [
    {
     "data": {
      "text/plain": [
       "Norman    33104\n",
       "Moore     34994\n",
       "Name: Population, dtype: int64"
      ]
     },
     "execution_count": 11,
     "metadata": {},
     "output_type": "execute_result"
    }
   ],
   "source": [
    "s[[\"Norman\",\"Moore\"]]"
   ]
  },
  {
   "cell_type": "markdown",
   "metadata": {
    "id": "-D0l9tGlMNXK"
   },
   "source": [
    "### `Series` statistical methods\n",
    "\n",
    "Pandas includes a variety of built-in statistical methods that operate on `Series`:"
   ]
  },
  {
   "cell_type": "code",
   "execution_count": 12,
   "metadata": {
    "colab": {
     "base_uri": "https://localhost:8080/"
    },
    "id": "UhUYiZYqMNXK",
    "outputId": "024722fb-9b4c-4ba9-a367-64fd0953419b",
    "tags": []
   },
   "outputs": [
    {
     "data": {
      "text/plain": [
       "(34994.0, 42968.28571428572, 24328.775916010007, 13441, 77134)"
      ]
     },
     "execution_count": 12,
     "metadata": {},
     "output_type": "execute_result"
    }
   ],
   "source": [
    "s.median(), s.mean(), s.std(), s.min(), s.max()"
   ]
  },
  {
   "cell_type": "markdown",
   "metadata": {
    "id": "G7ViBdo6MNXO"
   },
   "source": [
    "There is also a built-in function `describe()` that gives a summary of several statisical measures:"
   ]
  },
  {
   "cell_type": "code",
   "execution_count": 13,
   "metadata": {
    "colab": {
     "base_uri": "https://localhost:8080/"
    },
    "id": "96E11hOWMNXO",
    "outputId": "075672e6-40cb-403e-e62b-e9a07094223e",
    "tags": []
   },
   "outputs": [
    {
     "data": {
      "text/plain": [
       "count        7.000000\n",
       "mean     42968.285714\n",
       "std      24328.775916\n",
       "min      13441.000000\n",
       "25%      31140.000000\n",
       "50%      34994.000000\n",
       "75%      56464.500000\n",
       "max      77134.000000\n",
       "Name: Population, dtype: float64"
      ]
     },
     "execution_count": 13,
     "metadata": {},
     "output_type": "execute_result"
    }
   ],
   "source": [
    "s.describe()"
   ]
  },
  {
   "cell_type": "markdown",
   "metadata": {},
   "source": [
    "You can also call numpy functions on a `Series`."
   ]
  },
  {
   "cell_type": "code",
   "execution_count": 14,
   "metadata": {
    "colab": {
     "base_uri": "https://localhost:8080/"
    },
    "id": "Bcqf17CSMNXW",
    "outputId": "d92d38c3-2c8d-488a-888a-64ac09806d5e",
    "tags": []
   },
   "outputs": [
    {
     "data": {
      "text/plain": [
       "Oklahoma City    5949653956\n",
       "Tulsa            5840627776\n",
       "Norman           1095874816\n",
       "Goldsby           180660481\n",
       "Noble            1332615025\n",
       "Newcastle         851238976\n",
       "Moore            1224580036\n",
       "Name: Population, dtype: int64"
      ]
     },
     "execution_count": 14,
     "metadata": {},
     "output_type": "execute_result"
    }
   ],
   "source": [
    "import numpy as np\n",
    "\n",
    "np.power(s,2)"
   ]
  },
  {
   "cell_type": "markdown",
   "metadata": {},
   "source": [
    "These functions (and others) can also be used to select data that satisfies a particular requirement."
   ]
  },
  {
   "cell_type": "code",
   "execution_count": 15,
   "metadata": {
    "tags": []
   },
   "outputs": [
    {
     "data": {
      "text/plain": [
       "Oklahoma City    77134\n",
       "Tulsa            76424\n",
       "Noble            36505\n",
       "Name: Population, dtype: int64"
      ]
     },
     "execution_count": 15,
     "metadata": {},
     "output_type": "execute_result"
    }
   ],
   "source": [
    "s[ s > s.median()]"
   ]
  },
  {
   "cell_type": "markdown",
   "metadata": {
    "id": "sh-NJmlaMNXO"
   },
   "source": [
    "### Plotting a Pandas `Series`\n",
    "\n",
    "Pandas includes support for plotting with `pyplot`."
   ]
  },
  {
   "cell_type": "code",
   "execution_count": 16,
   "metadata": {
    "colab": {
     "base_uri": "https://localhost:8080/",
     "height": 467
    },
    "id": "9sIpoKBJMNXO",
    "outputId": "0538d590-4af0-4b5f-dd71-b34d21e2f5bf",
    "tags": []
   },
   "outputs": [
    {
     "data": {
      "text/plain": [
       "<AxesSubplot:>"
      ]
     },
     "execution_count": 16,
     "metadata": {},
     "output_type": "execute_result"
    },
    {
     "data": {
      "image/png": "[encoded data removed]",
      "text/plain": [
       "<Figure size 640x480 with 1 Axes>"
      ]
     },
     "metadata": {},
     "output_type": "display_data"
    }
   ],
   "source": [
    "s.plot()"
   ]
  },
  {
   "cell_type": "markdown",
   "metadata": {},
   "source": [
    "The `kind` argument permits other plot types."
   ]
  },
  {
   "cell_type": "code",
   "execution_count": 17,
   "metadata": {
    "colab": {
     "base_uri": "https://localhost:8080/",
     "height": 533
    },
    "id": "Lb6y4xZzMNXP",
    "outputId": "22931284-d6aa-44c7-c014-8e3da39e3a39",
    "tags": []
   },
   "outputs": [
    {
     "data": {
      "text/plain": [
       "<AxesSubplot:>"
      ]
     },
     "execution_count": 17,
     "metadata": {},
     "output_type": "execute_result"
    },
    {
     "data": {
      "image/png": "[encoded data removed]",
      "text/plain": [
       "<Figure size 640x480 with 1 Axes>"
      ]
     },
     "metadata": {},
     "output_type": "display_data"
    }
   ],
   "source": [
    "s.plot(kind=\"bar\")"
   ]
  },
  {
   "cell_type": "code",
   "execution_count": 18,
   "metadata": {
    "colab": {
     "base_uri": "https://localhost:8080/",
     "height": 463
    },
    "id": "B_myrEtUMNXP",
    "outputId": "b5b064d6-06b4-41e5-e6ea-bd5436891580",
    "tags": []
   },
   "outputs": [
    {
     "data": {
      "text/plain": [
       "<AxesSubplot:>"
      ]
     },
     "execution_count": 18,
     "metadata": {},
     "output_type": "execute_result"
    },
    {
     "data": {
      "image/png": "[encoded data removed]",
      "text/plain": [
       "<Figure size 640x480 with 1 Axes>"
      ]
     },
     "metadata": {},
     "output_type": "display_data"
    }
   ],
   "source": [
    "s.plot(kind=\"barh\")"
   ]
  },
  {
   "cell_type": "markdown",
   "metadata": {},
   "source": [
    "Box plots are used to summarize data in terms of quartiles (the smallest 25% of values fall in the first quartile, the next smallest 25% of values fall in the second quartile, etc).  The median value is represented as a green line.  Surrounding the median, the box represents the extent of the 2nd and 3rd quartiles.  The \"whiskers\" extend to show the minimum and maximum values, provided they are sufficiently close to the mean."
   ]
  },
  {
   "cell_type": "code",
   "execution_count": 19,
   "metadata": {
    "colab": {
     "base_uri": "https://localhost:8080/",
     "height": 467
    },
    "id": "OzQgDCsPMNXP",
    "outputId": "5f33c88a-c7b8-410e-8f0f-9a92869129f1",
    "tags": []
   },
   "outputs": [
    {
     "data": {
      "text/plain": [
       "<AxesSubplot:>"
      ]
     },
     "execution_count": 19,
     "metadata": {},
     "output_type": "execute_result"
    },
    {
     "data": {
      "image/png": "[encoded data removed]",
      "text/plain": [
       "<Figure size 640x480 with 1 Axes>"
      ]
     },
     "metadata": {},
     "output_type": "display_data"
    }
   ],
   "source": [
    "s.plot(kind=\"box\")"
   ]
  },
  {
   "cell_type": "markdown",
   "metadata": {},
   "source": [
    "Outliers are represented by a dot."
   ]
  },
  {
   "cell_type": "code",
   "execution_count": 20,
   "metadata": {
    "tags": []
   },
   "outputs": [
    {
     "data": {
      "text/plain": [
       "<AxesSubplot:>"
      ]
     },
     "execution_count": 20,
     "metadata": {},
     "output_type": "execute_result"
    },
    {
     "data": {
      "image/png": "[encoded data removed]",
      "text/plain": [
       "<Figure size 640x480 with 1 Axes>"
      ]
     },
     "metadata": {},
     "output_type": "display_data"
    }
   ],
   "source": [
    "s[\"Oklahoma City\"]=200000\n",
    "\n",
    "s.plot(kind=\"box\")"
   ]
  },
  {
   "cell_type": "code",
   "execution_count": 21,
   "metadata": {
    "colab": {
     "base_uri": "https://localhost:8080/",
     "height": 440
    },
    "id": "kcKi4He_MNXQ",
    "outputId": "9241b7b2-7eb3-479a-c095-7f50106b444c",
    "tags": []
   },
   "outputs": [
    {
     "data": {
      "text/plain": [
       "<AxesSubplot:ylabel='Population'>"
      ]
     },
     "execution_count": 21,
     "metadata": {},
     "output_type": "execute_result"
    },
    {
     "data": {
      "image/png": "[encoded data removed]",
      "text/plain": [
       "<Figure size 640x480 with 1 Axes>"
      ]
     },
     "metadata": {},
     "output_type": "display_data"
    }
   ],
   "source": [
    "s.plot(kind=\"pie\")"
   ]
  },
  {
   "cell_type": "markdown",
   "metadata": {
    "id": "wH_Y5eSzMNXW"
   },
   "source": [
    "### Manupulating `Series`\n",
    "\n",
    "You can perform arithmetic operations with `Series` (NB: these operations return a new `Series` with the operation applied - they don't modify the original `Series`)."
   ]
  },
  {
   "cell_type": "code",
   "execution_count": 22,
   "metadata": {
    "colab": {
     "base_uri": "https://localhost:8080/"
    },
    "id": "DO513WAGMNXk",
    "outputId": "677f41d6-5535-48e1-8f50-d52e088fc92d"
   },
   "outputs": [
    {
     "data": {
      "text/plain": [
       "Oklahoma City    100000000\n",
       "Tulsa             38212000\n",
       "Norman            16552000\n",
       "Goldsby            6720500\n",
       "Noble             18252500\n",
       "Newcastle         14588000\n",
       "Moore             17497000\n",
       "Name: Population, dtype: int64"
      ]
     },
     "execution_count": 22,
     "metadata": {},
     "output_type": "execute_result"
    }
   ],
   "source": [
    "s*500"
   ]
  },
  {
   "cell_type": "markdown",
   "metadata": {},
   "source": [
    "You can add two `Series` together."
   ]
  },
  {
   "cell_type": "code",
   "execution_count": 23,
   "metadata": {
    "colab": {
     "base_uri": "https://localhost:8080/"
    },
    "id": "oD-3aCfnMNXk",
    "outputId": "24a27625-87a4-4c10-9f13-3fd4d034daad",
    "tags": []
   },
   "outputs": [
    {
     "data": {
      "text/plain": [
       "Oklahoma City    400000\n",
       "Tulsa            152848\n",
       "Norman            66208\n",
       "Goldsby           26882\n",
       "Noble             73010\n",
       "Newcastle         58352\n",
       "Moore             69988\n",
       "Name: Population, dtype: int64"
      ]
     },
     "execution_count": 23,
     "metadata": {},
     "output_type": "execute_result"
    }
   ],
   "source": [
    "s + s"
   ]
  },
  {
   "cell_type": "markdown",
   "metadata": {},
   "source": [
    "Adding \"misaligned\" `Series` results in `NaN` for indices not present in both `Series`."
   ]
  },
  {
   "cell_type": "code",
   "execution_count": 24,
   "metadata": {
    "tags": []
   },
   "outputs": [
    {
     "name": "stdout",
     "output_type": "stream",
     "text": [
      "s1:\n",
      "Norman       33104\n",
      "Goldsby      13441\n",
      "Noble        36505\n",
      "Newcastle    29176\n",
      "Moore        34994\n",
      "Name: Population, dtype: int64\n",
      "\n",
      "s2:\n",
      "Oklahoma City    200000\n",
      "Tulsa             76424\n",
      "Norman            33104\n",
      "Goldsby           13441\n",
      "Noble             36505\n",
      "Name: Population, dtype: int64\n",
      "\n",
      "s1+s2:\n",
      "Goldsby          26882.0\n",
      "Moore                NaN\n",
      "Newcastle            NaN\n",
      "Noble            73010.0\n",
      "Norman           66208.0\n",
      "Oklahoma City        NaN\n",
      "Tulsa                NaN\n",
      "Name: Population, dtype: float64\n"
     ]
    }
   ],
   "source": [
    "s1 = s[2:]\n",
    "s2 = s[:-2]\n",
    "\n",
    "print('s1:',s1,\n",
    "      '\\ns2:',s2,\n",
    "      '\\ns1+s2:',s1+s2, sep='\\n')"
   ]
  },
  {
   "cell_type": "markdown",
   "metadata": {},
   "source": [
    "To avoid this, use the `add()` function with a suitable value of the `fill_value` argument."
   ]
  },
  {
   "cell_type": "code",
   "execution_count": 25,
   "metadata": {
    "tags": []
   },
   "outputs": [
    {
     "data": {
      "text/plain": [
       "Goldsby           26882.0\n",
       "Moore             34994.0\n",
       "Newcastle         29176.0\n",
       "Noble             73010.0\n",
       "Norman            66208.0\n",
       "Oklahoma City    200000.0\n",
       "Tulsa             76424.0\n",
       "Name: Population, dtype: float64"
      ]
     },
     "execution_count": 25,
     "metadata": {},
     "output_type": "execute_result"
    }
   ],
   "source": [
    "s1.add(s2, fill_value=0)"
   ]
  },
  {
   "cell_type": "markdown",
   "metadata": {
    "id": "xclhZ2LzMNXp"
   },
   "source": [
    "## Pandas `DataFrame`\n",
    "\n",
    "`Series` are suitable for representing one-dimensional data. For higher-dimensional data, the `DataFrame` object is appropriate.  It can be viewed as a collection of `Series` objects with a common index.\n",
    "\n",
    "There are multiple ways to initialize a DataFrame.  We can create a `DataFrame` from information in a csv file."
   ]
  },
  {
   "cell_type": "code",
   "execution_count": 26,
   "metadata": {
    "tags": []
   },
   "outputs": [
    {
     "name": "stdout",
     "output_type": "stream",
     "text": [
      "Homework1,Quiz1,Homework2,Survey2,Homework3,Quiz2,Survey3,Homework4,Quiz3,Survey4\n",
      "0,,1,,0,0,,36,3,\n",
      "0,15,0,1,14,17,1,36,10,1\n",
      "0,19.5,0,,0,0,,44,10,\n",
      "0,22.5,0,1,14,16,1,0,9.4,1\n",
      "0,,0,,0,0,,0,,\n",
      "0,19,0,1,0,12.5,1,0,,\n",
      "0,16,7,,0,11,,32,1.5,\n",
      "0,14,0,1,12,11.8,1,0,7,1\n",
      "0,23,0,,12,17.6,,42,8.9,1\n"
     ]
    }
   ],
   "source": [
    "!head ../Data/Grades.csv"
   ]
  },
  {
   "cell_type": "markdown",
   "metadata": {},
   "source": [
    "To do so, we use the `read_csv()` function."
   ]
  },
  {
   "cell_type": "code",
   "execution_count": 27,
   "metadata": {
    "tags": []
   },
   "outputs": [
    {
     "data": {
      "text/html": [
       "<div>\n",
       "<style scoped>\n",
       "    .dataframe tbody tr th:only-of-type {\n",
       "        vertical-align: middle;\n",
       "    }\n",
       "\n",
       "    .dataframe tbody tr th {\n",
       "        vertical-align: top;\n",
       "    }\n",
       "\n",
       "    .dataframe thead th {\n",
       "        text-align: right;\n",
       "    }\n",
       "</style>\n",
       "<table border=\"1\" class=\"dataframe\">\n",
       "  <thead>\n",
       "    <tr style=\"text-align: right;\">\n",
       "      <th></th>\n",
       "      <th>Homework1</th>\n",
       "      <th>Quiz1</th>\n",
       "      <th>Homework2</th>\n",
       "      <th>Survey2</th>\n",
       "      <th>Homework3</th>\n",
       "      <th>Quiz2</th>\n",
       "      <th>Survey3</th>\n",
       "      <th>Homework4</th>\n",
       "      <th>Quiz3</th>\n",
       "      <th>Survey4</th>\n",
       "    </tr>\n",
       "  </thead>\n",
       "  <tbody>\n",
       "    <tr>\n",
       "      <th>0</th>\n",
       "      <td>0</td>\n",
       "      <td>NaN</td>\n",
       "      <td>1</td>\n",
       "      <td>NaN</td>\n",
       "      <td>0</td>\n",
       "      <td>0.0</td>\n",
       "      <td>NaN</td>\n",
       "      <td>36</td>\n",
       "      <td>3.0</td>\n",
       "      <td>NaN</td>\n",
       "    </tr>\n",
       "    <tr>\n",
       "      <th>1</th>\n",
       "      <td>0</td>\n",
       "      <td>15.0</td>\n",
       "      <td>0</td>\n",
       "      <td>1.0</td>\n",
       "      <td>14</td>\n",
       "      <td>17.0</td>\n",
       "      <td>1.0</td>\n",
       "      <td>36</td>\n",
       "      <td>10.0</td>\n",
       "      <td>1.0</td>\n",
       "    </tr>\n",
       "    <tr>\n",
       "      <th>2</th>\n",
       "      <td>0</td>\n",
       "      <td>19.5</td>\n",
       "      <td>0</td>\n",
       "      <td>NaN</td>\n",
       "      <td>0</td>\n",
       "      <td>0.0</td>\n",
       "      <td>NaN</td>\n",
       "      <td>44</td>\n",
       "      <td>10.0</td>\n",
       "      <td>NaN</td>\n",
       "    </tr>\n",
       "    <tr>\n",
       "      <th>3</th>\n",
       "      <td>0</td>\n",
       "      <td>22.5</td>\n",
       "      <td>0</td>\n",
       "      <td>1.0</td>\n",
       "      <td>14</td>\n",
       "      <td>16.0</td>\n",
       "      <td>1.0</td>\n",
       "      <td>0</td>\n",
       "      <td>9.4</td>\n",
       "      <td>1.0</td>\n",
       "    </tr>\n",
       "    <tr>\n",
       "      <th>4</th>\n",
       "      <td>0</td>\n",
       "      <td>NaN</td>\n",
       "      <td>0</td>\n",
       "      <td>NaN</td>\n",
       "      <td>0</td>\n",
       "      <td>0.0</td>\n",
       "      <td>NaN</td>\n",
       "      <td>0</td>\n",
       "      <td>NaN</td>\n",
       "      <td>NaN</td>\n",
       "    </tr>\n",
       "    <tr>\n",
       "      <th>...</th>\n",
       "      <td>...</td>\n",
       "      <td>...</td>\n",
       "      <td>...</td>\n",
       "      <td>...</td>\n",
       "      <td>...</td>\n",
       "      <td>...</td>\n",
       "      <td>...</td>\n",
       "      <td>...</td>\n",
       "      <td>...</td>\n",
       "      <td>...</td>\n",
       "    </tr>\n",
       "    <tr>\n",
       "      <th>76</th>\n",
       "      <td>59</td>\n",
       "      <td>14.5</td>\n",
       "      <td>25</td>\n",
       "      <td>1.0</td>\n",
       "      <td>14</td>\n",
       "      <td>12.4</td>\n",
       "      <td>1.0</td>\n",
       "      <td>44</td>\n",
       "      <td>9.8</td>\n",
       "      <td>1.0</td>\n",
       "    </tr>\n",
       "    <tr>\n",
       "      <th>77</th>\n",
       "      <td>59</td>\n",
       "      <td>19.0</td>\n",
       "      <td>5</td>\n",
       "      <td>1.0</td>\n",
       "      <td>9</td>\n",
       "      <td>12.5</td>\n",
       "      <td>1.0</td>\n",
       "      <td>38</td>\n",
       "      <td>9.0</td>\n",
       "      <td>1.0</td>\n",
       "    </tr>\n",
       "    <tr>\n",
       "      <th>78</th>\n",
       "      <td>59</td>\n",
       "      <td>20.5</td>\n",
       "      <td>22</td>\n",
       "      <td>1.0</td>\n",
       "      <td>14</td>\n",
       "      <td>18.1</td>\n",
       "      <td>1.0</td>\n",
       "      <td>42</td>\n",
       "      <td>8.9</td>\n",
       "      <td>1.0</td>\n",
       "    </tr>\n",
       "    <tr>\n",
       "      <th>79</th>\n",
       "      <td>59</td>\n",
       "      <td>22.9</td>\n",
       "      <td>25</td>\n",
       "      <td>NaN</td>\n",
       "      <td>14</td>\n",
       "      <td>19.3</td>\n",
       "      <td>1.0</td>\n",
       "      <td>44</td>\n",
       "      <td>9.0</td>\n",
       "      <td>NaN</td>\n",
       "    </tr>\n",
       "    <tr>\n",
       "      <th>80</th>\n",
       "      <td>59</td>\n",
       "      <td>17.0</td>\n",
       "      <td>9</td>\n",
       "      <td>1.0</td>\n",
       "      <td>13</td>\n",
       "      <td>12.5</td>\n",
       "      <td>1.0</td>\n",
       "      <td>38</td>\n",
       "      <td>8.8</td>\n",
       "      <td>1.0</td>\n",
       "    </tr>\n",
       "  </tbody>\n",
       "</table>\n",
       "<p>81 rows × 10 columns</p>\n",
       "</div>"
      ],
      "text/plain": [
       "    Homework1  Quiz1  Homework2  Survey2  Homework3  Quiz2  Survey3  \\\n",
       "0           0    NaN          1      NaN          0    0.0      NaN   \n",
       "1           0   15.0          0      1.0         14   17.0      1.0   \n",
       "2           0   19.5          0      NaN          0    0.0      NaN   \n",
       "3           0   22.5          0      1.0         14   16.0      1.0   \n",
       "4           0    NaN          0      NaN          0    0.0      NaN   \n",
       "..        ...    ...        ...      ...        ...    ...      ...   \n",
       "76         59   14.5         25      1.0         14   12.4      1.0   \n",
       "77         59   19.0          5      1.0          9   12.5      1.0   \n",
       "78         59   20.5         22      1.0         14   18.1      1.0   \n",
       "79         59   22.9         25      NaN         14   19.3      1.0   \n",
       "80         59   17.0          9      1.0         13   12.5      1.0   \n",
       "\n",
       "    Homework4  Quiz3  Survey4  \n",
       "0          36    3.0      NaN  \n",
       "1          36   10.0      1.0  \n",
       "2          44   10.0      NaN  \n",
       "3           0    9.4      1.0  \n",
       "4           0    NaN      NaN  \n",
       "..        ...    ...      ...  \n",
       "76         44    9.8      1.0  \n",
       "77         38    9.0      1.0  \n",
       "78         42    8.9      1.0  \n",
       "79         44    9.0      NaN  \n",
       "80         38    8.8      1.0  \n",
       "\n",
       "[81 rows x 10 columns]"
      ]
     },
     "execution_count": 27,
     "metadata": {},
     "output_type": "execute_result"
    }
   ],
   "source": [
    "df = pd.read_csv(\"../Data/Grades.csv\")\n",
    "\n",
    "df"
   ]
  },
  {
   "cell_type": "markdown",
   "metadata": {
    "id": "xclhZ2LzMNXp"
   },
   "source": [
    "The bold text in the first column are the row indices.  The bold text in the first row are the column labels.\n",
    "\n",
    "Alternatively, we can create a `DataFrame` by calling the constructor with a nested list."
   ]
  },
  {
   "cell_type": "code",
   "execution_count": 28,
   "metadata": {
    "id": "BDY_WE7zMNXq"
   },
   "outputs": [
    {
     "data": {
      "text/html": [
       "<div>\n",
       "<style scoped>\n",
       "    .dataframe tbody tr th:only-of-type {\n",
       "        vertical-align: middle;\n",
       "    }\n",
       "\n",
       "    .dataframe tbody tr th {\n",
       "        vertical-align: top;\n",
       "    }\n",
       "\n",
       "    .dataframe thead th {\n",
       "        text-align: right;\n",
       "    }\n",
       "</style>\n",
       "<table border=\"1\" class=\"dataframe\">\n",
       "  <thead>\n",
       "    <tr style=\"text-align: right;\">\n",
       "      <th></th>\n",
       "      <th>0</th>\n",
       "      <th>1</th>\n",
       "      <th>2</th>\n",
       "    </tr>\n",
       "  </thead>\n",
       "  <tbody>\n",
       "    <tr>\n",
       "      <th>0</th>\n",
       "      <td>77134</td>\n",
       "      <td>Oklahoma</td>\n",
       "      <td>31.3</td>\n",
       "    </tr>\n",
       "    <tr>\n",
       "      <th>1</th>\n",
       "      <td>76424</td>\n",
       "      <td>Tulsa</td>\n",
       "      <td>28.5</td>\n",
       "    </tr>\n",
       "    <tr>\n",
       "      <th>2</th>\n",
       "      <td>33104</td>\n",
       "      <td>Cleveland</td>\n",
       "      <td>34.1</td>\n",
       "    </tr>\n",
       "    <tr>\n",
       "      <th>3</th>\n",
       "      <td>13441</td>\n",
       "      <td>McClain</td>\n",
       "      <td>31.2</td>\n",
       "    </tr>\n",
       "    <tr>\n",
       "      <th>4</th>\n",
       "      <td>36505</td>\n",
       "      <td>Noble</td>\n",
       "      <td>30.3</td>\n",
       "    </tr>\n",
       "    <tr>\n",
       "      <th>5</th>\n",
       "      <td>29176</td>\n",
       "      <td>McClain</td>\n",
       "      <td>35.3</td>\n",
       "    </tr>\n",
       "    <tr>\n",
       "      <th>6</th>\n",
       "      <td>34994</td>\n",
       "      <td>Cleveland</td>\n",
       "      <td>33.8</td>\n",
       "    </tr>\n",
       "  </tbody>\n",
       "</table>\n",
       "</div>"
      ],
      "text/plain": [
       "       0          1     2\n",
       "0  77134   Oklahoma  31.3\n",
       "1  76424      Tulsa  28.5\n",
       "2  33104  Cleveland  34.1\n",
       "3  13441    McClain  31.2\n",
       "4  36505      Noble  30.3\n",
       "5  29176    McClain  35.3\n",
       "6  34994  Cleveland  33.8"
      ]
     },
     "execution_count": 28,
     "metadata": {},
     "output_type": "execute_result"
    }
   ],
   "source": [
    "df = pd.DataFrame([[77134,\"Oklahoma\", 31.3],\n",
    "                   [76424,\"Tulsa\",    28.5],\n",
    "                   [33104,\"Cleveland\",34.1],\n",
    "                   [13441,\"McClain\",  31.2],\n",
    "                   [36505,\"Noble\",    30.3],\n",
    "                   [29176,\"McClain\",  35.3],\n",
    "                   [34994,\"Cleveland\",33.8]])\n",
    "\n",
    "df"
   ]
  },
  {
   "cell_type": "markdown",
   "metadata": {},
   "source": [
    "After which, we can give the rows a descriptive (alphanumeric) index and label the columns."
   ]
  },
  {
   "cell_type": "code",
   "execution_count": 29,
   "metadata": {
    "id": "zZd2jHO8MNXq"
   },
   "outputs": [
    {
     "data": {
      "text/html": [
       "<div>\n",
       "<style scoped>\n",
       "    .dataframe tbody tr th:only-of-type {\n",
       "        vertical-align: middle;\n",
       "    }\n",
       "\n",
       "    .dataframe tbody tr th {\n",
       "        vertical-align: top;\n",
       "    }\n",
       "\n",
       "    .dataframe thead th {\n",
       "        text-align: right;\n",
       "    }\n",
       "</style>\n",
       "<table border=\"1\" class=\"dataframe\">\n",
       "  <thead>\n",
       "    <tr style=\"text-align: right;\">\n",
       "      <th></th>\n",
       "      <th>Population</th>\n",
       "      <th>County</th>\n",
       "      <th>Mean Age</th>\n",
       "    </tr>\n",
       "  </thead>\n",
       "  <tbody>\n",
       "    <tr>\n",
       "      <th>Oklahoma City</th>\n",
       "      <td>77134</td>\n",
       "      <td>Oklahoma</td>\n",
       "      <td>31.3</td>\n",
       "    </tr>\n",
       "    <tr>\n",
       "      <th>Tulsa</th>\n",
       "      <td>76424</td>\n",
       "      <td>Tulsa</td>\n",
       "      <td>28.5</td>\n",
       "    </tr>\n",
       "    <tr>\n",
       "      <th>Norman</th>\n",
       "      <td>33104</td>\n",
       "      <td>Cleveland</td>\n",
       "      <td>34.1</td>\n",
       "    </tr>\n",
       "    <tr>\n",
       "      <th>Goldsby</th>\n",
       "      <td>13441</td>\n",
       "      <td>McClain</td>\n",
       "      <td>31.2</td>\n",
       "    </tr>\n",
       "    <tr>\n",
       "      <th>Noble</th>\n",
       "      <td>36505</td>\n",
       "      <td>Noble</td>\n",
       "      <td>30.3</td>\n",
       "    </tr>\n",
       "    <tr>\n",
       "      <th>Newcastle</th>\n",
       "      <td>29176</td>\n",
       "      <td>McClain</td>\n",
       "      <td>35.3</td>\n",
       "    </tr>\n",
       "    <tr>\n",
       "      <th>Moore</th>\n",
       "      <td>34994</td>\n",
       "      <td>Cleveland</td>\n",
       "      <td>33.8</td>\n",
       "    </tr>\n",
       "  </tbody>\n",
       "</table>\n",
       "</div>"
      ],
      "text/plain": [
       "               Population     County  Mean Age\n",
       "Oklahoma City       77134   Oklahoma      31.3\n",
       "Tulsa               76424      Tulsa      28.5\n",
       "Norman              33104  Cleveland      34.1\n",
       "Goldsby             13441    McClain      31.2\n",
       "Noble               36505      Noble      30.3\n",
       "Newcastle           29176    McClain      35.3\n",
       "Moore               34994  Cleveland      33.8"
      ]
     },
     "execution_count": 29,
     "metadata": {},
     "output_type": "execute_result"
    }
   ],
   "source": [
    "df.index = [\"Oklahoma City\", \"Tulsa\", \"Norman\", \"Goldsby\", \"Noble\", \"Newcastle\", \"Moore\"]\n",
    "df.columns = [\"Population\",\"County\",\"Mean Age\"]\n",
    "\n",
    "df"
   ]
  },
  {
   "cell_type": "markdown",
   "metadata": {},
   "source": [
    "Alternatively, we can pass `lists` to the constructor using the `index` and `columns` arguments to do this in a single command."
   ]
  },
  {
   "cell_type": "code",
   "execution_count": 30,
   "metadata": {
    "id": "jD7LzjFMMNXr"
   },
   "outputs": [
    {
     "data": {
      "text/html": [
       "<div>\n",
       "<style scoped>\n",
       "    .dataframe tbody tr th:only-of-type {\n",
       "        vertical-align: middle;\n",
       "    }\n",
       "\n",
       "    .dataframe tbody tr th {\n",
       "        vertical-align: top;\n",
       "    }\n",
       "\n",
       "    .dataframe thead th {\n",
       "        text-align: right;\n",
       "    }\n",
       "</style>\n",
       "<table border=\"1\" class=\"dataframe\">\n",
       "  <thead>\n",
       "    <tr style=\"text-align: right;\">\n",
       "      <th></th>\n",
       "      <th>Population</th>\n",
       "      <th>County</th>\n",
       "      <th>Mean Age</th>\n",
       "    </tr>\n",
       "  </thead>\n",
       "  <tbody>\n",
       "    <tr>\n",
       "      <th>Oklahoma City</th>\n",
       "      <td>77134</td>\n",
       "      <td>Oklahoma</td>\n",
       "      <td>31.3</td>\n",
       "    </tr>\n",
       "    <tr>\n",
       "      <th>Tulsa</th>\n",
       "      <td>76424</td>\n",
       "      <td>Tulsa</td>\n",
       "      <td>28.5</td>\n",
       "    </tr>\n",
       "    <tr>\n",
       "      <th>Norman</th>\n",
       "      <td>33104</td>\n",
       "      <td>Cleveland</td>\n",
       "      <td>34.1</td>\n",
       "    </tr>\n",
       "    <tr>\n",
       "      <th>Goldsby</th>\n",
       "      <td>13441</td>\n",
       "      <td>McClain</td>\n",
       "      <td>31.2</td>\n",
       "    </tr>\n",
       "    <tr>\n",
       "      <th>Noble</th>\n",
       "      <td>36505</td>\n",
       "      <td>Noble</td>\n",
       "      <td>30.3</td>\n",
       "    </tr>\n",
       "    <tr>\n",
       "      <th>Newcastle</th>\n",
       "      <td>29176</td>\n",
       "      <td>McClain</td>\n",
       "      <td>35.3</td>\n",
       "    </tr>\n",
       "    <tr>\n",
       "      <th>Moore</th>\n",
       "      <td>34994</td>\n",
       "      <td>Cleveland</td>\n",
       "      <td>33.8</td>\n",
       "    </tr>\n",
       "  </tbody>\n",
       "</table>\n",
       "</div>"
      ],
      "text/plain": [
       "               Population     County  Mean Age\n",
       "Oklahoma City       77134   Oklahoma      31.3\n",
       "Tulsa               76424      Tulsa      28.5\n",
       "Norman              33104  Cleveland      34.1\n",
       "Goldsby             13441    McClain      31.2\n",
       "Noble               36505      Noble      30.3\n",
       "Newcastle           29176    McClain      35.3\n",
       "Moore               34994  Cleveland      33.8"
      ]
     },
     "execution_count": 30,
     "metadata": {},
     "output_type": "execute_result"
    }
   ],
   "source": [
    "# Pass a nested list and label the indices and columns all at once:\n",
    "df = pd.DataFrame(\n",
    "    [\n",
    "        [77134,\"Oklahoma\", 31.3],\n",
    "        [76424,\"Tulsa\",    28.5],\n",
    "        [33104,\"Cleveland\",34.1],\n",
    "        [13441,\"McClain\",  31.2],\n",
    "        [36505,\"Noble\",    30.3],\n",
    "        [29176,\"McClain\",  35.3],\n",
    "        [34994,\"Cleveland\",33.8]\n",
    "    ],\n",
    "    index = [\"Oklahoma City\", \"Tulsa\", \"Norman\", \"Goldsby\", \"Noble\", \"Newcastle\", \"Moore\"],\n",
    "    columns = [\"Population\",\"County\",\"Mean Age\"]\n",
    ")\n",
    "\n",
    "df"
   ]
  },
  {
   "cell_type": "markdown",
   "metadata": {
    "id": "6AAKcKPyMNXu"
   },
   "source": [
    "We can also create a `DataFrame` by passing a `dictionary` to the constructor, with the column names as keys.  The `dictionary` values should be `lists` of the corresponding data."
   ]
  },
  {
   "cell_type": "code",
   "execution_count": 31,
   "metadata": {
    "id": "Qf2oyEMbMNXy"
   },
   "outputs": [
    {
     "data": {
      "text/html": [
       "<div>\n",
       "<style scoped>\n",
       "    .dataframe tbody tr th:only-of-type {\n",
       "        vertical-align: middle;\n",
       "    }\n",
       "\n",
       "    .dataframe tbody tr th {\n",
       "        vertical-align: top;\n",
       "    }\n",
       "\n",
       "    .dataframe thead th {\n",
       "        text-align: right;\n",
       "    }\n",
       "</style>\n",
       "<table border=\"1\" class=\"dataframe\">\n",
       "  <thead>\n",
       "    <tr style=\"text-align: right;\">\n",
       "      <th></th>\n",
       "      <th>Population</th>\n",
       "      <th>County</th>\n",
       "      <th>Mean age</th>\n",
       "    </tr>\n",
       "  </thead>\n",
       "  <tbody>\n",
       "    <tr>\n",
       "      <th>Oklahoma City</th>\n",
       "      <td>77134</td>\n",
       "      <td>Oklahoma City</td>\n",
       "      <td>31.3</td>\n",
       "    </tr>\n",
       "    <tr>\n",
       "      <th>Tulsa</th>\n",
       "      <td>76424</td>\n",
       "      <td>Tulsa</td>\n",
       "      <td>28.5</td>\n",
       "    </tr>\n",
       "    <tr>\n",
       "      <th>Norman</th>\n",
       "      <td>33104</td>\n",
       "      <td>Cleveland</td>\n",
       "      <td>34.1</td>\n",
       "    </tr>\n",
       "    <tr>\n",
       "      <th>Goldsby</th>\n",
       "      <td>13441</td>\n",
       "      <td>McClain</td>\n",
       "      <td>31.2</td>\n",
       "    </tr>\n",
       "    <tr>\n",
       "      <th>Noble</th>\n",
       "      <td>36505</td>\n",
       "      <td>Noble</td>\n",
       "      <td>30.3</td>\n",
       "    </tr>\n",
       "    <tr>\n",
       "      <th>Newcastle</th>\n",
       "      <td>29176</td>\n",
       "      <td>McClain</td>\n",
       "      <td>35.3</td>\n",
       "    </tr>\n",
       "    <tr>\n",
       "      <th>Moore</th>\n",
       "      <td>34994</td>\n",
       "      <td>Cleveland</td>\n",
       "      <td>33.8</td>\n",
       "    </tr>\n",
       "  </tbody>\n",
       "</table>\n",
       "</div>"
      ],
      "text/plain": [
       "               Population         County  Mean age\n",
       "Oklahoma City       77134  Oklahoma City      31.3\n",
       "Tulsa               76424          Tulsa      28.5\n",
       "Norman              33104      Cleveland      34.1\n",
       "Goldsby             13441        McClain      31.2\n",
       "Noble               36505          Noble      30.3\n",
       "Newcastle           29176        McClain      35.3\n",
       "Moore               34994      Cleveland      33.8"
      ]
     },
     "execution_count": 31,
     "metadata": {},
     "output_type": "execute_result"
    }
   ],
   "source": [
    "df = pd.DataFrame(\n",
    "    {\n",
    "        \"Population\": [77134,76424,33104,13441,36505,29176,34994],\n",
    "        \"County\": [\"Oklahoma City\", \"Tulsa\", \"Cleveland\", \"McClain\", \"Noble\", \"McClain\", \"Cleveland\"],\n",
    "        \"Mean age\": [31.3, 28.5, 34.1, 31.2, 30.3, 35.3, 33.8]\n",
    "    },\n",
    "    index = [\"Oklahoma City\", \"Tulsa\", \"Norman\", \"Goldsby\", \"Noble\", \"Newcastle\", \"Moore\"],\n",
    ")\n",
    "\n",
    "df"
   ]
  },
  {
   "cell_type": "markdown",
   "metadata": {},
   "source": [
    "-----------\n",
    "\n",
    "You can get information on a `DataFrame` with the `info()` function."
   ]
  },
  {
   "cell_type": "code",
   "execution_count": 32,
   "metadata": {
    "tags": []
   },
   "outputs": [
    {
     "name": "stdout",
     "output_type": "stream",
     "text": [
      "<class 'pandas.core.frame.DataFrame'>\n",
      "Index: 7 entries, Oklahoma City to Moore\n",
      "Data columns (total 3 columns):\n",
      " #   Column      Non-Null Count  Dtype  \n",
      "---  ------      --------------  -----  \n",
      " 0   Population  7 non-null      int64  \n",
      " 1   County      7 non-null      object \n",
      " 2   Mean age    7 non-null      float64\n",
      "dtypes: float64(1), int64(1), object(1)\n",
      "memory usage: 224.0+ bytes\n"
     ]
    }
   ],
   "source": [
    "df.info()"
   ]
  },
  {
   "cell_type": "markdown",
   "metadata": {},
   "source": [
    "You can get some general statistical info with the `describe()` function."
   ]
  },
  {
   "cell_type": "code",
   "execution_count": 33,
   "metadata": {
    "tags": []
   },
   "outputs": [
    {
     "data": {
      "text/html": [
       "<div>\n",
       "<style scoped>\n",
       "    .dataframe tbody tr th:only-of-type {\n",
       "        vertical-align: middle;\n",
       "    }\n",
       "\n",
       "    .dataframe tbody tr th {\n",
       "        vertical-align: top;\n",
       "    }\n",
       "\n",
       "    .dataframe thead th {\n",
       "        text-align: right;\n",
       "    }\n",
       "</style>\n",
       "<table border=\"1\" class=\"dataframe\">\n",
       "  <thead>\n",
       "    <tr style=\"text-align: right;\">\n",
       "      <th></th>\n",
       "      <th>Population</th>\n",
       "      <th>Mean age</th>\n",
       "    </tr>\n",
       "  </thead>\n",
       "  <tbody>\n",
       "    <tr>\n",
       "      <th>count</th>\n",
       "      <td>7.000000</td>\n",
       "      <td>7.000000</td>\n",
       "    </tr>\n",
       "    <tr>\n",
       "      <th>mean</th>\n",
       "      <td>42968.285714</td>\n",
       "      <td>32.071429</td>\n",
       "    </tr>\n",
       "    <tr>\n",
       "      <th>std</th>\n",
       "      <td>24328.775916</td>\n",
       "      <td>2.407429</td>\n",
       "    </tr>\n",
       "    <tr>\n",
       "      <th>min</th>\n",
       "      <td>13441.000000</td>\n",
       "      <td>28.500000</td>\n",
       "    </tr>\n",
       "    <tr>\n",
       "      <th>25%</th>\n",
       "      <td>31140.000000</td>\n",
       "      <td>30.750000</td>\n",
       "    </tr>\n",
       "    <tr>\n",
       "      <th>50%</th>\n",
       "      <td>34994.000000</td>\n",
       "      <td>31.300000</td>\n",
       "    </tr>\n",
       "    <tr>\n",
       "      <th>75%</th>\n",
       "      <td>56464.500000</td>\n",
       "      <td>33.950000</td>\n",
       "    </tr>\n",
       "    <tr>\n",
       "      <th>max</th>\n",
       "      <td>77134.000000</td>\n",
       "      <td>35.300000</td>\n",
       "    </tr>\n",
       "  </tbody>\n",
       "</table>\n",
       "</div>"
      ],
      "text/plain": [
       "         Population   Mean age\n",
       "count      7.000000   7.000000\n",
       "mean   42968.285714  32.071429\n",
       "std    24328.775916   2.407429\n",
       "min    13441.000000  28.500000\n",
       "25%    31140.000000  30.750000\n",
       "50%    34994.000000  31.300000\n",
       "75%    56464.500000  33.950000\n",
       "max    77134.000000  35.300000"
      ]
     },
     "execution_count": 33,
     "metadata": {},
     "output_type": "execute_result"
    }
   ],
   "source": [
    "df.describe()"
   ]
  },
  {
   "cell_type": "markdown",
   "metadata": {},
   "source": [
    "### Manipulating `DataFrames`\n",
    "\n",
    "Like `Series`, `DataFrames` have `index` and `values` attributes."
   ]
  },
  {
   "cell_type": "code",
   "execution_count": 34,
   "metadata": {
    "colab": {
     "base_uri": "https://localhost:8080/"
    },
    "id": "Ug8iVROWMNX0",
    "outputId": "7c2a1417-e655-40c3-f3a8-6047eb4461fb"
   },
   "outputs": [
    {
     "data": {
      "text/plain": [
       "Index(['Oklahoma City', 'Tulsa', 'Norman', 'Goldsby', 'Noble', 'Newcastle',\n",
       "       'Moore'],\n",
       "      dtype='object')"
      ]
     },
     "execution_count": 34,
     "metadata": {},
     "output_type": "execute_result"
    }
   ],
   "source": [
    "df.index"
   ]
  },
  {
   "cell_type": "markdown",
   "metadata": {},
   "source": [
    "This time, the `values` attribute contains nested `arrays` to represent the data."
   ]
  },
  {
   "cell_type": "code",
   "execution_count": 35,
   "metadata": {
    "colab": {
     "base_uri": "https://localhost:8080/"
    },
    "id": "oyuQ10rKMNXz",
    "outputId": "3ffeef57-4c4f-4c7a-fd9e-1f56e8806dfb"
   },
   "outputs": [
    {
     "data": {
      "text/plain": [
       "array([[77134, 'Oklahoma City', 31.3],\n",
       "       [76424, 'Tulsa', 28.5],\n",
       "       [33104, 'Cleveland', 34.1],\n",
       "       [13441, 'McClain', 31.2],\n",
       "       [36505, 'Noble', 30.3],\n",
       "       [29176, 'McClain', 35.3],\n",
       "       [34994, 'Cleveland', 33.8]], dtype=object)"
      ]
     },
     "execution_count": 35,
     "metadata": {},
     "output_type": "execute_result"
    }
   ],
   "source": [
    "df.values"
   ]
  },
  {
   "cell_type": "markdown",
   "metadata": {},
   "source": [
    "The `columns` attribute contains an `array` of the column labels."
   ]
  },
  {
   "cell_type": "code",
   "execution_count": 36,
   "metadata": {
    "colab": {
     "base_uri": "https://localhost:8080/"
    },
    "id": "PjIBNbKpMNX0",
    "outputId": "f66af056-32ca-4c36-99cb-4678c594f487"
   },
   "outputs": [
    {
     "data": {
      "text/plain": [
       "Index(['Population', 'County', 'Mean age'], dtype='object')"
      ]
     },
     "execution_count": 36,
     "metadata": {},
     "output_type": "execute_result"
    }
   ],
   "source": [
    "df.columns"
   ]
  },
  {
   "cell_type": "markdown",
   "metadata": {},
   "source": [
    "We can access an individual column from a `DataFrame`.  The resulting object is a `Series`."
   ]
  },
  {
   "cell_type": "code",
   "execution_count": 37,
   "metadata": {
    "colab": {
     "base_uri": "https://localhost:8080/"
    },
    "id": "uL1W5J4yMNX3",
    "outputId": "6df696ba-2dc2-4d30-97be-60565531e737"
   },
   "outputs": [
    {
     "data": {
      "text/plain": [
       "Oklahoma City    77134\n",
       "Tulsa            76424\n",
       "Norman           33104\n",
       "Goldsby          13441\n",
       "Noble            36505\n",
       "Newcastle        29176\n",
       "Moore            34994\n",
       "Name: Population, dtype: int64"
      ]
     },
     "execution_count": 37,
     "metadata": {},
     "output_type": "execute_result"
    }
   ],
   "source": [
    "df[\"Population\"]"
   ]
  },
  {
   "cell_type": "markdown",
   "metadata": {},
   "source": [
    "Alternatively, we can simply do:"
   ]
  },
  {
   "cell_type": "code",
   "execution_count": 38,
   "metadata": {
    "tags": []
   },
   "outputs": [
    {
     "data": {
      "text/plain": [
       "Oklahoma City    77134\n",
       "Tulsa            76424\n",
       "Norman           33104\n",
       "Goldsby          13441\n",
       "Noble            36505\n",
       "Newcastle        29176\n",
       "Moore            34994\n",
       "Name: Population, dtype: int64"
      ]
     },
     "execution_count": 38,
     "metadata": {},
     "output_type": "execute_result"
    }
   ],
   "source": [
    "df.Population"
   ]
  },
  {
   "cell_type": "markdown",
   "metadata": {},
   "source": [
    "We can access an individual row (also returned as a `Series`) using the `loc` \"property\" (properties are used to access or modify attributes)."
   ]
  },
  {
   "cell_type": "code",
   "execution_count": 39,
   "metadata": {
    "colab": {
     "base_uri": "https://localhost:8080/"
    },
    "id": "ZrSN80OGMNX4",
    "outputId": "7ecb1713-6115-4f83-9de4-3c24336b5001"
   },
   "outputs": [
    {
     "data": {
      "text/plain": [
       "Population        33104\n",
       "County        Cleveland\n",
       "Mean age           34.1\n",
       "Name: Norman, dtype: object"
      ]
     },
     "execution_count": 39,
     "metadata": {},
     "output_type": "execute_result"
    }
   ],
   "source": [
    "df.loc[\"Norman\"]"
   ]
  },
  {
   "cell_type": "markdown",
   "metadata": {},
   "source": [
    "We can also access rows via their numeric index, using the `iloc` property."
   ]
  },
  {
   "cell_type": "code",
   "execution_count": 40,
   "metadata": {
    "colab": {
     "base_uri": "https://localhost:8080/"
    },
    "id": "hLTfcm-rMNX4",
    "outputId": "ae0330cf-8547-4334-ab2e-9d28cf40a56a"
   },
   "outputs": [
    {
     "data": {
      "text/plain": [
       "Population        33104\n",
       "County        Cleveland\n",
       "Mean age           34.1\n",
       "Name: Norman, dtype: object"
      ]
     },
     "execution_count": 40,
     "metadata": {},
     "output_type": "execute_result"
    }
   ],
   "source": [
    "df.iloc[2]"
   ]
  },
  {
   "cell_type": "markdown",
   "metadata": {},
   "source": [
    "`DataFrame`s also support slicing to obtain a new `DataFrame` with a subset of the original rows."
   ]
  },
  {
   "cell_type": "code",
   "execution_count": 41,
   "metadata": {
    "tags": []
   },
   "outputs": [
    {
     "data": {
      "text/html": [
       "<div>\n",
       "<style scoped>\n",
       "    .dataframe tbody tr th:only-of-type {\n",
       "        vertical-align: middle;\n",
       "    }\n",
       "\n",
       "    .dataframe tbody tr th {\n",
       "        vertical-align: top;\n",
       "    }\n",
       "\n",
       "    .dataframe thead th {\n",
       "        text-align: right;\n",
       "    }\n",
       "</style>\n",
       "<table border=\"1\" class=\"dataframe\">\n",
       "  <thead>\n",
       "    <tr style=\"text-align: right;\">\n",
       "      <th></th>\n",
       "      <th>Population</th>\n",
       "      <th>County</th>\n",
       "      <th>Mean age</th>\n",
       "    </tr>\n",
       "  </thead>\n",
       "  <tbody>\n",
       "    <tr>\n",
       "      <th>Norman</th>\n",
       "      <td>33104</td>\n",
       "      <td>Cleveland</td>\n",
       "      <td>34.1</td>\n",
       "    </tr>\n",
       "    <tr>\n",
       "      <th>Goldsby</th>\n",
       "      <td>13441</td>\n",
       "      <td>McClain</td>\n",
       "      <td>31.2</td>\n",
       "    </tr>\n",
       "    <tr>\n",
       "      <th>Noble</th>\n",
       "      <td>36505</td>\n",
       "      <td>Noble</td>\n",
       "      <td>30.3</td>\n",
       "    </tr>\n",
       "    <tr>\n",
       "      <th>Newcastle</th>\n",
       "      <td>29176</td>\n",
       "      <td>McClain</td>\n",
       "      <td>35.3</td>\n",
       "    </tr>\n",
       "    <tr>\n",
       "      <th>Moore</th>\n",
       "      <td>34994</td>\n",
       "      <td>Cleveland</td>\n",
       "      <td>33.8</td>\n",
       "    </tr>\n",
       "  </tbody>\n",
       "</table>\n",
       "</div>"
      ],
      "text/plain": [
       "           Population     County  Mean age\n",
       "Norman          33104  Cleveland      34.1\n",
       "Goldsby         13441    McClain      31.2\n",
       "Noble           36505      Noble      30.3\n",
       "Newcastle       29176    McClain      35.3\n",
       "Moore           34994  Cleveland      33.8"
      ]
     },
     "execution_count": 41,
     "metadata": {},
     "output_type": "execute_result"
    }
   ],
   "source": [
    "df[\"Norman\":\"Moore\"]"
   ]
  },
  {
   "cell_type": "markdown",
   "metadata": {},
   "source": [
    "Or equivalently:"
   ]
  },
  {
   "cell_type": "code",
   "execution_count": 42,
   "metadata": {
    "tags": []
   },
   "outputs": [
    {
     "data": {
      "text/html": [
       "<div>\n",
       "<style scoped>\n",
       "    .dataframe tbody tr th:only-of-type {\n",
       "        vertical-align: middle;\n",
       "    }\n",
       "\n",
       "    .dataframe tbody tr th {\n",
       "        vertical-align: top;\n",
       "    }\n",
       "\n",
       "    .dataframe thead th {\n",
       "        text-align: right;\n",
       "    }\n",
       "</style>\n",
       "<table border=\"1\" class=\"dataframe\">\n",
       "  <thead>\n",
       "    <tr style=\"text-align: right;\">\n",
       "      <th></th>\n",
       "      <th>Population</th>\n",
       "      <th>County</th>\n",
       "      <th>Mean age</th>\n",
       "    </tr>\n",
       "  </thead>\n",
       "  <tbody>\n",
       "    <tr>\n",
       "      <th>Norman</th>\n",
       "      <td>33104</td>\n",
       "      <td>Cleveland</td>\n",
       "      <td>34.1</td>\n",
       "    </tr>\n",
       "    <tr>\n",
       "      <th>Goldsby</th>\n",
       "      <td>13441</td>\n",
       "      <td>McClain</td>\n",
       "      <td>31.2</td>\n",
       "    </tr>\n",
       "    <tr>\n",
       "      <th>Noble</th>\n",
       "      <td>36505</td>\n",
       "      <td>Noble</td>\n",
       "      <td>30.3</td>\n",
       "    </tr>\n",
       "    <tr>\n",
       "      <th>Newcastle</th>\n",
       "      <td>29176</td>\n",
       "      <td>McClain</td>\n",
       "      <td>35.3</td>\n",
       "    </tr>\n",
       "    <tr>\n",
       "      <th>Moore</th>\n",
       "      <td>34994</td>\n",
       "      <td>Cleveland</td>\n",
       "      <td>33.8</td>\n",
       "    </tr>\n",
       "  </tbody>\n",
       "</table>\n",
       "</div>"
      ],
      "text/plain": [
       "           Population     County  Mean age\n",
       "Norman          33104  Cleveland      34.1\n",
       "Goldsby         13441    McClain      31.2\n",
       "Noble           36505      Noble      30.3\n",
       "Newcastle       29176    McClain      35.3\n",
       "Moore           34994  Cleveland      33.8"
      ]
     },
     "execution_count": 42,
     "metadata": {},
     "output_type": "execute_result"
    }
   ],
   "source": [
    "df.loc[\"Norman\":\"Moore\"]"
   ]
  },
  {
   "cell_type": "markdown",
   "metadata": {},
   "source": [
    "Alternatively, the `loc` property accepts a `list` of indices."
   ]
  },
  {
   "cell_type": "code",
   "execution_count": 43,
   "metadata": {
    "colab": {
     "base_uri": "https://localhost:8080/",
     "height": 112
    },
    "id": "N5JxAJTbMNX4",
    "outputId": "7d04b176-799b-42f6-c005-78620efcd421"
   },
   "outputs": [
    {
     "data": {
      "text/html": [
       "<div>\n",
       "<style scoped>\n",
       "    .dataframe tbody tr th:only-of-type {\n",
       "        vertical-align: middle;\n",
       "    }\n",
       "\n",
       "    .dataframe tbody tr th {\n",
       "        vertical-align: top;\n",
       "    }\n",
       "\n",
       "    .dataframe thead th {\n",
       "        text-align: right;\n",
       "    }\n",
       "</style>\n",
       "<table border=\"1\" class=\"dataframe\">\n",
       "  <thead>\n",
       "    <tr style=\"text-align: right;\">\n",
       "      <th></th>\n",
       "      <th>Population</th>\n",
       "      <th>County</th>\n",
       "      <th>Mean age</th>\n",
       "    </tr>\n",
       "  </thead>\n",
       "  <tbody>\n",
       "    <tr>\n",
       "      <th>Norman</th>\n",
       "      <td>33104</td>\n",
       "      <td>Cleveland</td>\n",
       "      <td>34.1</td>\n",
       "    </tr>\n",
       "    <tr>\n",
       "      <th>Noble</th>\n",
       "      <td>36505</td>\n",
       "      <td>Noble</td>\n",
       "      <td>30.3</td>\n",
       "    </tr>\n",
       "  </tbody>\n",
       "</table>\n",
       "</div>"
      ],
      "text/plain": [
       "        Population     County  Mean age\n",
       "Norman       33104  Cleveland      34.1\n",
       "Noble        36505      Noble      30.3"
      ]
     },
     "execution_count": 43,
     "metadata": {},
     "output_type": "execute_result"
    }
   ],
   "source": [
    "df.loc[[\"Norman\",\"Noble\"]]"
   ]
  },
  {
   "cell_type": "markdown",
   "metadata": {},
   "source": [
    "Passing a second `list` of column labels will generate a `DataFrame` with only those columns."
   ]
  },
  {
   "cell_type": "code",
   "execution_count": 44,
   "metadata": {
    "tags": []
   },
   "outputs": [
    {
     "data": {
      "text/html": [
       "<div>\n",
       "<style scoped>\n",
       "    .dataframe tbody tr th:only-of-type {\n",
       "        vertical-align: middle;\n",
       "    }\n",
       "\n",
       "    .dataframe tbody tr th {\n",
       "        vertical-align: top;\n",
       "    }\n",
       "\n",
       "    .dataframe thead th {\n",
       "        text-align: right;\n",
       "    }\n",
       "</style>\n",
       "<table border=\"1\" class=\"dataframe\">\n",
       "  <thead>\n",
       "    <tr style=\"text-align: right;\">\n",
       "      <th></th>\n",
       "      <th>Population</th>\n",
       "      <th>Mean age</th>\n",
       "    </tr>\n",
       "  </thead>\n",
       "  <tbody>\n",
       "    <tr>\n",
       "      <th>Norman</th>\n",
       "      <td>33104</td>\n",
       "      <td>34.1</td>\n",
       "    </tr>\n",
       "    <tr>\n",
       "      <th>Noble</th>\n",
       "      <td>36505</td>\n",
       "      <td>30.3</td>\n",
       "    </tr>\n",
       "  </tbody>\n",
       "</table>\n",
       "</div>"
      ],
      "text/plain": [
       "        Population  Mean age\n",
       "Norman       33104      34.1\n",
       "Noble        36505      30.3"
      ]
     },
     "execution_count": 44,
     "metadata": {},
     "output_type": "execute_result"
    }
   ],
   "source": [
    "df.loc[[\"Norman\",\"Noble\"],[\"Population\",\"Mean age\"]]"
   ]
  },
  {
   "cell_type": "markdown",
   "metadata": {},
   "source": [
    "We can access an indivudal data value by passing both the index and column label to `loc`."
   ]
  },
  {
   "cell_type": "code",
   "execution_count": 45,
   "metadata": {
    "colab": {
     "base_uri": "https://localhost:8080/"
    },
    "id": "7UiOYY8LMNX4",
    "outputId": "9358bcad-b82c-45f5-aded-33eeed13091a"
   },
   "outputs": [
    {
     "data": {
      "text/plain": [
       "33104"
      ]
     },
     "execution_count": 45,
     "metadata": {},
     "output_type": "execute_result"
    }
   ],
   "source": [
    "df.loc[\"Norman\",\"Population\"]"
   ]
  },
  {
   "cell_type": "markdown",
   "metadata": {},
   "source": [
    "We can apply various statistical functions to `DataFrame` objects (if the `DataFrame` includes non-numeric data, we should pass the arguemnt `numeric_only=True`)."
   ]
  },
  {
   "cell_type": "code",
   "execution_count": 46,
   "metadata": {
    "colab": {
     "base_uri": "https://localhost:8080/"
    },
    "id": "_2CcxsS4MNX4",
    "outputId": "75065565-f0aa-4229-b484-d8387ada0c68"
   },
   "outputs": [
    {
     "data": {
      "text/plain": [
       "Population    42968.285714\n",
       "Mean age         32.071429\n",
       "dtype: float64"
      ]
     },
     "execution_count": 46,
     "metadata": {},
     "output_type": "execute_result"
    }
   ],
   "source": [
    "df.mean(numeric_only=True)"
   ]
  },
  {
   "cell_type": "markdown",
   "metadata": {},
   "source": [
    "-----------\n",
    "\n",
    "We can easily add/modify a `DataFrame` column."
   ]
  },
  {
   "cell_type": "code",
   "execution_count": 47,
   "metadata": {
    "id": "RkPM6oucMNX8"
   },
   "outputs": [
    {
     "data": {
      "text/html": [
       "<div>\n",
       "<style scoped>\n",
       "    .dataframe tbody tr th:only-of-type {\n",
       "        vertical-align: middle;\n",
       "    }\n",
       "\n",
       "    .dataframe tbody tr th {\n",
       "        vertical-align: top;\n",
       "    }\n",
       "\n",
       "    .dataframe thead th {\n",
       "        text-align: right;\n",
       "    }\n",
       "</style>\n",
       "<table border=\"1\" class=\"dataframe\">\n",
       "  <thead>\n",
       "    <tr style=\"text-align: right;\">\n",
       "      <th></th>\n",
       "      <th>Population</th>\n",
       "      <th>County</th>\n",
       "      <th>Mean age</th>\n",
       "      <th>Future pop.</th>\n",
       "    </tr>\n",
       "  </thead>\n",
       "  <tbody>\n",
       "    <tr>\n",
       "      <th>Oklahoma City</th>\n",
       "      <td>77134</td>\n",
       "      <td>Oklahoma City</td>\n",
       "      <td>33.3</td>\n",
       "      <td>154268</td>\n",
       "    </tr>\n",
       "    <tr>\n",
       "      <th>Tulsa</th>\n",
       "      <td>76424</td>\n",
       "      <td>Tulsa</td>\n",
       "      <td>30.5</td>\n",
       "      <td>152848</td>\n",
       "    </tr>\n",
       "    <tr>\n",
       "      <th>Norman</th>\n",
       "      <td>33104</td>\n",
       "      <td>Cleveland</td>\n",
       "      <td>36.1</td>\n",
       "      <td>66208</td>\n",
       "    </tr>\n",
       "    <tr>\n",
       "      <th>Goldsby</th>\n",
       "      <td>13441</td>\n",
       "      <td>McClain</td>\n",
       "      <td>33.2</td>\n",
       "      <td>26882</td>\n",
       "    </tr>\n",
       "    <tr>\n",
       "      <th>Noble</th>\n",
       "      <td>36505</td>\n",
       "      <td>Noble</td>\n",
       "      <td>32.3</td>\n",
       "      <td>73010</td>\n",
       "    </tr>\n",
       "    <tr>\n",
       "      <th>Newcastle</th>\n",
       "      <td>29176</td>\n",
       "      <td>McClain</td>\n",
       "      <td>37.3</td>\n",
       "      <td>58352</td>\n",
       "    </tr>\n",
       "    <tr>\n",
       "      <th>Moore</th>\n",
       "      <td>34994</td>\n",
       "      <td>Cleveland</td>\n",
       "      <td>35.8</td>\n",
       "      <td>69988</td>\n",
       "    </tr>\n",
       "  </tbody>\n",
       "</table>\n",
       "</div>"
      ],
      "text/plain": [
       "               Population         County  Mean age  Future pop.\n",
       "Oklahoma City       77134  Oklahoma City      33.3       154268\n",
       "Tulsa               76424          Tulsa      30.5       152848\n",
       "Norman              33104      Cleveland      36.1        66208\n",
       "Goldsby             13441        McClain      33.2        26882\n",
       "Noble               36505          Noble      32.3        73010\n",
       "Newcastle           29176        McClain      37.3        58352\n",
       "Moore               34994      Cleveland      35.8        69988"
      ]
     },
     "execution_count": 47,
     "metadata": {},
     "output_type": "execute_result"
    }
   ],
   "source": [
    "df[\"Future pop.\"] = 2 * df[\"Population\"]\n",
    "df[\"Mean age\"] = df[\"Mean age\"] + 2\n",
    "\n",
    "df"
   ]
  },
  {
   "cell_type": "markdown",
   "metadata": {},
   "source": [
    "The column `Future pop.` was added to the end of the `DataFrame`.  To insert a column at another location, use the `insert()` function.  The first argument is the column position (zero-indexed), the second argument is the column label, and the third argument is a value for this column."
   ]
  },
  {
   "cell_type": "code",
   "execution_count": 48,
   "metadata": {
    "tags": []
   },
   "outputs": [
    {
     "data": {
      "text/html": [
       "<div>\n",
       "<style scoped>\n",
       "    .dataframe tbody tr th:only-of-type {\n",
       "        vertical-align: middle;\n",
       "    }\n",
       "\n",
       "    .dataframe tbody tr th {\n",
       "        vertical-align: top;\n",
       "    }\n",
       "\n",
       "    .dataframe thead th {\n",
       "        text-align: right;\n",
       "    }\n",
       "</style>\n",
       "<table border=\"1\" class=\"dataframe\">\n",
       "  <thead>\n",
       "    <tr style=\"text-align: right;\">\n",
       "      <th></th>\n",
       "      <th>Population</th>\n",
       "      <th>County</th>\n",
       "      <th>Time zone</th>\n",
       "      <th>Mean age</th>\n",
       "      <th>Future pop.</th>\n",
       "    </tr>\n",
       "  </thead>\n",
       "  <tbody>\n",
       "    <tr>\n",
       "      <th>Oklahoma City</th>\n",
       "      <td>77134</td>\n",
       "      <td>Oklahoma City</td>\n",
       "      <td>central</td>\n",
       "      <td>33.3</td>\n",
       "      <td>154268</td>\n",
       "    </tr>\n",
       "    <tr>\n",
       "      <th>Tulsa</th>\n",
       "      <td>76424</td>\n",
       "      <td>Tulsa</td>\n",
       "      <td>central</td>\n",
       "      <td>30.5</td>\n",
       "      <td>152848</td>\n",
       "    </tr>\n",
       "    <tr>\n",
       "      <th>Norman</th>\n",
       "      <td>33104</td>\n",
       "      <td>Cleveland</td>\n",
       "      <td>central</td>\n",
       "      <td>36.1</td>\n",
       "      <td>66208</td>\n",
       "    </tr>\n",
       "    <tr>\n",
       "      <th>Goldsby</th>\n",
       "      <td>13441</td>\n",
       "      <td>McClain</td>\n",
       "      <td>central</td>\n",
       "      <td>33.2</td>\n",
       "      <td>26882</td>\n",
       "    </tr>\n",
       "    <tr>\n",
       "      <th>Noble</th>\n",
       "      <td>36505</td>\n",
       "      <td>Noble</td>\n",
       "      <td>central</td>\n",
       "      <td>32.3</td>\n",
       "      <td>73010</td>\n",
       "    </tr>\n",
       "    <tr>\n",
       "      <th>Newcastle</th>\n",
       "      <td>29176</td>\n",
       "      <td>McClain</td>\n",
       "      <td>central</td>\n",
       "      <td>37.3</td>\n",
       "      <td>58352</td>\n",
       "    </tr>\n",
       "    <tr>\n",
       "      <th>Moore</th>\n",
       "      <td>34994</td>\n",
       "      <td>Cleveland</td>\n",
       "      <td>central</td>\n",
       "      <td>35.8</td>\n",
       "      <td>69988</td>\n",
       "    </tr>\n",
       "  </tbody>\n",
       "</table>\n",
       "</div>"
      ],
      "text/plain": [
       "               Population         County Time zone  Mean age  Future pop.\n",
       "Oklahoma City       77134  Oklahoma City   central      33.3       154268\n",
       "Tulsa               76424          Tulsa   central      30.5       152848\n",
       "Norman              33104      Cleveland   central      36.1        66208\n",
       "Goldsby             13441        McClain   central      33.2        26882\n",
       "Noble               36505          Noble   central      32.3        73010\n",
       "Newcastle           29176        McClain   central      37.3        58352\n",
       "Moore               34994      Cleveland   central      35.8        69988"
      ]
     },
     "execution_count": 48,
     "metadata": {},
     "output_type": "execute_result"
    }
   ],
   "source": [
    "df.insert(2,'Time zone','central')\n",
    "\n",
    "df"
   ]
  },
  {
   "cell_type": "markdown",
   "metadata": {},
   "source": [
    "Columns can be removed using the `pop()` function.  This function also returns the column, as a `Series`."
   ]
  },
  {
   "cell_type": "code",
   "execution_count": 49,
   "metadata": {
    "id": "O6muwnDxMNX9"
   },
   "outputs": [
    {
     "name": "stdout",
     "output_type": "stream",
     "text": [
      "Oklahoma City    33.3\n",
      "Tulsa            30.5\n",
      "Norman           36.1\n",
      "Goldsby          33.2\n",
      "Noble            32.3\n",
      "Newcastle        37.3\n",
      "Moore            35.8\n",
      "Name: Mean age, dtype: float64 \n",
      "\n",
      "                Population         County Time zone  Future pop.\n",
      "Oklahoma City       77134  Oklahoma City   central       154268\n",
      "Tulsa               76424          Tulsa   central       152848\n",
      "Norman              33104      Cleveland   central        66208\n",
      "Goldsby             13441        McClain   central        26882\n",
      "Noble               36505          Noble   central        73010\n",
      "Newcastle           29176        McClain   central        58352\n",
      "Moore               34994      Cleveland   central        69988\n"
     ]
    }
   ],
   "source": [
    "s = df.pop('Mean age')\n",
    "\n",
    "print(s, \n",
    "      2*'\\n', df)"
   ]
  },
  {
   "cell_type": "markdown",
   "metadata": {},
   "source": [
    "We can combine two `DataFrame`s by passing them to the `concat()` function.  To combine two `DataFrame`s with common indices, we also pass the argument `axis=1` to concatenate along columns."
   ]
  },
  {
   "cell_type": "code",
   "execution_count": 50,
   "metadata": {
    "tags": []
   },
   "outputs": [
    {
     "data": {
      "text/html": [
       "<div>\n",
       "<style scoped>\n",
       "    .dataframe tbody tr th:only-of-type {\n",
       "        vertical-align: middle;\n",
       "    }\n",
       "\n",
       "    .dataframe tbody tr th {\n",
       "        vertical-align: top;\n",
       "    }\n",
       "\n",
       "    .dataframe thead th {\n",
       "        text-align: right;\n",
       "    }\n",
       "</style>\n",
       "<table border=\"1\" class=\"dataframe\">\n",
       "  <thead>\n",
       "    <tr style=\"text-align: right;\">\n",
       "      <th></th>\n",
       "      <th>Population</th>\n",
       "      <th>County</th>\n",
       "      <th>Time zone</th>\n",
       "      <th>Future pop.</th>\n",
       "      <th>Area</th>\n",
       "    </tr>\n",
       "  </thead>\n",
       "  <tbody>\n",
       "    <tr>\n",
       "      <th>Oklahoma City</th>\n",
       "      <td>77134</td>\n",
       "      <td>Oklahoma City</td>\n",
       "      <td>central</td>\n",
       "      <td>154268</td>\n",
       "      <td>621.0</td>\n",
       "    </tr>\n",
       "    <tr>\n",
       "      <th>Tulsa</th>\n",
       "      <td>76424</td>\n",
       "      <td>Tulsa</td>\n",
       "      <td>central</td>\n",
       "      <td>152848</td>\n",
       "      <td>201.0</td>\n",
       "    </tr>\n",
       "    <tr>\n",
       "      <th>Norman</th>\n",
       "      <td>33104</td>\n",
       "      <td>Cleveland</td>\n",
       "      <td>central</td>\n",
       "      <td>66208</td>\n",
       "      <td>189.2</td>\n",
       "    </tr>\n",
       "    <tr>\n",
       "      <th>Goldsby</th>\n",
       "      <td>13441</td>\n",
       "      <td>McClain</td>\n",
       "      <td>central</td>\n",
       "      <td>26882</td>\n",
       "      <td>NaN</td>\n",
       "    </tr>\n",
       "    <tr>\n",
       "      <th>Noble</th>\n",
       "      <td>36505</td>\n",
       "      <td>Noble</td>\n",
       "      <td>central</td>\n",
       "      <td>73010</td>\n",
       "      <td>NaN</td>\n",
       "    </tr>\n",
       "    <tr>\n",
       "      <th>Newcastle</th>\n",
       "      <td>29176</td>\n",
       "      <td>McClain</td>\n",
       "      <td>central</td>\n",
       "      <td>58352</td>\n",
       "      <td>NaN</td>\n",
       "    </tr>\n",
       "    <tr>\n",
       "      <th>Moore</th>\n",
       "      <td>34994</td>\n",
       "      <td>Cleveland</td>\n",
       "      <td>central</td>\n",
       "      <td>69988</td>\n",
       "      <td>NaN</td>\n",
       "    </tr>\n",
       "  </tbody>\n",
       "</table>\n",
       "</div>"
      ],
      "text/plain": [
       "               Population         County Time zone  Future pop.   Area\n",
       "Oklahoma City       77134  Oklahoma City   central       154268  621.0\n",
       "Tulsa               76424          Tulsa   central       152848  201.0\n",
       "Norman              33104      Cleveland   central        66208  189.2\n",
       "Goldsby             13441        McClain   central        26882    NaN\n",
       "Noble               36505          Noble   central        73010    NaN\n",
       "Newcastle           29176        McClain   central        58352    NaN\n",
       "Moore               34994      Cleveland   central        69988    NaN"
      ]
     },
     "execution_count": 50,
     "metadata": {},
     "output_type": "execute_result"
    }
   ],
   "source": [
    "df2 = pd.DataFrame(\n",
    "    {\n",
    "        \"Area\": [621, 201, 189.2],\n",
    "    },\n",
    "    index = [\"Oklahoma City\", \"Tulsa\", \"Norman\"],\n",
    ")\n",
    "\n",
    "pd.concat([df,df2],axis=1)"
   ]
  },
  {
   "cell_type": "markdown",
   "metadata": {},
   "source": [
    "To combine two `DataFrames` with common columns, use `axis=0` concatenates along rows."
   ]
  },
  {
   "cell_type": "code",
   "execution_count": 51,
   "metadata": {
    "tags": []
   },
   "outputs": [
    {
     "data": {
      "text/html": [
       "<div>\n",
       "<style scoped>\n",
       "    .dataframe tbody tr th:only-of-type {\n",
       "        vertical-align: middle;\n",
       "    }\n",
       "\n",
       "    .dataframe tbody tr th {\n",
       "        vertical-align: top;\n",
       "    }\n",
       "\n",
       "    .dataframe thead th {\n",
       "        text-align: right;\n",
       "    }\n",
       "</style>\n",
       "<table border=\"1\" class=\"dataframe\">\n",
       "  <thead>\n",
       "    <tr style=\"text-align: right;\">\n",
       "      <th></th>\n",
       "      <th>Population</th>\n",
       "      <th>County</th>\n",
       "      <th>Time zone</th>\n",
       "      <th>Future pop.</th>\n",
       "    </tr>\n",
       "  </thead>\n",
       "  <tbody>\n",
       "    <tr>\n",
       "      <th>Oklahoma City</th>\n",
       "      <td>77134</td>\n",
       "      <td>Oklahoma City</td>\n",
       "      <td>central</td>\n",
       "      <td>154268.0</td>\n",
       "    </tr>\n",
       "    <tr>\n",
       "      <th>Tulsa</th>\n",
       "      <td>76424</td>\n",
       "      <td>Tulsa</td>\n",
       "      <td>central</td>\n",
       "      <td>152848.0</td>\n",
       "    </tr>\n",
       "    <tr>\n",
       "      <th>Norman</th>\n",
       "      <td>33104</td>\n",
       "      <td>Cleveland</td>\n",
       "      <td>central</td>\n",
       "      <td>66208.0</td>\n",
       "    </tr>\n",
       "    <tr>\n",
       "      <th>Goldsby</th>\n",
       "      <td>13441</td>\n",
       "      <td>McClain</td>\n",
       "      <td>central</td>\n",
       "      <td>26882.0</td>\n",
       "    </tr>\n",
       "    <tr>\n",
       "      <th>Noble</th>\n",
       "      <td>36505</td>\n",
       "      <td>Noble</td>\n",
       "      <td>central</td>\n",
       "      <td>73010.0</td>\n",
       "    </tr>\n",
       "    <tr>\n",
       "      <th>Newcastle</th>\n",
       "      <td>29176</td>\n",
       "      <td>McClain</td>\n",
       "      <td>central</td>\n",
       "      <td>58352.0</td>\n",
       "    </tr>\n",
       "    <tr>\n",
       "      <th>Moore</th>\n",
       "      <td>34994</td>\n",
       "      <td>Cleveland</td>\n",
       "      <td>central</td>\n",
       "      <td>69988.0</td>\n",
       "    </tr>\n",
       "    <tr>\n",
       "      <th>Dallas</th>\n",
       "      <td>1288000</td>\n",
       "      <td>NaN</td>\n",
       "      <td>NaN</td>\n",
       "      <td>NaN</td>\n",
       "    </tr>\n",
       "    <tr>\n",
       "      <th>Houston</th>\n",
       "      <td>2228000</td>\n",
       "      <td>NaN</td>\n",
       "      <td>NaN</td>\n",
       "      <td>NaN</td>\n",
       "    </tr>\n",
       "    <tr>\n",
       "      <th>Austin</th>\n",
       "      <td>964177</td>\n",
       "      <td>NaN</td>\n",
       "      <td>NaN</td>\n",
       "      <td>NaN</td>\n",
       "    </tr>\n",
       "  </tbody>\n",
       "</table>\n",
       "</div>"
      ],
      "text/plain": [
       "               Population         County Time zone  Future pop.\n",
       "Oklahoma City       77134  Oklahoma City   central     154268.0\n",
       "Tulsa               76424          Tulsa   central     152848.0\n",
       "Norman              33104      Cleveland   central      66208.0\n",
       "Goldsby             13441        McClain   central      26882.0\n",
       "Noble               36505          Noble   central      73010.0\n",
       "Newcastle           29176        McClain   central      58352.0\n",
       "Moore               34994      Cleveland   central      69988.0\n",
       "Dallas            1288000            NaN       NaN          NaN\n",
       "Houston           2228000            NaN       NaN          NaN\n",
       "Austin             964177            NaN       NaN          NaN"
      ]
     },
     "execution_count": 51,
     "metadata": {},
     "output_type": "execute_result"
    }
   ],
   "source": [
    "df3 = pd.DataFrame(\n",
    "    {\n",
    "        \"Population\": [1288000, 2228000, 964177],\n",
    "    },\n",
    "    index = [\"Dallas\", \"Houston\", \"Austin\"],\n",
    ")\n",
    "\n",
    "pd.concat([df,df3],axis=0)"
   ]
  },
  {
   "cell_type": "markdown",
   "metadata": {
    "colab": {
     "base_uri": "https://localhost:8080/",
     "height": 457
    },
    "id": "9OJL_rSWMNX9",
    "outputId": "756d8d42-57e6-4bcb-abf6-c566355a5749"
   },
   "source": [
    "In both cases, `NaN` is inserted for missing entries.\n",
    "\n",
    "It is sometimes useful to transpose the rows and columns, which can be obtained using the `T` attribute."
   ]
  },
  {
   "cell_type": "code",
   "execution_count": 52,
   "metadata": {
    "colab": {
     "base_uri": "https://localhost:8080/",
     "height": 112
    },
    "id": "Q3I_UfYlMNX_",
    "outputId": "cc9bd5de-84a7-484c-f35e-728e3439ea55"
   },
   "outputs": [
    {
     "data": {
      "text/html": [
       "<div>\n",
       "<style scoped>\n",
       "    .dataframe tbody tr th:only-of-type {\n",
       "        vertical-align: middle;\n",
       "    }\n",
       "\n",
       "    .dataframe tbody tr th {\n",
       "        vertical-align: top;\n",
       "    }\n",
       "\n",
       "    .dataframe thead th {\n",
       "        text-align: right;\n",
       "    }\n",
       "</style>\n",
       "<table border=\"1\" class=\"dataframe\">\n",
       "  <thead>\n",
       "    <tr style=\"text-align: right;\">\n",
       "      <th></th>\n",
       "      <th>Oklahoma City</th>\n",
       "      <th>Tulsa</th>\n",
       "      <th>Norman</th>\n",
       "      <th>Goldsby</th>\n",
       "      <th>Noble</th>\n",
       "      <th>Newcastle</th>\n",
       "      <th>Moore</th>\n",
       "    </tr>\n",
       "  </thead>\n",
       "  <tbody>\n",
       "    <tr>\n",
       "      <th>Population</th>\n",
       "      <td>77134</td>\n",
       "      <td>76424</td>\n",
       "      <td>33104</td>\n",
       "      <td>13441</td>\n",
       "      <td>36505</td>\n",
       "      <td>29176</td>\n",
       "      <td>34994</td>\n",
       "    </tr>\n",
       "    <tr>\n",
       "      <th>County</th>\n",
       "      <td>Oklahoma City</td>\n",
       "      <td>Tulsa</td>\n",
       "      <td>Cleveland</td>\n",
       "      <td>McClain</td>\n",
       "      <td>Noble</td>\n",
       "      <td>McClain</td>\n",
       "      <td>Cleveland</td>\n",
       "    </tr>\n",
       "    <tr>\n",
       "      <th>Time zone</th>\n",
       "      <td>central</td>\n",
       "      <td>central</td>\n",
       "      <td>central</td>\n",
       "      <td>central</td>\n",
       "      <td>central</td>\n",
       "      <td>central</td>\n",
       "      <td>central</td>\n",
       "    </tr>\n",
       "    <tr>\n",
       "      <th>Future pop.</th>\n",
       "      <td>154268</td>\n",
       "      <td>152848</td>\n",
       "      <td>66208</td>\n",
       "      <td>26882</td>\n",
       "      <td>73010</td>\n",
       "      <td>58352</td>\n",
       "      <td>69988</td>\n",
       "    </tr>\n",
       "  </tbody>\n",
       "</table>\n",
       "</div>"
      ],
      "text/plain": [
       "             Oklahoma City    Tulsa     Norman  Goldsby    Noble Newcastle  \\\n",
       "Population           77134    76424      33104    13441    36505     29176   \n",
       "County       Oklahoma City    Tulsa  Cleveland  McClain    Noble   McClain   \n",
       "Time zone          central  central    central  central  central   central   \n",
       "Future pop.         154268   152848      66208    26882    73010     58352   \n",
       "\n",
       "                 Moore  \n",
       "Population       34994  \n",
       "County       Cleveland  \n",
       "Time zone      central  \n",
       "Future pop.      69988  "
      ]
     },
     "execution_count": 52,
     "metadata": {},
     "output_type": "execute_result"
    }
   ],
   "source": [
    "df.T"
   ]
  },
  {
   "cell_type": "markdown",
   "metadata": {},
   "source": [
    "You can perform a variety of element-by-element operations on a `DataFrame`."
   ]
  },
  {
   "cell_type": "code",
   "execution_count": 53,
   "metadata": {
    "colab": {
     "base_uri": "https://localhost:8080/",
     "height": 143
    },
    "id": "UWaugSH2MNX_",
    "outputId": "ba799b4b-7ce7-42cb-f768-c35ce03f7079"
   },
   "outputs": [
    {
     "name": "stdout",
     "output_type": "stream",
     "text": [
      "df4:\n",
      "    alpha  beta\n",
      "0      1     5\n",
      "1      0     2\n",
      "2      1     0 \n",
      "\n",
      " df5:\n",
      "    alpha  beta\n",
      "0      1     9\n",
      "1      1     4\n",
      "2      0     2 \n",
      "\n",
      " df6:\n",
      "    alpha  beta\n",
      "0      2    14\n",
      "1      1     6\n",
      "2      1     2\n"
     ]
    }
   ],
   "source": [
    "# boolean comparisons also work\n",
    "df4 = pd.DataFrame({'alpha' : [1, 0, 1], 'beta' : [5, 2, 0] }, dtype=int)\n",
    "df5 = pd.DataFrame({'alpha' : [1, 1, 0], 'beta' : [9, 4, 2] }, dtype=int)\n",
    "\n",
    "df6 = df4 + df5\n",
    "\n",
    "print(\"df4:\\n\",         df4,     \n",
    "      2*'\\n', \"df5:\\n\", df5,     \n",
    "      2*'\\n', \"df6:\\n\", df6)"
   ]
  },
  {
   "cell_type": "markdown",
   "metadata": {},
   "source": [
    "Or"
   ]
  },
  {
   "cell_type": "code",
   "execution_count": 54,
   "metadata": {
    "colab": {
     "base_uri": "https://localhost:8080/",
     "height": 143
    },
    "id": "vNJ48LUSMNX_",
    "outputId": "b27f53fe-70d6-4ddb-f2f4-d050f81e23cd"
   },
   "outputs": [
    {
     "data": {
      "text/html": [
       "<div>\n",
       "<style scoped>\n",
       "    .dataframe tbody tr th:only-of-type {\n",
       "        vertical-align: middle;\n",
       "    }\n",
       "\n",
       "    .dataframe tbody tr th {\n",
       "        vertical-align: top;\n",
       "    }\n",
       "\n",
       "    .dataframe thead th {\n",
       "        text-align: right;\n",
       "    }\n",
       "</style>\n",
       "<table border=\"1\" class=\"dataframe\">\n",
       "  <thead>\n",
       "    <tr style=\"text-align: right;\">\n",
       "      <th></th>\n",
       "      <th>alpha</th>\n",
       "      <th>beta</th>\n",
       "    </tr>\n",
       "  </thead>\n",
       "  <tbody>\n",
       "    <tr>\n",
       "      <th>0</th>\n",
       "      <td>False</td>\n",
       "      <td>True</td>\n",
       "    </tr>\n",
       "    <tr>\n",
       "      <th>1</th>\n",
       "      <td>False</td>\n",
       "      <td>True</td>\n",
       "    </tr>\n",
       "    <tr>\n",
       "      <th>2</th>\n",
       "      <td>False</td>\n",
       "      <td>False</td>\n",
       "    </tr>\n",
       "  </tbody>\n",
       "</table>\n",
       "</div>"
      ],
      "text/plain": [
       "   alpha   beta\n",
       "0  False   True\n",
       "1  False   True\n",
       "2  False  False"
      ]
     },
     "execution_count": 54,
     "metadata": {},
     "output_type": "execute_result"
    }
   ],
   "source": [
    "df6 > 5"
   ]
  },
  {
   "cell_type": "markdown",
   "metadata": {
    "id": "ZBnQkpRbMNX_"
   },
   "source": [
    "### Example analysis\n",
    "\n",
    "Let's analyze some data on European cities."
   ]
  },
  {
   "cell_type": "code",
   "execution_count": 55,
   "metadata": {
    "tags": []
   },
   "outputs": [
    {
     "name": "stdout",
     "output_type": "stream",
     "text": [
      "Rank,City,State,Population,Date of census/estimate\n",
      "1,London[2],United Kingdom,\"8,615,246\",1-Jun-14\n",
      "2,Berlin,Germany,\"3,437,916\",31-May-14\n",
      "3,Madrid,Spain,\"3,165,235\",1-Jan-14\n",
      "4,Rome,Italy,\"2,872,086\",30-Sep-14\n",
      "5,Paris,France,\"2,273,305\",1-Jan-13\n",
      "6,Bucharest,Romania,\"1,883,425\",20-Oct-11\n",
      "7,Vienna,Austria,\"1,794,770\",1-Jan-15\n",
      "8,Hamburg[10],Germany,\"1,746,342\",30-Dec-13\n",
      "9,Budapest,Hungary,\"1,744,665\",1-Jan-14\n"
     ]
    }
   ],
   "source": [
    "!head ../Data/european_cities4.csv"
   ]
  },
  {
   "cell_type": "markdown",
   "metadata": {},
   "source": [
    "As before, we can read in this csv data with the `read_csv()` function."
   ]
  },
  {
   "cell_type": "code",
   "execution_count": 56,
   "metadata": {
    "id": "9vvFXfzaMNYA"
   },
   "outputs": [
    {
     "data": {
      "text/html": [
       "<div>\n",
       "<style scoped>\n",
       "    .dataframe tbody tr th:only-of-type {\n",
       "        vertical-align: middle;\n",
       "    }\n",
       "\n",
       "    .dataframe tbody tr th {\n",
       "        vertical-align: top;\n",
       "    }\n",
       "\n",
       "    .dataframe thead th {\n",
       "        text-align: right;\n",
       "    }\n",
       "</style>\n",
       "<table border=\"1\" class=\"dataframe\">\n",
       "  <thead>\n",
       "    <tr style=\"text-align: right;\">\n",
       "      <th></th>\n",
       "      <th>Rank</th>\n",
       "      <th>City</th>\n",
       "      <th>State</th>\n",
       "      <th>Population</th>\n",
       "      <th>Date of census/estimate</th>\n",
       "    </tr>\n",
       "  </thead>\n",
       "  <tbody>\n",
       "    <tr>\n",
       "      <th>0</th>\n",
       "      <td>1</td>\n",
       "      <td>London[2]</td>\n",
       "      <td>United Kingdom</td>\n",
       "      <td>8,615,246</td>\n",
       "      <td>1-Jun-14</td>\n",
       "    </tr>\n",
       "    <tr>\n",
       "      <th>1</th>\n",
       "      <td>2</td>\n",
       "      <td>Berlin</td>\n",
       "      <td>Germany</td>\n",
       "      <td>3,437,916</td>\n",
       "      <td>31-May-14</td>\n",
       "    </tr>\n",
       "    <tr>\n",
       "      <th>2</th>\n",
       "      <td>3</td>\n",
       "      <td>Madrid</td>\n",
       "      <td>Spain</td>\n",
       "      <td>3,165,235</td>\n",
       "      <td>1-Jan-14</td>\n",
       "    </tr>\n",
       "    <tr>\n",
       "      <th>3</th>\n",
       "      <td>4</td>\n",
       "      <td>Rome</td>\n",
       "      <td>Italy</td>\n",
       "      <td>2,872,086</td>\n",
       "      <td>30-Sep-14</td>\n",
       "    </tr>\n",
       "    <tr>\n",
       "      <th>4</th>\n",
       "      <td>5</td>\n",
       "      <td>Paris</td>\n",
       "      <td>France</td>\n",
       "      <td>2,273,305</td>\n",
       "      <td>1-Jan-13</td>\n",
       "    </tr>\n",
       "    <tr>\n",
       "      <th>...</th>\n",
       "      <td>...</td>\n",
       "      <td>...</td>\n",
       "      <td>...</td>\n",
       "      <td>...</td>\n",
       "      <td>...</td>\n",
       "    </tr>\n",
       "    <tr>\n",
       "      <th>100</th>\n",
       "      <td>101</td>\n",
       "      <td>Bonn</td>\n",
       "      <td>Germany</td>\n",
       "      <td>309,869</td>\n",
       "      <td>31-Dec-12</td>\n",
       "    </tr>\n",
       "    <tr>\n",
       "      <th>101</th>\n",
       "      <td>102</td>\n",
       "      <td>Malmö</td>\n",
       "      <td>Sweden</td>\n",
       "      <td>309,105</td>\n",
       "      <td>31-Mar-13</td>\n",
       "    </tr>\n",
       "    <tr>\n",
       "      <th>102</th>\n",
       "      <td>103</td>\n",
       "      <td>Nottingham</td>\n",
       "      <td>United Kingdom</td>\n",
       "      <td>308,735</td>\n",
       "      <td>30-Jun-12</td>\n",
       "    </tr>\n",
       "    <tr>\n",
       "      <th>103</th>\n",
       "      <td>104</td>\n",
       "      <td>Katowice</td>\n",
       "      <td>Poland</td>\n",
       "      <td>308,269</td>\n",
       "      <td>30-Jun-12</td>\n",
       "    </tr>\n",
       "    <tr>\n",
       "      <th>104</th>\n",
       "      <td>105</td>\n",
       "      <td>Kaunas</td>\n",
       "      <td>Lithuania</td>\n",
       "      <td>306,888</td>\n",
       "      <td>1-Jan-13</td>\n",
       "    </tr>\n",
       "  </tbody>\n",
       "</table>\n",
       "<p>105 rows × 5 columns</p>\n",
       "</div>"
      ],
      "text/plain": [
       "     Rank        City           State Population Date of census/estimate\n",
       "0       1   London[2]  United Kingdom  8,615,246                1-Jun-14\n",
       "1       2      Berlin         Germany  3,437,916               31-May-14\n",
       "2       3      Madrid           Spain  3,165,235                1-Jan-14\n",
       "3       4        Rome           Italy  2,872,086               30-Sep-14\n",
       "4       5       Paris          France  2,273,305                1-Jan-13\n",
       "..    ...         ...             ...        ...                     ...\n",
       "100   101        Bonn         Germany    309,869               31-Dec-12\n",
       "101   102       Malmö          Sweden    309,105               31-Mar-13\n",
       "102   103  Nottingham  United Kingdom    308,735               30-Jun-12\n",
       "103   104    Katowice          Poland    308,269               30-Jun-12\n",
       "104   105      Kaunas       Lithuania    306,888                1-Jan-13\n",
       "\n",
       "[105 rows x 5 columns]"
      ]
     },
     "execution_count": 56,
     "metadata": {},
     "output_type": "execute_result"
    }
   ],
   "source": [
    "df7 = pd.read_csv(\"https://raw.githubusercontent.com/jstupak/ComputationalPhysics/master/Data/european_cities4.csv\")\n",
    "\n",
    "df7"
   ]
  },
  {
   "cell_type": "markdown",
   "metadata": {},
   "source": [
    "### Cleaning data\n",
    "\n",
    "Let's get some basic info on the `DataFrame` using the `info()` function."
   ]
  },
  {
   "cell_type": "code",
   "execution_count": 57,
   "metadata": {
    "colab": {
     "base_uri": "https://localhost:8080/"
    },
    "id": "3PcWjJ-YMNYC",
    "outputId": "4c9c46e5-51c9-4fba-d117-6f5f72ad442a"
   },
   "outputs": [
    {
     "name": "stdout",
     "output_type": "stream",
     "text": [
      "<class 'pandas.core.frame.DataFrame'>\n",
      "RangeIndex: 105 entries, 0 to 104\n",
      "Data columns (total 5 columns):\n",
      " #   Column                   Non-Null Count  Dtype \n",
      "---  ------                   --------------  ----- \n",
      " 0   Rank                     105 non-null    int64 \n",
      " 1   City                     105 non-null    object\n",
      " 2   State                    105 non-null    object\n",
      " 3   Population               105 non-null    object\n",
      " 4   Date of census/estimate  105 non-null    object\n",
      "dtypes: int64(1), object(4)\n",
      "memory usage: 4.2+ KB\n"
     ]
    }
   ],
   "source": [
    "df7.info()"
   ]
  },
  {
   "cell_type": "markdown",
   "metadata": {},
   "source": [
    "Although the `Population` column contains integer values, the data is not being treated as integers (because of the commas they are treated as strings)."
   ]
  },
  {
   "cell_type": "markdown",
   "metadata": {
    "id": "mdtyX3SmMNYC"
   },
   "source": [
    "Given such a string, we can easily convert it to an integer by first replacing all commas with an empty string, and then casting to an `int`."
   ]
  },
  {
   "cell_type": "code",
   "execution_count": 58,
   "metadata": {
    "colab": {
     "base_uri": "https://localhost:8080/",
     "height": 36
    },
    "id": "_NLE3yq_MNYD",
    "outputId": "b5fd467f-dc14-48d3-818f-419666b484bb"
   },
   "outputs": [
    {
     "data": {
      "text/plain": [
       "8615246"
      ]
     },
     "execution_count": 58,
     "metadata": {},
     "output_type": "execute_result"
    }
   ],
   "source": [
    "population = \"8,615,246\"\n",
    "\n",
    "int(population.replace(',',''))"
   ]
  },
  {
   "cell_type": "markdown",
   "metadata": {
    "id": "q8F1lT4dMNYD"
   },
   "source": [
    "As we have seen, it is straightforward to apply numpy functions to a `DataFrame` element-by-element.  However, the functions we wish to apply here are not numpy functions, so we must instead use the Pandas `apply()` function.\n",
    "\n",
    "We first define a function which performs the desired operation."
   ]
  },
  {
   "cell_type": "code",
   "execution_count": 59,
   "metadata": {
    "colab": {
     "base_uri": "https://localhost:8080/"
    },
    "id": "J6CXlBN7MNYD",
    "outputId": "e2b7e721-f9fa-4f4d-9eaa-507d2eb4162d"
   },
   "outputs": [
    {
     "data": {
      "text/plain": [
       "8615246"
      ]
     },
     "execution_count": 59,
     "metadata": {},
     "output_type": "execute_result"
    }
   ],
   "source": [
    "def strToInt(my_string):\n",
    "    return int(my_string.replace(',', ''))\n",
    "\n",
    "# Test the function\n",
    "strToInt(population)"
   ]
  },
  {
   "cell_type": "markdown",
   "metadata": {},
   "source": [
    "We can then call `apply()` on the `Population` column, with this function as argument."
   ]
  },
  {
   "cell_type": "code",
   "execution_count": 60,
   "metadata": {
    "colab": {
     "base_uri": "https://localhost:8080/"
    },
    "id": "J6CXlBN7MNYD",
    "outputId": "e2b7e721-f9fa-4f4d-9eaa-507d2eb4162d"
   },
   "outputs": [
    {
     "data": {
      "text/plain": [
       "0      8615246\n",
       "1      3437916\n",
       "2      3165235\n",
       "3      2872086\n",
       "4      2273305\n",
       "        ...   \n",
       "100     309869\n",
       "101     309105\n",
       "102     308735\n",
       "103     308269\n",
       "104     306888\n",
       "Name: Population, Length: 105, dtype: int64"
      ]
     },
     "execution_count": 60,
     "metadata": {},
     "output_type": "execute_result"
    }
   ],
   "source": [
    "df7[\"Population\"].apply(strToInt)"
   ]
  },
  {
   "cell_type": "markdown",
   "metadata": {},
   "source": [
    "However, this merely creates a new `Series` with `dtype = int64`.  To modify our `DataFrame`, we must assign this to the `Population` column."
   ]
  },
  {
   "cell_type": "code",
   "execution_count": 61,
   "metadata": {
    "tags": []
   },
   "outputs": [
    {
     "data": {
      "text/html": [
       "<div>\n",
       "<style scoped>\n",
       "    .dataframe tbody tr th:only-of-type {\n",
       "        vertical-align: middle;\n",
       "    }\n",
       "\n",
       "    .dataframe tbody tr th {\n",
       "        vertical-align: top;\n",
       "    }\n",
       "\n",
       "    .dataframe thead th {\n",
       "        text-align: right;\n",
       "    }\n",
       "</style>\n",
       "<table border=\"1\" class=\"dataframe\">\n",
       "  <thead>\n",
       "    <tr style=\"text-align: right;\">\n",
       "      <th></th>\n",
       "      <th>Rank</th>\n",
       "      <th>City</th>\n",
       "      <th>State</th>\n",
       "      <th>Population</th>\n",
       "      <th>Date of census/estimate</th>\n",
       "    </tr>\n",
       "  </thead>\n",
       "  <tbody>\n",
       "    <tr>\n",
       "      <th>0</th>\n",
       "      <td>1</td>\n",
       "      <td>London[2]</td>\n",
       "      <td>United Kingdom</td>\n",
       "      <td>8615246</td>\n",
       "      <td>1-Jun-14</td>\n",
       "    </tr>\n",
       "    <tr>\n",
       "      <th>1</th>\n",
       "      <td>2</td>\n",
       "      <td>Berlin</td>\n",
       "      <td>Germany</td>\n",
       "      <td>3437916</td>\n",
       "      <td>31-May-14</td>\n",
       "    </tr>\n",
       "    <tr>\n",
       "      <th>2</th>\n",
       "      <td>3</td>\n",
       "      <td>Madrid</td>\n",
       "      <td>Spain</td>\n",
       "      <td>3165235</td>\n",
       "      <td>1-Jan-14</td>\n",
       "    </tr>\n",
       "    <tr>\n",
       "      <th>3</th>\n",
       "      <td>4</td>\n",
       "      <td>Rome</td>\n",
       "      <td>Italy</td>\n",
       "      <td>2872086</td>\n",
       "      <td>30-Sep-14</td>\n",
       "    </tr>\n",
       "    <tr>\n",
       "      <th>4</th>\n",
       "      <td>5</td>\n",
       "      <td>Paris</td>\n",
       "      <td>France</td>\n",
       "      <td>2273305</td>\n",
       "      <td>1-Jan-13</td>\n",
       "    </tr>\n",
       "    <tr>\n",
       "      <th>...</th>\n",
       "      <td>...</td>\n",
       "      <td>...</td>\n",
       "      <td>...</td>\n",
       "      <td>...</td>\n",
       "      <td>...</td>\n",
       "    </tr>\n",
       "    <tr>\n",
       "      <th>100</th>\n",
       "      <td>101</td>\n",
       "      <td>Bonn</td>\n",
       "      <td>Germany</td>\n",
       "      <td>309869</td>\n",
       "      <td>31-Dec-12</td>\n",
       "    </tr>\n",
       "    <tr>\n",
       "      <th>101</th>\n",
       "      <td>102</td>\n",
       "      <td>Malmö</td>\n",
       "      <td>Sweden</td>\n",
       "      <td>309105</td>\n",
       "      <td>31-Mar-13</td>\n",
       "    </tr>\n",
       "    <tr>\n",
       "      <th>102</th>\n",
       "      <td>103</td>\n",
       "      <td>Nottingham</td>\n",
       "      <td>United Kingdom</td>\n",
       "      <td>308735</td>\n",
       "      <td>30-Jun-12</td>\n",
       "    </tr>\n",
       "    <tr>\n",
       "      <th>103</th>\n",
       "      <td>104</td>\n",
       "      <td>Katowice</td>\n",
       "      <td>Poland</td>\n",
       "      <td>308269</td>\n",
       "      <td>30-Jun-12</td>\n",
       "    </tr>\n",
       "    <tr>\n",
       "      <th>104</th>\n",
       "      <td>105</td>\n",
       "      <td>Kaunas</td>\n",
       "      <td>Lithuania</td>\n",
       "      <td>306888</td>\n",
       "      <td>1-Jan-13</td>\n",
       "    </tr>\n",
       "  </tbody>\n",
       "</table>\n",
       "<p>105 rows × 5 columns</p>\n",
       "</div>"
      ],
      "text/plain": [
       "     Rank        City           State  Population Date of census/estimate\n",
       "0       1   London[2]  United Kingdom     8615246                1-Jun-14\n",
       "1       2      Berlin         Germany     3437916               31-May-14\n",
       "2       3      Madrid           Spain     3165235                1-Jan-14\n",
       "3       4        Rome           Italy     2872086               30-Sep-14\n",
       "4       5       Paris          France     2273305                1-Jan-13\n",
       "..    ...         ...             ...         ...                     ...\n",
       "100   101        Bonn         Germany      309869               31-Dec-12\n",
       "101   102       Malmö          Sweden      309105               31-Mar-13\n",
       "102   103  Nottingham  United Kingdom      308735               30-Jun-12\n",
       "103   104    Katowice          Poland      308269               30-Jun-12\n",
       "104   105      Kaunas       Lithuania      306888                1-Jan-13\n",
       "\n",
       "[105 rows x 5 columns]"
      ]
     },
     "execution_count": 61,
     "metadata": {},
     "output_type": "execute_result"
    }
   ],
   "source": [
    "df7[\"Population\"] = df7[\"Population\"].apply(strToInt)\n",
    "\n",
    "df7"
   ]
  },
  {
   "cell_type": "markdown",
   "metadata": {},
   "source": [
    "Let's confirm that the `Population` column contains integers now."
   ]
  },
  {
   "cell_type": "code",
   "execution_count": 62,
   "metadata": {
    "colab": {
     "base_uri": "https://localhost:8080/"
    },
    "id": "LCFTVSXIMNYE",
    "outputId": "6697eb43-bc6c-4e36-9653-bd683df14195"
   },
   "outputs": [
    {
     "name": "stdout",
     "output_type": "stream",
     "text": [
      "<class 'pandas.core.frame.DataFrame'>\n",
      "RangeIndex: 105 entries, 0 to 104\n",
      "Data columns (total 5 columns):\n",
      " #   Column                   Non-Null Count  Dtype \n",
      "---  ------                   --------------  ----- \n",
      " 0   Rank                     105 non-null    int64 \n",
      " 1   City                     105 non-null    object\n",
      " 2   State                    105 non-null    object\n",
      " 3   Population               105 non-null    int64 \n",
      " 4   Date of census/estimate  105 non-null    object\n",
      "dtypes: int64(2), object(3)\n",
      "memory usage: 4.2+ KB\n"
     ]
    }
   ],
   "source": [
    "df7.info()"
   ]
  },
  {
   "cell_type": "markdown",
   "metadata": {
    "id": "iKHpYxORMNYE"
   },
   "source": [
    "### Changing indices\n",
    "\n",
    "Currently, the rows are indexed with integers.  Let's use the city names as the indices.\n",
    "\n",
    "We can \"promote\" an existing column to serve as indices by passing the column label to the `set_index()` function.  NB: this does not modify the `DataFrame` in place."
   ]
  },
  {
   "cell_type": "code",
   "execution_count": 63,
   "metadata": {
    "id": "VLhIu2b7MNYE"
   },
   "outputs": [
    {
     "data": {
      "text/html": [
       "<div>\n",
       "<style scoped>\n",
       "    .dataframe tbody tr th:only-of-type {\n",
       "        vertical-align: middle;\n",
       "    }\n",
       "\n",
       "    .dataframe tbody tr th {\n",
       "        vertical-align: top;\n",
       "    }\n",
       "\n",
       "    .dataframe thead th {\n",
       "        text-align: right;\n",
       "    }\n",
       "</style>\n",
       "<table border=\"1\" class=\"dataframe\">\n",
       "  <thead>\n",
       "    <tr style=\"text-align: right;\">\n",
       "      <th></th>\n",
       "      <th>Rank</th>\n",
       "      <th>State</th>\n",
       "      <th>Population</th>\n",
       "      <th>Date of census/estimate</th>\n",
       "    </tr>\n",
       "    <tr>\n",
       "      <th>City</th>\n",
       "      <th></th>\n",
       "      <th></th>\n",
       "      <th></th>\n",
       "      <th></th>\n",
       "    </tr>\n",
       "  </thead>\n",
       "  <tbody>\n",
       "    <tr>\n",
       "      <th>London[2]</th>\n",
       "      <td>1</td>\n",
       "      <td>United Kingdom</td>\n",
       "      <td>8615246</td>\n",
       "      <td>1-Jun-14</td>\n",
       "    </tr>\n",
       "    <tr>\n",
       "      <th>Berlin</th>\n",
       "      <td>2</td>\n",
       "      <td>Germany</td>\n",
       "      <td>3437916</td>\n",
       "      <td>31-May-14</td>\n",
       "    </tr>\n",
       "    <tr>\n",
       "      <th>Madrid</th>\n",
       "      <td>3</td>\n",
       "      <td>Spain</td>\n",
       "      <td>3165235</td>\n",
       "      <td>1-Jan-14</td>\n",
       "    </tr>\n",
       "    <tr>\n",
       "      <th>Rome</th>\n",
       "      <td>4</td>\n",
       "      <td>Italy</td>\n",
       "      <td>2872086</td>\n",
       "      <td>30-Sep-14</td>\n",
       "    </tr>\n",
       "    <tr>\n",
       "      <th>Paris</th>\n",
       "      <td>5</td>\n",
       "      <td>France</td>\n",
       "      <td>2273305</td>\n",
       "      <td>1-Jan-13</td>\n",
       "    </tr>\n",
       "    <tr>\n",
       "      <th>...</th>\n",
       "      <td>...</td>\n",
       "      <td>...</td>\n",
       "      <td>...</td>\n",
       "      <td>...</td>\n",
       "    </tr>\n",
       "    <tr>\n",
       "      <th>Bonn</th>\n",
       "      <td>101</td>\n",
       "      <td>Germany</td>\n",
       "      <td>309869</td>\n",
       "      <td>31-Dec-12</td>\n",
       "    </tr>\n",
       "    <tr>\n",
       "      <th>Malmö</th>\n",
       "      <td>102</td>\n",
       "      <td>Sweden</td>\n",
       "      <td>309105</td>\n",
       "      <td>31-Mar-13</td>\n",
       "    </tr>\n",
       "    <tr>\n",
       "      <th>Nottingham</th>\n",
       "      <td>103</td>\n",
       "      <td>United Kingdom</td>\n",
       "      <td>308735</td>\n",
       "      <td>30-Jun-12</td>\n",
       "    </tr>\n",
       "    <tr>\n",
       "      <th>Katowice</th>\n",
       "      <td>104</td>\n",
       "      <td>Poland</td>\n",
       "      <td>308269</td>\n",
       "      <td>30-Jun-12</td>\n",
       "    </tr>\n",
       "    <tr>\n",
       "      <th>Kaunas</th>\n",
       "      <td>105</td>\n",
       "      <td>Lithuania</td>\n",
       "      <td>306888</td>\n",
       "      <td>1-Jan-13</td>\n",
       "    </tr>\n",
       "  </tbody>\n",
       "</table>\n",
       "<p>105 rows × 4 columns</p>\n",
       "</div>"
      ],
      "text/plain": [
       "            Rank           State  Population Date of census/estimate\n",
       "City                                                                \n",
       "London[2]      1  United Kingdom     8615246                1-Jun-14\n",
       "Berlin         2         Germany     3437916               31-May-14\n",
       "Madrid         3           Spain     3165235                1-Jan-14\n",
       "Rome           4           Italy     2872086               30-Sep-14\n",
       "Paris          5          France     2273305                1-Jan-13\n",
       "...          ...             ...         ...                     ...\n",
       "Bonn         101         Germany      309869               31-Dec-12\n",
       "Malmö        102          Sweden      309105               31-Mar-13\n",
       "Nottingham   103  United Kingdom      308735               30-Jun-12\n",
       "Katowice     104          Poland      308269               30-Jun-12\n",
       "Kaunas       105       Lithuania      306888                1-Jan-13\n",
       "\n",
       "[105 rows x 4 columns]"
      ]
     },
     "execution_count": 63,
     "metadata": {},
     "output_type": "execute_result"
    }
   ],
   "source": [
    "df7 = df7.set_index(\"City\")\n",
    "\n",
    "df7"
   ]
  },
  {
   "cell_type": "markdown",
   "metadata": {},
   "source": [
    "Now we can access rows using the city name as index."
   ]
  },
  {
   "cell_type": "code",
   "execution_count": 64,
   "metadata": {
    "colab": {
     "base_uri": "https://localhost:8080/"
    },
    "id": "0Qj82C-hMNYE",
    "outputId": "997f58fa-af83-4b4f-e84c-86df65c3c2f5"
   },
   "outputs": [
    {
     "data": {
      "text/plain": [
       "Rank                              3\n",
       "State                         Spain\n",
       "Population                  3165235\n",
       "Date of census/estimate    1-Jan-14\n",
       "Name: Madrid, dtype: object"
      ]
     },
     "execution_count": 64,
     "metadata": {},
     "output_type": "execute_result"
    }
   ],
   "source": [
    "df7.loc[\"Madrid\"]"
   ]
  },
  {
   "cell_type": "markdown",
   "metadata": {
    "id": "vldK0LrbMNYE"
   },
   "source": [
    "#### Exercise\n",
    "\n",
    "Choose 5 cities from the dataframe and make a plot comparing the population of each city using a pie chart"
   ]
  },
  {
   "cell_type": "code",
   "execution_count": null,
   "metadata": {
    "id": "CZqSV3GXMNYE",
    "tags": []
   },
   "outputs": [],
   "source": []
  },
  {
   "cell_type": "markdown",
   "metadata": {
    "id": "J3RiupQoMNYF"
   },
   "source": [
    "<details>\n",
    "    <summary style=\"display:list-item\">Click for solution</summary>\n",
    "\n",
    "```python\n",
    "df7[:5].Population.plot(kind=\"pie\")\n",
    "plt.ylabel(\"\")\n",
    "```\n",
    "    \n",
    "</details>"
   ]
  },
  {
   "cell_type": "markdown",
   "metadata": {
    "id": "-r555egmMNYF"
   },
   "source": [
    "### Sorting `DataFrame`s\n",
    "\n",
    "It is often convenient to sort a `DataFrame`.  To sort based on the values in a particular column, pass the column label as an argument to the `sort_values()` function."
   ]
  },
  {
   "cell_type": "code",
   "execution_count": 65,
   "metadata": {
    "tags": []
   },
   "outputs": [
    {
     "data": {
      "text/html": [
       "<div>\n",
       "<style scoped>\n",
       "    .dataframe tbody tr th:only-of-type {\n",
       "        vertical-align: middle;\n",
       "    }\n",
       "\n",
       "    .dataframe tbody tr th {\n",
       "        vertical-align: top;\n",
       "    }\n",
       "\n",
       "    .dataframe thead th {\n",
       "        text-align: right;\n",
       "    }\n",
       "</style>\n",
       "<table border=\"1\" class=\"dataframe\">\n",
       "  <thead>\n",
       "    <tr style=\"text-align: right;\">\n",
       "      <th></th>\n",
       "      <th>Rank</th>\n",
       "      <th>State</th>\n",
       "      <th>Population</th>\n",
       "      <th>Date of census/estimate</th>\n",
       "    </tr>\n",
       "    <tr>\n",
       "      <th>City</th>\n",
       "      <th></th>\n",
       "      <th></th>\n",
       "      <th></th>\n",
       "      <th></th>\n",
       "    </tr>\n",
       "  </thead>\n",
       "  <tbody>\n",
       "    <tr>\n",
       "      <th>Vienna</th>\n",
       "      <td>7</td>\n",
       "      <td>Austria</td>\n",
       "      <td>1794770</td>\n",
       "      <td>1-Jan-15</td>\n",
       "    </tr>\n",
       "    <tr>\n",
       "      <th>Antwerp</th>\n",
       "      <td>59</td>\n",
       "      <td>Belgium</td>\n",
       "      <td>510610</td>\n",
       "      <td>1-Jan-14</td>\n",
       "    </tr>\n",
       "    <tr>\n",
       "      <th>Brussels[17]</th>\n",
       "      <td>16</td>\n",
       "      <td>Belgium</td>\n",
       "      <td>1175831</td>\n",
       "      <td>1-Jan-14</td>\n",
       "    </tr>\n",
       "    <tr>\n",
       "      <th>Varna</th>\n",
       "      <td>85</td>\n",
       "      <td>Bulgaria</td>\n",
       "      <td>335819</td>\n",
       "      <td>31-Dec-13</td>\n",
       "    </tr>\n",
       "    <tr>\n",
       "      <th>Plovdiv</th>\n",
       "      <td>84</td>\n",
       "      <td>Bulgaria</td>\n",
       "      <td>341041</td>\n",
       "      <td>31-Dec-13</td>\n",
       "    </tr>\n",
       "    <tr>\n",
       "      <th>...</th>\n",
       "      <td>...</td>\n",
       "      <td>...</td>\n",
       "      <td>...</td>\n",
       "      <td>...</td>\n",
       "    </tr>\n",
       "    <tr>\n",
       "      <th>Liverpool</th>\n",
       "      <td>64</td>\n",
       "      <td>United Kingdom</td>\n",
       "      <td>469690</td>\n",
       "      <td>30-Jun-12</td>\n",
       "    </tr>\n",
       "    <tr>\n",
       "      <th>Wakefield</th>\n",
       "      <td>91</td>\n",
       "      <td>United Kingdom</td>\n",
       "      <td>327627</td>\n",
       "      <td>30-Jun-12</td>\n",
       "    </tr>\n",
       "    <tr>\n",
       "      <th>Bristol</th>\n",
       "      <td>69</td>\n",
       "      <td>United Kingdom</td>\n",
       "      <td>432451</td>\n",
       "      <td>30-Jun-12</td>\n",
       "    </tr>\n",
       "    <tr>\n",
       "      <th>Bradford</th>\n",
       "      <td>55</td>\n",
       "      <td>United Kingdom</td>\n",
       "      <td>524619</td>\n",
       "      <td>30-Jun-12</td>\n",
       "    </tr>\n",
       "    <tr>\n",
       "      <th>London[2]</th>\n",
       "      <td>1</td>\n",
       "      <td>United Kingdom</td>\n",
       "      <td>8615246</td>\n",
       "      <td>1-Jun-14</td>\n",
       "    </tr>\n",
       "  </tbody>\n",
       "</table>\n",
       "<p>105 rows × 4 columns</p>\n",
       "</div>"
      ],
      "text/plain": [
       "              Rank           State  Population Date of census/estimate\n",
       "City                                                                  \n",
       "Vienna           7         Austria     1794770                1-Jan-15\n",
       "Antwerp         59         Belgium      510610                1-Jan-14\n",
       "Brussels[17]    16         Belgium     1175831                1-Jan-14\n",
       "Varna           85        Bulgaria      335819               31-Dec-13\n",
       "Plovdiv         84        Bulgaria      341041               31-Dec-13\n",
       "...            ...             ...         ...                     ...\n",
       "Liverpool       64  United Kingdom      469690               30-Jun-12\n",
       "Wakefield       91  United Kingdom      327627               30-Jun-12\n",
       "Bristol         69  United Kingdom      432451               30-Jun-12\n",
       "Bradford        55  United Kingdom      524619               30-Jun-12\n",
       "London[2]        1  United Kingdom     8615246                1-Jun-14\n",
       "\n",
       "[105 rows x 4 columns]"
      ]
     },
     "execution_count": 65,
     "metadata": {},
     "output_type": "execute_result"
    }
   ],
   "source": [
    "df7 = df7.sort_values(by=['State'])\n",
    "\n",
    "df7"
   ]
  },
  {
   "cell_type": "markdown",
   "metadata": {},
   "source": [
    "To instead sort by the indices, use the `sort_index()` function."
   ]
  },
  {
   "cell_type": "code",
   "execution_count": 66,
   "metadata": {
    "id": "8otythY_MNYF"
   },
   "outputs": [
    {
     "data": {
      "text/html": [
       "<div>\n",
       "<style scoped>\n",
       "    .dataframe tbody tr th:only-of-type {\n",
       "        vertical-align: middle;\n",
       "    }\n",
       "\n",
       "    .dataframe tbody tr th {\n",
       "        vertical-align: top;\n",
       "    }\n",
       "\n",
       "    .dataframe thead th {\n",
       "        text-align: right;\n",
       "    }\n",
       "</style>\n",
       "<table border=\"1\" class=\"dataframe\">\n",
       "  <thead>\n",
       "    <tr style=\"text-align: right;\">\n",
       "      <th></th>\n",
       "      <th>Rank</th>\n",
       "      <th>State</th>\n",
       "      <th>Population</th>\n",
       "      <th>Date of census/estimate</th>\n",
       "    </tr>\n",
       "    <tr>\n",
       "      <th>City</th>\n",
       "      <th></th>\n",
       "      <th></th>\n",
       "      <th></th>\n",
       "      <th></th>\n",
       "    </tr>\n",
       "  </thead>\n",
       "  <tbody>\n",
       "    <tr>\n",
       "      <th>Aarhus</th>\n",
       "      <td>92</td>\n",
       "      <td>Denmark</td>\n",
       "      <td>326676</td>\n",
       "      <td>1-Oct-14</td>\n",
       "    </tr>\n",
       "    <tr>\n",
       "      <th>Alicante</th>\n",
       "      <td>86</td>\n",
       "      <td>Spain</td>\n",
       "      <td>334678</td>\n",
       "      <td>1-Jan-12</td>\n",
       "    </tr>\n",
       "    <tr>\n",
       "      <th>Amsterdam</th>\n",
       "      <td>23</td>\n",
       "      <td>Netherlands</td>\n",
       "      <td>813562</td>\n",
       "      <td>31-May-14</td>\n",
       "    </tr>\n",
       "    <tr>\n",
       "      <th>Antwerp</th>\n",
       "      <td>59</td>\n",
       "      <td>Belgium</td>\n",
       "      <td>510610</td>\n",
       "      <td>1-Jan-14</td>\n",
       "    </tr>\n",
       "    <tr>\n",
       "      <th>Athens</th>\n",
       "      <td>34</td>\n",
       "      <td>Greece</td>\n",
       "      <td>664046</td>\n",
       "      <td>24-May-11</td>\n",
       "    </tr>\n",
       "    <tr>\n",
       "      <th>...</th>\n",
       "      <td>...</td>\n",
       "      <td>...</td>\n",
       "      <td>...</td>\n",
       "      <td>...</td>\n",
       "    </tr>\n",
       "    <tr>\n",
       "      <th>Wrocław</th>\n",
       "      <td>35</td>\n",
       "      <td>Poland</td>\n",
       "      <td>632432</td>\n",
       "      <td>31-Mar-14</td>\n",
       "    </tr>\n",
       "    <tr>\n",
       "      <th>Wuppertal</th>\n",
       "      <td>83</td>\n",
       "      <td>Germany</td>\n",
       "      <td>342885</td>\n",
       "      <td>31-Dec-12</td>\n",
       "    </tr>\n",
       "    <tr>\n",
       "      <th>Zagreb</th>\n",
       "      <td>24</td>\n",
       "      <td>Croatia</td>\n",
       "      <td>790017</td>\n",
       "      <td>31-Mar-11</td>\n",
       "    </tr>\n",
       "    <tr>\n",
       "      <th>Zaragoza</th>\n",
       "      <td>33</td>\n",
       "      <td>Spain</td>\n",
       "      <td>666058</td>\n",
       "      <td>1-Jan-14</td>\n",
       "    </tr>\n",
       "    <tr>\n",
       "      <th>Łódź</th>\n",
       "      <td>28</td>\n",
       "      <td>Poland</td>\n",
       "      <td>709757</td>\n",
       "      <td>31-Mar-14</td>\n",
       "    </tr>\n",
       "  </tbody>\n",
       "</table>\n",
       "<p>105 rows × 4 columns</p>\n",
       "</div>"
      ],
      "text/plain": [
       "           Rank        State  Population Date of census/estimate\n",
       "City                                                            \n",
       "Aarhus       92      Denmark      326676                1-Oct-14\n",
       "Alicante     86        Spain      334678                1-Jan-12\n",
       "Amsterdam    23  Netherlands      813562               31-May-14\n",
       "Antwerp      59      Belgium      510610                1-Jan-14\n",
       "Athens       34       Greece      664046               24-May-11\n",
       "...         ...          ...         ...                     ...\n",
       "Wrocław      35       Poland      632432               31-Mar-14\n",
       "Wuppertal    83      Germany      342885               31-Dec-12\n",
       "Zagreb       24      Croatia      790017               31-Mar-11\n",
       "Zaragoza     33        Spain      666058                1-Jan-14\n",
       "Łódź         28       Poland      709757               31-Mar-14\n",
       "\n",
       "[105 rows x 4 columns]"
      ]
     },
     "execution_count": 66,
     "metadata": {},
     "output_type": "execute_result"
    }
   ],
   "source": [
    "df7 = df7.sort_index()\n",
    "\n",
    "df7"
   ]
  },
  {
   "cell_type": "markdown",
   "metadata": {
    "id": "TNZ__y_jMNYF",
    "tags": []
   },
   "source": [
    "### Multi-indexing\n",
    "\n",
    "Pandas allows you to define two columns as indices."
   ]
  },
  {
   "cell_type": "code",
   "execution_count": 67,
   "metadata": {
    "colab": {
     "base_uri": "https://localhost:8080/",
     "height": 708
    },
    "id": "R4i8kD2KMNYF",
    "outputId": "4191910a-dedc-4a8f-856e-f631a72372f5"
   },
   "outputs": [
    {
     "data": {
      "text/html": [
       "<div>\n",
       "<style scoped>\n",
       "    .dataframe tbody tr th:only-of-type {\n",
       "        vertical-align: middle;\n",
       "    }\n",
       "\n",
       "    .dataframe tbody tr th {\n",
       "        vertical-align: top;\n",
       "    }\n",
       "\n",
       "    .dataframe thead th {\n",
       "        text-align: right;\n",
       "    }\n",
       "</style>\n",
       "<table border=\"1\" class=\"dataframe\">\n",
       "  <thead>\n",
       "    <tr style=\"text-align: right;\">\n",
       "      <th></th>\n",
       "      <th></th>\n",
       "      <th>Rank</th>\n",
       "      <th>Population</th>\n",
       "      <th>Date of census/estimate</th>\n",
       "    </tr>\n",
       "    <tr>\n",
       "      <th>State</th>\n",
       "      <th>City</th>\n",
       "      <th></th>\n",
       "      <th></th>\n",
       "      <th></th>\n",
       "    </tr>\n",
       "  </thead>\n",
       "  <tbody>\n",
       "    <tr>\n",
       "      <th>Denmark</th>\n",
       "      <th>Aarhus</th>\n",
       "      <td>92</td>\n",
       "      <td>326676</td>\n",
       "      <td>1-Oct-14</td>\n",
       "    </tr>\n",
       "    <tr>\n",
       "      <th>Spain</th>\n",
       "      <th>Alicante</th>\n",
       "      <td>86</td>\n",
       "      <td>334678</td>\n",
       "      <td>1-Jan-12</td>\n",
       "    </tr>\n",
       "    <tr>\n",
       "      <th>Netherlands</th>\n",
       "      <th>Amsterdam</th>\n",
       "      <td>23</td>\n",
       "      <td>813562</td>\n",
       "      <td>31-May-14</td>\n",
       "    </tr>\n",
       "    <tr>\n",
       "      <th>Belgium</th>\n",
       "      <th>Antwerp</th>\n",
       "      <td>59</td>\n",
       "      <td>510610</td>\n",
       "      <td>1-Jan-14</td>\n",
       "    </tr>\n",
       "    <tr>\n",
       "      <th>Greece</th>\n",
       "      <th>Athens</th>\n",
       "      <td>34</td>\n",
       "      <td>664046</td>\n",
       "      <td>24-May-11</td>\n",
       "    </tr>\n",
       "    <tr>\n",
       "      <th>...</th>\n",
       "      <th>...</th>\n",
       "      <td>...</td>\n",
       "      <td>...</td>\n",
       "      <td>...</td>\n",
       "    </tr>\n",
       "    <tr>\n",
       "      <th>Poland</th>\n",
       "      <th>Wrocław</th>\n",
       "      <td>35</td>\n",
       "      <td>632432</td>\n",
       "      <td>31-Mar-14</td>\n",
       "    </tr>\n",
       "    <tr>\n",
       "      <th>Germany</th>\n",
       "      <th>Wuppertal</th>\n",
       "      <td>83</td>\n",
       "      <td>342885</td>\n",
       "      <td>31-Dec-12</td>\n",
       "    </tr>\n",
       "    <tr>\n",
       "      <th>Croatia</th>\n",
       "      <th>Zagreb</th>\n",
       "      <td>24</td>\n",
       "      <td>790017</td>\n",
       "      <td>31-Mar-11</td>\n",
       "    </tr>\n",
       "    <tr>\n",
       "      <th>Spain</th>\n",
       "      <th>Zaragoza</th>\n",
       "      <td>33</td>\n",
       "      <td>666058</td>\n",
       "      <td>1-Jan-14</td>\n",
       "    </tr>\n",
       "    <tr>\n",
       "      <th>Poland</th>\n",
       "      <th>Łódź</th>\n",
       "      <td>28</td>\n",
       "      <td>709757</td>\n",
       "      <td>31-Mar-14</td>\n",
       "    </tr>\n",
       "  </tbody>\n",
       "</table>\n",
       "<p>105 rows × 3 columns</p>\n",
       "</div>"
      ],
      "text/plain": [
       "                       Rank  Population Date of census/estimate\n",
       "State       City                                               \n",
       "Denmark     Aarhus       92      326676                1-Oct-14\n",
       "Spain       Alicante     86      334678                1-Jan-12\n",
       "Netherlands Amsterdam    23      813562               31-May-14\n",
       "Belgium     Antwerp      59      510610                1-Jan-14\n",
       "Greece      Athens       34      664046               24-May-11\n",
       "...                     ...         ...                     ...\n",
       "Poland      Wrocław      35      632432               31-Mar-14\n",
       "Germany     Wuppertal    83      342885               31-Dec-12\n",
       "Croatia     Zagreb       24      790017               31-Mar-11\n",
       "Spain       Zaragoza     33      666058                1-Jan-14\n",
       "Poland      Łódź         28      709757               31-Mar-14\n",
       "\n",
       "[105 rows x 3 columns]"
      ]
     },
     "execution_count": 67,
     "metadata": {},
     "output_type": "execute_result"
    }
   ],
   "source": [
    "df7 = df7.reset_index()\n",
    "df7 = df7.set_index([\"State\",\"City\"])\n",
    "\n",
    "df7"
   ]
  },
  {
   "cell_type": "markdown",
   "metadata": {},
   "source": [
    "This allows you to sort based on both indices."
   ]
  },
  {
   "cell_type": "code",
   "execution_count": 68,
   "metadata": {
    "colab": {
     "base_uri": "https://localhost:8080/",
     "height": 455
    },
    "id": "dA1xvXvKMNYF",
    "outputId": "a1082341-bc42-4810-815a-0649fda28aa5"
   },
   "outputs": [
    {
     "data": {
      "text/html": [
       "<div>\n",
       "<style scoped>\n",
       "    .dataframe tbody tr th:only-of-type {\n",
       "        vertical-align: middle;\n",
       "    }\n",
       "\n",
       "    .dataframe tbody tr th {\n",
       "        vertical-align: top;\n",
       "    }\n",
       "\n",
       "    .dataframe thead th {\n",
       "        text-align: right;\n",
       "    }\n",
       "</style>\n",
       "<table border=\"1\" class=\"dataframe\">\n",
       "  <thead>\n",
       "    <tr style=\"text-align: right;\">\n",
       "      <th></th>\n",
       "      <th></th>\n",
       "      <th>Rank</th>\n",
       "      <th>Population</th>\n",
       "      <th>Date of census/estimate</th>\n",
       "    </tr>\n",
       "    <tr>\n",
       "      <th>State</th>\n",
       "      <th>City</th>\n",
       "      <th></th>\n",
       "      <th></th>\n",
       "      <th></th>\n",
       "    </tr>\n",
       "  </thead>\n",
       "  <tbody>\n",
       "    <tr>\n",
       "      <th>Austria</th>\n",
       "      <th>Vienna</th>\n",
       "      <td>7</td>\n",
       "      <td>1794770</td>\n",
       "      <td>1-Jan-15</td>\n",
       "    </tr>\n",
       "    <tr>\n",
       "      <th rowspan=\"2\" valign=\"top\">Belgium</th>\n",
       "      <th>Antwerp</th>\n",
       "      <td>59</td>\n",
       "      <td>510610</td>\n",
       "      <td>1-Jan-14</td>\n",
       "    </tr>\n",
       "    <tr>\n",
       "      <th>Brussels[17]</th>\n",
       "      <td>16</td>\n",
       "      <td>1175831</td>\n",
       "      <td>1-Jan-14</td>\n",
       "    </tr>\n",
       "    <tr>\n",
       "      <th rowspan=\"2\" valign=\"top\">Bulgaria</th>\n",
       "      <th>Plovdiv</th>\n",
       "      <td>84</td>\n",
       "      <td>341041</td>\n",
       "      <td>31-Dec-13</td>\n",
       "    </tr>\n",
       "    <tr>\n",
       "      <th>Sofia</th>\n",
       "      <td>14</td>\n",
       "      <td>1291895</td>\n",
       "      <td>14-Dec-14</td>\n",
       "    </tr>\n",
       "    <tr>\n",
       "      <th>...</th>\n",
       "      <th>...</th>\n",
       "      <td>...</td>\n",
       "      <td>...</td>\n",
       "      <td>...</td>\n",
       "    </tr>\n",
       "    <tr>\n",
       "      <th rowspan=\"5\" valign=\"top\">United Kingdom</th>\n",
       "      <th>Manchester</th>\n",
       "      <td>58</td>\n",
       "      <td>510772</td>\n",
       "      <td>30-Jun-12</td>\n",
       "    </tr>\n",
       "    <tr>\n",
       "      <th>Nottingham</th>\n",
       "      <td>103</td>\n",
       "      <td>308735</td>\n",
       "      <td>30-Jun-12</td>\n",
       "    </tr>\n",
       "    <tr>\n",
       "      <th>Sheffield</th>\n",
       "      <td>46</td>\n",
       "      <td>557382</td>\n",
       "      <td>30-Jun-12</td>\n",
       "    </tr>\n",
       "    <tr>\n",
       "      <th>Wakefield</th>\n",
       "      <td>91</td>\n",
       "      <td>327627</td>\n",
       "      <td>30-Jun-12</td>\n",
       "    </tr>\n",
       "    <tr>\n",
       "      <th>Wirral</th>\n",
       "      <td>97</td>\n",
       "      <td>320229</td>\n",
       "      <td>30-Jun-12</td>\n",
       "    </tr>\n",
       "  </tbody>\n",
       "</table>\n",
       "<p>105 rows × 3 columns</p>\n",
       "</div>"
      ],
      "text/plain": [
       "                             Rank  Population Date of census/estimate\n",
       "State          City                                                  \n",
       "Austria        Vienna           7     1794770                1-Jan-15\n",
       "Belgium        Antwerp         59      510610                1-Jan-14\n",
       "               Brussels[17]    16     1175831                1-Jan-14\n",
       "Bulgaria       Plovdiv         84      341041               31-Dec-13\n",
       "               Sofia           14     1291895               14-Dec-14\n",
       "...                           ...         ...                     ...\n",
       "United Kingdom Manchester      58      510772               30-Jun-12\n",
       "               Nottingham     103      308735               30-Jun-12\n",
       "               Sheffield       46      557382               30-Jun-12\n",
       "               Wakefield       91      327627               30-Jun-12\n",
       "               Wirral          97      320229               30-Jun-12\n",
       "\n",
       "[105 rows x 3 columns]"
      ]
     },
     "execution_count": 68,
     "metadata": {},
     "output_type": "execute_result"
    }
   ],
   "source": [
    "df7 = df7.sort_index()\n",
    "\n",
    "df7"
   ]
  },
  {
   "cell_type": "markdown",
   "metadata": {},
   "source": [
    "You can still access the data by using a single index."
   ]
  },
  {
   "cell_type": "code",
   "execution_count": 69,
   "metadata": {
    "colab": {
     "base_uri": "https://localhost:8080/",
     "height": 175
    },
    "id": "ZMBng0PjMNYF",
    "outputId": "ac603b5b-2e6b-4117-f25e-5bd710d8969b"
   },
   "outputs": [
    {
     "data": {
      "text/html": [
       "<div>\n",
       "<style scoped>\n",
       "    .dataframe tbody tr th:only-of-type {\n",
       "        vertical-align: middle;\n",
       "    }\n",
       "\n",
       "    .dataframe tbody tr th {\n",
       "        vertical-align: top;\n",
       "    }\n",
       "\n",
       "    .dataframe thead th {\n",
       "        text-align: right;\n",
       "    }\n",
       "</style>\n",
       "<table border=\"1\" class=\"dataframe\">\n",
       "  <thead>\n",
       "    <tr style=\"text-align: right;\">\n",
       "      <th></th>\n",
       "      <th>Rank</th>\n",
       "      <th>Population</th>\n",
       "      <th>Date of census/estimate</th>\n",
       "    </tr>\n",
       "    <tr>\n",
       "      <th>City</th>\n",
       "      <th></th>\n",
       "      <th></th>\n",
       "      <th></th>\n",
       "    </tr>\n",
       "  </thead>\n",
       "  <tbody>\n",
       "    <tr>\n",
       "      <th>Gothenburg</th>\n",
       "      <td>53</td>\n",
       "      <td>528014</td>\n",
       "      <td>31-Mar-13</td>\n",
       "    </tr>\n",
       "    <tr>\n",
       "      <th>Malmö</th>\n",
       "      <td>102</td>\n",
       "      <td>309105</td>\n",
       "      <td>31-Mar-13</td>\n",
       "    </tr>\n",
       "    <tr>\n",
       "      <th>Stockholm</th>\n",
       "      <td>20</td>\n",
       "      <td>909976</td>\n",
       "      <td>31-Jan-14</td>\n",
       "    </tr>\n",
       "  </tbody>\n",
       "</table>\n",
       "</div>"
      ],
      "text/plain": [
       "            Rank  Population Date of census/estimate\n",
       "City                                                \n",
       "Gothenburg    53      528014               31-Mar-13\n",
       "Malmö        102      309105               31-Mar-13\n",
       "Stockholm     20      909976               31-Jan-14"
      ]
     },
     "execution_count": 69,
     "metadata": {},
     "output_type": "execute_result"
    }
   ],
   "source": [
    "df7.loc[\"Sweden\"]"
   ]
  },
  {
   "cell_type": "markdown",
   "metadata": {},
   "source": [
    "Or you can use both indices to obtain a particular `Series`."
   ]
  },
  {
   "cell_type": "code",
   "execution_count": 70,
   "metadata": {
    "colab": {
     "base_uri": "https://localhost:8080/"
    },
    "id": "FwhGGXZ_MNYF",
    "outputId": "a5396cf2-0a7a-4716-feb6-d374d1d8e7e5"
   },
   "outputs": [
    {
     "data": {
      "text/plain": [
       "Rank                              20\n",
       "Population                    909976\n",
       "Date of census/estimate    31-Jan-14\n",
       "Name: (Sweden, Stockholm), dtype: object"
      ]
     },
     "execution_count": 70,
     "metadata": {},
     "output_type": "execute_result"
    }
   ],
   "source": [
    "df7.loc[(\"Sweden\",\"Stockholm\")]"
   ]
  },
  {
   "cell_type": "markdown",
   "metadata": {
    "id": "dBPeII7QMNYF"
   },
   "source": [
    "#### Exercise \n",
    "\n",
    "Make a bar chart containing the population of every city in the United Kingdom"
   ]
  },
  {
   "cell_type": "code",
   "execution_count": null,
   "metadata": {
    "id": "bFoizlSBMNYF",
    "tags": []
   },
   "outputs": [],
   "source": []
  },
  {
   "cell_type": "markdown",
   "metadata": {
    "id": "EMeWVdnoMNYF"
   },
   "source": [
    "<details>\n",
    "    <summary style=\"display:list-item\">Click for solution</summary>\n",
    "\n",
    "```python\n",
    "df7.loc[(\"United Kingdom\")].Population.plot(kind=\"bar\")\n",
    "```\n",
    "    \n",
    "</details>"
   ]
  },
  {
   "cell_type": "markdown",
   "metadata": {
    "id": "vSRC2gRUMNYG"
   },
   "source": [
    "We can also sort a `DataFrame` based on the content of other columns, using the `sort_values()` function."
   ]
  },
  {
   "cell_type": "code",
   "execution_count": 71,
   "metadata": {
    "colab": {
     "base_uri": "https://localhost:8080/",
     "height": 1000
    },
    "id": "WVkU3WzzMNYM",
    "outputId": "9210142e-5a17-4faa-886c-894cd9f9c0df"
   },
   "outputs": [
    {
     "data": {
      "text/html": [
       "<div>\n",
       "<style scoped>\n",
       "    .dataframe tbody tr th:only-of-type {\n",
       "        vertical-align: middle;\n",
       "    }\n",
       "\n",
       "    .dataframe tbody tr th {\n",
       "        vertical-align: top;\n",
       "    }\n",
       "\n",
       "    .dataframe thead th {\n",
       "        text-align: right;\n",
       "    }\n",
       "</style>\n",
       "<table border=\"1\" class=\"dataframe\">\n",
       "  <thead>\n",
       "    <tr style=\"text-align: right;\">\n",
       "      <th></th>\n",
       "      <th></th>\n",
       "      <th>Rank</th>\n",
       "      <th>Population</th>\n",
       "      <th>Date of census/estimate</th>\n",
       "    </tr>\n",
       "    <tr>\n",
       "      <th>State</th>\n",
       "      <th>City</th>\n",
       "      <th></th>\n",
       "      <th></th>\n",
       "      <th></th>\n",
       "    </tr>\n",
       "  </thead>\n",
       "  <tbody>\n",
       "    <tr>\n",
       "      <th>Austria</th>\n",
       "      <th>Vienna</th>\n",
       "      <td>7</td>\n",
       "      <td>1794770</td>\n",
       "      <td>1-Jan-15</td>\n",
       "    </tr>\n",
       "    <tr>\n",
       "      <th rowspan=\"2\" valign=\"top\">Belgium</th>\n",
       "      <th>Brussels[17]</th>\n",
       "      <td>16</td>\n",
       "      <td>1175831</td>\n",
       "      <td>1-Jan-14</td>\n",
       "    </tr>\n",
       "    <tr>\n",
       "      <th>Antwerp</th>\n",
       "      <td>59</td>\n",
       "      <td>510610</td>\n",
       "      <td>1-Jan-14</td>\n",
       "    </tr>\n",
       "    <tr>\n",
       "      <th rowspan=\"2\" valign=\"top\">Bulgaria</th>\n",
       "      <th>Sofia</th>\n",
       "      <td>14</td>\n",
       "      <td>1291895</td>\n",
       "      <td>14-Dec-14</td>\n",
       "    </tr>\n",
       "    <tr>\n",
       "      <th>Plovdiv</th>\n",
       "      <td>84</td>\n",
       "      <td>341041</td>\n",
       "      <td>31-Dec-13</td>\n",
       "    </tr>\n",
       "  </tbody>\n",
       "</table>\n",
       "</div>"
      ],
      "text/plain": [
       "                       Rank  Population Date of census/estimate\n",
       "State    City                                                  \n",
       "Austria  Vienna           7     1794770                1-Jan-15\n",
       "Belgium  Brussels[17]    16     1175831                1-Jan-14\n",
       "         Antwerp         59      510610                1-Jan-14\n",
       "Bulgaria Sofia           14     1291895               14-Dec-14\n",
       "         Plovdiv         84      341041               31-Dec-13"
      ]
     },
     "execution_count": 71,
     "metadata": {},
     "output_type": "execute_result"
    }
   ],
   "source": [
    "df7.sort_values([\"State\",\"Rank\"]).head()"
   ]
  },
  {
   "cell_type": "markdown",
   "metadata": {
    "id": "uV983q3lMNYM"
   },
   "source": [
    "### Counting values\n",
    "\n",
    "We can call the function `value_counts` to obtain a `Series` of the multiplicity of a given value."
   ]
  },
  {
   "cell_type": "code",
   "execution_count": 72,
   "metadata": {
    "id": "8qkkmq16MNYM"
   },
   "outputs": [
    {
     "data": {
      "text/plain": [
       "Germany           19\n",
       "United Kingdom    16\n",
       "Spain             13\n",
       "Italy             10\n",
       "Poland            10\n",
       "Name: State, dtype: int64"
      ]
     },
     "execution_count": 72,
     "metadata": {},
     "output_type": "execute_result"
    }
   ],
   "source": [
    "df7 = df7.reset_index()\n",
    "cityCounts = df7[\"State\"].value_counts()\n",
    "\n",
    "cityCounts.head()"
   ]
  },
  {
   "cell_type": "markdown",
   "metadata": {
    "id": "2HsXZ5SmMNYN"
   },
   "source": [
    "#### Exercise\n",
    "\n",
    "Make a horizontal bar chart (\"barh\") containing the number of cities in the 10 countries with the most cities (hint: you can use slicing on the series we created with value_counts() )"
   ]
  },
  {
   "cell_type": "code",
   "execution_count": null,
   "metadata": {
    "id": "u-QgFZUMMNYN",
    "tags": []
   },
   "outputs": [],
   "source": []
  },
  {
   "cell_type": "markdown",
   "metadata": {
    "id": "q8pNY-bcMNYN"
   },
   "source": [
    "<details>\n",
    "    <summary style=\"display:list-item\">Click for solution</summary>\n",
    "\n",
    "```python\n",
    "city_counts[:10].plot(kind=\"barh\")\n",
    "plt.xticks(range(1,city_counts.max()+1,2))\n",
    "```\n",
    "    \n",
    "</details>"
   ]
  },
  {
   "cell_type": "markdown",
   "metadata": {
    "id": "SP8XXcbEMNYN"
   },
   "source": [
    "### Summing data from multiple rows or columns\n",
    "\n",
    "We can sum the values in a given column corresponding to a particular index by using the `groupby()` and `sum()` functions."
   ]
  },
  {
   "cell_type": "code",
   "execution_count": 73,
   "metadata": {
    "colab": {
     "base_uri": "https://localhost:8080/",
     "height": 1000
    },
    "id": "EkcQ9NlNMNYN",
    "outputId": "1565b8fc-279b-41d3-ddf4-978d492b2256"
   },
   "outputs": [
    {
     "data": {
      "text/plain": [
       "State\n",
       "Greece                      986286\n",
       "Denmark                     886116\n",
       "Lithuania                   844040\n",
       "Croatia                     790017\n",
       "Latvia                      701185\n",
       "Finland                     605523\n",
       "Portugal                    547631\n",
       "Ireland                     527612\n",
       "Estonia                     434810\n",
       "Slovakia Slovak Republic    417389\n",
       "Name: Population, dtype: int64"
      ]
     },
     "execution_count": 73,
     "metadata": {},
     "output_type": "execute_result"
    }
   ],
   "source": [
    "df7 = df7.set_index([\"State\", \"City\"])\n",
    "\n",
    "df8 = df7[\"Population\"].groupby(level=0).sum().sort_values(ascending=False)\n",
    "\n",
    "df8.tail(10)"
   ]
  },
  {
   "cell_type": "markdown",
   "metadata": {
    "id": "R9Seq9gsMNYO"
   },
   "source": [
    "#### Exercise\n",
    "\n",
    "Make a bar chart of the total population of the 10 least populous countries"
   ]
  },
  {
   "cell_type": "code",
   "execution_count": null,
   "metadata": {
    "id": "imP0V5s0MNYP",
    "tags": []
   },
   "outputs": [],
   "source": []
  },
  {
   "cell_type": "markdown",
   "metadata": {
    "id": "Wb1lxNZ-MNYP"
   },
   "source": [
    "<details>\n",
    "  <summary style=\"display:list-item\">Click for solution</summary>\n",
    "\n",
    "```python\n",
    "df8[-10:].plot(kind=\"bar\")\n",
    "```\n",
    "    \n",
    "</details>"
   ]
  },
  {
   "cell_type": "markdown",
   "metadata": {
    "id": "tbtRZQ2-MNYP",
    "tags": []
   },
   "source": [
    "## Timeseries with pandas\n",
    "\n",
    "International Standard ISO 8601 [https://www.cl.cam.ac.uk/~mgk25/iso-time.html] is a convention for specifying dates and time, which is supported by Pandas.  The format consists of `year-month-day hour:minute:second.fraction`.\n",
    "\n",
    "For example, we can make a `DataFrame` containing such values."
   ]
  },
  {
   "cell_type": "code",
   "execution_count": 74,
   "metadata": {
    "colab": {
     "base_uri": "https://localhost:8080/",
     "height": 551
    },
    "id": "61PO7rwfMNYP",
    "outputId": "8bdd740c-383d-442c-fd16-2ddd49ef9812"
   },
   "outputs": [
    {
     "data": {
      "text/html": [
       "<div>\n",
       "<style scoped>\n",
       "    .dataframe tbody tr th:only-of-type {\n",
       "        vertical-align: middle;\n",
       "    }\n",
       "\n",
       "    .dataframe tbody tr th {\n",
       "        vertical-align: top;\n",
       "    }\n",
       "\n",
       "    .dataframe thead th {\n",
       "        text-align: right;\n",
       "    }\n",
       "</style>\n",
       "<table border=\"1\" class=\"dataframe\">\n",
       "  <thead>\n",
       "    <tr style=\"text-align: right;\">\n",
       "      <th></th>\n",
       "      <th>date</th>\n",
       "      <th>N</th>\n",
       "    </tr>\n",
       "  </thead>\n",
       "  <tbody>\n",
       "    <tr>\n",
       "      <th>0</th>\n",
       "      <td>2014-05-01 18:47:05.069722</td>\n",
       "      <td>34</td>\n",
       "    </tr>\n",
       "    <tr>\n",
       "      <th>1</th>\n",
       "      <td>2014-05-01 18:47:05.119994</td>\n",
       "      <td>25</td>\n",
       "    </tr>\n",
       "    <tr>\n",
       "      <th>2</th>\n",
       "      <td>2014-05-02 18:47:05.178768</td>\n",
       "      <td>26</td>\n",
       "    </tr>\n",
       "    <tr>\n",
       "      <th>3</th>\n",
       "      <td>2014-05-02 18:47:05.230071</td>\n",
       "      <td>15</td>\n",
       "    </tr>\n",
       "    <tr>\n",
       "      <th>4</th>\n",
       "      <td>2014-05-02 18:47:05.230071</td>\n",
       "      <td>15</td>\n",
       "    </tr>\n",
       "    <tr>\n",
       "      <th>5</th>\n",
       "      <td>2014-05-02 18:47:05.280592</td>\n",
       "      <td>14</td>\n",
       "    </tr>\n",
       "    <tr>\n",
       "      <th>6</th>\n",
       "      <td>2014-05-03 18:47:05.332662</td>\n",
       "      <td>26</td>\n",
       "    </tr>\n",
       "    <tr>\n",
       "      <th>7</th>\n",
       "      <td>2014-05-03 18:47:05.385109</td>\n",
       "      <td>25</td>\n",
       "    </tr>\n",
       "    <tr>\n",
       "      <th>8</th>\n",
       "      <td>2014-05-04 18:47:05.436523</td>\n",
       "      <td>62</td>\n",
       "    </tr>\n",
       "    <tr>\n",
       "      <th>9</th>\n",
       "      <td>2014-05-04 18:47:05.486877</td>\n",
       "      <td>41</td>\n",
       "    </tr>\n",
       "    <tr>\n",
       "      <th>10</th>\n",
       "      <td>2015-01-02 18:47:05.230071</td>\n",
       "      <td>42</td>\n",
       "    </tr>\n",
       "    <tr>\n",
       "      <th>11</th>\n",
       "      <td>2015-01-02 18:47:05.280592</td>\n",
       "      <td>21</td>\n",
       "    </tr>\n",
       "    <tr>\n",
       "      <th>12</th>\n",
       "      <td>2015-01-03 18:47:05.332662</td>\n",
       "      <td>52</td>\n",
       "    </tr>\n",
       "    <tr>\n",
       "      <th>13</th>\n",
       "      <td>2015-01-03 18:47:05.385109</td>\n",
       "      <td>14</td>\n",
       "    </tr>\n",
       "    <tr>\n",
       "      <th>14</th>\n",
       "      <td>2016-03-04 18:47:05.436523</td>\n",
       "      <td>15</td>\n",
       "    </tr>\n",
       "    <tr>\n",
       "      <th>15</th>\n",
       "      <td>2016-03-04 18:47:05.486877</td>\n",
       "      <td>26</td>\n",
       "    </tr>\n",
       "  </tbody>\n",
       "</table>\n",
       "</div>"
      ],
      "text/plain": [
       "                          date   N\n",
       "0   2014-05-01 18:47:05.069722  34\n",
       "1   2014-05-01 18:47:05.119994  25\n",
       "2   2014-05-02 18:47:05.178768  26\n",
       "3   2014-05-02 18:47:05.230071  15\n",
       "4   2014-05-02 18:47:05.230071  15\n",
       "5   2014-05-02 18:47:05.280592  14\n",
       "6   2014-05-03 18:47:05.332662  26\n",
       "7   2014-05-03 18:47:05.385109  25\n",
       "8   2014-05-04 18:47:05.436523  62\n",
       "9   2014-05-04 18:47:05.486877  41\n",
       "10  2015-01-02 18:47:05.230071  42\n",
       "11  2015-01-02 18:47:05.280592  21\n",
       "12  2015-01-03 18:47:05.332662  52\n",
       "13  2015-01-03 18:47:05.385109  14\n",
       "14  2016-03-04 18:47:05.436523  15\n",
       "15  2016-03-04 18:47:05.486877  26"
      ]
     },
     "execution_count": 74,
     "metadata": {},
     "output_type": "execute_result"
    }
   ],
   "source": [
    "data = {'date': ['2014-05-01 18:47:05.069722', '2014-05-01 18:47:05.119994',\n",
    "                 '2014-05-02 18:47:05.178768', '2014-05-02 18:47:05.230071',\n",
    "                 '2014-05-02 18:47:05.230071', '2014-05-02 18:47:05.280592',\n",
    "                 '2014-05-03 18:47:05.332662', '2014-05-03 18:47:05.385109',\n",
    "                 '2014-05-04 18:47:05.436523', '2014-05-04 18:47:05.486877',\n",
    "                 '2015-01-02 18:47:05.230071', '2015-01-02 18:47:05.280592',\n",
    "                 '2015-01-03 18:47:05.332662', '2015-01-03 18:47:05.385109',\n",
    "                 '2016-03-04 18:47:05.436523', '2016-03-04 18:47:05.486877',\n",
    "                ],\n",
    "        'N': [34, 25, 26, 15, 15, 14, 26, 25, 62, 41, 42, 21, 52, 14, 15, 26]\n",
    "       }\n",
    "\n",
    "df9 = pd.DataFrame(data, columns = ['date', 'N'])\n",
    "\n",
    "df9"
   ]
  },
  {
   "cell_type": "markdown",
   "metadata": {},
   "source": [
    "Note that Pandas is treating the `date` column as strings."
   ]
  },
  {
   "cell_type": "code",
   "execution_count": 75,
   "metadata": {
    "colab": {
     "base_uri": "https://localhost:8080/"
    },
    "id": "mu2KiOilMNYP",
    "outputId": "02ea360a-37c7-4736-bd78-89f5700febb5"
   },
   "outputs": [
    {
     "name": "stdout",
     "output_type": "stream",
     "text": [
      "<class 'pandas.core.frame.DataFrame'>\n",
      "RangeIndex: 16 entries, 0 to 15\n",
      "Data columns (total 2 columns):\n",
      " #   Column  Non-Null Count  Dtype \n",
      "---  ------  --------------  ----- \n",
      " 0   date    16 non-null     object\n",
      " 1   N       16 non-null     int64 \n",
      "dtypes: int64(1), object(1)\n",
      "memory usage: 384.0+ bytes\n"
     ]
    }
   ],
   "source": [
    "df9.info()"
   ]
  },
  {
   "cell_type": "markdown",
   "metadata": {},
   "source": [
    "We can convert this column to proper `datetime` objects using the `to_datetime()` function."
   ]
  },
  {
   "cell_type": "code",
   "execution_count": 76,
   "metadata": {
    "id": "qiyOxVpYMNYP"
   },
   "outputs": [
    {
     "name": "stdout",
     "output_type": "stream",
     "text": [
      "<class 'pandas.core.frame.DataFrame'>\n",
      "RangeIndex: 16 entries, 0 to 15\n",
      "Data columns (total 2 columns):\n",
      " #   Column  Non-Null Count  Dtype         \n",
      "---  ------  --------------  -----         \n",
      " 0   date    16 non-null     datetime64[ns]\n",
      " 1   N       16 non-null     int64         \n",
      "dtypes: datetime64[ns](1), int64(1)\n",
      "memory usage: 384.0 bytes\n"
     ]
    }
   ],
   "source": [
    "df9['date'] = pd.to_datetime(df9['date'])\n",
    "\n",
    "df9.info()"
   ]
  },
  {
   "cell_type": "markdown",
   "metadata": {},
   "source": [
    "It is often useful to use the date column as indices."
   ]
  },
  {
   "cell_type": "code",
   "execution_count": 77,
   "metadata": {
    "id": "HzBcS8TDMNYQ"
   },
   "outputs": [
    {
     "data": {
      "text/html": [
       "<div>\n",
       "<style scoped>\n",
       "    .dataframe tbody tr th:only-of-type {\n",
       "        vertical-align: middle;\n",
       "    }\n",
       "\n",
       "    .dataframe tbody tr th {\n",
       "        vertical-align: top;\n",
       "    }\n",
       "\n",
       "    .dataframe thead th {\n",
       "        text-align: right;\n",
       "    }\n",
       "</style>\n",
       "<table border=\"1\" class=\"dataframe\">\n",
       "  <thead>\n",
       "    <tr style=\"text-align: right;\">\n",
       "      <th></th>\n",
       "      <th>N</th>\n",
       "    </tr>\n",
       "    <tr>\n",
       "      <th>date</th>\n",
       "      <th></th>\n",
       "    </tr>\n",
       "  </thead>\n",
       "  <tbody>\n",
       "    <tr>\n",
       "      <th>2014-05-01 18:47:05.069722</th>\n",
       "      <td>34</td>\n",
       "    </tr>\n",
       "    <tr>\n",
       "      <th>2014-05-01 18:47:05.119994</th>\n",
       "      <td>25</td>\n",
       "    </tr>\n",
       "    <tr>\n",
       "      <th>2014-05-02 18:47:05.178768</th>\n",
       "      <td>26</td>\n",
       "    </tr>\n",
       "    <tr>\n",
       "      <th>2014-05-02 18:47:05.230071</th>\n",
       "      <td>15</td>\n",
       "    </tr>\n",
       "    <tr>\n",
       "      <th>2014-05-02 18:47:05.230071</th>\n",
       "      <td>15</td>\n",
       "    </tr>\n",
       "    <tr>\n",
       "      <th>2014-05-02 18:47:05.280592</th>\n",
       "      <td>14</td>\n",
       "    </tr>\n",
       "    <tr>\n",
       "      <th>2014-05-03 18:47:05.332662</th>\n",
       "      <td>26</td>\n",
       "    </tr>\n",
       "    <tr>\n",
       "      <th>2014-05-03 18:47:05.385109</th>\n",
       "      <td>25</td>\n",
       "    </tr>\n",
       "    <tr>\n",
       "      <th>2014-05-04 18:47:05.436523</th>\n",
       "      <td>62</td>\n",
       "    </tr>\n",
       "    <tr>\n",
       "      <th>2014-05-04 18:47:05.486877</th>\n",
       "      <td>41</td>\n",
       "    </tr>\n",
       "    <tr>\n",
       "      <th>2015-01-02 18:47:05.230071</th>\n",
       "      <td>42</td>\n",
       "    </tr>\n",
       "    <tr>\n",
       "      <th>2015-01-02 18:47:05.280592</th>\n",
       "      <td>21</td>\n",
       "    </tr>\n",
       "    <tr>\n",
       "      <th>2015-01-03 18:47:05.332662</th>\n",
       "      <td>52</td>\n",
       "    </tr>\n",
       "    <tr>\n",
       "      <th>2015-01-03 18:47:05.385109</th>\n",
       "      <td>14</td>\n",
       "    </tr>\n",
       "    <tr>\n",
       "      <th>2016-03-04 18:47:05.436523</th>\n",
       "      <td>15</td>\n",
       "    </tr>\n",
       "    <tr>\n",
       "      <th>2016-03-04 18:47:05.486877</th>\n",
       "      <td>26</td>\n",
       "    </tr>\n",
       "  </tbody>\n",
       "</table>\n",
       "</div>"
      ],
      "text/plain": [
       "                             N\n",
       "date                          \n",
       "2014-05-01 18:47:05.069722  34\n",
       "2014-05-01 18:47:05.119994  25\n",
       "2014-05-02 18:47:05.178768  26\n",
       "2014-05-02 18:47:05.230071  15\n",
       "2014-05-02 18:47:05.230071  15\n",
       "2014-05-02 18:47:05.280592  14\n",
       "2014-05-03 18:47:05.332662  26\n",
       "2014-05-03 18:47:05.385109  25\n",
       "2014-05-04 18:47:05.436523  62\n",
       "2014-05-04 18:47:05.486877  41\n",
       "2015-01-02 18:47:05.230071  42\n",
       "2015-01-02 18:47:05.280592  21\n",
       "2015-01-03 18:47:05.332662  52\n",
       "2015-01-03 18:47:05.385109  14\n",
       "2016-03-04 18:47:05.436523  15\n",
       "2016-03-04 18:47:05.486877  26"
      ]
     },
     "execution_count": 77,
     "metadata": {},
     "output_type": "execute_result"
    }
   ],
   "source": [
    "df9 = df9.set_index('date')\n",
    "\n",
    "df9"
   ]
  },
  {
   "cell_type": "markdown",
   "metadata": {},
   "source": [
    "Then we can easily get all measurements from a particular year, by using the four-digit year as if it were an index."
   ]
  },
  {
   "cell_type": "code",
   "execution_count": 78,
   "metadata": {
    "colab": {
     "base_uri": "https://localhost:8080/",
     "height": 263
    },
    "id": "Mgfer6IuMNYQ",
    "outputId": "d0bafb3c-9dc0-4acd-a52f-23e97afbfa19"
   },
   "outputs": [
    {
     "data": {
      "text/html": [
       "<div>\n",
       "<style scoped>\n",
       "    .dataframe tbody tr th:only-of-type {\n",
       "        vertical-align: middle;\n",
       "    }\n",
       "\n",
       "    .dataframe tbody tr th {\n",
       "        vertical-align: top;\n",
       "    }\n",
       "\n",
       "    .dataframe thead th {\n",
       "        text-align: right;\n",
       "    }\n",
       "</style>\n",
       "<table border=\"1\" class=\"dataframe\">\n",
       "  <thead>\n",
       "    <tr style=\"text-align: right;\">\n",
       "      <th></th>\n",
       "      <th>N</th>\n",
       "    </tr>\n",
       "    <tr>\n",
       "      <th>date</th>\n",
       "      <th></th>\n",
       "    </tr>\n",
       "  </thead>\n",
       "  <tbody>\n",
       "    <tr>\n",
       "      <th>2015-01-02 18:47:05.230071</th>\n",
       "      <td>42</td>\n",
       "    </tr>\n",
       "    <tr>\n",
       "      <th>2015-01-02 18:47:05.280592</th>\n",
       "      <td>21</td>\n",
       "    </tr>\n",
       "    <tr>\n",
       "      <th>2015-01-03 18:47:05.332662</th>\n",
       "      <td>52</td>\n",
       "    </tr>\n",
       "    <tr>\n",
       "      <th>2015-01-03 18:47:05.385109</th>\n",
       "      <td>14</td>\n",
       "    </tr>\n",
       "  </tbody>\n",
       "</table>\n",
       "</div>"
      ],
      "text/plain": [
       "                             N\n",
       "date                          \n",
       "2015-01-02 18:47:05.230071  42\n",
       "2015-01-02 18:47:05.280592  21\n",
       "2015-01-03 18:47:05.332662  52\n",
       "2015-01-03 18:47:05.385109  14"
      ]
     },
     "execution_count": 78,
     "metadata": {},
     "output_type": "execute_result"
    }
   ],
   "source": [
    "df9.loc['2015']"
   ]
  },
  {
   "cell_type": "markdown",
   "metadata": {},
   "source": [
    "Or get all measurements from a particular day."
   ]
  },
  {
   "cell_type": "code",
   "execution_count": 79,
   "metadata": {
    "colab": {
     "base_uri": "https://localhost:8080/",
     "height": 200
    },
    "id": "mUdH1xIvMNYQ",
    "outputId": "ec7de39f-e0f3-4d8b-b583-8c3557106185"
   },
   "outputs": [
    {
     "data": {
      "text/html": [
       "<div>\n",
       "<style scoped>\n",
       "    .dataframe tbody tr th:only-of-type {\n",
       "        vertical-align: middle;\n",
       "    }\n",
       "\n",
       "    .dataframe tbody tr th {\n",
       "        vertical-align: top;\n",
       "    }\n",
       "\n",
       "    .dataframe thead th {\n",
       "        text-align: right;\n",
       "    }\n",
       "</style>\n",
       "<table border=\"1\" class=\"dataframe\">\n",
       "  <thead>\n",
       "    <tr style=\"text-align: right;\">\n",
       "      <th></th>\n",
       "      <th>N</th>\n",
       "    </tr>\n",
       "    <tr>\n",
       "      <th>date</th>\n",
       "      <th></th>\n",
       "    </tr>\n",
       "  </thead>\n",
       "  <tbody>\n",
       "    <tr>\n",
       "      <th>2014-05-04 18:47:05.436523</th>\n",
       "      <td>62</td>\n",
       "    </tr>\n",
       "    <tr>\n",
       "      <th>2014-05-04 18:47:05.486877</th>\n",
       "      <td>41</td>\n",
       "    </tr>\n",
       "  </tbody>\n",
       "</table>\n",
       "</div>"
      ],
      "text/plain": [
       "                             N\n",
       "date                          \n",
       "2014-05-04 18:47:05.436523  62\n",
       "2014-05-04 18:47:05.486877  41"
      ]
     },
     "execution_count": 79,
     "metadata": {},
     "output_type": "execute_result"
    }
   ],
   "source": [
    "df9.loc['2014-05-04']"
   ]
  },
  {
   "cell_type": "markdown",
   "metadata": {},
   "source": [
    "We can also slice the `DataFrame` using dates as indices."
   ]
  },
  {
   "cell_type": "code",
   "execution_count": 80,
   "metadata": {
    "colab": {
     "base_uri": "https://localhost:8080/",
     "height": 269
    },
    "id": "onq5zUaDMNYQ",
    "outputId": "176182ba-3e51-4515-ec4a-6293c84be683"
   },
   "outputs": [
    {
     "data": {
      "text/html": [
       "<div>\n",
       "<style scoped>\n",
       "    .dataframe tbody tr th:only-of-type {\n",
       "        vertical-align: middle;\n",
       "    }\n",
       "\n",
       "    .dataframe tbody tr th {\n",
       "        vertical-align: top;\n",
       "    }\n",
       "\n",
       "    .dataframe thead th {\n",
       "        text-align: right;\n",
       "    }\n",
       "</style>\n",
       "<table border=\"1\" class=\"dataframe\">\n",
       "  <thead>\n",
       "    <tr style=\"text-align: right;\">\n",
       "      <th></th>\n",
       "      <th>N</th>\n",
       "    </tr>\n",
       "    <tr>\n",
       "      <th>date</th>\n",
       "      <th></th>\n",
       "    </tr>\n",
       "  </thead>\n",
       "  <tbody>\n",
       "    <tr>\n",
       "      <th>2014-05-02 18:47:05.178768</th>\n",
       "      <td>26</td>\n",
       "    </tr>\n",
       "    <tr>\n",
       "      <th>2014-05-02 18:47:05.230071</th>\n",
       "      <td>15</td>\n",
       "    </tr>\n",
       "    <tr>\n",
       "      <th>2014-05-02 18:47:05.230071</th>\n",
       "      <td>15</td>\n",
       "    </tr>\n",
       "    <tr>\n",
       "      <th>2014-05-02 18:47:05.280592</th>\n",
       "      <td>14</td>\n",
       "    </tr>\n",
       "    <tr>\n",
       "      <th>2014-05-03 18:47:05.332662</th>\n",
       "      <td>26</td>\n",
       "    </tr>\n",
       "    <tr>\n",
       "      <th>2014-05-03 18:47:05.385109</th>\n",
       "      <td>25</td>\n",
       "    </tr>\n",
       "    <tr>\n",
       "      <th>2014-05-04 18:47:05.436523</th>\n",
       "      <td>62</td>\n",
       "    </tr>\n",
       "    <tr>\n",
       "      <th>2014-05-04 18:47:05.486877</th>\n",
       "      <td>41</td>\n",
       "    </tr>\n",
       "  </tbody>\n",
       "</table>\n",
       "</div>"
      ],
      "text/plain": [
       "                             N\n",
       "date                          \n",
       "2014-05-02 18:47:05.178768  26\n",
       "2014-05-02 18:47:05.230071  15\n",
       "2014-05-02 18:47:05.230071  15\n",
       "2014-05-02 18:47:05.280592  14\n",
       "2014-05-03 18:47:05.332662  26\n",
       "2014-05-03 18:47:05.385109  25\n",
       "2014-05-04 18:47:05.436523  62\n",
       "2014-05-04 18:47:05.486877  41"
      ]
     },
     "execution_count": 80,
     "metadata": {},
     "output_type": "execute_result"
    }
   ],
   "source": [
    "df9.loc[\"2014-05-02\":\"2014-05-04\"]"
   ]
  },
  {
   "cell_type": "markdown",
   "metadata": {},
   "source": [
    "Using the `resample()` function, it is possible merge data within a given day/month/year."
   ]
  },
  {
   "cell_type": "code",
   "execution_count": 81,
   "metadata": {
    "id": "8jqMMPLjMNYS"
   },
   "outputs": [
    {
     "data": {
      "text/html": [
       "<div>\n",
       "<style scoped>\n",
       "    .dataframe tbody tr th:only-of-type {\n",
       "        vertical-align: middle;\n",
       "    }\n",
       "\n",
       "    .dataframe tbody tr th {\n",
       "        vertical-align: top;\n",
       "    }\n",
       "\n",
       "    .dataframe thead th {\n",
       "        text-align: right;\n",
       "    }\n",
       "</style>\n",
       "<table border=\"1\" class=\"dataframe\">\n",
       "  <thead>\n",
       "    <tr style=\"text-align: right;\">\n",
       "      <th></th>\n",
       "      <th>N</th>\n",
       "    </tr>\n",
       "    <tr>\n",
       "      <th>date</th>\n",
       "      <th></th>\n",
       "    </tr>\n",
       "  </thead>\n",
       "  <tbody>\n",
       "    <tr>\n",
       "      <th>2014-12-31</th>\n",
       "      <td>283</td>\n",
       "    </tr>\n",
       "    <tr>\n",
       "      <th>2015-12-31</th>\n",
       "      <td>129</td>\n",
       "    </tr>\n",
       "    <tr>\n",
       "      <th>2016-12-31</th>\n",
       "      <td>41</td>\n",
       "    </tr>\n",
       "  </tbody>\n",
       "</table>\n",
       "</div>"
      ],
      "text/plain": [
       "              N\n",
       "date           \n",
       "2014-12-31  283\n",
       "2015-12-31  129\n",
       "2016-12-31   41"
      ]
     },
     "execution_count": 81,
     "metadata": {},
     "output_type": "execute_result"
    }
   ],
   "source": [
    "df10 = df9.resample('Y').sum()\n",
    "\n",
    "df10"
   ]
  },
  {
   "cell_type": "code",
   "execution_count": 82,
   "metadata": {
    "colab": {
     "base_uri": "https://localhost:8080/",
     "height": 615
    },
    "id": "C93le70EMNYS",
    "outputId": "d8783961-24d3-43d1-b73f-a1ed527ec812"
   },
   "outputs": [
    {
     "data": {
      "text/plain": [
       "<AxesSubplot:xlabel='date'>"
      ]
     },
     "execution_count": 82,
     "metadata": {},
     "output_type": "execute_result"
    },
    {
     "data": {
      "image/png": "[encoded data removed]",
      "text/plain": [
       "<Figure size 640x480 with 1 Axes>"
      ]
     },
     "metadata": {},
     "output_type": "display_data"
    }
   ],
   "source": [
    "df10.plot(kind=\"bar\")"
   ]
  },
  {
   "cell_type": "code",
   "execution_count": 83,
   "metadata": {
    "colab": {
     "base_uri": "https://localhost:8080/"
    },
    "id": "2_Q5Zjk_MNYT",
    "outputId": "5b20b5ac-d13b-4811-eb73-e8f4cac06b21"
   },
   "outputs": [
    {
     "name": "stdout",
     "output_type": "stream",
     "text": [
      "1388530986\t4.380000\n",
      "1388531586\t4.250000\n",
      "1388532187\t4.190000\n",
      "1388532787\t4.060000\n",
      "1388533388\t4.060000\n",
      "1388533988\t4.060000\n",
      "1388534589\t4.060000\n",
      "1388535189\t4.060000\n",
      "1388535790\t4.060000\n",
      "1388536406\t3.810000\n",
      "1388537006\t3.620000\n",
      "1388537607\t3.500000\n",
      "1388538207\t3.620000\n",
      "1388538808\t3.620000\n",
      "1388539408\t3.620000\n",
      "1388540009\t3.560000\n",
      "1388540609\t3.620000\n",
      "1388541210\t3.620000\n",
      "1388541810\t3.500000\n",
      "1388542411\t3.380000\n",
      "1388543012\t3.440000\n",
      "1388543612\t3.380000\n",
      "1388544213\t3.310000\n",
      "1388544813\t3.250000\n",
      "1388545414\t3.310000\n"
     ]
    }
   ],
   "source": [
    "!head -n 25 ../Data/temperature_outdoor_2014.tsv"
   ]
  },
  {
   "cell_type": "code",
   "execution_count": 84,
   "metadata": {},
   "outputs": [
    {
     "name": "stdout",
     "output_type": "stream",
     "text": [
      "1388530986\t21.940000\n",
      "1388531586\t22.000000\n",
      "1388532187\t22.000000\n",
      "1388532787\t22.000000\n",
      "1388533388\t22.000000\n",
      "1388533988\t22.060000\n",
      "1388534589\t22.120000\n",
      "1388535189\t22.250000\n",
      "1388535790\t22.310000\n",
      "1388536391\t22.440000\n",
      "1388536991\t22.440000\n",
      "1388537607\t22.500000\n",
      "1388538207\t22.440000\n",
      "1388538808\t22.500000\n",
      "1388539408\t22.560000\n",
      "1388540009\t22.560000\n",
      "1388540609\t22.500000\n",
      "1388541210\t22.500000\n",
      "1388541810\t22.560000\n",
      "1388542411\t22.560000\n",
      "1388543012\t22.560000\n",
      "1388543612\t22.500000\n",
      "1388544213\t22.560000\n",
      "1388544813\t22.690000\n",
      "1388545414\t22.690000\n"
     ]
    }
   ],
   "source": [
    "!head -n 25 ../Data/temperature_indoor_2014.tsv"
   ]
  },
  {
   "cell_type": "code",
   "execution_count": 85,
   "metadata": {
    "id": "OJ2daES-MNYT"
   },
   "outputs": [],
   "source": [
    "df1 = pd.read_csv('https://raw.githubusercontent.com/jstupak/ComputationalPhysics/master/Data/temperature_outdoor_2014.tsv', delimiter=\"\\t\", names=[\"time\", \"outdoor\"])"
   ]
  },
  {
   "cell_type": "code",
   "execution_count": 86,
   "metadata": {
    "id": "yb3APRoVMNYT"
   },
   "outputs": [],
   "source": [
    "df2 = pd.read_csv('https://raw.githubusercontent.com/jstupak/ComputationalPhysics/master/Data/temperature_indoor_2014.tsv', delimiter=\"\\t\", names=[\"time\", \"indoor\"])"
   ]
  },
  {
   "cell_type": "code",
   "execution_count": 87,
   "metadata": {
    "colab": {
     "base_uri": "https://localhost:8080/",
     "height": 206
    },
    "id": "U0A9l9VLMNYT",
    "outputId": "77f68940-2151-4651-fdac-282a53c89ded"
   },
   "outputs": [
    {
     "data": {
      "text/html": [
       "<div>\n",
       "<style scoped>\n",
       "    .dataframe tbody tr th:only-of-type {\n",
       "        vertical-align: middle;\n",
       "    }\n",
       "\n",
       "    .dataframe tbody tr th {\n",
       "        vertical-align: top;\n",
       "    }\n",
       "\n",
       "    .dataframe thead th {\n",
       "        text-align: right;\n",
       "    }\n",
       "</style>\n",
       "<table border=\"1\" class=\"dataframe\">\n",
       "  <thead>\n",
       "    <tr style=\"text-align: right;\">\n",
       "      <th></th>\n",
       "      <th>time</th>\n",
       "      <th>outdoor</th>\n",
       "    </tr>\n",
       "  </thead>\n",
       "  <tbody>\n",
       "    <tr>\n",
       "      <th>0</th>\n",
       "      <td>1388530986</td>\n",
       "      <td>4.38</td>\n",
       "    </tr>\n",
       "    <tr>\n",
       "      <th>1</th>\n",
       "      <td>1388531586</td>\n",
       "      <td>4.25</td>\n",
       "    </tr>\n",
       "    <tr>\n",
       "      <th>2</th>\n",
       "      <td>1388532187</td>\n",
       "      <td>4.19</td>\n",
       "    </tr>\n",
       "    <tr>\n",
       "      <th>3</th>\n",
       "      <td>1388532787</td>\n",
       "      <td>4.06</td>\n",
       "    </tr>\n",
       "    <tr>\n",
       "      <th>4</th>\n",
       "      <td>1388533388</td>\n",
       "      <td>4.06</td>\n",
       "    </tr>\n",
       "  </tbody>\n",
       "</table>\n",
       "</div>"
      ],
      "text/plain": [
       "         time  outdoor\n",
       "0  1388530986     4.38\n",
       "1  1388531586     4.25\n",
       "2  1388532187     4.19\n",
       "3  1388532787     4.06\n",
       "4  1388533388     4.06"
      ]
     },
     "execution_count": 87,
     "metadata": {},
     "output_type": "execute_result"
    }
   ],
   "source": [
    "df1.head()"
   ]
  },
  {
   "cell_type": "code",
   "execution_count": 88,
   "metadata": {
    "colab": {
     "base_uri": "https://localhost:8080/",
     "height": 206
    },
    "id": "BpU-GzfzMNYT",
    "outputId": "2012585a-28b4-46f1-ef39-96aaac1346cf"
   },
   "outputs": [
    {
     "data": {
      "text/html": [
       "<div>\n",
       "<style scoped>\n",
       "    .dataframe tbody tr th:only-of-type {\n",
       "        vertical-align: middle;\n",
       "    }\n",
       "\n",
       "    .dataframe tbody tr th {\n",
       "        vertical-align: top;\n",
       "    }\n",
       "\n",
       "    .dataframe thead th {\n",
       "        text-align: right;\n",
       "    }\n",
       "</style>\n",
       "<table border=\"1\" class=\"dataframe\">\n",
       "  <thead>\n",
       "    <tr style=\"text-align: right;\">\n",
       "      <th></th>\n",
       "      <th>time</th>\n",
       "      <th>indoor</th>\n",
       "    </tr>\n",
       "  </thead>\n",
       "  <tbody>\n",
       "    <tr>\n",
       "      <th>0</th>\n",
       "      <td>1388530986</td>\n",
       "      <td>21.94</td>\n",
       "    </tr>\n",
       "    <tr>\n",
       "      <th>1</th>\n",
       "      <td>1388531586</td>\n",
       "      <td>22.00</td>\n",
       "    </tr>\n",
       "    <tr>\n",
       "      <th>2</th>\n",
       "      <td>1388532187</td>\n",
       "      <td>22.00</td>\n",
       "    </tr>\n",
       "    <tr>\n",
       "      <th>3</th>\n",
       "      <td>1388532787</td>\n",
       "      <td>22.00</td>\n",
       "    </tr>\n",
       "    <tr>\n",
       "      <th>4</th>\n",
       "      <td>1388533388</td>\n",
       "      <td>22.00</td>\n",
       "    </tr>\n",
       "  </tbody>\n",
       "</table>\n",
       "</div>"
      ],
      "text/plain": [
       "         time  indoor\n",
       "0  1388530986   21.94\n",
       "1  1388531586   22.00\n",
       "2  1388532187   22.00\n",
       "3  1388532787   22.00\n",
       "4  1388533388   22.00"
      ]
     },
     "execution_count": 88,
     "metadata": {},
     "output_type": "execute_result"
    }
   ],
   "source": [
    "df2.head()"
   ]
  },
  {
   "cell_type": "code",
   "execution_count": 89,
   "metadata": {
    "colab": {
     "base_uri": "https://localhost:8080/"
    },
    "id": "_oPJ8Go_MNYT",
    "outputId": "b24bfffb-44a2-43c0-b4f8-08ed8cfbaff9"
   },
   "outputs": [
    {
     "name": "stdout",
     "output_type": "stream",
     "text": [
      "<class 'pandas.core.frame.DataFrame'>\n",
      "RangeIndex: 49548 entries, 0 to 49547\n",
      "Data columns (total 2 columns):\n",
      " #   Column   Non-Null Count  Dtype  \n",
      "---  ------   --------------  -----  \n",
      " 0   time     49548 non-null  int64  \n",
      " 1   outdoor  49548 non-null  float64\n",
      "dtypes: float64(1), int64(1)\n",
      "memory usage: 774.3 KB\n"
     ]
    }
   ],
   "source": [
    "df1.info()"
   ]
  },
  {
   "cell_type": "code",
   "execution_count": 90,
   "metadata": {
    "id": "nV5EtAk0MNYU"
   },
   "outputs": [
    {
     "name": "stdout",
     "output_type": "stream",
     "text": [
      "<class 'pandas.core.frame.DataFrame'>\n",
      "RangeIndex: 49548 entries, 0 to 49547\n",
      "Data columns (total 2 columns):\n",
      " #   Column   Non-Null Count  Dtype                           \n",
      "---  ------   --------------  -----                           \n",
      " 0   time     49548 non-null  datetime64[ns, Europe/Stockholm]\n",
      " 1   outdoor  49548 non-null  float64                         \n",
      "dtypes: datetime64[ns, Europe/Stockholm](1), float64(1)\n",
      "memory usage: 774.3 KB\n"
     ]
    }
   ],
   "source": [
    "df1.time = (pd.to_datetime(df1.time.values, unit=\"s\")\n",
    "              .tz_localize('UTC').tz_convert('Europe/Stockholm'))\n",
    "\n",
    "df1.info()"
   ]
  },
  {
   "cell_type": "code",
   "execution_count": 91,
   "metadata": {
    "id": "upNSVci2MNYU"
   },
   "outputs": [
    {
     "data": {
      "text/html": [
       "<div>\n",
       "<style scoped>\n",
       "    .dataframe tbody tr th:only-of-type {\n",
       "        vertical-align: middle;\n",
       "    }\n",
       "\n",
       "    .dataframe tbody tr th {\n",
       "        vertical-align: top;\n",
       "    }\n",
       "\n",
       "    .dataframe thead th {\n",
       "        text-align: right;\n",
       "    }\n",
       "</style>\n",
       "<table border=\"1\" class=\"dataframe\">\n",
       "  <thead>\n",
       "    <tr style=\"text-align: right;\">\n",
       "      <th></th>\n",
       "      <th>outdoor</th>\n",
       "    </tr>\n",
       "    <tr>\n",
       "      <th>time</th>\n",
       "      <th></th>\n",
       "    </tr>\n",
       "  </thead>\n",
       "  <tbody>\n",
       "    <tr>\n",
       "      <th>2014-01-01 00:03:06+01:00</th>\n",
       "      <td>4.38</td>\n",
       "    </tr>\n",
       "    <tr>\n",
       "      <th>2014-01-01 00:13:06+01:00</th>\n",
       "      <td>4.25</td>\n",
       "    </tr>\n",
       "    <tr>\n",
       "      <th>2014-01-01 00:23:07+01:00</th>\n",
       "      <td>4.19</td>\n",
       "    </tr>\n",
       "    <tr>\n",
       "      <th>2014-01-01 00:33:07+01:00</th>\n",
       "      <td>4.06</td>\n",
       "    </tr>\n",
       "    <tr>\n",
       "      <th>2014-01-01 00:43:08+01:00</th>\n",
       "      <td>4.06</td>\n",
       "    </tr>\n",
       "  </tbody>\n",
       "</table>\n",
       "</div>"
      ],
      "text/plain": [
       "                           outdoor\n",
       "time                              \n",
       "2014-01-01 00:03:06+01:00     4.38\n",
       "2014-01-01 00:13:06+01:00     4.25\n",
       "2014-01-01 00:23:07+01:00     4.19\n",
       "2014-01-01 00:33:07+01:00     4.06\n",
       "2014-01-01 00:43:08+01:00     4.06"
      ]
     },
     "execution_count": 91,
     "metadata": {},
     "output_type": "execute_result"
    }
   ],
   "source": [
    "df1 = df1.set_index(\"time\")\n",
    "\n",
    "df1.head()"
   ]
  },
  {
   "cell_type": "code",
   "execution_count": 92,
   "metadata": {
    "id": "lcMf4VpyMNYU"
   },
   "outputs": [],
   "source": [
    "df2.time = (pd.to_datetime(df2.time.values, unit=\"s\")\n",
    "              .tz_localize('UTC').tz_convert('Europe/Stockholm'))"
   ]
  },
  {
   "cell_type": "code",
   "execution_count": 93,
   "metadata": {
    "id": "HGDWCXn7MNYU"
   },
   "outputs": [
    {
     "data": {
      "text/html": [
       "<div>\n",
       "<style scoped>\n",
       "    .dataframe tbody tr th:only-of-type {\n",
       "        vertical-align: middle;\n",
       "    }\n",
       "\n",
       "    .dataframe tbody tr th {\n",
       "        vertical-align: top;\n",
       "    }\n",
       "\n",
       "    .dataframe thead th {\n",
       "        text-align: right;\n",
       "    }\n",
       "</style>\n",
       "<table border=\"1\" class=\"dataframe\">\n",
       "  <thead>\n",
       "    <tr style=\"text-align: right;\">\n",
       "      <th></th>\n",
       "      <th>indoor</th>\n",
       "    </tr>\n",
       "    <tr>\n",
       "      <th>time</th>\n",
       "      <th></th>\n",
       "    </tr>\n",
       "  </thead>\n",
       "  <tbody>\n",
       "    <tr>\n",
       "      <th>2014-01-01 00:03:06+01:00</th>\n",
       "      <td>21.94</td>\n",
       "    </tr>\n",
       "    <tr>\n",
       "      <th>2014-01-01 00:13:06+01:00</th>\n",
       "      <td>22.00</td>\n",
       "    </tr>\n",
       "    <tr>\n",
       "      <th>2014-01-01 00:23:07+01:00</th>\n",
       "      <td>22.00</td>\n",
       "    </tr>\n",
       "    <tr>\n",
       "      <th>2014-01-01 00:33:07+01:00</th>\n",
       "      <td>22.00</td>\n",
       "    </tr>\n",
       "    <tr>\n",
       "      <th>2014-01-01 00:43:08+01:00</th>\n",
       "      <td>22.00</td>\n",
       "    </tr>\n",
       "  </tbody>\n",
       "</table>\n",
       "</div>"
      ],
      "text/plain": [
       "                           indoor\n",
       "time                             \n",
       "2014-01-01 00:03:06+01:00   21.94\n",
       "2014-01-01 00:13:06+01:00   22.00\n",
       "2014-01-01 00:23:07+01:00   22.00\n",
       "2014-01-01 00:33:07+01:00   22.00\n",
       "2014-01-01 00:43:08+01:00   22.00"
      ]
     },
     "execution_count": 93,
     "metadata": {},
     "output_type": "execute_result"
    }
   ],
   "source": [
    "df2 = df2.set_index(\"time\")\n",
    "\n",
    "df2.head()"
   ]
  },
  {
   "cell_type": "code",
   "execution_count": 94,
   "metadata": {
    "colab": {
     "base_uri": "https://localhost:8080/"
    },
    "id": "hCOLOtE_MNYU",
    "outputId": "9114ad47-2f21-47c8-ff38-43971ad7194f"
   },
   "outputs": [
    {
     "data": {
      "text/plain": [
       "Timestamp('2014-01-01 00:03:06+0100', tz='Europe/Stockholm')"
      ]
     },
     "execution_count": 94,
     "metadata": {},
     "output_type": "execute_result"
    }
   ],
   "source": [
    "df1.index[0]"
   ]
  },
  {
   "cell_type": "code",
   "execution_count": 95,
   "metadata": {
    "colab": {
     "base_uri": "https://localhost:8080/"
    },
    "id": "1gpObAKwMNYU",
    "outputId": "0320ce40-7f1f-4ab7-d2b3-0bb8e1765b12"
   },
   "outputs": [
    {
     "data": {
      "text/plain": [
       "DatetimeIndex(['2014-01-01 00:03:06+01:00', '2014-01-01 00:13:06+01:00',\n",
       "               '2014-01-01 00:23:07+01:00', '2014-01-01 00:33:07+01:00'],\n",
       "              dtype='datetime64[ns, Europe/Stockholm]', name='time', freq=None)"
      ]
     },
     "execution_count": 95,
     "metadata": {},
     "output_type": "execute_result"
    }
   ],
   "source": [
    "df1.index[0:4]"
   ]
  },
  {
   "cell_type": "code",
   "execution_count": 96,
   "metadata": {
    "colab": {
     "base_uri": "https://localhost:8080/",
     "height": 672
    },
    "id": "jO2KP4QlMNYU",
    "outputId": "c594a61d-6f6c-4d6a-9b0a-a868f98a1e08"
   },
   "outputs": [
    {
     "ename": "NameError",
     "evalue": "name 'plt' is not defined",
     "output_type": "error",
     "traceback": [
      "\u001b[0;31m---------------------------------------------------------------------------\u001b[0m",
      "\u001b[0;31mNameError\u001b[0m                                 Traceback (most recent call last)",
      "\u001b[0;32m/var/folders/g0/jmslkjxj05x152gsxfk1vzwm0000gp/T/ipykernel_45759/654721384.py\u001b[0m in \u001b[0;36m<module>\u001b[0;34m\u001b[0m\n\u001b[0;32m----> 1\u001b[0;31m \u001b[0mplt\u001b[0m\u001b[0;34m.\u001b[0m\u001b[0mrcParams\u001b[0m\u001b[0;34m[\u001b[0m\u001b[0;34m'figure.figsize'\u001b[0m\u001b[0;34m]\u001b[0m \u001b[0;34m=\u001b[0m \u001b[0;36m12\u001b[0m\u001b[0;34m,\u001b[0m \u001b[0;36m6\u001b[0m\u001b[0;34m\u001b[0m\u001b[0;34m\u001b[0m\u001b[0m\n\u001b[0m\u001b[1;32m      2\u001b[0m \u001b[0mdf1\u001b[0m\u001b[0;34m.\u001b[0m\u001b[0mplot\u001b[0m\u001b[0;34m(\u001b[0m\u001b[0;34m)\u001b[0m\u001b[0;34m\u001b[0m\u001b[0;34m\u001b[0m\u001b[0m\n\u001b[1;32m      3\u001b[0m \u001b[0mdf2\u001b[0m\u001b[0;34m.\u001b[0m\u001b[0mplot\u001b[0m\u001b[0;34m(\u001b[0m\u001b[0;34m)\u001b[0m\u001b[0;34m\u001b[0m\u001b[0;34m\u001b[0m\u001b[0m\n",
      "\u001b[0;31mNameError\u001b[0m: name 'plt' is not defined"
     ]
    }
   ],
   "source": [
    "plt.rcParams['figure.figsize'] = 12, 6\n",
    "df1.plot()\n",
    "df2.plot()"
   ]
  },
  {
   "cell_type": "code",
   "execution_count": null,
   "metadata": {
    "colab": {
     "base_uri": "https://localhost:8080/",
     "height": 352
    },
    "id": "cAibL_AcMNYV",
    "outputId": "2ee5ce1e-da32-459b-a159-0f5f161de6d4"
   },
   "outputs": [],
   "source": [
    "plt.rcParams['figure.figsize'] = 12, 6\n",
    "ax = df1.plot()\n",
    "df2.plot(ax=ax)"
   ]
  },
  {
   "cell_type": "code",
   "execution_count": null,
   "metadata": {
    "colab": {
     "base_uri": "https://localhost:8080/"
    },
    "id": "ZpeAOJVcMNYV",
    "outputId": "b11f9fb0-b137-4cf9-9d1d-ba6c38e9bfcf"
   },
   "outputs": [],
   "source": [
    "# Since we have a time series index we can select subsets of the data (returns a boolean array)\n",
    "df1.index < \"2014-2-1\""
   ]
  },
  {
   "cell_type": "code",
   "execution_count": null,
   "metadata": {
    "id": "Lh2fbj_kMNYV"
   },
   "outputs": [],
   "source": [
    "df1_jan = df1[(df1.index > \"2014-1-1\") & (df1.index < \"2014-2-1\")]"
   ]
  },
  {
   "cell_type": "code",
   "execution_count": null,
   "metadata": {
    "colab": {
     "base_uri": "https://localhost:8080/"
    },
    "id": "qEBH8K9ZMNYV",
    "outputId": "711012b3-2c64-4242-a451-3bbc130c00bd"
   },
   "outputs": [],
   "source": [
    "df1_jan.info()"
   ]
  },
  {
   "cell_type": "code",
   "execution_count": null,
   "metadata": {
    "id": "6CHakHeGMNYV"
   },
   "outputs": [],
   "source": [
    "# we couild instead selecdt a subset of the data with slicing syntax\n",
    "df2_jan = df2[\"2014-1-1\":\"2014-1-31\"]"
   ]
  },
  {
   "cell_type": "code",
   "execution_count": null,
   "metadata": {
    "colab": {
     "base_uri": "https://localhost:8080/",
     "height": 359
    },
    "id": "1j0HDGsXMNYW",
    "outputId": "65fef0fc-db72-4c15-a0d9-d53556e525f1"
   },
   "outputs": [],
   "source": [
    "plt.rcParams['figure.figsize'] = 12, 6\n",
    "ax = df1_jan.plot()\n",
    "df2_jan.plot(ax=ax)"
   ]
  },
  {
   "cell_type": "code",
   "execution_count": null,
   "metadata": {
    "colab": {
     "base_uri": "https://localhost:8080/",
     "height": 237
    },
    "id": "FX9jk3ZYMNYW",
    "outputId": "f83d3628-f653-4ee7-8143-c94a04e1a2bb"
   },
   "outputs": [],
   "source": [
    "df1.head()"
   ]
  },
  {
   "cell_type": "code",
   "execution_count": null,
   "metadata": {
    "id": "tboM8zxNMNYW"
   },
   "outputs": [],
   "source": [
    "# convert an index back into a column so that we can use the apply function on the column\n",
    "# https://pandas.pydata.org/pandas-docs/stable/generated/pandas.DataFrame.reset_index.html\n",
    "df1_month = df1.reset_index()"
   ]
  },
  {
   "cell_type": "code",
   "execution_count": null,
   "metadata": {
    "colab": {
     "base_uri": "https://localhost:8080/",
     "height": 206
    },
    "id": "jVy7DLgkMNYX",
    "outputId": "91cd666e-96b4-442c-ca22-642feed22939"
   },
   "outputs": [],
   "source": [
    "df1_month.head()"
   ]
  },
  {
   "cell_type": "code",
   "execution_count": null,
   "metadata": {
    "colab": {
     "base_uri": "https://localhost:8080/"
    },
    "id": "vvc80k1XMNYX",
    "outputId": "5cd3fea7-f37f-43f6-d3e8-05b617575b42"
   },
   "outputs": [],
   "source": [
    "df1_month.info()"
   ]
  },
  {
   "cell_type": "code",
   "execution_count": null,
   "metadata": {
    "colab": {
     "base_uri": "https://localhost:8080/"
    },
    "id": "zOlxXop2MNYY",
    "outputId": "248ca21d-e1d3-478d-fa49-e2adb013f49c"
   },
   "outputs": [],
   "source": [
    "df1_month.loc[0,\"time\"]"
   ]
  },
  {
   "cell_type": "code",
   "execution_count": null,
   "metadata": {
    "colab": {
     "base_uri": "https://localhost:8080/"
    },
    "id": "YyoYl5yMMNYY",
    "outputId": "5cb397d1-f549-4a4c-9c51-c4fc59daf378"
   },
   "outputs": [],
   "source": [
    "# use the datetime64 attribute month\n",
    "df1_month.loc[0,\"time\"].month"
   ]
  },
  {
   "cell_type": "code",
   "execution_count": null,
   "metadata": {
    "colab": {
     "base_uri": "https://localhost:8080/"
    },
    "id": "U38B3tuwMNYY",
    "outputId": "8e49bbaf-a061-44d3-81e0-174cae19e03c"
   },
   "outputs": [],
   "source": [
    "df1_month.loc[0,\"time\"].minute"
   ]
  },
  {
   "cell_type": "code",
   "execution_count": null,
   "metadata": {
    "colab": {
     "base_uri": "https://localhost:8080/"
    },
    "id": "AQ2C8_DRMNYY",
    "outputId": "8c9e5c30-8203-4fe7-813f-ad5612ccdaee"
   },
   "outputs": [],
   "source": [
    "df1_month.loc[0,\"time\"].second"
   ]
  },
  {
   "cell_type": "code",
   "execution_count": null,
   "metadata": {
    "id": "vTpBhRrTMNYY"
   },
   "outputs": [],
   "source": [
    "# add a new column containting the month for each row\n",
    "df1_month[\"month\"] = df1_month.time.apply(lambda x: x.month)"
   ]
  },
  {
   "cell_type": "code",
   "execution_count": null,
   "metadata": {
    "colab": {
     "base_uri": "https://localhost:8080/",
     "height": 206
    },
    "id": "otOWKDMnMNYY",
    "outputId": "19fed7d6-91b1-4064-e3c3-dd75e5605c80"
   },
   "outputs": [],
   "source": [
    "df1_month.head()"
   ]
  },
  {
   "cell_type": "code",
   "execution_count": null,
   "metadata": {
    "colab": {
     "base_uri": "https://localhost:8080/",
     "height": 206
    },
    "id": "ONJmx9-8MNYY",
    "outputId": "f38587f1-3ac0-42b8-f0b7-86c81a753ee5"
   },
   "outputs": [],
   "source": [
    "df1_month.tail()"
   ]
  },
  {
   "cell_type": "markdown",
   "metadata": {
    "id": "400mA9iuMNYZ"
   },
   "source": [
    "Group rows based on the column \"month\" and calculate a function on each group\n",
    "\n",
    "https://pandas.pydata.org/pandas-docs/stable/generated/pandas.DataFrame.groupby.html\n",
    "\n",
    "https://pandas.pydata.org/pandas-docs/stable/generated/pandas.DataFrame.aggregate.html"
   ]
  },
  {
   "cell_type": "code",
   "execution_count": null,
   "metadata": {
    "colab": {
     "base_uri": "https://localhost:8080/",
     "height": 514
    },
    "id": "3lNyNMUhMNYZ",
    "outputId": "7ef8dee0-0411-4984-ac45-f275ec9f68eb"
   },
   "outputs": [],
   "source": [
    "df1_month.groupby(\"month\").mean().head(12)"
   ]
  },
  {
   "cell_type": "code",
   "execution_count": null,
   "metadata": {
    "colab": {
     "base_uri": "https://localhost:8080/"
    },
    "id": "F1vHunenMNYZ",
    "outputId": "9e2ebfcb-0550-41b3-f8cc-fc334872acbb"
   },
   "outputs": [],
   "source": [
    "df1_month_group_agg = df1_month.groupby(\"month\").aggregate(np.mean)\n",
    "\n",
    "df1_month_group_agg.head(12)"
   ]
  },
  {
   "cell_type": "code",
   "execution_count": null,
   "metadata": {
    "colab": {
     "base_uri": "https://localhost:8080/"
    },
    "id": "raTPfSASMNYZ",
    "outputId": "88ca1aa1-2cf7-47e3-85ff-5ac03f854a66"
   },
   "outputs": [],
   "source": [
    "# Repeat this for the indoor dataset\n",
    "df2_month = df2.reset_index()\n",
    "df2_month[\"month\"] = df2_month.time.apply(lambda x: x.month)\n",
    "df2_month_group_agg = df2_month.groupby(\"month\").aggregate(np.mean)"
   ]
  },
  {
   "cell_type": "code",
   "execution_count": null,
   "metadata": {
    "colab": {
     "base_uri": "https://localhost:8080/",
     "height": 457
    },
    "id": "L9HT_EJ-MNYZ",
    "outputId": "73f93107-b990-4a45-cf27-f9eb8f080ca3"
   },
   "outputs": [],
   "source": [
    "df2_month_group_agg.head(12)"
   ]
  },
  {
   "cell_type": "code",
   "execution_count": null,
   "metadata": {
    "id": "XM1I0ep9MNYZ"
   },
   "outputs": [],
   "source": [
    "# Join two data frames (create one dataframe with columns from both df1 and df2)\n",
    "# https://pandas.pydata.org/pandas-docs/stable/generated/pandas.DataFrame.join.html\n",
    "df_month = df1_month_group_agg.join(df2_month_group_agg)"
   ]
  },
  {
   "cell_type": "code",
   "execution_count": null,
   "metadata": {
    "colab": {
     "base_uri": "https://localhost:8080/",
     "height": 394
    },
    "id": "2aC2T9_sMNYa",
    "outputId": "df353b5c-a016-4154-afdb-b0e1d69ceedf"
   },
   "outputs": [],
   "source": [
    "df_month.head(10)"
   ]
  },
  {
   "cell_type": "markdown",
   "metadata": {
    "id": "Q-f-wvNwMNYa"
   },
   "source": [
    "_<font color=magenta>----Begin Exercise----</font> _\n",
    "\n",
    "Make a bar chart containing both the indoor and outdoor temperature\n",
    "\n",
    "(Hint: you can simply plot our combined month dataframe df_month)\n",
    "\n",
    "You may want to use grid='true' to make the plot more readable"
   ]
  },
  {
   "cell_type": "code",
   "execution_count": null,
   "metadata": {
    "id": "Sh8Hn4okMNYa"
   },
   "outputs": [],
   "source": []
  },
  {
   "cell_type": "markdown",
   "metadata": {
    "id": "d7QoPyPBMNYa"
   },
   "source": [
    "Make a box plot summarizing the indoor and outside temperature"
   ]
  },
  {
   "cell_type": "code",
   "execution_count": null,
   "metadata": {
    "id": "_jbNIf_kMNYa"
   },
   "outputs": [],
   "source": []
  },
  {
   "cell_type": "markdown",
   "metadata": {
    "id": "-PqDU1mpMNYa"
   },
   "source": [
    "_<font color=magenta>----End Exercise----</font> _"
   ]
  },
  {
   "cell_type": "code",
   "execution_count": null,
   "metadata": {
    "colab": {
     "base_uri": "https://localhost:8080/",
     "height": 237
    },
    "id": "nSKhW2ItMNYa",
    "outputId": "684496c6-c028-49c2-f986-2330048483e2"
   },
   "outputs": [],
   "source": [
    "df1.head()"
   ]
  },
  {
   "cell_type": "markdown",
   "metadata": {
    "id": "Tdsv0MmxMNYa"
   },
   "source": [
    "#### Resampling a timeseries\n",
    "\n",
    "https://pandas.pydata.org/pandas-docs/stable/generated/pandas.DataFrame.resample.html\n",
    "\n"
   ]
  },
  {
   "cell_type": "code",
   "execution_count": null,
   "metadata": {
    "id": "Z7AMTPCwMNYa"
   },
   "outputs": [],
   "source": [
    "df1_hour = df1.resample(\"H\").mean()"
   ]
  },
  {
   "cell_type": "code",
   "execution_count": null,
   "metadata": {
    "id": "1F5kjQRDMNYa"
   },
   "outputs": [],
   "source": [
    "df1_day = df1.resample(\"D\").mean()"
   ]
  },
  {
   "cell_type": "code",
   "execution_count": null,
   "metadata": {
    "id": "3RKC5sokMNYa"
   },
   "outputs": [],
   "source": [
    "df1_week = df1.resample(\"7D\").mean()"
   ]
  },
  {
   "cell_type": "code",
   "execution_count": null,
   "metadata": {
    "id": "Uig3YOIcMNYb"
   },
   "outputs": [],
   "source": [
    "df1_month = df1.resample(\"M\").mean()"
   ]
  },
  {
   "cell_type": "code",
   "execution_count": null,
   "metadata": {
    "colab": {
     "base_uri": "https://localhost:8080/",
     "height": 708
    },
    "id": "zUvOtWlBMNYb",
    "outputId": "4ed74232-1528-4064-9ecb-5d59737e4614"
   },
   "outputs": [],
   "source": [
    "df1_week.head(20)"
   ]
  },
  {
   "cell_type": "code",
   "execution_count": null,
   "metadata": {
    "id": "0vta1bH3MNYb"
   },
   "outputs": [],
   "source": [
    "df1_week=df1_week.rename(columns={\"outdoor\": \"Average weekly outdoor temperature\"})"
   ]
  },
  {
   "cell_type": "code",
   "execution_count": null,
   "metadata": {
    "colab": {
     "base_uri": "https://localhost:8080/",
     "height": 1000
    },
    "id": "-PDiKRk2MNYb",
    "outputId": "eff40a11-4b7e-497f-8b8b-09ef3fa0bf4f"
   },
   "outputs": [],
   "source": [
    "df1_week"
   ]
  },
  {
   "cell_type": "code",
   "execution_count": null,
   "metadata": {
    "id": "xIDV4TxPMNYb"
   },
   "outputs": [],
   "source": [
    "df1_hour  = df1_hour.rename(columns={\"outdoor\": \"Average hourly outdoor temperature\"})\n",
    "df1_day   = df1_day.rename(columns={\"outdoor\": \"Average daily outdoor temperature\"})\n",
    "df1_month = df1_month.rename(columns={\"outdoor\": \"Average monthly outdoor temperature\"})"
   ]
  },
  {
   "cell_type": "code",
   "execution_count": null,
   "metadata": {
    "id": "P4458UiDMNYb"
   },
   "outputs": [],
   "source": [
    "df_diff_week = (df1.resample(\"W\").outdoor.mean() - df2.resample(\"W\").indoor.mean())\n",
    "df_diff_day  = (df1.resample(\"D\").outdoor.mean() - df2.resample(\"D\").indoor.mean())"
   ]
  },
  {
   "cell_type": "code",
   "execution_count": null,
   "metadata": {
    "id": "nu0-QKMwMNYb"
   },
   "outputs": [],
   "source": []
  },
  {
   "cell_type": "code",
   "execution_count": null,
   "metadata": {
    "colab": {
     "base_uri": "https://localhost:8080/",
     "height": 393
    },
    "id": "tQI6ytuFMNYb",
    "outputId": "4c73633a-3549-4f52-d570-046ff2dbdd66"
   },
   "outputs": [],
   "source": [
    "plt.rcParams['figure.figsize'] = 15, 8\n",
    "ax = df1_hour.plot(alpha=0.25)\n",
    "df1_day.plot(ax=ax)\n",
    "df1_week.plot(ax=ax)\n",
    "df1_month.plot(ax=ax)\n"
   ]
  },
  {
   "cell_type": "code",
   "execution_count": null,
   "metadata": {
    "colab": {
     "base_uri": "https://localhost:8080/",
     "height": 393
    },
    "id": "c9prg9hjMNYc",
    "outputId": "2bf7d4f8-97c6-4f3e-8406-90e1a1dd66fb"
   },
   "outputs": [],
   "source": [
    "ax2 = df_diff_day.plot(label=\"Daily average: Outdoor - indoor temperature\",legend=True)\n",
    "df_diff_week.plot(ax=ax2,label=\"Weekly average: Outdoor - indoor temperature\",legend=True)"
   ]
  },
  {
   "cell_type": "code",
   "execution_count": null,
   "metadata": {
    "colab": {
     "base_uri": "https://localhost:8080/",
     "height": 368
    },
    "id": "f7YTLYIvMNYc",
    "outputId": "d2ebb907-a8ec-4d09-fdb6-9256bae4e93d"
   },
   "outputs": [],
   "source": [
    "df1.plot.hist(bins=100)"
   ]
  },
  {
   "cell_type": "code",
   "execution_count": null,
   "metadata": {
    "colab": {
     "base_uri": "https://localhost:8080/",
     "height": 368
    },
    "id": "u0soK0-uMNYc",
    "outputId": "bad8e439-a88a-4709-848e-6330ad1813e5"
   },
   "outputs": [],
   "source": [
    "df2.plot.hist(bins=100)"
   ]
  },
  {
   "cell_type": "code",
   "execution_count": null,
   "metadata": {
    "colab": {
     "base_uri": "https://localhost:8080/",
     "height": 345
    },
    "id": "0Wau7dNMMNYd",
    "outputId": "e839685e-bd78-4cc8-aefb-f1d83b955ef1"
   },
   "outputs": [],
   "source": [
    "plt.rcParams['figure.figsize'] = 12, 6\n",
    "ax = df2.plot.hist()\n",
    "df1.plot.hist(ax=ax,alpha=0.5)"
   ]
  },
  {
   "cell_type": "markdown",
   "metadata": {
    "id": "W3SIXz5nMNYd"
   },
   "source": [
    "------------------"
   ]
  },
  {
   "cell_type": "code",
   "execution_count": null,
   "metadata": {
    "id": "xH_NRcLrMNYd",
    "tags": []
   },
   "outputs": [],
   "source": [
    "df2 = pd.read_csv(\"../Data/Grades.csv\")\n",
    "\n",
    "df2"
   ]
  },
  {
   "cell_type": "markdown",
   "metadata": {},
   "source": []
  }
 ],
 "metadata": {
  "colab": {
   "provenance": [],
   "toc_visible": true
  },
  "kernelspec": {
   "display_name": "Python 3 (ipykernel)",
   "language": "python",
   "name": "python3"
  },
  "language_info": {
   "codemirror_mode": {
    "name": "ipython",
    "version": 3
   },
   "file_extension": ".py",
   "mimetype": "text/x-python",
   "name": "python",
   "nbconvert_exporter": "python",
   "pygments_lexer": "ipython3",
   "version": "3.7.12"
  }
 },
 "nbformat": 4,
 "nbformat_minor": 4
}
