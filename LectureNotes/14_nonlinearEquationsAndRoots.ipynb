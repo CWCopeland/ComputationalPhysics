{
 "cells": [
  {
   "cell_type": "markdown",
   "metadata": {},
   "source": [
    "# Solving Nonlinear Equations and Finding Roots\n",
    "\n",
    "In physics, we often encounter non-linear equations, which are significantly harder to solve than linear equations.  We will cover three methods to solve such equations.\n",
    "\n",
    "Consider the equation $x + e^{-x} = 2$.  There is one value of $x$ for which this is true. However, there is no known analytic method to find this value. Instead, we must use numerical techniques.\n",
    "\n",
    "## Relaxation method\n",
    "\n",
    "The relaxation method is an iterative method for solving non-linear equations. The method works as follows: \n",
    " 1) Rearrange the equation into the form $x=f(x)$\n",
    " 2) Guess a value for $x$\n",
    " 3) Evaluate the right hand side of the equation $f(x)$\n",
    "    *  Use this value as a new guess for $x$\n",
    " 1) Repeat step 3 until the method converges to a particular value (the solution)\n",
    " \n",
    "Let's apply this method to solve $x + e^{-x} = 2$.  First we rearrange the equation to obtain $x = 2 - e^{-x}$.  Let's use $x=0$ as our initial guess, and iterate."
   ]
  },
  {
   "cell_type": "code",
   "execution_count": 1,
   "metadata": {
    "tags": []
   },
   "outputs": [
    {
     "name": "stdout",
     "output_type": "stream",
     "text": [
      "n  | x              | f(x)          \n",
      " 1 | 0.000000000000 | 1.000000000000\n",
      " 2 | 1.000000000000 | 1.632120558829\n",
      " 3 | 1.632120558829 | 1.804485465847\n",
      " 4 | 1.804485465847 | 1.835440893922\n",
      " 5 | 1.835440893922 | 1.840456855344\n",
      " 6 | 1.840456855344 | 1.841255113911\n",
      " 7 | 1.841255113911 | 1.841381782813\n",
      " 8 | 1.841381782813 | 1.841401873536\n",
      " 9 | 1.841401873536 | 1.841405059855\n",
      "10 | 1.841405059855 | 1.841405565188\n",
      "11 | 1.841405565188 | 1.841405645331\n",
      "12 | 1.841405645331 | 1.841405658041\n",
      "13 | 1.841405658041 | 1.841405660057\n",
      "14 | 1.841405660057 | 1.841405660377\n",
      "15 | 1.841405660377 | 1.841405660427\n"
     ]
    }
   ],
   "source": [
    "import math\n",
    "\n",
    "guess = 0.0   #initial guess\n",
    "\n",
    "def f(x):\n",
    "    return 2 - math.exp(-x)\n",
    "\n",
    "def relaxation(f, guess, tolerance=1e-10, maxTries=40):\n",
    "    x = guess\n",
    "\n",
    "    print(\"{:2} | {:14} | {:14}\".format(\"n\", \"x\", \"f(x)\")) \n",
    "\n",
    "    n = 0\n",
    "    while n<maxTries:\n",
    "        n += 1\n",
    "\n",
    "        xPrime = f(x)\n",
    "       \n",
    "        print(\"{:2} | {:.12f} | {:.12f}\".format(n,x,xPrime))\n",
    "        \n",
    "        if abs(x-xPrime) < tolerance: break   #break out of the loop upon convergence\n",
    "        x = xPrime   #update to new guess\n",
    "        \n",
    "relaxation(f, guess)"
   ]
  },
  {
   "cell_type": "markdown",
   "metadata": {},
   "source": [
    "We have converged to a \"fixed point\" and can stop iterating; since we found a value of $x$ which is equal to $f(x)$, 1.8414 is a solution to the equation and we can stop iterating.\n",
    "\n",
    "---------------------\n",
    "\n",
    "The pros of this method are:\n",
    "* Fast and easy to code\n",
    "* Finds *a* solution *sometimes*\n",
    "\n",
    "\n",
    "The cons of this method are:\n",
    "* Can't find multiple solutions (which often exist) \n",
    "    * Can be mitigated by trying multiple different guesses (which sometimes converge to differnt solutions)\n",
    "* Can get stuck and oscillate about true solution (no convergence)\n",
    "\n",
    "To understand this last point, let's try to solve the equation $x=e^{1-x^2}$."
   ]
  },
  {
   "cell_type": "code",
   "execution_count": 2,
   "metadata": {
    "tags": []
   },
   "outputs": [
    {
     "name": "stdout",
     "output_type": "stream",
     "text": [
      "n  | x              | f(x)          \n",
      " 1 | 0.000000000000 | 2.718281828459\n",
      " 2 | 2.718281828459 | 0.001679841057\n",
      " 3 | 0.001679841057 | 2.718274157843\n",
      " 4 | 2.718274157843 | 0.001679911111\n",
      " 5 | 0.001679911111 | 2.718274157203\n",
      " 6 | 2.718274157203 | 0.001679911117\n",
      " 7 | 0.001679911117 | 2.718274157203\n",
      " 8 | 2.718274157203 | 0.001679911117\n",
      " 9 | 0.001679911117 | 2.718274157203\n",
      "10 | 2.718274157203 | 0.001679911117\n",
      "11 | 0.001679911117 | 2.718274157203\n",
      "12 | 2.718274157203 | 0.001679911117\n",
      "13 | 0.001679911117 | 2.718274157203\n",
      "14 | 2.718274157203 | 0.001679911117\n",
      "15 | 0.001679911117 | 2.718274157203\n",
      "16 | 2.718274157203 | 0.001679911117\n",
      "17 | 0.001679911117 | 2.718274157203\n",
      "18 | 2.718274157203 | 0.001679911117\n",
      "19 | 0.001679911117 | 2.718274157203\n",
      "20 | 2.718274157203 | 0.001679911117\n",
      "21 | 0.001679911117 | 2.718274157203\n",
      "22 | 2.718274157203 | 0.001679911117\n",
      "23 | 0.001679911117 | 2.718274157203\n",
      "24 | 2.718274157203 | 0.001679911117\n",
      "25 | 0.001679911117 | 2.718274157203\n",
      "26 | 2.718274157203 | 0.001679911117\n",
      "27 | 0.001679911117 | 2.718274157203\n",
      "28 | 2.718274157203 | 0.001679911117\n",
      "29 | 0.001679911117 | 2.718274157203\n",
      "30 | 2.718274157203 | 0.001679911117\n",
      "31 | 0.001679911117 | 2.718274157203\n",
      "32 | 2.718274157203 | 0.001679911117\n",
      "33 | 0.001679911117 | 2.718274157203\n",
      "34 | 2.718274157203 | 0.001679911117\n",
      "35 | 0.001679911117 | 2.718274157203\n",
      "36 | 2.718274157203 | 0.001679911117\n",
      "37 | 0.001679911117 | 2.718274157203\n",
      "38 | 2.718274157203 | 0.001679911117\n",
      "39 | 0.001679911117 | 2.718274157203\n",
      "40 | 2.718274157203 | 0.001679911117\n"
     ]
    }
   ],
   "source": [
    "def f(x):\n",
    "    return math.exp(1-x*x)\n",
    "\n",
    "relaxation(f, guess)"
   ]
  },
  {
   "cell_type": "markdown",
   "metadata": {},
   "source": [
    "You can see that the method doesn't converge to a particular solution, but instead oscillates between 0.00168 and 2.71827 (neither of which are solutions).  \n",
    "\n",
    "In such cases, we can sometimes ensure convergence by rearranging the equation.  For example, let's invert this equation by taking the natural log of both sides of the equation, after which we obtain $\\ln(x) = 1-x^2$ or $x = \\sqrt{1-\\ln(x)}$."
   ]
  },
  {
   "cell_type": "code",
   "execution_count": 3,
   "metadata": {
    "tags": []
   },
   "outputs": [
    {
     "name": "stdout",
     "output_type": "stream",
     "text": [
      "n  | x              | f(x)          \n",
      " 1 | 0.100000000000 | 1.817301596597\n",
      " 2 | 1.817301596597 | 0.634544906481\n",
      " 3 | 0.634544906481 | 1.206170477062\n",
      " 4 | 1.206170477062 | 0.901415306201\n",
      " 5 | 0.901415306201 | 1.050613719877\n",
      " 6 | 1.050613719877 | 0.975000262287\n",
      " 7 | 0.975000262287 | 1.012579645742\n",
      " 8 | 1.012579645742 | 0.993729752314\n",
      " 9 | 0.993729752314 | 1.003140064124\n",
      "10 | 1.003140064124 | 0.998431197219\n",
      "11 | 0.998431197219 | 1.000784709436\n",
      "12 | 1.000784709436 | 0.999607722203\n",
      "13 | 0.999607722203 | 1.000196158140\n",
      "14 | 1.000196158140 | 0.999901925739\n",
      "15 | 0.999901925739 | 1.000049038333\n",
      "16 | 1.000049038333 | 0.999975481134\n",
      "17 | 0.999975481134 | 1.000012259508\n",
      "18 | 1.000012259508 | 0.999993870265\n",
      "19 | 0.999993870265 | 1.000003064872\n",
      "20 | 1.000003064872 | 0.999998467565\n",
      "21 | 0.999998467565 | 1.000000766218\n",
      "22 | 1.000000766218 | 0.999999616891\n",
      "23 | 0.999999616891 | 1.000000191554\n",
      "24 | 1.000000191554 | 0.999999904223\n",
      "25 | 0.999999904223 | 1.000000047889\n",
      "26 | 1.000000047889 | 0.999999976056\n",
      "27 | 0.999999976056 | 1.000000011972\n",
      "28 | 1.000000011972 | 0.999999994014\n",
      "29 | 0.999999994014 | 1.000000002993\n",
      "30 | 1.000000002993 | 0.999999998503\n",
      "31 | 0.999999998503 | 1.000000000748\n",
      "32 | 1.000000000748 | 0.999999999626\n",
      "33 | 0.999999999626 | 1.000000000187\n",
      "34 | 1.000000000187 | 0.999999999906\n",
      "35 | 0.999999999906 | 1.000000000047\n",
      "36 | 1.000000000047 | 0.999999999977\n"
     ]
    }
   ],
   "source": [
    "guess = 0.1   #can't use zero as initial guess due to domain of ln\n",
    "\n",
    "def f(x):\n",
    "    return math.sqrt(1-math.log(x))\n",
    "\n",
    "relaxation(f, guess)"
   ]
  },
  {
   "cell_type": "markdown",
   "metadata": {},
   "source": [
    "In this case, the method eventually converged to $x=1$, which is the correct solution.\n",
    "\n",
    "The reason for this has to do with the slope of the function on the right-hand side of the equations we are trying to solve.  The relaxation method only converges if the absolute value of the slope of this function, evaluated at the true solution $x^{\\star}$, is less than one.  \n",
    "\n",
    "Initially, we tried to solve with $f(x) = e^{1-x^2}$.  The derivative of this function is $f^{\\prime}(x) = -2xe^{1-x^2}$, with absolute value $2\\cdot1\\cdot e^{1-1^2} = 2$ when evaluated at $x^{\\star}=1$.  However, after inverting the equation we obtained $f(x)=\\sqrt{1-\\ln(x)}$.  The derivative of this function is $f^{\\prime}(x) = \\frac{-1}{2x\\sqrt{1-\\ln(x)}}$, with absolute value $\\frac{1}{2\\cdot1\\cdot\\sqrt{1-\\ln(1)}} = \\frac{1}{2}$ when evaluated at $x^{\\star}=1$, so the method converges.\n",
    "\n",
    "The slope of the inverse function is simply the inverse of the original slope.  This is a general relation, so taking the inverse function is a good method to obtain convergence with the relaxation method.  However, it is not foolproof, as some functions can't be inverted.\n",
    "\n",
    "---------------\n",
    "\n",
    "Let's now try to apply this method to solve the equation $x=\\tanh(x/0.7)$.  But first, lets graph the right- and left-hand sides of this equation.  The solution(s) correspond to point(s) where these functions intersect."
   ]
  },
  {
   "cell_type": "code",
   "execution_count": 4,
   "metadata": {
    "tags": []
   },
   "outputs": [
    {
     "data": {
      "text/plain": [
       "<matplotlib.legend.Legend at 0x7fb00098f890>"
      ]
     },
     "execution_count": 4,
     "metadata": {},
     "output_type": "execute_result"
    },
    {
     "data": {
      "image/png": "[encoded data removed]",
      "text/plain": [
       "<Figure size 640x480 with 1 Axes>"
      ]
     },
     "metadata": {},
     "output_type": "display_data"
    }
   ],
   "source": [
    "import matplotlib.pyplot as plt\n",
    "import numpy as np\n",
    "\n",
    "#left-hand side\n",
    "def f0(x):\n",
    "    return x\n",
    "\n",
    "#right-hand side\n",
    "def f1(x):\n",
    "    return np.tanh(x/0.7)\n",
    "\n",
    "x = np.linspace(-3, 3, 1000)\n",
    "\n",
    "plt.figure()\n",
    "\n",
    "plt.plot(f0(x), x, label='x')\n",
    "plt.plot(f1(x), x, label='tanh(x/0.7)')\n",
    "\n",
    "plt.legend(loc='best')"
   ]
  },
  {
   "cell_type": "markdown",
   "metadata": {},
   "source": [
    "In this case, there are three solutions.  We can try to find them using the relaxation method, by trying multiple initial guesses."
   ]
  },
  {
   "cell_type": "code",
   "execution_count": 5,
   "metadata": {
    "tags": []
   },
   "outputs": [
    {
     "name": "stdout",
     "output_type": "stream",
     "text": [
      "n  | x              | f(x)          \n",
      " 1 | -0.000000001000 | -0.000000001429\n",
      " 2 | -0.000000001429 | -0.000000002041\n",
      " 3 | -0.000000002041 | -0.000000002915\n",
      " 4 | -0.000000002915 | -0.000000004165\n",
      " 5 | -0.000000004165 | -0.000000005950\n",
      " 6 | -0.000000005950 | -0.000000008500\n",
      " 7 | -0.000000008500 | -0.000000012143\n",
      " 8 | -0.000000012143 | -0.000000017347\n",
      " 9 | -0.000000017347 | -0.000000024781\n",
      "10 | -0.000000024781 | -0.000000035401\n",
      "11 | -0.000000035401 | -0.000000050573\n",
      "12 | -0.000000050573 | -0.000000072248\n",
      "13 | -0.000000072248 | -0.000000103211\n",
      "14 | -0.000000103211 | -0.000000147444\n",
      "15 | -0.000000147444 | -0.000000210634\n",
      "16 | -0.000000210634 | -0.000000300906\n",
      "17 | -0.000000300906 | -0.000000429866\n",
      "18 | -0.000000429866 | -0.000000614095\n",
      "19 | -0.000000614095 | -0.000000877278\n",
      "20 | -0.000000877278 | -0.000001253254\n",
      "21 | -0.000001253254 | -0.000001790363\n",
      "22 | -0.000001790363 | -0.000002557662\n",
      "23 | -0.000002557662 | -0.000003653803\n",
      "24 | -0.000003653803 | -0.000005219718\n",
      "25 | -0.000005219718 | -0.000007456740\n",
      "26 | -0.000007456740 | -0.000010652486\n",
      "27 | -0.000010652486 | -0.000015217837\n",
      "28 | -0.000015217837 | -0.000021739767\n",
      "29 | -0.000021739767 | -0.000031056810\n",
      "30 | -0.000031056810 | -0.000044366871\n",
      "31 | -0.000044366871 | -0.000063381244\n",
      "32 | -0.000063381244 | -0.000090544634\n",
      "33 | -0.000090544634 | -0.000129349476\n",
      "34 | -0.000129349476 | -0.000184784964\n",
      "35 | -0.000184784964 | -0.000263978514\n",
      "36 | -0.000263978514 | -0.000377112145\n",
      "37 | -0.000377112145 | -0.000538731583\n",
      "38 | -0.000538731583 | -0.000769616396\n",
      "39 | -0.000769616396 | -0.001099451551\n",
      "40 | -0.001099451551 | -0.001570643781\n",
      "41 | -0.001570643781 | -0.002243773065\n",
      "42 | -0.002243773065 | -0.003205379115\n",
      "43 | -0.003205379115 | -0.004579081017\n",
      "44 | -0.004579081017 | -0.006541451003\n",
      "45 | -0.006541451003 | -0.009344657990\n",
      "46 | -0.009344657990 | -0.013348718468\n",
      "47 | -0.013348718468 | -0.019067286597\n",
      "48 | -0.019067286597 | -0.027232246088\n",
      "49 | -0.027232246088 | -0.038883594426\n",
      "50 | -0.038883594426 | -0.055490929884\n",
      "51 | -0.055490929884 | -0.079107118830\n",
      "52 | -0.079107118830 | -0.112531519268\n",
      "53 | -0.112531519268 | -0.159388616820\n",
      "54 | -0.159388616820 | -0.223842848250\n",
      "55 | -0.223842848250 | -0.309303910723\n",
      "56 | -0.309303910723 | -0.415187265002\n",
      "57 | -0.415187265002 | -0.532139177264\n",
      "58 | -0.532139177264 | -0.641194058027\n",
      "59 | -0.641194058027 | -0.723995583711\n",
      "60 | -0.723995583711 | -0.775618987435\n",
      "61 | -0.775618987435 | -0.803363905162\n",
      "62 | -0.803363905162 | -0.816978307117\n",
      "63 | -0.816978307117 | -0.823344099288\n",
      "64 | -0.823344099288 | -0.826251464961\n",
      "65 | -0.826251464961 | -0.827564852906\n",
      "66 | -0.827564852906 | -0.828155216062\n",
      "67 | -0.828155216062 | -0.828419985161\n",
      "68 | -0.828419985161 | -0.828538610054\n",
      "69 | -0.828538610054 | -0.828591733629\n",
      "70 | -0.828591733629 | -0.828615519029\n",
      "71 | -0.828615519029 | -0.828626167668\n",
      "72 | -0.828626167668 | -0.828630934831\n",
      "73 | -0.828630934831 | -0.828633068947\n",
      "74 | -0.828633068947 | -0.828634024318\n",
      "75 | -0.828634024318 | -0.828634452005\n",
      "76 | -0.828634452005 | -0.828634643464\n",
      "77 | -0.828634643464 | -0.828634729174\n",
      "78 | -0.828634729174 | -0.828634767543\n",
      "79 | -0.828634767543 | -0.828634784720\n",
      "80 | -0.828634784720 | -0.828634792409\n",
      "81 | -0.828634792409 | -0.828634795851\n",
      "82 | -0.828634795851 | -0.828634797392\n",
      "83 | -0.828634797392 | -0.828634798082\n",
      "84 | -0.828634798082 | -0.828634798391\n",
      "85 | -0.828634798391 | -0.828634798529\n",
      "86 | -0.828634798529 | -0.828634798591\n"
     ]
    }
   ],
   "source": [
    "guess = -0.000000001\n",
    "\n",
    "relaxation(f1, guess, maxTries=100)"
   ]
  },
  {
   "cell_type": "markdown",
   "metadata": {},
   "source": [
    "Unfortunately, it seems this method is not capable of finding the solution at $x=0$, even if we choose an initial guess which is very close to zero.  The same is also true if our initial guess is small and positive."
   ]
  },
  {
   "cell_type": "code",
   "execution_count": 6,
   "metadata": {
    "tags": []
   },
   "outputs": [
    {
     "name": "stdout",
     "output_type": "stream",
     "text": [
      "n  | x              | f(x)          \n",
      " 1 | 0.000000001000 | 0.000000001429\n",
      " 2 | 0.000000001429 | 0.000000002041\n",
      " 3 | 0.000000002041 | 0.000000002915\n",
      " 4 | 0.000000002915 | 0.000000004165\n",
      " 5 | 0.000000004165 | 0.000000005950\n",
      " 6 | 0.000000005950 | 0.000000008500\n",
      " 7 | 0.000000008500 | 0.000000012143\n",
      " 8 | 0.000000012143 | 0.000000017347\n",
      " 9 | 0.000000017347 | 0.000000024781\n",
      "10 | 0.000000024781 | 0.000000035401\n",
      "11 | 0.000000035401 | 0.000000050573\n",
      "12 | 0.000000050573 | 0.000000072248\n",
      "13 | 0.000000072248 | 0.000000103211\n",
      "14 | 0.000000103211 | 0.000000147444\n",
      "15 | 0.000000147444 | 0.000000210634\n",
      "16 | 0.000000210634 | 0.000000300906\n",
      "17 | 0.000000300906 | 0.000000429866\n",
      "18 | 0.000000429866 | 0.000000614095\n",
      "19 | 0.000000614095 | 0.000000877278\n",
      "20 | 0.000000877278 | 0.000001253254\n",
      "21 | 0.000001253254 | 0.000001790363\n",
      "22 | 0.000001790363 | 0.000002557662\n",
      "23 | 0.000002557662 | 0.000003653803\n",
      "24 | 0.000003653803 | 0.000005219718\n",
      "25 | 0.000005219718 | 0.000007456740\n",
      "26 | 0.000007456740 | 0.000010652486\n",
      "27 | 0.000010652486 | 0.000015217837\n",
      "28 | 0.000015217837 | 0.000021739767\n",
      "29 | 0.000021739767 | 0.000031056810\n",
      "30 | 0.000031056810 | 0.000044366871\n",
      "31 | 0.000044366871 | 0.000063381244\n",
      "32 | 0.000063381244 | 0.000090544634\n",
      "33 | 0.000090544634 | 0.000129349476\n",
      "34 | 0.000129349476 | 0.000184784964\n",
      "35 | 0.000184784964 | 0.000263978514\n",
      "36 | 0.000263978514 | 0.000377112145\n",
      "37 | 0.000377112145 | 0.000538731583\n",
      "38 | 0.000538731583 | 0.000769616396\n",
      "39 | 0.000769616396 | 0.001099451551\n",
      "40 | 0.001099451551 | 0.001570643781\n",
      "41 | 0.001570643781 | 0.002243773065\n",
      "42 | 0.002243773065 | 0.003205379115\n",
      "43 | 0.003205379115 | 0.004579081017\n",
      "44 | 0.004579081017 | 0.006541451003\n",
      "45 | 0.006541451003 | 0.009344657990\n",
      "46 | 0.009344657990 | 0.013348718468\n",
      "47 | 0.013348718468 | 0.019067286597\n",
      "48 | 0.019067286597 | 0.027232246088\n",
      "49 | 0.027232246088 | 0.038883594426\n",
      "50 | 0.038883594426 | 0.055490929884\n",
      "51 | 0.055490929884 | 0.079107118830\n",
      "52 | 0.079107118830 | 0.112531519268\n",
      "53 | 0.112531519268 | 0.159388616820\n",
      "54 | 0.159388616820 | 0.223842848250\n",
      "55 | 0.223842848250 | 0.309303910723\n",
      "56 | 0.309303910723 | 0.415187265002\n",
      "57 | 0.415187265002 | 0.532139177264\n",
      "58 | 0.532139177264 | 0.641194058027\n",
      "59 | 0.641194058027 | 0.723995583711\n",
      "60 | 0.723995583711 | 0.775618987435\n",
      "61 | 0.775618987435 | 0.803363905162\n",
      "62 | 0.803363905162 | 0.816978307117\n",
      "63 | 0.816978307117 | 0.823344099288\n",
      "64 | 0.823344099288 | 0.826251464961\n",
      "65 | 0.826251464961 | 0.827564852906\n",
      "66 | 0.827564852906 | 0.828155216062\n",
      "67 | 0.828155216062 | 0.828419985161\n",
      "68 | 0.828419985161 | 0.828538610054\n",
      "69 | 0.828538610054 | 0.828591733629\n",
      "70 | 0.828591733629 | 0.828615519029\n",
      "71 | 0.828615519029 | 0.828626167668\n",
      "72 | 0.828626167668 | 0.828630934831\n",
      "73 | 0.828630934831 | 0.828633068947\n",
      "74 | 0.828633068947 | 0.828634024318\n",
      "75 | 0.828634024318 | 0.828634452005\n",
      "76 | 0.828634452005 | 0.828634643464\n",
      "77 | 0.828634643464 | 0.828634729174\n",
      "78 | 0.828634729174 | 0.828634767543\n",
      "79 | 0.828634767543 | 0.828634784720\n",
      "80 | 0.828634784720 | 0.828634792409\n",
      "81 | 0.828634792409 | 0.828634795851\n",
      "82 | 0.828634795851 | 0.828634797392\n",
      "83 | 0.828634797392 | 0.828634798082\n",
      "84 | 0.828634798082 | 0.828634798391\n",
      "85 | 0.828634798391 | 0.828634798529\n",
      "86 | 0.828634798529 | 0.828634798591\n"
     ]
    }
   ],
   "source": [
    "guess = 0.000000001\n",
    "\n",
    "relaxation(f1, guess, maxTries=100)"
   ]
  },
  {
   "cell_type": "markdown",
   "metadata": {},
   "source": [
    "With the relaxation method, we are only able to find the solutions at $x=\\pm 0.8286$.\n",
    "\n",
    "### Multiple variables\n",
    "\n",
    "The relaxation method can easily be extended to systems of equations with multiple variables.  Suppose we wish to solve $x=\\sqrt{x-\\frac{2-y}{y}}$ and $y=\\frac{x}{1+y^2}$.  We simply guess initial values for both $x$ and $y$, plug these value into the right-hand side of the equations, update our guesses, and repeat."
   ]
  },
  {
   "cell_type": "code",
   "execution_count": 7,
   "metadata": {
    "tags": []
   },
   "outputs": [
    {
     "name": "stdout",
     "output_type": "stream",
     "text": [
      "n  | x                | f1(x,y)          | y                | f2(x,y)         \n",
      " 1 | 1.00000000000000 | 1.41421356237310 | 1.00000000000000 | 0.50000000000000\n",
      " 2 | 1.41421356237310 | 2.10100298961546 | 0.50000000000000 | 1.13137084989848\n",
      " 3 | 2.10100298961546 | 1.69374435573431 | 1.13137084989848 | 0.92149253930503\n",
      " 4 | 1.69374435573431 | 1.69237593854139 | 0.92149253930503 | 0.91595907832121\n",
      " 5 | 1.69237593854139 | 1.69584185542866 | 0.91595907832121 | 0.92027916983689\n",
      " 6 | 1.69584185542866 | 1.69384043963487 | 0.92027916983689 | 0.91820305903761\n",
      " 7 | 1.69384043963487 | 1.69469993584450 | 0.91820305903761 | 0.91901867914668\n",
      " 8 | 1.69469993584450 | 1.69438315218870 | 0.91901867914668 | 0.91873805916929\n",
      " 9 | 1.69438315218870 | 1.69448581972779 | 0.91873805916929 | 0.91882320728291\n",
      "10 | 1.69448581972779 | 1.69445658715303 | 0.91882320728291 | 0.91880092379114\n",
      "11 | 1.69445658715303 | 1.69446353875444 | 0.91880092379114 | 0.91880547380437\n",
      "12 | 1.69446353875444 | 1.69446240922996 | 0.91880547380437 | 0.91880507761504\n",
      "13 | 1.69446240922996 | 1.69446235289555 | 0.91880507761504 | 0.91880482786156\n",
      "14 | 1.69446235289555 | 1.69446251086791 | 0.91880482786156 | 0.91880502596920\n",
      "15 | 1.69446251086791 | 1.69446241899087 | 0.91880502596920 | 0.91880493025651\n",
      "16 | 1.69446241899087 | 1.69446245878987 | 0.91880493025651 | 0.91880496806404\n",
      "17 | 1.69446245878987 | 1.69446244410356 | 0.91880496806404 | 0.91880495503108\n",
      "18 | 1.69446244410356 | 1.69446244888091 | 0.91880495503108 | 0.91880495899952\n",
      "19 | 1.69446244888091 | 1.69446244751638 | 0.91880495899952 | 0.91880495795680\n",
      "20 | 1.69446244751638 | 1.69446244784267 | 0.91880495795680 | 0.91880495817153\n",
      "21 | 1.69446244784267 | 1.69446244778884 | 0.91880495817153 | 0.91880495815187\n"
     ]
    }
   ],
   "source": [
    "guessX = 1.0\n",
    "guessY = 1.0\n",
    "\n",
    "def f1(x,y):\n",
    "    return math.sqrt(x + (2-y)/y)\n",
    "\n",
    "def f2(x,y):\n",
    "    return x/(1 + y*y)\n",
    "    \n",
    "def relaxation2(f1, f2, guessX, guessY, tolerance=1e-10, maxTries=40):\n",
    "    x = guessX\n",
    "    y = guessY\n",
    "\n",
    "    print(\"{:2} | {:16} | {:16} | {:16} | {:16}\".format(\"n\", \"x\", \"f1(x,y)\", \"y\", \"f2(x,y)\") )\n",
    "\n",
    "    n = 0\n",
    "    while n<maxTries:\n",
    "        n += 1\n",
    "\n",
    "        xPrime = f1(x,y)\n",
    "        yPrime = f2(x,y)\n",
    "        \n",
    "        print(\"{:2} | {:.14f} | {:.14f} | {:.14f} | {:.14f}\".format(n, x, f1(x,y), y, f2(x,y)) )\n",
    "\n",
    "        if abs(x-xPrime) < tolerance and abs(y-yPrime) < tolerance: break   #break out of the loop upon convergence\n",
    "        #update to new guess\n",
    "        x = xPrime\n",
    "        y = yPrime\n",
    "        \n",
    "relaxation2(f1, f2, guessX, guessY)"
   ]
  },
  {
   "cell_type": "markdown",
   "metadata": {},
   "source": [
    "## Binary search\n",
    "\n",
    "The binary search method is somewhat more robust than the relaxation method.  It searches for a solution within a specified interval.  If *exactly one* solution exists in this interval, the binary search method is guarenteed to find it.  The price we pay for the increased robustness is increased complexity.\n",
    "\n",
    "When using the binary search method, we begin by moving all terms to one side of the equation, obtaining an equation of the form $f(x)=0$.  We then proceed to find \"roots\" (zeroes) of the function $f(x)$.\n",
    "\n",
    "Let's assume that we wish to find solutions in the interval between $x=a$ and $x=b$.  We begin by evaluating $f(x)$ at $a$ and $b$.  If the sign of $f(a)$ and $f(b)$ differ, then (assuming the function is continuous), there must be at least one intermediate point (the solution) where $f(x)$ crosses zero.  In this case, we divide the interval in half and evaluate the function at $x^{\\prime}=\\frac{1}{2}(a+b)$.  The sign of $f(x^{\\prime})$ is guarenteed to differ with the sign of either $f(a)$ or $f(b)$.  Either way, we can determine which half-interval the solution falls within, and repeat until the interval becomes sufficiently small.  At that point, we take the average of the interval endpoints as our solution.\n",
    "\n",
    "Let's use this method to find solutions to the equation $x = e^{-x} - 0.4$.  We begin by moving all terms to one side of the equation, obtaining $x - e^{-x} + 0.4 = 0$.  Then, we can search for roots in the interval 0-5."
   ]
  },
  {
   "cell_type": "code",
   "execution_count": 8,
   "metadata": {
    "tags": []
   },
   "outputs": [
    {
     "name": "stdout",
     "output_type": "stream",
     "text": [
      "n  | x1             | x2            \n",
      " 1 | 0.000000000000 | 5.000000000000\n",
      " 2 | 0.000000000000 | 2.500000000000\n",
      " 3 | 0.000000000000 | 1.250000000000\n",
      " 4 | 0.000000000000 | 0.625000000000\n",
      " 5 | 0.312500000000 | 0.625000000000\n",
      " 6 | 0.312500000000 | 0.468750000000\n",
      " 7 | 0.312500000000 | 0.390625000000\n",
      " 8 | 0.312500000000 | 0.351562500000\n",
      " 9 | 0.312500000000 | 0.332031250000\n",
      "10 | 0.322265625000 | 0.332031250000\n",
      "11 | 0.322265625000 | 0.327148437500\n",
      "12 | 0.322265625000 | 0.324707031250\n",
      "13 | 0.323486328125 | 0.324707031250\n",
      "14 | 0.323486328125 | 0.324096679688\n",
      "15 | 0.323486328125 | 0.323791503906\n",
      "16 | 0.323486328125 | 0.323638916016\n",
      "17 | 0.323562622070 | 0.323638916016\n",
      "18 | 0.323562622070 | 0.323600769043\n",
      "19 | 0.323562622070 | 0.323581695557\n",
      "20 | 0.323562622070 | 0.323572158813\n",
      "21 | 0.323562622070 | 0.323567390442\n",
      "22 | 0.323562622070 | 0.323565006256\n",
      "23 | 0.323563814163 | 0.323565006256\n",
      "24 | 0.323564410210 | 0.323565006256\n",
      "25 | 0.323564708233 | 0.323565006256\n",
      "26 | 0.323564857244 | 0.323565006256\n",
      "27 | 0.323564931750 | 0.323565006256\n",
      "28 | 0.323564931750 | 0.323564969003\n",
      "29 | 0.323564950377 | 0.323564969003\n",
      "30 | 0.323564950377 | 0.323564959690\n",
      "31 | 0.323564955033 | 0.323564959690\n",
      "32 | 0.323564955033 | 0.323564957362\n",
      "33 | 0.323564956198 | 0.323564957362\n",
      "34 | 0.323564956198 | 0.323564956780\n",
      "35 | 0.323564956198 | 0.323564956489\n",
      "36 | 0.323564956198 | 0.323564956343\n"
     ]
    },
    {
     "data": {
      "text/plain": [
       "0.3235649563066545"
      ]
     },
     "execution_count": 8,
     "metadata": {},
     "output_type": "execute_result"
    }
   ],
   "source": [
    "a = 0\n",
    "b = 5\n",
    "\n",
    "def f(x):\n",
    "    return x - np.exp(-x) + 0.4\n",
    "    \n",
    "def binarySearch(f, a, b, tolerance=1e-10):\n",
    "\n",
    "    x1 = a\n",
    "    x2 = b\n",
    "\n",
    "    print(\"{:2} | {:14} | {:14}\".format(\"n\", \"x1\", \"x2\")) \n",
    "    \n",
    "    n = 0\n",
    "    while x2-x1>tolerance:\n",
    "        n += 1\n",
    "        \n",
    "        print(\"{:2} | {:.12f} | {:.12f}\".format(n,x1,x2))\n",
    "        \n",
    "        midpoint = .5*(x1+x2)\n",
    "        f1,f2,fm = f(x1), f(x2), f(midpoint)\n",
    "        \n",
    "        if f1*f2 > 0:\n",
    "            print(\"ERROR: Even number of roots within interval {}-{}\".format(x1,x2))\n",
    "            return None\n",
    "    \n",
    "        if   f1*fm < 0: x2 = midpoint\n",
    "        elif f2*fm < 0: x1 = midpoint\n",
    "        \n",
    "    return .5*(x1+x2) \n",
    "        \n",
    "binarySearch(f, a, b)"
   ]
  },
  {
   "cell_type": "markdown",
   "metadata": {},
   "source": [
    "However, the binary search method is not without disadvantages.  Let's also try to find solutions to the equation $x^2-2x+1 = 0$."
   ]
  },
  {
   "cell_type": "code",
   "execution_count": 9,
   "metadata": {
    "tags": []
   },
   "outputs": [
    {
     "name": "stdout",
     "output_type": "stream",
     "text": [
      "n  | x1             | x2            \n",
      " 1 | 0.000000000000 | 5.000000000000\n",
      "ERROR: Even number of roots within interval 0-5\n"
     ]
    }
   ],
   "source": [
    "def f(x):\n",
    "    return x*x - 2*x + 1\n",
    "\n",
    "binarySearch(f, a, b)"
   ]
  },
  {
   "cell_type": "markdown",
   "metadata": {},
   "source": [
    "Here, the binary search method fails.  Let's plot the function to understand this."
   ]
  },
  {
   "cell_type": "code",
   "execution_count": 10,
   "metadata": {
    "tags": []
   },
   "outputs": [
    {
     "data": {
      "text/plain": [
       "<matplotlib.legend.Legend at 0x7fafe0a19350>"
      ]
     },
     "execution_count": 10,
     "metadata": {},
     "output_type": "execute_result"
    },
    {
     "data": {
      "image/png": "[encoded data removed]",
      "text/plain": [
       "<Figure size 640x480 with 1 Axes>"
      ]
     },
     "metadata": {},
     "output_type": "display_data"
    }
   ],
   "source": [
    "x = np.linspace(0, 5, 1000)\n",
    "\n",
    "plt.figure()\n",
    "\n",
    "plt.plot(x,f(x),label=\"f(x)\")\n",
    "\n",
    "plt.plot([0,5],[0,0])\n",
    "plt.legend()"
   ]
  },
  {
   "cell_type": "markdown",
   "metadata": {},
   "source": [
    "In this particular case, we have a double root at $x=1$, so the function doesn't cross zero (it merely touches it).  But the binary search begins by evaluating $f(a)$ and $f(b)$, which have the same sign.  So we can't use the binary seach to find the root of this function.\n",
    "\n",
    "## Newton-Raphson method\n",
    "\n",
    "The Newton-Raphson (NR) method is another option for solving non-linear equations.  Like the binary search method, we begin by rearranging the given equation into the form $f(x)=0$, and then we proceed to find the roots of $f(x)$.  Like the relaxation method, we try to guess a solution, then iteratively refine our guess until we (hopefully) converge at a solution.  However, in the NR method, we make use of the slope of the function to improve our estimate of the solution.\n",
    "\n",
    "<center>\n",
    "<div>\n",
    "    <img src=\"../Images/fig6-6.png\" width=\"500\"/>\n",
    "</div>\n",
    "</center>\n",
    "\n",
    "After rearanging our equation into the form $f(x)=0$, we guess a particular value $x$ and evaluate $f(x)$.  If this evaluates to zero (within some tolerance), we have a solution.  \n",
    "\n",
    "If not, we calculate the derivative $f^{\\prime}(x)=\\frac{f(x)}{\\Delta x}$.  We then approximate $f(x)$ as a linear function with this slope, and extrapolate to the point $x^{\\prime}=x-\\Delta x=x-\\frac{f(x)}{f^{\\prime}(x)}$, which becomes our new guess, and repeat until we obtain convergence.  Of course, this requires knowledge of $f^{\\prime}(x)$.\n",
    "\n",
    "---------------\n",
    "\n",
    "Let's apply this technique to calculate the roots of $x^2-2x+1 = 0$."
   ]
  },
  {
   "cell_type": "code",
   "execution_count": 11,
   "metadata": {
    "tags": []
   },
   "outputs": [
    {
     "name": "stdout",
     "output_type": "stream",
     "text": [
      "n  | x              | xPrime        \n",
      " 1 | 0.000000000000 | 0.500000000000\n",
      " 2 | 0.500000000000 | 0.750000000000\n",
      " 3 | 0.750000000000 | 0.875000000000\n",
      " 4 | 0.875000000000 | 0.937500000000\n",
      " 5 | 0.937500000000 | 0.968750000000\n",
      " 6 | 0.968750000000 | 0.984375000000\n",
      " 7 | 0.984375000000 | 0.992187500000\n",
      " 8 | 0.992187500000 | 0.996093750000\n",
      " 9 | 0.996093750000 | 0.998046875000\n",
      "10 | 0.998046875000 | 0.999023437500\n",
      "11 | 0.999023437500 | 0.999511718750\n",
      "12 | 0.999511718750 | 0.999755859375\n",
      "13 | 0.999755859375 | 0.999877929688\n",
      "14 | 0.999877929688 | 0.999938964844\n",
      "15 | 0.999938964844 | 0.999969482422\n",
      "16 | 0.999969482422 | 0.999984741211\n",
      "17 | 0.999984741211 | 0.999992370605\n",
      "18 | 0.999992370605 | 0.999996185303\n",
      "19 | 0.999996185303 | 0.999998092651\n",
      "20 | 0.999998092651 | 0.999999046326\n",
      "21 | 0.999999046326 | 0.999999523163\n",
      "22 | 0.999999523163 | 0.999999761581\n",
      "23 | 0.999999761581 | 0.999999880791\n",
      "24 | 0.999999880791 | 0.999999940395\n",
      "25 | 0.999999940395 | 0.999999970198\n",
      "26 | 0.999999970198 | 0.999999985099\n",
      "27 | 0.999999985099 | 0.999999992549\n",
      "28 | 0.999999992549 | 0.999999992549\n"
     ]
    },
    {
     "data": {
      "image/png": "[encoded data removed]",
      "text/plain": [
       "<Figure size 640x480 with 1 Axes>"
      ]
     },
     "metadata": {},
     "output_type": "display_data"
    }
   ],
   "source": [
    "guess = 0.0   #initial guess\n",
    "\n",
    "def f(x):\n",
    "    return x*x - 2*x + 1\n",
    "\n",
    "def fPrime(x):\n",
    "    return 2*x - 2\n",
    "\n",
    "def newtonRaphson(f, fPrime, guess, xMin, xMax, tolerance=1e-10, maxTries=40):\n",
    "    x = guess\n",
    "\n",
    "    print(\"{:2} | {:14} | {:14}\".format(\"n\", \"x\", \"xPrime\")) \n",
    "\n",
    "    ##################################################################################\n",
    "    #Plotting\n",
    "    xValues = np.linspace(xMin, xMax, 1000)\n",
    "    plt.plot(xValues,f(xValues))\n",
    "    plt.axvline(0, color='black')\n",
    "    plt.axhline(0, color='black')\n",
    "    ##################################################################################\n",
    "\n",
    "    n = 0\n",
    "    while n<maxTries:\n",
    "        n += 1\n",
    "\n",
    "        xPrime = x - f(x)/fPrime(x)\n",
    "        print(\"{:2} | {:.12f} | {:.12f}\".format(n,x,xPrime))\n",
    "        ##################################################################################\n",
    "        #Plotting   \n",
    "        plt.plot([x], [f(x)],\"ok\")\n",
    "        plt.plot([x,xPrime], [f(x),0], \"k-\")\n",
    "        plt.plot([xPrime,xPrime],[0,f(xPrime)], \"k:\")\n",
    "        ##################################################################################\n",
    "        \n",
    "        if abs(x-xPrime) < tolerance: break   #break out of the loop upon convergence\n",
    "        x = xPrime   #update to new guess\n",
    "           \n",
    "newtonRaphson(f, fPrime, guess, -0.1, 1.5)"
   ]
  },
  {
   "cell_type": "markdown",
   "metadata": {},
   "source": [
    "Using the NR method, we are able to find the root at $x=1$.\n",
    "\n",
    "Let's apply the same method to calculate the roots of $x^3-2x-2$."
   ]
  },
  {
   "cell_type": "code",
   "execution_count": 12,
   "metadata": {},
   "outputs": [
    {
     "name": "stdout",
     "output_type": "stream",
     "text": [
      "n  | x              | xPrime        \n",
      " 1 | 0.000000000000 | -1.000000000000\n",
      " 2 | -1.000000000000 | 0.000000000000\n",
      " 3 | 0.000000000000 | -1.000000000000\n",
      " 4 | -1.000000000000 | 0.000000000000\n",
      " 5 | 0.000000000000 | -1.000000000000\n",
      " 6 | -1.000000000000 | 0.000000000000\n",
      " 7 | 0.000000000000 | -1.000000000000\n",
      " 8 | -1.000000000000 | 0.000000000000\n",
      " 9 | 0.000000000000 | -1.000000000000\n",
      "10 | -1.000000000000 | 0.000000000000\n",
      "11 | 0.000000000000 | -1.000000000000\n",
      "12 | -1.000000000000 | 0.000000000000\n",
      "13 | 0.000000000000 | -1.000000000000\n",
      "14 | -1.000000000000 | 0.000000000000\n",
      "15 | 0.000000000000 | -1.000000000000\n",
      "16 | -1.000000000000 | 0.000000000000\n",
      "17 | 0.000000000000 | -1.000000000000\n",
      "18 | -1.000000000000 | 0.000000000000\n",
      "19 | 0.000000000000 | -1.000000000000\n",
      "20 | -1.000000000000 | 0.000000000000\n",
      "21 | 0.000000000000 | -1.000000000000\n",
      "22 | -1.000000000000 | 0.000000000000\n",
      "23 | 0.000000000000 | -1.000000000000\n",
      "24 | -1.000000000000 | 0.000000000000\n",
      "25 | 0.000000000000 | -1.000000000000\n",
      "26 | -1.000000000000 | 0.000000000000\n",
      "27 | 0.000000000000 | -1.000000000000\n",
      "28 | -1.000000000000 | 0.000000000000\n",
      "29 | 0.000000000000 | -1.000000000000\n",
      "30 | -1.000000000000 | 0.000000000000\n",
      "31 | 0.000000000000 | -1.000000000000\n",
      "32 | -1.000000000000 | 0.000000000000\n",
      "33 | 0.000000000000 | -1.000000000000\n",
      "34 | -1.000000000000 | 0.000000000000\n",
      "35 | 0.000000000000 | -1.000000000000\n",
      "36 | -1.000000000000 | 0.000000000000\n",
      "37 | 0.000000000000 | -1.000000000000\n",
      "38 | -1.000000000000 | 0.000000000000\n",
      "39 | 0.000000000000 | -1.000000000000\n",
      "40 | -1.000000000000 | 0.000000000000\n"
     ]
    },
    {
     "data": {
      "image/png": "[encoded data removed]",
      "text/plain": [
       "<Figure size 640x480 with 1 Axes>"
      ]
     },
     "metadata": {},
     "output_type": "display_data"
    }
   ],
   "source": [
    "def f(x):\n",
    "    return x*x*x - 2*x - 2\n",
    "\n",
    "def fPrime(x):\n",
    "    return 3*x*x - 2\n",
    "        \n",
    "newtonRaphson(f, fPrime, guess, -1.5, 2)"
   ]
  },
  {
   "cell_type": "markdown",
   "metadata": {},
   "source": [
    "Here we see that the NR method is also susceptible to oscillation and doesn't always find the root.  Sometimes, the solution is as simple as trying a different initial guess."
   ]
  },
  {
   "cell_type": "code",
   "execution_count": 13,
   "metadata": {
    "tags": []
   },
   "outputs": [
    {
     "name": "stdout",
     "output_type": "stream",
     "text": [
      "n  | x              | xPrime        \n",
      " 1 | 1.000000000000 | 4.000000000000\n",
      " 2 | 4.000000000000 | 2.826086956522\n",
      " 3 | 2.826086956522 | 2.146719013739\n",
      " 4 | 2.146719013739 | 1.842326277140\n",
      " 5 | 1.842326277140 | 1.772847636439\n",
      " 6 | 1.772847636439 | 1.769301397436\n",
      " 7 | 1.769301397436 | 1.769292354297\n",
      " 8 | 1.769292354297 | 1.769292354239\n"
     ]
    },
    {
     "data": {
      "image/png": "[encoded data removed]",
      "text/plain": [
       "<Figure size 640x480 with 1 Axes>"
      ]
     },
     "metadata": {},
     "output_type": "display_data"
    }
   ],
   "source": [
    "guess = 1\n",
    "\n",
    "newtonRaphson(f, fPrime, guess, -1.5, 4)"
   ]
  },
  {
   "cell_type": "markdown",
   "metadata": {
    "jp-MarkdownHeadingCollapsed": true,
    "tags": []
   },
   "source": [
    "### Secant method\n",
    "\n",
    "The NR method requires that we know the derivative of the function whose roots we seek.  If we don't have the analytical form of the derivative, we can resort to numerical techniques.\n",
    "\n",
    "A common method involving numerical derivatives is the secant method.  The method makes use of the calculated values of $f(x)$ for two sequential iterations to approximate the slope of the function, and extrapolates to obtain a new guess using this value.\n",
    "\n",
    "The secant method has similar advantages and disadvanatges as the NR method."
   ]
  },
  {
   "cell_type": "markdown",
   "metadata": {},
   "source": [
    "## Exercise\n",
    "\n",
    "The biochemical process of glycolysis (the breakdown of glucose in the body to release energy) can be modeled by the equations:\n",
    "\n",
    "\\begin{align}\n",
    "\\frac{dx}{dt}&=-x +ay+x^2y\\\\\n",
    "\\frac{dy}{dt}&=b-ay-x^2 y\n",
    "\\end{align}\n",
    "\n",
    "Here $x$ and $y$ represent the concentrations of ADP and F6P, and $a$ and $b$ are positive constants.\n",
    "\n",
    "We wish to find the \"stationary points\" of these equations, meaning the values of $x$ and $y$ for which the derivatives of both variables become zero, so that the concentrations of $x$ and $y$ both become consant in time.  In other words, we wish to solve the system of equations:\n",
    "\n",
    "\\begin{align}\n",
    "0&=-x +ay+x^2y\\\\\n",
    "0&=b-ay-x^2 y\n",
    "\\end{align}\n",
    "\n",
    "Write a program which uses the relaxation method to solve these simultaneously to find the stationary point for $x$ and $y$ with $a=1$ and $b=2$. "
   ]
  },
  {
   "cell_type": "code",
   "execution_count": null,
   "metadata": {
    "tags": []
   },
   "outputs": [],
   "source": []
  },
  {
   "cell_type": "markdown",
   "metadata": {},
   "source": [
    "<details>\n",
    "    <summary style=\"display:list-item\">Click for hint</summary>\n",
    "\n",
    "First, we must rearrange the equations into the form $x=f_1(x,y)$ and $y=f_2(x,y)$.  One way to do so is:\n",
    "\\begin{align}\n",
    "    x &= ay+x^2y\\\\\n",
    "    y &= \\frac{b}{(a + x^2)}\n",
    "\\end{align}\n",
    "    \n",
    "However, in this form, the relaxation method fails to converge.  Instead, try solving the first (second) equation for y (x).    \n",
    "</details>"
   ]
  },
  {
   "cell_type": "markdown",
   "metadata": {},
   "source": [
    "<details>\n",
    "    <summary style=\"display:list-item\">Click for solution</summary>\n",
    "\n",
    "First, we rearrange the equations into the form $x=f_1(x,y)$ and $y=f_2(x,y)$.  One way to do so is:\n",
    "\\begin{align}\n",
    "    x &= \\sqrt{\\frac{b-ay}{y}}\\\\\n",
    "    y &= \\frac{x}{(a + x^2)}\n",
    "\\end{align}\n",
    "    \n",
    "In this form, the relaxation method takes the form:\n",
    "    \n",
    "```python\n",
    "a = 1\n",
    "b = 2\n",
    "\n",
    "def f1(x,y):\n",
    "    return math.sqrt((b-a*y)/y)\n",
    "\n",
    "def f2(x, y):\n",
    "    return x/(a + x*x)\n",
    "\n",
    "relaxation2(f1, f2, 1, 1)\n",
    "```\n",
    "<br> \n",
    "And we find the fixed points are $x=2$ and $y=0.4$.\n",
    "    \n",
    "</details>"
   ]
  },
  {
   "cell_type": "markdown",
   "metadata": {},
   "source": [
    "## Minima and maxima\n",
    "\n",
    "The methods to find minima of a function are somewhat similar to the methods for finding roots.  We will focus on finding minima; finding the maxima of $f(x)$ is equivalent to finding the minima of $-f(x)$, so they are really the same problem.\n",
    "\n",
    "<center>\n",
    "<div>\n",
    "    <img src=\"../Images/fig6-8.png\" width=\"500\"/>\n",
    "</div>\n",
    "</center>\n",
    "\n",
    "A function can have several minima, in which case we distinguish between \"local\" (smaller than elsewhere in the vicinity) and \"global\" minima (smaller than anywhere else).  Both local and global minima are interesting in different physics contexts.  \n",
    "\n",
    "### Brute force\n",
    "\n",
    "The most straightforward numerical approach to finding minima follows closely the method for analytically finding minima.  Assuming we have the analytical form of a function $f(x)$, we can find its minima by requiring the derivative to equal zero.  Whether this constraint results in a linear or non-linear equation, we have learned techniques to solve it.\n",
    "\n",
    "### Golden ratio method\n",
    "\n",
    "If the function $f(x)$ is not specified analytically, the golden ratio method is useful.  It is capable of finding both local and global minima, but can't distinguish between them.\n",
    "\n",
    "The golden ratio method is closely related to the binary search method.  In the binary search method for finding roots, we choose two exterior points and a third interior point.  By comparing the sign of the function evaluated at each of these three points, we are able to narrow down the region in which the root lies.  We then repeat this iterative process until the search interval becomes sufficiently small.\n",
    "\n",
    "The golden ratio method for finding minima relies on a similar strategy, utilizing four points $x_{0\\textrm{-}3}$.\n",
    "\n",
    "<center>\n",
    "<div>\n",
    "    <img src=\"../Images/fig6-9.png\" width=\"500\"/>\n",
    "</div>\n",
    "</center>\n",
    "\n",
    "We begin by evaluating $f(x)$ at each of these points.  If the value $f(x_i)$ for either of the interior points ($i=1,2$) is less than the value for both exterior points ($i=0,3$), then we know there must be a minimum somewhere within the interval (assuming the function is continuous).  \n",
    "\n",
    "We then narrow down our search region by comparing $f(x_1)$ and $f(x_2)$.  If there is a single minimum in the search region, and $f(x_1)$ is smaller than $f(x_2)$, then we can conclude that the minimum must lie somewhere between $x_0$ and $x_2$.  We disregard $x_3$ and consider a new interior point somewhere in the region $x_0$-$x_2$.  If instead $f(x_1)$ is larger than $f(x_2)$, then we can conclude that the minimum must lie somewhere between $x_1$ and $x_3$.  We disregard $x_0$ and consider a new interior point somewhere in the region $x_1$-$x_3$.\n",
    "\n",
    "We repeat this process many times until the search region becomes sufficiently small, at which point we take the center of the region to be our solution.\n",
    "\n",
    "---------------\n",
    "\n",
    "In order to make the method as efficient as possible, we minimize the number of times we evaluate $f(x)$ by reusing both interior points on subsequent iterations (one remains an interior point, the other becomes an exterior point).  We also carefully choose the position of the interior points.  Since there is no reason to believe that the minimum is more likely to fall in the left half of our interval or the right half, we assign the interior points symmetrically about the center. \n",
    "\n",
    "If we put both interior points near the midpoint of the interval, we can reject almost half of the interval in one iteration.  However, the next iteration will exclude a very small region. \n",
    "\n",
    "<center>\n",
    "<div>\n",
    "    <img src=\"../Images/goldenRatio1.png\" width=\"500\"/>\n",
    "</div>\n",
    "</center>\n",
    "\n",
    "If we instead put both interior points near the exterior points, we will again only be able to exclude a small region.  \n",
    "\n",
    "<center>\n",
    "<div>\n",
    "    <img src=\"../Images/goldenRatio2.png\" width=\"500\"/>\n",
    "</div>\n",
    "</center>\n",
    "\n",
    "As derived in the textbook, there is a happy medium that is related to the golden ratio $r_g=\\frac{1+\\sqrt{5}}{2}$.  In short, the interior points should be a distance $\\frac{x_3-x_0}{r_g}$ away from the exterior points. "
   ]
  },
  {
   "cell_type": "code",
   "execution_count": 14,
   "metadata": {
    "tags": []
   },
   "outputs": [
    {
     "name": "stdout",
     "output_type": "stream",
     "text": [
      "[0.         1.90983006 3.09016994 5.        ]\n",
      "[0.         1.18033989 1.90983006 3.09016994]\n",
      "[0.         0.72949017 1.18033989 1.90983006]\n",
      "[0.72949017 1.18033989 1.45898034 1.90983006]\n",
      "[0.72949017 1.00813062 1.18033989 1.45898034]\n",
      "[0.72949017 0.90169944 1.00813062 1.18033989]\n",
      "[0.90169944 1.00813062 1.07390871 1.18033989]\n",
      "[0.90169944 0.96747752 1.00813062 1.07390871]\n",
      "[0.96747752 1.00813062 1.03325561 1.07390871]\n",
      "[0.96747752 0.99260252 1.00813062 1.03325561]\n",
      "[0.96747752 0.98300563 0.99260252 1.00813062]\n",
      "[0.98300563 0.99260252 0.99853373 1.00813062]\n",
      "[0.99260252 0.99853373 1.00219941 1.00813062]\n",
      "[0.99260252 0.99626821 0.99853373 1.00219941]\n",
      "[0.99626821 0.99853373 0.99993389 1.00219941]\n",
      "[0.99853373 0.99993389 1.00079924 1.00219941]\n",
      "[0.99853373 0.99939908 0.99993389 1.00079924]\n",
      "[0.99939908 0.99993389 1.00026443 1.00079924]\n",
      "[0.99939908 0.99972961 0.99993389 1.00026443]\n",
      "[0.99972961 0.99993389 1.00006015 1.00026443]\n",
      "[0.99993389 1.00006015 1.00013817 1.00026443]\n",
      "[0.99993389 1.00001192 1.00006015 1.00013817]\n",
      "[0.99993389 0.99998212 1.00001192 1.00006015]\n",
      "[0.99998212 1.00001192 1.00003034 1.00006015]\n",
      "[0.99998212 1.00000054 1.00001192 1.00003034]\n",
      "[0.99998212 0.9999935  1.00000054 1.00001192]\n",
      "[0.9999935  1.00000054 1.00000489 1.00001192]\n",
      "[0.9999935  0.99999785 1.00000054 1.00000489]\n",
      "[0.99999785 1.00000054 1.0000022  1.00000489]\n",
      "[0.99999785 0.99999951 1.00000054 1.0000022 ]\n",
      "[0.99999785 0.99999888 0.99999951 1.00000054]\n",
      "[0.99999888 0.99999951 0.9999999  1.00000054]\n",
      "[0.99999951 0.9999999  1.00000015 1.00000054]\n",
      "[0.99999951 0.99999975 0.9999999  1.00000015]\n",
      "[0.99999975 0.9999999  1.         1.00000015]\n",
      "[0.9999999  1.         1.00000005 1.00000015]\n",
      "[0.9999999  0.99999996 1.         1.00000005]\n",
      "[0.99999996 1.         1.00000002 1.00000005]\n",
      "[0.99999996 0.99999998 1.         1.00000002]\n",
      "[0.99999998 1.         1.         1.00000002]\n",
      "[1.         1.         1.00000001 1.00000002]\n",
      "[1.         1.         1.         1.00000001]\n",
      "[1. 1. 1. 1.]\n",
      "[1. 1. 1. 1.]\n",
      "[1. 1. 1. 1.]\n",
      "[1. 1. 1. 1.]\n",
      "[1. 1. 1. 1.]\n",
      "[1. 1. 1. 1.]\n",
      "[1. 1. 1. 1.]\n",
      "[1. 1. 1. 1.]\n",
      "[1. 1. 1. 1.]\n",
      "[1. 1. 1. 1.]\n",
      "\n",
      "Minimum at x = 1.000000000001602\n"
     ]
    }
   ],
   "source": [
    "def f(x): \n",
    "    return (x-1)**2\n",
    "\n",
    "def goldenRatio(f, a, b, tolerance=1e-10):\n",
    "    \n",
    "    rG = (1 + math.sqrt(5))/2   #golden ratio\n",
    "\n",
    "    #calculate initial x values and corresponding values f(x)\n",
    "    x = np.array([a, b - (1/rG)*(b-a), a + (1/rG)*(b-a), b], float)\n",
    "    fx = np.array(list(map(f, x)), float)\n",
    "    \n",
    "    #make sure that either f(x1) or f(x2) is less than both f(x0) and f(x3) - otherwise no minimum\n",
    "    if not ( (fx[1]<fx[0] and fx[1]<fx[3]) or (fx[2]<fx[0] and fx[2]<fx[3]) ): print(\"ERROR: no minimum in range ({} - {})\".format(x[0],x[-1]))\n",
    "    \n",
    "    #iterate as long as interval is wider than tolerance\n",
    "    while x[-1] - x[0] > tolerance:\n",
    "        \n",
    "        print(x)\n",
    "    \n",
    "        if fx[1]<fx[2]:\n",
    "            x[3]  = x[2]   #update x3 to x2\n",
    "            fx[3] = fx[2]\n",
    "            \n",
    "            x[2]  = x[1]   #update x2 to x1\n",
    "            fx[2] = fx[1]\n",
    "            \n",
    "            x[1]  = x[3] - (1/rG)*(x[3]-x[0])   #calculate new interior point\n",
    "            fx[1] = f(x[1])                     #calculate f(x) for the new interior point\n",
    "        else:\n",
    "            x[0]  = x[1]   #update x0 to x1\n",
    "            fx[0] = fx[1]\n",
    "            \n",
    "            x[1]  = x[2]   #update x1 to x2\n",
    "            fx[1] = fx[2]\n",
    "\n",
    "            x[2]  = x[0] + (1/rG)*(x[3]-x[0])   #calculate new interior point\n",
    "            fx[2] = f(x[2])                     #calculate f(x) for the new interior point\n",
    "            \n",
    "    print(\"\\nMinimum at x =\",(x[0] + x[-1])/2)   #take the midpoint of the interval as the minimum\n",
    "    \n",
    "goldenRatio(f, 0, 5)"
   ]
  }
 ],
 "metadata": {
  "kernelspec": {
   "display_name": "Python 3 (ipykernel)",
   "language": "python",
   "name": "python3"
  },
  "language_info": {
   "codemirror_mode": {
    "name": "ipython",
    "version": 3
   },
   "file_extension": ".py",
   "mimetype": "text/x-python",
   "name": "python",
   "nbconvert_exporter": "python",
   "pygments_lexer": "ipython3",
   "version": "3.7.12"
  }
 },
 "nbformat": 4,
 "nbformat_minor": 4
}
