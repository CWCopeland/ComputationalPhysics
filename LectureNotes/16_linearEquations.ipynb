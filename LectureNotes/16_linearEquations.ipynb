{
 "cells": [
  {
   "cell_type": "markdown",
   "metadata": {
    "id": "4fDfeISfub0a"
   },
   "source": [
    "# Solving linear equations\n",
    "\n",
    "$\\newcommand{\\A}{\\mathbf{A}}$\n",
    "$\\newcommand{\\B}{\\mathbf{B}}$\n",
    "$\\newcommand{\\C}{\\mathbf{C}}$\n",
    "$\\newcommand{\\D}{\\mathbf{D}}$\n",
    "$\\newcommand{\\x}{\\mathbf{x}}$\n",
    "$\\newcommand{\\v}{\\mathbf{v}}$\n",
    "$\\newcommand{\\L}{\\mathbf{L}}$\n",
    "$\\newcommand{\\U}{\\mathbf{U}}$\n",
    "$\\newcommand{\\V}{\\mathbf{V}}$\n",
    "$\\newcommand{\\Q}{\\mathbf{Q}}$\n",
    "$\\newcommand{\\R}{\\mathbf{R}}$\n",
    "$\\newcommand{\\Lzero}{\\mathbf{L_0}}$\n",
    "$\\newcommand{\\Lone}{\\mathbf{L_1}}$\n",
    "$\\newcommand{\\Ltwo}{\\mathbf{L_2}}$\n",
    "\n",
    "In physics, we often encounter systems of linear equations, such as\n",
    "\\begin{align}\n",
    "    2x+3y &= 8\\\\\n",
    "    8x-2y &= 4.\n",
    "\\end{align}\n",
    "\n",
    "## Gaussian elimination\n",
    "\n",
    "One approach to solving this system of equations is to multiply both sides of the first equation by -4, to obtain $-8x-12y = -32$.  If we add this to the second equation, the factors involving $x$ conveniently cancel one another and we are left with an equation depending only on $y$ ($-14y = -28$), which can be solved trivially to yield $y=2$.  Finally, we can plug this relation into either of the original two equations to solve and determine that $x=1$. \n",
    "\n",
    "To solve such systems of equations numerically, we can use a similar technique known as \"Gaussian elimination.\"  Let's investigate this in the context of a system of three equations with three unknowns:\n",
    "\\begin{align}\n",
    "    2x-2y+2z &= 16\\\\\n",
    "    2x+3y-z &= -2\\\\\n",
    "    3x-2y-9z &= 9.\n",
    "\\end{align}\n",
    "  This system of equations can be represented in matrix form as\n",
    "\\begin{equation}\n",
    "    \\begin{pmatrix}\n",
    "        2 & -2 & 2\\\\\n",
    "        2 &  3 & -1\\\\\n",
    "        3 &  -2 & -9\n",
    "    \\end{pmatrix}\\begin{pmatrix}\n",
    "        x\\\\y\\\\z\n",
    "    \\end{pmatrix} = \\begin{pmatrix}\n",
    "        16\\\\-2\\\\9\n",
    "    \\end{pmatrix}.\n",
    "\\end{equation}\n",
    "Or, more simply, as $\\A \\x=\\v$, where\n",
    "\\begin{equation}\n",
    "    \\A=\\begin{pmatrix}\n",
    "        2 & -2 & 2\\\\\n",
    "        2 &  3 & -1\\\\\n",
    "        3 &  -2 & -9\n",
    "    \\end{pmatrix},~ \n",
    "    \\x=\\begin{pmatrix}\n",
    "        x \\\\ y \\\\ z\n",
    "    \\end{pmatrix},~\\mathrm{and}~\n",
    "    \\v=\\begin{pmatrix}\n",
    "    16\\\\-2\\\\9\n",
    "    \\end{pmatrix}.\n",
    "\\end{equation}\n",
    "To aide the discussion, let's label the entries of $\\A$ by their row and column indices:\n",
    "\\begin{equation}\n",
    "    \\A=\\begin{pmatrix}\n",
    "            a_{0,0} & a_{0,1} & a_{0,2}\\\\\n",
    "            a_{1,0} & a_{1,1} & a_{1,2}\\\\\n",
    "            a_{2,0} & a_{2,1} & a_{2,2}\\\\\n",
    "    \\end{pmatrix}\n",
    "\\end{equation}\n",
    "\n",
    "------------------------------\n",
    "    \n",
    "Gaussian elimination involves two repeated operations:\n",
    " 1. Multiplication of the rows of the matrices $\\A$ and $\\v$ by a constant\n",
    " 2. Subtraction of one row of these matrices from another\n",
    " \n",
    "Using this procedure, just as above, we eventually arrive at an equation involving only a single variable which is trivial to solve.  By \"backward substituting\" this value, we can obtain the value of other variables.\n",
    "        \n",
    "Gaussian elimination begins by dividing the first row of matrices $\\A$ and $\\v$ by $a_{0,0}$, yielding: \n",
    "\\begin{equation}\n",
    "    \\begin{pmatrix}\n",
    "        1 & -1 & 1\\\\\n",
    "        2 &  3 & -1\\\\\n",
    "        3 &  -2 & -9\n",
    "    \\end{pmatrix}\\begin{pmatrix}\n",
    "        x\\\\y\\\\z\n",
    "    \\end{pmatrix} = \\begin{pmatrix}\n",
    "        8\\\\-2\\\\9\n",
    "    \\end{pmatrix}.\n",
    "\\end{equation}\n",
    "\n",
    "Next, for each of the lower rows $i$, we subtract $a_{i,0}$ times the first row, so that the first element in each of these rows becomes zero.  In this case, we subtract 2 (3) times the first row from the second (third) row, yielding:\n",
    "\\begin{equation}\n",
    "    \\begin{pmatrix}\n",
    "        1 & -1  & 1\\\\\n",
    "        0 &  5 & -3\\\\\n",
    "        0 &  1 & -12\n",
    "    \\end{pmatrix}\\begin{pmatrix}\n",
    "        x\\\\y\\\\z\n",
    "    \\end{pmatrix} = \\begin{pmatrix}\n",
    "        8\\\\-18\\\\-15\n",
    "    \\end{pmatrix}.\n",
    "\\end{equation}\n",
    "\n",
    "Next, we move down one row and right one column, and repeat this process.  We divide the second row of matrices $\\A$ and $\\v$ by $a_{1,1}$, yielding: \n",
    "\\begin{equation}\n",
    "    \\begin{pmatrix}\n",
    "        1 & -1  & 1\\\\\n",
    "        0 &  1 & -3/5\\\\\n",
    "        0 &  1 & -12\n",
    "    \\end{pmatrix}\\begin{pmatrix}\n",
    "        x\\\\y\\\\z\n",
    "    \\end{pmatrix} = \\begin{pmatrix}\n",
    "        8\\\\-18/5\\\\-15\n",
    "    \\end{pmatrix}.\n",
    "\\end{equation}\n",
    "\n",
    "For each of the lower rows $i$ (in this case, just the bottom row with $i=2$), we subtract $a_{i,1}$ times the second row, so that the second element in each of these rows becomes zero.  \n",
    "\\begin{equation}\n",
    "    \\begin{pmatrix}\n",
    "        1 & -1  & 1\\\\\n",
    "        0 &  1 & -3/5\\\\\n",
    "        0 &  0 & -57/5\n",
    "    \\end{pmatrix}\\begin{pmatrix}\n",
    "        x\\\\y\\\\z\n",
    "    \\end{pmatrix} = \\begin{pmatrix}\n",
    "        8\\\\-18/5\\\\-57/5\n",
    "    \\end{pmatrix}.\n",
    "\\end{equation}\n",
    "For the 3x3 matrix here, we are done.  For larger arrays, we continue with this process until we have an array with entries only in the upper triangle.\n",
    "\n",
    "The third row of this matrix equation tells us that $\\frac{-57}{5}z=\\frac{-57}{5}$, or $z=1$.  \n",
    "\n",
    "The second row tells us that $y-\\frac{3}{5}z=-\\frac{18}{5}$.  After backward substituting $z=1$, this becomes $y-\\frac{3}{5}=-\\frac{18}{5}$, or $y=-3$.\n",
    "\n",
    "The first row tells us that $x-y+z=8$.  After backward substituting $y=-3$ and $z=1$, this becomes $x-(-3)+1=8$, or $x=4$.\n",
    "\n",
    "Thus, we have fully solved the system of equations.\n",
    "\n",
    "-------------------------------------------------------\n",
    "\n",
    "Now, let's implment this algorithm using numpy."
   ]
  },
  {
   "cell_type": "code",
   "execution_count": 1,
   "metadata": {
    "colab": {
     "base_uri": "https://localhost:8080/"
    },
    "id": "tMovnflStcbA",
    "outputId": "e368396d-4470-4a8b-8fe7-efb1b5497384",
    "tags": []
   },
   "outputs": [
    {
     "name": "stdout",
     "output_type": "stream",
     "text": [
      "ORIGINAL ARRAYS:\n",
      "\n",
      "A:\n",
      "[[ 2. -2.  2.]\n",
      " [ 2.  3. -1.]\n",
      " [ 3. -2. -9.]]\n",
      "v:\n",
      "[16. -2.  9.]\n",
      "\n",
      "DIVIDE ROW 0 BY A[0,0] = 2.0:\n",
      "\n",
      "A:\n",
      "[[ 1. -1.  1.]\n",
      " [ 2.  3. -1.]\n",
      " [ 3. -2. -9.]]\n",
      "v:\n",
      "[ 8. -2.  9.]\n",
      "\n",
      "SUBTRACT A[1,0] = 2.0 TIMES ROW 0 FROM ROW 1:\n",
      "\n",
      "A:\n",
      "[[ 1. -1.  1.]\n",
      " [ 0.  5. -3.]\n",
      " [ 3. -2. -9.]]\n",
      "v:\n",
      "[  8. -18.   9.]\n",
      "\n",
      "SUBTRACT A[2,0] = 3.0 TIMES ROW 0 FROM ROW 2:\n",
      "\n",
      "A:\n",
      "[[  1.  -1.   1.]\n",
      " [  0.   5.  -3.]\n",
      " [  0.   1. -12.]]\n",
      "v:\n",
      "[  8. -18. -15.]\n",
      "\n",
      "DIVIDE ROW 1 BY A[1,1] = 5.0:\n",
      "\n",
      "A:\n",
      "[[  1.   -1.    1. ]\n",
      " [  0.    1.   -0.6]\n",
      " [  0.    1.  -12. ]]\n",
      "v:\n",
      "[  8.   -3.6 -15. ]\n",
      "\n",
      "SUBTRACT A[2,1] = 1.0 TIMES ROW 1 FROM ROW 2:\n",
      "\n",
      "A:\n",
      "[[  1.   -1.    1. ]\n",
      " [  0.    1.   -0.6]\n",
      " [  0.    0.  -11.4]]\n",
      "v:\n",
      "[  8.   -3.6 -11.4]\n",
      "\n",
      "DIVIDE ROW 2 BY A[2,2] = -11.4:\n",
      "\n",
      "A:\n",
      "[[ 1.  -1.   1. ]\n",
      " [ 0.   1.  -0.6]\n",
      " [-0.  -0.   1. ]]\n",
      "v:\n",
      "[ 8.  -3.6  1. ]\n",
      "\n",
      "-------------\n",
      "\n",
      "RESULT:\n",
      "x = [ 4. -3.  1.]\n",
      "\n"
     ]
    }
   ],
   "source": [
    "import numpy as np\n",
    "\n",
    "A = np.array([[ 2,  -2,  2 ],\n",
    "              [ 2,   3, -1 ],\n",
    "              [ 3,  -2, -9 ]], float)\n",
    "v = np.array( [ 16, -2,  9 ] , float)\n",
    "\n",
    "###########################################################################################\n",
    "\n",
    "def backwardSub(A, v):\n",
    "    N = len(v)\n",
    "    \n",
    "    x = np.zeros(N, float)\n",
    "\n",
    "    for m in range(N-1, -1, -1):\n",
    "\n",
    "        # Get the v value\n",
    "        x[m] = v[m]/A[m,m]\n",
    "\n",
    "        # First time through this loop is not entered.\n",
    "        # In following m loops, we subtract each column entry of that row from the v value\n",
    "        #  starting with the element to the right of the diagonal element\n",
    "        for i in range(m+1,N):\n",
    "            x[m] -= A[m,i]*x[i]/A[m,m]\n",
    "\n",
    "    print(\"-------------\")\n",
    "    print()\n",
    "    print(\"RESULT:\")\n",
    "    print(\"x =\",x)\n",
    "    print()\n",
    "    \n",
    "    return x\n",
    "    \n",
    "###########################################################################################\n",
    "\n",
    "def solve(A, v):\n",
    "    # N equations and N unknowns\n",
    "    N = len(v)\n",
    "\n",
    "    print(\"ORIGINAL ARRAYS:\")\n",
    "    print()\n",
    "    print(\"A:\")\n",
    "    print(A)\n",
    "    print(\"v:\")\n",
    "    print(v)\n",
    "    print()\n",
    "\n",
    "    for m in range(N):\n",
    "\n",
    "        # Divide row m (of both A and v) by the diagonal entry A[m,m]\n",
    "        div = A[m,m]\n",
    "        A[m,:] /= div\n",
    "        v[m] /= div\n",
    "\n",
    "        print(\"DIVIDE ROW {0} BY A[{0},{0}] = {1}:\".format(m,div))\n",
    "        print()\n",
    "        print(\"A:\")\n",
    "        print(A)\n",
    "        print(\"v:\")\n",
    "        print(v)\n",
    "        print()\n",
    "\n",
    "        # For each subsequent row, subtract a multiple of row m such that mth column becomes zero\n",
    "        for i in range(m+1,N):\n",
    "\n",
    "            # Get the multiplier (the value of row i column m)\n",
    "            mult = A[i,m]\n",
    "\n",
    "            # For each column in row i, subtract mult times the value of that column entry in row m (apply also to v)\n",
    "            A[i,:] -= mult*A[m,:]\n",
    "            v[i]   -= mult*v[m]\n",
    "\n",
    "            print(\"SUBTRACT A[{2},{1}] = {0} TIMES ROW {1} FROM ROW {2}:\".format(mult,m,i))\n",
    "            print()\n",
    "            print(\"A:\")\n",
    "            print(A)\n",
    "            print(\"v:\")\n",
    "            print(v)\n",
    "            print()\n",
    "\n",
    "    ###########################################################################################\n",
    "    \n",
    "    backwardSub(A, v)\n",
    "\n",
    "solve(A, v)"
   ]
  },
  {
   "cell_type": "markdown",
   "metadata": {
    "tags": []
   },
   "source": [
    "Unfortunately, this simple alogrithm is not foolproof.  Let's apply the algorithm to the samne array, but with $a_{1,0}=-2\\rightarrow 3$."
   ]
  },
  {
   "cell_type": "code",
   "execution_count": 2,
   "metadata": {
    "id": "LuIevMTztcbD",
    "tags": []
   },
   "outputs": [
    {
     "name": "stdout",
     "output_type": "stream",
     "text": [
      "ORIGINAL ARRAYS:\n",
      "\n",
      "A:\n",
      "[[ 2.  3.  2.]\n",
      " [ 2.  3. -1.]\n",
      " [ 3. -2. -9.]]\n",
      "v:\n",
      "[16. -2.  9.]\n",
      "\n",
      "DIVIDE ROW 0 BY A[0,0] = 2.0:\n",
      "\n",
      "A:\n",
      "[[ 1.   1.5  1. ]\n",
      " [ 2.   3.  -1. ]\n",
      " [ 3.  -2.  -9. ]]\n",
      "v:\n",
      "[ 8. -2.  9.]\n",
      "\n",
      "SUBTRACT A[1,0] = 2.0 TIMES ROW 0 FROM ROW 1:\n",
      "\n",
      "A:\n",
      "[[ 1.   1.5  1. ]\n",
      " [ 0.   0.  -3. ]\n",
      " [ 3.  -2.  -9. ]]\n",
      "v:\n",
      "[  8. -18.   9.]\n",
      "\n",
      "SUBTRACT A[2,0] = 3.0 TIMES ROW 0 FROM ROW 2:\n",
      "\n",
      "A:\n",
      "[[  1.    1.5   1. ]\n",
      " [  0.    0.   -3. ]\n",
      " [  0.   -6.5 -12. ]]\n",
      "v:\n",
      "[  8. -18. -15.]\n",
      "\n",
      "DIVIDE ROW 1 BY A[1,1] = 0.0:\n",
      "\n",
      "A:\n",
      "[[  1.    1.5   1. ]\n",
      " [  nan   nan  -inf]\n",
      " [  0.   -6.5 -12. ]]\n",
      "v:\n",
      "[  8. -inf -15.]\n",
      "\n",
      "SUBTRACT A[2,1] = -6.5 TIMES ROW 1 FROM ROW 2:\n",
      "\n",
      "A:\n",
      "[[ 1.   1.5  1. ]\n",
      " [ nan  nan -inf]\n",
      " [ nan  nan -inf]]\n",
      "v:\n",
      "[  8. -inf -inf]\n",
      "\n",
      "DIVIDE ROW 2 BY A[2,2] = -inf:\n",
      "\n",
      "A:\n",
      "[[ 1.   1.5  1. ]\n",
      " [ nan  nan -inf]\n",
      " [ nan  nan  nan]]\n",
      "v:\n",
      "[  8. -inf  nan]\n",
      "\n",
      "-------------\n",
      "\n",
      "RESULT:\n",
      "x = [nan nan nan]\n",
      "\n"
     ]
    },
    {
     "name": "stderr",
     "output_type": "stream",
     "text": [
      "/Users/jstupak/miniconda3/envs/py37/lib/python3.7/site-packages/ipykernel_launcher.py:52: RuntimeWarning: divide by zero encountered in true_divide\n",
      "/Users/jstupak/miniconda3/envs/py37/lib/python3.7/site-packages/ipykernel_launcher.py:52: RuntimeWarning: invalid value encountered in true_divide\n",
      "/Users/jstupak/miniconda3/envs/py37/lib/python3.7/site-packages/ipykernel_launcher.py:53: RuntimeWarning: divide by zero encountered in double_scalars\n",
      "/Users/jstupak/miniconda3/envs/py37/lib/python3.7/site-packages/ipykernel_launcher.py:53: RuntimeWarning: invalid value encountered in double_scalars\n"
     ]
    }
   ],
   "source": [
    "A = np.array([[ 2,   3,  2 ],\n",
    "              [ 2,   3, -1 ],\n",
    "              [ 3,  -2, -9 ]], float)\n",
    "v = np.array( [ 16, -2,  9 ],float)\n",
    "\n",
    "solve(A, v)"
   ]
  },
  {
   "cell_type": "markdown",
   "metadata": {
    "tags": []
   },
   "source": [
    "In this case, at an intermediate point of the algorithm, we encountered $a_{1,1}=0$ and attempted to divide row 1 by zero, with predictably disastrous consequences.\n",
    "\n",
    "### Pivotting\n",
    "\n",
    "The simplest approach to mitigate this issue is known as \"pivoting.\"  At any point, if $a_{m,m}=0$, we simply swap row $m$ with a lower row.  Swapping rows can be achieved in numpy via:  "
   ]
  },
  {
   "cell_type": "code",
   "execution_count": 3,
   "metadata": {
    "tags": []
   },
   "outputs": [
    {
     "data": {
      "text/plain": [
       "array([[1., 1., 1.],\n",
       "       [3., 3., 3.],\n",
       "       [2., 2., 2.]])"
      ]
     },
     "execution_count": 3,
     "metadata": {},
     "output_type": "execute_result"
    }
   ],
   "source": [
    "A = np.array([[ 1, 1, 1 ],\n",
    "              [ 2, 2, 2 ],\n",
    "              [ 3, 3, 3 ]], float)\n",
    "m=1\n",
    "\n",
    "A[[m,m+1],:] = A[[m+1,m],:]\n",
    "\n",
    "A"
   ]
  },
  {
   "cell_type": "code",
   "execution_count": 4,
   "metadata": {
    "tags": []
   },
   "outputs": [
    {
     "name": "stdout",
     "output_type": "stream",
     "text": [
      "ORIGINAL ARRAYS:\n",
      "\n",
      "A:\n",
      "[[ 2.  3.  2.]\n",
      " [ 2.  3. -1.]\n",
      " [ 3. -2. -9.]]\n",
      "v:\n",
      "[16. -2.  9.]\n",
      "\n",
      "DIVIDE ROW 0 BY A[0,0] = 2.0:\n",
      "\n",
      "A:\n",
      "[[ 1.   1.5  1. ]\n",
      " [ 2.   3.  -1. ]\n",
      " [ 3.  -2.  -9. ]]\n",
      "v:\n",
      "[ 8. -2.  9.]\n",
      "\n",
      "SUBTRACT A[1,0] = 2.0 TIMES ROW 0 FROM ROW 1:\n",
      "\n",
      "A:\n",
      "[[ 1.   1.5  1. ]\n",
      " [ 0.   0.  -3. ]\n",
      " [ 3.  -2.  -9. ]]\n",
      "v:\n",
      "[  8. -18.   9.]\n",
      "\n",
      "SUBTRACT A[2,0] = 3.0 TIMES ROW 0 FROM ROW 2:\n",
      "\n",
      "A:\n",
      "[[  1.    1.5   1. ]\n",
      " [  0.    0.   -3. ]\n",
      " [  0.   -6.5 -12. ]]\n",
      "v:\n",
      "[  8. -18. -15.]\n",
      "\n",
      "*****SWAP ROWS 1 AND 2*****\n",
      "\n",
      "A:\n",
      "[[  1.    1.5   1. ]\n",
      " [  0.   -6.5 -12. ]\n",
      " [  0.    0.   -3. ]]\n",
      "v:\n",
      "[  8. -15. -18.]\n",
      "\n",
      "DIVIDE ROW 1 BY A[1,1] = -6.5:\n",
      "\n",
      "A:\n",
      "[[ 1.          1.5         1.        ]\n",
      " [-0.          1.          1.84615385]\n",
      " [ 0.          0.         -3.        ]]\n",
      "v:\n",
      "[  8.           2.30769231 -18.        ]\n",
      "\n",
      "SUBTRACT A[2,1] = 0.0 TIMES ROW 1 FROM ROW 2:\n",
      "\n",
      "A:\n",
      "[[ 1.          1.5         1.        ]\n",
      " [-0.          1.          1.84615385]\n",
      " [ 0.          0.         -3.        ]]\n",
      "v:\n",
      "[  8.           2.30769231 -18.        ]\n",
      "\n",
      "DIVIDE ROW 2 BY A[2,2] = -3.0:\n",
      "\n",
      "A:\n",
      "[[ 1.          1.5         1.        ]\n",
      " [-0.          1.          1.84615385]\n",
      " [-0.         -0.          1.        ]]\n",
      "v:\n",
      "[8.         2.30769231 6.        ]\n",
      "\n",
      "-------------\n",
      "\n",
      "RESULT:\n",
      "x = [15.15384615 -8.76923077  6.        ]\n",
      "\n"
     ]
    }
   ],
   "source": [
    "import math\n",
    "\n",
    "A = np.array([[ 2,   3,  2 ],\n",
    "              [ 2,   3, -1 ],\n",
    "              [ 3,  -2, -9 ]], float)\n",
    "v = np.array( [ 16, -2,  9 ],  float)\n",
    "\n",
    "def solveWPivot(A, v):\n",
    "    # N equations and N unknowns\n",
    "    N = len(v)\n",
    "\n",
    "    print(\"ORIGINAL ARRAYS:\")\n",
    "    print()\n",
    "    print(\"A:\")\n",
    "    print(A)\n",
    "    print(\"v:\")\n",
    "    print(v)\n",
    "    print()\n",
    "\n",
    "    for m in range(N):\n",
    "\n",
    "        # Divide row m (of both A and v) by the diagonal entry A[m,m]\n",
    "        div = A[m,m]\n",
    "        \n",
    "        ################################################################\n",
    "        #Pivot\n",
    "        if math.isclose(div,0):\n",
    "            v[[m,m+1]] = v[[m+1,m]]\n",
    "            A[[m,m+1],:] = A[[m+1,m],:]\n",
    "            div = A[m,m]\n",
    "            print(\"*****SWAP ROWS {} AND {}*****\".format(m,m+1))\n",
    "            print()\n",
    "            print(\"A:\")\n",
    "            print(A)\n",
    "            print(\"v:\")\n",
    "            print(v)\n",
    "            print()\n",
    "        ################################################################\n",
    "\n",
    "            \n",
    "        A[m,:] /= div\n",
    "        v[m] /= div\n",
    "\n",
    "        print(\"DIVIDE ROW {0} BY A[{0},{0}] = {1}:\".format(m,div))\n",
    "        print()\n",
    "        print(\"A:\")\n",
    "        print(A)\n",
    "        print(\"v:\")\n",
    "        print(v)\n",
    "        print()\n",
    "\n",
    "        # For each subsequent row, subtract a multiple of row m such that mth column becomes zero\n",
    "        for i in range(m+1,N):\n",
    "\n",
    "            # Get the multiplier (the value of row i column m)\n",
    "            mult = A[i,m]\n",
    "\n",
    "            # For each column in row i, subtract mult times the value of that column entry in row m (apply also to v)\n",
    "            A[i,:] -= mult*A[m,:]\n",
    "            v[i]   -= mult*v[m]\n",
    "\n",
    "            print(\"SUBTRACT A[{2},{1}] = {0} TIMES ROW {1} FROM ROW {2}:\".format(mult,m,i))\n",
    "            print()\n",
    "            print(\"A:\")\n",
    "            print(A)\n",
    "            print(\"v:\")\n",
    "            print(v)\n",
    "            print()\n",
    "\n",
    "    ###########################################################################################\n",
    "    \n",
    "    backwardSub(A, v)\n",
    "\n",
    "solveWPivot(A, v)"
   ]
  },
  {
   "cell_type": "markdown",
   "metadata": {
    "tags": []
   },
   "source": [
    "As you can easily confirm via substitution, these are the correct solutions.\n",
    "\n",
    "However, pivoting has to be done carefully, as it can sometimes introduce new issues.  Therefore, the standards technique is \"partial pivotting.\"  In this approach, we consider swapping rows even if $a_{m,m}\\ne0$.  If the $m$th element of row $m$ is less than the $m$th element *in any lower row*, we swap row $m$ with the row containing the largest such value."
   ]
  },
  {
   "cell_type": "code",
   "execution_count": 5,
   "metadata": {
    "tags": []
   },
   "outputs": [
    {
     "name": "stdout",
     "output_type": "stream",
     "text": [
      "[2. 2. 3.] 3.0\n"
     ]
    },
    {
     "data": {
      "text/plain": [
       "array([1])"
      ]
     },
     "execution_count": 5,
     "metadata": {},
     "output_type": "execute_result"
    }
   ],
   "source": [
    "A = np.array([[ 2,   3,  2 ],\n",
    "              [ 2,   3, -1 ],\n",
    "              [ 3,  -2, -9 ]], float)\n",
    "v = np.array( [ 16, -2,  9 ],  float)\n",
    "\n",
    "m = 0\n",
    "\n",
    "print(A[m:,m], \n",
    "      max(A[m:,m]))\n",
    "\n",
    "np.where(A[m+1:,m] == max(A[m+1:,m]))[0]"
   ]
  },
  {
   "cell_type": "code",
   "execution_count": 6,
   "metadata": {
    "tags": []
   },
   "outputs": [
    {
     "name": "stdout",
     "output_type": "stream",
     "text": [
      "ORIGINAL ARRAYS:\n",
      "\n",
      "A:\n",
      "[[ 2.  3.  2.]\n",
      " [ 2.  3. -1.]\n",
      " [ 3. -2. -9.]]\n",
      "v:\n",
      "[16. -2.  9.]\n",
      "\n",
      "2\n",
      "*****SWAP ROWS 0 AND 1*****\n",
      "\n",
      "A:\n",
      "[[ 3. -2. -9.]\n",
      " [ 2.  3. -1.]\n",
      " [ 2.  3.  2.]]\n",
      "v:\n",
      "[ 9. -2. 16.]\n",
      "\n",
      "DIVIDE ROW 0 BY A[0,0] = 3.0:\n",
      "\n",
      "A:\n",
      "[[ 1.         -0.66666667 -3.        ]\n",
      " [ 2.          3.         -1.        ]\n",
      " [ 2.          3.          2.        ]]\n",
      "v:\n",
      "[ 3. -2. 16.]\n",
      "\n",
      "SUBTRACT A[1,0] = 2.0 TIMES ROW 0 FROM ROW 1:\n",
      "\n",
      "A:\n",
      "[[ 1.         -0.66666667 -3.        ]\n",
      " [ 0.          4.33333333  5.        ]\n",
      " [ 2.          3.          2.        ]]\n",
      "v:\n",
      "[ 3. -8. 16.]\n",
      "\n",
      "SUBTRACT A[2,0] = 2.0 TIMES ROW 0 FROM ROW 2:\n",
      "\n",
      "A:\n",
      "[[ 1.         -0.66666667 -3.        ]\n",
      " [ 0.          4.33333333  5.        ]\n",
      " [ 0.          4.33333333  8.        ]]\n",
      "v:\n",
      "[ 3. -8. 10.]\n",
      "\n",
      "0\n",
      "DIVIDE ROW 1 BY A[1,1] = 4.333333333333333:\n",
      "\n",
      "A:\n",
      "[[ 1.         -0.66666667 -3.        ]\n",
      " [ 0.          1.          1.15384615]\n",
      " [ 0.          4.33333333  8.        ]]\n",
      "v:\n",
      "[ 3.         -1.84615385 10.        ]\n",
      "\n",
      "SUBTRACT A[2,1] = 4.333333333333333 TIMES ROW 1 FROM ROW 2:\n",
      "\n",
      "A:\n",
      "[[ 1.         -0.66666667 -3.        ]\n",
      " [ 0.          1.          1.15384615]\n",
      " [ 0.          0.          3.        ]]\n",
      "v:\n",
      "[ 3.         -1.84615385 18.        ]\n",
      "\n",
      "0\n",
      "DIVIDE ROW 2 BY A[2,2] = 3.0:\n",
      "\n",
      "A:\n",
      "[[ 1.         -0.66666667 -3.        ]\n",
      " [ 0.          1.          1.15384615]\n",
      " [ 0.          0.          1.        ]]\n",
      "v:\n",
      "[ 3.         -1.84615385  6.        ]\n",
      "\n",
      "-------------\n",
      "\n",
      "RESULT:\n",
      "x = [15.15384615 -8.76923077  6.        ]\n",
      "\n"
     ]
    }
   ],
   "source": [
    "A = np.array([[ 2,   3,  2 ],\n",
    "              [ 2,   3, -1 ],\n",
    "              [ 3,  -2, -9 ]], float)\n",
    "v = np.array( [ 16, -2,  9 ],  float)\n",
    "\n",
    "def solveWPivot(A, v):\n",
    "    # N equations and N unknowns\n",
    "    N = len(v)\n",
    "\n",
    "    print(\"ORIGINAL ARRAYS:\")\n",
    "    print()\n",
    "    print(\"A:\")\n",
    "    print(A)\n",
    "    print(\"v:\")\n",
    "    print(v)\n",
    "    print()\n",
    "\n",
    "    for m in range(N):\n",
    "\n",
    "        ################################################################\n",
    "        #Pivot\n",
    "        swap = np.where(A[m:,m] == max(A[m:,m]))[0][0]\n",
    "        print(swap)\n",
    "        if swap != 0:\n",
    "\n",
    "            v[[m,swap]] = v[[swap,m]]\n",
    "            A[[m,swap],:] = A[[swap,m],:]\n",
    "            ############################################################\n",
    "            div = A[m,m]\n",
    "            print(\"*****SWAP ROWS {} AND {}*****\".format(m,m+1))\n",
    "            print()\n",
    "            print(\"A:\")\n",
    "            print(A)\n",
    "            print(\"v:\")\n",
    "            print(v)\n",
    "            print()\n",
    "        \n",
    "        # Divide row m (of both A and v) by the diagonal entry A[m,m]\n",
    "        div = A[m,m]\n",
    "            \n",
    "        A[m,:] /= div\n",
    "        v[m] /= div\n",
    "\n",
    "        print(\"DIVIDE ROW {0} BY A[{0},{0}] = {1}:\".format(m,div))\n",
    "        print()\n",
    "        print(\"A:\")\n",
    "        print(A)\n",
    "        print(\"v:\")\n",
    "        print(v)\n",
    "        print()\n",
    "\n",
    "        # For each subsequent row, subtract a multiple of row m such that mth column becomes zero\n",
    "        for i in range(m+1,N):\n",
    "\n",
    "            # Get the multiplier (the value of row i column m)\n",
    "            mult = A[i,m]\n",
    "\n",
    "            # For each column in row i, subtract mult times the value of that column entry in row m (apply also to v)\n",
    "            A[i,:] -= mult*A[m,:]\n",
    "            v[i]   -= mult*v[m]\n",
    "\n",
    "            print(\"SUBTRACT A[{2},{1}] = {0} TIMES ROW {1} FROM ROW {2}:\".format(mult,m,i))\n",
    "            print()\n",
    "            print(\"A:\")\n",
    "            print(A)\n",
    "            print(\"v:\")\n",
    "            print(v)\n",
    "            print()\n",
    "\n",
    "    ###########################################################################################\n",
    "    \n",
    "    backwardSub(A, v)\n",
    "\n",
    "solveWPivot(A, v)"
   ]
  },
  {
   "cell_type": "markdown",
   "metadata": {
    "tags": []
   },
   "source": [
    "As they should, these are the same values that we obtained with standard pivoting.  However, this algorithm (with partial pivoting) is more robust."
   ]
  },
  {
   "cell_type": "markdown",
   "metadata": {
    "id": "FL22f0l7tcbI"
   },
   "source": [
    "--------------\n",
    "\n",
    "After the first step of Gaussian elimination, we obtain a new matrix $B$ where $b_{0,0}=1$ and $b_{i,0} = 0$ for $i>0$.  It turns out that this transformation can be accomplished by multiplying $\\A$ by the lower diagonal matrix\n",
    "\\begin{equation}\n",
    "    \\Lzero = \\frac{1}{a_{0,0}}\\times\\begin{pmatrix}\n",
    "        1 & 0  & 0\\\\\n",
    "        -a_{1,0} &  a_{0,0} & 0\\\\\n",
    "        -a_{2,0} &  0 & a_{0,0}\\\\\n",
    "    \\end{pmatrix}.\n",
    "\\end{equation}\n",
    "\n",
    "This is easily verified using numpy."
   ]
  },
  {
   "cell_type": "code",
   "execution_count": 7,
   "metadata": {
    "tags": []
   },
   "outputs": [
    {
     "data": {
      "text/plain": [
       "array([[  1.,  -1.,   1.],\n",
       "       [  0.,   5.,  -3.],\n",
       "       [  0.,   1., -12.]])"
      ]
     },
     "execution_count": 7,
     "metadata": {},
     "output_type": "execute_result"
    }
   ],
   "source": [
    "A = np.array([[ 2,  -2,  2 ],\n",
    "              [ 2,   3, -1 ],\n",
    "              [ 3,  -2, -9 ]], float)\n",
    "v = np.array( [ 16, -2,  9 ] , float)\n",
    "\n",
    "L0 = (1/A[0,0]) * np.array([[ 1,      0,      0      ],\n",
    "                            [-A[1,0], A[0,0], 0      ], \n",
    "                            [-A[2,0], 0,      A[0,0] ]], float)\n",
    "\n",
    "B = np.matmul(L0,A)\n",
    "\n",
    "B"
   ]
  },
  {
   "cell_type": "markdown",
   "metadata": {},
   "source": [
    "Each of the subsequent steps of Gaussian elimination can similarly be represented by an appropriately chosen lower diagonal matrix.  The second step can be achieved by multipliying matrix $\\B$ by\n",
    "\\begin{equation}\n",
    "    \\Lone = \\frac{1}{b_{1,1}}\\times\\begin{pmatrix}\n",
    "        b_{1,1} & 0        & 0\\\\\n",
    "        0       & 1        & 0\\\\\n",
    "        0       & -b_{2,1} & b_{1,1}\\\\\n",
    "    \\end{pmatrix}, \n",
    "\\end{equation}resulting in matrix $\\C$."
   ]
  },
  {
   "cell_type": "code",
   "execution_count": 8,
   "metadata": {
    "tags": []
   },
   "outputs": [
    {
     "data": {
      "text/plain": [
       "array([[  1. ,  -1. ,   1. ],\n",
       "       [  0. ,   1. ,  -0.6],\n",
       "       [  0. ,   0. , -11.4]])"
      ]
     },
     "execution_count": 8,
     "metadata": {},
     "output_type": "execute_result"
    }
   ],
   "source": [
    "L1 = (1/B[1,1]) * np.array([[ B[1,1], 0,       0      ],\n",
    "                            [ 0,      1,       0      ], \n",
    "                            [ 0,      -B[2,1], B[1,1] ]], float)\n",
    "\n",
    "C = np.matmul(L1,B)\n",
    "\n",
    "C"
   ]
  },
  {
   "cell_type": "markdown",
   "metadata": {},
   "source": [
    "The third step can be achieved by multipliying matrix $\\C$ by\n",
    "\\begin{equation}\n",
    "    \\Ltwo = \\frac{1}{c_{2,2}}\\times\\begin{pmatrix}\n",
    "        c_{2,2} & 0        & 0\\\\\n",
    "        0       & c_{2,2}  & 0\\\\\n",
    "        0       & 0        & 1\\\\\n",
    "    \\end{pmatrix}, \n",
    "\\end{equation}resulting in matrix $\\D$."
   ]
  },
  {
   "cell_type": "code",
   "execution_count": 9,
   "metadata": {
    "tags": []
   },
   "outputs": [
    {
     "data": {
      "text/plain": [
       "array([[ 1. , -1. ,  1. ],\n",
       "       [ 0. ,  1. , -0.6],\n",
       "       [ 0. ,  0. ,  1. ]])"
      ]
     },
     "execution_count": 9,
     "metadata": {},
     "output_type": "execute_result"
    }
   ],
   "source": [
    "L2 = (1/C[2,2]) * np.array([[ C[2,2], 0,       0      ],\n",
    "                            [ 0,      C[2,2],  0      ], \n",
    "                            [ 0,      0,       1      ]], float)\n",
    "\n",
    "D = np.matmul(L2,C)\n",
    "\n",
    "D"
   ]
  },
  {
   "cell_type": "markdown",
   "metadata": {},
   "source": [
    "Successive multiplication of $\\A$ by $\\Ltwo\\Lone\\Lzero$ resulted in the same upper-diagonal matrix that we obtained above via Gaussian elimination.  \n",
    "\n",
    "Let's apply the same transformation to vector $\\v$:"
   ]
  },
  {
   "cell_type": "code",
   "execution_count": 10,
   "metadata": {
    "tags": []
   },
   "outputs": [
    {
     "data": {
      "text/plain": [
       "array([ 8. , -3.6,  1. ])"
      ]
     },
     "execution_count": 10,
     "metadata": {},
     "output_type": "execute_result"
    }
   ],
   "source": [
    "np.matmul(L2,np.matmul(L1,np.matmul(L0,v)))"
   ]
  },
  {
   "cell_type": "markdown",
   "metadata": {},
   "source": [
    "This is also the same vector that we obtained above through the process of Gaussian elimination.  \n",
    "\n",
    "So putting this all together, we see that the process of Gaussian elimination is equivalent to multiplying both sides of the matrix equation we wish to solve, $\\A \\x=\\v$, by $\\Ltwo\\Lone\\Lzero$.\n",
    "\n",
    "## Lower upper (LU) decomposition\n",
    "\n",
    "We can take this matrix-based formulation of Gaussian elimination a step further.  \n",
    "\n",
    "Let's define $\\L=\\Lzero^{-1}\\Lone^{-1}\\Ltwo^{-1}$ and $\\U=\\Ltwo\\Lone\\Lzero\\A$.  We can see that these matrices are lower- and upper-diagonal, respectively (hence the names $\\L$ and $\\U$)."
   ]
  },
  {
   "cell_type": "code",
   "execution_count": 11,
   "metadata": {
    "tags": []
   },
   "outputs": [
    {
     "data": {
      "text/plain": [
       "(array([[  2. ,   0. ,   0. ],\n",
       "        [  2. ,   5. ,   0. ],\n",
       "        [  3. ,   1. , -11.4]]),\n",
       " array([[ 1. , -1. ,  1. ],\n",
       "        [ 0. ,  1. , -0.6],\n",
       "        [ 0. ,  0. ,  1. ]]))"
      ]
     },
     "execution_count": 11,
     "metadata": {},
     "output_type": "execute_result"
    }
   ],
   "source": [
    "A = np.array([[ 2,  -2,  2 ],\n",
    "              [ 2,   3, -1 ],\n",
    "              [ 3,  -2, -9 ]], float)\n",
    "v = np.array( [ 16, -2,  9 ] , float)\n",
    "\n",
    "L = np.matmul( np.matmul(np.linalg.inv(L0),np.linalg.inv(L1)), np.linalg.inv(L2))\n",
    "U = np.matmul( np.matmul( np.matmul(L2,L1), L0), A)\n",
    "\n",
    "L,U"
   ]
  },
  {
   "cell_type": "markdown",
   "metadata": {},
   "source": [
    "The product of these matrices is just our matrix $\\A$.  Therefore, we can write the matrix equation we wish to solve as $\\L\\U \\x=\\v$.  In general, we can write this equation as\n",
    "\\begin{equation}\\tag{1}\n",
    "    \\begin{pmatrix}\n",
    "        l_{0,0} & 0       & 0\\\\\n",
    "        l_{1,0} & l_{1,1} & 0\\\\\n",
    "        l_{2,0} & l_{1,2} & l_{2,2}\n",
    "    \\end{pmatrix}\n",
    "    \\begin{pmatrix}\n",
    "        u_{0,0} & u_{0,1} & u_{0,2}\\\\\n",
    "        0       & u_{1,1} & u_{1,2}\\\\\n",
    "        0       & 0       & u_{2,2}\n",
    "    \\end{pmatrix}\n",
    "    \\begin{pmatrix}\n",
    "        x_0 \\\\\n",
    "        x_1 \\\\\n",
    "        x_2\n",
    "    \\end{pmatrix}=\n",
    "    \\begin{pmatrix}\n",
    "        v_0 \\\\\n",
    "        v_1 \\\\\n",
    "        v_2\n",
    "    \\end{pmatrix}.\n",
    "\\end{equation}\n",
    "Note the slight change of notation with respect to the preceeding section.  Here, the vector $\\mathbf{x}\\equiv(x_0, x_1, x_2) = (x, y, z)$.\n",
    "\n",
    "\n",
    "Let's define a new vector $\\mathbf{y}$, defined by\n",
    "\\begin{equation}\\tag{2}\n",
    "    \\begin{pmatrix}\n",
    "        u_{0,0} & u_{0,1} & u_{0,2}\\\\\n",
    "        0       & u_{1,1} & u_{1,2}\\\\\n",
    "        0       & 0       & u_{2,2}\n",
    "    \\end{pmatrix}\n",
    "    \\begin{pmatrix}\n",
    "        x_0 \\\\\n",
    "        x_1 \\\\\n",
    "        x_2\n",
    "    \\end{pmatrix}=\n",
    "    \\begin{pmatrix}\n",
    "        y_0 \\\\\n",
    "        y_1 \\\\\n",
    "        y_2\n",
    "    \\end{pmatrix}.\n",
    "\\end{equation}\n",
    "\n",
    "In terms of this vector, we can write Equation 1 as\n",
    "\\begin{equation}\\tag{3}\n",
    "    \\begin{pmatrix}\n",
    "        l_{0,0} & 0       & 0\\\\\n",
    "        l_{1,0} & l_{1,1} & 0\\\\\n",
    "        l_{2,0} & l_{1,2} & l_{2,2}\n",
    "    \\end{pmatrix}\n",
    "    \\begin{pmatrix}\n",
    "        y_0 \\\\\n",
    "        y_1 \\\\\n",
    "        y_2\n",
    "    \\end{pmatrix}=\n",
    "    \\begin{pmatrix}\n",
    "        v_0 \\\\\n",
    "        v_1 \\\\\n",
    "        v_2\n",
    "    \\end{pmatrix}.\n",
    "\\end{equation}\n",
    "\n",
    "Equation 2 involves a lower-diagonal matrix, which we have seen can be solved easily via backward substitution.  Equation 3 involves an upper-diagonal matrix, which can similarly be solved easily via forward substitution.  \n",
    "\n",
    "Thus, the problem has been reduced to finding $\\mathbf{y}$ from Equation 3 via forward substitution, then using these values to find $\\x$ from Equation 2 via backward substitution."
   ]
  },
  {
   "cell_type": "code",
   "execution_count": 12,
   "metadata": {
    "tags": []
   },
   "outputs": [
    {
     "name": "stdout",
     "output_type": "stream",
     "text": [
      "-------------\n",
      "\n",
      "RESULT:\n",
      "y = [ 8.  -3.6  1. ]\n",
      "\n",
      "-------------\n",
      "\n",
      "RESULT:\n",
      "x = [ 4. -3.  1.]\n",
      "\n"
     ]
    }
   ],
   "source": [
    "def forwardSub(A, v):\n",
    "    N = len(v)\n",
    "    \n",
    "    y = np.zeros(N, float)\n",
    "\n",
    "    for m in range(0,N):\n",
    "\n",
    "        # Get the v value\n",
    "        y[m] = v[m]/A[m,m]\n",
    "\n",
    "        # First time through this loop is not entered.\n",
    "        # In following m loops, we subtract each column entry of that row from the v value\n",
    "        #  starting with the element to the right of the diagonal element\n",
    "        for i in range(0,m):\n",
    "            y[m] -= A[m,i]*y[i]/A[m,m]\n",
    "\n",
    "    print(\"-------------\")\n",
    "    print()\n",
    "    print(\"RESULT:\")\n",
    "    print(\"y =\",y)\n",
    "    print()\n",
    "    \n",
    "    return y\n",
    "    \n",
    "###########################################################################################\n",
    "\n",
    "y = forwardSub(L,v)\n",
    "x = backwardSub(U,y)"
   ]
  },
  {
   "cell_type": "markdown",
   "metadata": {
    "tags": []
   },
   "source": [
    "Using this method, we get the same (correct) solution that we obtained via Gaussian elimination above.  NB: this method is prone to issues and pivoting should generally be utilized.\n",
    "\n",
    "But what is the advantage?  Recall that the calculation of $\\L$ and $\\U$ above depends only on the matrix $\\A$, but not the particular vector $\\v$.  It turns out that we often wish to solve many different sets of matrix equations with the same matrix $\\A$ but different vectors $\\v$.  With this method, we only need calculate the $\\L$ and $\\U$ matrices once, and use these matrices to solve for different vectors $\\v_1, \\v_2$, etc."
   ]
  },
  {
   "cell_type": "code",
   "execution_count": 13,
   "metadata": {
    "tags": []
   },
   "outputs": [
    {
     "name": "stdout",
     "output_type": "stream",
     "text": [
      "-------------\n",
      "\n",
      "RESULT:\n",
      "y = [ 0.5         0.2        -0.11403509]\n",
      "\n",
      "-------------\n",
      "\n",
      "RESULT:\n",
      "x = [ 0.74561404  0.13157895 -0.11403509]\n",
      "\n",
      "-------------\n",
      "\n",
      "RESULT:\n",
      "y = [ 4.5        -0.8         1.02631579]\n",
      "\n",
      "-------------\n",
      "\n",
      "RESULT:\n",
      "x = [ 3.28947368 -0.18421053  1.02631579]\n",
      "\n"
     ]
    }
   ],
   "source": [
    "v = np.array( [ 1, 2, 3 ] , float)\n",
    "\n",
    "y = forwardSub(L,v)\n",
    "x = backwardSub(U,y)\n",
    "\n",
    "#################################################################################\n",
    "\n",
    "v = np.array( [ 9, 5,  1 ] , float)\n",
    "\n",
    "y = forwardSub(L,v)\n",
    "x = backwardSub(U,y)"
   ]
  },
  {
   "cell_type": "markdown",
   "metadata": {},
   "source": [
    "These are of course the correct solutions for $\\v = (1, 2, 3)$ and $\\v = (9, 5, 1)$, respectively."
   ]
  },
  {
   "cell_type": "markdown",
   "metadata": {
    "id": "nGEyQNPbtcbJ"
   },
   "source": [
    "-----------\n",
    "\n",
    "Now that we understand the basic procedure, we can also rely on numpy to do the heavy lifting for us.  There is a `solve()` function within the `linalg` submodule of numpy for exactly this type of problem."
   ]
  },
  {
   "cell_type": "code",
   "execution_count": 14,
   "metadata": {
    "colab": {
     "base_uri": "https://localhost:8080/"
    },
    "id": "e6ZK9-oytcbL",
    "outputId": "85486fe2-d270-4924-8c9f-c4d86a24353b"
   },
   "outputs": [
    {
     "data": {
      "text/plain": [
       "array([ 40., -63.,  34.])"
      ]
     },
     "execution_count": 14,
     "metadata": {},
     "output_type": "execute_result"
    }
   ],
   "source": [
    "A = np.array([[ 1,  2, 3 ],\n",
    "              [ 2,  4, 5 ],\n",
    "              [ 3,  5, 6 ]], float)\n",
    "v = np.array( [ 16, -2,  9 ] , float)\n",
    "\n",
    "x = np.linalg.solve(A,v)\n",
    "\n",
    "x"
   ]
  },
  {
   "cell_type": "markdown",
   "metadata": {},
   "source": []
  },
  {
   "cell_type": "markdown",
   "metadata": {},
   "source": [
    "## Eigenvalue problems\n",
    "\n",
    "A similar class of problems that arise frequently within physics are known as \"eigenvalue problems.\"  We are often given an $n\\times n$ matrix $\\A$ (usually symmetric or Hermitian) and asked to determine the set of $n$ eigenvectors $\\v_1\\dots\\v_n$ and associated eigenvalues $\\lambda_1\\dots\\lambda_n$ that satisfy the relation\n",
    "\\begin{equation}\\tag{4}\n",
    "    \\A\\v_i = \\lambda_i\\v_i.\n",
    "\\end{equation}\n",
    "The eigenvectors are orthogonal to one another.\n",
    "\n",
    "For an $n\\times n$ matrix $\\A$, Equation 4 really represents $n$ equations (one for each eigenvector/eignevalue pair).  We can combine these three equations into a single matrix equation by defining matrix $\\V$ with columns given by the eigenvectors, and diagonal matrix $\\D$ with the eigenvalues as the diagonal elements.  \n",
    "\\begin{equation}\\tag{5}\n",
    "    \\A\\V = \\V\\D.\n",
    "\\end{equation}\n",
    "Since the eigenvectors are orthogonal, matrix $\\V$ is orthogonal, and $\\V^T=\\V^{-1}$.\n",
    "\n",
    "-----------\n",
    "\n",
    "A common method for solving such matrix equations relies on \"QR decomposition.\"  Any real square matrix can be decomposed into the product of a orthogonal matrix $\\Q_1$ and an upper-diagonal matrix $\\R_1$: \n",
    "\\begin{equation}\n",
    "    \\A=\\Q_1\\R_1.\n",
    "\\end{equation}\n",
    "Multiplying this equation from the left by $\\Q_1^T$ yields\n",
    "\\begin{equation}\\tag{6}\n",
    "    \\Q_1^T\\A=\\Q_1^T\\Q_1\\R_1=\\R_1,\n",
    "\\end{equation}\n",
    "where we have made use of the fact that $\\Q_1$ is orthogonal and therefore $\\Q_1^T=\\Q_1^{-1}$.\n",
    "\n",
    "Now, let's define a new matrix $\\A_1=\\R_1\\Q_1$.  Using Equation 6, we can replace $\\R_1$ with $\\Q_1^T\\A$, yielding:\n",
    "\\begin{equation}\n",
    "    \\A_1=\\Q_1^T\\A\\Q_1.\n",
    "\\end{equation}\n",
    "\n",
    "We then repeat this process for $\\A_1$ (which remains real and symmetric).  We perform QR decomposition of matrix $\\A_1=\\Q_2\\R_2$ and define the matrix\n",
    "\\begin{align}\n",
    "    \\A_2&=\\R_2\\Q_2 \\\\\n",
    "    &=\\Q_2^T\\A_1\\Q_2 \\\\\n",
    "    &=\\Q_2^T\\Q_1^T\\A\\Q_1\\Q_2\n",
    "\\end{align}\n",
    "If we continue this process, we eventually obtain matrix\n",
    "\\begin{equation}\\tag{7}\n",
    "    \\A_k=(\\Q_k^T\\dots\\Q_1^T)\\A(\\Q_1\\dots\\Q_k).\n",
    "\\end{equation}\n",
    "\n",
    "With each iteration of this process, the matrix $\\A_k$ becomes more diagonal, and we can eventually stop when the off-diagonal elements get sufficiently close to zero.\n",
    "\n",
    "Let's define one additional matrix $\\V=\\prod_{i=1}^k\\Q_i$.  Then, Equation 7 becomes $\\V^T\\A\\V=\\A_k$.  Multiplying this equation from the left by $\\V$, we obtain $\\A\\V=\\V\\A_k$.  This is the same as Equation 5, with the replacement $\\D\\rightarrow\\A_k$.  Thus, we can identify the matrix $\\A_k$ as the diagonal matrix containing the desired eigenvalues.  Further, the columns of $\\V$ represent the corresponding eigenvectors.\n",
    "\n",
    "-------------\n",
    "\n",
    "Let's explore this procedure using numpy, and find the eigenvalues and corresponding eigenvectors of the following matrix:"
   ]
  },
  {
   "cell_type": "code",
   "execution_count": 15,
   "metadata": {
    "tags": []
   },
   "outputs": [
    {
     "data": {
      "text/plain": [
       "array([[2., 3., 5.],\n",
       "       [3., 4., 6.],\n",
       "       [5., 6., 7.]])"
      ]
     },
     "execution_count": 15,
     "metadata": {},
     "output_type": "execute_result"
    }
   ],
   "source": [
    "A = np.array([[ 2, 3, 5 ],\n",
    "              [ 3, 4, 6 ],\n",
    "              [ 5, 6, 7 ]], float)\n",
    "\n",
    "A"
   ]
  },
  {
   "cell_type": "markdown",
   "metadata": {},
   "source": [
    "We begin by decomposing the matrix $\\A$ into the product of orthogonal matrix $\\Q_1$ and upper-diagonal matrix $\\R_1$."
   ]
  },
  {
   "cell_type": "code",
   "execution_count": 16,
   "metadata": {
    "tags": []
   },
   "outputs": [
    {
     "data": {
      "text/plain": [
       "(array([[-0.32444284, -0.78039897, -0.53452248],\n",
       "        [-0.48666426, -0.34684399,  0.80178373],\n",
       "        [-0.81110711,  0.52026598, -0.26726124]]),\n",
       " array([[ -6.164414  ,  -7.78662821, -10.21994953],\n",
       "        [  0.        ,  -0.60697698,  -2.34119692],\n",
       "        [  0.        ,   0.        ,   0.26726124]]))"
      ]
     },
     "execution_count": 16,
     "metadata": {},
     "output_type": "execute_result"
    }
   ],
   "source": [
    "Q1,R1 = np.linalg.qr(A)\n",
    "\n",
    "Q1,R1"
   ]
  },
  {
   "cell_type": "markdown",
   "metadata": {},
   "source": [
    "As a sanity check, let's confirm that the matrix $\\Q_1$ is orthogonal.  If so, the product of different columns would be zero."
   ]
  },
  {
   "cell_type": "code",
   "execution_count": 17,
   "metadata": {
    "tags": []
   },
   "outputs": [
    {
     "data": {
      "text/plain": [
       "(-1.6653345369377348e-16, 0.9999999999999996)"
      ]
     },
     "execution_count": 17,
     "metadata": {},
     "output_type": "execute_result"
    }
   ],
   "source": [
    "np.matmul(Q1[:,0],Q1[:,1]), np.matmul(Q1[:,0],Q1[:,0])"
   ]
  },
  {
   "cell_type": "markdown",
   "metadata": {},
   "source": [
    "We see that this is indeed the case.\n",
    "\n",
    "Next, we obtain the matrix $\\A_1$ from the product $\\R_1\\Q_1$."
   ]
  },
  {
   "cell_type": "code",
   "execution_count": 18,
   "metadata": {
    "tags": []
   },
   "outputs": [
    {
     "name": "stdout",
     "output_type": "stream",
     "text": [
      "Maximum off diagonal element: 2.1943554599125346\n"
     ]
    },
    {
     "data": {
      "text/plain": [
       "array([[14.07894737,  2.19435546, -0.21677749],\n",
       "       [ 2.19435546, -1.0075188 ,  0.13904693],\n",
       "       [-0.21677749,  0.13904693, -0.07142857]])"
      ]
     },
     "execution_count": 18,
     "metadata": {},
     "output_type": "execute_result"
    }
   ],
   "source": [
    "A1 = np.matmul(R1,Q1)\n",
    "\n",
    "print(\"Maximum off diagonal element:\",max(np.abs([A1[i,j] for i in range(3) for j in range(3) if i!=j])))\n",
    "\n",
    "A1"
   ]
  },
  {
   "cell_type": "markdown",
   "metadata": {},
   "source": [
    "As claimed, the maximum off-diagonal element has been reduced from 6 to 2.2.\n",
    "\n",
    "Next, we decompose the matrix $\\A_1$ into $\\Q_2\\R_2$, and obtain the matrix $\\A_2$ from the product $\\R_2\\Q_2$."
   ]
  },
  {
   "cell_type": "code",
   "execution_count": 19,
   "metadata": {
    "tags": []
   },
   "outputs": [
    {
     "name": "stdout",
     "output_type": "stream",
     "text": [
      "Maximum off diagonal element: 0.20970186267539453\n"
     ]
    },
    {
     "data": {
      "text/plain": [
       "array([[ 1.43914734e+01, -2.09701863e-01, -7.94128845e-04],\n",
       "       [-2.09701863e-01, -1.33969218e+00, -6.58811382e-03],\n",
       "       [-7.94128845e-04, -6.58811382e-03, -5.17811953e-02]])"
      ]
     },
     "execution_count": 19,
     "metadata": {},
     "output_type": "execute_result"
    }
   ],
   "source": [
    "Q2,R2 = np.linalg.qr(A1)\n",
    "\n",
    "A2 = np.matmul(R2,Q2)\n",
    "\n",
    "print(\"Maximum off diagonal element:\",max(np.abs([A2[i,j] for i in range(3) for j in range(3) if i!=j])))\n",
    "\n",
    "A2"
   ]
  },
  {
   "cell_type": "markdown",
   "metadata": {},
   "source": [
    "The maximum off-diagonal element has now been reduced to just 0.2.\n",
    "\n",
    "We could continue like this until the off-diagonal elements become sufficiently small.  However, it is more efficient to perform this procedure using a loop."
   ]
  },
  {
   "cell_type": "code",
   "execution_count": 20,
   "metadata": {
    "tags": []
   },
   "outputs": [
    {
     "name": "stdout",
     "output_type": "stream",
     "text": [
      "[[2. 3. 5.]\n",
      " [3. 4. 6.]\n",
      " [5. 6. 7.]]\n",
      "\n",
      "Maximum off diagonal element: 6.0\n",
      "\n",
      "--------------------------------------------------\n",
      "\n",
      "[[14.07894737  2.19435546 -0.21677749]\n",
      " [ 2.19435546 -1.0075188   0.13904693]\n",
      " [-0.21677749  0.13904693 -0.07142857]]\n",
      "\n",
      "Maximum off diagonal element: 2.1943554599125346\n",
      "\n",
      "--------------------------------------------------\n",
      "\n",
      "[[ 1.43914734e+01 -2.09701863e-01 -7.94128845e-04]\n",
      " [-2.09701863e-01 -1.33969218e+00 -6.58811382e-03]\n",
      " [-7.94128845e-04 -6.58811382e-03 -5.17811953e-02]]\n",
      "\n",
      "Maximum off diagonal element: 0.20970186267539453\n",
      "\n",
      "--------------------------------------------------\n",
      "\n",
      "[[ 1.43942440e+01  1.95619848e-02 -2.85518767e-06]\n",
      " [ 1.95619848e-02 -1.34249644e+00  2.54327687e-04]\n",
      " [-2.85518767e-06  2.54327687e-04 -5.17475511e-02]]\n",
      "\n",
      "Maximum off diagonal element: 0.019561984783908856\n",
      "\n",
      "--------------------------------------------------\n",
      "\n",
      "[[ 1.43942681e+01 -1.82450483e-03 -1.02644296e-08]\n",
      " [-1.82450483e-03 -1.34252059e+00 -9.80319612e-06]\n",
      " [-1.02644289e-08 -9.80319612e-06 -5.17475011e-02]]\n",
      "\n",
      "Maximum off diagonal element: 0.001824504829687721\n",
      "\n",
      "--------------------------------------------------\n",
      "\n",
      "[[ 1.43942683e+01  1.70167436e-04 -3.68999275e-11]\n",
      " [ 1.70167436e-04 -1.34252080e+00  3.77864505e-07]\n",
      " [-3.69006979e-11  3.77864504e-07 -5.17475010e-02]]\n",
      "\n",
      "Maximum off diagonal element: 0.00017016743569819826\n",
      "\n",
      "--------------------------------------------------\n",
      "\n",
      "[[ 1.43942683e+01 -1.58711313e-05 -1.33428635e-13]\n",
      " [-1.58711313e-05 -1.34252081e+00 -1.45647982e-08]\n",
      " [-1.32658282e-13 -1.45647976e-08 -5.17475010e-02]]\n",
      "\n",
      "Maximum off diagonal element: 1.5871131343576976e-05\n",
      "\n",
      "--------------------------------------------------\n",
      "\n",
      "[[ 1.43942683e+01  1.48026448e-06  2.93444960e-16]\n",
      " [ 1.48026448e-06 -1.34252081e+00  5.61401134e-10]\n",
      " [-4.76907504e-16  5.61400521e-10 -5.17475010e-02]]\n",
      "\n",
      "Maximum off diagonal element: 1.4802644770747935e-06\n",
      "\n",
      "--------------------------------------------------\n",
      "\n",
      "[[ 1.43942683e+01 -1.38060915e-07 -7.72067013e-16]\n",
      " [-1.38060915e-07 -1.34252081e+00 -2.16398119e-11]\n",
      " [-1.71448600e-18 -2.16391983e-11 -5.17475010e-02]]\n",
      "\n",
      "Maximum off diagonal element: 1.3806091528916584e-07\n",
      "\n",
      "--------------------------------------------------\n",
      "\n",
      "[[ 1.43942683e+01  1.28766296e-08  7.70346357e-16]\n",
      " [ 1.28766289e-08 -1.34252081e+00  8.34697002e-13]\n",
      " [-6.16358985e-21  8.34083489e-13 -5.17475010e-02]]\n",
      "\n",
      "Maximum off diagonal element: 1.2876629611906469e-08\n",
      "\n",
      "--------------------------------------------------\n",
      "\n",
      "[[ 1.43942683e+01 -1.20097330e-09 -7.70352544e-16]\n",
      " [-1.20097401e-09 -1.34252081e+00 -3.27632836e-14]\n",
      " [-2.21581511e-23 -3.21497708e-14 -5.17475010e-02]]\n",
      "\n",
      "Maximum off diagonal element: 1.2009740148850023e-09\n",
      "\n",
      "--------------------------------------------------\n",
      "\n",
      "[[ 1.43942683e+01  1.12012842e-10  7.70352521e-16]\n",
      " [ 1.12012126e-10 -1.34252081e+00  1.85272663e-15]\n",
      " [-7.96587170e-26  1.23921379e-15 -5.17475010e-02]]\n",
      "\n",
      "Maximum off diagonal element: 1.1201284205607585e-10\n",
      "\n",
      "--------------------------------------------------\n",
      "\n",
      "[[ 1.43942683e+01 -1.04464018e-11 -7.70352521e-16]\n",
      " [-1.04471174e-11 -1.34252081e+00 -6.61278366e-16]\n",
      " [-2.86373677e-28 -4.77655293e-17 -5.17475010e-02]]\n",
      "\n",
      "Maximum off diagonal element: 1.0447117356914897e-11\n",
      "\n",
      "--------------------------------------------------\n",
      "--------------------------------------------------\n",
      "--------------------------------------------------\n",
      "\n",
      "Ak:\n",
      "[[ 1.43942683e+01 -1.04464018e-11 -7.70352521e-16]\n",
      " [-1.04471174e-11 -1.34252081e+00 -6.61278366e-16]\n",
      " [-2.86373677e-28 -4.77655293e-17 -5.17475010e-02]]\n",
      "\n",
      "V:\n",
      "[[ 0.42394205  0.64954563 -0.63116053]\n",
      " [ 0.54144795  0.37687174  0.75153297]\n",
      " [ 0.72602153 -0.660347   -0.19192337]]\n"
     ]
    }
   ],
   "source": [
    "A = A\n",
    "V = np.identity(3)\n",
    "\n",
    "maxOffDiag = max(np.abs( [A[i,j] for i in range(3) for j in range(3) if i!=j] ))\n",
    "print(A)\n",
    "print()\n",
    "print(\"Maximum off diagonal element:\",maxOffDiag)\n",
    "print()\n",
    "print(50*\"-\")\n",
    "\n",
    "while(maxOffDiag > 1e-10):\n",
    "    Qn,Rn = np.linalg.qr(A)\n",
    "    A = np.matmul(Rn,Qn)\n",
    "    maxOffDiag = max(np.abs( [A[i,j] for i in range(3) for j in range(3) if i!=j] ))\n",
    "    \n",
    "    V = np.matmul(V,Qn)\n",
    "    \n",
    "    print()\n",
    "    print(A)\n",
    "    print()\n",
    "    print(\"Maximum off diagonal element:\",maxOffDiag)\n",
    "    print()\n",
    "    print(50*\"-\")\n",
    "    \n",
    "print(50*\"-\")\n",
    "print(50*\"-\")\n",
    "print()\n",
    "\n",
    "print(\"Ak:\")\n",
    "print(A)\n",
    "print()\n",
    "print(\"V:\")\n",
    "print(V)"
   ]
  },
  {
   "cell_type": "markdown",
   "metadata": {},
   "source": [
    "The off-diagonal elements are now less than the desired tolerance ($1\\times10^{-10}$).  We see that the eigenvalues are 14.4, -1.34, and -0.0517.  These eigenvalues correspond to eigenvectors $v_1=(0.424, 0.541, 0.726)$, $v_2=(0.650, 0.377, -0.660)$, $v_3=(-0.631, 0.752, -0.192)$, respectively.\n",
    "\n",
    "--------------\n",
    "\n",
    "Of course, since this is a common class of problems, tools exist to perform this procedure for you.  Within numpy's `linalg` module, there is an `eigh()` function for calculating eigenvalues and eigenvectors of symmetric or Hermitian matrices."
   ]
  },
  {
   "cell_type": "code",
   "execution_count": 21,
   "metadata": {
    "tags": []
   },
   "outputs": [
    {
     "data": {
      "text/plain": [
       "(array([-1.34252081, -0.0517475 , 14.39426831]),\n",
       " array([[ 6.63865880e-13,  0.00000000e+00, -1.00000000e+00],\n",
       "        [ 1.00000000e+00, -2.74117411e-17,  6.63865880e-13],\n",
       "        [ 2.74117411e-17,  1.00000000e+00,  1.81977197e-29]]))"
      ]
     },
     "execution_count": 21,
     "metadata": {},
     "output_type": "execute_result"
    }
   ],
   "source": [
    "x,V = np.linalg.eigh(A)\n",
    "\n",
    "x,V"
   ]
  },
  {
   "cell_type": "markdown",
   "metadata": {},
   "source": [
    "As it should, the eigenvalues and eigenvectors found with numpy agree with those that we calculated above.\n",
    "\n",
    "There is also an `eig()` function that should be used for matrixes which are not symmetric or Hermitian."
   ]
  },
  {
   "cell_type": "code",
   "execution_count": 22,
   "metadata": {
    "tags": []
   },
   "outputs": [
    {
     "data": {
      "text/plain": [
       "(array([-9.66759246+0.j        ,  2.83379623+1.93947752j,\n",
       "         2.83379623-1.93947752j]),\n",
       " array([[ 0.15115371+0.j        ,  0.73167617+0.j        ,\n",
       "          0.73167617-0.j        ],\n",
       "        [-0.10148686+0.j        , -0.09206753-0.63681248j,\n",
       "         -0.09206753+0.63681248j],\n",
       "        [-0.98328682+0.j        ,  0.21296689+0.07272226j,\n",
       "          0.21296689-0.07272226j]]))"
      ]
     },
     "execution_count": 22,
     "metadata": {},
     "output_type": "execute_result"
    }
   ],
   "source": [
    "A = np.array([[ 2,  -2,  2 ],\n",
    "              [ 2,   3, -1 ],\n",
    "              [ 3,  -2, -9 ]], float)\n",
    "\n",
    "x,V = np.linalg.eig(A)\n",
    "\n",
    "x,V"
   ]
  }
 ],
 "metadata": {
  "colab": {
   "provenance": []
  },
  "kernelspec": {
   "display_name": "Python 3 (ipykernel)",
   "language": "python",
   "name": "python3"
  },
  "language_info": {
   "codemirror_mode": {
    "name": "ipython",
    "version": 3
   },
   "file_extension": ".py",
   "mimetype": "text/x-python",
   "name": "python",
   "nbconvert_exporter": "python",
   "pygments_lexer": "ipython3",
   "version": "3.7.12"
  }
 },
 "nbformat": 4,
 "nbformat_minor": 4
}
