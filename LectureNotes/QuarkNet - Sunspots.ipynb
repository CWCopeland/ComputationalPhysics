{
  "nbformat": 4,
  "nbformat_minor": 0,
  "metadata": {
    "anaconda-cloud": {},
    "kernelspec": {
      "display_name": "Python 3",
      "language": "python",
      "name": "python3"
    },
    "language_info": {
      "codemirror_mode": {
        "name": "ipython",
        "version": 3
      },
      "file_extension": ".py",
      "mimetype": "text/x-python",
      "name": "python",
      "nbconvert_exporter": "python",
      "pygments_lexer": "ipython3",
      "version": "3.7.4"
    },
    "colab": {
      "provenance": []
    }
  },
  "cells": [
    {
      "cell_type": "markdown",
      "metadata": {
        "id": "ErdHWaFVNlGx"
      },
      "source": [
        "#  Plotting Sunspots\n",
        "This activity looks for patterns in sunspot data from the Sunspot Index and Long-term Solar Observations.\n",
        "\n",
        "To get started,you won't hurt anything by experimenting. If you break it, close the tab and open the activity again to start over.\n",
        "\n",
        "When you're ready, run each code cell until you get down to **Part One**."
      ]
    },
    {
      "cell_type": "code",
      "metadata": {
        "id": "v0y7wlYmNlG0"
      },
      "source": [
        "#importing what we'll need\n",
        "import numpy as np\n",
        "import pandas as pd\n",
        "%matplotlib inline\n",
        "import matplotlib.pyplot as plt\n",
        "pd.options.display.max_columns = 25"
      ],
      "execution_count": null,
      "outputs": []
    },
    {
      "cell_type": "code",
      "metadata": {
        "id": "zCNBSlw0NlG7",
        "outputId": "e2f6df9a-dd96-4684-b56f-bbe33cb9fb1d",
        "colab": {
          "base_uri": "https://localhost:8080/",
          "height": 206
        }
      },
      "source": [
        "# average monthly sunspots from Git file updated on 7/8/20\n",
        "data = pd.read_csv(\"https://github.com/fizzixprof/sunspots/raw/master/Sunspots.csv\")\n",
        "\n",
        "data.head(5) # choose to show the first (how many) lines of the file"
      ],
      "execution_count": null,
      "outputs": [
        {
          "output_type": "execute_result",
          "data": {
            "text/plain": [
              "       Year  Sunspots\n",
              "0  1749.538     135.9\n",
              "1  1749.623     137.9\n",
              "2  1749.707     140.2\n",
              "3  1749.790     143.8\n",
              "4  1749.874     146.4"
            ],
            "text/html": [
              "\n",
              "  <div id=\"df-1f79d16c-6b39-4bd4-a6c6-86c7ad0873d9\">\n",
              "    <div class=\"colab-df-container\">\n",
              "      <div>\n",
              "<style scoped>\n",
              "    .dataframe tbody tr th:only-of-type {\n",
              "        vertical-align: middle;\n",
              "    }\n",
              "\n",
              "    .dataframe tbody tr th {\n",
              "        vertical-align: top;\n",
              "    }\n",
              "\n",
              "    .dataframe thead th {\n",
              "        text-align: right;\n",
              "    }\n",
              "</style>\n",
              "<table border=\"1\" class=\"dataframe\">\n",
              "  <thead>\n",
              "    <tr style=\"text-align: right;\">\n",
              "      <th></th>\n",
              "      <th>Year</th>\n",
              "      <th>Sunspots</th>\n",
              "    </tr>\n",
              "  </thead>\n",
              "  <tbody>\n",
              "    <tr>\n",
              "      <th>0</th>\n",
              "      <td>1749.538</td>\n",
              "      <td>135.9</td>\n",
              "    </tr>\n",
              "    <tr>\n",
              "      <th>1</th>\n",
              "      <td>1749.623</td>\n",
              "      <td>137.9</td>\n",
              "    </tr>\n",
              "    <tr>\n",
              "      <th>2</th>\n",
              "      <td>1749.707</td>\n",
              "      <td>140.2</td>\n",
              "    </tr>\n",
              "    <tr>\n",
              "      <th>3</th>\n",
              "      <td>1749.790</td>\n",
              "      <td>143.8</td>\n",
              "    </tr>\n",
              "    <tr>\n",
              "      <th>4</th>\n",
              "      <td>1749.874</td>\n",
              "      <td>146.4</td>\n",
              "    </tr>\n",
              "  </tbody>\n",
              "</table>\n",
              "</div>\n",
              "      <button class=\"colab-df-convert\" onclick=\"convertToInteractive('df-1f79d16c-6b39-4bd4-a6c6-86c7ad0873d9')\"\n",
              "              title=\"Convert this dataframe to an interactive table.\"\n",
              "              style=\"display:none;\">\n",
              "        \n",
              "  <svg xmlns=\"http://www.w3.org/2000/svg\" height=\"24px\"viewBox=\"0 0 24 24\"\n",
              "       width=\"24px\">\n",
              "    <path d=\"M0 0h24v24H0V0z\" fill=\"none\"/>\n",
              "    <path d=\"M18.56 5.44l.94 2.06.94-2.06 2.06-.94-2.06-.94-.94-2.06-.94 2.06-2.06.94zm-11 1L8.5 8.5l.94-2.06 2.06-.94-2.06-.94L8.5 2.5l-.94 2.06-2.06.94zm10 10l.94 2.06.94-2.06 2.06-.94-2.06-.94-.94-2.06-.94 2.06-2.06.94z\"/><path d=\"M17.41 7.96l-1.37-1.37c-.4-.4-.92-.59-1.43-.59-.52 0-1.04.2-1.43.59L10.3 9.45l-7.72 7.72c-.78.78-.78 2.05 0 2.83L4 21.41c.39.39.9.59 1.41.59.51 0 1.02-.2 1.41-.59l7.78-7.78 2.81-2.81c.8-.78.8-2.07 0-2.86zM5.41 20L4 18.59l7.72-7.72 1.47 1.35L5.41 20z\"/>\n",
              "  </svg>\n",
              "      </button>\n",
              "      \n",
              "  <style>\n",
              "    .colab-df-container {\n",
              "      display:flex;\n",
              "      flex-wrap:wrap;\n",
              "      gap: 12px;\n",
              "    }\n",
              "\n",
              "    .colab-df-convert {\n",
              "      background-color: #E8F0FE;\n",
              "      border: none;\n",
              "      border-radius: 50%;\n",
              "      cursor: pointer;\n",
              "      display: none;\n",
              "      fill: #1967D2;\n",
              "      height: 32px;\n",
              "      padding: 0 0 0 0;\n",
              "      width: 32px;\n",
              "    }\n",
              "\n",
              "    .colab-df-convert:hover {\n",
              "      background-color: #E2EBFA;\n",
              "      box-shadow: 0px 1px 2px rgba(60, 64, 67, 0.3), 0px 1px 3px 1px rgba(60, 64, 67, 0.15);\n",
              "      fill: #174EA6;\n",
              "    }\n",
              "\n",
              "    [theme=dark] .colab-df-convert {\n",
              "      background-color: #3B4455;\n",
              "      fill: #D2E3FC;\n",
              "    }\n",
              "\n",
              "    [theme=dark] .colab-df-convert:hover {\n",
              "      background-color: #434B5C;\n",
              "      box-shadow: 0px 1px 3px 1px rgba(0, 0, 0, 0.15);\n",
              "      filter: drop-shadow(0px 1px 2px rgba(0, 0, 0, 0.3));\n",
              "      fill: #FFFFFF;\n",
              "    }\n",
              "  </style>\n",
              "\n",
              "      <script>\n",
              "        const buttonEl =\n",
              "          document.querySelector('#df-1f79d16c-6b39-4bd4-a6c6-86c7ad0873d9 button.colab-df-convert');\n",
              "        buttonEl.style.display =\n",
              "          google.colab.kernel.accessAllowed ? 'block' : 'none';\n",
              "\n",
              "        async function convertToInteractive(key) {\n",
              "          const element = document.querySelector('#df-1f79d16c-6b39-4bd4-a6c6-86c7ad0873d9');\n",
              "          const dataTable =\n",
              "            await google.colab.kernel.invokeFunction('convertToInteractive',\n",
              "                                                     [key], {});\n",
              "          if (!dataTable) return;\n",
              "\n",
              "          const docLinkHtml = 'Like what you see? Visit the ' +\n",
              "            '<a target=\"_blank\" href=https://colab.research.google.com/notebooks/data_table.ipynb>data table notebook</a>'\n",
              "            + ' to learn more about interactive tables.';\n",
              "          element.innerHTML = '';\n",
              "          dataTable['output_type'] = 'display_data';\n",
              "          await google.colab.output.renderOutput(dataTable, element);\n",
              "          const docLink = document.createElement('div');\n",
              "          docLink.innerHTML = docLinkHtml;\n",
              "          element.appendChild(docLink);\n",
              "        }\n",
              "      </script>\n",
              "    </div>\n",
              "  </div>\n",
              "  "
            ]
          },
          "metadata": {},
          "execution_count": 2
        }
      ]
    },
    {
      "cell_type": "code",
      "metadata": {
        "id": "dkPib1s_NlHC",
        "outputId": "61864bbf-751a-4e23-dc3c-9e50a616358d",
        "colab": {
          "base_uri": "https://localhost:8080/"
        }
      },
      "source": [
        "# The .shape command displays the (number of rows , number of columns) in a file.\n",
        "data.shape"
      ],
      "execution_count": null,
      "outputs": [
        {
          "output_type": "execute_result",
          "data": {
            "text/plain": [
              "(3252, 2)"
            ]
          },
          "metadata": {},
          "execution_count": 3
        }
      ]
    },
    {
      "cell_type": "markdown",
      "metadata": {
        "id": "QtR0x6gINlHa"
      },
      "source": [
        "## Part One\n",
        "The table above shows the number of sunspots counted each month.\n",
        "- How far back does the data go?\n",
        "- How many rows of data do you have?\n",
        "- How is time represented in this dataset?\n",
        "When you're ready, run each code cell until you get down to **Part Two**."
      ]
    },
    {
      "cell_type": "code",
      "metadata": {
        "id": "ye8hL8wRNlHb",
        "colab": {
          "base_uri": "https://localhost:8080/",
          "height": 472
        },
        "outputId": "c450cd7f-4729-4a40-84a8-07e42d0c4e4a"
      },
      "source": [
        "# makes the scatterplot\n",
        "x=data.Year # defines the x-axis\n",
        "y=data.Sunspots # defines the y-axis\n",
        "plt.scatter(x,y, s=1) # defines the graph as a scatterplot with x and y\n",
        "plt.xlabel('x label') # label your x-axis\n",
        "plt.ylabel('y label') # label your y-axis\n",
        "plt.title('title me!') # title your graph\n",
        "plt.axis([1749, 2020, 0, 300]) # dimensions of your scatterplot\n",
        "plt.show()"
      ],
      "execution_count": null,
      "outputs": [
        {
          "output_type": "display_data",
          "data": {
            "text/plain": [
              "<Figure size 640x480 with 1 Axes>"
            ],
            "image/png": "[encoded data removed]"
          },
          "metadata": {}
        }
      ]
    },
    {
      "cell_type": "markdown",
      "metadata": {
        "id": "01BbTHNElFGf"
      },
      "source": [
        "# Part Two\n",
        "The code above makes a scatterplot with a point for the amount of sunspots each month.\n",
        "\n",
        "Do you notice a pattern in the graph?\n",
        "\n",
        "The title and axis labels on the graph could use some work. Try editing the code above the graph, then run the code again to see the changes."
      ]
    },
    {
      "cell_type": "markdown",
      "metadata": {
        "id": "6_zKJTxFlUkS"
      },
      "source": [
        " ## Part Three  \n",
        "Now it's time to conduct your own investigation. The code above lets you filter the data set by year (it's called a \"query\").  \n",
        "- Find the line that does a query on \"year\".  \n",
        "- Try filtering the data for only sunspots since 1900, then make a plot.\n",
        "- Try filtering the data for only sunspots between 1900 and 1950. Change the x-axis so you can zoom in on this data.\n",
        "\n",
        "Is the cycle about the same? How many years is it, approximately?\n",
        "\n",
        "Cut your data using a different time frame and see if the cycles are about the same length as you see here."
      ]
    },
    {
      "cell_type": "code",
      "metadata": {
        "id": "17DC-mLNiXBP",
        "colab": {
          "base_uri": "https://localhost:8080/",
          "height": 472
        },
        "outputId": "539c199e-cc3f-4f5d-b3ff-ee74037d8191"
      },
      "source": [
        "plotdata = data.query('Year < 2000') # redefining the data to plot based on your query\n",
        "x=plotdata['Year']\n",
        "y=plotdata['Sunspots']\n",
        "plt.scatter(x,y, s=1)\n",
        "plt.xlabel('x label')\n",
        "plt.ylabel('y label')\n",
        "plt.title('title me!')\n",
        "plt.axis([1749, 2020, 0, 300])\n",
        "plt.show()"
      ],
      "execution_count": null,
      "outputs": [
        {
          "output_type": "display_data",
          "data": {
            "text/plain": [
              "<Figure size 640x480 with 1 Axes>"
            ],
            "image/png": "[encoded data removed]"
          },
          "metadata": {}
        }
      ]
    },
    {
      "cell_type": "markdown",
      "metadata": {
        "id": "stay-G74lzBb"
      },
      "source": [
        "  ## Part Four  \n",
        "Let's find specific values: sort your data to find the 3 months with the greatest number of sunspots. Find the top 20 months.\n",
        "\n",
        "*   Are they near each other? Similar years?\n",
        "\n",
        "*   What would happen if you changed your sort to head from tail?\n",
        "*   Do some of those values surprise you?\n",
        "\n",
        "You can investigate where numbers in your data come from when you see surprising values. The data [website](http://www.sidc.be/silso/infosnmstot) has a button to read over how they determine sunspot averages."
      ]
    },
    {
      "cell_type": "code",
      "metadata": {
        "id": "YyxqYwU3naCg",
        "colab": {
          "base_uri": "https://localhost:8080/"
        },
        "outputId": "769c0bad-572f-4ff4-ff0d-8c0bf53e93ea"
      },
      "source": [
        "# Sort the data to find the highest values\n",
        "# Create a data frame to make sorting easier\n",
        "df = pd.DataFrame(data) # Creates a data frame from your original data\n",
        "sort_by_sunspot_number = data.sort_values('Sunspots') # Defines a sorted set\n",
        "print(sort_by_sunspot_number.tail(n=3)) #Shows just the top 3"
      ],
      "execution_count": null,
      "outputs": [
        {
          "output_type": "stream",
          "name": "stdout",
          "text": [
            "          Year  Sunspots\n",
            "2500  1957.874     284.4\n",
            "2503  1958.123     284.5\n",
            "2504  1958.204     285.0\n"
          ]
        }
      ]
    },
    {
      "cell_type": "code",
      "metadata": {
        "id": "dKCa02hdrX00"
      },
      "source": [
        "# write your own command to see the top 20 months for sunspots"
      ],
      "execution_count": null,
      "outputs": []
    },
    {
      "cell_type": "code",
      "metadata": {
        "id": "niJV0xEtspk3"
      },
      "source": [
        "# replace tail with head to find the bottom 20 months for sunspots"
      ],
      "execution_count": null,
      "outputs": []
    },
    {
      "cell_type": "markdown",
      "metadata": {
        "id": "VkFYIjqowO1A"
      },
      "source": [
        "  ## Part Five  \n",
        "Now let's look at the same data a different way.  The original data files are located here: http://www.sidc.be/silso/datafiles\n",
        "\n",
        "Find the data for yearly totals and download it to your computer. Open in Excel and turn text to columns using semicolons to delineate. Get rid of extra columns and add a row at the top with the headers. Save it and upload it to your GitHub.\n",
        "\n",
        "Pull your newly created data over for a second round of plotting.\n",
        "\n",
        "*   What does the scatterplot look like now?\n",
        "\n",
        "\n",
        "For this data, try connecting your lines instead of keeping the scatterplot. Use a different command from matplotlib.\n",
        "*   What does the graph look like now?\n",
        "\n",
        "*   Are your dimensions the same for this dataset?"
      ]
    },
    {
      "cell_type": "code",
      "metadata": {
        "id": "KYcEdgmVxQMi",
        "colab": {
          "base_uri": "https://localhost:8080/",
          "height": 39
        },
        "outputId": "ea4883bf-5be4-4743-e008-35390a6f9aca"
      },
      "source": [
        "from google.colab import files\n",
        "file = files.upload()\n",
        "data2 = pd.read_csv(list(file.keys())[0], names=[\"Year\", \"Sunspots\", \"Unk\", \"Unk1\", \"Unk2\"],sep=';',index_col=None)\n"
      ],
      "execution_count": null,
      "outputs": [
        {
          "data": {
            "text/html": [
              "\n",
              "     <input type=\"file\" id=\"files-ef71a970-3976-401a-8078-fe65d96347a3\" name=\"files[]\" multiple disabled\n",
              "        style=\"border:none\" />\n",
              "     <output id=\"result-ef71a970-3976-401a-8078-fe65d96347a3\">\n",
              "      Upload widget is only available when the cell has been executed in the\n",
              "      current browser session. Please rerun this cell to enable.\n",
              "      </output>\n",
              "      <script>// Copyright 2017 Google LLC\n",
              "//\n",
              "// Licensed under the Apache License, Version 2.0 (the \"License\");\n",
              "// you may not use this file except in compliance with the License.\n",
              "// You may obtain a copy of the License at\n",
              "//\n",
              "//      http://www.apache.org/licenses/LICENSE-2.0\n",
              "//\n",
              "// Unless required by applicable law or agreed to in writing, software\n",
              "// distributed under the License is distributed on an \"AS IS\" BASIS,\n",
              "// WITHOUT WARRANTIES OR CONDITIONS OF ANY KIND, either express or implied.\n",
              "// See the License for the specific language governing permissions and\n",
              "// limitations under the License.\n",
              "\n",
              "/**\n",
              " * @fileoverview Helpers for google.colab Python module.\n",
              " */\n",
              "(function(scope) {\n",
              "function span(text, styleAttributes = {}) {\n",
              "  const element = document.createElement('span');\n",
              "  element.textContent = text;\n",
              "  for (const key of Object.keys(styleAttributes)) {\n",
              "    element.style[key] = styleAttributes[key];\n",
              "  }\n",
              "  return element;\n",
              "}\n",
              "\n",
              "// Max number of bytes which will be uploaded at a time.\n",
              "const MAX_PAYLOAD_SIZE = 100 * 1024;\n",
              "\n",
              "function _uploadFiles(inputId, outputId) {\n",
              "  const steps = uploadFilesStep(inputId, outputId);\n",
              "  const outputElement = document.getElementById(outputId);\n",
              "  // Cache steps on the outputElement to make it available for the next call\n",
              "  // to uploadFilesContinue from Python.\n",
              "  outputElement.steps = steps;\n",
              "\n",
              "  return _uploadFilesContinue(outputId);\n",
              "}\n",
              "\n",
              "// This is roughly an async generator (not supported in the browser yet),\n",
              "// where there are multiple asynchronous steps and the Python side is going\n",
              "// to poll for completion of each step.\n",
              "// This uses a Promise to block the python side on completion of each step,\n",
              "// then passes the result of the previous step as the input to the next step.\n",
              "function _uploadFilesContinue(outputId) {\n",
              "  const outputElement = document.getElementById(outputId);\n",
              "  const steps = outputElement.steps;\n",
              "\n",
              "  const next = steps.next(outputElement.lastPromiseValue);\n",
              "  return Promise.resolve(next.value.promise).then((value) => {\n",
              "    // Cache the last promise value to make it available to the next\n",
              "    // step of the generator.\n",
              "    outputElement.lastPromiseValue = value;\n",
              "    return next.value.response;\n",
              "  });\n",
              "}\n",
              "\n",
              "/**\n",
              " * Generator function which is called between each async step of the upload\n",
              " * process.\n",
              " * @param {string} inputId Element ID of the input file picker element.\n",
              " * @param {string} outputId Element ID of the output display.\n",
              " * @return {!Iterable<!Object>} Iterable of next steps.\n",
              " */\n",
              "function* uploadFilesStep(inputId, outputId) {\n",
              "  const inputElement = document.getElementById(inputId);\n",
              "  inputElement.disabled = false;\n",
              "\n",
              "  const outputElement = document.getElementById(outputId);\n",
              "  outputElement.innerHTML = '';\n",
              "\n",
              "  const pickedPromise = new Promise((resolve) => {\n",
              "    inputElement.addEventListener('change', (e) => {\n",
              "      resolve(e.target.files);\n",
              "    });\n",
              "  });\n",
              "\n",
              "  const cancel = document.createElement('button');\n",
              "  inputElement.parentElement.appendChild(cancel);\n",
              "  cancel.textContent = 'Cancel upload';\n",
              "  const cancelPromise = new Promise((resolve) => {\n",
              "    cancel.onclick = () => {\n",
              "      resolve(null);\n",
              "    };\n",
              "  });\n",
              "\n",
              "  // Wait for the user to pick the files.\n",
              "  const files = yield {\n",
              "    promise: Promise.race([pickedPromise, cancelPromise]),\n",
              "    response: {\n",
              "      action: 'starting',\n",
              "    }\n",
              "  };\n",
              "\n",
              "  cancel.remove();\n",
              "\n",
              "  // Disable the input element since further picks are not allowed.\n",
              "  inputElement.disabled = true;\n",
              "\n",
              "  if (!files) {\n",
              "    return {\n",
              "      response: {\n",
              "        action: 'complete',\n",
              "      }\n",
              "    };\n",
              "  }\n",
              "\n",
              "  for (const file of files) {\n",
              "    const li = document.createElement('li');\n",
              "    li.append(span(file.name, {fontWeight: 'bold'}));\n",
              "    li.append(span(\n",
              "        `(${file.type || 'n/a'}) - ${file.size} bytes, ` +\n",
              "        `last modified: ${\n",
              "            file.lastModifiedDate ? file.lastModifiedDate.toLocaleDateString() :\n",
              "                                    'n/a'} - `));\n",
              "    const percent = span('0% done');\n",
              "    li.appendChild(percent);\n",
              "\n",
              "    outputElement.appendChild(li);\n",
              "\n",
              "    const fileDataPromise = new Promise((resolve) => {\n",
              "      const reader = new FileReader();\n",
              "      reader.onload = (e) => {\n",
              "        resolve(e.target.result);\n",
              "      };\n",
              "      reader.readAsArrayBuffer(file);\n",
              "    });\n",
              "    // Wait for the data to be ready.\n",
              "    let fileData = yield {\n",
              "      promise: fileDataPromise,\n",
              "      response: {\n",
              "        action: 'continue',\n",
              "      }\n",
              "    };\n",
              "\n",
              "    // Use a chunked sending to avoid message size limits. See b/62115660.\n",
              "    let position = 0;\n",
              "    do {\n",
              "      const length = Math.min(fileData.byteLength - position, MAX_PAYLOAD_SIZE);\n",
              "      const chunk = new Uint8Array(fileData, position, length);\n",
              "      position += length;\n",
              "\n",
              "      const base64 = btoa(String.fromCharCode.apply(null, chunk));\n",
              "      yield {\n",
              "        response: {\n",
              "          action: 'append',\n",
              "          file: file.name,\n",
              "          data: base64,\n",
              "        },\n",
              "      };\n",
              "\n",
              "      let percentDone = fileData.byteLength === 0 ?\n",
              "          100 :\n",
              "          Math.round((position / fileData.byteLength) * 100);\n",
              "      percent.textContent = `${percentDone}% done`;\n",
              "\n",
              "    } while (position < fileData.byteLength);\n",
              "  }\n",
              "\n",
              "  // All done.\n",
              "  yield {\n",
              "    response: {\n",
              "      action: 'complete',\n",
              "    }\n",
              "  };\n",
              "}\n",
              "\n",
              "scope.google = scope.google || {};\n",
              "scope.google.colab = scope.google.colab || {};\n",
              "scope.google.colab._files = {\n",
              "  _uploadFiles,\n",
              "  _uploadFilesContinue,\n",
              "};\n",
              "})(self);\n",
              "</script> "
            ],
            "text/plain": [
              "<IPython.core.display.HTML object>"
            ]
          },
          "metadata": {},
          "output_type": "display_data"
        }
      ]
    },
    {
      "cell_type": "code",
      "metadata": {
        "id": "920gS9kQxanZ"
      },
      "source": [
        "data2.head()\n",
        "# plot your data\n",
        "# the command 'plt.plot(x,y)' will connect lines between points on a scatterplot\n"
      ],
      "execution_count": null,
      "outputs": []
    },
    {
      "cell_type": "markdown",
      "metadata": {
        "id": "FLdrc4TKEZs_"
      },
      "source": [
        "  ## Part Six  \n",
        "What happens if you go back up to Part One and rerun the first graph you made?\n",
        "*   What does it look like?\n",
        "*  What happened?\n",
        "*   What does this tell you about working in a Colab Notebook?\n",
        "\n",
        "\n",
        "\n"
      ]
    },
    {
      "cell_type": "markdown",
      "metadata": {
        "id": "7zxnaMQNNlHf"
      },
      "source": [
        "## Saving Your Work  \n",
        "This is running on a Google server on a distant planet and deletes what you've done when you close this tab. To save your work for later use or analysis you have a few options:  \n",
        "- File > \"Save a copy in Drive\" will save it to you Google Drive in a folder called \"Collaboratory\". You can run it later from there.  \n",
        "- File > \"Download .ipynb\" to save to your computer (and run with Jupyter software later)  \n",
        "- File > Print to print.  \n",
        "- To save an image of a graph or chart, right-click on it and select Save Image as ...  \n",
        "\n",
        "\n",
        "---\n",
        "\n",
        "\n",
        "## Credits\n",
        "The data come from the [Sunspot Index and Long-term Solar Observations](http://www.sidc.be/silso/datafiles) Source: WDC-SILSO, Royal Observatory of Belgium, Brussels. This notebook was created by physics teacher and Quarknet member Tiffany Coke using a template created by fellow physics teacher Peter Apps, York Middle/High School, Retsof, NY, and further developed by [Adam LaMee](https://adamlamee.github.io/). Thanks to the great folks at [Binder](https://mybinder.org/) and [Google Colaboratory](https://colab.research.google.com/notebooks/intro.ipynb) for making this notebook interactive without you needing to download it or install [Jupyter](https://jupyter.org/) on your own device. Find more activities and license info at [CODINGinK12.org](http://www.codingink12.org)."
      ]
    }
  ]
}