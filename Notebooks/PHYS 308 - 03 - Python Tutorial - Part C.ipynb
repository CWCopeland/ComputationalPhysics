{
 "cells": [
  {
   "cell_type": "markdown",
   "metadata": {},
   "source": [
    "# PHYS 308 - Notebook 03 - Python Tutorial - Part C\n",
    "\n",
    "Interactive learning notebook developed by J. Dolen for PHYS 308 at Purdue University Northwest\n",
    "\n",
    "\n",
    "## Introduction\n",
    "\n",
    "In this notebook we will learn about Python datatypes such as lists, tuples, and dictionaries. We will also learn about string manipulation. Finally, we will explore how to use python to interact with the files on your computer.\n",
    "\n"
   ]
  },
  {
   "cell_type": "markdown",
   "metadata": {},
   "source": [
    "\n",
    "## Lists (again)\n",
    "\n",
    "Positionally ordered collections of arbitrary python data types\n",
    "\n",
    "Thy have no fixed size. They are \"mutable\"."
   ]
  },
  {
   "cell_type": "code",
   "execution_count": 1,
   "metadata": {},
   "outputs": [
    {
     "name": "stdout",
     "output_type": "stream",
     "text": [
      "[8, 2.3, 'tree']\n"
     ]
    }
   ],
   "source": [
    "l = [8, 2.3, 'tree']\n",
    "print(l)"
   ]
  },
  {
   "cell_type": "code",
   "execution_count": 2,
   "metadata": {},
   "outputs": [
    {
     "data": {
      "text/plain": [
       "0"
      ]
     },
     "execution_count": 2,
     "metadata": {},
     "output_type": "execute_result"
    }
   ],
   "source": [
    "# the function index tells you the index number of the list element\n",
    "#   containing the value given (in this case the integer 8)\n",
    "l.index(8)"
   ]
  },
  {
   "cell_type": "code",
   "execution_count": 11,
   "metadata": {},
   "outputs": [
    {
     "data": {
      "text/plain": [
       "1"
      ]
     },
     "execution_count": 11,
     "metadata": {},
     "output_type": "execute_result"
    }
   ],
   "source": [
    "# the function index tells you the index number of the list element\n",
    "#   containing the value given (in this case the float 2.3)\n",
    "l.index(2.3)"
   ]
  },
  {
   "cell_type": "code",
   "execution_count": 12,
   "metadata": {},
   "outputs": [
    {
     "data": {
      "text/plain": [
       "2"
      ]
     },
     "execution_count": 12,
     "metadata": {},
     "output_type": "execute_result"
    }
   ],
   "source": [
    "# the function index tells you the index number of the list element\n",
    "#   containing the value given (in this case the string 2.3)\n",
    "l.index('tree')"
   ]
  },
  {
   "cell_type": "code",
   "execution_count": 13,
   "metadata": {},
   "outputs": [
    {
     "data": {
      "text/plain": [
       "3"
      ]
     },
     "execution_count": 13,
     "metadata": {},
     "output_type": "execute_result"
    }
   ],
   "source": [
    "# number of items in a list\n",
    "len(l)"
   ]
  },
  {
   "cell_type": "code",
   "execution_count": 14,
   "metadata": {},
   "outputs": [
    {
     "data": {
      "text/plain": [
       "'tree'"
      ]
     },
     "execution_count": 14,
     "metadata": {},
     "output_type": "execute_result"
    }
   ],
   "source": [
    "# Access one element\n",
    "l[2]"
   ]
  },
  {
   "cell_type": "code",
   "execution_count": 15,
   "metadata": {},
   "outputs": [
    {
     "name": "stdout",
     "output_type": "stream",
     "text": [
      "[2.3, 'tree']\n",
      "[8, 2.3]\n"
     ]
    }
   ],
   "source": [
    "# Slice in order to access a subset of the list (returns a new list)\n",
    "print( l[1:]) # all elements except for element 0 (index 1 until the end of the list)\n",
    "print( l[:-1]) # all elements except for the last element "
   ]
  },
  {
   "cell_type": "code",
   "execution_count": 16,
   "metadata": {},
   "outputs": [
    {
     "name": "stdout",
     "output_type": "stream",
     "text": [
      "[8, 2.3, 'tree', 'barn', 'silo', 0.3]\n"
     ]
    }
   ],
   "source": [
    "# Add a list to a list (Concatenate)\n",
    "l = l + ['barn', 'silo', 0.3]\n",
    "print(l)"
   ]
  },
  {
   "cell_type": "code",
   "execution_count": 17,
   "metadata": {},
   "outputs": [
    {
     "name": "stdout",
     "output_type": "stream",
     "text": [
      "[8, 2.3, 'tree', 'barn', 'silo', 0.3, 49, 'tractor', 'sky']\n"
     ]
    }
   ],
   "source": [
    "# Add elements to the end of a list one element at a time (append)\n",
    "l.append(49)\n",
    "l.append('tractor')\n",
    "l.append('sky')\n",
    "print(l)"
   ]
  },
  {
   "cell_type": "code",
   "execution_count": 18,
   "metadata": {},
   "outputs": [
    {
     "name": "stdout",
     "output_type": "stream",
     "text": [
      "[8, 2.3, 'tree', 'barn', 'silo', 0.3, 49, 'tractor']\n"
     ]
    }
   ],
   "source": [
    "l.pop() # remove the last element\n",
    "print(l)"
   ]
  },
  {
   "cell_type": "code",
   "execution_count": 19,
   "metadata": {},
   "outputs": [
    {
     "name": "stdout",
     "output_type": "stream",
     "text": [
      "[2.3, 'tree', 'barn', 'silo', 0.3, 49, 'tractor']\n"
     ]
    }
   ],
   "source": [
    "l.pop(0) # remove the first element\n",
    "print(l)"
   ]
  },
  {
   "cell_type": "code",
   "execution_count": 20,
   "metadata": {},
   "outputs": [
    {
     "name": "stdout",
     "output_type": "stream",
     "text": [
      "['doghouse', 2.3, 'tree', 'barn', 'silo', 0.3, 49, 'tractor']\n",
      "['doghouse', 2.3, 'birdhouse', 'tree', 'barn', 'silo', 0.3, 49, 'tractor']\n"
     ]
    }
   ],
   "source": [
    "l.insert(0,'doghouse') # insert something in the front of the list\n",
    "print(l)\n",
    "l.insert(2,'birdhouse') # insert something at element 2\n",
    "print(l)"
   ]
  },
  {
   "cell_type": "code",
   "execution_count": 21,
   "metadata": {},
   "outputs": [
    {
     "name": "stdout",
     "output_type": "stream",
     "text": [
      "['doghouse', 2.3, 'birdhouse', 'tree', 'barn', 'silo', 0.3, 49, 'tractor']\n",
      "['doghouse', 2.3, 'birdhouse', 'tree', 'barn', 'silo', 0.3, 'tractor']\n"
     ]
    }
   ],
   "source": [
    "# the remove() function allows you to remove an element\n",
    "#   from the list based on its value (as opposed to its element position)\n",
    "print(l)\n",
    "l.remove(49) \n",
    "print(l)"
   ]
  },
  {
   "cell_type": "code",
   "execution_count": 22,
   "metadata": {},
   "outputs": [
    {
     "name": "stdout",
     "output_type": "stream",
     "text": [
      "Yes, 'birdhouse' is in the list\n",
      "No, '49' is not in the list\n"
     ]
    }
   ],
   "source": [
    "# use the 'in' keyword to check if an item is in a list\n",
    "\n",
    "if \"birdhouse\" in l:\n",
    "    print(\"Yes, 'birdhouse' is in the list\") \n",
    "else: \n",
    "    print(\"No, 'birdhouse' is not in the list\") \n",
    "if 49 in l:\n",
    "    print(\"Yes, '49' is in the list\") \n",
    "else: \n",
    "    print(\"No, '49' is not in the list\") "
   ]
  },
  {
   "cell_type": "code",
   "execution_count": 23,
   "metadata": {},
   "outputs": [
    {
     "name": "stdout",
     "output_type": "stream",
     "text": [
      "['doghouse', 2.3, 'birdhouse', 'tree', 'barn', 'silo', 0.3, 'tractor', 'cow', 'horse', 'pig']\n"
     ]
    }
   ],
   "source": [
    "# the funcion extend() is similar to append() but instead of adding\n",
    "#   a single element to the end of the list it will add multiple\n",
    "#   elements from a different list\n",
    "\n",
    "n = ['cow','horse','pig']\n",
    "l.extend(n)\n",
    "print(l)"
   ]
  },
  {
   "cell_type": "code",
   "execution_count": 24,
   "metadata": {},
   "outputs": [
    {
     "name": "stdout",
     "output_type": "stream",
     "text": [
      "['doghouse', 2.3, 'birdhouse', 'tree', 'barn', 'silo', 0.3, 'tractor', 'cow', 'horse', 'pig', 'doghouse', 2.3, 'birdhouse', 'tree', 'barn', 'silo', 0.3, 'tractor', 'cow', 'horse', 'pig', 'doghouse', 2.3, 'birdhouse', 'tree', 'barn', 'silo', 0.3, 'tractor', 'cow', 'horse', 'pig', 'doghouse', 2.3, 'birdhouse', 'tree', 'barn', 'silo', 0.3, 'tractor', 'cow', 'horse', 'pig']\n"
     ]
    }
   ],
   "source": [
    "# Repeate a list\n",
    "print(l*4)"
   ]
  },
  {
   "cell_type": "code",
   "execution_count": 25,
   "metadata": {},
   "outputs": [
    {
     "name": "stdout",
     "output_type": "stream",
     "text": [
      "[1, 1, 2, 3, 3, 5, 6, 7, 20, 20, 21, 66, 200]\n"
     ]
    }
   ],
   "source": [
    "# sort a list (change the order of the list)\n",
    "m = [5,2,6,1,21,66,200,20,3,20,3,7,1]\n",
    "m.sort()\n",
    "print(m)"
   ]
  },
  {
   "cell_type": "code",
   "execution_count": 26,
   "metadata": {},
   "outputs": [
    {
     "ename": "TypeError",
     "evalue": "'<' not supported between instances of 'float' and 'str'",
     "output_type": "error",
     "traceback": [
      "\u001b[0;31m---------------------------------------------------------------------------\u001b[0m",
      "\u001b[0;31mTypeError\u001b[0m                                 Traceback (most recent call last)",
      "\u001b[0;32m<ipython-input-26-a5d6500c213a>\u001b[0m in \u001b[0;36m<module>\u001b[0;34m\u001b[0m\n\u001b[1;32m      1\u001b[0m \u001b[0;31m# does not work for mixed data types\u001b[0m\u001b[0;34m\u001b[0m\u001b[0;34m\u001b[0m\u001b[0;34m\u001b[0m\u001b[0m\n\u001b[0;32m----> 2\u001b[0;31m \u001b[0ml\u001b[0m\u001b[0;34m.\u001b[0m\u001b[0msort\u001b[0m\u001b[0;34m(\u001b[0m\u001b[0;34m)\u001b[0m\u001b[0;34m\u001b[0m\u001b[0;34m\u001b[0m\u001b[0m\n\u001b[0m\u001b[1;32m      3\u001b[0m \u001b[0mprint\u001b[0m\u001b[0;34m(\u001b[0m\u001b[0ml\u001b[0m\u001b[0;34m)\u001b[0m\u001b[0;34m\u001b[0m\u001b[0;34m\u001b[0m\u001b[0m\n",
      "\u001b[0;31mTypeError\u001b[0m: '<' not supported between instances of 'float' and 'str'"
     ]
    }
   ],
   "source": [
    "# does not work for mixed data types\n",
    "l.sort()\n",
    "print(l)"
   ]
  },
  {
   "cell_type": "code",
   "execution_count": 27,
   "metadata": {},
   "outputs": [
    {
     "name": "stdout",
     "output_type": "stream",
     "text": [
      "[200, 66, 21, 20, 20, 7, 6, 5, 3, 3, 2, 1, 1]\n"
     ]
    }
   ],
   "source": [
    "# reverse sort a list using the reverse() function\n",
    "m.reverse()\n",
    "print(m)"
   ]
  },
  {
   "cell_type": "code",
   "execution_count": 28,
   "metadata": {},
   "outputs": [
    {
     "name": "stdout",
     "output_type": "stream",
     "text": [
      "[1, 1, 2, 3, 3, 5, 6, 7, 20, 20, 21, 66, 200]\n",
      "[200, 66, 21, 20, 20, 7, 6, 5, 3, 3, 2, 1, 1]\n"
     ]
    }
   ],
   "source": [
    "# we can also reverse sort a list\n",
    "#   using the sort function with paramter reverse=True\n",
    "\n",
    "m.sort()\n",
    "print(m)\n",
    "m.sort(reverse=True)\n",
    "print(m)"
   ]
  },
  {
   "cell_type": "code",
   "execution_count": 29,
   "metadata": {},
   "outputs": [
    {
     "name": "stdout",
     "output_type": "stream",
     "text": [
      "Original List:\n",
      "['watermelon', 'plum', 'peach', 'pineapple', 'strawberry', 'grape', 'lemon', 'apple', 'banana', 'pear']\n",
      "\n",
      "Sort:\n",
      "['apple', 'banana', 'grape', 'lemon', 'peach', 'pear', 'pineapple', 'plum', 'strawberry', 'watermelon']\n",
      "\n",
      "Sort by length:\n",
      "['pear', 'plum', 'apple', 'grape', 'lemon', 'peach', 'banana', 'pineapple', 'strawberry', 'watermelon']\n",
      "\n",
      "Reverse sort by length:\n",
      "['strawberry', 'watermelon', 'pineapple', 'banana', 'apple', 'grape', 'lemon', 'peach', 'pear', 'plum']\n"
     ]
    }
   ],
   "source": [
    "# We can also use functions to sort in different ways\n",
    "\n",
    "print(\"Original List:\")\n",
    "fruits = ['watermelon','plum','peach','pineapple','strawberry','grape','lemon','apple','banana','pear']\n",
    "print(fruits)\n",
    "\n",
    "# sort() will sort the list alphabetically\n",
    "print(\"\\nSort:\")\n",
    "fruits.sort()\n",
    "print(fruits)\n",
    "\n",
    "\n",
    "# we can also use a 'key' to sort with a function\n",
    "#  in this case sort by the length of the value\n",
    "print(\"\\nSort by length:\")\n",
    "#def myLength(value):\n",
    "#    return len(value)\n",
    "\n",
    "def myLength(value):\n",
    "    return len(value)\n",
    "\n",
    "fruits.sort(key=myLength)\n",
    "print(fruits)\n",
    "\n",
    "# Finally, we can sort by longest word first:\n",
    "\n",
    "print(\"\\nReverse sort by length:\")\n",
    "fruits.sort(key=myLength,reverse=True)\n",
    "print(fruits)"
   ]
  },
  {
   "cell_type": "code",
   "execution_count": null,
   "metadata": {
    "collapsed": true
   },
   "outputs": [],
   "source": []
  },
  {
   "cell_type": "code",
   "execution_count": 30,
   "metadata": {},
   "outputs": [
    {
     "name": "stdout",
     "output_type": "stream",
     "text": [
      "20\n"
     ]
    },
    {
     "ename": "IndexError",
     "evalue": "list index out of range",
     "output_type": "error",
     "traceback": [
      "\u001b[0;31m---------------------------------------------------------------------------\u001b[0m",
      "\u001b[0;31mIndexError\u001b[0m                                Traceback (most recent call last)",
      "\u001b[0;32m<ipython-input-30-755cc22dd68c>\u001b[0m in \u001b[0;36m<module>\u001b[0;34m\u001b[0m\n\u001b[1;32m      1\u001b[0m \u001b[0;31m# bounds\u001b[0m\u001b[0;34m\u001b[0m\u001b[0;34m\u001b[0m\u001b[0;34m\u001b[0m\u001b[0m\n\u001b[1;32m      2\u001b[0m \u001b[0mprint\u001b[0m\u001b[0;34m(\u001b[0m\u001b[0mm\u001b[0m\u001b[0;34m[\u001b[0m\u001b[0;36m3\u001b[0m\u001b[0;34m]\u001b[0m\u001b[0;34m)\u001b[0m\u001b[0;34m\u001b[0m\u001b[0;34m\u001b[0m\u001b[0m\n\u001b[0;32m----> 3\u001b[0;31m \u001b[0mprint\u001b[0m\u001b[0;34m(\u001b[0m\u001b[0mm\u001b[0m\u001b[0;34m[\u001b[0m\u001b[0;36m20\u001b[0m\u001b[0;34m]\u001b[0m\u001b[0;34m)\u001b[0m\u001b[0;34m\u001b[0m\u001b[0;34m\u001b[0m\u001b[0m\n\u001b[0m",
      "\u001b[0;31mIndexError\u001b[0m: list index out of range"
     ]
    }
   ],
   "source": [
    "# bounds\n",
    "print(m[3])\n",
    "print(m[20])"
   ]
  },
  {
   "cell_type": "code",
   "execution_count": 31,
   "metadata": {},
   "outputs": [
    {
     "name": "stdout",
     "output_type": "stream",
     "text": [
      "m =  [200, 66, 21, 20, 20, 7, 6, 5, 3, 3, 2, 1, 1]\n",
      "The list m contains the number 1 this many times:  2\n",
      "The list m contains the number 2 this many times:  1\n",
      "The list m contains the number 3 this many times:  2\n",
      "The list m contains the number 4 this many times:  0\n",
      "The list m contains the number 5 this many times:  1\n"
     ]
    }
   ],
   "source": [
    "# We can use the function count() to check how many times a given\n",
    "#   value appears in a list\n",
    "print(\"m = \",m)\n",
    "print(\"The list m contains the number 1 this many times: \", m.count(1))\n",
    "print(\"The list m contains the number 2 this many times: \", m.count(2))\n",
    "print(\"The list m contains the number 3 this many times: \", m.count(3))\n",
    "print(\"The list m contains the number 4 this many times: \", m.count(4))\n",
    "print(\"The list m contains the number 5 this many times: \", m.count(5))\n"
   ]
  },
  {
   "cell_type": "code",
   "execution_count": 32,
   "metadata": {},
   "outputs": [
    {
     "name": "stdout",
     "output_type": "stream",
     "text": [
      "m =  [5, 2, 6, 1, 21, 66, 200, 20, 3, 20, 3, 7, 1]\n",
      "n =  [5, 2, 6, 1, 21, 66, 200, 20, 3, 20, 3, 7, 1]\n",
      "\n",
      "m =  [5, 2, 6, 1, 21, 66, 200, 20, 3, 20, 3, 7, 1]\n",
      "n =  [5, 2, 6, 1, 21, 66, 200, 20, 3, 20, 3, 7, 1, 'hello']\n"
     ]
    }
   ],
   "source": [
    "# We can also copy a list with the copy() function\n",
    "\n",
    "m = [5,2,6,1,21,66,200,20,3,20,3,7,1]\n",
    "\n",
    "n = m.copy()\n",
    "print(\"m = \",m)\n",
    "print(\"n = \",n)\n",
    "print()\n",
    "\n",
    "n.append(\"hello\")\n",
    "print(\"m = \",m)\n",
    "print(\"n = \",n)\n"
   ]
  },
  {
   "cell_type": "code",
   "execution_count": 119,
   "metadata": {},
   "outputs": [
    {
     "name": "stdout",
     "output_type": "stream",
     "text": [
      "m =  [5, 2, 6, 1, 21, 66, 200, 20, 3, 20, 3, 7, 1]\n",
      "k =  [5, 2, 6, 1, 21, 66, 200, 20, 3, 20, 3, 7, 1]\n",
      "\n",
      "m =  [5, 2, 6, 1, 21, 66, 200, 20, 3, 20, 3, 7, 1, 'hello']\n",
      "k =  [5, 2, 6, 1, 21, 66, 200, 20, 3, 20, 3, 7, 1, 'hello']\n"
     ]
    }
   ],
   "source": [
    "# Note: the copy() function is different than assigning equality\n",
    "\n",
    "m = [5,2,6,1,21,66,200,20,3,20,3,7,1]\n",
    "\n",
    "k = m\n",
    "print(\"m = \",m)\n",
    "print(\"k = \",k)\n",
    "print()\n",
    "\n",
    "k.append(\"hello\")\n",
    "print(\"m = \",m)\n",
    "print(\"k = \",k)\n"
   ]
  },
  {
   "cell_type": "code",
   "execution_count": 78,
   "metadata": {},
   "outputs": [
    {
     "name": "stdout",
     "output_type": "stream",
     "text": [
      "n =  []\n"
     ]
    }
   ],
   "source": [
    "#  We can also remove all of the elements of a list with clear()\n",
    "\n",
    "n.clear()\n",
    "print(\"n = \",n)"
   ]
  },
  {
   "cell_type": "code",
   "execution_count": 72,
   "metadata": {},
   "outputs": [
    {
     "name": "stdout",
     "output_type": "stream",
     "text": [
      "[[3, 5, 7], [7, 8, 9], [13, 17, 21]]\n",
      "[3, 5, 7]\n",
      "5\n"
     ]
    }
   ],
   "source": [
    "# Nesting lists\n",
    "#   Python allows you to make lists of lists!\n",
    "\n",
    "L = [  [3,5,7], \n",
    "       [7,8,9], \n",
    "       [13,17,21]\n",
    "    ]\n",
    "\n",
    "print(L)\n",
    "print(L[0])      # Element 0\n",
    "print(L[0][1])   # Element 1 of the list contained at element 0\n",
    "                 ####  ( or [row][column])"
   ]
  },
  {
   "cell_type": "code",
   "execution_count": 6,
   "metadata": {},
   "outputs": [
    {
     "data": {
      "image/png": "[encoded data removed]",
      "text/plain": [
       "<Figure size 432x288 with 1 Axes>"
      ]
     },
     "metadata": {
      "needs_background": "light"
     },
     "output_type": "display_data"
    }
   ],
   "source": [
    "# Example using nested lists\n",
    "#\n",
    "\n",
    "import matplotlib.pyplot as plt\n",
    "\n",
    "# Goal: Track the position of three different objects\n",
    "#  moving in one dimension under the influence of gravity\n",
    "# The three objects have different initial position and velocity\n",
    "\n",
    "# We can use one list of lists to simultanously track both the \n",
    "#   position and velocity for each of the three objects\n",
    "#      [[y1,vy1],[y2,vy2],[y3,vy3]]\n",
    "list_hold_value_y_vy = [[50,10],[100,-10],[150,-20]]\n",
    "\n",
    "# Define a function which calcluates how the \n",
    "#   position and velocity will change\n",
    "#   after a given time interval delta_t\n",
    "#   Input a list L containing [y,vy] and the time interval delta_t\n",
    "\n",
    "def kinematic_change(L,delta_t):\n",
    "    ay = -9.8 # Acceleration in the y direction (m/s^2) \n",
    "    y0 = L[0] # Inititial position in y (m)\n",
    "    v0 = L[1] # Inititial velocity in y (m/s)\n",
    "    # Use constant acceleration kinematic equations to find new position and velocity after some small time interval\n",
    "    y = y0 + v0*delta_t + 0.5*ay*delta_t**2\n",
    "    v = v0 + ay*delta_t\n",
    "    new_L = [y,v]\n",
    "    return new_L\n",
    "\n",
    "# Define some lists which we will use save the position \n",
    "#   after each time step so we can make a pretty plot\n",
    "plot_y1 = []\n",
    "plot_y2 = []\n",
    "plot_y3 = []\n",
    "plot_t = []\n",
    "\n",
    "# Track the total time that has elapsed\n",
    "time =0\n",
    "\n",
    "\n",
    "for i in range (0,35,1):\n",
    "    # Define a time step\n",
    "    step = i/100\n",
    "    time += step \n",
    "    # Use our function to change the position and velocity\n",
    "    #   of each object\n",
    "    for j in range(len(list_hold_value_y_vy)):\n",
    "        list_hold_value_y_vy[j]=kinematic_change(list_hold_value_y_vy[j],step)\n",
    "\n",
    "    # Record the new positions for the plot\n",
    "    plot_y1.append(list_hold_value_y_vy[0][0])\n",
    "    plot_y2.append(list_hold_value_y_vy[1][0])\n",
    "    plot_y3.append(list_hold_value_y_vy[2][0])\n",
    "    plot_t.append(time)\n",
    "\n",
    "# Plot the results (we haven't learned this yet)    \n",
    "plt.plot(plot_t,plot_y1,\"-\",label='y0 = 50 m, v0 = 10 m/s')\n",
    "plt.plot(plot_t,plot_y2,\"--\",label='y0 = 100 m, v0 = -10 m/s')\n",
    "plt.plot(plot_t,plot_y3,\"-.\",label='y0 = 150 m, v0 = -20 m/s')\n",
    "plt.xlabel('Time (s)')\n",
    "plt.ylabel('y position (m)')\n",
    "plt.grid()\n",
    "plt.ylim((0,160))\n",
    "plt.legend()\n",
    "plt.show()\n"
   ]
  },
  {
   "cell_type": "markdown",
   "metadata": {},
   "source": [
    "#### list comprehensions \n",
    "\n",
    "Neat python method to create new lists. This is a bit advanced but it is good to gain exposure to this idea so you know where to look it up if you see it in the future.\n"
   ]
  },
  {
   "cell_type": "code",
   "execution_count": 7,
   "metadata": {},
   "outputs": [
    {
     "name": "stdout",
     "output_type": "stream",
     "text": [
      "[[3, 5, 7], [7, 8, 9], [13, 17, 21]]\n"
     ]
    }
   ],
   "source": [
    "\n",
    "L = [  [3,5,7], \n",
    "       [7,8,9], \n",
    "       [13,17,21]\n",
    "    ]\n",
    "\n",
    "print(L)"
   ]
  },
  {
   "cell_type": "code",
   "execution_count": 13,
   "metadata": {},
   "outputs": [
    {
     "name": "stdout",
     "output_type": "stream",
     "text": [
      "  List entry : [3, 5, 7]\n",
      "  List entry : [7, 8, 9]\n",
      "  List entry : [13, 17, 21]\n",
      "newcolumn = [3, 7, 13]\n"
     ]
    }
   ],
   "source": [
    "# Lets say we want to extra one column from a list of lists. We could do so as follows:\n",
    "\n",
    "newcolumn = []\n",
    "for entry in L:\n",
    "    print(\"  List entry :\",entry)\n",
    "    newcolumn.append(entry[0])\n",
    "    \n",
    "print(\"newcolumn =\",newcolumn)    \n"
   ]
  },
  {
   "cell_type": "code",
   "execution_count": 16,
   "metadata": {},
   "outputs": [
    {
     "name": "stdout",
     "output_type": "stream",
     "text": [
      "col =  [3, 7, 13]\n"
     ]
    }
   ],
   "source": [
    "# \"list comprehensions\" allow us to do the same thing we did above, but in only one line\n",
    "\n",
    "# create a list from a nested list (extract one column)\n",
    "col = [entry[0] for entry in L]\n",
    "print(\"col = \",col)"
   ]
  },
  {
   "cell_type": "code",
   "execution_count": 18,
   "metadata": {},
   "outputs": [
    {
     "name": "stdout",
     "output_type": "stream",
     "text": [
      "len(L) =  3\n",
      "diag =  [3, 8, 21]\n"
     ]
    }
   ],
   "source": [
    "# Another example: create a list from a nested list (extract the diagonals)\n",
    "print(\"len(L) = \",len(L))\n",
    "diag = [L[i][i] for i in range(len(L)) ]\n",
    "print(\"diag = \",diag)"
   ]
  },
  {
   "cell_type": "code",
   "execution_count": 21,
   "metadata": {},
   "outputs": [
    {
     "name": "stdout",
     "output_type": "stream",
     "text": [
      "[1, 2, 4, 8, 16, 32, 64, 128, 256, 512]\n",
      "\n",
      "[0, 1, 4, 9, 16, 25, 36, 49, 64, 81]\n",
      "\n"
     ]
    }
   ],
   "source": [
    "# \"list comprehensions\" can also be used to create a list from a mathematical equation\n",
    "my_list_A = [2**x for x in range(10)]\n",
    "print(my_list_A)\n",
    "print()\n",
    "\n",
    "my_list_B = [x**2 for x in range(10)]\n",
    "print(my_list_B)\n",
    "print()"
   ]
  },
  {
   "cell_type": "code",
   "execution_count": 23,
   "metadata": {},
   "outputs": [
    {
     "name": "stdout",
     "output_type": "stream",
     "text": [
      "[0, 1, 4, 9, 16, 25, 36, 49, 64, 81]\n"
     ]
    }
   ],
   "source": [
    "# we could also do this with a traditional for loop:\n",
    "\n",
    "my_list_C = []\n",
    "for x in range(10):\n",
    "    my_list_C.append(x**2)\n",
    "    \n",
    "print(my_list_C)"
   ]
  },
  {
   "cell_type": "code",
   "execution_count": 27,
   "metadata": {},
   "outputs": [
    {
     "name": "stdout",
     "output_type": "stream",
     "text": [
      "[0, 1, 2, 3, 4, 5, 6, 7, 8, 9, 10, 11, 12, 13, 14, 15, 16, 17, 18, 19]\n",
      "[1, 3, 5, 7, 9, 11, 13, 15, 17, 19]\n",
      "[2, 6, 10, 14, 18, 22, 26, 30, 34, 38]\n",
      "\n"
     ]
    }
   ],
   "source": [
    "# other tricks\n",
    "\n",
    "# Make a list of all numbers between 0 and 19\n",
    "numbers = [x for x in range(20)]\n",
    "print(numbers)\n",
    "\n",
    "# Make a list of all odd numbers between 0 and 19\n",
    "oddnumbers = [x for x in range(20) if x%2==1 ]\n",
    "print(oddnumbers)\n",
    "\n",
    "# Double every odd number between 0 and 19\n",
    "doubled_odds = [n * 2 for n in numbers if n % 2 == 1]\n",
    "print(doubled_odds)\n",
    "print()"
   ]
  },
  {
   "cell_type": "code",
   "execution_count": 209,
   "metadata": {},
   "outputs": [
    {
     "name": "stdout",
     "output_type": "stream",
     "text": [
      "[[1, 7], [1, 8], [2, 7], [2, 8]]\n",
      "[[1, 7], [1, 8], [2, 7], [2, 8]]\n"
     ]
    }
   ],
   "source": [
    "# parallel list comprehension\n",
    "par = [[x, y] for x in range(1, 3) for y in range(7, 9)]\n",
    "print(par)\n",
    "\n",
    "# we could do this with a nested for loop instead\n",
    "\n",
    "par2 = []\n",
    "for x in range(1, 3):\n",
    "    for y in range(7, 9):\n",
    "        entry = [x,y]\n",
    "        par2.append(entry)\n",
    "print(par2)"
   ]
  },
  {
   "cell_type": "markdown",
   "metadata": {},
   "source": [
    "## Tuples\n",
    "\n",
    "We've discussed lists. Now introducing tuples.\n",
    "\n",
    "Tuples are like lists, but an element of a tuple can not be changed. They are \"immutable\". Use them to represent fixed collections."
   ]
  },
  {
   "cell_type": "code",
   "execution_count": 29,
   "metadata": {},
   "outputs": [],
   "source": [
    "t = (3,2,1,6)  # use parentheses for tuples"
   ]
  },
  {
   "cell_type": "code",
   "execution_count": 30,
   "metadata": {},
   "outputs": [
    {
     "data": {
      "text/plain": [
       "tuple"
      ]
     },
     "execution_count": 30,
     "metadata": {},
     "output_type": "execute_result"
    }
   ],
   "source": [
    "type(t)"
   ]
  },
  {
   "cell_type": "code",
   "execution_count": 31,
   "metadata": {},
   "outputs": [],
   "source": [
    "l = [0,3,3,2] # use square brackets for lists"
   ]
  },
  {
   "cell_type": "code",
   "execution_count": 32,
   "metadata": {},
   "outputs": [
    {
     "data": {
      "text/plain": [
       "list"
      ]
     },
     "execution_count": 32,
     "metadata": {},
     "output_type": "execute_result"
    }
   ],
   "source": [
    "type(l)"
   ]
  },
  {
   "cell_type": "code",
   "execution_count": 33,
   "metadata": {},
   "outputs": [
    {
     "name": "stdout",
     "output_type": "stream",
     "text": [
      "(0, 3, 3, 2)\n"
     ]
    }
   ],
   "source": [
    "# convert a list to a tuple\n",
    "T = tuple(l)\n",
    "print(T)"
   ]
  },
  {
   "cell_type": "code",
   "execution_count": 34,
   "metadata": {},
   "outputs": [
    {
     "data": {
      "text/plain": [
       "4"
      ]
     },
     "execution_count": 34,
     "metadata": {},
     "output_type": "execute_result"
    }
   ],
   "source": [
    "len(t)   # number of elements in a tuple"
   ]
  },
  {
   "cell_type": "code",
   "execution_count": 35,
   "metadata": {},
   "outputs": [
    {
     "data": {
      "text/plain": [
       "3"
      ]
     },
     "execution_count": 35,
     "metadata": {},
     "output_type": "execute_result"
    }
   ],
   "source": [
    "t[0]  # access a specific element by referencing a given index (index 0)"
   ]
  },
  {
   "cell_type": "code",
   "execution_count": 36,
   "metadata": {},
   "outputs": [
    {
     "name": "stdout",
     "output_type": "stream",
     "text": [
      "(3, 2, 1, 6)\n",
      "(1, 6)\n"
     ]
    }
   ],
   "source": [
    "print(t)\n",
    "print(t[2:]) # slicing still works with tuples"
   ]
  },
  {
   "cell_type": "code",
   "execution_count": 37,
   "metadata": {},
   "outputs": [
    {
     "ename": "TypeError",
     "evalue": "'tuple' object does not support item assignment",
     "output_type": "error",
     "traceback": [
      "\u001b[0;31m---------------------------------------------------------------------------\u001b[0m",
      "\u001b[0;31mTypeError\u001b[0m                                 Traceback (most recent call last)",
      "\u001b[0;32m<ipython-input-37-ad0fdf27e0f4>\u001b[0m in \u001b[0;36m<module>\u001b[0;34m\u001b[0m\n\u001b[0;32m----> 1\u001b[0;31m \u001b[0mt\u001b[0m\u001b[0;34m[\u001b[0m\u001b[0;36m0\u001b[0m\u001b[0;34m]\u001b[0m\u001b[0;34m=\u001b[0m\u001b[0;36m5\u001b[0m   \u001b[0;31m# you are not allowed to change an element of a tuple\u001b[0m\u001b[0;34m\u001b[0m\u001b[0;34m\u001b[0m\u001b[0m\n\u001b[0m",
      "\u001b[0;31mTypeError\u001b[0m: 'tuple' object does not support item assignment"
     ]
    }
   ],
   "source": [
    "t[0]=5   # you are not allowed to change an element of a tuple"
   ]
  },
  {
   "cell_type": "code",
   "execution_count": 38,
   "metadata": {},
   "outputs": [
    {
     "name": "stdout",
     "output_type": "stream",
     "text": [
      "(3, 2, 1, 6, 9, 8, 7)\n"
     ]
    }
   ],
   "source": [
    "# You can combine tuples (\"Concatenation\")\n",
    "s = (9,8,7)\n",
    "t=t+s\n",
    "print(t)"
   ]
  },
  {
   "cell_type": "code",
   "execution_count": 39,
   "metadata": {},
   "outputs": [
    {
     "ename": "AttributeError",
     "evalue": "'tuple' object has no attribute 'append'",
     "output_type": "error",
     "traceback": [
      "\u001b[0;31m---------------------------------------------------------------------------\u001b[0m",
      "\u001b[0;31mAttributeError\u001b[0m                            Traceback (most recent call last)",
      "\u001b[0;32m<ipython-input-39-5c6d2e9336d4>\u001b[0m in \u001b[0;36m<module>\u001b[0;34m\u001b[0m\n\u001b[1;32m      1\u001b[0m \u001b[0;31m# but there is no \"append\", nor or their many other tools from lists. tuples are for fixed data\u001b[0m\u001b[0;34m\u001b[0m\u001b[0;34m\u001b[0m\u001b[0;34m\u001b[0m\u001b[0m\n\u001b[0;32m----> 2\u001b[0;31m \u001b[0mt\u001b[0m\u001b[0;34m.\u001b[0m\u001b[0mappend\u001b[0m\u001b[0;34m(\u001b[0m\u001b[0;36m8\u001b[0m\u001b[0;34m)\u001b[0m\u001b[0;34m\u001b[0m\u001b[0;34m\u001b[0m\u001b[0m\n\u001b[0m",
      "\u001b[0;31mAttributeError\u001b[0m: 'tuple' object has no attribute 'append'"
     ]
    }
   ],
   "source": [
    "# but there is no \"append\", nor or their many other tools from lists. tuples are for fixed data\n",
    "t.append(8) "
   ]
  },
  {
   "cell_type": "code",
   "execution_count": 40,
   "metadata": {},
   "outputs": [
    {
     "name": "stdout",
     "output_type": "stream",
     "text": [
      "(3, 2, 1, 6, 9, 8, 7)\n",
      "(5, 2, 1, 6, 9, 8, 7)\n"
     ]
    }
   ],
   "source": [
    "# If you do want to change an element of a tuple, one option is to \n",
    "# create a new tuple\n",
    "print(t)\n",
    "t_new = (5,) + t[1:]\n",
    "print(t_new)"
   ]
  },
  {
   "cell_type": "code",
   "execution_count": 224,
   "metadata": {},
   "outputs": [
    {
     "name": "stdout",
     "output_type": "stream",
     "text": [
      "[5, 4, 3]\n",
      "[6, 4, 3]\n",
      "[3, 4, 6]\n",
      "(3, 4, 6)\n"
     ]
    }
   ],
   "source": [
    "#If you need to change many elements, or sort the tuple, you can convert to a list and back\n",
    "xt = (5,4,3)\n",
    "xl = list(xt)\n",
    "print(xl)\n",
    "xl[0]=6\n",
    "print(xl)\n",
    "xl.sort()\n",
    "print(xl)\n",
    "xt = tuple(xl)\n",
    "print(xt)"
   ]
  },
  {
   "cell_type": "code",
   "execution_count": 225,
   "metadata": {},
   "outputs": [
    {
     "name": "stdout",
     "output_type": "stream",
     "text": [
      "[3, 3, 4, 5, 8, 201, 382]\n",
      "[382, 201, 8, 5, 4, 3, 3]\n"
     ]
    }
   ],
   "source": [
    "# there is also a sorted method, \n",
    "#   which sorts the TUPLE and returns a LIST\n",
    "\n",
    "yt=(5,3,201,382,3,8,4)\n",
    "lts = sorted(yt)\n",
    "print(lts)\n",
    "# or reverse it\n",
    "ltr = sorted(yt,reverse=True)\n",
    "print(ltr)"
   ]
  },
  {
   "cell_type": "code",
   "execution_count": 18,
   "metadata": {},
   "outputs": [
    {
     "name": "stdout",
     "output_type": "stream",
     "text": [
      "((9, 4), (4, 2), (3, 4), (8, 9))\n",
      "\n",
      "[(4, 2), (9, 4), (3, 4), (8, 9)]\n"
     ]
    }
   ],
   "source": [
    "# There are also tricks you can play to sort by a function\n",
    "zt = ( (9,4), (4,2), (3,4), (8,9)  )\n",
    "\n",
    "# Define a function which grabs the first element of a sub-tuple\n",
    "def getKey(x):\n",
    "    return x[1]\n",
    "\n",
    "# Use this function as the \"key\" for sorting the tuple\n",
    "sorted_list_from_2dtuple = sorted(zt,key=getKey)\n",
    "\n",
    "print(zt)\n",
    "print()\n",
    "print(sorted_list_from_2dtuple)"
   ]
  },
  {
   "cell_type": "code",
   "execution_count": null,
   "metadata": {
    "collapsed": true
   },
   "outputs": [],
   "source": []
  },
  {
   "cell_type": "code",
   "execution_count": 41,
   "metadata": {},
   "outputs": [
    {
     "name": "stdout",
     "output_type": "stream",
     "text": [
      "4\n"
     ]
    }
   ],
   "source": [
    "# find the tuple element for the first appearance of a number\n",
    "q=(0,0,2,5,7,7)\n",
    "print(q.index(7))  "
   ]
  },
  {
   "cell_type": "code",
   "execution_count": 42,
   "metadata": {},
   "outputs": [
    {
     "data": {
      "text/plain": [
       "2"
      ]
     },
     "execution_count": 42,
     "metadata": {},
     "output_type": "execute_result"
    }
   ],
   "source": [
    "# count how many times a number appears in the tuple\n",
    "q.count(7)"
   ]
  },
  {
   "cell_type": "code",
   "execution_count": 43,
   "metadata": {},
   "outputs": [],
   "source": [
    "# one can leave out the paretheses when first defining the tuple\n",
    "r = 3,3,10"
   ]
  },
  {
   "cell_type": "code",
   "execution_count": 44,
   "metadata": {},
   "outputs": [
    {
     "data": {
      "text/plain": [
       "tuple"
      ]
     },
     "execution_count": 44,
     "metadata": {},
     "output_type": "execute_result"
    }
   ],
   "source": [
    "type(r)"
   ]
  },
  {
   "cell_type": "code",
   "execution_count": 45,
   "metadata": {},
   "outputs": [
    {
     "name": "stdout",
     "output_type": "stream",
     "text": [
      "(3, 3, 10, 'dog', 'cat', 3.9, 5)\n"
     ]
    }
   ],
   "source": [
    "# the tuple can contain multiple data types\n",
    "r = r + ('dog','cat',3.9,5)\n",
    "print(r)"
   ]
  },
  {
   "cell_type": "code",
   "execution_count": 234,
   "metadata": {},
   "outputs": [
    {
     "name": "stdout",
     "output_type": "stream",
     "text": [
      "Entire tuple :  (3, 4.1, (3, 5), [8, 9])\n",
      "Value at index 0    :  3\n",
      "Value at index 1    :  4.1\n",
      "Value at index 2    :  (3, 5) , type <class 'tuple'>\n",
      "Value at index 3    :  [8, 9] , type <class 'list'>\n",
      "Value at index 1 nested within the value at index 2:  5\n",
      "Value at index 0 nested within the value at index 3:  8\n"
     ]
    }
   ],
   "source": [
    "# you can also \"nest\" a tuple or list inside a tuple \n",
    "\n",
    "u = (3,4.1, (3,5), [8,9] )\n",
    "\n",
    "print(\"Entire tuple : \", u)       \n",
    "print(\"Value at index 0    : \", u[0])\n",
    "print(\"Value at index 1    : \", u[1])\n",
    "print(\"Value at index 2    : \", u[2],\", type\",type(u[2]))\n",
    "print(\"Value at index 3    : \", u[3],\", type\",type(u[3]))\n",
    "print(\"Value at index 1 nested within the value at index 2: \", u[2][1])\n",
    "print(\"Value at index 0 nested within the value at index 3: \", u[3][0])"
   ]
  },
  {
   "cell_type": "code",
   "execution_count": null,
   "metadata": {
    "collapsed": true
   },
   "outputs": [],
   "source": []
  },
  {
   "cell_type": "markdown",
   "metadata": {},
   "source": [
    "## Dictionaries\n",
    "\n",
    "Dictionaries are not sequences like lists and tuples (there is no positional ordering).\n",
    "\n",
    "Instead, objects are stored by \"key\" (the object is mapped to the key)\n",
    "\n",
    "Dictionaries are mutable (they can be modified, grow, and shrink)\n",
    "\n",
    "variable_name = {key:value}"
   ]
  },
  {
   "cell_type": "code",
   "execution_count": 46,
   "metadata": {},
   "outputs": [],
   "source": [
    "d = {'food': 'Beans', 'count': 4, 'type': 'canned'}  # use curly braces for dictionaries"
   ]
  },
  {
   "cell_type": "code",
   "execution_count": 47,
   "metadata": {},
   "outputs": [
    {
     "data": {
      "text/plain": [
       "'Beans'"
      ]
     },
     "execution_count": 47,
     "metadata": {},
     "output_type": "execute_result"
    }
   ],
   "source": [
    "# access by key:\n",
    "d['food']"
   ]
  },
  {
   "cell_type": "code",
   "execution_count": 48,
   "metadata": {},
   "outputs": [
    {
     "name": "stdout",
     "output_type": "stream",
     "text": [
      "4\n",
      "5\n",
      "{'food': 'Beans', 'count': 5, 'type': 'canned'}\n"
     ]
    }
   ],
   "source": [
    "print(d['count'])\n",
    "\n",
    "# Modify by key\n",
    "d['count']+=1\n",
    "print(d['count'])\n",
    "print(d)"
   ]
  },
  {
   "cell_type": "code",
   "execution_count": 50,
   "metadata": {},
   "outputs": [
    {
     "name": "stdout",
     "output_type": "stream",
     "text": [
      "{'food': 'Beans', 'count': 5, 'type': 'canned'}\n",
      "\n",
      "food\n",
      "count\n",
      "type\n",
      "\n",
      "Beans\n",
      "5\n",
      "canned\n"
     ]
    }
   ],
   "source": [
    "print(d)\n",
    "\n",
    "# loop through the keys\n",
    "print()\n",
    "for i in d:\n",
    "    print(i)\n",
    "    \n",
    "# loop through the keys and print the values\n",
    "print()\n",
    "for i in d:\n",
    "    print(d[i])"
   ]
  },
  {
   "cell_type": "code",
   "execution_count": 51,
   "metadata": {},
   "outputs": [
    {
     "name": "stdout",
     "output_type": "stream",
     "text": [
      "Beans\n",
      "5\n",
      "canned\n",
      "\n",
      "key = food  value =  Beans\n",
      "key = count  value =  5\n",
      "key = type  value =  canned\n"
     ]
    }
   ],
   "source": [
    "# loop through the values using the values() function\n",
    "for i in d.values():\n",
    "    print(i) \n",
    "    \n",
    "# loop through the dictionary and get both \n",
    "#    the key and value using items()\n",
    "print()\n",
    "for i,j in d.items():\n",
    "    print('key =',i,' value = ',j)     "
   ]
  },
  {
   "cell_type": "code",
   "execution_count": 249,
   "metadata": {},
   "outputs": [
    {
     "name": "stdout",
     "output_type": "stream",
     "text": [
      "{'food': 'Beans', 'count': 5, 'type': 'canned'}\n",
      "Yes, 'food' is a key\n",
      "No, 'drink' is not a key\n"
     ]
    }
   ],
   "source": [
    "# Check if a key exists\n",
    "print(d)\n",
    "\n",
    "if \"food\" in d:\n",
    "    print(\"Yes, 'food' is a key\") \n",
    "if \"drink\" in d:\n",
    "    print(\"Yes, 'drink' is a key\") \n",
    "else:\n",
    "    print(\"No, 'drink' is not a key\") \n"
   ]
  },
  {
   "cell_type": "code",
   "execution_count": 257,
   "metadata": {},
   "outputs": [
    {
     "name": "stdout",
     "output_type": "stream",
     "text": [
      "{'name': 'Dolen', 'job': 'Professor', 'height': 178}\n"
     ]
    }
   ],
   "source": [
    "# Build dictionaries one key at a time\n",
    "D = {}\n",
    "D['name'] = 'Dolen'\n",
    "D['job'] = 'Professor'\n",
    "D['height'] = 178\n",
    "print(D)"
   ]
  },
  {
   "cell_type": "code",
   "execution_count": 258,
   "metadata": {},
   "outputs": [
    {
     "name": "stdout",
     "output_type": "stream",
     "text": [
      "Dolen\n"
     ]
    }
   ],
   "source": [
    "# Access by key\n",
    "print(D['name'])"
   ]
  },
  {
   "cell_type": "code",
   "execution_count": 259,
   "metadata": {},
   "outputs": [
    {
     "name": "stdout",
     "output_type": "stream",
     "text": [
      "{'job': 'Professor', 'height': 178}\n"
     ]
    }
   ],
   "source": [
    "# Remove by key\n",
    "D.pop('name')\n",
    "print(D)"
   ]
  },
  {
   "cell_type": "code",
   "execution_count": 52,
   "metadata": {},
   "outputs": [
    {
     "name": "stdout",
     "output_type": "stream",
     "text": [
      "{'PHYS308': {'book': 'Newman', 'subject': 'Computational Physics'}, 'PHYS342': {'book': 'Young', 'subject': 'Modern Physics'}}\n",
      "<class 'dict'>\n",
      "\n",
      "{'book': 'Newman', 'subject': 'Computational Physics'}\n",
      "<class 'dict'>\n",
      "\n",
      "Newman\n",
      "<class 'str'>\n"
     ]
    }
   ],
   "source": [
    "# one can also create a nested dicitonary\n",
    "\n",
    "MyClasses = {\n",
    "  \"PHYS308\" : {\n",
    "    \"book\" : \"Newman\",\n",
    "    \"subject\" : \"Computational Physics\"\n",
    "  },\n",
    "  \"PHYS342\" : {\n",
    "    \"book\" : \"Young\",\n",
    "    \"subject\" : \"Modern Physics\"\n",
    "  }\n",
    "} \n",
    "\n",
    "print(MyClasses)\n",
    "print(type(MyClasses))\n",
    "print()\n",
    "print(MyClasses['PHYS308'])\n",
    "print(type(MyClasses['PHYS308']))\n",
    "print()\n",
    "print(MyClasses['PHYS308']['book'])\n",
    "print(type(MyClasses['PHYS308']['book']))\n"
   ]
  },
  {
   "cell_type": "markdown",
   "metadata": {},
   "source": [
    "## String methods\n",
    "\n",
    "Strings store text, but they are also a sequence (they are postionally ordered similar to lists and tuples) and can be used to store other information."
   ]
  },
  {
   "cell_type": "code",
   "execution_count": 59,
   "metadata": {},
   "outputs": [
    {
     "name": "stdout",
     "output_type": "stream",
     "text": [
      "9\n"
     ]
    }
   ],
   "source": [
    "s = 'spaghetti'\n",
    "print(len(s))  # length"
   ]
  },
  {
   "cell_type": "code",
   "execution_count": 60,
   "metadata": {},
   "outputs": [
    {
     "name": "stdout",
     "output_type": "stream",
     "text": [
      "pasta\n",
      "john's pasta\n",
      "he said the \"food was great!\"\n",
      "he said the \"food was great!\"\n"
     ]
    }
   ],
   "source": [
    "print(\"pasta\") # double quotes are also allowed\n",
    "print(\"john's pasta\")  # this allows you to use ' or \" within the string\n",
    "print('he said the \"food was great!\"')\n",
    "print(\"he said the \\\"food was great!\\\"\") # otherwise you have to use backslash"
   ]
  },
  {
   "cell_type": "code",
   "execution_count": 61,
   "metadata": {},
   "outputs": [
    {
     "name": "stdout",
     "output_type": "stream",
     "text": [
      "\tpasta\n",
      "pasta\n",
      "\n",
      "\n",
      "pasta\n",
      "\\pasta\n"
     ]
    }
   ],
   "source": [
    "# special characters \\n \\t\n",
    "print('\\tpasta')  # \\t = tab\n",
    "print('pasta')\n",
    "print()\n",
    "print('\\npasta')  # \\n = new line\n",
    "print('\\\\pasta')  # \\\\ = one backslash \\"
   ]
  },
  {
   "cell_type": "code",
   "execution_count": 62,
   "metadata": {},
   "outputs": [
    {
     "name": "stdout",
     "output_type": "stream",
     "text": [
      "C:\\folder\\file.txt\n",
      "C:\\folder\\file.txt\n"
     ]
    }
   ],
   "source": [
    "# note, on windows the backslash is used for file paths. this can get annoying\n",
    "print('C:\\\\folder\\\\file.txt')\n",
    "# there is a built in tool to help with this: raw strings. simply place a r before the ''\n",
    "print(r'C:\\folder\\file.txt')"
   ]
  },
  {
   "cell_type": "code",
   "execution_count": 63,
   "metadata": {},
   "outputs": [
    {
     "name": "stdout",
     "output_type": "stream",
     "text": [
      "spaghetti\n",
      "first element :  s\n",
      "2nd element   :  p\n",
      "last element  :  i\n",
      "last element  :  i\n"
     ]
    }
   ],
   "source": [
    "print(s)\n",
    "print(\"first element : \",s[0])\n",
    "print(\"2nd element   : \",s[1])\n",
    "print(\"last element  : \",s[-1])\n",
    "print(\"last element  : \",s[len(s)-1])"
   ]
  },
  {
   "cell_type": "code",
   "execution_count": 64,
   "metadata": {},
   "outputs": [
    {
     "name": "stdout",
     "output_type": "stream",
     "text": [
      "ssssssssssssssssssssssssssssssssssssssssssssssssss\n",
      "pppppppppppppppppppppppppppppppppppppppppppppppppp\n",
      "aaaaaaaaaaaaaaaaaaaaaaaaaaaaaaaaaaaaaaaaaaaaaaaaaa\n",
      "gggggggggggggggggggggggggggggggggggggggggggggggggg\n",
      "hhhhhhhhhhhhhhhhhhhhhhhhhhhhhhhhhhhhhhhhhhhhhhhhhh\n",
      "eeeeeeeeeeeeeeeeeeeeeeeeeeeeeeeeeeeeeeeeeeeeeeeeee\n",
      "tttttttttttttttttttttttttttttttttttttttttttttttttt\n",
      "tttttttttttttttttttttttttttttttttttttttttttttttttt\n",
      "iiiiiiiiiiiiiiiiiiiiiiiiiiiiiiiiiiiiiiiiiiiiiiiiii\n"
     ]
    }
   ],
   "source": [
    "# loop over a string\n",
    "for i in s:\n",
    "    print(i*50)"
   ]
  },
  {
   "cell_type": "code",
   "execution_count": 65,
   "metadata": {},
   "outputs": [
    {
     "name": "stdout",
     "output_type": "stream",
     "text": [
      "spa\n"
     ]
    }
   ],
   "source": [
    "# Slicing works just like in lists, tuples, and arrays\n",
    "print(s[0:3])"
   ]
  },
  {
   "cell_type": "code",
   "execution_count": 66,
   "metadata": {},
   "outputs": [
    {
     "name": "stdout",
     "output_type": "stream",
     "text": [
      "spaghetti marinara\n",
      "spaghetti\n",
      "spaghettispaghettispaghetti\n"
     ]
    }
   ],
   "source": [
    "# Concatenate with +  \n",
    "#  note: \"polymorphism\": + works differently on strings than on ints and floats)\n",
    "print(s+\" marinara\")\n",
    "print(s)\n",
    "print(s*3)"
   ]
  },
  {
   "cell_type": "code",
   "execution_count": 67,
   "metadata": {},
   "outputs": [
    {
     "ename": "TypeError",
     "evalue": "'str' object does not support item assignment",
     "output_type": "error",
     "traceback": [
      "\u001b[0;31m---------------------------------------------------------------------------\u001b[0m",
      "\u001b[0;31mTypeError\u001b[0m                                 Traceback (most recent call last)",
      "\u001b[0;32m<ipython-input-67-2b566326c1c7>\u001b[0m in \u001b[0;36m<module>\u001b[0;34m\u001b[0m\n\u001b[1;32m      1\u001b[0m \u001b[0;31m# Strings are immutable like tuples\u001b[0m\u001b[0;34m\u001b[0m\u001b[0;34m\u001b[0m\u001b[0;34m\u001b[0m\u001b[0m\n\u001b[0;32m----> 2\u001b[0;31m \u001b[0ms\u001b[0m\u001b[0;34m[\u001b[0m\u001b[0;36m0\u001b[0m\u001b[0;34m]\u001b[0m\u001b[0;34m=\u001b[0m\u001b[0;34m'p'\u001b[0m\u001b[0;34m\u001b[0m\u001b[0;34m\u001b[0m\u001b[0m\n\u001b[0m",
      "\u001b[0;31mTypeError\u001b[0m: 'str' object does not support item assignment"
     ]
    }
   ],
   "source": [
    "# Strings are immutable like tuples\n",
    "s[0]='p'"
   ]
  },
  {
   "cell_type": "code",
   "execution_count": 278,
   "metadata": {},
   "outputs": [
    {
     "name": "stdout",
     "output_type": "stream",
     "text": [
      "ppaghetti\n"
     ]
    }
   ],
   "source": [
    "# Instead you need to create a new string\n",
    "s_new = 'p'+s[1:]\n",
    "print(s_new)"
   ]
  },
  {
   "cell_type": "code",
   "execution_count": 279,
   "metadata": {},
   "outputs": [
    {
     "name": "stdout",
     "output_type": "stream",
     "text": [
      "['s', 'p', 'a', 'g', 'h', 'e', 't', 't', 'i']\n",
      "['p', 'p', 'a', 'g', 'h', 'e', 't', 't', 'i']\n",
      "ppaghetti\n"
     ]
    }
   ],
   "source": [
    "# or convert it to a list \n",
    "list_s = list(s)\n",
    "print(list_s)\n",
    "list_s[0]='p'\n",
    "print(list_s)\n",
    "\n",
    "# then convert it back to a string using the string method join\n",
    "s_new2 = ''.join(list_s)\n",
    "print(s_new2)"
   ]
  },
  {
   "cell_type": "code",
   "execution_count": null,
   "metadata": {},
   "outputs": [],
   "source": []
  },
  {
   "cell_type": "code",
   "execution_count": 282,
   "metadata": {},
   "outputs": [
    {
     "name": "stdout",
     "output_type": "stream",
     "text": [
      "spaghetti\n",
      "3\n",
      "True\n",
      "spammmetti\n",
      "spaghetti\n"
     ]
    }
   ],
   "source": [
    "# String also provides find and replace methods\n",
    "print(s)\n",
    "\n",
    "# find the index coresponding to 'gh'\n",
    "print( s.find('gh'))\n",
    "\n",
    "# test if the word ends with a certain string (returns a bool)\n",
    "print( s.endswith('ti'))\n",
    "\n",
    "# replace 'gh'\n",
    "print( s.replace('gh','mmm'))\n",
    "print( s ) # we are not changing the actual string (immutable)"
   ]
  },
  {
   "cell_type": "code",
   "execution_count": null,
   "metadata": {
    "collapsed": true
   },
   "outputs": [],
   "source": [
    "# split() - very handy tool for spliting up strings"
   ]
  },
  {
   "cell_type": "code",
   "execution_count": 283,
   "metadata": {},
   "outputs": [
    {
     "name": "stdout",
     "output_type": "stream",
     "text": [
      "['carrot', 'lettuce', 'tomato', 'cucumber', 'broccoli']\n"
     ]
    }
   ],
   "source": [
    "items = 'carrot,lettuce,tomato,cucumber,broccoli'\n",
    "list_items = items.split(',') # Create a list, splitting the string using the delimiter ','\n",
    "print(list_items)"
   ]
  },
  {
   "cell_type": "code",
   "execution_count": 284,
   "metadata": {},
   "outputs": [
    {
     "name": "stdout",
     "output_type": "stream",
     "text": [
      "['carrot', 'lettuce', 'tomato', 'cucumber', 'broccoli']\n"
     ]
    }
   ],
   "source": [
    "items = 'carrot lettuce tomato cucumber broccoli'\n",
    "list_items = items.split() # Create a list, splitting the default delimiter ' ' \n",
    "print(list_items)"
   ]
  },
  {
   "cell_type": "code",
   "execution_count": 285,
   "metadata": {},
   "outputs": [
    {
     "name": "stdout",
     "output_type": "stream",
     "text": [
      "202\n",
      "940\n",
      "102\n"
     ]
    }
   ],
   "source": [
    "# If you have fixed width information you can slice\n",
    "area_codes = '202940102'\n",
    "code1=area_codes[0:3]\n",
    "code2=area_codes[3:6]\n",
    "code3=area_codes[6:9]\n",
    "print(code1)\n",
    "print(code2)\n",
    "print(code3)"
   ]
  },
  {
   "cell_type": "code",
   "execution_count": 286,
   "metadata": {},
   "outputs": [
    {
     "name": "stdout",
     "output_type": "stream",
     "text": [
      "I like to eat      ice cream       every day\n",
      "I like to eat ice cream       every day\n",
      "I like to eat      ice cream every day\n",
      "I like to eat ice cream every day\n"
     ]
    }
   ],
   "source": [
    "# Different methods to remove spaces\n",
    "\n",
    "st = '     ice cream      '\n",
    "print( \"I like to eat\",st          ,\"every day\")\n",
    "print( \"I like to eat\",st.lstrip() ,\"every day\")\n",
    "print( \"I like to eat\",st.rstrip() ,\"every day\")\n",
    "print( \"I like to eat\",st.strip()  ,\"every day\") # both sides"
   ]
  },
  {
   "cell_type": "code",
   "execution_count": 287,
   "metadata": {},
   "outputs": [
    {
     "name": "stdout",
     "output_type": "stream",
     "text": [
      "DOG\n",
      "Dog\n",
      "cat\n"
     ]
    }
   ],
   "source": [
    "# Usefull string methods\n",
    "\n",
    "test1 = 'dog'\n",
    "print( test1.upper() )\n",
    "print( test1.capitalize() )\n",
    "\n",
    "test2 = \"CAT\"\n",
    "print( test2.lower() )\n"
   ]
  },
  {
   "cell_type": "code",
   "execution_count": 288,
   "metadata": {},
   "outputs": [
    {
     "name": "stdout",
     "output_type": "stream",
     "text": [
      "Is R a letter? True\n",
      "Is R a number? False\n",
      "Is 2 a letter? False\n",
      "Is 2 a number? True\n"
     ]
    }
   ],
   "source": [
    "test = 'R2D2'\n",
    "print(\"Is\", test[0], \"a letter?\", test[0].isalpha())\n",
    "print(\"Is\", test[0], \"a number?\", test[0].isdigit())\n",
    "print(\"Is\", test[1], \"a letter?\", test[1].isalpha())\n",
    "print(\"Is\", test[1], \"a number?\", test[1].isdigit())"
   ]
  },
  {
   "cell_type": "code",
   "execution_count": 289,
   "metadata": {},
   "outputs": [
    {
     "name": "stdout",
     "output_type": "stream",
     "text": [
      "Hey jude,\n",
      "Don't make it bad.\n",
      "Take a sad song, \n",
      "and make it better.\n"
     ]
    }
   ],
   "source": [
    "# multi-line block strings\n",
    "lyrics = \"\"\"Hey jude,\n",
    "Don't make it bad.\n",
    "Take a sad song, \n",
    "and make it better.\"\"\"\n",
    "print(lyrics)"
   ]
  },
  {
   "cell_type": "code",
   "execution_count": 290,
   "metadata": {},
   "outputs": [
    {
     "name": "stdout",
     "output_type": "stream",
     "text": [
      "5\n"
     ]
    }
   ],
   "source": [
    "# You will often see block strings used as a \n",
    "#   method of temporarilly commenting out some code. \n",
    "#   Its a hack but common.\n",
    "\n",
    "x = 5\n",
    "\"\"\"\n",
    "x=10\n",
    "x+=38\n",
    "x*=2\n",
    "\"\"\"\n",
    "print(x)"
   ]
  },
  {
   "cell_type": "code",
   "execution_count": null,
   "metadata": {
    "collapsed": true
   },
   "outputs": [],
   "source": []
  },
  {
   "cell_type": "markdown",
   "metadata": {},
   "source": [
    "### String Formatting\n",
    "https://docs.python.org/3/library/string.html#string-formatting"
   ]
  },
  {
   "cell_type": "code",
   "execution_count": 293,
   "metadata": {},
   "outputs": [
    {
     "name": "stdout",
     "output_type": "stream",
     "text": [
      "chicken, fish, and steak\n",
      "chicken, fish, and steak\n",
      "chicken, fish, and steak\n",
      "\n",
      "salad, fish, and cake\n",
      "\n",
      "1 + 2 = 3\n",
      "\n",
      "1 + 2 = 3\n",
      "1 + 2 = 3\n",
      "\n",
      "old way :\n",
      "chicken, fish, and steak\n",
      "\n",
      "1 + 2 = 3\n"
     ]
    }
   ],
   "source": [
    "# \"new formatting\"\n",
    "print( '{0}, {1}, and {2}'.format('chicken', 'fish', 'steak')  ) # with positional index\n",
    "print( '{1}, {0}, and {2}'.format('fish', 'chicken', 'steak')  ) \n",
    "print( '{}, {}, and {}'.format('chicken', 'fish', 'steak')  )# no positional index (python >3.1)\n",
    "\n",
    "print()\n",
    "print( '{appetizer}, {entree}, and {dessert}'.format(appetizer='salad', entree='fish', dessert='cake')  )# labeled\n",
    "\n",
    "print()\n",
    "print( '{} + {} = {}'.format(1,2,3)  )\n",
    "\n",
    "print()\n",
    "x=1\n",
    "y=2\n",
    "z=3\n",
    "print( '{} + {} = {}'.format(x,y,z)  )\n",
    "print( x,\"+\", y , \"=\",z  )\n",
    "\n",
    "\n",
    "# \"old formatting\"\n",
    "print(\"\\nold way :\")\n",
    "print( '%s, %s, and %s' % ('chicken', 'fish', 'steak')  )\n",
    "print()\n",
    "print( '%d + %d = %d' % (1,2,3)  )\n"
   ]
  },
  {
   "cell_type": "code",
   "execution_count": 297,
   "metadata": {},
   "outputs": [
    {
     "name": "stdout",
     "output_type": "stream",
     "text": [
      "mass =          125.3\n",
      "energy =         2183\n",
      "x =              32.9\n",
      "y =               0.3\n",
      "\n",
      "                                           mass =  125.3     \n",
      "                                         energy =  2183      \n",
      "                                              x =  32.9      \n",
      "                                              y =  0.3       \n"
     ]
    }
   ],
   "source": [
    "# padding\n",
    "#  '{:10}'.format()   left align with 10 space padding\n",
    "#  '{:<10}'.format()   left align with 10 space padding\n",
    "#  '{:>10}'.format()   right align with 10 space padding\n",
    "print('{:<10}'.format('mass = ')  ,'{:>10}'.format(125.3) )\n",
    "print('{:<10}'.format('energy = '),'{:>10}'.format(2183) )\n",
    "print('{:<10}'.format('x = ')     ,'{:>10}'.format(32.9) )\n",
    "print('{:<10}'.format('y = ')     ,'{:>10}'.format(0.3) )\n",
    "\n",
    "print()\n",
    "print('{:>50}'.format('mass = ')  ,'{:<10}'.format(125.3) )\n",
    "print('{:>50}'.format('energy = '),'{:<10}'.format(2183) )\n",
    "print('{:>50}'.format('x = ')     ,'{:<10}'.format(32.9) )\n",
    "print('{:>50}'.format('y = ')     ,'{:<10}'.format(0.3) )\n"
   ]
  },
  {
   "cell_type": "code",
   "execution_count": 299,
   "metadata": {},
   "outputs": [
    {
     "name": "stdout",
     "output_type": "stream",
     "text": [
      "mass-----------125.3\n",
      "energy..........2183\n",
      "x........., ......32.9\n",
      "y......... .......0.3\n"
     ]
    }
   ],
   "source": [
    "# '{:.>10}'.format()   choose the padding charater to be \".\"\n",
    "print('{:-<10}'.format('mass')  ,'{:->10}'.format(125.3) ,  sep='' )\n",
    "print('{:.<10}'.format('energy'),'{:.>10}'.format(2183)  ,  sep='' )\n",
    "print('{:.<10}'.format('x')     ,'{:.>10}'.format(32.9)  ,  sep=', ' )\n",
    "print('{:.<10}'.format('y')     ,'{:.>10}'.format(0.3)   )"
   ]
  },
  {
   "cell_type": "code",
   "execution_count": 301,
   "metadata": {},
   "outputs": [
    {
     "name": "stdout",
     "output_type": "stream",
     "text": [
      "mass****************\n",
      "********mass********\n",
      "****************mass\n"
     ]
    }
   ],
   "source": [
    "print('{:*<20}'.format('mass') ) # left\n",
    "print('{:*^20}'.format('mass') ) # center\n",
    "print('{:*>20}'.format('mass') ) # right\n"
   ]
  },
  {
   "cell_type": "code",
   "execution_count": 302,
   "metadata": {},
   "outputs": [
    {
     "name": "stdout",
     "output_type": "stream",
     "text": [
      "hippo\n"
     ]
    }
   ],
   "source": [
    "# Truncating\n",
    "#  {:.x} where x is the number of charachters to keep\n",
    "print( '{:.5}'.format('hippopotamus') )"
   ]
  },
  {
   "cell_type": "code",
   "execution_count": 304,
   "metadata": {},
   "outputs": [
    {
     "name": "stdout",
     "output_type": "stream",
     "text": [
      "m..............125.3\n",
      "e...............2183\n",
      "x...............32.9\n",
      "y................0.3\n"
     ]
    }
   ],
   "source": [
    "# Combining truncating and padding\n",
    "#   10 (before the period) = padding\n",
    "#   1 (after the period) ->keep 1 character\n",
    "print('{:.<10.1}'.format('mass')  ,'{:.>10}'.format(125.3) ,  sep='' )\n",
    "print('{:.<10.1}'.format('energy'),'{:.>10}'.format(2183)  ,  sep='' )\n",
    "print('{:.<10.1}'.format('x')     ,'{:.>10}'.format(32.9)  ,  sep='' )\n",
    "print('{:.<10.1}'.format('y')     ,'{:.>10}'.format(0.3)   ,  sep='' )"
   ]
  },
  {
   "cell_type": "code",
   "execution_count": 305,
   "metadata": {},
   "outputs": [
    {
     "name": "stdout",
     "output_type": "stream",
     "text": [
      "3.141593\n",
      "\n",
      "9287289298237\n",
      "9,287,289,298,237\n",
      "9287289298237.000000\n",
      "9287289298237.00\n"
     ]
    }
   ],
   "source": [
    "# Formatting numbers\n",
    "# f signifies a fixed-point display (default precision is 6) \n",
    "print('{:f}'.format(3.141592653589793))\n",
    "print()\n",
    "print('{:}'.format(9287289298237) )\n",
    "print('{:,}'.format(9287289298237) )\n",
    "print('{:f}'.format(9287289298237) )   \n",
    "print('{:0.2f}'.format(9287289298237) )  # change the precision with a decimal number"
   ]
  },
  {
   "cell_type": "code",
   "execution_count": 306,
   "metadata": {},
   "outputs": [
    {
     "name": "stdout",
     "output_type": "stream",
     "text": [
      "2.932223\n",
      "10.400000\n",
      "0.039000\n",
      "3.119393\n",
      "0.006780\n"
     ]
    }
   ],
   "source": [
    "# f signifies a fixed-point display (default precision is 6) \n",
    "print('{:f}'.format(2.932223)      )     \n",
    "print('{:f}'.format(10.4)          ) \n",
    "print('{:f}'.format(0.039)         )  \n",
    "print('{:f}'.format(3.1193927663)  )         \n",
    "print('{:f}'.format(0.0067802)     )      "
   ]
  },
  {
   "cell_type": "code",
   "execution_count": 307,
   "metadata": {},
   "outputs": [
    {
     "name": "stdout",
     "output_type": "stream",
     "text": [
      "2.932223e+00\n",
      "1.040000e+01\n",
      "3.900000e-02\n",
      "3.119393e+00\n",
      "6.780200e-03\n"
     ]
    }
   ],
   "source": [
    "# e -> scientific notation\n",
    "print('{:e}'.format(2.932223)      )     \n",
    "print('{:e}'.format(10.4)          ) \n",
    "print('{:e}'.format(0.039)         )  \n",
    "print('{:e}'.format(3.1193927663)  )         \n",
    "print('{:e}'.format(0.0067802)     )  "
   ]
  },
  {
   "cell_type": "code",
   "execution_count": 308,
   "metadata": {},
   "outputs": [
    {
     "name": "stdout",
     "output_type": "stream",
     "text": [
      "2.93222\n",
      "10.4\n",
      "0.039\n",
      "3.11939\n",
      "0.0067802\n"
     ]
    }
   ],
   "source": [
    "# g is general format\n",
    "print('{:g}'.format(2.932223)      )     \n",
    "print('{:g}'.format(10.4)          ) \n",
    "print('{:g}'.format(0.039)         )  \n",
    "print('{:g}'.format(3.1193927663)  )         \n",
    "print('{:g}'.format(0.0067802)     )  "
   ]
  },
  {
   "cell_type": "code",
   "execution_count": 309,
   "metadata": {},
   "outputs": [
    {
     "name": "stdout",
     "output_type": "stream",
     "text": [
      "2.9\n",
      "10\n",
      "0.039\n",
      "3.1\n",
      "0.0068\n"
     ]
    }
   ],
   "source": [
    "# round 2 two sig figs\n",
    "print('{:0.2g}'.format(2.932223)      )     \n",
    "print('{:0.2g}'.format(10.4)          ) \n",
    "print('{:0.2g}'.format(0.039)         )  \n",
    "print('{:0.2g}'.format(3.1193927663)  )         \n",
    "print('{:0.2g}'.format(0.0067802)     )  "
   ]
  },
  {
   "cell_type": "code",
   "execution_count": 310,
   "metadata": {},
   "outputs": [
    {
     "name": "stdout",
     "output_type": "stream",
     "text": [
      "      2.93\n",
      "     10.40\n",
      "      0.04\n",
      "      3.12\n",
      "      0.01\n"
     ]
    }
   ],
   "source": [
    "# Add padding\n",
    "print('{:>10.2f}'.format(2.932223)      )     \n",
    "print('{:>10.2f}'.format(10.4)          ) \n",
    "print('{:>10.2f}'.format(0.039)         )  \n",
    "print('{:>10.2f}'.format(3.1193927663)  )         \n",
    "print('{:>10.2f}'.format(0.0067802)     )  "
   ]
  },
  {
   "cell_type": "code",
   "execution_count": 311,
   "metadata": {},
   "outputs": [
    {
     "name": "stdout",
     "output_type": "stream",
     "text": [
      "-------------------- new results --------------------\n"
     ]
    }
   ],
   "source": [
    "# Repetition\n",
    "print('-'*20, \"new results\",'-'*20 )"
   ]
  },
  {
   "cell_type": "code",
   "execution_count": null,
   "metadata": {
    "collapsed": true
   },
   "outputs": [],
   "source": []
  },
  {
   "cell_type": "markdown",
   "metadata": {},
   "source": [
    "## The os module : interacting with your computer"
   ]
  },
  {
   "cell_type": "code",
   "execution_count": 78,
   "metadata": {},
   "outputs": [],
   "source": [
    "import os"
   ]
  },
  {
   "cell_type": "code",
   "execution_count": 79,
   "metadata": {},
   "outputs": [
    {
     "name": "stdout",
     "output_type": "stream",
     "text": [
      "/Users/jdolen/Google Drive/0_Teaching/PHYS_308_Scientific_Compuation/JupyterNotebooks/0_Organize_Course_Notebooks/PHYS_308_Jupyter_Notebooks_2021_Dolen\n"
     ]
    }
   ],
   "source": [
    "# Figure out which working directory you are currently in (similar to pwd in linux)\n",
    "cwd = os.getcwd()\n",
    "print(cwd)"
   ]
  },
  {
   "cell_type": "code",
   "execution_count": 80,
   "metadata": {},
   "outputs": [
    {
     "data": {
      "text/plain": [
       "['PHYS 308 - 20 - Halloween Physics.ipynb',\n",
       " 'PHYS 308 - 09 - Pandas - Data.zip',\n",
       " 'PHYS 308 - 10 - SymPy - v1.ipynb',\n",
       " 'PHYS 308 - 13 - Solving Nonlinear Equations and Finding Roots.ipynb',\n",
       " '.DS_Store',\n",
       " 'PHYS 308 - 00 - Jupyter Notebook and Google Colab Basics.ipynb',\n",
       " 'PHYS 308 - 11 - SymPy2.ipynb',\n",
       " 'PHYS 308 - 21 - Interpolation.ipynb',\n",
       " 'PHYS 308 - 05 - Plotting with matplotlib.ipynb',\n",
       " 'PHYS 308 - 07 - Fitting Data - Solution.ipynb',\n",
       " 'Images',\n",
       " 'figs',\n",
       " 'PHYS 308 - 03 - Python Tutorial - Part C.ipynb',\n",
       " 'PHYS 308 - 15 - Linear Equations.ipynb',\n",
       " 'PHYS 308 - 06 - Accuracy.ipynb',\n",
       " 'PHYS 308 - 09 - Pandas.ipynb',\n",
       " 'PHYS 308 - 08 - File Output and Input with Python (CSV, JSON, HDF5, Pickle).ipynb',\n",
       " 'PHYS 308 - 07 - Fitting Data.ipynb',\n",
       " 'PHYS 308 - 15 - Randomness, Random Walks, and Monte Carlo Methods-With partial HW 5 solution.ipynb',\n",
       " 'PHYS 308 - 09 - Pandas - Data',\n",
       " 'PHYS 308 - 12 - Differential Equations - backup.ipynb',\n",
       " 'PHYS 308 - 01 - Python Tutorial - Part A.ipynb',\n",
       " 'PHYS 308 - 01 - Python Tutorial - Part A - With Solutions.ipynb',\n",
       " 'PHYS 308 - 12 - SciPy.ipynb',\n",
       " 'PHYS 308 - 02 - Python Tutorial - Part B - With Solutions.ipynb',\n",
       " 'Homework',\n",
       " 'PHYS 308 - 14 - Partial Differential Equations - v4.ipynb',\n",
       " 'PHYS 308 - 02 - Python Tutorial - Part B.ipynb',\n",
       " 'PHYS 308 - 16 - SciPy and SymPy.ipynb',\n",
       " 'mypicklefile.p',\n",
       " '.ipynb_checkpoints',\n",
       " 'PHYS 308 - 04 - NumPy.ipynb',\n",
       " 'PHYS 308 - 99 - Functions.ipynb',\n",
       " 'Data',\n",
       " 'PHYS 308 - 13 - Solving Nonlinear Equations and Finding Roots - Solution.ipynb',\n",
       " 'NoDrag_YvsX.png',\n",
       " 'PHYS 308 - 18 - Differential Equations - v4.ipynb',\n",
       " 'PHYS 308 - 11 - Derivatives -  Examples, Smoothing, and Interpolation.ipynb',\n",
       " 'PHYS 308 - 15 - Randomness, Random Walks, and Monte Carlo Methods.ipynb',\n",
       " 'Plots',\n",
       " 'PHYS 308 - 10 - Seaborn and Pandas.ipynb']"
      ]
     },
     "execution_count": 80,
     "metadata": {},
     "output_type": "execute_result"
    }
   ],
   "source": [
    "# create a list containg all files in a given directory\n",
    "os.listdir(cwd)"
   ]
  },
  {
   "cell_type": "code",
   "execution_count": 81,
   "metadata": {},
   "outputs": [
    {
     "name": "stdout",
     "output_type": "stream",
     "text": [
      "PHYS 308 - 20 - Halloween Physics.ipynb\n",
      "PHYS 308 - 09 - Pandas - Data.zip\n",
      "PHYS 308 - 10 - SymPy - v1.ipynb\n",
      "PHYS 308 - 13 - Solving Nonlinear Equations and Finding Roots.ipynb\n",
      ".DS_Store\n",
      "PHYS 308 - 00 - Jupyter Notebook and Google Colab Basics.ipynb\n",
      "PHYS 308 - 11 - SymPy2.ipynb\n",
      "PHYS 308 - 21 - Interpolation.ipynb\n",
      "PHYS 308 - 05 - Plotting with matplotlib.ipynb\n",
      "PHYS 308 - 07 - Fitting Data - Solution.ipynb\n",
      "Images\n",
      "figs\n",
      "PHYS 308 - 03 - Python Tutorial - Part C.ipynb\n",
      "PHYS 308 - 15 - Linear Equations.ipynb\n",
      "PHYS 308 - 06 - Accuracy.ipynb\n",
      "PHYS 308 - 09 - Pandas.ipynb\n",
      "PHYS 308 - 08 - File Output and Input with Python (CSV, JSON, HDF5, Pickle).ipynb\n",
      "PHYS 308 - 07 - Fitting Data.ipynb\n",
      "PHYS 308 - 15 - Randomness, Random Walks, and Monte Carlo Methods-With partial HW 5 solution.ipynb\n",
      "PHYS 308 - 09 - Pandas - Data\n",
      "PHYS 308 - 12 - Differential Equations - backup.ipynb\n",
      "PHYS 308 - 01 - Python Tutorial - Part A.ipynb\n",
      "PHYS 308 - 01 - Python Tutorial - Part A - With Solutions.ipynb\n",
      "PHYS 308 - 12 - SciPy.ipynb\n",
      "PHYS 308 - 02 - Python Tutorial - Part B - With Solutions.ipynb\n",
      "Homework\n",
      "PHYS 308 - 14 - Partial Differential Equations - v4.ipynb\n",
      "PHYS 308 - 02 - Python Tutorial - Part B.ipynb\n",
      "PHYS 308 - 16 - SciPy and SymPy.ipynb\n",
      "mypicklefile.p\n",
      ".ipynb_checkpoints\n",
      "PHYS 308 - 04 - NumPy.ipynb\n",
      "PHYS 308 - 99 - Functions.ipynb\n",
      "Data\n",
      "PHYS 308 - 13 - Solving Nonlinear Equations and Finding Roots - Solution.ipynb\n",
      "NoDrag_YvsX.png\n",
      "PHYS 308 - 18 - Differential Equations - v4.ipynb\n",
      "PHYS 308 - 11 - Derivatives -  Examples, Smoothing, and Interpolation.ipynb\n",
      "PHYS 308 - 15 - Randomness, Random Walks, and Monte Carlo Methods.ipynb\n",
      "Plots\n",
      "PHYS 308 - 10 - Seaborn and Pandas.ipynb\n"
     ]
    }
   ],
   "source": [
    "# loop over all files in a directory\n",
    "current_folder = os.listdir(cwd)\n",
    "for filename in current_folder:\n",
    "    print(filename)"
   ]
  },
  {
   "cell_type": "code",
   "execution_count": 82,
   "metadata": {
    "scrolled": true
   },
   "outputs": [
    {
     "name": "stdout",
     "output_type": "stream",
     "text": [
      "/Users/jdolen/Google Drive/0_Teaching/PHYS_308_Scientific_Compuation/JupyterNotebooks/0_Organize_Course_Notebooks/PHYS_308_Jupyter_Notebooks_2021_Dolen/PHYS 308 - 20 - Halloween Physics.ipynb\n",
      "/Users/jdolen/Google Drive/0_Teaching/PHYS_308_Scientific_Compuation/JupyterNotebooks/0_Organize_Course_Notebooks/PHYS_308_Jupyter_Notebooks_2021_Dolen/PHYS 308 - 09 - Pandas - Data.zip\n",
      "/Users/jdolen/Google Drive/0_Teaching/PHYS_308_Scientific_Compuation/JupyterNotebooks/0_Organize_Course_Notebooks/PHYS_308_Jupyter_Notebooks_2021_Dolen/PHYS 308 - 10 - SymPy - v1.ipynb\n",
      "/Users/jdolen/Google Drive/0_Teaching/PHYS_308_Scientific_Compuation/JupyterNotebooks/0_Organize_Course_Notebooks/PHYS_308_Jupyter_Notebooks_2021_Dolen/PHYS 308 - 13 - Solving Nonlinear Equations and Finding Roots.ipynb\n",
      "/Users/jdolen/Google Drive/0_Teaching/PHYS_308_Scientific_Compuation/JupyterNotebooks/0_Organize_Course_Notebooks/PHYS_308_Jupyter_Notebooks_2021_Dolen/.DS_Store\n",
      "/Users/jdolen/Google Drive/0_Teaching/PHYS_308_Scientific_Compuation/JupyterNotebooks/0_Organize_Course_Notebooks/PHYS_308_Jupyter_Notebooks_2021_Dolen/PHYS 308 - 00 - Jupyter Notebook and Google Colab Basics.ipynb\n",
      "/Users/jdolen/Google Drive/0_Teaching/PHYS_308_Scientific_Compuation/JupyterNotebooks/0_Organize_Course_Notebooks/PHYS_308_Jupyter_Notebooks_2021_Dolen/PHYS 308 - 11 - SymPy2.ipynb\n",
      "/Users/jdolen/Google Drive/0_Teaching/PHYS_308_Scientific_Compuation/JupyterNotebooks/0_Organize_Course_Notebooks/PHYS_308_Jupyter_Notebooks_2021_Dolen/PHYS 308 - 21 - Interpolation.ipynb\n",
      "/Users/jdolen/Google Drive/0_Teaching/PHYS_308_Scientific_Compuation/JupyterNotebooks/0_Organize_Course_Notebooks/PHYS_308_Jupyter_Notebooks_2021_Dolen/PHYS 308 - 05 - Plotting with matplotlib.ipynb\n",
      "/Users/jdolen/Google Drive/0_Teaching/PHYS_308_Scientific_Compuation/JupyterNotebooks/0_Organize_Course_Notebooks/PHYS_308_Jupyter_Notebooks_2021_Dolen/PHYS 308 - 07 - Fitting Data - Solution.ipynb\n",
      "/Users/jdolen/Google Drive/0_Teaching/PHYS_308_Scientific_Compuation/JupyterNotebooks/0_Organize_Course_Notebooks/PHYS_308_Jupyter_Notebooks_2021_Dolen/Images\n",
      "/Users/jdolen/Google Drive/0_Teaching/PHYS_308_Scientific_Compuation/JupyterNotebooks/0_Organize_Course_Notebooks/PHYS_308_Jupyter_Notebooks_2021_Dolen/figs\n",
      "/Users/jdolen/Google Drive/0_Teaching/PHYS_308_Scientific_Compuation/JupyterNotebooks/0_Organize_Course_Notebooks/PHYS_308_Jupyter_Notebooks_2021_Dolen/PHYS 308 - 03 - Python Tutorial - Part C.ipynb\n",
      "/Users/jdolen/Google Drive/0_Teaching/PHYS_308_Scientific_Compuation/JupyterNotebooks/0_Organize_Course_Notebooks/PHYS_308_Jupyter_Notebooks_2021_Dolen/PHYS 308 - 15 - Linear Equations.ipynb\n",
      "/Users/jdolen/Google Drive/0_Teaching/PHYS_308_Scientific_Compuation/JupyterNotebooks/0_Organize_Course_Notebooks/PHYS_308_Jupyter_Notebooks_2021_Dolen/PHYS 308 - 06 - Accuracy.ipynb\n",
      "/Users/jdolen/Google Drive/0_Teaching/PHYS_308_Scientific_Compuation/JupyterNotebooks/0_Organize_Course_Notebooks/PHYS_308_Jupyter_Notebooks_2021_Dolen/PHYS 308 - 09 - Pandas.ipynb\n",
      "/Users/jdolen/Google Drive/0_Teaching/PHYS_308_Scientific_Compuation/JupyterNotebooks/0_Organize_Course_Notebooks/PHYS_308_Jupyter_Notebooks_2021_Dolen/PHYS 308 - 08 - File Output and Input with Python (CSV, JSON, HDF5, Pickle).ipynb\n",
      "/Users/jdolen/Google Drive/0_Teaching/PHYS_308_Scientific_Compuation/JupyterNotebooks/0_Organize_Course_Notebooks/PHYS_308_Jupyter_Notebooks_2021_Dolen/PHYS 308 - 07 - Fitting Data.ipynb\n",
      "/Users/jdolen/Google Drive/0_Teaching/PHYS_308_Scientific_Compuation/JupyterNotebooks/0_Organize_Course_Notebooks/PHYS_308_Jupyter_Notebooks_2021_Dolen/PHYS 308 - 15 - Randomness, Random Walks, and Monte Carlo Methods-With partial HW 5 solution.ipynb\n",
      "/Users/jdolen/Google Drive/0_Teaching/PHYS_308_Scientific_Compuation/JupyterNotebooks/0_Organize_Course_Notebooks/PHYS_308_Jupyter_Notebooks_2021_Dolen/PHYS 308 - 09 - Pandas - Data\n",
      "/Users/jdolen/Google Drive/0_Teaching/PHYS_308_Scientific_Compuation/JupyterNotebooks/0_Organize_Course_Notebooks/PHYS_308_Jupyter_Notebooks_2021_Dolen/PHYS 308 - 12 - Differential Equations - backup.ipynb\n",
      "/Users/jdolen/Google Drive/0_Teaching/PHYS_308_Scientific_Compuation/JupyterNotebooks/0_Organize_Course_Notebooks/PHYS_308_Jupyter_Notebooks_2021_Dolen/PHYS 308 - 01 - Python Tutorial - Part A.ipynb\n",
      "/Users/jdolen/Google Drive/0_Teaching/PHYS_308_Scientific_Compuation/JupyterNotebooks/0_Organize_Course_Notebooks/PHYS_308_Jupyter_Notebooks_2021_Dolen/PHYS 308 - 01 - Python Tutorial - Part A - With Solutions.ipynb\n",
      "/Users/jdolen/Google Drive/0_Teaching/PHYS_308_Scientific_Compuation/JupyterNotebooks/0_Organize_Course_Notebooks/PHYS_308_Jupyter_Notebooks_2021_Dolen/PHYS 308 - 12 - SciPy.ipynb\n",
      "/Users/jdolen/Google Drive/0_Teaching/PHYS_308_Scientific_Compuation/JupyterNotebooks/0_Organize_Course_Notebooks/PHYS_308_Jupyter_Notebooks_2021_Dolen/PHYS 308 - 02 - Python Tutorial - Part B - With Solutions.ipynb\n",
      "/Users/jdolen/Google Drive/0_Teaching/PHYS_308_Scientific_Compuation/JupyterNotebooks/0_Organize_Course_Notebooks/PHYS_308_Jupyter_Notebooks_2021_Dolen/Homework\n",
      "/Users/jdolen/Google Drive/0_Teaching/PHYS_308_Scientific_Compuation/JupyterNotebooks/0_Organize_Course_Notebooks/PHYS_308_Jupyter_Notebooks_2021_Dolen/PHYS 308 - 14 - Partial Differential Equations - v4.ipynb\n",
      "/Users/jdolen/Google Drive/0_Teaching/PHYS_308_Scientific_Compuation/JupyterNotebooks/0_Organize_Course_Notebooks/PHYS_308_Jupyter_Notebooks_2021_Dolen/PHYS 308 - 02 - Python Tutorial - Part B.ipynb\n",
      "/Users/jdolen/Google Drive/0_Teaching/PHYS_308_Scientific_Compuation/JupyterNotebooks/0_Organize_Course_Notebooks/PHYS_308_Jupyter_Notebooks_2021_Dolen/PHYS 308 - 16 - SciPy and SymPy.ipynb\n",
      "/Users/jdolen/Google Drive/0_Teaching/PHYS_308_Scientific_Compuation/JupyterNotebooks/0_Organize_Course_Notebooks/PHYS_308_Jupyter_Notebooks_2021_Dolen/mypicklefile.p\n",
      "/Users/jdolen/Google Drive/0_Teaching/PHYS_308_Scientific_Compuation/JupyterNotebooks/0_Organize_Course_Notebooks/PHYS_308_Jupyter_Notebooks_2021_Dolen/.ipynb_checkpoints\n",
      "/Users/jdolen/Google Drive/0_Teaching/PHYS_308_Scientific_Compuation/JupyterNotebooks/0_Organize_Course_Notebooks/PHYS_308_Jupyter_Notebooks_2021_Dolen/PHYS 308 - 04 - NumPy.ipynb\n",
      "/Users/jdolen/Google Drive/0_Teaching/PHYS_308_Scientific_Compuation/JupyterNotebooks/0_Organize_Course_Notebooks/PHYS_308_Jupyter_Notebooks_2021_Dolen/PHYS 308 - 99 - Functions.ipynb\n",
      "/Users/jdolen/Google Drive/0_Teaching/PHYS_308_Scientific_Compuation/JupyterNotebooks/0_Organize_Course_Notebooks/PHYS_308_Jupyter_Notebooks_2021_Dolen/Data\n",
      "/Users/jdolen/Google Drive/0_Teaching/PHYS_308_Scientific_Compuation/JupyterNotebooks/0_Organize_Course_Notebooks/PHYS_308_Jupyter_Notebooks_2021_Dolen/PHYS 308 - 13 - Solving Nonlinear Equations and Finding Roots - Solution.ipynb\n",
      "/Users/jdolen/Google Drive/0_Teaching/PHYS_308_Scientific_Compuation/JupyterNotebooks/0_Organize_Course_Notebooks/PHYS_308_Jupyter_Notebooks_2021_Dolen/NoDrag_YvsX.png\n",
      "/Users/jdolen/Google Drive/0_Teaching/PHYS_308_Scientific_Compuation/JupyterNotebooks/0_Organize_Course_Notebooks/PHYS_308_Jupyter_Notebooks_2021_Dolen/PHYS 308 - 18 - Differential Equations - v4.ipynb\n",
      "/Users/jdolen/Google Drive/0_Teaching/PHYS_308_Scientific_Compuation/JupyterNotebooks/0_Organize_Course_Notebooks/PHYS_308_Jupyter_Notebooks_2021_Dolen/PHYS 308 - 11 - Derivatives -  Examples, Smoothing, and Interpolation.ipynb\n",
      "/Users/jdolen/Google Drive/0_Teaching/PHYS_308_Scientific_Compuation/JupyterNotebooks/0_Organize_Course_Notebooks/PHYS_308_Jupyter_Notebooks_2021_Dolen/PHYS 308 - 15 - Randomness, Random Walks, and Monte Carlo Methods.ipynb\n",
      "/Users/jdolen/Google Drive/0_Teaching/PHYS_308_Scientific_Compuation/JupyterNotebooks/0_Organize_Course_Notebooks/PHYS_308_Jupyter_Notebooks_2021_Dolen/Plots\n",
      "/Users/jdolen/Google Drive/0_Teaching/PHYS_308_Scientific_Compuation/JupyterNotebooks/0_Organize_Course_Notebooks/PHYS_308_Jupyter_Notebooks_2021_Dolen/PHYS 308 - 10 - Seaborn and Pandas.ipynb\n"
     ]
    }
   ],
   "source": [
    "# loop over all files, displaying the full path name \n",
    "# \"absolute path\" = path relative to your home directory\n",
    "current_folder = os.listdir(cwd)\n",
    "for filename in current_folder:\n",
    "    print( os.path.abspath(filename) )"
   ]
  },
  {
   "cell_type": "code",
   "execution_count": 83,
   "metadata": {},
   "outputs": [
    {
     "name": "stdout",
     "output_type": "stream",
     "text": [
      "PHYS 308 - 20 - Halloween Physics.ipynb  -> This is a file\n",
      "PHYS 308 - 09 - Pandas - Data.zip  -> This is a file\n",
      "PHYS 308 - 10 - SymPy - v1.ipynb  -> This is a file\n",
      "PHYS 308 - 13 - Solving Nonlinear Equations and Finding Roots.ipynb  -> This is a file\n",
      ".DS_Store  -> This is a file\n",
      "PHYS 308 - 00 - Jupyter Notebook and Google Colab Basics.ipynb  -> This is a file\n",
      "PHYS 308 - 11 - SymPy2.ipynb  -> This is a file\n",
      "PHYS 308 - 21 - Interpolation.ipynb  -> This is a file\n",
      "PHYS 308 - 05 - Plotting with matplotlib.ipynb  -> This is a file\n",
      "PHYS 308 - 07 - Fitting Data - Solution.ipynb  -> This is a file\n",
      "Images  -> This is a folder\n",
      "figs  -> This is a folder\n",
      "PHYS 308 - 03 - Python Tutorial - Part C.ipynb  -> This is a file\n",
      "PHYS 308 - 15 - Linear Equations.ipynb  -> This is a file\n",
      "PHYS 308 - 06 - Accuracy.ipynb  -> This is a file\n",
      "PHYS 308 - 09 - Pandas.ipynb  -> This is a file\n",
      "PHYS 308 - 08 - File Output and Input with Python (CSV, JSON, HDF5, Pickle).ipynb  -> This is a file\n",
      "PHYS 308 - 07 - Fitting Data.ipynb  -> This is a file\n",
      "PHYS 308 - 15 - Randomness, Random Walks, and Monte Carlo Methods-With partial HW 5 solution.ipynb  -> This is a file\n",
      "PHYS 308 - 09 - Pandas - Data  -> This is a folder\n",
      "PHYS 308 - 12 - Differential Equations - backup.ipynb  -> This is a file\n",
      "PHYS 308 - 01 - Python Tutorial - Part A.ipynb  -> This is a file\n",
      "PHYS 308 - 01 - Python Tutorial - Part A - With Solutions.ipynb  -> This is a file\n",
      "PHYS 308 - 12 - SciPy.ipynb  -> This is a file\n",
      "PHYS 308 - 02 - Python Tutorial - Part B - With Solutions.ipynb  -> This is a file\n",
      "Homework  -> This is a folder\n",
      "PHYS 308 - 14 - Partial Differential Equations - v4.ipynb  -> This is a file\n",
      "PHYS 308 - 02 - Python Tutorial - Part B.ipynb  -> This is a file\n",
      "PHYS 308 - 16 - SciPy and SymPy.ipynb  -> This is a file\n",
      "mypicklefile.p  -> This is a file\n",
      ".ipynb_checkpoints  -> This is a folder\n",
      "PHYS 308 - 04 - NumPy.ipynb  -> This is a file\n",
      "PHYS 308 - 99 - Functions.ipynb  -> This is a file\n",
      "Data  -> This is a folder\n",
      "PHYS 308 - 13 - Solving Nonlinear Equations and Finding Roots - Solution.ipynb  -> This is a file\n",
      "NoDrag_YvsX.png  -> This is a file\n",
      "PHYS 308 - 18 - Differential Equations - v4.ipynb  -> This is a file\n",
      "PHYS 308 - 11 - Derivatives -  Examples, Smoothing, and Interpolation.ipynb  -> This is a file\n",
      "PHYS 308 - 15 - Randomness, Random Walks, and Monte Carlo Methods.ipynb  -> This is a file\n",
      "Plots  -> This is a folder\n",
      "PHYS 308 - 10 - Seaborn and Pandas.ipynb  -> This is a file\n"
     ]
    }
   ],
   "source": [
    "# use os.path.isfile and os.path.isdir \n",
    "# to check if a your direcdtory contents are files or folders\n",
    "\n",
    "current_folder = os.listdir(cwd)\n",
    "for filename in current_folder:\n",
    "    isfile   = os.path.isfile(filename)\n",
    "    isfolder = os.path.isdir(filename)\n",
    "    if isfile:\n",
    "        print( filename ,\" -> This is a file\" )\n",
    "    if isfolder:\n",
    "        print( filename ,\" -> This is a folder\" )"
   ]
  },
  {
   "cell_type": "code",
   "execution_count": 85,
   "metadata": {},
   "outputs": [
    {
     "name": "stdout",
     "output_type": "stream",
     "text": [
      "This folder contains 1 text files\n"
     ]
    }
   ],
   "source": [
    "# use python string method endswith() method to find txt files and count them\n",
    "\n",
    "current_folder = os.listdir(cwd)\n",
    "count_txt = 0\n",
    "for filename in current_folder:\n",
    "    if filename.endswith('.txt') :\n",
    "        count_txt+=1\n",
    "print(\"This folder contains\",count_txt,\"text files\")"
   ]
  },
  {
   "cell_type": "code",
   "execution_count": 88,
   "metadata": {},
   "outputs": [
    {
     "name": "stdout",
     "output_type": "stream",
     "text": [
      "Searching folder: PHYS_308_Jupyter_Notebooks_2021_Dolen\n",
      "     -> Found jpg: .DS_Store\n",
      "Searching folder: Images\n",
      "     -> Found jpg: LeoTheLion.jpg\n",
      "Searching folder: figs\n",
      "Searching folder: PHYS 308 - 09 - Pandas - Data\n",
      "Searching folder: Homework\n",
      "     -> Found jpg: Newman Problem 5.23 Topo B.jpg\n",
      "     -> Found jpg: Newman Problem 5.23 Topo Example.jpg\n",
      "     -> Found jpg: Newman Problem 5.23 Topo C.jpg\n",
      "     -> Found jpg: .DS_Store\n",
      "     -> Found jpg: Newman Problem 5.23 Topo.jpg\n",
      "Searching folder: POSTED - DOWNLOADED FROM BLACKBOARD\n",
      "     -> Found jpg: .DS_Store\n",
      "Searching folder: PHYS_308_FALL_2019_Notebooks\n",
      "Searching folder: Mod P&T\n",
      "Searching folder: .ipynb_checkpoints\n",
      "Searching folder: .ipynb_checkpoints\n",
      "Searching folder: Data\n",
      "Searching folder: .ipynb_checkpoints\n",
      "Searching folder: Data\n",
      "     -> Found jpg: .DS_Store\n",
      "Searching folder: Plots\n",
      "\n",
      "total number of .jpg files found: 9\n"
     ]
    }
   ],
   "source": [
    "# Search directory and all sub-directories for jpg files\n",
    "#   use os walk()\n",
    "#       returns 3 items: the root directory, a list of directories below the root directory, and a list of files\n",
    "import os\n",
    "\n",
    "searchdir = os.getcwd()  \n",
    "\n",
    "count = 0\n",
    "for root, dirs, files in os.walk(searchdir):\n",
    "    \n",
    "    # ugly print:\n",
    "    #print(\"Currently searching\", root)\n",
    "    # nicer print:\n",
    "    #    Note: os.path.split() splits a pathname into (head,tail) where tail is after the last /\n",
    "    (path,folder) = os.path.split(root)    \n",
    "    print(\"Searching folder:\", folder)  \n",
    "    \n",
    "    for name in files:\n",
    "        #print(\"  checking :\", name)\n",
    "        \n",
    "        # os.path.splitext()  splits a pathname into (root, ext), where ext begins witha period\n",
    "        (base, ext) = os.path.splitext(name) \n",
    "        \n",
    "        if ext in ('.jpg'):                  # check the extension\n",
    "            count += 1\n",
    "            full_name = os.path.join(root, name) # create full path\n",
    "            print(\"     -> Found jpg:\",name)\n",
    "\n",
    "print('\\ntotal number of .jpg files found: %d' % count)"
   ]
  },
  {
   "cell_type": "markdown",
   "metadata": {
    "collapsed": true
   },
   "source": [
    "## Some programming notes from Newman Chapter 2.7\n",
    "\n",
    "Important notes from Chapter 2.7: Good programming style\n",
    "\n",
    "* Include comments in your programs\n",
    "* Use meaningful variable names\n",
    "    * energy, mass, angular_momentum, beta\n",
    "* Use the right types of variables (ints for ints etc)\n",
    "* Import functions first\n",
    "* Give your constants names (no \"hard coding\")\n",
    "    * makes formulas easier to read\n",
    "    * If you later want to change the value of that constant you only have to change it one place\n",
    "    * Usually defined at the beginning of your code after importing\n",
    "* Use user defined functions (but avoid overusing)\n",
    "    * Don't type the same code multiple times\n",
    "    * But don't make it unreadable by having so many functions that you have trouble following the flow\n",
    "* Print out partial results and updates throughout your program\n",
    "* Lay out your programs clearly\n",
    "    * Use spaces or blank lines\n",
    "    * Split long lines with the backslash\n",
    "* Short and simple is good"
   ]
  },
  {
   "cell_type": "markdown",
   "metadata": {
    "collapsed": true
   },
   "source": [
    "## Exercises"
   ]
  },
  {
   "cell_type": "markdown",
   "metadata": {},
   "source": [
    "#### Exercise 1: \n",
    "\n",
    "Below are two dictionaries containing items found at a fruit stand. The prices dictionary contians the price of each item, while the stock dictionary contains the number of items in the stock.\n",
    "\n",
    "1. Loop over the prices dictionary and print out a table of food items and their corresponsiding prices. Use string formatting to print the tables in nice columns (it is up to you if you want to left justify, right justify, or use a filling symbol).\n",
    "\n",
    "2. Loop over one of the dictionaries and calculate the total cost of the entire inventory (taking into account both the price of each item and the number in stock)\n",
    "\n"
   ]
  },
  {
   "cell_type": "code",
   "execution_count": 91,
   "metadata": {},
   "outputs": [],
   "source": [
    "#Create the prices dictionary:\n",
    "prices={}\n",
    "\n",
    "#Add values, one key at a time\n",
    "prices[\"banana\"]       = 1.50\n",
    "prices[\"apple\"]        = 2.00\n",
    "prices[\"orange\"]       = 3.50\n",
    "prices[\"watermelon\"]   = 4.00\n",
    "\n",
    "#Create the stock dictionary\n",
    "stock={}\n",
    "\n",
    "#Add values\n",
    "stock[\"banana\"]       = 12\n",
    "stock[\"apple\"]        = 48\n",
    "stock[\"orange\"]       = 15\n",
    "stock[\"watermelon\"]   = 0\n"
   ]
  },
  {
   "cell_type": "code",
   "execution_count": 2,
   "metadata": {},
   "outputs": [],
   "source": [
    "# Exercise 1 part 1 solution\n",
    "\n",
    " "
   ]
  },
  {
   "cell_type": "code",
   "execution_count": 1,
   "metadata": {},
   "outputs": [],
   "source": [
    "# Exercise 1 part 2 solution\n",
    "\n"
   ]
  },
  {
   "cell_type": "code",
   "execution_count": null,
   "metadata": {},
   "outputs": [],
   "source": []
  },
  {
   "cell_type": "markdown",
   "metadata": {},
   "source": [
    "#### Exercise 2:\n",
    "    \n",
    "1. Sort the following list (myList) alphabetically.\n",
    "\n",
    "2. Sort the list again based on the number found in index 1 of the string for each list entry."
   ]
  },
  {
   "cell_type": "code",
   "execution_count": 133,
   "metadata": {},
   "outputs": [],
   "source": [
    "myList = ['A3','B7','A2','C9','E1','F6','A5','G8','H2','J4']"
   ]
  },
  {
   "cell_type": "code",
   "execution_count": null,
   "metadata": {},
   "outputs": [],
   "source": [
    "# Exercise 2 part 1 solution\n"
   ]
  },
  {
   "cell_type": "code",
   "execution_count": null,
   "metadata": {},
   "outputs": [],
   "source": [
    "# Exercise 2 part 2 solution\n"
   ]
  },
  {
   "cell_type": "markdown",
   "metadata": {},
   "source": [
    "#### Exercise 3\n",
    "\n",
    "1. How do you access the H in the following list?\n",
    "2. How do you access the sublist [6,8,2,5]?"
   ]
  },
  {
   "cell_type": "code",
   "execution_count": 137,
   "metadata": {},
   "outputs": [],
   "source": [
    "myList2 = [ [1,4,5,6,3,7,9],\n",
    "           [\"A\",\"K\",\"E\",\"C\",\"G\",\"G\",\"H\"],\n",
    "           [4,2,6,8,2,5,7] ]"
   ]
  },
  {
   "cell_type": "code",
   "execution_count": 3,
   "metadata": {},
   "outputs": [],
   "source": [
    "# Exercise 3 part 1 solution\n"
   ]
  },
  {
   "cell_type": "code",
   "execution_count": 4,
   "metadata": {},
   "outputs": [],
   "source": [
    "# Exercise 3 part 2 solution\n"
   ]
  },
  {
   "cell_type": "code",
   "execution_count": null,
   "metadata": {},
   "outputs": [],
   "source": []
  }
 ],
 "metadata": {
  "kernelspec": {
   "display_name": "Python 3",
   "language": "python",
   "name": "python3"
  },
  "language_info": {
   "codemirror_mode": {
    "name": "ipython",
    "version": 3
   },
   "file_extension": ".py",
   "mimetype": "text/x-python",
   "name": "python",
   "nbconvert_exporter": "python",
   "pygments_lexer": "ipython3",
   "version": "3.8.8"
  }
 },
 "nbformat": 4,
 "nbformat_minor": 2
}
