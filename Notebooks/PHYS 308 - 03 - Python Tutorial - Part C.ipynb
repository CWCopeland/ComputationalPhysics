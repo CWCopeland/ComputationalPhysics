{
 "cells": [
  {
   "cell_type": "markdown",
   "metadata": {},
   "source": [
    "### Recall: Lists\n",
    "\n",
    "Positionally ordered collections of arbitrary python data types\n",
    "\n",
    "Thy have no fixed size. They are \"mutable\"."
   ]
  },
  {
   "cell_type": "code",
   "execution_count": 110,
   "metadata": {},
   "outputs": [
    {
     "name": "stdout",
     "output_type": "stream",
     "text": [
      "[8, 2.3, 'tree']\n"
     ]
    }
   ],
   "source": [
    "l = [8, 2.3, 'tree']\n",
    "print(l)"
   ]
  },
  {
   "cell_type": "code",
   "execution_count": 111,
   "metadata": {},
   "outputs": [
    {
     "data": {
      "text/plain": [
       "3"
      ]
     },
     "execution_count": 111,
     "metadata": {},
     "output_type": "execute_result"
    }
   ],
   "source": [
    "# number of items in a list\n",
    "len(l)"
   ]
  },
  {
   "cell_type": "code",
   "execution_count": 112,
   "metadata": {},
   "outputs": [
    {
     "data": {
      "text/plain": [
       "'tree'"
      ]
     },
     "execution_count": 112,
     "metadata": {},
     "output_type": "execute_result"
    }
   ],
   "source": [
    "# Access one element\n",
    "l[2]"
   ]
  },
  {
   "cell_type": "code",
   "execution_count": 113,
   "metadata": {},
   "outputs": [
    {
     "name": "stdout",
     "output_type": "stream",
     "text": [
      "[2.3, 'tree']\n",
      "[8, 2.3]\n"
     ]
    }
   ],
   "source": [
    "# Slice in order to access a subset of the list (returns a new list)\n",
    "print( l[1:]) # all elements except for element 0\n",
    "print( l[:-1]) # all elements except for the last element"
   ]
  },
  {
   "cell_type": "code",
   "execution_count": 114,
   "metadata": {},
   "outputs": [
    {
     "name": "stdout",
     "output_type": "stream",
     "text": [
      "[8, 2.3, 'tree', 'barn', 'silo', 0.3]\n"
     ]
    }
   ],
   "source": [
    "# Add a list to a list (Concatenate)\n",
    "l = l + ['barn', 'silo', 0.3]\n",
    "print(l)"
   ]
  },
  {
   "cell_type": "code",
   "execution_count": 115,
   "metadata": {},
   "outputs": [
    {
     "name": "stdout",
     "output_type": "stream",
     "text": [
      "[8, 2.3, 'tree', 'barn', 'silo', 0.3, 49, 'tractor', 'sky']\n"
     ]
    }
   ],
   "source": [
    "# Add elements to the end of a list one element at a time (append)\n",
    "l.append(49)\n",
    "l.append('tractor')\n",
    "l.append('sky')\n",
    "print(l)"
   ]
  },
  {
   "cell_type": "code",
   "execution_count": 116,
   "metadata": {},
   "outputs": [
    {
     "name": "stdout",
     "output_type": "stream",
     "text": [
      "[8, 2.3, 'tree', 'barn', 'silo', 0.3, 49, 'tractor']\n"
     ]
    }
   ],
   "source": [
    "l.pop() # remove the last element\n",
    "print(l)"
   ]
  },
  {
   "cell_type": "code",
   "execution_count": 117,
   "metadata": {},
   "outputs": [
    {
     "name": "stdout",
     "output_type": "stream",
     "text": [
      "[2.3, 'tree', 'barn', 'silo', 0.3, 49, 'tractor']\n"
     ]
    }
   ],
   "source": [
    "l.pop(0) # remove the first element\n",
    "print(l)"
   ]
  },
  {
   "cell_type": "code",
   "execution_count": 118,
   "metadata": {},
   "outputs": [
    {
     "name": "stdout",
     "output_type": "stream",
     "text": [
      "['doghouse', 2.3, 'tree', 'barn', 'silo', 0.3, 49, 'tractor']\n",
      "['doghouse', 2.3, 'birdhouse', 'tree', 'barn', 'silo', 0.3, 49, 'tractor']\n"
     ]
    }
   ],
   "source": [
    "l.insert(0,'doghouse') # insert something in the front of the list\n",
    "print(l)\n",
    "l.insert(2,'birdhouse') # insert something at element 2\n",
    "print(l)"
   ]
  },
  {
   "cell_type": "code",
   "execution_count": 119,
   "metadata": {},
   "outputs": [
    {
     "name": "stdout",
     "output_type": "stream",
     "text": [
      "['doghouse', 2.3, 'birdhouse', 'tree', 'barn', 'silo', 0.3, 'tractor']\n"
     ]
    }
   ],
   "source": [
    "l.remove(49) # remove by value\n",
    "print(l)"
   ]
  },
  {
   "cell_type": "code",
   "execution_count": 134,
   "metadata": {},
   "outputs": [
    {
     "name": "stdout",
     "output_type": "stream",
     "text": [
      "['doghouse', 2.3, 'birdhouse', 'tree', 'barn', 'silo', 0.3, 'tractor', 'cow', 'horse', 'pig', 'cow', 'horse', 'pig', 'cow', 'horse', 'pig']\n"
     ]
    }
   ],
   "source": [
    "n = ['cow','horse','pig']\n",
    "l.extend(n)\n",
    "print(l)"
   ]
  },
  {
   "cell_type": "code",
   "execution_count": 130,
   "metadata": {},
   "outputs": [
    {
     "name": "stdout",
     "output_type": "stream",
     "text": [
      "['doghouse', 2.3, 'birdhouse', 'tree', 'barn', 'silo', 0.3, 'tractor', 'cow', 'horse', 'pig', 'cow', 'horse', 'pig', 'doghouse', 2.3, 'birdhouse', 'tree', 'barn', 'silo', 0.3, 'tractor', 'cow', 'horse', 'pig', 'cow', 'horse', 'pig', 'doghouse', 2.3, 'birdhouse', 'tree', 'barn', 'silo', 0.3, 'tractor', 'cow', 'horse', 'pig', 'cow', 'horse', 'pig', 'doghouse', 2.3, 'birdhouse', 'tree', 'barn', 'silo', 0.3, 'tractor', 'cow', 'horse', 'pig', 'cow', 'horse', 'pig']\n"
     ]
    }
   ],
   "source": [
    "# Repeate a list\n",
    "print(l*4)"
   ]
  },
  {
   "cell_type": "code",
   "execution_count": 147,
   "metadata": {},
   "outputs": [
    {
     "name": "stdout",
     "output_type": "stream",
     "text": [
      "[1, 1, 2, 3, 3, 5, 6, 7, 20, 20, 21, 66, 200]\n"
     ]
    }
   ],
   "source": [
    "# sort a list (change the order of the list)\n",
    "m = [5,2,6,1,21,66,200,20,3,20,3,7,1]\n",
    "m.sort()\n",
    "print(m)"
   ]
  },
  {
   "cell_type": "code",
   "execution_count": 148,
   "metadata": {},
   "outputs": [
    {
     "ename": "TypeError",
     "evalue": "'<' not supported between instances of 'float' and 'str'",
     "output_type": "error",
     "traceback": [
      "\u001b[0;31m---------------------------------------------------------------------------\u001b[0m",
      "\u001b[0;31mTypeError\u001b[0m                                 Traceback (most recent call last)",
      "\u001b[0;32m<ipython-input-148-013654a58b75>\u001b[0m in \u001b[0;36m<module>\u001b[0;34m()\u001b[0m\n\u001b[1;32m      1\u001b[0m \u001b[0;31m# does not work for mixed data types\u001b[0m\u001b[0;34m\u001b[0m\u001b[0;34m\u001b[0m\u001b[0m\n\u001b[0;32m----> 2\u001b[0;31m \u001b[0ml\u001b[0m\u001b[0;34m.\u001b[0m\u001b[0msort\u001b[0m\u001b[0;34m(\u001b[0m\u001b[0;34m)\u001b[0m\u001b[0;34m\u001b[0m\u001b[0m\n\u001b[0m\u001b[1;32m      3\u001b[0m \u001b[0mprint\u001b[0m\u001b[0;34m(\u001b[0m\u001b[0ml\u001b[0m\u001b[0;34m)\u001b[0m\u001b[0;34m\u001b[0m\u001b[0m\n",
      "\u001b[0;31mTypeError\u001b[0m: '<' not supported between instances of 'float' and 'str'"
     ]
    }
   ],
   "source": [
    "# does not work for mixed data types\n",
    "l.sort()\n",
    "print(l)"
   ]
  },
  {
   "cell_type": "code",
   "execution_count": 149,
   "metadata": {},
   "outputs": [
    {
     "name": "stdout",
     "output_type": "stream",
     "text": [
      "[200, 66, 21, 20, 20, 7, 6, 5, 3, 3, 2, 1, 1]\n"
     ]
    }
   ],
   "source": [
    "# reverse sort a list\n",
    "m.reverse()\n",
    "print(m)"
   ]
  },
  {
   "cell_type": "code",
   "execution_count": 150,
   "metadata": {},
   "outputs": [
    {
     "name": "stdout",
     "output_type": "stream",
     "text": [
      "20\n"
     ]
    },
    {
     "ename": "IndexError",
     "evalue": "list index out of range",
     "output_type": "error",
     "traceback": [
      "\u001b[0;31m---------------------------------------------------------------------------\u001b[0m",
      "\u001b[0;31mIndexError\u001b[0m                                Traceback (most recent call last)",
      "\u001b[0;32m<ipython-input-150-cb64a89908ac>\u001b[0m in \u001b[0;36m<module>\u001b[0;34m()\u001b[0m\n\u001b[1;32m      1\u001b[0m \u001b[0mprint\u001b[0m\u001b[0;34m(\u001b[0m\u001b[0mm\u001b[0m\u001b[0;34m[\u001b[0m\u001b[0;36m3\u001b[0m\u001b[0;34m]\u001b[0m\u001b[0;34m)\u001b[0m\u001b[0;34m\u001b[0m\u001b[0m\n\u001b[0;32m----> 2\u001b[0;31m \u001b[0mprint\u001b[0m\u001b[0;34m(\u001b[0m\u001b[0mm\u001b[0m\u001b[0;34m[\u001b[0m\u001b[0;36m20\u001b[0m\u001b[0;34m]\u001b[0m\u001b[0;34m)\u001b[0m\u001b[0;34m\u001b[0m\u001b[0m\n\u001b[0m",
      "\u001b[0;31mIndexError\u001b[0m: list index out of range"
     ]
    }
   ],
   "source": [
    "# bounds\n",
    "print(m[3])\n",
    "print(m[20])"
   ]
  },
  {
   "cell_type": "code",
   "execution_count": 184,
   "metadata": {},
   "outputs": [
    {
     "name": "stdout",
     "output_type": "stream",
     "text": [
      "[[3, 5, 7], [7, 8, 9], [13, 17, 21]]\n",
      "[3, 5, 7]\n",
      "5\n"
     ]
    }
   ],
   "source": [
    "# nesting lists\n",
    "L = [  [3,5,7], \n",
    "       [7,8,9], \n",
    "       [13,17,21]\n",
    "    ]\n",
    "print(L)\n",
    "print(L[0])      # Element 0\n",
    "print(L[0][1])   # 1st element of element 0 ( or [row][column])"
   ]
  },
  {
   "cell_type": "code",
   "execution_count": 186,
   "metadata": {},
   "outputs": [
    {
     "name": "stdout",
     "output_type": "stream",
     "text": [
      "[5, 8, 17]\n",
      "\n",
      "[3, 8, 21]\n",
      "\n"
     ]
    }
   ],
   "source": [
    "# \"list comprehensions\" neat python method to create new lists\n",
    "\n",
    "# create a list from a nested list (extract one column)\n",
    "col = [row[1] for row in L]\n",
    "print(col)\n",
    "print()\n",
    "\n",
    "# create a list from a nested list (extract the diagonals)\n",
    "col = [L[i][i] for i in range(len(L)) ]\n",
    "print(col)\n",
    "print()\n"
   ]
  },
  {
   "cell_type": "code",
   "execution_count": 180,
   "metadata": {},
   "outputs": [
    {
     "name": "stdout",
     "output_type": "stream",
     "text": [
      "[1, 2, 4, 8, 16, 32, 64, 128, 256, 512]\n",
      "\n",
      "[0, 1, 4, 9, 16, 25, 36, 49, 64, 81]\n",
      "\n"
     ]
    }
   ],
   "source": [
    "# \"list comprehensions\" can also be used to create a list from a function\n",
    "sqr_nu = [2**i for i in range(10)]\n",
    "print(sqr_nu)\n",
    "print()\n",
    "\n",
    "sqr_el = [x**2 for x in range(10)]\n",
    "print(sqr_el)\n",
    "print()"
   ]
  },
  {
   "cell_type": "code",
   "execution_count": 179,
   "metadata": {},
   "outputs": [
    {
     "name": "stdout",
     "output_type": "stream",
     "text": [
      "[0, 1, 2, 3, 4, 5, 6, 7, 8, 9, 10, 11, 12, 13, 14, 15, 16, 17, 18, 19]\n",
      "[2, 6, 10, 14, 18, 22, 26, 30, 34, 38]\n",
      "\n",
      "[(1, 7), (1, 8), (2, 7), (2, 8)]\n"
     ]
    }
   ],
   "source": [
    "# other tricks\n",
    "\n",
    "# another example\n",
    "numbers = [x for x in range(20)]\n",
    "print(numbers)\n",
    "doubled_odds = [n * 2 for n in numbers if n % 2 == 1]\n",
    "print(doubled_odds)\n",
    "print()\n",
    "\n",
    "# parallel list comprehension\n",
    "par = [(x, y) for x in range(1, 3) for y in range(7, 9)]\n",
    "print(par)"
   ]
  },
  {
   "cell_type": "markdown",
   "metadata": {},
   "source": [
    "### Tuples\n",
    "\n",
    "We've discussed lists and numpy arrays. Now introducing tuples.\n",
    "\n",
    "Tuples are like lists, but an element of a tuple can not be changed. They are \"immutable\". Use them to represent fixed collections."
   ]
  },
  {
   "cell_type": "code",
   "execution_count": 211,
   "metadata": {
    "collapsed": true
   },
   "outputs": [],
   "source": [
    "t = (3,2,1,6)  # use paretheses for tupes"
   ]
  },
  {
   "cell_type": "code",
   "execution_count": 212,
   "metadata": {},
   "outputs": [
    {
     "data": {
      "text/plain": [
       "tuple"
      ]
     },
     "execution_count": 212,
     "metadata": {},
     "output_type": "execute_result"
    }
   ],
   "source": [
    "type(t)"
   ]
  },
  {
   "cell_type": "code",
   "execution_count": 213,
   "metadata": {
    "collapsed": true
   },
   "outputs": [],
   "source": [
    "l = [0,3,3,2] # use square brackets for lists"
   ]
  },
  {
   "cell_type": "code",
   "execution_count": 214,
   "metadata": {},
   "outputs": [
    {
     "data": {
      "text/plain": [
       "list"
      ]
     },
     "execution_count": 214,
     "metadata": {},
     "output_type": "execute_result"
    }
   ],
   "source": [
    "type(l)"
   ]
  },
  {
   "cell_type": "code",
   "execution_count": 360,
   "metadata": {},
   "outputs": [
    {
     "name": "stdout",
     "output_type": "stream",
     "text": [
      "(0, 3, 3, 2)\n"
     ]
    }
   ],
   "source": [
    "# convert a list to a tuple\n",
    "T = tuple(l)\n",
    "print(T)"
   ]
  },
  {
   "cell_type": "code",
   "execution_count": 215,
   "metadata": {},
   "outputs": [
    {
     "data": {
      "text/plain": [
       "4"
      ]
     },
     "execution_count": 215,
     "metadata": {},
     "output_type": "execute_result"
    }
   ],
   "source": [
    "len(t)   # number of elements in a tuple"
   ]
  },
  {
   "cell_type": "code",
   "execution_count": 216,
   "metadata": {},
   "outputs": [
    {
     "data": {
      "text/plain": [
       "3"
      ]
     },
     "execution_count": 216,
     "metadata": {},
     "output_type": "execute_result"
    }
   ],
   "source": [
    "t[0]  # access a specific element"
   ]
  },
  {
   "cell_type": "code",
   "execution_count": 219,
   "metadata": {},
   "outputs": [
    {
     "name": "stdout",
     "output_type": "stream",
     "text": [
      "(3, 2, 1, 6)\n",
      "(1, 6)\n"
     ]
    }
   ],
   "source": [
    "print(t)\n",
    "print(t[2:]) # slicing still works"
   ]
  },
  {
   "cell_type": "code",
   "execution_count": 23,
   "metadata": {},
   "outputs": [
    {
     "ename": "TypeError",
     "evalue": "'tuple' object does not support item assignment",
     "output_type": "error",
     "traceback": [
      "\u001b[0;31m---------------------------------------------------------------------------\u001b[0m",
      "\u001b[0;31mTypeError\u001b[0m                                 Traceback (most recent call last)",
      "\u001b[0;32m<ipython-input-23-e36dcdb8325f>\u001b[0m in \u001b[0;36m<module>\u001b[0;34m()\u001b[0m\n\u001b[0;32m----> 1\u001b[0;31m \u001b[0mt\u001b[0m\u001b[0;34m[\u001b[0m\u001b[0;36m0\u001b[0m\u001b[0;34m]\u001b[0m\u001b[0;34m=\u001b[0m\u001b[0;36m5\u001b[0m\u001b[0;34m\u001b[0m\u001b[0m\n\u001b[0m",
      "\u001b[0;31mTypeError\u001b[0m: 'tuple' object does not support item assignment"
     ]
    }
   ],
   "source": [
    "t[0]=5   # not allowed"
   ]
  },
  {
   "cell_type": "code",
   "execution_count": 24,
   "metadata": {},
   "outputs": [
    {
     "name": "stdout",
     "output_type": "stream",
     "text": [
      "(3, 2, 1, 6, 9, 8, 7)\n"
     ]
    }
   ],
   "source": [
    "# You can combine tuples (\"Concatenation\")\n",
    "s = (9,8,7)\n",
    "t=t+s\n",
    "print(t)"
   ]
  },
  {
   "cell_type": "code",
   "execution_count": 187,
   "metadata": {},
   "outputs": [
    {
     "ename": "AttributeError",
     "evalue": "'tuple' object has no attribute 'append'",
     "output_type": "error",
     "traceback": [
      "\u001b[0;31m---------------------------------------------------------------------------\u001b[0m",
      "\u001b[0;31mAttributeError\u001b[0m                            Traceback (most recent call last)",
      "\u001b[0;32m<ipython-input-187-810fb753dff3>\u001b[0m in \u001b[0;36m<module>\u001b[0;34m()\u001b[0m\n\u001b[1;32m      1\u001b[0m \u001b[0;31m# but there is no \"append\", nor or their many other tools from lists. tuples are for fixed data\u001b[0m\u001b[0;34m\u001b[0m\u001b[0;34m\u001b[0m\u001b[0m\n\u001b[0;32m----> 2\u001b[0;31m \u001b[0mt\u001b[0m\u001b[0;34m.\u001b[0m\u001b[0mappend\u001b[0m\u001b[0;34m(\u001b[0m\u001b[0;36m8\u001b[0m\u001b[0;34m)\u001b[0m\u001b[0;34m\u001b[0m\u001b[0m\n\u001b[0m",
      "\u001b[0;31mAttributeError\u001b[0m: 'tuple' object has no attribute 'append'"
     ]
    }
   ],
   "source": [
    "# but there is no \"append\", nor or their many other tools from lists. tuples are for fixed data\n",
    "t.append(8) "
   ]
  },
  {
   "cell_type": "code",
   "execution_count": 25,
   "metadata": {},
   "outputs": [
    {
     "name": "stdout",
     "output_type": "stream",
     "text": [
      "(5, 2, 1, 6, 9, 8, 7)\n"
     ]
    }
   ],
   "source": [
    "# If you do want to change an element of a tuple you need to\n",
    "# create a new tuple\n",
    "t_new = (5,) + t[1:]\n",
    "print(t_new)"
   ]
  },
  {
   "cell_type": "code",
   "execution_count": 367,
   "metadata": {},
   "outputs": [
    {
     "name": "stdout",
     "output_type": "stream",
     "text": [
      "[5, 4, 3]\n",
      "[6, 4, 3]\n",
      "[3, 4, 6]\n",
      "(3, 4, 6)\n"
     ]
    }
   ],
   "source": [
    "#If you need to change many elements or sort the tuple you can convert to a list and back\n",
    "xt = (5,4,3)\n",
    "xl = list(xt)\n",
    "print(xl)\n",
    "xl[0]=6\n",
    "print(xl)\n",
    "xl.sort()\n",
    "print(xl)\n",
    "xt = tuple(xl)\n",
    "print(xt)"
   ]
  },
  {
   "cell_type": "code",
   "execution_count": 369,
   "metadata": {},
   "outputs": [
    {
     "name": "stdout",
     "output_type": "stream",
     "text": [
      "[3, 3, 4, 5, 8, 201, 382]\n",
      "[382, 201, 8, 5, 4, 3, 3]\n"
     ]
    }
   ],
   "source": [
    "# there is also a sorted method, which sorts the TUPLE and returns a LIST\n",
    "yt=(5,3,201,382,3,8,4)\n",
    "lts = sorted(yt)\n",
    "print(lts)\n",
    "# or reverse it\n",
    "ltr = sorted(yt,reverse=True)\n",
    "print(ltr)"
   ]
  },
  {
   "cell_type": "code",
   "execution_count": 371,
   "metadata": {},
   "outputs": [
    {
     "name": "stdout",
     "output_type": "stream",
     "text": [
      "((9, 4), (4, 2), (3, 4), (8, 9))\n",
      "\n",
      "[(3, 4), (4, 2), (8, 9), (9, 4)]\n"
     ]
    }
   ],
   "source": [
    "# There are also tricks you can play to sort by a function\n",
    "zt = ( (9,4), (4,2), (3,4), (8,9)  )\n",
    "\n",
    "# Define a function which grabs the first element of a sub-tuple\n",
    "def getKey(x):\n",
    "    return x[0]\n",
    "\n",
    "# Use this function as the \"key\" for sorting the tuple\n",
    "sorted_list_from_2dtuple = sorted(zt,key=getKey)\n",
    "\n",
    "print(zt)\n",
    "print()\n",
    "print(sorted_list_from_2dtuple)"
   ]
  },
  {
   "cell_type": "code",
   "execution_count": null,
   "metadata": {
    "collapsed": true
   },
   "outputs": [],
   "source": []
  },
  {
   "cell_type": "code",
   "execution_count": 29,
   "metadata": {},
   "outputs": [
    {
     "name": "stdout",
     "output_type": "stream",
     "text": [
      "4\n"
     ]
    }
   ],
   "source": [
    "# find the tuple element for the first appearance of a number\n",
    "q=(0,0,2,5,7,7)\n",
    "print(q.index(7))  "
   ]
  },
  {
   "cell_type": "code",
   "execution_count": 33,
   "metadata": {},
   "outputs": [
    {
     "data": {
      "text/plain": [
       "2"
      ]
     },
     "execution_count": 33,
     "metadata": {},
     "output_type": "execute_result"
    }
   ],
   "source": [
    "# count how many times a number appears in the tuple\n",
    "q.count(7)"
   ]
  },
  {
   "cell_type": "code",
   "execution_count": 383,
   "metadata": {
    "collapsed": true
   },
   "outputs": [],
   "source": [
    "# one can leave out the paretheses when first defining the tuple\n",
    "r = 3,3,10"
   ]
  },
  {
   "cell_type": "code",
   "execution_count": 44,
   "metadata": {},
   "outputs": [
    {
     "data": {
      "text/plain": [
       "tuple"
      ]
     },
     "execution_count": 44,
     "metadata": {},
     "output_type": "execute_result"
    }
   ],
   "source": [
    "type(r)"
   ]
  },
  {
   "cell_type": "code",
   "execution_count": 45,
   "metadata": {},
   "outputs": [
    {
     "name": "stdout",
     "output_type": "stream",
     "text": [
      "(3, 3, 10, 'dog', 'cat', 3.9, 5)\n"
     ]
    }
   ],
   "source": [
    "# the tuple can contain multiple data types\n",
    "r = r + ('dog','cat',3.9,5)\n",
    "print(r)"
   ]
  },
  {
   "cell_type": "code",
   "execution_count": 54,
   "metadata": {},
   "outputs": [
    {
     "name": "stdout",
     "output_type": "stream",
     "text": [
      "Entire tuple :  (3, 4, (3, 5), [8, 9])\n",
      "Element 0    :  3\n",
      "Element 2    :  (3, 5) , type <class 'tuple'>\n",
      "Element 3    :  [8, 9] , type <class 'list'>\n",
      "Element 1 within element 2:  5\n",
      "Element 0 within element 3:  8\n"
     ]
    }
   ],
   "source": [
    "# you can also \"nest\" a tuple or list inside a tuple \n",
    "\n",
    "u = (3,4, (3,5), [8,9] )\n",
    "\n",
    "print(\"Entire tuple : \", u)       \n",
    "print(\"Element 0    : \", u[0])\n",
    "print(\"Element 2    : \", u[2],\", type\",type(u[2]))\n",
    "print(\"Element 3    : \", u[3],\", type\",type(u[3]))\n",
    "print(\"Element 1 within element 2: \", u[2][1])\n",
    "print(\"Element 0 within element 3: \", u[3][0])"
   ]
  },
  {
   "cell_type": "code",
   "execution_count": null,
   "metadata": {
    "collapsed": true
   },
   "outputs": [],
   "source": []
  },
  {
   "cell_type": "markdown",
   "metadata": {},
   "source": [
    "### Dictionaries\n",
    "\n",
    "Dictionaries are not sequences like lists and tuples (there is no positional ordering).\n",
    "\n",
    "Instead, objects are stored by \"key\" (the object is mapped to the key)\n",
    "\n",
    "Dictionaries are mutable (they can be modified, grow, and shrink)\n"
   ]
  },
  {
   "cell_type": "code",
   "execution_count": 384,
   "metadata": {
    "collapsed": true
   },
   "outputs": [],
   "source": [
    "d = {'food': 'Beans', 'count': 4, 'type': 'canned'}  # use curly braces for dictionaries"
   ]
  },
  {
   "cell_type": "code",
   "execution_count": 197,
   "metadata": {},
   "outputs": [
    {
     "data": {
      "text/plain": [
       "'Beans'"
      ]
     },
     "execution_count": 197,
     "metadata": {},
     "output_type": "execute_result"
    }
   ],
   "source": [
    "# access by key:\n",
    "d['food']"
   ]
  },
  {
   "cell_type": "code",
   "execution_count": 198,
   "metadata": {},
   "outputs": [
    {
     "name": "stdout",
     "output_type": "stream",
     "text": [
      "{'food': 'Beans', 'count': 5, 'type': 'canned'}\n"
     ]
    }
   ],
   "source": [
    "# Modify by key\n",
    "d['count']+=1\n",
    "print(d)"
   ]
  },
  {
   "cell_type": "code",
   "execution_count": 199,
   "metadata": {},
   "outputs": [
    {
     "name": "stdout",
     "output_type": "stream",
     "text": [
      "{'name': 'Jim', 'job': 'Professor', 'height': 178}\n"
     ]
    }
   ],
   "source": [
    "# Build dictionaries one key at a time\n",
    "D = {}\n",
    "D['name'] = 'Jim'\n",
    "D['job'] = 'Professor'\n",
    "D['height'] = 178\n",
    "print(D)"
   ]
  },
  {
   "cell_type": "code",
   "execution_count": 200,
   "metadata": {},
   "outputs": [
    {
     "name": "stdout",
     "output_type": "stream",
     "text": [
      "Jim\n"
     ]
    }
   ],
   "source": [
    "# Access by key\n",
    "print(D['name'])"
   ]
  },
  {
   "cell_type": "markdown",
   "metadata": {},
   "source": [
    "### String methods\n",
    "\n",
    "Strings store text, but they are also a sequence (they are postionally ordered similar to lists and tuples) and can be used to store other information."
   ]
  },
  {
   "cell_type": "code",
   "execution_count": 386,
   "metadata": {},
   "outputs": [
    {
     "name": "stdout",
     "output_type": "stream",
     "text": [
      "9\n"
     ]
    }
   ],
   "source": [
    "s = 'spaghetti'\n",
    "print(len(s))  # length"
   ]
  },
  {
   "cell_type": "code",
   "execution_count": 388,
   "metadata": {},
   "outputs": [
    {
     "name": "stdout",
     "output_type": "stream",
     "text": [
      "pasta\n",
      "john's pasta\n",
      "he said the \"food was great!\"\n",
      "he said the \"food was great!\"\n"
     ]
    }
   ],
   "source": [
    "print( \"pasta\") # double quotes are also allowed\n",
    "print(\"john's pasta\")  # this allows you to use ' or \" within the string\n",
    "print('he said the \"food was great!\"')\n",
    "print(\"he said the \\\"food was great!\\\"\") # otherwise you have to use backslash"
   ]
  },
  {
   "cell_type": "code",
   "execution_count": 389,
   "metadata": {},
   "outputs": [
    {
     "name": "stdout",
     "output_type": "stream",
     "text": [
      "\tpasta\n",
      "pasta\n",
      "\n",
      "\n",
      "pasta\n",
      "\\pasta\n"
     ]
    }
   ],
   "source": [
    "# special characters \\n \\t\n",
    "print('\\tpasta')  # \\t = tab\n",
    "print('pasta')\n",
    "print()\n",
    "print('\\npasta')  # \\n = new line\n",
    "print('\\\\pasta')  # \\\\ = one backslash \\"
   ]
  },
  {
   "cell_type": "code",
   "execution_count": 351,
   "metadata": {},
   "outputs": [
    {
     "name": "stdout",
     "output_type": "stream",
     "text": [
      "C:\\folder\\file.txt\n",
      "C:\\folder\\file.txt\n"
     ]
    }
   ],
   "source": [
    "# note, on windows the backslash is used for file paths. this can get annoying\n",
    "print('C:\\\\folder\\\\file.txt')\n",
    "# there is a built in tool to help with this: raw strings. simply place a r before the ''\n",
    "print(r'C:\\folder\\file.txt')"
   ]
  },
  {
   "cell_type": "code",
   "execution_count": 209,
   "metadata": {},
   "outputs": [
    {
     "name": "stdout",
     "output_type": "stream",
     "text": [
      "first element :  s\n",
      "2nd element   :  p\n",
      "last element  :  i\n",
      "last element  :  i\n"
     ]
    }
   ],
   "source": [
    "print(\"first element : \",s[0])\n",
    "print(\"2nd element   : \",s[1])\n",
    "print(\"last element  : \",s[-1])\n",
    "print(\"last element  : \",s[len(s)-1])"
   ]
  },
  {
   "cell_type": "code",
   "execution_count": 348,
   "metadata": {},
   "outputs": [
    {
     "name": "stdout",
     "output_type": "stream",
     "text": [
      "ssssssssssssssssssssssssssssssssssssssssssssssssss\n",
      "pppppppppppppppppppppppppppppppppppppppppppppppppp\n",
      "aaaaaaaaaaaaaaaaaaaaaaaaaaaaaaaaaaaaaaaaaaaaaaaaaa\n",
      "gggggggggggggggggggggggggggggggggggggggggggggggggg\n",
      "hhhhhhhhhhhhhhhhhhhhhhhhhhhhhhhhhhhhhhhhhhhhhhhhhh\n",
      "eeeeeeeeeeeeeeeeeeeeeeeeeeeeeeeeeeeeeeeeeeeeeeeeee\n",
      "tttttttttttttttttttttttttttttttttttttttttttttttttt\n",
      "tttttttttttttttttttttttttttttttttttttttttttttttttt\n",
      "iiiiiiiiiiiiiiiiiiiiiiiiiiiiiiiiiiiiiiiiiiiiiiiiii\n"
     ]
    }
   ],
   "source": [
    "# loop over a string\n",
    "for i in s:\n",
    "    print(i*50)"
   ]
  },
  {
   "cell_type": "code",
   "execution_count": 221,
   "metadata": {},
   "outputs": [
    {
     "name": "stdout",
     "output_type": "stream",
     "text": [
      "spa\n"
     ]
    }
   ],
   "source": [
    "# Slicing works just like in lists, tuples, and arrays\n",
    "print(s[0:3])"
   ]
  },
  {
   "cell_type": "code",
   "execution_count": 225,
   "metadata": {},
   "outputs": [
    {
     "name": "stdout",
     "output_type": "stream",
     "text": [
      "spaghetti marinara\n",
      "spaghetti\n",
      "spaghettispaghettispaghetti\n"
     ]
    }
   ],
   "source": [
    "# Concatenate with +   (\"polymorphism\": + works differently on strings than on ints and floats)\n",
    "print(s+\" marinara\")\n",
    "print(s)\n",
    "print(s*3)"
   ]
  },
  {
   "cell_type": "code",
   "execution_count": 390,
   "metadata": {},
   "outputs": [
    {
     "ename": "TypeError",
     "evalue": "'str' object does not support item assignment",
     "output_type": "error",
     "traceback": [
      "\u001b[0;31m---------------------------------------------------------------------------\u001b[0m",
      "\u001b[0;31mTypeError\u001b[0m                                 Traceback (most recent call last)",
      "\u001b[0;32m<ipython-input-390-53fdfad261b0>\u001b[0m in \u001b[0;36m<module>\u001b[0;34m()\u001b[0m\n\u001b[1;32m      1\u001b[0m \u001b[0;31m# Strings are immutable like tuples\u001b[0m\u001b[0;34m\u001b[0m\u001b[0;34m\u001b[0m\u001b[0m\n\u001b[0;32m----> 2\u001b[0;31m \u001b[0ms\u001b[0m\u001b[0;34m[\u001b[0m\u001b[0;36m0\u001b[0m\u001b[0;34m]\u001b[0m\u001b[0;34m=\u001b[0m\u001b[0;34m'p'\u001b[0m\u001b[0;34m\u001b[0m\u001b[0m\n\u001b[0m",
      "\u001b[0;31mTypeError\u001b[0m: 'str' object does not support item assignment"
     ]
    }
   ],
   "source": [
    "# Strings are immutable like tuples\n",
    "s[0]='p'"
   ]
  },
  {
   "cell_type": "code",
   "execution_count": 228,
   "metadata": {},
   "outputs": [
    {
     "name": "stdout",
     "output_type": "stream",
     "text": [
      "ppaghetti\n"
     ]
    }
   ],
   "source": [
    "# Instead you need to create a new string\n",
    "s_new = 'p'+s[1:]\n",
    "print(s_new)"
   ]
  },
  {
   "cell_type": "code",
   "execution_count": 233,
   "metadata": {},
   "outputs": [
    {
     "name": "stdout",
     "output_type": "stream",
     "text": [
      "['s', 'p', 'a', 'g', 'h', 'e', 't', 't', 'i']\n",
      "['p', 'p', 'a', 'g', 'h', 'e', 't', 't', 'i']\n",
      "ppaghetti\n"
     ]
    }
   ],
   "source": [
    "# or convert it to a list \n",
    "list_s = list(s)\n",
    "print(list_s)\n",
    "list_s[0]='p'\n",
    "print(list_s)\n",
    "\n",
    "# then convert it back to a string using the string method join\n",
    "s_new2 = ''.join(list_s)\n",
    "print(s_new2)"
   ]
  },
  {
   "cell_type": "code",
   "execution_count": 345,
   "metadata": {},
   "outputs": [
    {
     "name": "stdout",
     "output_type": "stream",
     "text": [
      "3\n",
      "True\n",
      "spammmetti\n",
      "spaghetti\n"
     ]
    }
   ],
   "source": [
    "# String also provides find and replace methods\n",
    "\n",
    "# find the element coresponding to 'gh'\n",
    "print( s.find('gh'))\n",
    "\n",
    "# test if the word ends with a certain string (returns a bool)\n",
    "print( s.endswith('ti'))\n",
    "\n",
    "# replace 'gh'\n",
    "print( s.replace('gh','mmm'))\n",
    "print( s ) # we are not changing the actual string (immutable)"
   ]
  },
  {
   "cell_type": "code",
   "execution_count": null,
   "metadata": {
    "collapsed": true
   },
   "outputs": [],
   "source": [
    "# split() - very handy tool for spliting up strings"
   ]
  },
  {
   "cell_type": "code",
   "execution_count": 246,
   "metadata": {},
   "outputs": [
    {
     "name": "stdout",
     "output_type": "stream",
     "text": [
      "['carrot', 'lettuce', 'tomato', 'cucumber', 'broccoli']\n"
     ]
    }
   ],
   "source": [
    "items = 'carrot,lettuce,tomato,cucumber,broccoli'\n",
    "list_items = items.split(',') # Create a list, splitting the string using the delimiter ','\n",
    "print(list_items)"
   ]
  },
  {
   "cell_type": "code",
   "execution_count": 243,
   "metadata": {},
   "outputs": [
    {
     "name": "stdout",
     "output_type": "stream",
     "text": [
      "['carrot', 'lettuce', 'tomato', 'cucumber', 'broccoli']\n"
     ]
    }
   ],
   "source": [
    "items = 'carrot lettuce tomato cucumber broccoli'\n",
    "list_items = items.split() # Create a list, splitting the default delimiter ' ' \n",
    "print(list_items)"
   ]
  },
  {
   "cell_type": "code",
   "execution_count": 359,
   "metadata": {},
   "outputs": [
    {
     "name": "stdout",
     "output_type": "stream",
     "text": [
      "202\n",
      "940\n",
      "102\n"
     ]
    }
   ],
   "source": [
    "# If you have fixed width information you can slice\n",
    "area_codes = '202940102'\n",
    "code1=area_codes[0:3]\n",
    "code2=area_codes[3:6]\n",
    "code3=area_codes[6:9]\n",
    "print(code1)\n",
    "print(code2)\n",
    "print(code3)"
   ]
  },
  {
   "cell_type": "code",
   "execution_count": 252,
   "metadata": {},
   "outputs": [
    {
     "name": "stdout",
     "output_type": "stream",
     "text": [
      "I like to eat      ice cream       every day\n",
      "I like to eat ice cream       every day\n",
      "I like to eat      ice cream every day\n",
      "I like to eat ice cream every day\n"
     ]
    }
   ],
   "source": [
    "# Different methods to remove spaces\n",
    "\n",
    "st = '     ice cream      '\n",
    "print( \"I like to eat\",st          ,\"every day\")\n",
    "print( \"I like to eat\",st.lstrip() ,\"every day\")\n",
    "print( \"I like to eat\",st.rstrip() ,\"every day\")\n",
    "print( \"I like to eat\",st.strip()  ,\"every day\") # both sides"
   ]
  },
  {
   "cell_type": "code",
   "execution_count": 355,
   "metadata": {},
   "outputs": [
    {
     "name": "stdout",
     "output_type": "stream",
     "text": [
      "DOG\n",
      "Dog\n",
      "cat\n"
     ]
    }
   ],
   "source": [
    "# Usefull string methods\n",
    "\n",
    "test1 = 'dog'\n",
    "print( test1.upper() )\n",
    "print( test1.capitalize() )\n",
    "\n",
    "test2 = \"CAT\"\n",
    "print( test2.lower() )\n"
   ]
  },
  {
   "cell_type": "code",
   "execution_count": 258,
   "metadata": {},
   "outputs": [
    {
     "name": "stdout",
     "output_type": "stream",
     "text": [
      "Is R a letter? True\n",
      "Is R a number? False\n",
      "Is 2 a letter? False\n",
      "Is 2 a number? True\n"
     ]
    }
   ],
   "source": [
    "test = 'R2D2'\n",
    "print(\"Is\", test[0], \"a letter?\", test[0].isalpha())\n",
    "print(\"Is\", test[0], \"a number?\", test[0].isdigit())\n",
    "print(\"Is\", test[1], \"a letter?\", test[1].isalpha())\n",
    "print(\"Is\", test[1], \"a number?\", test[1].isdigit())"
   ]
  },
  {
   "cell_type": "code",
   "execution_count": 353,
   "metadata": {},
   "outputs": [
    {
     "name": "stdout",
     "output_type": "stream",
     "text": [
      "Hey jude,\n",
      "Don't make it bad.\n",
      "Take a sad song, \n",
      "and make it better.\n"
     ]
    }
   ],
   "source": [
    "# multi-line block strings\n",
    "lyrics = \"\"\"Hey jude,\n",
    "Don't make it bad.\n",
    "Take a sad song, \n",
    "and make it better.\"\"\"\n",
    "print(lyrics)"
   ]
  },
  {
   "cell_type": "code",
   "execution_count": 354,
   "metadata": {},
   "outputs": [
    {
     "name": "stdout",
     "output_type": "stream",
     "text": [
      "5\n"
     ]
    }
   ],
   "source": [
    "# You will often see block strings used as a method of temporarilly commenting out some code. Its a hack but common.\n",
    "x = 5\n",
    "\"\"\"\n",
    "x=10\n",
    "x+=38\n",
    "x*=2\n",
    "\"\"\"\n",
    "print(x)"
   ]
  },
  {
   "cell_type": "code",
   "execution_count": null,
   "metadata": {
    "collapsed": true
   },
   "outputs": [],
   "source": []
  },
  {
   "cell_type": "markdown",
   "metadata": {},
   "source": [
    "#### String Formatting\n",
    "https://docs.python.org/3/library/string.html#string-formatting"
   ]
  },
  {
   "cell_type": "code",
   "execution_count": 332,
   "metadata": {},
   "outputs": [
    {
     "name": "stdout",
     "output_type": "stream",
     "text": [
      "chicken, fish, and steak\n",
      "chicken, fish, and steak\n",
      "chicken, fish, and steak\n",
      "\n",
      "salad, fish, and cake\n",
      "\n",
      "1 + 2 = 3\n",
      "\n",
      "old way :\n",
      "chicken, fish, and steak\n",
      "\n",
      "1 + 2 = 3\n"
     ]
    }
   ],
   "source": [
    "# \"new formatting\"\n",
    "print( '{0}, {1}, and {2}'.format('chicken', 'fish', 'steak')  ) # with positional index\n",
    "print( '{1}, {0}, and {2}'.format('fish', 'chicken', 'steak')  ) \n",
    "print( '{}, {}, and {}'.format('chicken', 'fish', 'steak')  )# no positional index (python >3.1)\n",
    "\n",
    "print()\n",
    "print( '{appetizer}, {entree}, and {dessert}'.format(appetizer='salad', entree='fish', dessert='cake')  )# labeled\n",
    "\n",
    "print()\n",
    "print( '{} + {} = {}'.format(1,2,3)  )\n",
    "\n",
    "\n",
    "# \"old formatting\"\n",
    "print(\"\\nold way :\")\n",
    "print( '%s, %s, and %s' % ('chicken', 'fish', 'steak')  )\n",
    "print()\n",
    "print( '%d + %d = %d' % (1,2,3)  )\n"
   ]
  },
  {
   "cell_type": "code",
   "execution_count": 283,
   "metadata": {},
   "outputs": [
    {
     "name": "stdout",
     "output_type": "stream",
     "text": [
      "mass =          125.3\n",
      "energy =         2183\n",
      "x =              32.9\n",
      "y =               0.3\n"
     ]
    }
   ],
   "source": [
    "# padding\n",
    "#  '{:10}'.format()   left align with 10 space padding\n",
    "#  '{:<10}'.format()   left align with 10 space padding\n",
    "#  '{:>10}'.format()   right align with 10 space padding\n",
    "print('{:<10}'.format('mass = ')  ,'{:>10}'.format(125.3) )\n",
    "print('{:<10}'.format('energy = '),'{:>10}'.format(2183) )\n",
    "print('{:<10}'.format('x = ')     ,'{:>10}'.format(32.9) )\n",
    "print('{:<10}'.format('y = ')     ,'{:>10}'.format(0.3) )"
   ]
  },
  {
   "cell_type": "code",
   "execution_count": 393,
   "metadata": {},
   "outputs": [
    {
     "name": "stdout",
     "output_type": "stream",
     "text": [
      "mass------.....125.3\n",
      "energy..........2183\n",
      "x........., ......32.9\n",
      "y......... .......0.3\n"
     ]
    }
   ],
   "source": [
    "# '{:.>10}'.format()   choose the padding charater to be \".\"\n",
    "print('{:-<10}'.format('mass')  ,'{:.>10}'.format(125.3) ,  sep='' )\n",
    "print('{:.<10}'.format('energy'),'{:.>10}'.format(2183)  ,  sep='' )\n",
    "print('{:.<10}'.format('x')     ,'{:.>10}'.format(32.9)  ,  sep=', ' )\n",
    "print('{:.<10}'.format('y')     ,'{:.>10}'.format(0.3)   )"
   ]
  },
  {
   "cell_type": "code",
   "execution_count": 394,
   "metadata": {},
   "outputs": [
    {
     "name": "stdout",
     "output_type": "stream",
     "text": [
      "mass****************\n",
      "***mass***\n",
      "******mass\n"
     ]
    }
   ],
   "source": [
    "print('{:*<20}'.format('mass') ) # left\n",
    "print('{:*^10}'.format('mass') ) # center\n",
    "print('{:*>10}'.format('mass') ) # right\n"
   ]
  },
  {
   "cell_type": "code",
   "execution_count": 288,
   "metadata": {},
   "outputs": [
    {
     "name": "stdout",
     "output_type": "stream",
     "text": [
      "hippo\n"
     ]
    }
   ],
   "source": [
    "# Truncating\n",
    "#  {:.x} where x is the number of charachters to keep\n",
    "print( '{:.5}'.format('hippopotamus') )"
   ]
  },
  {
   "cell_type": "code",
   "execution_count": 289,
   "metadata": {},
   "outputs": [
    {
     "name": "stdout",
     "output_type": "stream",
     "text": [
      "m..............125.3\n",
      "e...............2183\n",
      "x...............32.9\n",
      "y................0.3\n"
     ]
    }
   ],
   "source": [
    "# Combining truncating and padding\n",
    "print('{:.<10.1}'.format('mass')  ,'{:.>10}'.format(125.3) ,  sep='' )\n",
    "print('{:.<10.1}'.format('energy'),'{:.>10}'.format(2183)  ,  sep='' )\n",
    "print('{:.<10.1}'.format('x')     ,'{:.>10}'.format(32.9)  ,  sep='' )\n",
    "print('{:.<10.1}'.format('y')     ,'{:.>10}'.format(0.3)   ,  sep='' )"
   ]
  },
  {
   "cell_type": "code",
   "execution_count": 313,
   "metadata": {},
   "outputs": [
    {
     "name": "stdout",
     "output_type": "stream",
     "text": [
      "3.141593\n",
      "\n",
      "9287289298237\n",
      "9,287,289,298,237\n",
      "9287289298237.000000\n",
      "9287289298237.00\n"
     ]
    }
   ],
   "source": [
    "# Formatting numbers\n",
    "# f signifies a fixed-point display (default precision is 6) \n",
    "print('{:f}'.format(3.141592653589793))\n",
    "print()\n",
    "print('{:}'.format(9287289298237) )\n",
    "print('{:,}'.format(9287289298237) )\n",
    "print('{:f}'.format(9287289298237) )   \n",
    "print('{:0.2f}'.format(9287289298237) )  # change the precision with a decimal number"
   ]
  },
  {
   "cell_type": "code",
   "execution_count": 293,
   "metadata": {},
   "outputs": [
    {
     "name": "stdout",
     "output_type": "stream",
     "text": [
      "2.932223\n",
      "10.400000\n",
      "0.039000\n",
      "3.119393\n",
      "0.006780\n"
     ]
    }
   ],
   "source": [
    "# f signifies a fixed-point display (default precision is 6) \n",
    "print('{:f}'.format(2.932223)      )     \n",
    "print('{:f}'.format(10.4)          ) \n",
    "print('{:f}'.format(0.039)         )  \n",
    "print('{:f}'.format(3.1193927663)  )         \n",
    "print('{:f}'.format(0.0067802)     )      "
   ]
  },
  {
   "cell_type": "code",
   "execution_count": 295,
   "metadata": {},
   "outputs": [
    {
     "name": "stdout",
     "output_type": "stream",
     "text": [
      "2.932223e+00\n",
      "1.040000e+01\n",
      "3.900000e-02\n",
      "3.119393e+00\n",
      "6.780200e-03\n"
     ]
    }
   ],
   "source": [
    "# e -> scientific notation\n",
    "print('{:e}'.format(2.932223)      )     \n",
    "print('{:e}'.format(10.4)          ) \n",
    "print('{:e}'.format(0.039)         )  \n",
    "print('{:e}'.format(3.1193927663)  )         \n",
    "print('{:e}'.format(0.0067802)     )  "
   ]
  },
  {
   "cell_type": "code",
   "execution_count": 297,
   "metadata": {},
   "outputs": [
    {
     "name": "stdout",
     "output_type": "stream",
     "text": [
      "2.93222\n",
      "10.4\n",
      "0.039\n",
      "3.11939\n",
      "0.0067802\n"
     ]
    }
   ],
   "source": [
    "# g is general format\n",
    "print('{:g}'.format(2.932223)      )     \n",
    "print('{:g}'.format(10.4)          ) \n",
    "print('{:g}'.format(0.039)         )  \n",
    "print('{:g}'.format(3.1193927663)  )         \n",
    "print('{:g}'.format(0.0067802)     )  "
   ]
  },
  {
   "cell_type": "code",
   "execution_count": 315,
   "metadata": {},
   "outputs": [
    {
     "name": "stdout",
     "output_type": "stream",
     "text": [
      "2.9\n",
      "10\n",
      "0.039\n",
      "3.1\n",
      "0.0068\n"
     ]
    }
   ],
   "source": [
    "# round 2 two sig figs\n",
    "print('{:0.2g}'.format(2.932223)      )     \n",
    "print('{:0.2g}'.format(10.4)          ) \n",
    "print('{:0.2g}'.format(0.039)         )  \n",
    "print('{:0.2g}'.format(3.1193927663)  )         \n",
    "print('{:0.2g}'.format(0.0067802)     )  "
   ]
  },
  {
   "cell_type": "code",
   "execution_count": 330,
   "metadata": {},
   "outputs": [
    {
     "name": "stdout",
     "output_type": "stream",
     "text": [
      "      2.93\n",
      "     10.40\n",
      "      0.04\n",
      "      3.12\n",
      "      0.01\n"
     ]
    }
   ],
   "source": [
    "# Add padding\n",
    "print('{:>10.2f}'.format(2.932223)      )     \n",
    "print('{:>10.2f}'.format(10.4)          ) \n",
    "print('{:>10.2f}'.format(0.039)         )  \n",
    "print('{:>10.2f}'.format(3.1193927663)  )         \n",
    "print('{:>10.2f}'.format(0.0067802)     )  "
   ]
  },
  {
   "cell_type": "code",
   "execution_count": 342,
   "metadata": {},
   "outputs": [
    {
     "name": "stdout",
     "output_type": "stream",
     "text": [
      "-------------------- new results --------------------\n"
     ]
    }
   ],
   "source": [
    "# Repetition\n",
    "print('-'*20, \"new results\",'-'*20 )"
   ]
  },
  {
   "cell_type": "code",
   "execution_count": null,
   "metadata": {
    "collapsed": true
   },
   "outputs": [],
   "source": []
  },
  {
   "cell_type": "markdown",
   "metadata": {},
   "source": [
    "### The os module : interacting with your computer"
   ]
  },
  {
   "cell_type": "code",
   "execution_count": 2,
   "metadata": {
    "collapsed": true
   },
   "outputs": [],
   "source": [
    "import os"
   ]
  },
  {
   "cell_type": "code",
   "execution_count": 3,
   "metadata": {},
   "outputs": [
    {
     "name": "stdout",
     "output_type": "stream",
     "text": [
      "/Users/jdolen/Dropbox/0_Teaching/PHYS_308_Scientific_Compuation/JupyterNotebooks/MorePython\n"
     ]
    }
   ],
   "source": [
    "# Figure out which working directory you are currently in (similar to pwd in linux)\n",
    "cwd = os.getcwd()\n",
    "print(cwd)"
   ]
  },
  {
   "cell_type": "code",
   "execution_count": 201,
   "metadata": {},
   "outputs": [
    {
     "data": {
      "text/plain": [
       "['.DS_Store',\n",
       " '.ipynb_checkpoints',\n",
       " 'bird.txt',\n",
       " 'cat.txt',\n",
       " 'chicken.txt',\n",
       " 'cow.txt',\n",
       " 'dog.txt',\n",
       " 'horse.txt',\n",
       " 'Images',\n",
       " 'More python.ipynb',\n",
       " 'pig.txt']"
      ]
     },
     "execution_count": 201,
     "metadata": {},
     "output_type": "execute_result"
    }
   ],
   "source": [
    "# create a list containg all files in a given directory\n",
    "os.listdir(cwd)"
   ]
  },
  {
   "cell_type": "code",
   "execution_count": 202,
   "metadata": {},
   "outputs": [
    {
     "name": "stdout",
     "output_type": "stream",
     "text": [
      ".DS_Store\n",
      ".ipynb_checkpoints\n",
      "bird.txt\n",
      "cat.txt\n",
      "chicken.txt\n",
      "cow.txt\n",
      "dog.txt\n",
      "horse.txt\n",
      "Images\n",
      "More python.ipynb\n",
      "pig.txt\n"
     ]
    }
   ],
   "source": [
    "# loop over all files in a directory\n",
    "current_folder = os.listdir(cwd)\n",
    "for filename in current_folder:\n",
    "    print(filename)"
   ]
  },
  {
   "cell_type": "code",
   "execution_count": 204,
   "metadata": {
    "scrolled": true
   },
   "outputs": [
    {
     "name": "stdout",
     "output_type": "stream",
     "text": [
      "/Users/jdolen/Dropbox/0_Teaching/PHYS_308_Scientific_Compuation/JupyterNotebooks/MorePython/.DS_Store\n",
      "/Users/jdolen/Dropbox/0_Teaching/PHYS_308_Scientific_Compuation/JupyterNotebooks/MorePython/.ipynb_checkpoints\n",
      "/Users/jdolen/Dropbox/0_Teaching/PHYS_308_Scientific_Compuation/JupyterNotebooks/MorePython/bird.txt\n",
      "/Users/jdolen/Dropbox/0_Teaching/PHYS_308_Scientific_Compuation/JupyterNotebooks/MorePython/cat.txt\n",
      "/Users/jdolen/Dropbox/0_Teaching/PHYS_308_Scientific_Compuation/JupyterNotebooks/MorePython/chicken.txt\n",
      "/Users/jdolen/Dropbox/0_Teaching/PHYS_308_Scientific_Compuation/JupyterNotebooks/MorePython/cow.txt\n",
      "/Users/jdolen/Dropbox/0_Teaching/PHYS_308_Scientific_Compuation/JupyterNotebooks/MorePython/dog.txt\n",
      "/Users/jdolen/Dropbox/0_Teaching/PHYS_308_Scientific_Compuation/JupyterNotebooks/MorePython/horse.txt\n",
      "/Users/jdolen/Dropbox/0_Teaching/PHYS_308_Scientific_Compuation/JupyterNotebooks/MorePython/Images\n",
      "/Users/jdolen/Dropbox/0_Teaching/PHYS_308_Scientific_Compuation/JupyterNotebooks/MorePython/More python.ipynb\n",
      "/Users/jdolen/Dropbox/0_Teaching/PHYS_308_Scientific_Compuation/JupyterNotebooks/MorePython/pig.txt\n"
     ]
    }
   ],
   "source": [
    "# loop over all files, displaying the full path name \n",
    "# \"absolute path\" = path relative to your home directory\n",
    "current_folder = os.listdir(cwd)\n",
    "for filename in current_folder:\n",
    "    print( os.path.abspath(filename) )"
   ]
  },
  {
   "cell_type": "code",
   "execution_count": 205,
   "metadata": {},
   "outputs": [
    {
     "name": "stdout",
     "output_type": "stream",
     "text": [
      ".DS_Store  -> This is a file\n",
      ".ipynb_checkpoints  -> This is a folder\n",
      "bird.txt  -> This is a file\n",
      "cat.txt  -> This is a file\n",
      "chicken.txt  -> This is a file\n",
      "cow.txt  -> This is a file\n",
      "dog.txt  -> This is a file\n",
      "horse.txt  -> This is a file\n",
      "Images  -> This is a folder\n",
      "More python.ipynb  -> This is a file\n",
      "pig.txt  -> This is a file\n"
     ]
    }
   ],
   "source": [
    "# use os.path.isfile and os.path.isdir \n",
    "# to check if a your direcdtory contents are files or folders\n",
    "\n",
    "current_folder = os.listdir(cwd)\n",
    "for filename in current_folder:\n",
    "    isfile   = os.path.isfile(filename)\n",
    "    isfolder = os.path.isdir(filename)\n",
    "    if isfile:\n",
    "        print( filename ,\" -> This is a file\" )\n",
    "    if isfolder:\n",
    "        print( filename ,\" -> This is a folder\" )"
   ]
  },
  {
   "cell_type": "code",
   "execution_count": 206,
   "metadata": {},
   "outputs": [
    {
     "name": "stdout",
     "output_type": "stream",
     "text": [
      "This folder contains 7 text files\n"
     ]
    }
   ],
   "source": [
    "# use python string method endswith() method to find txt files and count them\n",
    "\n",
    "current_folder = os.listdir(cwd)\n",
    "count_txt = 0\n",
    "for filename in current_folder:\n",
    "    if filename.endswith('.txt') :\n",
    "        count_txt+=1\n",
    "print(\"This folder contains\",count_txt,\"text files\")"
   ]
  },
  {
   "cell_type": "code",
   "execution_count": 395,
   "metadata": {},
   "outputs": [
    {
     "name": "stdout",
     "output_type": "stream",
     "text": [
      "Currently searching /Users/jdolen/Dropbox/0_Teaching/PHYS_308_Scientific_Compuation/JupyterNotebooks/MorePython\n",
      "Searching folder: MorePython\n",
      "  checking : .DS_Store\n",
      "     -> Found jpg!: .DS_Store\n",
      "  checking : bird.txt\n",
      "  checking : cat.txt\n",
      "  checking : chicken.txt\n",
      "  checking : cow.txt\n",
      "  checking : dog.txt\n",
      "  checking : find_filetype.py\n",
      "  checking : find_images.py\n",
      "  checking : horse.txt\n",
      "  checking : PHYS 308 - More Python.ipynb\n",
      "  checking : pig.txt\n",
      "Currently searching /Users/jdolen/Dropbox/0_Teaching/PHYS_308_Scientific_Compuation/JupyterNotebooks/MorePython/.ipynb_checkpoints\n",
      "Searching folder: .ipynb_checkpoints\n",
      "  checking : PHYS 308 - More Python-checkpoint.ipynb\n",
      "Currently searching /Users/jdolen/Dropbox/0_Teaching/PHYS_308_Scientific_Compuation/JupyterNotebooks/MorePython/Images\n",
      "Searching folder: Images\n",
      "  checking : dog1.jpg\n",
      "     -> Found jpg!: dog1.jpg\n",
      "  checking : dog2.jpg\n",
      "     -> Found jpg!: dog2.jpg\n",
      "  checking : dog3.jpg\n",
      "     -> Found jpg!: dog3.jpg\n",
      "  checking : dog4.jpg\n",
      "     -> Found jpg!: dog4.jpg\n",
      "\n",
      "total number of .jpg files found: 5\n"
     ]
    }
   ],
   "source": [
    "# Search directory and all sub-directories for jpg files\n",
    "#   use os walk()\n",
    "#       returns 3 items: the root directory, a list of directories below the root directory, and a list of files\n",
    "import os\n",
    "\n",
    "searchdir = os.getcwd()  \n",
    "\n",
    "count = 0\n",
    "for root, dirs, files in os.walk(searchdir):\n",
    "    \n",
    "    # ugly print:\n",
    "    #print(\"Currently searching\", root)\n",
    "    # nicer print:\n",
    "    #    Note: os.path.split() splits a pathname into (head,tail) where tail is after the last /\n",
    "    (path,folder) = os.path.split(root)    \n",
    "    print(\"Searching folder:\", folder)  \n",
    "    \n",
    "    for name in files:\n",
    "        print(\"  checking :\", name)\n",
    "        \n",
    "        # os.path.splitext()  splits a pathname into (root, ext), where ext begins witha period\n",
    "        (base, ext) = os.path.splitext(name) \n",
    "        \n",
    "        if ext in ('.jpg'):                  # check the extension\n",
    "            count += 1\n",
    "            full_name = os.path.join(root, name) # create full path\n",
    "            print(\"     -> Found jpg!:\",name)\n",
    "\n",
    "print('\\ntotal number of .jpg files found: %d' % count)"
   ]
  },
  {
   "cell_type": "code",
   "execution_count": null,
   "metadata": {
    "collapsed": true
   },
   "outputs": [],
   "source": []
  }
 ],
 "metadata": {
  "kernelspec": {
   "display_name": "Python 3",
   "language": "python",
   "name": "python3"
  },
  "language_info": {
   "codemirror_mode": {
    "name": "ipython",
    "version": 3
   },
   "file_extension": ".py",
   "mimetype": "text/x-python",
   "name": "python",
   "nbconvert_exporter": "python",
   "pygments_lexer": "ipython3",
   "version": "3.6.3"
  }
 },
 "nbformat": 4,
 "nbformat_minor": 2
}
