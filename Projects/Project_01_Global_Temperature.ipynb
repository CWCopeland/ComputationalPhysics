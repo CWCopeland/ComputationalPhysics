{
 "cells": [
  {
   "cell_type": "markdown",
   "metadata": {
    "id": "DnzRh46-N90Z"
   },
   "source": [
    "# Project 1: Planet Earth's Global Temperature\n",
    "\n",
    "In this project, we will download temperature data from NASA’s Goddard Institute for Space Studies (GISS) and analyze it using pandas (and possibly seaborn).\n",
    "\n",
    "### Introduction\n",
    "\n",
    "First, we must understand the data collection method. This method was original documented by Hansen and Lebedeff in [1987](https://pubs.giss.nasa.gov/docs/1987/1987_Hansen_ha00700d.pdf) and the study has been repeated many times, including in [2010](https://pubs.giss.nasa.gov/docs/2010/2010_Hansen_ha00510u.pdf). A summary of the data collection method is as follows.\n",
    "1. Thousands of meteorological stations around the world (land and sea) measure the surface air temperature. All measurements discussed here will be in Celsius.\n",
    "1. The world average temperature throughout each month for all stations is calculated. Systematic affects are corrected and uncertainty is estimated.\n",
    "1. The \"**reference monthly average temperature**\" is calculated by averaging over all stations and measurements during each month of the three decade period 1951-1980.\n",
    "1. The \"**temperature anomaly**\" is defined as the world monthly average temperature minus the reference monthly average temperature.\n",
    "\n",
    "### Accessing temperature anomaly data\n",
    "\n",
    "The GISS temperature anomaly data can be found here. https://data.giss.nasa.gov/gistemp/\n",
    "\n",
    "From this link please find and download the CSV file\n",
    "\"Global-mean monthly, seasonal, and annual means, 1880-present, updated through most recent month\". The file name should be `GLB.Ts+dSST.csv`.\n",
    "\n",
    "### Data analysis\n",
    "\n",
    "#### Import packages"
   ]
  },
  {
   "cell_type": "code",
   "execution_count": 1,
   "metadata": {},
   "outputs": [],
   "source": [
    "import pandas as pd\n",
    "import numpy as np\n",
    "import matplotlib.pyplot as plt"
   ]
  },
  {
   "cell_type": "markdown",
   "metadata": {
    "id": "DnzRh46-N90Z"
   },
   "source": [
    "#### Read in the data\n",
    "\n",
    "Use panda's `read_csv()` function with the argument `skiprows=1` to read in the data and setup a `DataFrame`."
   ]
  },
  {
   "cell_type": "code",
   "execution_count": null,
   "metadata": {},
   "outputs": [],
   "source": []
  },
  {
   "cell_type": "markdown",
   "metadata": {
    "tags": []
   },
   "source": [
    "#### Inspect the data\n",
    "\n",
    "Print the `DataFrame` you created.  You should see a \"Year\" column and a column for each month (\"Jan\", \"Feb\", etc.).  There are also columns for select averages.\n",
    "* \"J-D\" = 1 year average temperature (January -> December)\n",
    "* \"D-N\" = 1 year average temperature (December -> November)\n",
    "* \"DJF\" = 3 month average temperature (Dec, Jan, Feb)\n",
    "* \"MAM\" = 3 month average temperature (Mar, Apr, May)\n",
    "* \"JJA\" = 3 month average temperature (Jun, Jul, Aug)\n",
    "* \"SON\" = 3 month average temperature (Sep, Oct, Nov)       "
   ]
  },
  {
   "cell_type": "code",
   "execution_count": null,
   "metadata": {
    "tags": []
   },
   "outputs": [],
   "source": []
  },
  {
   "cell_type": "markdown",
   "metadata": {},
   "source": [
    "#### Data preparation \n",
    "\n",
    "Set the \"Year\" column as the `DataFrame` index."
   ]
  },
  {
   "cell_type": "code",
   "execution_count": null,
   "metadata": {
    "tags": []
   },
   "outputs": [],
   "source": []
  },
  {
   "cell_type": "markdown",
   "metadata": {},
   "source": [
    "Drop the last six columns ('J-D','D-N','DJF','MAM','JJA', and 'SON'), which we will not use."
   ]
  },
  {
   "cell_type": "code",
   "execution_count": null,
   "metadata": {},
   "outputs": [],
   "source": []
  },
  {
   "cell_type": "markdown",
   "metadata": {},
   "source": [
    "#### Data cleaning\n",
    "\n",
    "The data is updated regularly, but some months may not be available yet.  In such cases, the missing data appears as three asterisks (`***`). Replace such entries with something that pandas understands, `NaN`."
   ]
  },
  {
   "cell_type": "code",
   "execution_count": null,
   "metadata": {},
   "outputs": [],
   "source": []
  },
  {
   "cell_type": "markdown",
   "metadata": {},
   "source": [
    "Call `info()` on your `DataFrame`."
   ]
  },
  {
   "cell_type": "code",
   "execution_count": null,
   "metadata": {
    "tags": []
   },
   "outputs": [],
   "source": []
  },
  {
   "cell_type": "markdown",
   "metadata": {},
   "source": [
    "If the `Dtype` of each column isn't `float64`, convert the `DataFrame` using the `astype()` function."
   ]
  },
  {
   "cell_type": "code",
   "execution_count": null,
   "metadata": {
    "tags": []
   },
   "outputs": [],
   "source": []
  },
  {
   "cell_type": "markdown",
   "metadata": {},
   "source": [
    "#### Data visualization"
   ]
  },
  {
   "cell_type": "markdown",
   "metadata": {},
   "source": [
    "Make a plot of the January Temperature Anomaly (column \"Jan\") versus year. Basically you are plotting the data contained in one column of the `DataFrame` versus the index of the `DataFrame` (the year). Label your axes and include temperature units."
   ]
  },
  {
   "cell_type": "code",
   "execution_count": null,
   "metadata": {
    "tags": []
   },
   "outputs": [],
   "source": []
  },
  {
   "cell_type": "markdown",
   "metadata": {},
   "source": [
    "Make the plot again, but with argument `kind='bar'`."
   ]
  },
  {
   "cell_type": "code",
   "execution_count": null,
   "metadata": {},
   "outputs": [],
   "source": []
  },
  {
   "cell_type": "markdown",
   "metadata": {},
   "source": [
    "Make a new column in your new `DataFrame` containing the average temperature anomaly for the year (with column name \"Yearly Avg\") and plot this column versus year. Calculate this average on your own (instead of relying on the \"J-D\" column which we dropped above). This can be done with the pandas `mean()` function. Check the documentation for this function to ensure that you are calculating the average over a row, not a column."
   ]
  },
  {
   "cell_type": "code",
   "execution_count": null,
   "metadata": {},
   "outputs": [],
   "source": []
  },
  {
   "cell_type": "markdown",
   "metadata": {},
   "source": [
    "Make a plot of the yearly average temperature anomaly versus year (as a line graph again). "
   ]
  },
  {
   "cell_type": "code",
   "execution_count": null,
   "metadata": {},
   "outputs": [],
   "source": []
  },
  {
   "cell_type": "markdown",
   "metadata": {},
   "source": [
    "-----------------\n",
    "\n",
    "Use a \"Savitzky–Golay filter\" to smooth the data.  The scipy package includes a [`savgol_filter` function](https://docs.scipy.org/doc/scipy/reference/generated/scipy.signal.savgol_filter.html) which implements this filter.  Try different values of the `window_length` (odd values only) and `polyorder` arguments to find suitable values.  Overlay the raw (in black) and smoothed (in blue) yearly averages.  Include a legend."
   ]
  },
  {
   "cell_type": "code",
   "execution_count": null,
   "metadata": {},
   "outputs": [],
   "source": []
  },
  {
   "cell_type": "markdown",
   "metadata": {},
   "source": [
    "Slice the `DataFrame` to obtain a new `DataFrame` with only the last 10 years worth of data.  Average over these years to find the temperature anomaly for each of the 12 months, and print the result."
   ]
  },
  {
   "cell_type": "code",
   "execution_count": null,
   "metadata": {},
   "outputs": [],
   "source": []
  },
  {
   "cell_type": "markdown",
   "metadata": {},
   "source": [
    "------------\n",
    "\n",
    "On a single set of axes, overlay the raw distribution (in black) with each of the 12 monthly average temperature anomalies (in various colors). Draw the yearly average with a thicker line width to make it stand out. Label your axes and draw a legend. \n",
    "\n",
    "It may help to draw the legend outside the axes using the following syntax:\n",
    "```python\n",
    "plt.legend(bbox_to_anchor=(1.05, 1), loc=2, borderaxespad=0., prop={'size'. 11})\n",
    "```\n",
    "\n",
    "You can use matplotlib [`Colormaps`](https://matplotlib.org/stable/api/matplotlib_configuration_api.html#matplotlib.colormaps) to easily vary the color of each of the 12 monthly distributions."
   ]
  },
  {
   "cell_type": "code",
   "execution_count": null,
   "metadata": {
    "colab": {
     "base_uri": "https://localhost:8080/",
     "height": 702
    },
    "id": "OMd1lMjvN90k",
    "outputId": "9de19393-7334-4612-8a80-f67b82fd8c68"
   },
   "outputs": [],
   "source": []
  },
  {
   "cell_type": "markdown",
   "metadata": {},
   "source": [
    "Plot the temperature anomaly versus month. This time, do this for every every year (so there will be hundreds of lines drawn). \n",
    "\n",
    "Begin by using the `transpose()` function to convert the `DataFrame` indices to columns and vice versa."
   ]
  },
  {
   "cell_type": "code",
   "execution_count": null,
   "metadata": {},
   "outputs": [],
   "source": []
  },
  {
   "cell_type": "markdown",
   "metadata": {},
   "source": [
    "Drop the \"Yearly Average\" row so that we only have monthly data in our plot."
   ]
  },
  {
   "cell_type": "code",
   "execution_count": null,
   "metadata": {},
   "outputs": [],
   "source": []
  },
  {
   "cell_type": "markdown",
   "metadata": {},
   "source": [
    "Finally, plot all the distributions on a single set of axes.  Use magenta for the most recent year, and use the \"brg\" `Colormap` for all others (by passing the argument `cmap=\"brg\"` to the `plot()` function). This will ensure that one can tell the old years from the more recent years."
   ]
  },
  {
   "cell_type": "code",
   "execution_count": null,
   "metadata": {},
   "outputs": [],
   "source": []
  },
  {
   "cell_type": "markdown",
   "metadata": {},
   "source": [
    "It can be difficult to interpret such a busy plot.  You should make a simpler plot which can be more easily interpretted.\n",
    "\n",
    "First, create a new `DataFrame` with columns for each decade and rows for each month, which holds the average temperature anomaly."
   ]
  },
  {
   "cell_type": "code",
   "execution_count": null,
   "metadata": {
    "colab": {
     "base_uri": "https://localhost:8080/"
    },
    "id": "3LbBExWgqHxz",
    "outputId": "7fa8228e-b179-4bb9-fa77-cdc38cfb47c8"
   },
   "outputs": [],
   "source": []
  },
  {
   "cell_type": "markdown",
   "metadata": {},
   "source": [
    "On a single set of axes, plot the temperature anomaly versus month for each decade."
   ]
  },
  {
   "cell_type": "code",
   "execution_count": null,
   "metadata": {
    "colab": {
     "base_uri": "https://localhost:8080/",
     "height": 642
    },
    "id": "U91VgC5hsI6u",
    "outputId": "87a9568e-d024-47ef-8211-c0106b36f3b3"
   },
   "outputs": [],
   "source": []
  },
  {
   "cell_type": "markdown",
   "metadata": {},
   "source": [
    "---------------\n",
    "\n",
    "#### Bonus \n",
    "\n",
    "Use seaborn to plot the `DataFrame` as a heatmap. The $y$-axis should be the month and the $x$-axis should be the year. The $z$-axis (the color of the heatmap) should represent the temperature anomaly. Choose a color palette that you think will be a good way of representating the data: https://matplotlib.org/examples/color/colormaps_reference.html."
   ]
  },
  {
   "cell_type": "code",
   "execution_count": null,
   "metadata": {
    "tags": []
   },
   "outputs": [],
   "source": []
  }
 ],
 "metadata": {
  "colab": {
   "provenance": []
  },
  "kernelspec": {
   "display_name": "Python 3 (ipykernel)",
   "language": "python",
   "name": "python3"
  },
  "language_info": {
   "codemirror_mode": {
    "name": "ipython",
    "version": 3
   },
   "file_extension": ".py",
   "mimetype": "text/x-python",
   "name": "python",
   "nbconvert_exporter": "python",
   "pygments_lexer": "ipython3",
   "version": "3.7.12"
  }
 },
 "nbformat": 4,
 "nbformat_minor": 4
}
